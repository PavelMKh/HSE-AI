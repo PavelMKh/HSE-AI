{
  "cells": [
    {
      "cell_type": "markdown",
      "metadata": {
        "id": "Jv6Vdm_CV6bQ"
      },
      "source": [
        "<center>\n",
        "<img src=\"https://raw.githubusercontent.com/FUlyankin/r_probability/master/end_seminars_2020/sem08/real_expect.png\" width=\"500\">\n",
        "\n",
        "# Домашнее задание 6: параметрические тесты\n",
        "</center>"
      ]
    },
    {
      "cell_type": "markdown",
      "metadata": {
        "id": "PMxq_rDeV6bR"
      },
      "source": [
        "**ФИО:** Хоменко Павел Михайлович"
      ]
    },
    {
      "cell_type": "markdown",
      "metadata": {
        "id": "P6OSRMW9V6bR"
      },
      "source": [
        "## Общая информация\n",
        "\n",
        "__Дата выдачи:__ 23.04.2025\n",
        "\n",
        "__Дедлайн:__ 23:59MSK 11.05.2025"
      ]
    },
    {
      "cell_type": "code",
      "execution_count": 3,
      "metadata": {
        "id": "I1bGKk8IV6bS"
      },
      "outputs": [],
      "source": [
        "import numpy as np\n",
        "import pandas as pd\n",
        "\n",
        "import scipy.stats as sts\n",
        "import matplotlib.pyplot as plt\n",
        "import seaborn as sns"
      ]
    },
    {
      "cell_type": "markdown",
      "metadata": {
        "id": "fBkKR7AaV6bS"
      },
      "source": [
        "### Задача №1: Лучше найди себе девушку! (25 баллов)"
      ]
    },
    {
      "cell_type": "markdown",
      "metadata": {
        "id": "IjdLrSHCV6bS"
      },
      "source": [
        "В этой задаче вам предстоит проверить несколько гипотез на датасете из американского сервиса знакомств. Датасет называется `dating_is_hard.csv`\n",
        "\n",
        "Колонки датасета:\n",
        "- `age` - возраст\n",
        "- `is_heavy_drinker` - алкоголизм в булевом виде\n",
        "- `height` - рост в дюймах\n",
        "- `sex` - полов может быть только два - f для женщин и m для мужчин.\n",
        "- `smokes` - зависимость от табака в булевом виде\n",
        "- `location` - место жительства\n",
        "- `offspring` - отношение к детям\n",
        "\n",
        "Для каждого пункта нужно расписать нулевую и альтернативную гипотезу, описать какой именно критерий вы используете, перечислить предпослыки необходимые для его использования, а также вычислить значение статистики и p-value, если это возможно."
      ]
    },
    {
      "cell_type": "code",
      "execution_count": null,
      "metadata": {
        "id": "jNG-dzBjV6bT"
      },
      "outputs": [],
      "source": [
        "df = pd.read_csv('dating_is_hard.csv')"
      ]
    },
    {
      "cell_type": "markdown",
      "metadata": {
        "id": "KmFi6jHpV6bT"
      },
      "source": [
        "__a) [5 баллов]__ Рост в приложениях для знакомств не проверяют, поэтому можно поставить себе любой и никто не узнает. Посмотрим же, врут ли люди о своём росте.\n",
        "\n",
        "Проверьте две гипотезы: совпадает ли средний рост мужчин в приложении с их реальным средним ростом и совпадает ли средний рост женщин в приложении с их реальным средним ростом\n",
        "\n",
        "__P.S.__ Средний рост мы вам не дамим. Ищите сами и приложите ссылку на источник в решении."
      ]
    },
    {
      "cell_type": "code",
      "execution_count": null,
      "metadata": {
        "colab": {
          "base_uri": "https://localhost:8080/"
        },
        "id": "_wIz_lczV6bT",
        "outputId": "e16d9f99-6d27-453d-eaa0-1c651585ef81"
      },
      "outputs": [
        {
          "output_type": "stream",
          "name": "stdout",
          "text": [
            "<class 'pandas.core.frame.DataFrame'>\n",
            "RangeIndex: 1000 entries, 0 to 999\n",
            "Data columns (total 8 columns):\n",
            " #   Column            Non-Null Count  Dtype \n",
            "---  ------            --------------  ----- \n",
            " 0   Unnamed: 0        1000 non-null   object\n",
            " 1   age               1000 non-null   int64 \n",
            " 2   is_heavy_drinker  1000 non-null   bool  \n",
            " 3   height            1000 non-null   int64 \n",
            " 4   sex               1000 non-null   object\n",
            " 5   smokes            1000 non-null   bool  \n",
            " 6   location          1000 non-null   object\n",
            " 7   offspring         1000 non-null   object\n",
            "dtypes: bool(2), int64(2), object(4)\n",
            "memory usage: 49.0+ KB\n"
          ]
        }
      ],
      "source": [
        "df.info()"
      ]
    },
    {
      "cell_type": "markdown",
      "source": [
        "По данным интернета средний рост в США:\n",
        "- мужчины - 1.77 метра (или 69,68 дюймов)\n",
        "- женщины - 1.63 метра (или 64,17 дюймов)\n",
        "\n",
        "https://www.worlddata.info/average-bodyheight.php#:~:text=Average%20sizes%20of%20men%20and,a%20height%20of%201.63%20m."
      ],
      "metadata": {
        "id": "jlfhz2ZZWVNb"
      }
    },
    {
      "cell_type": "code",
      "source": [
        "sns.histplot(data=df, x='height', hue='sex')"
      ],
      "metadata": {
        "colab": {
          "base_uri": "https://localhost:8080/",
          "height": 466
        },
        "id": "iPBh61FoY_GL",
        "outputId": "bc93b124-c0b9-44ba-8f7c-ac823b5e7ad8"
      },
      "execution_count": null,
      "outputs": [
        {
          "output_type": "execute_result",
          "data": {
            "text/plain": [
              "<Axes: xlabel='height', ylabel='Count'>"
            ]
          },
          "metadata": {},
          "execution_count": 7
        },
        {
          "output_type": "display_data",
          "data": {
            "text/plain": [
              "<Figure size 640x480 with 1 Axes>"
            ],
            "image/png": "[encoded data removed]"
          },
          "metadata": {}
        }
      ]
    },
    {
      "cell_type": "code",
      "source": [
        "sns.boxplot(x=df.height, y=df.sex)"
      ],
      "metadata": {
        "colab": {
          "base_uri": "https://localhost:8080/",
          "height": 466
        },
        "id": "Z7E9qzSlbqrY",
        "outputId": "29ea71e2-60b3-4c95-e153-74ee7cbe8e83"
      },
      "execution_count": null,
      "outputs": [
        {
          "output_type": "execute_result",
          "data": {
            "text/plain": [
              "<Axes: xlabel='height', ylabel='sex'>"
            ]
          },
          "metadata": {},
          "execution_count": 8
        },
        {
          "output_type": "display_data",
          "data": {
            "text/plain": [
              "<Figure size 640x480 with 1 Axes>"
            ],
            "image/png": "[encoded data removed]"
          },
          "metadata": {}
        }
      ]
    },
    {
      "cell_type": "markdown",
      "source": [
        "В данных имеется небольшая доля выбросов, но сами выборсы \"несильные\", такие значения роста можно встретить в реальности. При размере выборки ~1000 влияние небольшого количества \"несильных\" выбросов нивелируется за счет ЦПТ. Для большей уверенности проверим смещение средних. Если оно отсутствует - смело используем z-тест."
      ],
      "metadata": {
        "id": "TvhXnejDlhlf"
      }
    },
    {
      "cell_type": "code",
      "source": [
        "print(f\"Средний рост мужчины: {df[df['sex'] == 'm']['height'].mean():.2f}\")\n",
        "print(f\"Медианный рост мужчины: {df[df['sex'] == 'm']['height'].median():.2f}\")\n",
        "print(f\"Мода роста мужчины: {df[df['sex'] == 'm']['height'].mode().values[0]:.2f}\")"
      ],
      "metadata": {
        "colab": {
          "base_uri": "https://localhost:8080/"
        },
        "id": "bvCO1HQ-k7ho",
        "outputId": "66878d06-5576-4a6d-a3a6-bdd7fec5bc15"
      },
      "execution_count": null,
      "outputs": [
        {
          "output_type": "stream",
          "name": "stdout",
          "text": [
            "Средний рост мужчины: 70.30\n",
            "Медианный рост мужчины: 70.00\n",
            "Мода роста мужчины: 70.00\n"
          ]
        }
      ]
    },
    {
      "cell_type": "code",
      "source": [
        "print(f\"Средний рост девушки: {df[df['sex'] == 'f']['height'].mean():.2f}\")\n",
        "print(f\"Медианный рост девушки: {df[df['sex'] == 'f']['height'].median():.2f}\")\n",
        "print(f\"Мода роста девушки: {df[df['sex'] == 'f']['height'].mode().values[0]:.2f}\")"
      ],
      "metadata": {
        "colab": {
          "base_uri": "https://localhost:8080/"
        },
        "id": "uBZAFaTvlrLT",
        "outputId": "411e753e-3772-4845-ab13-f88a6f612ab5"
      },
      "execution_count": null,
      "outputs": [
        {
          "output_type": "stream",
          "name": "stdout",
          "text": [
            "Средний рост девушки: 64.83\n",
            "Медианный рост девушки: 65.00\n",
            "Мода роста девушки: 64.00\n"
          ]
        }
      ]
    },
    {
      "cell_type": "code",
      "source": [
        "65 / 64 - 1"
      ],
      "metadata": {
        "colab": {
          "base_uri": "https://localhost:8080/"
        },
        "id": "iHcayjFDmQVO",
        "outputId": "195f9e7a-342b-4554-f884-4744086cb18e"
      },
      "execution_count": null,
      "outputs": [
        {
          "output_type": "execute_result",
          "data": {
            "text/plain": [
              "0.015625"
            ]
          },
          "metadata": {},
          "execution_count": 26
        }
      ]
    },
    {
      "cell_type": "markdown",
      "source": [
        "Критического смещения средних нет ни для мужчин, ни для женщин. При n = 1 000 можно использовать z-тест для проверки гипотезы о средних."
      ],
      "metadata": {
        "id": "_8csf7PhmLSj"
      }
    },
    {
      "cell_type": "markdown",
      "source": [
        "Сформулируем гипотезы. Вероятно, мужчины склонны завышать рост. Есть какой-то стереотип, что высокие мужчины более привлекательны для женщин. Поэтому у мужчины будем использовать правосторонний критерий, гипотезы для мужчин будут выглядеть следующим образом:\n",
        "- H0 - средний рост в приложении не выше реального среднего роста мужчины\n",
        "- H1 - средний рост в приложении выше реального среднего роста\n",
        "\n",
        "У девушек сложно выдвинуть априорное предположение о росте, поэтому будем использовать двухсторонний критерий. Гипотезы будут следующими:\n",
        "- H0 - средний рост в приложении не отличается реального среднего роста мужчины\n",
        "- H1 - средний рост в приложении отличается от реального среднего роста\n",
        "\n",
        "Уровень статистической значимости зададим 0.05."
      ],
      "metadata": {
        "id": "Pp8UJsDyZ_HQ"
      }
    },
    {
      "cell_type": "code",
      "source": [
        "# чтобы лучше запоминить я решил не писать функцию, а посчитать руками\n",
        "mean_male_app = df[df['sex'] == 'm']['height'].mean()\n",
        "mean_male_true = 69.68\n",
        "std_male_app = df[df['sex'] == 'm']['height'].std()\n",
        "\n",
        "z_obs = (mean_male_app - mean_male_true) / std_male_app\n",
        "\n",
        "z_crit = sts.norm().ppf(1 - 0.05)\n",
        "\n",
        "p_value = 1 - sts.norm().cdf(z_obs)\n",
        "\n",
        "print(f\"Наблюдаемое значение z-статистики: {z_obs:.2f}\")\n",
        "print(f\"Теоретическое значение z-статистики: {z_crit:.2f}\")\n",
        "print(f\"Наблюдаемый уровень статистической значимости: {p_value:.2f}\")"
      ],
      "metadata": {
        "colab": {
          "base_uri": "https://localhost:8080/"
        },
        "id": "l1iWJQ-sezvd",
        "outputId": "8eba3b5d-ebcd-4f4d-fba5-a8b372504f70"
      },
      "execution_count": null,
      "outputs": [
        {
          "output_type": "stream",
          "name": "stdout",
          "text": [
            "Наблюдаемое значение z-статистики: 0.22\n",
            "Теоретическое значение z-статистики: 1.64\n",
            "Наблюдаемый уровень статистической значимости: 0.41\n"
          ]
        }
      ]
    },
    {
      "cell_type": "code",
      "source": [
        "# аналогично для девушек\n",
        "mean_female_app = df[df['sex'] == 'f']['height'].mean()\n",
        "mean_female_true = 69.68\n",
        "std_female_app = df[df['sex'] == 'f']['height'].std()\n",
        "\n",
        "z_obs = (mean_female_app - mean_female_true) / std_female_app\n",
        "\n",
        "p_value = 2 * (1 - sts.norm().cdf(np.abs(z_obs)))\n",
        "\n",
        "z_crit = sts.norm().ppf(1 - 0.05/2)\n",
        "\n",
        "print(f\"Наблюдаемое значение z-статистики: {z_obs:.2f}\")\n",
        "print(f\"Теоретическое значение z-статистики: {z_crit:.2f}\")\n",
        "print(f\"Наблюдаемый уровень статистической значимости: {p_value:.2f}\")"
      ],
      "metadata": {
        "colab": {
          "base_uri": "https://localhost:8080/"
        },
        "id": "3Ee3UJOghA1C",
        "outputId": "068ea06a-61c8-49ce-9a27-2012673b2cab"
      },
      "execution_count": null,
      "outputs": [
        {
          "output_type": "stream",
          "name": "stdout",
          "text": [
            "Наблюдаемое значение z-статистики: -1.79\n",
            "Теоретическое значение z-статистики: 1.96\n",
            "Наблюдаемый уровень статистической значимости: 0.07\n"
          ]
        }
      ]
    },
    {
      "cell_type": "code",
      "source": [
        "# проведем левосторонний тест для девушек\n",
        "\n",
        "p_value = sts.norm().cdf(z_crit_obs)\n",
        "z_crit = -sts.norm().ppf(1 - 0.05)\n",
        "\n",
        "print(f\"Наблюдаемое значение z-статистики: {z_crit_obs:.2f}\")\n",
        "print(f\"Теоретическое значение z-статистики: {z_crit:.2f}\")\n",
        "print(f\"Наблюдаемый уровень статистической значимости: {p_value:.2f}\")"
      ],
      "metadata": {
        "colab": {
          "base_uri": "https://localhost:8080/"
        },
        "id": "h32ajAHRjHP9",
        "outputId": "b987f5be-f9f7-4b7b-f862-402e6f573994"
      },
      "execution_count": null,
      "outputs": [
        {
          "output_type": "stream",
          "name": "stdout",
          "text": [
            "Наблюдаемое значение z-статистики: -1.79\n",
            "Теоретическое значение z-статистики: -1.64\n",
            "Наблюдаемый уровень статистической значимости: 0.04\n"
          ]
        }
      ]
    },
    {
      "cell_type": "markdown",
      "metadata": {
        "id": "jztuVSYbV6bT"
      },
      "source": [
        "__Вывод:__\n",
        "- мужчины склонны указывать реальный рост - наблюдаемое значение z-критерия для мужчин говорит о том, что средний рост мужчины в приложении соответствует среднему росту в реальной жизни (наблюдаемое z = 0.22 при любой направленности теста приведет к неотклонению нулевой гипотезы)\n",
        "- при этом девушки склонны занижать свой рост - средний рост в приложении ниже, чем реальный. Z-критерий -1.79, наблюдаемый уровень статистической значимости 0.04. Возможно девушки хотят соответственовать неким стереотипам о хрупкости и женственности."
      ]
    },
    {
      "cell_type": "markdown",
      "metadata": {
        "id": "f8ZJHarpV6bT"
      },
      "source": [
        "__б) [10 баллов]__ По моим наблюдениям (состоящим из одного человека) мужчин-алкоголиков гораздо больше женщин. В нашем датасете алкоголизмом мы будем считать параметр `is_heavy_drinker`\n",
        "\n",
        "Проверьте гипотезу: Действительно ли доля мужчин-алкоголиков выше доли женщин-алкоголиков?"
      ]
    },
    {
      "cell_type": "code",
      "execution_count": null,
      "metadata": {
        "colab": {
          "base_uri": "https://localhost:8080/"
        },
        "id": "G0H3fmSdV6bT",
        "outputId": "9cb240f6-3b59-470e-c277-009c1d3e836c"
      },
      "outputs": [
        {
          "output_type": "execute_result",
          "data": {
            "text/plain": [
              "(0.085, 0.051666666666666666)"
            ]
          },
          "metadata": {},
          "execution_count": 40
        }
      ],
      "source": [
        "share_male = df[(df['sex'] == 'm') & (df['is_heavy_drinker'] == True)]['sex'].count() / df[df['sex'] == 'm']['sex'].count()\n",
        "share_female = df[(df['sex'] == 'f') & (df['is_heavy_drinker'] == True)]['sex'].count() / df[df['sex'] == 'm']['sex'].count()\n",
        "\n",
        "float(share_male), float(share_female)"
      ]
    },
    {
      "cell_type": "code",
      "source": [
        "float(share_male) / float(share_female) - 1"
      ],
      "metadata": {
        "colab": {
          "base_uri": "https://localhost:8080/"
        },
        "id": "vaelZQWkpTuK",
        "outputId": "111a1283-cd15-405f-a147-eea479c5becb"
      },
      "execution_count": null,
      "outputs": [
        {
          "output_type": "execute_result",
          "data": {
            "text/plain": [
              "0.6451612903225807"
            ]
          },
          "metadata": {},
          "execution_count": 41
        }
      ]
    },
    {
      "cell_type": "markdown",
      "source": [
        "В целом, невооруженным глазом видно, что автор задания прав. Сформулируем 2 гипотезы:\n",
        "- H0: доля алкоголиков мужчины не превышает долю алкоголиков женщин\n",
        "- H1: доля алкоголиков мужчины выше, чем доля алкоголиков женщин"
      ],
      "metadata": {
        "id": "al-VCzb9pKNy"
      }
    },
    {
      "cell_type": "code",
      "source": [
        "diff = share_male - share_female\n",
        "n_male, n_female = df[df['sex'] == 'm']['sex'].count(), df[df['sex'] == 'f']['sex'].count()\n",
        "m_male = df[(df['sex'] == 'm') & (df['is_heavy_drinker'] == True)]['sex'].count()\n",
        "m_female = df[(df['sex'] == 'f') & (df['is_heavy_drinker'] == True)]['sex'].count()\n",
        "\n",
        "P = (m_male + m_female)/(n_male + n_female)\n",
        "diff_std = np.sqrt(P*(1 - P)*(1/n_male + 1/n_female))\n",
        "\n",
        "z_obs = diff/diff_std\n",
        "z_crit = sts.norm.ppf(1 - 0.05)\n",
        "\n",
        "print(f\"Наблюдаемое значение z-статистики: {z_obs:.2f}\")\n",
        "print(f\"Теоретическое значение z-статистики: {z_crit:.2f}\")"
      ],
      "metadata": {
        "colab": {
          "base_uri": "https://localhost:8080/"
        },
        "id": "f-mbWHq5p3DV",
        "outputId": "ab2ec8ee-bab0-4655-b1f5-3d062d4834fd"
      },
      "execution_count": null,
      "outputs": [
        {
          "output_type": "stream",
          "name": "stdout",
          "text": [
            "Наблюдаемое значение z-статистики: 1.88\n",
            "Теоретическое значение z-статистики: 1.64\n"
          ]
        }
      ]
    },
    {
      "cell_type": "markdown",
      "metadata": {
        "id": "uGxE6dT0V6bU"
      },
      "source": [
        "__Вывод:__ поскольку z-наблюдаемое > z-крит, нулевая гипотеза отклоняется. Доля алкоголиков-мужчин действительно больше доли алкоголиков среди женщин."
      ]
    },
    {
      "cell_type": "markdown",
      "metadata": {
        "id": "1k83CMdYV6bU"
      },
      "source": [
        "__в) [10 баллов]__ Мой друг Володька решил бросить курить и теперь курит только когда пьёт. Это навело меня на мысль о том, что курение привлекает алкоголиков сильнее, чем обычных людей.\n",
        "\n",
        "Проверьте гипотезу: Действительно ли алкоголики больше склонны к курению, чем неалкоголики?"
      ]
    },
    {
      "cell_type": "code",
      "source": [
        "share_drink = df[(df['smokes'] == True) & (df['is_heavy_drinker'] == True)]['smokes'].count() / df[df['is_heavy_drinker'] == True]['smokes'].count()\n",
        "share_non_drink = df[(df['smokes'] == True) & (df['is_heavy_drinker'] == False)]['smokes'].count() / df[df['is_heavy_drinker'] == False]['smokes'].count()\n",
        "\n",
        "float(share_drink), float(share_non_drink)"
      ],
      "metadata": {
        "colab": {
          "base_uri": "https://localhost:8080/"
        },
        "id": "qz0Pgdqo0msj",
        "outputId": "17b98936-7c1e-4f4b-b7e2-ef195dcc2b33"
      },
      "execution_count": null,
      "outputs": [
        {
          "output_type": "execute_result",
          "data": {
            "text/plain": [
              "(0.4268292682926829, 0.3888888888888889)"
            ]
          },
          "metadata": {},
          "execution_count": 55
        }
      ]
    },
    {
      "cell_type": "markdown",
      "source": [
        "В целом видно, что доли сильно не отличаются. Проверим это статистическим тестом."
      ],
      "metadata": {
        "id": "s-rz4K2e0sUP"
      }
    },
    {
      "cell_type": "markdown",
      "source": [
        "Сформулируем 2 гипотезы:\n",
        "- H0: доля курящих среди алкоголиков не выше, чем среди не алкоголиков\n",
        "- H1: доля курящих среди алкоголиков выше, чем среди не алкоголиков\n",
        "\n",
        "Для проверки используем правосторонний z-тест для разности долей."
      ],
      "metadata": {
        "id": "dfIvr8oetxkt"
      }
    },
    {
      "cell_type": "code",
      "source": [
        "m_drink = df[(df['smokes'] == True) & (df['is_heavy_drinker'] == True)]['smokes'].count()\n",
        "m_non_drink = df[(df['smokes'] == True) & (df['is_heavy_drinker'] == False)]['smokes'].count()\n",
        "\n",
        "n_drink, n_non_drink = df[df['is_heavy_drinker'] == True]['smokes'].count(), df[df['is_heavy_drinker'] == False]['smokes'].count()\n",
        "\n",
        "diff = share_drink - share_non_drink\n",
        "\n",
        "P = (m_drink + m_non_drink)/(n_drink + n_non_drink)\n",
        "diff_std = np.sqrt(P*(1 - P)*(1/n_drink + 1/n_non_drink))\n",
        "\n",
        "z_obs = diff/diff_std\n",
        "z_crit = sts.norm.ppf(1 - 0.05)\n",
        "\n",
        "print(f\"Наблюдаемое значение z-статистики: {z_obs:.2f}\")\n",
        "print(f\"Теоретическое значение z-статистики: {z_crit:.2f}\")"
      ],
      "metadata": {
        "colab": {
          "base_uri": "https://localhost:8080/"
        },
        "id": "bjxtvpTAyT1n",
        "outputId": "f16638b3-b782-44a1-ecf7-b65fffcbbc1b"
      },
      "execution_count": null,
      "outputs": [
        {
          "output_type": "stream",
          "name": "stdout",
          "text": [
            "Наблюдаемое значение z-статистики: 0.67\n",
            "Теоретическое значение z-статистики: 1.64\n"
          ]
        }
      ]
    },
    {
      "cell_type": "markdown",
      "metadata": {
        "id": "wZemf4x2V6bU"
      },
      "source": [
        "**Вывод:** поскольку z-наблюдаемое ниже z-крит, нулевая гипотеза не отвергается. Для курящих среди алкоголиков не превышает долю курящих среди неалкоголиков."
      ]
    },
    {
      "cell_type": "markdown",
      "metadata": {
        "id": "OUsS9MmwV6bU"
      },
      "source": [
        "### Задача №2. Тестируем новый интерфейс страницы отеля  (25 баллов)"
      ]
    },
    {
      "cell_type": "markdown",
      "metadata": {
        "id": "jl983kfOV6bV"
      },
      "source": [
        "Все мы любим отдыхать! А злые корпорации любят наживаться на нашем желании отдыхать.\n",
        "\n",
        "Представим что вы работаете в одной из таких корпораций и занимаетесь аналитикой сайта для бронирования отелей. Процесс бронирования имеет привычную структуру:\n",
        "- вбиваете в поиск направленния и даты\n",
        "- получаете выдачу вариантов отелей\n",
        "- переходите на страницу отеля\n",
        "- нажимаете кнопку \"забронировать\"\n",
        "- попадаете на страницу оплаты\n",
        "- оплачиваете\n",
        "\n",
        "Очевидно, на всех этапах этой воронки вы можете потерять пользователя. Поисследовав поведение пользователей вы решили внести изменения на странице об отеле и хотите чтобы выросла конверсия в бронирования"
      ]
    },
    {
      "cell_type": "markdown",
      "metadata": {
        "id": "rwdmUgCGV6bV"
      },
      "source": [
        "__а) [3 балла]__ Подумайте, какие изменения могли бы быть внесены?\n",
        "\n",
        "**Ваш ответ:**\n",
        "1. Сделать более крупные фотографии самого отеля\n",
        "2. Сделать фотографии разных номеров (стандарт, люкс и тп)\n",
        "3. Выводить оценку и наиболее популярные отзывы об отеле\n",
        "4. Вывести преимущества отеля (1я линия, аквапарк для детей, wifi в номере и тп)\n",
        "\n",
        "В целом, на мой взгляд можно сделать бронирование не со страницы отеля, а непосредственно в выдаче. Для этого на странице выдачи надо выводить ключевую информацию об отеле."
      ]
    },
    {
      "cell_type": "markdown",
      "metadata": {
        "id": "_0zicQCHV6bV"
      },
      "source": [
        "Перед вами датасет `ab_test.csv`, в нем содержатся данные о пользователях в период теста\n",
        "\n",
        "`user_id` - уникальный идентификатор пользователя \\\n",
        "`sex` - пол пользователя \\\n",
        "`datetime` - дата и время посещения сайта (начала сессии) \\\n",
        "`district` - регион расположения отеля \\\n",
        "`hotel_page` - был ли пользователь на странице отеля в сессии \\\n",
        "`payment_page` - был ли пользователь на странице оплаты в сессии \\\n",
        "`payment` - была ли произведена оплата в сессии \\\n",
        "`group` - группа в эксперименте\n",
        "\n",
        "Поскольку изменения вносились на странице отеля нас интересуют именно дошедшие до этой страницы пользователи. Поэтому колонка `hotel_page` принимает значение 1 всегда"
      ]
    },
    {
      "cell_type": "code",
      "execution_count": 4,
      "metadata": {
        "id": "OXRd5hzeV6bV",
        "colab": {
          "base_uri": "https://localhost:8080/",
          "height": 204
        },
        "outputId": "9738cab2-f1e4-494d-a340-0576444a15e0"
      },
      "outputs": [
        {
          "output_type": "execute_result",
          "data": {
            "text/plain": [
              "   Unnamed: 0              user_id  sex             datetime  \\\n",
              "0           0  3326449108867616315    1  11/15/2023 12:02 AM   \n",
              "1           1  7887645543455909870    1  11/02/2023 09:12 PM   \n",
              "2           2  6148146969124793824    1  11/10/2023 10:06 AM   \n",
              "3           3  2721602951940155275    0  11/12/2023 07:10 PM   \n",
              "4           4  1829030712785972138    0  05/01/2024 05:19 AM   \n",
              "\n",
              "                        district  hotel_page  payment_page  payment    group  \n",
              "0        Южный федеральный округ           1             1        0  control  \n",
              "1  Центральный федеральный округ           1             1        0  control  \n",
              "2  Центральный федеральный округ           1             1        1  control  \n",
              "3  Центральный федеральный округ           1             1        0  control  \n",
              "4        Южный федеральный округ           1             0        0     test  "
            ],
            "text/html": [
              "\n",
              "  <div id=\"df-a246360b-02e5-4d3f-9eda-fe3ad3667a94\" class=\"colab-df-container\">\n",
              "    <div>\n",
              "<style scoped>\n",
              "    .dataframe tbody tr th:only-of-type {\n",
              "        vertical-align: middle;\n",
              "    }\n",
              "\n",
              "    .dataframe tbody tr th {\n",
              "        vertical-align: top;\n",
              "    }\n",
              "\n",
              "    .dataframe thead th {\n",
              "        text-align: right;\n",
              "    }\n",
              "</style>\n",
              "<table border=\"1\" class=\"dataframe\">\n",
              "  <thead>\n",
              "    <tr style=\"text-align: right;\">\n",
              "      <th></th>\n",
              "      <th>Unnamed: 0</th>\n",
              "      <th>user_id</th>\n",
              "      <th>sex</th>\n",
              "      <th>datetime</th>\n",
              "      <th>district</th>\n",
              "      <th>hotel_page</th>\n",
              "      <th>payment_page</th>\n",
              "      <th>payment</th>\n",
              "      <th>group</th>\n",
              "    </tr>\n",
              "  </thead>\n",
              "  <tbody>\n",
              "    <tr>\n",
              "      <th>0</th>\n",
              "      <td>0</td>\n",
              "      <td>3326449108867616315</td>\n",
              "      <td>1</td>\n",
              "      <td>11/15/2023 12:02 AM</td>\n",
              "      <td>Южный федеральный округ</td>\n",
              "      <td>1</td>\n",
              "      <td>1</td>\n",
              "      <td>0</td>\n",
              "      <td>control</td>\n",
              "    </tr>\n",
              "    <tr>\n",
              "      <th>1</th>\n",
              "      <td>1</td>\n",
              "      <td>7887645543455909870</td>\n",
              "      <td>1</td>\n",
              "      <td>11/02/2023 09:12 PM</td>\n",
              "      <td>Центральный федеральный округ</td>\n",
              "      <td>1</td>\n",
              "      <td>1</td>\n",
              "      <td>0</td>\n",
              "      <td>control</td>\n",
              "    </tr>\n",
              "    <tr>\n",
              "      <th>2</th>\n",
              "      <td>2</td>\n",
              "      <td>6148146969124793824</td>\n",
              "      <td>1</td>\n",
              "      <td>11/10/2023 10:06 AM</td>\n",
              "      <td>Центральный федеральный округ</td>\n",
              "      <td>1</td>\n",
              "      <td>1</td>\n",
              "      <td>1</td>\n",
              "      <td>control</td>\n",
              "    </tr>\n",
              "    <tr>\n",
              "      <th>3</th>\n",
              "      <td>3</td>\n",
              "      <td>2721602951940155275</td>\n",
              "      <td>0</td>\n",
              "      <td>11/12/2023 07:10 PM</td>\n",
              "      <td>Центральный федеральный округ</td>\n",
              "      <td>1</td>\n",
              "      <td>1</td>\n",
              "      <td>0</td>\n",
              "      <td>control</td>\n",
              "    </tr>\n",
              "    <tr>\n",
              "      <th>4</th>\n",
              "      <td>4</td>\n",
              "      <td>1829030712785972138</td>\n",
              "      <td>0</td>\n",
              "      <td>05/01/2024 05:19 AM</td>\n",
              "      <td>Южный федеральный округ</td>\n",
              "      <td>1</td>\n",
              "      <td>0</td>\n",
              "      <td>0</td>\n",
              "      <td>test</td>\n",
              "    </tr>\n",
              "  </tbody>\n",
              "</table>\n",
              "</div>\n",
              "    <div class=\"colab-df-buttons\">\n",
              "\n",
              "  <div class=\"colab-df-container\">\n",
              "    <button class=\"colab-df-convert\" onclick=\"convertToInteractive('df-a246360b-02e5-4d3f-9eda-fe3ad3667a94')\"\n",
              "            title=\"Convert this dataframe to an interactive table.\"\n",
              "            style=\"display:none;\">\n",
              "\n",
              "  <svg xmlns=\"http://www.w3.org/2000/svg\" height=\"24px\" viewBox=\"0 -960 960 960\">\n",
              "    <path d=\"M120-120v-720h720v720H120Zm60-500h600v-160H180v160Zm220 220h160v-160H400v160Zm0 220h160v-160H400v160ZM180-400h160v-160H180v160Zm440 0h160v-160H620v160ZM180-180h160v-160H180v160Zm440 0h160v-160H620v160Z\"/>\n",
              "  </svg>\n",
              "    </button>\n",
              "\n",
              "  <style>\n",
              "    .colab-df-container {\n",
              "      display:flex;\n",
              "      gap: 12px;\n",
              "    }\n",
              "\n",
              "    .colab-df-convert {\n",
              "      background-color: #E8F0FE;\n",
              "      border: none;\n",
              "      border-radius: 50%;\n",
              "      cursor: pointer;\n",
              "      display: none;\n",
              "      fill: #1967D2;\n",
              "      height: 32px;\n",
              "      padding: 0 0 0 0;\n",
              "      width: 32px;\n",
              "    }\n",
              "\n",
              "    .colab-df-convert:hover {\n",
              "      background-color: #E2EBFA;\n",
              "      box-shadow: 0px 1px 2px rgba(60, 64, 67, 0.3), 0px 1px 3px 1px rgba(60, 64, 67, 0.15);\n",
              "      fill: #174EA6;\n",
              "    }\n",
              "\n",
              "    .colab-df-buttons div {\n",
              "      margin-bottom: 4px;\n",
              "    }\n",
              "\n",
              "    [theme=dark] .colab-df-convert {\n",
              "      background-color: #3B4455;\n",
              "      fill: #D2E3FC;\n",
              "    }\n",
              "\n",
              "    [theme=dark] .colab-df-convert:hover {\n",
              "      background-color: #434B5C;\n",
              "      box-shadow: 0px 1px 3px 1px rgba(0, 0, 0, 0.15);\n",
              "      filter: drop-shadow(0px 1px 2px rgba(0, 0, 0, 0.3));\n",
              "      fill: #FFFFFF;\n",
              "    }\n",
              "  </style>\n",
              "\n",
              "    <script>\n",
              "      const buttonEl =\n",
              "        document.querySelector('#df-a246360b-02e5-4d3f-9eda-fe3ad3667a94 button.colab-df-convert');\n",
              "      buttonEl.style.display =\n",
              "        google.colab.kernel.accessAllowed ? 'block' : 'none';\n",
              "\n",
              "      async function convertToInteractive(key) {\n",
              "        const element = document.querySelector('#df-a246360b-02e5-4d3f-9eda-fe3ad3667a94');\n",
              "        const dataTable =\n",
              "          await google.colab.kernel.invokeFunction('convertToInteractive',\n",
              "                                                    [key], {});\n",
              "        if (!dataTable) return;\n",
              "\n",
              "        const docLinkHtml = 'Like what you see? Visit the ' +\n",
              "          '<a target=\"_blank\" href=https://colab.research.google.com/notebooks/data_table.ipynb>data table notebook</a>'\n",
              "          + ' to learn more about interactive tables.';\n",
              "        element.innerHTML = '';\n",
              "        dataTable['output_type'] = 'display_data';\n",
              "        await google.colab.output.renderOutput(dataTable, element);\n",
              "        const docLink = document.createElement('div');\n",
              "        docLink.innerHTML = docLinkHtml;\n",
              "        element.appendChild(docLink);\n",
              "      }\n",
              "    </script>\n",
              "  </div>\n",
              "\n",
              "\n",
              "    <div id=\"df-a253b7eb-ea78-4839-8615-da3668a43c2f\">\n",
              "      <button class=\"colab-df-quickchart\" onclick=\"quickchart('df-a253b7eb-ea78-4839-8615-da3668a43c2f')\"\n",
              "                title=\"Suggest charts\"\n",
              "                style=\"display:none;\">\n",
              "\n",
              "<svg xmlns=\"http://www.w3.org/2000/svg\" height=\"24px\"viewBox=\"0 0 24 24\"\n",
              "     width=\"24px\">\n",
              "    <g>\n",
              "        <path d=\"M19 3H5c-1.1 0-2 .9-2 2v14c0 1.1.9 2 2 2h14c1.1 0 2-.9 2-2V5c0-1.1-.9-2-2-2zM9 17H7v-7h2v7zm4 0h-2V7h2v10zm4 0h-2v-4h2v4z\"/>\n",
              "    </g>\n",
              "</svg>\n",
              "      </button>\n",
              "\n",
              "<style>\n",
              "  .colab-df-quickchart {\n",
              "      --bg-color: #E8F0FE;\n",
              "      --fill-color: #1967D2;\n",
              "      --hover-bg-color: #E2EBFA;\n",
              "      --hover-fill-color: #174EA6;\n",
              "      --disabled-fill-color: #AAA;\n",
              "      --disabled-bg-color: #DDD;\n",
              "  }\n",
              "\n",
              "  [theme=dark] .colab-df-quickchart {\n",
              "      --bg-color: #3B4455;\n",
              "      --fill-color: #D2E3FC;\n",
              "      --hover-bg-color: #434B5C;\n",
              "      --hover-fill-color: #FFFFFF;\n",
              "      --disabled-bg-color: #3B4455;\n",
              "      --disabled-fill-color: #666;\n",
              "  }\n",
              "\n",
              "  .colab-df-quickchart {\n",
              "    background-color: var(--bg-color);\n",
              "    border: none;\n",
              "    border-radius: 50%;\n",
              "    cursor: pointer;\n",
              "    display: none;\n",
              "    fill: var(--fill-color);\n",
              "    height: 32px;\n",
              "    padding: 0;\n",
              "    width: 32px;\n",
              "  }\n",
              "\n",
              "  .colab-df-quickchart:hover {\n",
              "    background-color: var(--hover-bg-color);\n",
              "    box-shadow: 0 1px 2px rgba(60, 64, 67, 0.3), 0 1px 3px 1px rgba(60, 64, 67, 0.15);\n",
              "    fill: var(--button-hover-fill-color);\n",
              "  }\n",
              "\n",
              "  .colab-df-quickchart-complete:disabled,\n",
              "  .colab-df-quickchart-complete:disabled:hover {\n",
              "    background-color: var(--disabled-bg-color);\n",
              "    fill: var(--disabled-fill-color);\n",
              "    box-shadow: none;\n",
              "  }\n",
              "\n",
              "  .colab-df-spinner {\n",
              "    border: 2px solid var(--fill-color);\n",
              "    border-color: transparent;\n",
              "    border-bottom-color: var(--fill-color);\n",
              "    animation:\n",
              "      spin 1s steps(1) infinite;\n",
              "  }\n",
              "\n",
              "  @keyframes spin {\n",
              "    0% {\n",
              "      border-color: transparent;\n",
              "      border-bottom-color: var(--fill-color);\n",
              "      border-left-color: var(--fill-color);\n",
              "    }\n",
              "    20% {\n",
              "      border-color: transparent;\n",
              "      border-left-color: var(--fill-color);\n",
              "      border-top-color: var(--fill-color);\n",
              "    }\n",
              "    30% {\n",
              "      border-color: transparent;\n",
              "      border-left-color: var(--fill-color);\n",
              "      border-top-color: var(--fill-color);\n",
              "      border-right-color: var(--fill-color);\n",
              "    }\n",
              "    40% {\n",
              "      border-color: transparent;\n",
              "      border-right-color: var(--fill-color);\n",
              "      border-top-color: var(--fill-color);\n",
              "    }\n",
              "    60% {\n",
              "      border-color: transparent;\n",
              "      border-right-color: var(--fill-color);\n",
              "    }\n",
              "    80% {\n",
              "      border-color: transparent;\n",
              "      border-right-color: var(--fill-color);\n",
              "      border-bottom-color: var(--fill-color);\n",
              "    }\n",
              "    90% {\n",
              "      border-color: transparent;\n",
              "      border-bottom-color: var(--fill-color);\n",
              "    }\n",
              "  }\n",
              "</style>\n",
              "\n",
              "      <script>\n",
              "        async function quickchart(key) {\n",
              "          const quickchartButtonEl =\n",
              "            document.querySelector('#' + key + ' button');\n",
              "          quickchartButtonEl.disabled = true;  // To prevent multiple clicks.\n",
              "          quickchartButtonEl.classList.add('colab-df-spinner');\n",
              "          try {\n",
              "            const charts = await google.colab.kernel.invokeFunction(\n",
              "                'suggestCharts', [key], {});\n",
              "          } catch (error) {\n",
              "            console.error('Error during call to suggestCharts:', error);\n",
              "          }\n",
              "          quickchartButtonEl.classList.remove('colab-df-spinner');\n",
              "          quickchartButtonEl.classList.add('colab-df-quickchart-complete');\n",
              "        }\n",
              "        (() => {\n",
              "          let quickchartButtonEl =\n",
              "            document.querySelector('#df-a253b7eb-ea78-4839-8615-da3668a43c2f button');\n",
              "          quickchartButtonEl.style.display =\n",
              "            google.colab.kernel.accessAllowed ? 'block' : 'none';\n",
              "        })();\n",
              "      </script>\n",
              "    </div>\n",
              "    </div>\n",
              "  </div>\n"
            ],
            "application/vnd.google.colaboratory.intrinsic+json": {
              "type": "dataframe",
              "variable_name": "df"
            }
          },
          "metadata": {},
          "execution_count": 4
        }
      ],
      "source": [
        "df = pd.read_csv(\"ab_simpson.csv\")\n",
        "df.head()"
      ]
    },
    {
      "cell_type": "markdown",
      "metadata": {
        "id": "O1TXQRVNV6bW"
      },
      "source": [
        "__б) [3 балла]__ Сделайте небольшой eda, какие выводы вы можете сделать о данных? Корректно ли проводился аб тест? Найдите ошибки и объясните почему это некорректно."
      ]
    },
    {
      "cell_type": "code",
      "source": [
        "df.duplicated().sum()"
      ],
      "metadata": {
        "id": "EJ1XSchJZC1e",
        "outputId": "eafcd9c0-73e0-4769-e437-15f7c81806e7",
        "colab": {
          "base_uri": "https://localhost:8080/"
        }
      },
      "execution_count": 58,
      "outputs": [
        {
          "output_type": "execute_result",
          "data": {
            "text/plain": [
              "np.int64(0)"
            ]
          },
          "metadata": {},
          "execution_count": 58
        }
      ]
    },
    {
      "cell_type": "code",
      "source": [
        "df.isna().sum().sum()"
      ],
      "metadata": {
        "id": "FcTffbqfZObR",
        "outputId": "7b826028-fcb9-48c3-eaf8-31741ffd2aa7",
        "colab": {
          "base_uri": "https://localhost:8080/"
        }
      },
      "execution_count": 59,
      "outputs": [
        {
          "output_type": "execute_result",
          "data": {
            "text/plain": [
              "np.int64(0)"
            ]
          },
          "metadata": {},
          "execution_count": 59
        }
      ]
    },
    {
      "cell_type": "code",
      "source": [
        "df.group.value_counts()"
      ],
      "metadata": {
        "colab": {
          "base_uri": "https://localhost:8080/",
          "height": 176
        },
        "id": "v3dh1pc6MkyJ",
        "outputId": "14200d62-e86a-4b17-aa95-8b81a97cfa98"
      },
      "execution_count": 29,
      "outputs": [
        {
          "output_type": "execute_result",
          "data": {
            "text/plain": [
              "group\n",
              "test       201935\n",
              "control    199872\n",
              "Name: count, dtype: int64"
            ],
            "text/html": [
              "<div>\n",
              "<style scoped>\n",
              "    .dataframe tbody tr th:only-of-type {\n",
              "        vertical-align: middle;\n",
              "    }\n",
              "\n",
              "    .dataframe tbody tr th {\n",
              "        vertical-align: top;\n",
              "    }\n",
              "\n",
              "    .dataframe thead th {\n",
              "        text-align: right;\n",
              "    }\n",
              "</style>\n",
              "<table border=\"1\" class=\"dataframe\">\n",
              "  <thead>\n",
              "    <tr style=\"text-align: right;\">\n",
              "      <th></th>\n",
              "      <th>count</th>\n",
              "    </tr>\n",
              "    <tr>\n",
              "      <th>group</th>\n",
              "      <th></th>\n",
              "    </tr>\n",
              "  </thead>\n",
              "  <tbody>\n",
              "    <tr>\n",
              "      <th>test</th>\n",
              "      <td>201935</td>\n",
              "    </tr>\n",
              "    <tr>\n",
              "      <th>control</th>\n",
              "      <td>199872</td>\n",
              "    </tr>\n",
              "  </tbody>\n",
              "</table>\n",
              "</div><br><label><b>dtype:</b> int64</label>"
            ]
          },
          "metadata": {},
          "execution_count": 29
        }
      ]
    },
    {
      "cell_type": "code",
      "source": [
        "df.groupby(['group','sex']).size()"
      ],
      "metadata": {
        "colab": {
          "base_uri": "https://localhost:8080/",
          "height": 238
        },
        "id": "80M802RVMnLt",
        "outputId": "5b1f4abb-843a-4e8b-a159-b1d66b5c28ad"
      },
      "execution_count": 30,
      "outputs": [
        {
          "output_type": "execute_result",
          "data": {
            "text/plain": [
              "group    sex\n",
              "control  0       99991\n",
              "         1       99881\n",
              "test     0      100915\n",
              "         1      101020\n",
              "dtype: int64"
            ],
            "text/html": [
              "<div>\n",
              "<style scoped>\n",
              "    .dataframe tbody tr th:only-of-type {\n",
              "        vertical-align: middle;\n",
              "    }\n",
              "\n",
              "    .dataframe tbody tr th {\n",
              "        vertical-align: top;\n",
              "    }\n",
              "\n",
              "    .dataframe thead th {\n",
              "        text-align: right;\n",
              "    }\n",
              "</style>\n",
              "<table border=\"1\" class=\"dataframe\">\n",
              "  <thead>\n",
              "    <tr style=\"text-align: right;\">\n",
              "      <th></th>\n",
              "      <th></th>\n",
              "      <th>0</th>\n",
              "    </tr>\n",
              "    <tr>\n",
              "      <th>group</th>\n",
              "      <th>sex</th>\n",
              "      <th></th>\n",
              "    </tr>\n",
              "  </thead>\n",
              "  <tbody>\n",
              "    <tr>\n",
              "      <th rowspan=\"2\" valign=\"top\">control</th>\n",
              "      <th>0</th>\n",
              "      <td>99991</td>\n",
              "    </tr>\n",
              "    <tr>\n",
              "      <th>1</th>\n",
              "      <td>99881</td>\n",
              "    </tr>\n",
              "    <tr>\n",
              "      <th rowspan=\"2\" valign=\"top\">test</th>\n",
              "      <th>0</th>\n",
              "      <td>100915</td>\n",
              "    </tr>\n",
              "    <tr>\n",
              "      <th>1</th>\n",
              "      <td>101020</td>\n",
              "    </tr>\n",
              "  </tbody>\n",
              "</table>\n",
              "</div><br><label><b>dtype:</b> int64</label>"
            ]
          },
          "metadata": {},
          "execution_count": 30
        }
      ]
    },
    {
      "cell_type": "code",
      "source": [
        "df['datetime'] = pd.to_datetime(df['datetime'])"
      ],
      "metadata": {
        "colab": {
          "base_uri": "https://localhost:8080/"
        },
        "id": "PGSekmkzLiMU",
        "outputId": "6c79c27d-a06b-4a6a-988b-b20d56bbe443"
      },
      "execution_count": 19,
      "outputs": [
        {
          "output_type": "stream",
          "name": "stderr",
          "text": [
            "<ipython-input-19-a963c6478daf>:1: UserWarning: Could not infer format, so each element will be parsed individually, falling back to `dateutil`. To ensure parsing is consistent and as-expected, please specify a format.\n",
            "  df['datetime'] = pd.to_datetime(df['datetime'])\n"
          ]
        }
      ]
    },
    {
      "cell_type": "code",
      "source": [
        "df[df['group'] == 'control']['datetime'].min(), df[df['group'] == 'control']['datetime'].max()"
      ],
      "metadata": {
        "colab": {
          "base_uri": "https://localhost:8080/"
        },
        "id": "r1hKXiLhLX2Z",
        "outputId": "85a39cbd-7126-4153-f946-dc068b4a89d9"
      },
      "execution_count": 27,
      "outputs": [
        {
          "output_type": "execute_result",
          "data": {
            "text/plain": [
              "(Timestamp('2023-11-01 01:01:00'), Timestamp('2023-11-15 23:58:00'))"
            ]
          },
          "metadata": {},
          "execution_count": 27
        }
      ]
    },
    {
      "cell_type": "code",
      "source": [
        "df[df['group'] == 'test']['datetime'].min(), df[df['group'] == 'test']['datetime'].max()"
      ],
      "metadata": {
        "colab": {
          "base_uri": "https://localhost:8080/"
        },
        "id": "4nn1Aq5UML55",
        "outputId": "b5d6544a-e7db-4e75-bb9a-14fee4404832"
      },
      "execution_count": 28,
      "outputs": [
        {
          "output_type": "execute_result",
          "data": {
            "text/plain": [
              "(Timestamp('2024-04-23 20:30:00'), Timestamp('2024-05-02 23:58:00'))"
            ]
          },
          "metadata": {},
          "execution_count": 28
        }
      ]
    },
    {
      "cell_type": "code",
      "source": [
        "df.groupby(['group', 'district']).size().groupby(level=0).apply(lambda x: x / x.sum() * 100)"
      ],
      "metadata": {
        "colab": {
          "base_uri": "https://localhost:8080/",
          "height": 548
        },
        "id": "7P_qMOD7K2Nf",
        "outputId": "28d81a03-4fb4-4a02-8481-88358523b19f"
      },
      "execution_count": 16,
      "outputs": [
        {
          "output_type": "execute_result",
          "data": {
            "text/plain": [
              "group    group    district                         \n",
              "control  control  Дальневосточный федеральный округ     1.000140\n",
              "                  Приволжский федеральный округ        12.000180\n",
              "                  Северо-Западный федеральный округ    19.999800\n",
              "                  Сибирский федеральный округ           3.999560\n",
              "                  Уральский федеральный округ           2.999920\n",
              "                  Центральный федеральный округ        40.000100\n",
              "                  Южный федеральный округ              20.000300\n",
              "test     test     Дальневосточный федеральный округ     2.999975\n",
              "                  Приволжский федеральный округ        17.999851\n",
              "                  Северо-Западный федеральный округ     5.000124\n",
              "                  Сибирский федеральный округ           4.000297\n",
              "                  Уральский федеральный округ           9.999752\n",
              "                  Центральный федеральный округ        20.000000\n",
              "                  Южный федеральный округ              40.000000\n",
              "dtype: float64"
            ],
            "text/html": [
              "<div>\n",
              "<style scoped>\n",
              "    .dataframe tbody tr th:only-of-type {\n",
              "        vertical-align: middle;\n",
              "    }\n",
              "\n",
              "    .dataframe tbody tr th {\n",
              "        vertical-align: top;\n",
              "    }\n",
              "\n",
              "    .dataframe thead th {\n",
              "        text-align: right;\n",
              "    }\n",
              "</style>\n",
              "<table border=\"1\" class=\"dataframe\">\n",
              "  <thead>\n",
              "    <tr style=\"text-align: right;\">\n",
              "      <th></th>\n",
              "      <th></th>\n",
              "      <th></th>\n",
              "      <th>0</th>\n",
              "    </tr>\n",
              "    <tr>\n",
              "      <th>group</th>\n",
              "      <th>group</th>\n",
              "      <th>district</th>\n",
              "      <th></th>\n",
              "    </tr>\n",
              "  </thead>\n",
              "  <tbody>\n",
              "    <tr>\n",
              "      <th rowspan=\"7\" valign=\"top\">control</th>\n",
              "      <th rowspan=\"7\" valign=\"top\">control</th>\n",
              "      <th>Дальневосточный федеральный округ</th>\n",
              "      <td>1.000140</td>\n",
              "    </tr>\n",
              "    <tr>\n",
              "      <th>Приволжский федеральный округ</th>\n",
              "      <td>12.000180</td>\n",
              "    </tr>\n",
              "    <tr>\n",
              "      <th>Северо-Западный федеральный округ</th>\n",
              "      <td>19.999800</td>\n",
              "    </tr>\n",
              "    <tr>\n",
              "      <th>Сибирский федеральный округ</th>\n",
              "      <td>3.999560</td>\n",
              "    </tr>\n",
              "    <tr>\n",
              "      <th>Уральский федеральный округ</th>\n",
              "      <td>2.999920</td>\n",
              "    </tr>\n",
              "    <tr>\n",
              "      <th>Центральный федеральный округ</th>\n",
              "      <td>40.000100</td>\n",
              "    </tr>\n",
              "    <tr>\n",
              "      <th>Южный федеральный округ</th>\n",
              "      <td>20.000300</td>\n",
              "    </tr>\n",
              "    <tr>\n",
              "      <th rowspan=\"7\" valign=\"top\">test</th>\n",
              "      <th rowspan=\"7\" valign=\"top\">test</th>\n",
              "      <th>Дальневосточный федеральный округ</th>\n",
              "      <td>2.999975</td>\n",
              "    </tr>\n",
              "    <tr>\n",
              "      <th>Приволжский федеральный округ</th>\n",
              "      <td>17.999851</td>\n",
              "    </tr>\n",
              "    <tr>\n",
              "      <th>Северо-Западный федеральный округ</th>\n",
              "      <td>5.000124</td>\n",
              "    </tr>\n",
              "    <tr>\n",
              "      <th>Сибирский федеральный округ</th>\n",
              "      <td>4.000297</td>\n",
              "    </tr>\n",
              "    <tr>\n",
              "      <th>Уральский федеральный округ</th>\n",
              "      <td>9.999752</td>\n",
              "    </tr>\n",
              "    <tr>\n",
              "      <th>Центральный федеральный округ</th>\n",
              "      <td>20.000000</td>\n",
              "    </tr>\n",
              "    <tr>\n",
              "      <th>Южный федеральный округ</th>\n",
              "      <td>40.000000</td>\n",
              "    </tr>\n",
              "  </tbody>\n",
              "</table>\n",
              "</div><br><label><b>dtype:</b> float64</label>"
            ]
          },
          "metadata": {},
          "execution_count": 16
        }
      ]
    },
    {
      "cell_type": "code",
      "source": [
        "df[(df['payment_page'] == 0) & (df['payment'] == 1)].size"
      ],
      "metadata": {
        "id": "RwHGeqPtUDOq",
        "outputId": "e0e1286c-d28e-4ce2-f0a7-a956a26c2815",
        "colab": {
          "base_uri": "https://localhost:8080/"
        }
      },
      "execution_count": 44,
      "outputs": [
        {
          "output_type": "execute_result",
          "data": {
            "text/plain": [
              "274212"
            ]
          },
          "metadata": {},
          "execution_count": 44
        }
      ]
    },
    {
      "cell_type": "code",
      "source": [
        "df[(df['payment_page'] == 0) & (df['payment'] == 1)].size / df.size * 100"
      ],
      "metadata": {
        "id": "4xE6dHZTVaeO",
        "outputId": "e46e9001-7ea4-433d-88ce-2b10e7a7bd86",
        "colab": {
          "base_uri": "https://localhost:8080/"
        }
      },
      "execution_count": 51,
      "outputs": [
        {
          "output_type": "execute_result",
          "data": {
            "text/plain": [
              "7.5827449496897765"
            ]
          },
          "metadata": {},
          "execution_count": 51
        }
      ]
    },
    {
      "cell_type": "code",
      "source": [
        "df[(df['payment_page'] == 0) & (df['payment'] == 1)].groupby(['group', 'district'])['payment_page'].count()"
      ],
      "metadata": {
        "id": "hSChzijPUvTv",
        "outputId": "1b742c49-f136-42ed-a73a-c1455bcc02ae",
        "colab": {
          "base_uri": "https://localhost:8080/",
          "height": 548
        }
      },
      "execution_count": 47,
      "outputs": [
        {
          "output_type": "execute_result",
          "data": {
            "text/plain": [
              "group    district                         \n",
              "control  Дальневосточный федеральный округ     414\n",
              "         Приволжский федеральный округ        2413\n",
              "         Северо-Западный федеральный округ    2987\n",
              "         Сибирский федеральный округ          1378\n",
              "         Уральский федеральный округ           844\n",
              "         Центральный федеральный округ        2028\n",
              "         Южный федеральный округ              2073\n",
              "test     Дальневосточный федеральный округ    1587\n",
              "         Приволжский федеральный округ        4192\n",
              "         Северо-Западный федеральный округ     928\n",
              "         Сибирский федеральный округ          1820\n",
              "         Уральский федеральный округ          3703\n",
              "         Центральный федеральный округ         912\n",
              "         Южный федеральный округ              5189\n",
              "Name: payment_page, dtype: int64"
            ],
            "text/html": [
              "<div>\n",
              "<style scoped>\n",
              "    .dataframe tbody tr th:only-of-type {\n",
              "        vertical-align: middle;\n",
              "    }\n",
              "\n",
              "    .dataframe tbody tr th {\n",
              "        vertical-align: top;\n",
              "    }\n",
              "\n",
              "    .dataframe thead th {\n",
              "        text-align: right;\n",
              "    }\n",
              "</style>\n",
              "<table border=\"1\" class=\"dataframe\">\n",
              "  <thead>\n",
              "    <tr style=\"text-align: right;\">\n",
              "      <th></th>\n",
              "      <th></th>\n",
              "      <th>payment_page</th>\n",
              "    </tr>\n",
              "    <tr>\n",
              "      <th>group</th>\n",
              "      <th>district</th>\n",
              "      <th></th>\n",
              "    </tr>\n",
              "  </thead>\n",
              "  <tbody>\n",
              "    <tr>\n",
              "      <th rowspan=\"7\" valign=\"top\">control</th>\n",
              "      <th>Дальневосточный федеральный округ</th>\n",
              "      <td>414</td>\n",
              "    </tr>\n",
              "    <tr>\n",
              "      <th>Приволжский федеральный округ</th>\n",
              "      <td>2413</td>\n",
              "    </tr>\n",
              "    <tr>\n",
              "      <th>Северо-Западный федеральный округ</th>\n",
              "      <td>2987</td>\n",
              "    </tr>\n",
              "    <tr>\n",
              "      <th>Сибирский федеральный округ</th>\n",
              "      <td>1378</td>\n",
              "    </tr>\n",
              "    <tr>\n",
              "      <th>Уральский федеральный округ</th>\n",
              "      <td>844</td>\n",
              "    </tr>\n",
              "    <tr>\n",
              "      <th>Центральный федеральный округ</th>\n",
              "      <td>2028</td>\n",
              "    </tr>\n",
              "    <tr>\n",
              "      <th>Южный федеральный округ</th>\n",
              "      <td>2073</td>\n",
              "    </tr>\n",
              "    <tr>\n",
              "      <th rowspan=\"7\" valign=\"top\">test</th>\n",
              "      <th>Дальневосточный федеральный округ</th>\n",
              "      <td>1587</td>\n",
              "    </tr>\n",
              "    <tr>\n",
              "      <th>Приволжский федеральный округ</th>\n",
              "      <td>4192</td>\n",
              "    </tr>\n",
              "    <tr>\n",
              "      <th>Северо-Западный федеральный округ</th>\n",
              "      <td>928</td>\n",
              "    </tr>\n",
              "    <tr>\n",
              "      <th>Сибирский федеральный округ</th>\n",
              "      <td>1820</td>\n",
              "    </tr>\n",
              "    <tr>\n",
              "      <th>Уральский федеральный округ</th>\n",
              "      <td>3703</td>\n",
              "    </tr>\n",
              "    <tr>\n",
              "      <th>Центральный федеральный округ</th>\n",
              "      <td>912</td>\n",
              "    </tr>\n",
              "    <tr>\n",
              "      <th>Южный федеральный округ</th>\n",
              "      <td>5189</td>\n",
              "    </tr>\n",
              "  </tbody>\n",
              "</table>\n",
              "</div><br><label><b>dtype:</b> int64</label>"
            ]
          },
          "metadata": {},
          "execution_count": 47
        }
      ]
    },
    {
      "cell_type": "markdown",
      "source": [
        "__Ответ:__ АБ тест проводился некорректно.\n",
        "1. Мы видим, что период для контрольной группы был с 1 по 15 ноября 2023, а для тестовой с 23 апреля по 2 мая 2024. Эксперимент для контрольной и тестовой группы должен проводиться одновременно, либо максимлаьно близко по времени, особенно в сфере бронирования отелей, ввиду влияния сезонного фактора. Мы уже видим, что отели представлены несбалансированно: для весенних месяцев преобладают отели в южном федеральном округе (поскольку уже тепло и туристы едут в теплые регионы), для ноября - центрального и северо-западного (туристы едут в Москву, СПб, Карелию и тп)\n",
        "2. В выборке имеется 274212 пользователей (7,6% выборки), которые оплатили отель онлайн не посещая страницу оплаты. Пока не понятно, с чем это связано. Возможно система фиксации посещения страницы оплаты не срабатывала корректно, либо пользователь платил без посещания страницы оплаты, непосредственно через мобильный Mir Pay, либо мобильное приложение СБП и тп."
      ],
      "metadata": {
        "id": "jrBm6k9sMt-W"
      }
    },
    {
      "cell_type": "markdown",
      "metadata": {
        "id": "8WbGznnLV6bW"
      },
      "source": [
        "Раскроем правду. Изменение продукта касалось адаптации страницы отеля под его регион. Например, в южных регионах пользователям на странице отеля предлагались активности для пляжного отдыха, а в северном и центральном регионе сразу подбирались ближайшие экскурсии и так далее.\n",
        "\n",
        "__в) [5 баллов]__ Проанализируйте, как ведут себя конверсии в страницу оплаты и в оплату в разных регионах? Опишите выводы."
      ]
    },
    {
      "cell_type": "code",
      "execution_count": 56,
      "metadata": {
        "id": "_9dXjSb-V6bW",
        "colab": {
          "base_uri": "https://localhost:8080/",
          "height": 514
        },
        "outputId": "58dbafbf-6284-49ee-bf50-836cf9a5580e"
      },
      "outputs": [
        {
          "output_type": "execute_result",
          "data": {
            "text/plain": [
              "                                           payment_page  payment        conv\n",
              "group   district                                                            \n",
              "control Дальневосточный федеральный округ           200      464  232.000000\n",
              "        Приволжский федеральный округ             14391     6046   42.012369\n",
              "        Северо-Западный федеральный округ         27982    10063   35.962404\n",
              "        Сибирский федеральный округ                2398     1969   82.110092\n",
              "        Уральский федеральный округ                2398     1446   60.300250\n",
              "        Центральный федеральный округ             71954    20049   27.863635\n",
              "        Южный федеральный округ                   31980     9965   31.160100\n",
              "test    Дальневосточный федеральный округ          1212     2028  167.326733\n",
              "        Приволжский федеральный округ             23626    12159   51.464488\n",
              "        Северо-Западный федеральный округ          7270     3353   46.121045\n",
              "        Сибирский федеральный округ                2585     2668  103.210832\n",
              "        Уральский федеральный округ                9087     6666   73.357544\n",
              "        Центральный федеральный округ             37560    13377   35.615016\n",
              "        Южный федеральный округ                   65427    27172   41.530255"
            ],
            "text/html": [
              "\n",
              "  <div id=\"df-08cb21b9-5d70-48c8-bae1-b604a7398a12\" class=\"colab-df-container\">\n",
              "    <div>\n",
              "<style scoped>\n",
              "    .dataframe tbody tr th:only-of-type {\n",
              "        vertical-align: middle;\n",
              "    }\n",
              "\n",
              "    .dataframe tbody tr th {\n",
              "        vertical-align: top;\n",
              "    }\n",
              "\n",
              "    .dataframe thead th {\n",
              "        text-align: right;\n",
              "    }\n",
              "</style>\n",
              "<table border=\"1\" class=\"dataframe\">\n",
              "  <thead>\n",
              "    <tr style=\"text-align: right;\">\n",
              "      <th></th>\n",
              "      <th></th>\n",
              "      <th>payment_page</th>\n",
              "      <th>payment</th>\n",
              "      <th>conv</th>\n",
              "    </tr>\n",
              "    <tr>\n",
              "      <th>group</th>\n",
              "      <th>district</th>\n",
              "      <th></th>\n",
              "      <th></th>\n",
              "      <th></th>\n",
              "    </tr>\n",
              "  </thead>\n",
              "  <tbody>\n",
              "    <tr>\n",
              "      <th rowspan=\"7\" valign=\"top\">control</th>\n",
              "      <th>Дальневосточный федеральный округ</th>\n",
              "      <td>200</td>\n",
              "      <td>464</td>\n",
              "      <td>232.000000</td>\n",
              "    </tr>\n",
              "    <tr>\n",
              "      <th>Приволжский федеральный округ</th>\n",
              "      <td>14391</td>\n",
              "      <td>6046</td>\n",
              "      <td>42.012369</td>\n",
              "    </tr>\n",
              "    <tr>\n",
              "      <th>Северо-Западный федеральный округ</th>\n",
              "      <td>27982</td>\n",
              "      <td>10063</td>\n",
              "      <td>35.962404</td>\n",
              "    </tr>\n",
              "    <tr>\n",
              "      <th>Сибирский федеральный округ</th>\n",
              "      <td>2398</td>\n",
              "      <td>1969</td>\n",
              "      <td>82.110092</td>\n",
              "    </tr>\n",
              "    <tr>\n",
              "      <th>Уральский федеральный округ</th>\n",
              "      <td>2398</td>\n",
              "      <td>1446</td>\n",
              "      <td>60.300250</td>\n",
              "    </tr>\n",
              "    <tr>\n",
              "      <th>Центральный федеральный округ</th>\n",
              "      <td>71954</td>\n",
              "      <td>20049</td>\n",
              "      <td>27.863635</td>\n",
              "    </tr>\n",
              "    <tr>\n",
              "      <th>Южный федеральный округ</th>\n",
              "      <td>31980</td>\n",
              "      <td>9965</td>\n",
              "      <td>31.160100</td>\n",
              "    </tr>\n",
              "    <tr>\n",
              "      <th rowspan=\"7\" valign=\"top\">test</th>\n",
              "      <th>Дальневосточный федеральный округ</th>\n",
              "      <td>1212</td>\n",
              "      <td>2028</td>\n",
              "      <td>167.326733</td>\n",
              "    </tr>\n",
              "    <tr>\n",
              "      <th>Приволжский федеральный округ</th>\n",
              "      <td>23626</td>\n",
              "      <td>12159</td>\n",
              "      <td>51.464488</td>\n",
              "    </tr>\n",
              "    <tr>\n",
              "      <th>Северо-Западный федеральный округ</th>\n",
              "      <td>7270</td>\n",
              "      <td>3353</td>\n",
              "      <td>46.121045</td>\n",
              "    </tr>\n",
              "    <tr>\n",
              "      <th>Сибирский федеральный округ</th>\n",
              "      <td>2585</td>\n",
              "      <td>2668</td>\n",
              "      <td>103.210832</td>\n",
              "    </tr>\n",
              "    <tr>\n",
              "      <th>Уральский федеральный округ</th>\n",
              "      <td>9087</td>\n",
              "      <td>6666</td>\n",
              "      <td>73.357544</td>\n",
              "    </tr>\n",
              "    <tr>\n",
              "      <th>Центральный федеральный округ</th>\n",
              "      <td>37560</td>\n",
              "      <td>13377</td>\n",
              "      <td>35.615016</td>\n",
              "    </tr>\n",
              "    <tr>\n",
              "      <th>Южный федеральный округ</th>\n",
              "      <td>65427</td>\n",
              "      <td>27172</td>\n",
              "      <td>41.530255</td>\n",
              "    </tr>\n",
              "  </tbody>\n",
              "</table>\n",
              "</div>\n",
              "    <div class=\"colab-df-buttons\">\n",
              "\n",
              "  <div class=\"colab-df-container\">\n",
              "    <button class=\"colab-df-convert\" onclick=\"convertToInteractive('df-08cb21b9-5d70-48c8-bae1-b604a7398a12')\"\n",
              "            title=\"Convert this dataframe to an interactive table.\"\n",
              "            style=\"display:none;\">\n",
              "\n",
              "  <svg xmlns=\"http://www.w3.org/2000/svg\" height=\"24px\" viewBox=\"0 -960 960 960\">\n",
              "    <path d=\"M120-120v-720h720v720H120Zm60-500h600v-160H180v160Zm220 220h160v-160H400v160Zm0 220h160v-160H400v160ZM180-400h160v-160H180v160Zm440 0h160v-160H620v160ZM180-180h160v-160H180v160Zm440 0h160v-160H620v160Z\"/>\n",
              "  </svg>\n",
              "    </button>\n",
              "\n",
              "  <style>\n",
              "    .colab-df-container {\n",
              "      display:flex;\n",
              "      gap: 12px;\n",
              "    }\n",
              "\n",
              "    .colab-df-convert {\n",
              "      background-color: #E8F0FE;\n",
              "      border: none;\n",
              "      border-radius: 50%;\n",
              "      cursor: pointer;\n",
              "      display: none;\n",
              "      fill: #1967D2;\n",
              "      height: 32px;\n",
              "      padding: 0 0 0 0;\n",
              "      width: 32px;\n",
              "    }\n",
              "\n",
              "    .colab-df-convert:hover {\n",
              "      background-color: #E2EBFA;\n",
              "      box-shadow: 0px 1px 2px rgba(60, 64, 67, 0.3), 0px 1px 3px 1px rgba(60, 64, 67, 0.15);\n",
              "      fill: #174EA6;\n",
              "    }\n",
              "\n",
              "    .colab-df-buttons div {\n",
              "      margin-bottom: 4px;\n",
              "    }\n",
              "\n",
              "    [theme=dark] .colab-df-convert {\n",
              "      background-color: #3B4455;\n",
              "      fill: #D2E3FC;\n",
              "    }\n",
              "\n",
              "    [theme=dark] .colab-df-convert:hover {\n",
              "      background-color: #434B5C;\n",
              "      box-shadow: 0px 1px 3px 1px rgba(0, 0, 0, 0.15);\n",
              "      filter: drop-shadow(0px 1px 2px rgba(0, 0, 0, 0.3));\n",
              "      fill: #FFFFFF;\n",
              "    }\n",
              "  </style>\n",
              "\n",
              "    <script>\n",
              "      const buttonEl =\n",
              "        document.querySelector('#df-08cb21b9-5d70-48c8-bae1-b604a7398a12 button.colab-df-convert');\n",
              "      buttonEl.style.display =\n",
              "        google.colab.kernel.accessAllowed ? 'block' : 'none';\n",
              "\n",
              "      async function convertToInteractive(key) {\n",
              "        const element = document.querySelector('#df-08cb21b9-5d70-48c8-bae1-b604a7398a12');\n",
              "        const dataTable =\n",
              "          await google.colab.kernel.invokeFunction('convertToInteractive',\n",
              "                                                    [key], {});\n",
              "        if (!dataTable) return;\n",
              "\n",
              "        const docLinkHtml = 'Like what you see? Visit the ' +\n",
              "          '<a target=\"_blank\" href=https://colab.research.google.com/notebooks/data_table.ipynb>data table notebook</a>'\n",
              "          + ' to learn more about interactive tables.';\n",
              "        element.innerHTML = '';\n",
              "        dataTable['output_type'] = 'display_data';\n",
              "        await google.colab.output.renderOutput(dataTable, element);\n",
              "        const docLink = document.createElement('div');\n",
              "        docLink.innerHTML = docLinkHtml;\n",
              "        element.appendChild(docLink);\n",
              "      }\n",
              "    </script>\n",
              "  </div>\n",
              "\n",
              "\n",
              "    <div id=\"df-8243e3a4-2e46-4a7c-9e56-cc24c859d58b\">\n",
              "      <button class=\"colab-df-quickchart\" onclick=\"quickchart('df-8243e3a4-2e46-4a7c-9e56-cc24c859d58b')\"\n",
              "                title=\"Suggest charts\"\n",
              "                style=\"display:none;\">\n",
              "\n",
              "<svg xmlns=\"http://www.w3.org/2000/svg\" height=\"24px\"viewBox=\"0 0 24 24\"\n",
              "     width=\"24px\">\n",
              "    <g>\n",
              "        <path d=\"M19 3H5c-1.1 0-2 .9-2 2v14c0 1.1.9 2 2 2h14c1.1 0 2-.9 2-2V5c0-1.1-.9-2-2-2zM9 17H7v-7h2v7zm4 0h-2V7h2v10zm4 0h-2v-4h2v4z\"/>\n",
              "    </g>\n",
              "</svg>\n",
              "      </button>\n",
              "\n",
              "<style>\n",
              "  .colab-df-quickchart {\n",
              "      --bg-color: #E8F0FE;\n",
              "      --fill-color: #1967D2;\n",
              "      --hover-bg-color: #E2EBFA;\n",
              "      --hover-fill-color: #174EA6;\n",
              "      --disabled-fill-color: #AAA;\n",
              "      --disabled-bg-color: #DDD;\n",
              "  }\n",
              "\n",
              "  [theme=dark] .colab-df-quickchart {\n",
              "      --bg-color: #3B4455;\n",
              "      --fill-color: #D2E3FC;\n",
              "      --hover-bg-color: #434B5C;\n",
              "      --hover-fill-color: #FFFFFF;\n",
              "      --disabled-bg-color: #3B4455;\n",
              "      --disabled-fill-color: #666;\n",
              "  }\n",
              "\n",
              "  .colab-df-quickchart {\n",
              "    background-color: var(--bg-color);\n",
              "    border: none;\n",
              "    border-radius: 50%;\n",
              "    cursor: pointer;\n",
              "    display: none;\n",
              "    fill: var(--fill-color);\n",
              "    height: 32px;\n",
              "    padding: 0;\n",
              "    width: 32px;\n",
              "  }\n",
              "\n",
              "  .colab-df-quickchart:hover {\n",
              "    background-color: var(--hover-bg-color);\n",
              "    box-shadow: 0 1px 2px rgba(60, 64, 67, 0.3), 0 1px 3px 1px rgba(60, 64, 67, 0.15);\n",
              "    fill: var(--button-hover-fill-color);\n",
              "  }\n",
              "\n",
              "  .colab-df-quickchart-complete:disabled,\n",
              "  .colab-df-quickchart-complete:disabled:hover {\n",
              "    background-color: var(--disabled-bg-color);\n",
              "    fill: var(--disabled-fill-color);\n",
              "    box-shadow: none;\n",
              "  }\n",
              "\n",
              "  .colab-df-spinner {\n",
              "    border: 2px solid var(--fill-color);\n",
              "    border-color: transparent;\n",
              "    border-bottom-color: var(--fill-color);\n",
              "    animation:\n",
              "      spin 1s steps(1) infinite;\n",
              "  }\n",
              "\n",
              "  @keyframes spin {\n",
              "    0% {\n",
              "      border-color: transparent;\n",
              "      border-bottom-color: var(--fill-color);\n",
              "      border-left-color: var(--fill-color);\n",
              "    }\n",
              "    20% {\n",
              "      border-color: transparent;\n",
              "      border-left-color: var(--fill-color);\n",
              "      border-top-color: var(--fill-color);\n",
              "    }\n",
              "    30% {\n",
              "      border-color: transparent;\n",
              "      border-left-color: var(--fill-color);\n",
              "      border-top-color: var(--fill-color);\n",
              "      border-right-color: var(--fill-color);\n",
              "    }\n",
              "    40% {\n",
              "      border-color: transparent;\n",
              "      border-right-color: var(--fill-color);\n",
              "      border-top-color: var(--fill-color);\n",
              "    }\n",
              "    60% {\n",
              "      border-color: transparent;\n",
              "      border-right-color: var(--fill-color);\n",
              "    }\n",
              "    80% {\n",
              "      border-color: transparent;\n",
              "      border-right-color: var(--fill-color);\n",
              "      border-bottom-color: var(--fill-color);\n",
              "    }\n",
              "    90% {\n",
              "      border-color: transparent;\n",
              "      border-bottom-color: var(--fill-color);\n",
              "    }\n",
              "  }\n",
              "</style>\n",
              "\n",
              "      <script>\n",
              "        async function quickchart(key) {\n",
              "          const quickchartButtonEl =\n",
              "            document.querySelector('#' + key + ' button');\n",
              "          quickchartButtonEl.disabled = true;  // To prevent multiple clicks.\n",
              "          quickchartButtonEl.classList.add('colab-df-spinner');\n",
              "          try {\n",
              "            const charts = await google.colab.kernel.invokeFunction(\n",
              "                'suggestCharts', [key], {});\n",
              "          } catch (error) {\n",
              "            console.error('Error during call to suggestCharts:', error);\n",
              "          }\n",
              "          quickchartButtonEl.classList.remove('colab-df-spinner');\n",
              "          quickchartButtonEl.classList.add('colab-df-quickchart-complete');\n",
              "        }\n",
              "        (() => {\n",
              "          let quickchartButtonEl =\n",
              "            document.querySelector('#df-8243e3a4-2e46-4a7c-9e56-cc24c859d58b button');\n",
              "          quickchartButtonEl.style.display =\n",
              "            google.colab.kernel.accessAllowed ? 'block' : 'none';\n",
              "        })();\n",
              "      </script>\n",
              "    </div>\n",
              "    </div>\n",
              "  </div>\n"
            ],
            "application/vnd.google.colaboratory.intrinsic+json": {
              "type": "dataframe",
              "variable_name": "conv",
              "summary": "{\n  \"name\": \"conv\",\n  \"rows\": 14,\n  \"fields\": [\n    {\n      \"column\": \"payment_page\",\n      \"properties\": {\n        \"dtype\": \"number\",\n        \"std\": 23613,\n        \"min\": 200,\n        \"max\": 71954,\n        \"num_unique_values\": 13,\n        \"samples\": [\n          37560,\n          2585,\n          200\n        ],\n        \"semantic_type\": \"\",\n        \"description\": \"\"\n      }\n    },\n    {\n      \"column\": \"payment\",\n      \"properties\": {\n        \"dtype\": \"number\",\n        \"std\": 7807,\n        \"min\": 464,\n        \"max\": 27172,\n        \"num_unique_values\": 14,\n        \"samples\": [\n          3353,\n          6666,\n          464\n        ],\n        \"semantic_type\": \"\",\n        \"description\": \"\"\n      }\n    },\n    {\n      \"column\": \"conv\",\n      \"properties\": {\n        \"dtype\": \"number\",\n        \"std\": 58.85127580890949,\n        \"min\": 27.863635100202906,\n        \"max\": 231.99999999999997,\n        \"num_unique_values\": 14,\n        \"samples\": [\n          46.12104539202201,\n          73.35754374380984,\n          231.99999999999997\n        ],\n        \"semantic_type\": \"\",\n        \"description\": \"\"\n      }\n    }\n  ]\n}"
            }
          },
          "metadata": {},
          "execution_count": 56
        }
      ],
      "source": [
        "conv = df.groupby(['group', 'district'])[['payment_page', 'payment']].sum()\n",
        "conv['conv'] = conv['payment'] / conv['payment_page'] * 100\n",
        "conv"
      ]
    },
    {
      "cell_type": "markdown",
      "source": [
        "__Ответ:__ Как мы видим конверсия в тестовой выборке возросла практически по всем регионам, кроме ДФО. Но, как и ранее отмечал, в данных вероятно имеются ошибки при фиксации посещения страницы оплаты. Поэтому, учитывая противоречия в данных и их небольшую долю, предлагаю удалить ошибочные данные и продолжить анализ без них."
      ],
      "metadata": {
        "id": "Pyf32cTWW5ko"
      }
    },
    {
      "cell_type": "code",
      "source": [
        "df = df[~((df['payment_page'] == 0) & (df['payment'] == 1))]"
      ],
      "metadata": {
        "id": "xbBcMo0hZyBc"
      },
      "execution_count": 60,
      "outputs": []
    },
    {
      "cell_type": "code",
      "source": [
        "conv = df.groupby(['group', 'district'])[['payment_page', 'payment']].sum()\n",
        "conv['conv'] = conv['payment'] / conv['payment_page'] * 100\n",
        "conv"
      ],
      "metadata": {
        "id": "HyIuWFkoZy70",
        "outputId": "efb49d66-7171-4175-cdf8-7b83bba30206",
        "colab": {
          "base_uri": "https://localhost:8080/",
          "height": 514
        }
      },
      "execution_count": 61,
      "outputs": [
        {
          "output_type": "execute_result",
          "data": {
            "text/plain": [
              "                                           payment_page  payment       conv\n",
              "group   district                                                           \n",
              "control Дальневосточный федеральный округ           200       50  25.000000\n",
              "        Приволжский федеральный округ             14391     3633  25.244945\n",
              "        Северо-Западный федеральный округ         27982     7076  25.287685\n",
              "        Сибирский федеральный округ                2398      591  24.645538\n",
              "        Уральский федеральный округ                2398      602  25.104254\n",
              "        Центральный федеральный округ             71954    18021  25.045168\n",
              "        Южный федеральный округ                   31980     7892  24.677924\n",
              "test    Дальневосточный федеральный округ          1212      441  36.386139\n",
              "        Приволжский федеральный округ             23626     7967  33.721324\n",
              "        Северо-Западный федеральный округ          7270     2425  33.356259\n",
              "        Сибирский федеральный округ                2585      848  32.804642\n",
              "        Уральский федеральный округ                9087     2963  32.607021\n",
              "        Центральный федеральный округ             37560    12465  33.186901\n",
              "        Южный федеральный округ                   65427    21983  33.599279"
            ],
            "text/html": [
              "\n",
              "  <div id=\"df-8dafb65c-fc57-4c15-909c-bec4a941ea3e\" class=\"colab-df-container\">\n",
              "    <div>\n",
              "<style scoped>\n",
              "    .dataframe tbody tr th:only-of-type {\n",
              "        vertical-align: middle;\n",
              "    }\n",
              "\n",
              "    .dataframe tbody tr th {\n",
              "        vertical-align: top;\n",
              "    }\n",
              "\n",
              "    .dataframe thead th {\n",
              "        text-align: right;\n",
              "    }\n",
              "</style>\n",
              "<table border=\"1\" class=\"dataframe\">\n",
              "  <thead>\n",
              "    <tr style=\"text-align: right;\">\n",
              "      <th></th>\n",
              "      <th></th>\n",
              "      <th>payment_page</th>\n",
              "      <th>payment</th>\n",
              "      <th>conv</th>\n",
              "    </tr>\n",
              "    <tr>\n",
              "      <th>group</th>\n",
              "      <th>district</th>\n",
              "      <th></th>\n",
              "      <th></th>\n",
              "      <th></th>\n",
              "    </tr>\n",
              "  </thead>\n",
              "  <tbody>\n",
              "    <tr>\n",
              "      <th rowspan=\"7\" valign=\"top\">control</th>\n",
              "      <th>Дальневосточный федеральный округ</th>\n",
              "      <td>200</td>\n",
              "      <td>50</td>\n",
              "      <td>25.000000</td>\n",
              "    </tr>\n",
              "    <tr>\n",
              "      <th>Приволжский федеральный округ</th>\n",
              "      <td>14391</td>\n",
              "      <td>3633</td>\n",
              "      <td>25.244945</td>\n",
              "    </tr>\n",
              "    <tr>\n",
              "      <th>Северо-Западный федеральный округ</th>\n",
              "      <td>27982</td>\n",
              "      <td>7076</td>\n",
              "      <td>25.287685</td>\n",
              "    </tr>\n",
              "    <tr>\n",
              "      <th>Сибирский федеральный округ</th>\n",
              "      <td>2398</td>\n",
              "      <td>591</td>\n",
              "      <td>24.645538</td>\n",
              "    </tr>\n",
              "    <tr>\n",
              "      <th>Уральский федеральный округ</th>\n",
              "      <td>2398</td>\n",
              "      <td>602</td>\n",
              "      <td>25.104254</td>\n",
              "    </tr>\n",
              "    <tr>\n",
              "      <th>Центральный федеральный округ</th>\n",
              "      <td>71954</td>\n",
              "      <td>18021</td>\n",
              "      <td>25.045168</td>\n",
              "    </tr>\n",
              "    <tr>\n",
              "      <th>Южный федеральный округ</th>\n",
              "      <td>31980</td>\n",
              "      <td>7892</td>\n",
              "      <td>24.677924</td>\n",
              "    </tr>\n",
              "    <tr>\n",
              "      <th rowspan=\"7\" valign=\"top\">test</th>\n",
              "      <th>Дальневосточный федеральный округ</th>\n",
              "      <td>1212</td>\n",
              "      <td>441</td>\n",
              "      <td>36.386139</td>\n",
              "    </tr>\n",
              "    <tr>\n",
              "      <th>Приволжский федеральный округ</th>\n",
              "      <td>23626</td>\n",
              "      <td>7967</td>\n",
              "      <td>33.721324</td>\n",
              "    </tr>\n",
              "    <tr>\n",
              "      <th>Северо-Западный федеральный округ</th>\n",
              "      <td>7270</td>\n",
              "      <td>2425</td>\n",
              "      <td>33.356259</td>\n",
              "    </tr>\n",
              "    <tr>\n",
              "      <th>Сибирский федеральный округ</th>\n",
              "      <td>2585</td>\n",
              "      <td>848</td>\n",
              "      <td>32.804642</td>\n",
              "    </tr>\n",
              "    <tr>\n",
              "      <th>Уральский федеральный округ</th>\n",
              "      <td>9087</td>\n",
              "      <td>2963</td>\n",
              "      <td>32.607021</td>\n",
              "    </tr>\n",
              "    <tr>\n",
              "      <th>Центральный федеральный округ</th>\n",
              "      <td>37560</td>\n",
              "      <td>12465</td>\n",
              "      <td>33.186901</td>\n",
              "    </tr>\n",
              "    <tr>\n",
              "      <th>Южный федеральный округ</th>\n",
              "      <td>65427</td>\n",
              "      <td>21983</td>\n",
              "      <td>33.599279</td>\n",
              "    </tr>\n",
              "  </tbody>\n",
              "</table>\n",
              "</div>\n",
              "    <div class=\"colab-df-buttons\">\n",
              "\n",
              "  <div class=\"colab-df-container\">\n",
              "    <button class=\"colab-df-convert\" onclick=\"convertToInteractive('df-8dafb65c-fc57-4c15-909c-bec4a941ea3e')\"\n",
              "            title=\"Convert this dataframe to an interactive table.\"\n",
              "            style=\"display:none;\">\n",
              "\n",
              "  <svg xmlns=\"http://www.w3.org/2000/svg\" height=\"24px\" viewBox=\"0 -960 960 960\">\n",
              "    <path d=\"M120-120v-720h720v720H120Zm60-500h600v-160H180v160Zm220 220h160v-160H400v160Zm0 220h160v-160H400v160ZM180-400h160v-160H180v160Zm440 0h160v-160H620v160ZM180-180h160v-160H180v160Zm440 0h160v-160H620v160Z\"/>\n",
              "  </svg>\n",
              "    </button>\n",
              "\n",
              "  <style>\n",
              "    .colab-df-container {\n",
              "      display:flex;\n",
              "      gap: 12px;\n",
              "    }\n",
              "\n",
              "    .colab-df-convert {\n",
              "      background-color: #E8F0FE;\n",
              "      border: none;\n",
              "      border-radius: 50%;\n",
              "      cursor: pointer;\n",
              "      display: none;\n",
              "      fill: #1967D2;\n",
              "      height: 32px;\n",
              "      padding: 0 0 0 0;\n",
              "      width: 32px;\n",
              "    }\n",
              "\n",
              "    .colab-df-convert:hover {\n",
              "      background-color: #E2EBFA;\n",
              "      box-shadow: 0px 1px 2px rgba(60, 64, 67, 0.3), 0px 1px 3px 1px rgba(60, 64, 67, 0.15);\n",
              "      fill: #174EA6;\n",
              "    }\n",
              "\n",
              "    .colab-df-buttons div {\n",
              "      margin-bottom: 4px;\n",
              "    }\n",
              "\n",
              "    [theme=dark] .colab-df-convert {\n",
              "      background-color: #3B4455;\n",
              "      fill: #D2E3FC;\n",
              "    }\n",
              "\n",
              "    [theme=dark] .colab-df-convert:hover {\n",
              "      background-color: #434B5C;\n",
              "      box-shadow: 0px 1px 3px 1px rgba(0, 0, 0, 0.15);\n",
              "      filter: drop-shadow(0px 1px 2px rgba(0, 0, 0, 0.3));\n",
              "      fill: #FFFFFF;\n",
              "    }\n",
              "  </style>\n",
              "\n",
              "    <script>\n",
              "      const buttonEl =\n",
              "        document.querySelector('#df-8dafb65c-fc57-4c15-909c-bec4a941ea3e button.colab-df-convert');\n",
              "      buttonEl.style.display =\n",
              "        google.colab.kernel.accessAllowed ? 'block' : 'none';\n",
              "\n",
              "      async function convertToInteractive(key) {\n",
              "        const element = document.querySelector('#df-8dafb65c-fc57-4c15-909c-bec4a941ea3e');\n",
              "        const dataTable =\n",
              "          await google.colab.kernel.invokeFunction('convertToInteractive',\n",
              "                                                    [key], {});\n",
              "        if (!dataTable) return;\n",
              "\n",
              "        const docLinkHtml = 'Like what you see? Visit the ' +\n",
              "          '<a target=\"_blank\" href=https://colab.research.google.com/notebooks/data_table.ipynb>data table notebook</a>'\n",
              "          + ' to learn more about interactive tables.';\n",
              "        element.innerHTML = '';\n",
              "        dataTable['output_type'] = 'display_data';\n",
              "        await google.colab.output.renderOutput(dataTable, element);\n",
              "        const docLink = document.createElement('div');\n",
              "        docLink.innerHTML = docLinkHtml;\n",
              "        element.appendChild(docLink);\n",
              "      }\n",
              "    </script>\n",
              "  </div>\n",
              "\n",
              "\n",
              "    <div id=\"df-8fcac39d-ef2a-47b8-9994-d0aa2b5f5d9e\">\n",
              "      <button class=\"colab-df-quickchart\" onclick=\"quickchart('df-8fcac39d-ef2a-47b8-9994-d0aa2b5f5d9e')\"\n",
              "                title=\"Suggest charts\"\n",
              "                style=\"display:none;\">\n",
              "\n",
              "<svg xmlns=\"http://www.w3.org/2000/svg\" height=\"24px\"viewBox=\"0 0 24 24\"\n",
              "     width=\"24px\">\n",
              "    <g>\n",
              "        <path d=\"M19 3H5c-1.1 0-2 .9-2 2v14c0 1.1.9 2 2 2h14c1.1 0 2-.9 2-2V5c0-1.1-.9-2-2-2zM9 17H7v-7h2v7zm4 0h-2V7h2v10zm4 0h-2v-4h2v4z\"/>\n",
              "    </g>\n",
              "</svg>\n",
              "      </button>\n",
              "\n",
              "<style>\n",
              "  .colab-df-quickchart {\n",
              "      --bg-color: #E8F0FE;\n",
              "      --fill-color: #1967D2;\n",
              "      --hover-bg-color: #E2EBFA;\n",
              "      --hover-fill-color: #174EA6;\n",
              "      --disabled-fill-color: #AAA;\n",
              "      --disabled-bg-color: #DDD;\n",
              "  }\n",
              "\n",
              "  [theme=dark] .colab-df-quickchart {\n",
              "      --bg-color: #3B4455;\n",
              "      --fill-color: #D2E3FC;\n",
              "      --hover-bg-color: #434B5C;\n",
              "      --hover-fill-color: #FFFFFF;\n",
              "      --disabled-bg-color: #3B4455;\n",
              "      --disabled-fill-color: #666;\n",
              "  }\n",
              "\n",
              "  .colab-df-quickchart {\n",
              "    background-color: var(--bg-color);\n",
              "    border: none;\n",
              "    border-radius: 50%;\n",
              "    cursor: pointer;\n",
              "    display: none;\n",
              "    fill: var(--fill-color);\n",
              "    height: 32px;\n",
              "    padding: 0;\n",
              "    width: 32px;\n",
              "  }\n",
              "\n",
              "  .colab-df-quickchart:hover {\n",
              "    background-color: var(--hover-bg-color);\n",
              "    box-shadow: 0 1px 2px rgba(60, 64, 67, 0.3), 0 1px 3px 1px rgba(60, 64, 67, 0.15);\n",
              "    fill: var(--button-hover-fill-color);\n",
              "  }\n",
              "\n",
              "  .colab-df-quickchart-complete:disabled,\n",
              "  .colab-df-quickchart-complete:disabled:hover {\n",
              "    background-color: var(--disabled-bg-color);\n",
              "    fill: var(--disabled-fill-color);\n",
              "    box-shadow: none;\n",
              "  }\n",
              "\n",
              "  .colab-df-spinner {\n",
              "    border: 2px solid var(--fill-color);\n",
              "    border-color: transparent;\n",
              "    border-bottom-color: var(--fill-color);\n",
              "    animation:\n",
              "      spin 1s steps(1) infinite;\n",
              "  }\n",
              "\n",
              "  @keyframes spin {\n",
              "    0% {\n",
              "      border-color: transparent;\n",
              "      border-bottom-color: var(--fill-color);\n",
              "      border-left-color: var(--fill-color);\n",
              "    }\n",
              "    20% {\n",
              "      border-color: transparent;\n",
              "      border-left-color: var(--fill-color);\n",
              "      border-top-color: var(--fill-color);\n",
              "    }\n",
              "    30% {\n",
              "      border-color: transparent;\n",
              "      border-left-color: var(--fill-color);\n",
              "      border-top-color: var(--fill-color);\n",
              "      border-right-color: var(--fill-color);\n",
              "    }\n",
              "    40% {\n",
              "      border-color: transparent;\n",
              "      border-right-color: var(--fill-color);\n",
              "      border-top-color: var(--fill-color);\n",
              "    }\n",
              "    60% {\n",
              "      border-color: transparent;\n",
              "      border-right-color: var(--fill-color);\n",
              "    }\n",
              "    80% {\n",
              "      border-color: transparent;\n",
              "      border-right-color: var(--fill-color);\n",
              "      border-bottom-color: var(--fill-color);\n",
              "    }\n",
              "    90% {\n",
              "      border-color: transparent;\n",
              "      border-bottom-color: var(--fill-color);\n",
              "    }\n",
              "  }\n",
              "</style>\n",
              "\n",
              "      <script>\n",
              "        async function quickchart(key) {\n",
              "          const quickchartButtonEl =\n",
              "            document.querySelector('#' + key + ' button');\n",
              "          quickchartButtonEl.disabled = true;  // To prevent multiple clicks.\n",
              "          quickchartButtonEl.classList.add('colab-df-spinner');\n",
              "          try {\n",
              "            const charts = await google.colab.kernel.invokeFunction(\n",
              "                'suggestCharts', [key], {});\n",
              "          } catch (error) {\n",
              "            console.error('Error during call to suggestCharts:', error);\n",
              "          }\n",
              "          quickchartButtonEl.classList.remove('colab-df-spinner');\n",
              "          quickchartButtonEl.classList.add('colab-df-quickchart-complete');\n",
              "        }\n",
              "        (() => {\n",
              "          let quickchartButtonEl =\n",
              "            document.querySelector('#df-8fcac39d-ef2a-47b8-9994-d0aa2b5f5d9e button');\n",
              "          quickchartButtonEl.style.display =\n",
              "            google.colab.kernel.accessAllowed ? 'block' : 'none';\n",
              "        })();\n",
              "      </script>\n",
              "    </div>\n",
              "    </div>\n",
              "  </div>\n"
            ],
            "application/vnd.google.colaboratory.intrinsic+json": {
              "type": "dataframe",
              "variable_name": "conv",
              "summary": "{\n  \"name\": \"conv\",\n  \"rows\": 14,\n  \"fields\": [\n    {\n      \"column\": \"payment_page\",\n      \"properties\": {\n        \"dtype\": \"number\",\n        \"std\": 23613,\n        \"min\": 200,\n        \"max\": 71954,\n        \"num_unique_values\": 13,\n        \"samples\": [\n          37560,\n          2585,\n          200\n        ],\n        \"semantic_type\": \"\",\n        \"description\": \"\"\n      }\n    },\n    {\n      \"column\": \"payment\",\n      \"properties\": {\n        \"dtype\": \"number\",\n        \"std\": 6953,\n        \"min\": 50,\n        \"max\": 21983,\n        \"num_unique_values\": 14,\n        \"samples\": [\n          2425,\n          2963,\n          50\n        ],\n        \"semantic_type\": \"\",\n        \"description\": \"\"\n      }\n    },\n    {\n      \"column\": \"conv\",\n      \"properties\": {\n        \"dtype\": \"number\",\n        \"std\": 4.580707489879119,\n        \"min\": 24.64553794829024,\n        \"max\": 36.386138613861384,\n        \"num_unique_values\": 14,\n        \"samples\": [\n          33.356258596973866,\n          32.607021019038186,\n          25.0\n        ],\n        \"semantic_type\": \"\",\n        \"description\": \"\"\n      }\n    }\n  ]\n}"
            }
          },
          "metadata": {},
          "execution_count": 61
        }
      ]
    },
    {
      "cell_type": "markdown",
      "source": [
        "После удаления ошибочных значений мы видим прирост конверсии по всем регионам."
      ],
      "metadata": {
        "id": "bZrIkO_3Z6yI"
      }
    },
    {
      "cell_type": "markdown",
      "metadata": {
        "id": "ZDpDr_H3V6bW"
      },
      "source": [
        "__г) [5 баллов]__ Проанализируйте, улучшилась ли воронка для пользователей в тестовой группе по сравнению с контрольной вне зависимости от региона? Опишите выводы."
      ]
    },
    {
      "cell_type": "code",
      "execution_count": null,
      "metadata": {
        "id": "G67yNpBjV6bW"
      },
      "outputs": [],
      "source": [
        "# your code here\n",
        "# =^･ｪ･^="
      ]
    },
    {
      "cell_type": "markdown",
      "metadata": {
        "id": "JfHBJeVtV6bW"
      },
      "source": [
        "__д) [5 баллов]__ Проанализируйте распределение интересов пользователей в тестовой и контрольной группе. Какими регионами они интересовались? Изменились ли их предпочтения?"
      ]
    },
    {
      "cell_type": "code",
      "execution_count": null,
      "metadata": {
        "id": "DYaAc_EbV6bW"
      },
      "outputs": [],
      "source": [
        "# your code here\n",
        "# (⊙_⊙)"
      ]
    },
    {
      "cell_type": "markdown",
      "metadata": {
        "id": "KlghqE9FV6bW"
      },
      "source": [
        "Если вы все сделали правильно, то у вас получился противоречивые ответы в пунктах 3 и 4. Вы попали в ловушку Парадокса Симпсона. Подробнее о нем можно почитать [здесь](https://ru.wikipedia.org/wiki/Парадокс_Симпсона)\n",
        "\n",
        "<img src=\"https://github.com/hse-econ-data-science/andan_2023/blob/main/hw/hw04/images/simpson.jpg?raw=true\" width=\"350\" align='center'>"
      ]
    },
    {
      "cell_type": "markdown",
      "metadata": {
        "id": "k3fFVKZ8V6bW"
      },
      "source": [
        "__е) [4 балла]__ Теперь, когда вы все узнали, опишите кратко почему вы получили противоречивый результат в пунктах 3 и 4 (1 балл)"
      ]
    },
    {
      "cell_type": "markdown",
      "metadata": {
        "id": "9jg6MCSHV6bW"
      },
      "source": [
        "**Ваш ответ:**"
      ]
    },
    {
      "cell_type": "markdown",
      "metadata": {
        "id": "I00B-wvPV6bX"
      },
      "source": [
        "## Задача №3: Не подглядывать! (50 баллов)\n",
        "\n",
        "<img src=\"https://github.com/hse-econ-data-science/andan_2023/blob/main/hw/hw04/images/trump.png?raw=true\" width=\"500\" align='left'>"
      ]
    },
    {
      "cell_type": "markdown",
      "metadata": {
        "id": "5l7S83MjV6bX"
      },
      "source": [
        "На американских выборах 2020 года в некоторых штатах проходила очень конкурентная борьба между кандидатами. По мере подсчета голосов перевес в голосах склонялся то в пользу демократов, то в пользу республиканцев. И вот, в один из таких моментов, когда чаша весов склонилась в пользу республиканцев, Д. Трамп написал в твиттер \"stop the count!\", что означало призыв к остановке подсчета голосов.\n",
        "\n",
        "_Здесь у вас мог возникнуть вопрос, и зачем нам это?_\n",
        "\n",
        "Ответ очень прост. В этой ситуации всем очевидно, что призыв Трампа не мог быть осуществлен, то есть прерывать подсчет голосов раньше времени кажется довольно глупым способом выявления победителя. И вот абсолютно такой же способ принятия решения есть и в А/Б-тестах, только теперь многим аналитикам он уже кажется не столь очевидным, что приводит к существенным ошибкам в заключении выводов.\n",
        "\n",
        "_Решив эту задачу, мы познакомимся с такой проблемой подробнее и поймем, как не стоит делать, когда вы запускаете А/Б-тест._"
      ]
    },
    {
      "cell_type": "markdown",
      "metadata": {
        "id": "_bA1B7g-V6bX"
      },
      "source": [
        "Чтобы понять, в чем же именно заключается проблема, мы с вами будем проводить симуляции А/Б-тестов. Это когда мы генерируем данные уже со знаниями, как эти данные устроены. А затем, запуская процедуру проверки гипотез над такими симулированными данными, мы будем оценивать, что происходит на практике (при запуске А/Б-теста).\n",
        "\n",
        "На практике же всегда неизвестно, как устроены данные, и проводя А/Б-тест мы пытаемся зафиксировать различия. Еще раз, здесь же мы будем знать об устройстве данных, а затем будем смотреть на поведение А/Б-теста, то есть как будто бы смотреть на тест с обратной стороны.\n",
        "\n",
        "_Перед тем как идти дальше, остановитесь здесь и еще раз зафиксируйте это!_"
      ]
    },
    {
      "cell_type": "markdown",
      "metadata": {
        "id": "_WbJ8jyRV6bX"
      },
      "source": [
        "__а) [10 баллов]  Подсчет размера выборки для А/Б-теста__\n",
        "\n",
        "Предположим, что вы хотите провести А/Б-тест внутри вашего приложения. Вы выбрали некоторую метрику $X$ – случайную величину из нормального распределения с мат. ожиданием $100$ у.е. и стандартным отклонением $40$ у.е – это ваш бейзлайн (группа А). Рассчитайте, сколько дней вам нужно крутить такой А/Б-тест, если:\n",
        "\n",
        "1. Вы ожидаете получить минимальный размер эффекта в $5$ у.е.;\n",
        "2. Вы хотите зафиксировать ошибку первого рода на уровне $\\alpha=5\\%$, а ошибку второго рода на уровне $\\beta=20\\%$;\n",
        "3. Вы точно знаете, что в группе Б стандартное отклонение метрики составляет также $20$ у.е.\n",
        "4. Посещаемость вашего приложения ежедневно составляет $200$ пользователей, и вы готовы раскатить тест на $100\\%$ трафика.\n",
        "\n",
        "Формула для расчета числа наблюдений _для одной группы_:\n",
        "\n",
        "$$\n",
        "n_{\\text{one group}} = \\frac{(\\sigma_A^2 + \\sigma_B^2) \\cdot (z_{1-\\frac{\\alpha}{2}} + z_{1-\\beta})^2}{MDE^2},\n",
        "$$\n",
        "\n",
        "__Подсказка:__ Помните, что после получения общего числа наблюдений вам нужно выразить это в дни! Вы должны получить целое число. Также будьте аккуратны с подсчетом трафика и кол-ва наблюдений – обратите внимание, со скольким числом групп вы работаете!"
      ]
    },
    {
      "cell_type": "code",
      "execution_count": null,
      "metadata": {
        "id": "cvEqddsOV6bX"
      },
      "outputs": [],
      "source": [
        "# your code here\n",
        "# (♡-_-♡)"
      ]
    },
    {
      "cell_type": "markdown",
      "metadata": {
        "id": "ANio2APuV6bX"
      },
      "source": [
        "__б) [20 баллов] Симуляция А/Б-теста__\n",
        "\n",
        "Теперь нам нужно запустить А/Б-тест. Для этого:"
      ]
    },
    {
      "cell_type": "markdown",
      "metadata": {
        "id": "sfcblL7_V6bX"
      },
      "source": [
        "1. Сгенерируйте выборку данных из нормального распределения для группы А и Б в конкретный один день. Считайте, что в группе Б математическое ожидание составляет $105$ у.е., то есть с учетом размера вашего минимального ожидаемого эффекта из предыдущего пункта."
      ]
    },
    {
      "cell_type": "code",
      "execution_count": null,
      "metadata": {
        "id": "PHcBYvfbV6bX"
      },
      "outputs": [],
      "source": [
        "# your code here\n",
        "# ヽ(♡‿♡)ノ"
      ]
    },
    {
      "cell_type": "markdown",
      "metadata": {
        "id": "KrezHVzVV6bY"
      },
      "source": [
        "2. Теперь представим, что наш тест был запущен $X$ дней. Напишите функцию, которая за этот период теста собирает в `DataFrame` следующие данные на каждый день теста:\n",
        "    1. среднее метрики в группе А\n",
        "    2. среднее метрики в группе Б\n",
        "    3. p-value, посчитанное с помощью t-test – можно воспользоваться встроенной функцией `scipy.stats.ttest_ind`\n",
        "    \n",
        "    Соберите `DataFrame` для $X=50$.\n",
        "    \n",
        "__Подсказка:__ Среднее для 1-го дня должно считаться по пользователям, пришедших в первый день, для второго дня – по пользователям, пришедшим в первый и второй день и т.д. То есть накопленным итогом за каждый день теста."
      ]
    },
    {
      "cell_type": "code",
      "execution_count": null,
      "metadata": {
        "id": "OgHyMQaFV6bY"
      },
      "outputs": [],
      "source": [
        "# your code here\n",
        "# (´｡• ᵕ •｡`)"
      ]
    },
    {
      "cell_type": "markdown",
      "metadata": {
        "id": "q2BmAl7-V6bY"
      },
      "source": [
        "3. На основе `DataFrame` из предыдущего пункта постройте график динамики среднего в группе А и в группе Б по дням теста. Отложите вертикальную линию на этом же графике, показывающую кол-во дней, посчитанных в пункте 1. Сделайте эту линию пунктирной и измените цвет, который вам больше нравится."
      ]
    },
    {
      "cell_type": "code",
      "execution_count": null,
      "metadata": {
        "id": "yi03fa75V6bY"
      },
      "outputs": [],
      "source": [
        "# your code here\n",
        "# (´｡• ᵕ •｡`)"
      ]
    },
    {
      "cell_type": "markdown",
      "metadata": {
        "id": "afoPxS15V6bY"
      },
      "source": [
        "4. На основе `DataFrame` из предыдущего пункта постройте график динамики p-value по дням теста. Отложите вертикальную линию на этом же графике, показывающую кол-во дней, посчитанных в пункте 1. Сделайте эту линию пунктирной и измените цвет, который вам больше нравится. Также отложите горизонтальную линию – ваш уровень значимости $\\alpha$."
      ]
    },
    {
      "cell_type": "code",
      "execution_count": null,
      "metadata": {
        "id": "-mZDXS7cV6bY"
      },
      "outputs": [],
      "source": [
        "# your code here\n",
        "# (´｡• ᵕ •｡`)"
      ]
    },
    {
      "cell_type": "markdown",
      "metadata": {
        "id": "m4SnMYu7V6bY"
      },
      "source": [
        "5. Перегенируруйте шаги 2-4 несколько раз, посмотрев на графики. Что вы видите? Что происходит с p-value в периодах:\n",
        "    1. до кол-ва дней, посчитанных по формуле из п.1\n",
        "    2. в точке кол-ва дней, посчитанных по формуле из п.1\n",
        "    3. после кол-ва дней, посчитанных по формуле из п.1\n",
        "    \n",
        "    Опишите выводы максимально подробно."
      ]
    },
    {
      "cell_type": "code",
      "execution_count": null,
      "metadata": {
        "id": "Hq-Enr5KV6bY"
      },
      "outputs": [],
      "source": [
        "# your thoughts here\n",
        "# (◕‿◕)♡"
      ]
    },
    {
      "cell_type": "markdown",
      "metadata": {
        "id": "6l_aSm-GV6bY"
      },
      "source": [
        "6. Теперь предположим, что мы поменяли наш $MDE$ до $1$ у.е. То есть мат. ожидание в группе А осталось по-прежнему $100$, а вот в группе Б теперь $101$. Перегенерируйте пункты 2-4 для измененного $MDE$, при этом кол-во дней в п.1 не пересчитывайте. Что происходит с p-value? Сделайте выводы."
      ]
    },
    {
      "cell_type": "code",
      "execution_count": null,
      "metadata": {
        "id": "GpJO0Od_V6bY"
      },
      "outputs": [],
      "source": [
        "# your code and thoughts here\n",
        "# ♡ (´｡• ω •｡`) ♡"
      ]
    },
    {
      "cell_type": "markdown",
      "metadata": {
        "id": "7VLstS1AV6bZ"
      },
      "source": [
        "__в) [20 баллов] Симуляция А/А-теста__\n",
        "\n",
        "Теперь представим, что изменений на самом деле никаких нету, то есть мат. ожидание в обоих группах $100$, а $MDE = 0$"
      ]
    },
    {
      "cell_type": "markdown",
      "metadata": {
        "id": "WF8A0IzEV6bZ"
      },
      "source": [
        "1. И снова перегенерируйте вышесделанные пункты 2-4. Что происходит с p-value? Может ли оно оказаться ниже уровня значимости?"
      ]
    },
    {
      "cell_type": "code",
      "execution_count": null,
      "metadata": {
        "id": "dnorbivcV6bZ"
      },
      "outputs": [],
      "source": [
        "# your code and thoughts here\n",
        "# =^･ｪ･^="
      ]
    },
    {
      "cell_type": "markdown",
      "metadata": {
        "id": "IYble1JMV6bZ"
      },
      "source": [
        "2. Ну и напоследок, напишите функцию, которая генерирует p-value на последний день A/A теста. А затем запустите эту функцию $1000$ раз, собрав $1000$ значений p-value. Постройте гистограмму их распределения. Что вы видите?\n",
        "\n",
        "__Подсказка:__ Для такой функции достаточно создать выборку один раз, изменив ее размер."
      ]
    },
    {
      "cell_type": "code",
      "execution_count": null,
      "metadata": {
        "id": "i9tiI7BUV6bZ"
      },
      "outputs": [],
      "source": [
        "# your code and thoughts here\n",
        "# C (・_・)ノ"
      ]
    }
  ],
  "metadata": {
    "kernelspec": {
      "display_name": "Python 3",
      "language": "python",
      "name": "python3"
    },
    "language_info": {
      "codemirror_mode": {
        "name": "ipython",
        "version": 3
      },
      "file_extension": ".py",
      "mimetype": "text/x-python",
      "name": "python",
      "nbconvert_exporter": "python",
      "pygments_lexer": "ipython3",
      "version": "3.11.6"
    },
    "colab": {
      "provenance": []
    }
  },
  "nbformat": 4,
  "nbformat_minor": 0
}