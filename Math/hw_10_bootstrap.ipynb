{
  "cells": [
    {
      "cell_type": "markdown",
      "id": "9074d943",
      "metadata": {
        "id": "9074d943"
      },
      "source": [
        "<center>\n",
        "<img src=\"https://raw.githubusercontent.com/FUlyankin/r_probability/master/end_seminars_2020/sem08/real_expect.png\" width=\"500\">\n",
        "\n",
        "# Домашнее задание 10: Бутстрап\n",
        "</center>"
      ]
    },
    {
      "cell_type": "markdown",
      "id": "153348a7",
      "metadata": {
        "id": "153348a7"
      },
      "source": [
        "**ФИО:**"
      ]
    },
    {
      "cell_type": "markdown",
      "id": "f40dc119",
      "metadata": {
        "id": "f40dc119"
      },
      "source": [
        "## Общая информация\n",
        "\n",
        "- [Лекция](https://youtu.be/CJnorD7RF-o)\n",
        "- Полезные блокноты: [Монетки,](https://github.com/hse-econ-data-science/andan2024/blob/main/sem14_bootstrap/sem14_python_bootstrap.ipynb) [симуляции](https://github.com/hse-econ-data-science/andan2024/blob/main/sem14_bootstrap/sem14_bootstrap_simulations_bonus.ipynb)\n",
        "\n",
        "__Дата выдачи:__ 01.06.2024\n",
        "\n",
        "__Дедлайн:__ 23:59MSK 20.06.2024"
      ]
    },
    {
      "cell_type": "code",
      "execution_count": 2,
      "id": "9ffeb8fa",
      "metadata": {
        "id": "9ffeb8fa"
      },
      "outputs": [],
      "source": [
        "import numpy as np\n",
        "import pandas as pd\n",
        "\n",
        "from scipy import stats as sts\n",
        "\n",
        "import seaborn as sns\n",
        "import matplotlib.pyplot as plt\n",
        "\n",
        "plt.style.use('ggplot')\n",
        "%matplotlib inline"
      ]
    },
    {
      "cell_type": "markdown",
      "id": "3e41975e",
      "metadata": {
        "vscode": {
          "languageId": "plaintext"
        },
        "id": "3e41975e"
      },
      "source": [
        "## Задание 1 (дискриминация)\n",
        "\n",
        "Компания Verizon - основная региональная телекоммуникационная компания в западной части США. Она отвечает за поддержание наземной телефонной связи (Incumbent Local Exchange Carrier, ILEC). Кроме того, она продаёт услуги междугородней связи, как и ряд её конкурентов, получивших название (Competing Local Exchange Carriers, CLEC).\n",
        "\n",
        "Когда что-то шло не так, Verizon отвечала за ремонт своего оборудования и оборудования конкурентов. Она должна была делать ремонт оборудования конкурентов также быстро, как и ремонт своего оборудования. За этим следила комиссия по коммунальным услугам.\n",
        "\n",
        "Периодически возникали подозрения, что Verizon ремонтирует чужое оборудование медленнее. Тим Хестерберг, автор [отличной статьи про бустрап,](https://arxiv.org/pdf/1411.5279.pdf) консультировал компанию Verizon во время слушаний о нарушениях. Комиссия сравнивала время ремонта для Verizon и других компаний. Чтобы определить есть ли нарушения, в каждом случае, она проверяла гипотезу о равенстве средних на уровне значимости $1\\%$.\n",
        "\n",
        "Если более $1\\%$ тестов оказывались значимыми, компания должна была бы заплатить высокий штраф. Гипотезы проверялись с помощью $t$-статистик. После консультации Тима, Verizon предложила использовать тесты, робастные к выбросам и никак не завязанные на нормальность исходных распределений.\n",
        "\n",
        "Мы в этом задании попробуем ответить на тот же вопрос, связанный с дискриминацией, но с помощью бустрапа. Для этого мы построим доверительный интервал для разности медиан и посмотрим входит ли в него ноль. Будем использовать уровень значимости в $1\\%$. Доверительный интервал будем строить для одной CLEC-комиании и для Verizon."
      ]
    },
    {
      "cell_type": "code",
      "execution_count": 36,
      "id": "a7a1a4ca",
      "metadata": {
        "colab": {
          "base_uri": "https://localhost:8080/",
          "height": 221
        },
        "id": "a7a1a4ca",
        "outputId": "4419b37a-e3e3-44c4-9747-efbbe3f382ce"
      },
      "outputs": [
        {
          "output_type": "stream",
          "name": "stdout",
          "text": [
            "(1687, 2)\n"
          ]
        },
        {
          "output_type": "execute_result",
          "data": {
            "text/plain": [
              "    Time Group\n",
              "0  17.50  ILEC\n",
              "1   2.40  ILEC\n",
              "2   0.00  ILEC\n",
              "3   0.65  ILEC\n",
              "4  22.23  ILEC"
            ],
            "text/html": [
              "\n",
              "  <div id=\"df-8048ba18-d435-403b-b8d7-9376b7b89749\" class=\"colab-df-container\">\n",
              "    <div>\n",
              "<style scoped>\n",
              "    .dataframe tbody tr th:only-of-type {\n",
              "        vertical-align: middle;\n",
              "    }\n",
              "\n",
              "    .dataframe tbody tr th {\n",
              "        vertical-align: top;\n",
              "    }\n",
              "\n",
              "    .dataframe thead th {\n",
              "        text-align: right;\n",
              "    }\n",
              "</style>\n",
              "<table border=\"1\" class=\"dataframe\">\n",
              "  <thead>\n",
              "    <tr style=\"text-align: right;\">\n",
              "      <th></th>\n",
              "      <th>Time</th>\n",
              "      <th>Group</th>\n",
              "    </tr>\n",
              "  </thead>\n",
              "  <tbody>\n",
              "    <tr>\n",
              "      <th>0</th>\n",
              "      <td>17.50</td>\n",
              "      <td>ILEC</td>\n",
              "    </tr>\n",
              "    <tr>\n",
              "      <th>1</th>\n",
              "      <td>2.40</td>\n",
              "      <td>ILEC</td>\n",
              "    </tr>\n",
              "    <tr>\n",
              "      <th>2</th>\n",
              "      <td>0.00</td>\n",
              "      <td>ILEC</td>\n",
              "    </tr>\n",
              "    <tr>\n",
              "      <th>3</th>\n",
              "      <td>0.65</td>\n",
              "      <td>ILEC</td>\n",
              "    </tr>\n",
              "    <tr>\n",
              "      <th>4</th>\n",
              "      <td>22.23</td>\n",
              "      <td>ILEC</td>\n",
              "    </tr>\n",
              "  </tbody>\n",
              "</table>\n",
              "</div>\n",
              "    <div class=\"colab-df-buttons\">\n",
              "\n",
              "  <div class=\"colab-df-container\">\n",
              "    <button class=\"colab-df-convert\" onclick=\"convertToInteractive('df-8048ba18-d435-403b-b8d7-9376b7b89749')\"\n",
              "            title=\"Convert this dataframe to an interactive table.\"\n",
              "            style=\"display:none;\">\n",
              "\n",
              "  <svg xmlns=\"http://www.w3.org/2000/svg\" height=\"24px\" viewBox=\"0 -960 960 960\">\n",
              "    <path d=\"M120-120v-720h720v720H120Zm60-500h600v-160H180v160Zm220 220h160v-160H400v160Zm0 220h160v-160H400v160ZM180-400h160v-160H180v160Zm440 0h160v-160H620v160ZM180-180h160v-160H180v160Zm440 0h160v-160H620v160Z\"/>\n",
              "  </svg>\n",
              "    </button>\n",
              "\n",
              "  <style>\n",
              "    .colab-df-container {\n",
              "      display:flex;\n",
              "      gap: 12px;\n",
              "    }\n",
              "\n",
              "    .colab-df-convert {\n",
              "      background-color: #E8F0FE;\n",
              "      border: none;\n",
              "      border-radius: 50%;\n",
              "      cursor: pointer;\n",
              "      display: none;\n",
              "      fill: #1967D2;\n",
              "      height: 32px;\n",
              "      padding: 0 0 0 0;\n",
              "      width: 32px;\n",
              "    }\n",
              "\n",
              "    .colab-df-convert:hover {\n",
              "      background-color: #E2EBFA;\n",
              "      box-shadow: 0px 1px 2px rgba(60, 64, 67, 0.3), 0px 1px 3px 1px rgba(60, 64, 67, 0.15);\n",
              "      fill: #174EA6;\n",
              "    }\n",
              "\n",
              "    .colab-df-buttons div {\n",
              "      margin-bottom: 4px;\n",
              "    }\n",
              "\n",
              "    [theme=dark] .colab-df-convert {\n",
              "      background-color: #3B4455;\n",
              "      fill: #D2E3FC;\n",
              "    }\n",
              "\n",
              "    [theme=dark] .colab-df-convert:hover {\n",
              "      background-color: #434B5C;\n",
              "      box-shadow: 0px 1px 3px 1px rgba(0, 0, 0, 0.15);\n",
              "      filter: drop-shadow(0px 1px 2px rgba(0, 0, 0, 0.3));\n",
              "      fill: #FFFFFF;\n",
              "    }\n",
              "  </style>\n",
              "\n",
              "    <script>\n",
              "      const buttonEl =\n",
              "        document.querySelector('#df-8048ba18-d435-403b-b8d7-9376b7b89749 button.colab-df-convert');\n",
              "      buttonEl.style.display =\n",
              "        google.colab.kernel.accessAllowed ? 'block' : 'none';\n",
              "\n",
              "      async function convertToInteractive(key) {\n",
              "        const element = document.querySelector('#df-8048ba18-d435-403b-b8d7-9376b7b89749');\n",
              "        const dataTable =\n",
              "          await google.colab.kernel.invokeFunction('convertToInteractive',\n",
              "                                                    [key], {});\n",
              "        if (!dataTable) return;\n",
              "\n",
              "        const docLinkHtml = 'Like what you see? Visit the ' +\n",
              "          '<a target=\"_blank\" href=https://colab.research.google.com/notebooks/data_table.ipynb>data table notebook</a>'\n",
              "          + ' to learn more about interactive tables.';\n",
              "        element.innerHTML = '';\n",
              "        dataTable['output_type'] = 'display_data';\n",
              "        await google.colab.output.renderOutput(dataTable, element);\n",
              "        const docLink = document.createElement('div');\n",
              "        docLink.innerHTML = docLinkHtml;\n",
              "        element.appendChild(docLink);\n",
              "      }\n",
              "    </script>\n",
              "  </div>\n",
              "\n",
              "\n",
              "    <div id=\"df-6d2bb73e-9bf0-4c8f-acdf-90cb59bc725d\">\n",
              "      <button class=\"colab-df-quickchart\" onclick=\"quickchart('df-6d2bb73e-9bf0-4c8f-acdf-90cb59bc725d')\"\n",
              "                title=\"Suggest charts\"\n",
              "                style=\"display:none;\">\n",
              "\n",
              "<svg xmlns=\"http://www.w3.org/2000/svg\" height=\"24px\"viewBox=\"0 0 24 24\"\n",
              "     width=\"24px\">\n",
              "    <g>\n",
              "        <path d=\"M19 3H5c-1.1 0-2 .9-2 2v14c0 1.1.9 2 2 2h14c1.1 0 2-.9 2-2V5c0-1.1-.9-2-2-2zM9 17H7v-7h2v7zm4 0h-2V7h2v10zm4 0h-2v-4h2v4z\"/>\n",
              "    </g>\n",
              "</svg>\n",
              "      </button>\n",
              "\n",
              "<style>\n",
              "  .colab-df-quickchart {\n",
              "      --bg-color: #E8F0FE;\n",
              "      --fill-color: #1967D2;\n",
              "      --hover-bg-color: #E2EBFA;\n",
              "      --hover-fill-color: #174EA6;\n",
              "      --disabled-fill-color: #AAA;\n",
              "      --disabled-bg-color: #DDD;\n",
              "  }\n",
              "\n",
              "  [theme=dark] .colab-df-quickchart {\n",
              "      --bg-color: #3B4455;\n",
              "      --fill-color: #D2E3FC;\n",
              "      --hover-bg-color: #434B5C;\n",
              "      --hover-fill-color: #FFFFFF;\n",
              "      --disabled-bg-color: #3B4455;\n",
              "      --disabled-fill-color: #666;\n",
              "  }\n",
              "\n",
              "  .colab-df-quickchart {\n",
              "    background-color: var(--bg-color);\n",
              "    border: none;\n",
              "    border-radius: 50%;\n",
              "    cursor: pointer;\n",
              "    display: none;\n",
              "    fill: var(--fill-color);\n",
              "    height: 32px;\n",
              "    padding: 0;\n",
              "    width: 32px;\n",
              "  }\n",
              "\n",
              "  .colab-df-quickchart:hover {\n",
              "    background-color: var(--hover-bg-color);\n",
              "    box-shadow: 0 1px 2px rgba(60, 64, 67, 0.3), 0 1px 3px 1px rgba(60, 64, 67, 0.15);\n",
              "    fill: var(--button-hover-fill-color);\n",
              "  }\n",
              "\n",
              "  .colab-df-quickchart-complete:disabled,\n",
              "  .colab-df-quickchart-complete:disabled:hover {\n",
              "    background-color: var(--disabled-bg-color);\n",
              "    fill: var(--disabled-fill-color);\n",
              "    box-shadow: none;\n",
              "  }\n",
              "\n",
              "  .colab-df-spinner {\n",
              "    border: 2px solid var(--fill-color);\n",
              "    border-color: transparent;\n",
              "    border-bottom-color: var(--fill-color);\n",
              "    animation:\n",
              "      spin 1s steps(1) infinite;\n",
              "  }\n",
              "\n",
              "  @keyframes spin {\n",
              "    0% {\n",
              "      border-color: transparent;\n",
              "      border-bottom-color: var(--fill-color);\n",
              "      border-left-color: var(--fill-color);\n",
              "    }\n",
              "    20% {\n",
              "      border-color: transparent;\n",
              "      border-left-color: var(--fill-color);\n",
              "      border-top-color: var(--fill-color);\n",
              "    }\n",
              "    30% {\n",
              "      border-color: transparent;\n",
              "      border-left-color: var(--fill-color);\n",
              "      border-top-color: var(--fill-color);\n",
              "      border-right-color: var(--fill-color);\n",
              "    }\n",
              "    40% {\n",
              "      border-color: transparent;\n",
              "      border-right-color: var(--fill-color);\n",
              "      border-top-color: var(--fill-color);\n",
              "    }\n",
              "    60% {\n",
              "      border-color: transparent;\n",
              "      border-right-color: var(--fill-color);\n",
              "    }\n",
              "    80% {\n",
              "      border-color: transparent;\n",
              "      border-right-color: var(--fill-color);\n",
              "      border-bottom-color: var(--fill-color);\n",
              "    }\n",
              "    90% {\n",
              "      border-color: transparent;\n",
              "      border-bottom-color: var(--fill-color);\n",
              "    }\n",
              "  }\n",
              "</style>\n",
              "\n",
              "      <script>\n",
              "        async function quickchart(key) {\n",
              "          const quickchartButtonEl =\n",
              "            document.querySelector('#' + key + ' button');\n",
              "          quickchartButtonEl.disabled = true;  // To prevent multiple clicks.\n",
              "          quickchartButtonEl.classList.add('colab-df-spinner');\n",
              "          try {\n",
              "            const charts = await google.colab.kernel.invokeFunction(\n",
              "                'suggestCharts', [key], {});\n",
              "          } catch (error) {\n",
              "            console.error('Error during call to suggestCharts:', error);\n",
              "          }\n",
              "          quickchartButtonEl.classList.remove('colab-df-spinner');\n",
              "          quickchartButtonEl.classList.add('colab-df-quickchart-complete');\n",
              "        }\n",
              "        (() => {\n",
              "          let quickchartButtonEl =\n",
              "            document.querySelector('#df-6d2bb73e-9bf0-4c8f-acdf-90cb59bc725d button');\n",
              "          quickchartButtonEl.style.display =\n",
              "            google.colab.kernel.accessAllowed ? 'block' : 'none';\n",
              "        })();\n",
              "      </script>\n",
              "    </div>\n",
              "    </div>\n",
              "  </div>\n"
            ],
            "application/vnd.google.colaboratory.intrinsic+json": {
              "type": "dataframe",
              "variable_name": "df",
              "summary": "{\n  \"name\": \"df\",\n  \"rows\": 1687,\n  \"fields\": [\n    {\n      \"column\": \"Time\",\n      \"properties\": {\n        \"dtype\": \"number\",\n        \"std\": 14.788484023724557,\n        \"min\": 0.0,\n        \"max\": 191.6,\n        \"num_unique_values\": 743,\n        \"samples\": [\n          0.92,\n          3.4,\n          4.3\n        ],\n        \"semantic_type\": \"\",\n        \"description\": \"\"\n      }\n    },\n    {\n      \"column\": \"Group\",\n      \"properties\": {\n        \"dtype\": \"category\",\n        \"num_unique_values\": 2,\n        \"samples\": [\n          \"CLEC\",\n          \"ILEC\"\n        ],\n        \"semantic_type\": \"\",\n        \"description\": \"\"\n      }\n    }\n  ]\n}"
            }
          },
          "metadata": {},
          "execution_count": 36
        }
      ],
      "source": [
        "df = pd.read_csv('verizon.txt', sep='\\t')\n",
        "print(df.shape)\n",
        "\n",
        "# ILEC - Verizion\n",
        "# CLEC - внешние клиенты\n",
        "df.head()"
      ]
    },
    {
      "cell_type": "markdown",
      "id": "057cba48",
      "metadata": {
        "id": "057cba48"
      },
      "source": [
        "Посмотрим на то, как распределено время ремонта для разных компаний, а также на число наблюдений, которым мы располагаем."
      ]
    },
    {
      "cell_type": "code",
      "execution_count": 37,
      "id": "64985567",
      "metadata": {
        "colab": {
          "base_uri": "https://localhost:8080/",
          "height": 142
        },
        "id": "64985567",
        "outputId": "03a409a1-45c1-4539-a484-295a2023db7b"
      },
      "outputs": [
        {
          "output_type": "execute_result",
          "data": {
            "text/plain": [
              "       count       mean  median        std\n",
              "Group                                     \n",
              "CLEC      23  16.509130   14.33  19.503576\n",
              "ILEC    1664   8.411611    3.59  14.690039"
            ],
            "text/html": [
              "\n",
              "  <div id=\"df-82f13e87-a992-4820-9b0a-93feac934a79\" class=\"colab-df-container\">\n",
              "    <div>\n",
              "<style scoped>\n",
              "    .dataframe tbody tr th:only-of-type {\n",
              "        vertical-align: middle;\n",
              "    }\n",
              "\n",
              "    .dataframe tbody tr th {\n",
              "        vertical-align: top;\n",
              "    }\n",
              "\n",
              "    .dataframe thead th {\n",
              "        text-align: right;\n",
              "    }\n",
              "</style>\n",
              "<table border=\"1\" class=\"dataframe\">\n",
              "  <thead>\n",
              "    <tr style=\"text-align: right;\">\n",
              "      <th></th>\n",
              "      <th>count</th>\n",
              "      <th>mean</th>\n",
              "      <th>median</th>\n",
              "      <th>std</th>\n",
              "    </tr>\n",
              "    <tr>\n",
              "      <th>Group</th>\n",
              "      <th></th>\n",
              "      <th></th>\n",
              "      <th></th>\n",
              "      <th></th>\n",
              "    </tr>\n",
              "  </thead>\n",
              "  <tbody>\n",
              "    <tr>\n",
              "      <th>CLEC</th>\n",
              "      <td>23</td>\n",
              "      <td>16.509130</td>\n",
              "      <td>14.33</td>\n",
              "      <td>19.503576</td>\n",
              "    </tr>\n",
              "    <tr>\n",
              "      <th>ILEC</th>\n",
              "      <td>1664</td>\n",
              "      <td>8.411611</td>\n",
              "      <td>3.59</td>\n",
              "      <td>14.690039</td>\n",
              "    </tr>\n",
              "  </tbody>\n",
              "</table>\n",
              "</div>\n",
              "    <div class=\"colab-df-buttons\">\n",
              "\n",
              "  <div class=\"colab-df-container\">\n",
              "    <button class=\"colab-df-convert\" onclick=\"convertToInteractive('df-82f13e87-a992-4820-9b0a-93feac934a79')\"\n",
              "            title=\"Convert this dataframe to an interactive table.\"\n",
              "            style=\"display:none;\">\n",
              "\n",
              "  <svg xmlns=\"http://www.w3.org/2000/svg\" height=\"24px\" viewBox=\"0 -960 960 960\">\n",
              "    <path d=\"M120-120v-720h720v720H120Zm60-500h600v-160H180v160Zm220 220h160v-160H400v160Zm0 220h160v-160H400v160ZM180-400h160v-160H180v160Zm440 0h160v-160H620v160ZM180-180h160v-160H180v160Zm440 0h160v-160H620v160Z\"/>\n",
              "  </svg>\n",
              "    </button>\n",
              "\n",
              "  <style>\n",
              "    .colab-df-container {\n",
              "      display:flex;\n",
              "      gap: 12px;\n",
              "    }\n",
              "\n",
              "    .colab-df-convert {\n",
              "      background-color: #E8F0FE;\n",
              "      border: none;\n",
              "      border-radius: 50%;\n",
              "      cursor: pointer;\n",
              "      display: none;\n",
              "      fill: #1967D2;\n",
              "      height: 32px;\n",
              "      padding: 0 0 0 0;\n",
              "      width: 32px;\n",
              "    }\n",
              "\n",
              "    .colab-df-convert:hover {\n",
              "      background-color: #E2EBFA;\n",
              "      box-shadow: 0px 1px 2px rgba(60, 64, 67, 0.3), 0px 1px 3px 1px rgba(60, 64, 67, 0.15);\n",
              "      fill: #174EA6;\n",
              "    }\n",
              "\n",
              "    .colab-df-buttons div {\n",
              "      margin-bottom: 4px;\n",
              "    }\n",
              "\n",
              "    [theme=dark] .colab-df-convert {\n",
              "      background-color: #3B4455;\n",
              "      fill: #D2E3FC;\n",
              "    }\n",
              "\n",
              "    [theme=dark] .colab-df-convert:hover {\n",
              "      background-color: #434B5C;\n",
              "      box-shadow: 0px 1px 3px 1px rgba(0, 0, 0, 0.15);\n",
              "      filter: drop-shadow(0px 1px 2px rgba(0, 0, 0, 0.3));\n",
              "      fill: #FFFFFF;\n",
              "    }\n",
              "  </style>\n",
              "\n",
              "    <script>\n",
              "      const buttonEl =\n",
              "        document.querySelector('#df-82f13e87-a992-4820-9b0a-93feac934a79 button.colab-df-convert');\n",
              "      buttonEl.style.display =\n",
              "        google.colab.kernel.accessAllowed ? 'block' : 'none';\n",
              "\n",
              "      async function convertToInteractive(key) {\n",
              "        const element = document.querySelector('#df-82f13e87-a992-4820-9b0a-93feac934a79');\n",
              "        const dataTable =\n",
              "          await google.colab.kernel.invokeFunction('convertToInteractive',\n",
              "                                                    [key], {});\n",
              "        if (!dataTable) return;\n",
              "\n",
              "        const docLinkHtml = 'Like what you see? Visit the ' +\n",
              "          '<a target=\"_blank\" href=https://colab.research.google.com/notebooks/data_table.ipynb>data table notebook</a>'\n",
              "          + ' to learn more about interactive tables.';\n",
              "        element.innerHTML = '';\n",
              "        dataTable['output_type'] = 'display_data';\n",
              "        await google.colab.output.renderOutput(dataTable, element);\n",
              "        const docLink = document.createElement('div');\n",
              "        docLink.innerHTML = docLinkHtml;\n",
              "        element.appendChild(docLink);\n",
              "      }\n",
              "    </script>\n",
              "  </div>\n",
              "\n",
              "\n",
              "    <div id=\"df-989d4b93-b7ca-4fab-9b77-8f0c22f03918\">\n",
              "      <button class=\"colab-df-quickchart\" onclick=\"quickchart('df-989d4b93-b7ca-4fab-9b77-8f0c22f03918')\"\n",
              "                title=\"Suggest charts\"\n",
              "                style=\"display:none;\">\n",
              "\n",
              "<svg xmlns=\"http://www.w3.org/2000/svg\" height=\"24px\"viewBox=\"0 0 24 24\"\n",
              "     width=\"24px\">\n",
              "    <g>\n",
              "        <path d=\"M19 3H5c-1.1 0-2 .9-2 2v14c0 1.1.9 2 2 2h14c1.1 0 2-.9 2-2V5c0-1.1-.9-2-2-2zM9 17H7v-7h2v7zm4 0h-2V7h2v10zm4 0h-2v-4h2v4z\"/>\n",
              "    </g>\n",
              "</svg>\n",
              "      </button>\n",
              "\n",
              "<style>\n",
              "  .colab-df-quickchart {\n",
              "      --bg-color: #E8F0FE;\n",
              "      --fill-color: #1967D2;\n",
              "      --hover-bg-color: #E2EBFA;\n",
              "      --hover-fill-color: #174EA6;\n",
              "      --disabled-fill-color: #AAA;\n",
              "      --disabled-bg-color: #DDD;\n",
              "  }\n",
              "\n",
              "  [theme=dark] .colab-df-quickchart {\n",
              "      --bg-color: #3B4455;\n",
              "      --fill-color: #D2E3FC;\n",
              "      --hover-bg-color: #434B5C;\n",
              "      --hover-fill-color: #FFFFFF;\n",
              "      --disabled-bg-color: #3B4455;\n",
              "      --disabled-fill-color: #666;\n",
              "  }\n",
              "\n",
              "  .colab-df-quickchart {\n",
              "    background-color: var(--bg-color);\n",
              "    border: none;\n",
              "    border-radius: 50%;\n",
              "    cursor: pointer;\n",
              "    display: none;\n",
              "    fill: var(--fill-color);\n",
              "    height: 32px;\n",
              "    padding: 0;\n",
              "    width: 32px;\n",
              "  }\n",
              "\n",
              "  .colab-df-quickchart:hover {\n",
              "    background-color: var(--hover-bg-color);\n",
              "    box-shadow: 0 1px 2px rgba(60, 64, 67, 0.3), 0 1px 3px 1px rgba(60, 64, 67, 0.15);\n",
              "    fill: var(--button-hover-fill-color);\n",
              "  }\n",
              "\n",
              "  .colab-df-quickchart-complete:disabled,\n",
              "  .colab-df-quickchart-complete:disabled:hover {\n",
              "    background-color: var(--disabled-bg-color);\n",
              "    fill: var(--disabled-fill-color);\n",
              "    box-shadow: none;\n",
              "  }\n",
              "\n",
              "  .colab-df-spinner {\n",
              "    border: 2px solid var(--fill-color);\n",
              "    border-color: transparent;\n",
              "    border-bottom-color: var(--fill-color);\n",
              "    animation:\n",
              "      spin 1s steps(1) infinite;\n",
              "  }\n",
              "\n",
              "  @keyframes spin {\n",
              "    0% {\n",
              "      border-color: transparent;\n",
              "      border-bottom-color: var(--fill-color);\n",
              "      border-left-color: var(--fill-color);\n",
              "    }\n",
              "    20% {\n",
              "      border-color: transparent;\n",
              "      border-left-color: var(--fill-color);\n",
              "      border-top-color: var(--fill-color);\n",
              "    }\n",
              "    30% {\n",
              "      border-color: transparent;\n",
              "      border-left-color: var(--fill-color);\n",
              "      border-top-color: var(--fill-color);\n",
              "      border-right-color: var(--fill-color);\n",
              "    }\n",
              "    40% {\n",
              "      border-color: transparent;\n",
              "      border-right-color: var(--fill-color);\n",
              "      border-top-color: var(--fill-color);\n",
              "    }\n",
              "    60% {\n",
              "      border-color: transparent;\n",
              "      border-right-color: var(--fill-color);\n",
              "    }\n",
              "    80% {\n",
              "      border-color: transparent;\n",
              "      border-right-color: var(--fill-color);\n",
              "      border-bottom-color: var(--fill-color);\n",
              "    }\n",
              "    90% {\n",
              "      border-color: transparent;\n",
              "      border-bottom-color: var(--fill-color);\n",
              "    }\n",
              "  }\n",
              "</style>\n",
              "\n",
              "      <script>\n",
              "        async function quickchart(key) {\n",
              "          const quickchartButtonEl =\n",
              "            document.querySelector('#' + key + ' button');\n",
              "          quickchartButtonEl.disabled = true;  // To prevent multiple clicks.\n",
              "          quickchartButtonEl.classList.add('colab-df-spinner');\n",
              "          try {\n",
              "            const charts = await google.colab.kernel.invokeFunction(\n",
              "                'suggestCharts', [key], {});\n",
              "          } catch (error) {\n",
              "            console.error('Error during call to suggestCharts:', error);\n",
              "          }\n",
              "          quickchartButtonEl.classList.remove('colab-df-spinner');\n",
              "          quickchartButtonEl.classList.add('colab-df-quickchart-complete');\n",
              "        }\n",
              "        (() => {\n",
              "          let quickchartButtonEl =\n",
              "            document.querySelector('#df-989d4b93-b7ca-4fab-9b77-8f0c22f03918 button');\n",
              "          quickchartButtonEl.style.display =\n",
              "            google.colab.kernel.accessAllowed ? 'block' : 'none';\n",
              "        })();\n",
              "      </script>\n",
              "    </div>\n",
              "    </div>\n",
              "  </div>\n"
            ],
            "application/vnd.google.colaboratory.intrinsic+json": {
              "type": "dataframe",
              "summary": "{\n  \"name\": \"df\",\n  \"rows\": 2,\n  \"fields\": [\n    {\n      \"column\": \"Group\",\n      \"properties\": {\n        \"dtype\": \"string\",\n        \"num_unique_values\": 2,\n        \"samples\": [\n          \"ILEC\",\n          \"CLEC\"\n        ],\n        \"semantic_type\": \"\",\n        \"description\": \"\"\n      }\n    },\n    {\n      \"column\": \"count\",\n      \"properties\": {\n        \"dtype\": \"number\",\n        \"std\": 1160,\n        \"min\": 23,\n        \"max\": 1664,\n        \"num_unique_values\": 2,\n        \"samples\": [\n          1664,\n          23\n        ],\n        \"semantic_type\": \"\",\n        \"description\": \"\"\n      }\n    },\n    {\n      \"column\": \"mean\",\n      \"properties\": {\n        \"dtype\": \"number\",\n        \"std\": 5.725811202285203,\n        \"min\": 8.411610576923078,\n        \"max\": 16.50913043478261,\n        \"num_unique_values\": 2,\n        \"samples\": [\n          8.411610576923078,\n          16.50913043478261\n        ],\n        \"semantic_type\": \"\",\n        \"description\": \"\"\n      }\n    },\n    {\n      \"column\": \"median\",\n      \"properties\": {\n        \"dtype\": \"number\",\n        \"std\": 7.594326829943521,\n        \"min\": 3.59,\n        \"max\": 14.33,\n        \"num_unique_values\": 2,\n        \"samples\": [\n          3.59,\n          14.33\n        ],\n        \"semantic_type\": \"\",\n        \"description\": \"\"\n      }\n    },\n    {\n      \"column\": \"std\",\n      \"properties\": {\n        \"dtype\": \"number\",\n        \"std\": 3.4036841281843238,\n        \"min\": 14.690039386467937,\n        \"max\": 19.503575642580252,\n        \"num_unique_values\": 2,\n        \"samples\": [\n          14.690039386467937,\n          19.503575642580252\n        ],\n        \"semantic_type\": \"\",\n        \"description\": \"\"\n      }\n    }\n  ]\n}"
            }
          },
          "metadata": {},
          "execution_count": 37
        }
      ],
      "source": [
        "df.groupby('Group')['Time'].agg(['count', 'mean', 'median', 'std'])"
      ]
    },
    {
      "cell_type": "markdown",
      "id": "b24c9715",
      "metadata": {
        "id": "b24c9715"
      },
      "source": [
        "В данных есть существенный перекос в количестве наблюдений. Среднее время ремонта CLEC почти вдвое больше, чем для ILEC. Вопрос в том, является ли это свидетельством дискриминации. Если посмотреть на распределение, можно заметить, что распределение времени на ремонт CLEC имеет как минимум один выброс. Тем не менее, если смотреть на медианы, которые робастны (нечувствительны) к выбросам, ситуация, связанная со временем оказывается ещё более драмматичной."
      ]
    },
    {
      "cell_type": "code",
      "execution_count": 38,
      "id": "2ba4feb4",
      "metadata": {
        "colab": {
          "base_uri": "https://localhost:8080/",
          "height": 430
        },
        "id": "2ba4feb4",
        "outputId": "5171b7b8-b70d-4817-f6dc-820b12576907"
      },
      "outputs": [
        {
          "output_type": "display_data",
          "data": {
            "text/plain": [
              "<Figure size 1200x500 with 1 Axes>"
            ],
            "image/png": "[encoded data removed]"
          },
          "metadata": {}
        }
      ],
      "source": [
        "plt.figure(figsize=(12,5))\n",
        "df[df.Group == 'ILEC'].Time.hist(bins=15, label='Verizion', alpha=0.4, density=True)\n",
        "df[df.Group == 'CLEC'].Time.hist(bins=15, label='CLEC', alpha=0.4, density=True)\n",
        "plt.legend();"
      ]
    },
    {
      "cell_type": "markdown",
      "id": "75dbf91b",
      "metadata": {
        "id": "75dbf91b"
      },
      "source": [
        "__а) [2 балла]__ Постройте для разницы $med_{CLEC} - med_{Verizion}$ доверительный интервал Эфрона (перцентильный доверительный интервал)."
      ]
    },
    {
      "cell_type": "markdown",
      "source": [
        "__Решение:__ Напишем функцию для генерации бутстрапируемых выборок:"
      ],
      "metadata": {
        "id": "AKczCnyVSYLG"
      },
      "id": "AKczCnyVSYLG"
    },
    {
      "cell_type": "code",
      "source": [
        "def get_bootstrap_sample(x, B_sample=1):\n",
        "    N = x.size\n",
        "    sample = np.random.choice(x, size=(N, B_sample), replace=True)\n",
        "\n",
        "    if B_sample == 1:\n",
        "        sample = sample.T[0]\n",
        "    return sample"
      ],
      "metadata": {
        "id": "f4Wn7ibESfkx"
      },
      "id": "f4Wn7ibESfkx",
      "execution_count": 39,
      "outputs": []
    },
    {
      "cell_type": "code",
      "execution_count": 40,
      "id": "cc397d35",
      "metadata": {
        "colab": {
          "base_uri": "https://localhost:8080/",
          "height": 506
        },
        "id": "cc397d35",
        "outputId": "03f769e6-cefc-4739-9a75-98b7ba423b6d"
      },
      "outputs": [
        {
          "output_type": "display_data",
          "data": {
            "text/plain": [
              "<Figure size 500x500 with 1 Axes>"
            ],
            "image/png": "[encoded data removed]"
          },
          "metadata": {}
        }
      ],
      "source": [
        "x = df[df['Group'] == 'ILEC']['Time'].values\n",
        "y = df[df['Group'] == 'CLEC']['Time'].values\n",
        "\n",
        "B_sample=10**4\n",
        "alpha = 0.01\n",
        "\n",
        "x_boot = get_bootstrap_sample(x, B_sample)\n",
        "y_boot = get_bootstrap_sample(y, B_sample)\n",
        "\n",
        "x_boot = np.median(x_boot, axis=0)\n",
        "y_boot = np.median(y_boot, axis=0)\n",
        "\n",
        "diff = y_boot - x_boot\n",
        "\n",
        "sns.displot(diff, bins=10)\n",
        "plt.show()"
      ]
    },
    {
      "cell_type": "code",
      "source": [
        "left = np.quantile(diff, alpha/2)\n",
        "right = np.quantile(diff, 1 - alpha/2)\n",
        "\n",
        "left, right"
      ],
      "metadata": {
        "colab": {
          "base_uri": "https://localhost:8080/"
        },
        "id": "yMW2x0NITryL",
        "outputId": "e0d3eb36-dfc7-4fa7-d548-218d5cfb0e61"
      },
      "id": "yMW2x0NITryL",
      "execution_count": 41,
      "outputs": [
        {
          "output_type": "execute_result",
          "data": {
            "text/plain": [
              "(np.float64(1.7200000000000002), np.float64(17.50012499999998))"
            ]
          },
          "metadata": {},
          "execution_count": 41
        }
      ]
    },
    {
      "cell_type": "code",
      "execution_count": 42,
      "id": "1ac14990",
      "metadata": {
        "id": "1ac14990"
      },
      "outputs": [],
      "source": [
        "# проверка того, что задание решено верно\n",
        "assert left > 1.6\n",
        "assert right < 20\n",
        "\n",
        "# подобные тесты скрыты от вас"
      ]
    },
    {
      "cell_type": "markdown",
      "source": [
        "__Вывод:__ Ноль не попадает в доверительный интервал, следовательно действительно есть разница между средним временем ремонта на уровне статистической значимости 1%"
      ],
      "metadata": {
        "id": "1m0lKQuKUzLE"
      },
      "id": "1m0lKQuKUzLE"
    },
    {
      "cell_type": "markdown",
      "id": "8c10b92c",
      "metadata": {
        "id": "8c10b92c"
      },
      "source": [
        "В целом, перцентильный интервал выглядит самым простым вариантом оценивания, однако в реальности он даёт весьма плохие результаты, так как сильно зависит от того насколько хорошо изначальная выборка аппроксимирует истинное распределение случайной величины. В данной ситуации из-за того, что исходное распределение асимметрично, мы получаем смещение."
      ]
    },
    {
      "cell_type": "markdown",
      "id": "53c7db8c",
      "metadata": {
        "id": "53c7db8c"
      },
      "source": [
        "__б) [2 балла]__ Постройте для разницы $med_{CLEC} - med_{Verizion}$ доверительный интервал Холла (обратный перцентильный доверительный интервал)."
      ]
    },
    {
      "cell_type": "code",
      "execution_count": 43,
      "id": "28d6e939",
      "metadata": {
        "colab": {
          "base_uri": "https://localhost:8080/"
        },
        "id": "28d6e939",
        "outputId": "2e93058d-c7f1-488f-ad00-1d66bb4dfad6"
      },
      "outputs": [
        {
          "output_type": "execute_result",
          "data": {
            "text/plain": [
              "(np.float64(4.267420000000022), np.float64(20.047545))"
            ]
          },
          "metadata": {},
          "execution_count": 43
        }
      ],
      "source": [
        "theta_hat = np.mean(diff)\n",
        "x_boot_h = diff - theta_hat\n",
        "\n",
        "left = theta_hat - np.quantile(x_boot_h, 1-alpha/2)\n",
        "right = theta_hat - np.quantile(x_boot_h, alpha/2)\n",
        "\n",
        "left, right"
      ]
    },
    {
      "cell_type": "code",
      "execution_count": 44,
      "id": "7108e0b0",
      "metadata": {
        "id": "7108e0b0"
      },
      "outputs": [],
      "source": [
        "# проверка того, что задание решено верно\n",
        "assert left > 3\n",
        "assert right < 22\n",
        "\n",
        "# подобные тесты скрыты от вас"
      ]
    },
    {
      "cell_type": "markdown",
      "source": [
        "__Ответ:__ Как видим в доверительный интервал Холла ноль также не попадает, следовательно по данному критерию также есть разница между средним временем ремонта на уровне статистической значимости 1%"
      ],
      "metadata": {
        "id": "CLvzDB1oXnpv"
      },
      "id": "CLvzDB1oXnpv"
    },
    {
      "cell_type": "markdown",
      "id": "c81a4650",
      "metadata": {
        "id": "c81a4650"
      },
      "source": [
        "Холл в своей работе называл перцентильный интервал \"the wrong pivot, backwards\". Обратный перцентильный интервал для асимметричных распределений делает то же самое, но в обратном направлении."
      ]
    },
    {
      "cell_type": "markdown",
      "id": "dea4ffe9",
      "metadata": {
        "id": "dea4ffe9"
      },
      "source": [
        "__в) [2 балла]__ Постройте $t-$ перцентильный доверительный интервал:\n",
        "\n",
        "1. Найдите точечную оценку неизвестного параметра (разность медиан) и точечную оценку стандартного отклонения\n",
        "2. Сгенерируйте $10^5$ boostrap-выборок\n",
        "3. Рассчитайте по каждой выбооке выборочную разницу медиан\n",
        "4. Рассчитайте по каждой выборке стандартную ошибку\n",
        "5. Найдите по каждой выборке $$t^* = \\frac{\\hat \\theta^{*} - \\hat{\\theta}}{S^{*}}$$\n",
        "6. Найдите для $t^{*}$ квантили уровня $0.05$ и $0.95$\n",
        "7. Постройте доверительный интервал для разности медиан\n",
        "\n",
        "В качестве $S^{*}$ исполизуйте сумму стандартных отклонений, посчитанных по выборкам $x$ и $y$. Конечно же, мы используем при таком подходе неправильное стандартное отклонение. При этом мы надеемся, что бутсрэп сам поправит нашу ошибку. При таком подходе главное, чтобы знаменатель сходился по вероятности к какому-нибудь пределу."
      ]
    },
    {
      "cell_type": "code",
      "source": [
        "B_sample = 10 ** 5\n",
        "alpha = 0.05\n",
        "\n",
        "theta_hat =  np.median(y) - np.median(x)\n",
        "std_star = np.sqrt(np.var(x, ddof=1)/len(x) + np.var(y, ddof=1)/len(y))\n",
        "\n",
        "x_boot = get_bootstrap_sample(x, B_sample)\n",
        "y_boot = get_bootstrap_sample(y, B_sample)\n",
        "\n",
        "diff_boot = np.median(y_boot, axis=0) - np.median(x_boot, axis=0)\n",
        "x_boot_se = np.sqrt(np.var(x_boot) / x_boot.shape[0])\n",
        "y_boot_se = np.sqrt(np.var(y_boot) / y_boot.shape[0])\n",
        "se_hat = np.sqrt(np.var(x_boot, ddof=1) / x_boot.shape[0] + np.var(y_boot,ddof=1) / y_boot.shape[0])\n",
        "\n",
        "diff_boot_t = (diff_boot - theta_hat) / se_hat\n",
        "\n",
        "left = theta_hat - np.quantile(diff_boot_t, 1 - alpha/2) * std_star\n",
        "right = theta_hat - np.quantile(diff_boot_t, alpha/2) * std_star\n",
        "left, right"
      ],
      "metadata": {
        "id": "83zKZ9yhysyi",
        "outputId": "6873899d-a8d9-40cd-ab0b-aabcfc271612",
        "colab": {
          "base_uri": "https://localhost:8080/"
        }
      },
      "id": "83zKZ9yhysyi",
      "execution_count": 110,
      "outputs": [
        {
          "output_type": "execute_result",
          "data": {
            "text/plain": [
              "(np.float64(4.6989069414179525), np.float64(19.622757813718785))"
            ]
          },
          "metadata": {},
          "execution_count": 110
        }
      ]
    },
    {
      "cell_type": "code",
      "source": [
        "x_boot.shape[0]"
      ],
      "metadata": {
        "id": "4d_we6ncE-L0",
        "outputId": "8e158e8b-a38f-4bd6-8622-1bb271178bb1",
        "colab": {
          "base_uri": "https://localhost:8080/"
        }
      },
      "id": "4d_we6ncE-L0",
      "execution_count": 106,
      "outputs": [
        {
          "output_type": "execute_result",
          "data": {
            "text/plain": [
              "(1664, 100000)"
            ]
          },
          "metadata": {},
          "execution_count": 106
        }
      ]
    },
    {
      "cell_type": "code",
      "execution_count": 103,
      "id": "8bd2bbd6",
      "metadata": {
        "id": "8bd2bbd6"
      },
      "outputs": [],
      "source": [
        "# проверка того, что задание решено верно\n",
        "assert left < 2\n",
        "assert right > 20\n",
        "\n",
        "# подобные тесты скрыты от вас"
      ]
    },
    {
      "cell_type": "markdown",
      "id": "afdbf607",
      "metadata": {
        "id": "afdbf607"
      },
      "source": [
        "У $t$-bootstrap есть одно интересное свойство: он \"уважает\" асимметрию распределений при расчёте доверительных интервалов.\n",
        "\n",
        "__г) [2 балла]__ Что в итоге? Есть ли дискриминация на рынке?\n",
        "\n",
        "__Ответ:__"
      ]
    },
    {
      "cell_type": "markdown",
      "id": "50f67405",
      "metadata": {
        "id": "50f67405"
      },
      "source": [
        "__д) [2 балла]__ Попробуйте оценить  $S^{*}$ с помощью двойного бутстрапа:\n",
        "\n",
        "1. Бутстрапируем $B$ выборок\n",
        "2. Для каждой сбутстрапированной выборки делаем ещё $B$ итераций бутстрапа, рассматривая эту выборку как исходную\n",
        "3. По каждой выборке второго уровня находим асимметрию, подсчитываем по полученным асимметриям стандартное отклонение\n",
        "4. Теперь у нас есть $B$ асимметрий и $B$ их стандартных отклонений\n",
        "5. Стандартное отклонение, найденное по выборке асимметрий первого уровня мы будем использовать для подсчёта наблюдаемого значения статистики\n",
        "\n",
        "Получается матрёшка из бутстрапов. Внутри каждого бутстрапа ещё $B$ бутсрапов. Изменились ли ваши выводы?"
      ]
    },
    {
      "cell_type": "code",
      "execution_count": null,
      "id": "364efc88",
      "metadata": {
        "id": "364efc88"
      },
      "outputs": [],
      "source": [
        "### ╰( ͡° ͜ʖ ͡° )つ▬▬ι═══════  bzzzzzzzzzz\n",
        "# will the code be with you"
      ]
    }
  ],
  "metadata": {
    "kernelspec": {
      "display_name": "Python 3",
      "language": "python",
      "name": "python3"
    },
    "language_info": {
      "codemirror_mode": {
        "name": "ipython",
        "version": 3
      },
      "file_extension": ".py",
      "mimetype": "text/x-python",
      "name": "python",
      "nbconvert_exporter": "python",
      "pygments_lexer": "ipython3",
      "version": "3.10.13"
    },
    "colab": {
      "provenance": []
    }
  },
  "nbformat": 4,
  "nbformat_minor": 5
}