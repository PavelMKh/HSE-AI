{
  "cells": [
    {
      "cell_type": "markdown",
      "id": "9074d943",
      "metadata": {
        "id": "9074d943"
      },
      "source": [
        "<center>\n",
        "<img src=\"https://raw.githubusercontent.com/FUlyankin/r_probability/master/end_seminars_2020/sem08/real_expect.png\" width=\"500\">\n",
        "\n",
        "# Домашнее задание 9: KS-тест и хи-квадрат тесты\n",
        "</center>"
      ]
    },
    {
      "cell_type": "markdown",
      "id": "153348a7",
      "metadata": {
        "id": "153348a7"
      },
      "source": [
        "**ФИО:**"
      ]
    },
    {
      "cell_type": "markdown",
      "id": "55808021",
      "metadata": {
        "id": "55808021"
      },
      "source": []
    },
    {
      "cell_type": "markdown",
      "id": "f40dc119",
      "metadata": {
        "id": "f40dc119"
      },
      "source": [
        "## Общая информация\n",
        "\n",
        "- [Лекция](https://youtu.be/LjZcrMiM9Ss)\n",
        "- [Полезные блокноты](https://github.com/FUlyankin/matstat-AB/blob/main/week10_nonparam_bootstrap/04_05_python_kolmogorov_pearson.ipynb)\n",
        "\n",
        "__Дата выдачи:__ 01.06.2024\n",
        "\n",
        "__Дедлайн:__ 23:59MSK 20.06.2024"
      ]
    },
    {
      "cell_type": "code",
      "execution_count": 1,
      "id": "66d6e013",
      "metadata": {
        "id": "66d6e013"
      },
      "outputs": [],
      "source": [
        "import numpy as np\n",
        "import pandas as pd\n",
        "\n",
        "from scipy import stats as sts\n",
        "\n",
        "import seaborn as sns\n",
        "import matplotlib.pyplot as plt\n",
        "\n",
        "plt.style.use('ggplot')\n",
        "%matplotlib inline"
      ]
    },
    {
      "cell_type": "markdown",
      "id": "3e41975e",
      "metadata": {
        "id": "3e41975e"
      },
      "source": [
        "## Задание 1 (однородная игра)\n",
        "\n",
        "Киллер - это весёлая лагерная игра. Краткие правила игры:\n",
        "\n",
        "- Игроки пишут свои имена на карточках и кладут их в шляпу\n",
        "- Игроки рандомно вытаскивают карточки из шляпы\n",
        "- Полученное имя - имя жертвы\n",
        "- Каждый игрок одновременно и убийца и жертва\n",
        "- Чтобы убить другого игрока, надо оказаться с ним наедине и застрелить из пальца\n",
        "- Жертва убитого становится новой жертвой игрока\n",
        "- Побеждает тот, кто совершит наибольшее число убийств\n",
        "\n",
        "На экономическом факультете было два раунда игры в киллера. Все убийства регистрировались в гугл-форме. В табличках `killer_time1.csv` и `killer_time2.csv` лежит время в часах, которое проходило между убийствами."
      ]
    },
    {
      "cell_type": "code",
      "execution_count": 2,
      "id": "a7a1a4ca",
      "metadata": {
        "id": "a7a1a4ca"
      },
      "outputs": [],
      "source": [
        "killer1 = pd.read_csv(\"killer_time1.csv\").hours_between_kill.values\n",
        "killer2 = pd.read_csv(\"killer_time2.csv\").hours_between_kill.values"
      ]
    },
    {
      "cell_type": "code",
      "execution_count": 3,
      "id": "057cba48",
      "metadata": {
        "colab": {
          "base_uri": "https://localhost:8080/",
          "height": 430
        },
        "id": "057cba48",
        "outputId": "10bf4d5e-716a-4c8c-d770-cd64e22cbdac"
      },
      "outputs": [
        {
          "output_type": "display_data",
          "data": {
            "text/plain": [
              "<Figure size 640x480 with 1 Axes>"
            ],
            "image/png": "[encoded data removed]"
          },
          "metadata": {}
        }
      ],
      "source": [
        "plt.hist(killer1, bins=20);"
      ]
    },
    {
      "cell_type": "code",
      "execution_count": 4,
      "id": "64985567",
      "metadata": {
        "colab": {
          "base_uri": "https://localhost:8080/",
          "height": 430
        },
        "id": "64985567",
        "outputId": "82181b5a-9476-4b29-dd8b-3f98acdfe369"
      },
      "outputs": [
        {
          "output_type": "display_data",
          "data": {
            "text/plain": [
              "<Figure size 640x480 with 1 Axes>"
            ],
            "image/png": "[encoded data removed]"
          },
          "metadata": {}
        }
      ],
      "source": [
        "plt.hist(killer2, bins=20);"
      ]
    },
    {
      "cell_type": "markdown",
      "id": "c81a4650",
      "metadata": {
        "id": "c81a4650"
      },
      "source": [
        "Мы хотим проверить гипотезу о том, что игры с точки зрения времени между убийствами прошли одинаково. Люди одинаково сильно были вовлечены в оба раунда игры и не потеряли энтузиазм.\n",
        "\n",
        "__а) [1 балл]__ Проверьте гипотезу об однородности выборок с помощью [теста Манна-Уитни.](https://docs.scipy.org/doc/scipy/reference/generated/scipy.stats.mannwhitneyu.html)"
      ]
    },
    {
      "cell_type": "code",
      "execution_count": 7,
      "id": "360e2b56",
      "metadata": {
        "colab": {
          "base_uri": "https://localhost:8080/"
        },
        "id": "360e2b56",
        "outputId": "099a1e7c-f16f-4839-82e6-3860bea1209b"
      },
      "outputs": [
        {
          "output_type": "stream",
          "name": "stdout",
          "text": [
            "Статистика Манна-Уитни: 269.0\n",
            "p-value: 0.49\n"
          ]
        }
      ],
      "source": [
        "stat, p_value = sts.mannwhitneyu(killer1, killer2, alternative='two-sided')\n",
        "\n",
        "print(f\"Статистика Манна-Уитни: {stat}\")\n",
        "print(f\"p-value: {p_value:.2f}\")"
      ]
    },
    {
      "cell_type": "markdown",
      "source": [
        "__Ответ:__ Поскольку p-value значительно выше всех возможных уровне статистической значимости (0.01 или 0.05), нет оснований отклонять нулевую гипотезу о том, что распределения времени между убийствами в двух раундах игры однородны."
      ],
      "metadata": {
        "id": "-e0LHHRZ7niH"
      },
      "id": "-e0LHHRZ7niH"
    },
    {
      "cell_type": "markdown",
      "id": "34e7e969",
      "metadata": {
        "id": "34e7e969"
      },
      "source": [
        "__б) [1 балл]__ Распределение выглядит, как экспоненциальное. Более того, по гистограммам возникает ощущение, что это одинаковое распределение. С помощью теста Колмогорова-Смирнова проверьте гипотезу о том, что обе выборки пришли из одного и того же распределения."
      ]
    },
    {
      "cell_type": "code",
      "execution_count": 8,
      "id": "947b5446",
      "metadata": {
        "colab": {
          "base_uri": "https://localhost:8080/"
        },
        "id": "947b5446",
        "outputId": "4279218a-6b53-40b3-9b6c-9de60d49be51"
      },
      "outputs": [
        {
          "output_type": "stream",
          "name": "stdout",
          "text": [
            "Статистика K-S: 0.21895424836601307\n",
            "p-value: 0.5452509816793373\n"
          ]
        }
      ],
      "source": [
        "stat, p_value = sts.ks_2samp(killer1, killer2)\n",
        "\n",
        "print(f\"Статистика K-S: {stat}\")\n",
        "print(f\"p-value: {p_value}\")"
      ]
    },
    {
      "cell_type": "markdown",
      "source": [
        "__Ответ:__ Значение p-value (0.545) значительно больше уровня значимости 0.05 или 0.01. Нет оснований отвергать нулевую гипотезу о том, что обе выборки пришли из одного и того же распределения. Распределения времени между убийствами в двух раундах совпадают."
      ],
      "metadata": {
        "id": "NescmGGt8gjG"
      },
      "id": "NescmGGt8gjG"
    },
    {
      "cell_type": "markdown",
      "id": "0138398b",
      "metadata": {
        "id": "0138398b"
      },
      "source": [
        "__в) [3 балла]__ Ответьте на вопросы:\n",
        "\n",
        "- Какая гипотеза проверяется в тесте Манна-Уитни? Подходит ли этот тест для данной задачи?\n",
        "\n",
        "__Ответ:__ Гипотеза о том, что две выборки взяты из генеральных совокупностей с одинаковым расположением (распределениями), то есть что распределения двух групп однородны и не отличаются по сдвигу или форме.\n",
        "\n",
        "В целом данный тест подходит, поскольку мы сравниваем время между убиствами, соответственно нам достаточно проверить смещение без подтверждения гипотезы о форме распределения.\n",
        "\n",
        "- Какая гипотеза проверятеся в KS-тесте?\n",
        "\n",
        "__Ответ:__ Гипотеза о том, что две выборки взяты из одного и того же распределения, учитывая все особенности формы распределения, а не только сдвиг или медиану. Этот тест чувствителен не только к сдвигам, но и к различию масштаба, форм и тп., т.е. проверяет полную однородность.\n",
        "\n",
        "- Какой тест вы бы вырали для решения задачи?\n",
        "\n",
        "__Ответ:__ С учетом визуальной картинки распределений, у нас нет необходимости проверки полной однородности. Нам достаточно проверить гипотезу о сдвиге, для этого вполне подходит критерий Манна-Уитни. Но и применение K-S не будет ошибкой, поскольку позволит проверить полную однородность распределений."
      ]
    },
    {
      "cell_type": "markdown",
      "id": "31a25db0",
      "metadata": {
        "id": "31a25db0"
      },
      "source": [
        "## Задание 2 (парадокс Симпсона)\n",
        "\n",
        "Помимо решения задач и применения различных функций из библиотек необходимо очень аккуратно работать с данным и понимать, какие действия корректны, а какие нет. Перед вами результаты медицинских исследований:\n",
        "\n",
        "- из $1650$ мужчин, принимавших лекарство, выздоровели $770$,\n",
        "- из $223$ мужчин, не принимавших лекарство, выздоровели $88$,\n",
        "- из $245$ женщин, принимавших лекарство, выздоровели $165$,\n",
        "- из $750$ женщин, не принимавших лекарство женщин, выздоровели $440$.\n",
        "\n",
        "Необходимо найти ответы на следующие вопросы:\n",
        "\n",
        "1. Влияет ли лекарство на мужчин?\n",
        "2. Влияет ли лекарство на женщин?\n",
        "3. Влияет ли лекарство на людей обоих полов в целом?\n",
        "\n",
        "Будем считать, что исследование проводилось методом двойного слепого тестирования. Врач не знал, даёт ли он пациенту плацебо или лекарство, пациент не знал, пьёт ли он плацебо или лекарство."
      ]
    },
    {
      "cell_type": "markdown",
      "id": "9f822e34",
      "metadata": {
        "id": "9f822e34"
      },
      "source": [
        "Запишем данные в табличку. Пусть $A$ — принимавшие лекарство, $\\overline{A}$ — не принимавшие лекарство, $B$ — выздоровевшие, $\\overline{B}$ — не выздоровевшие."
      ]
    },
    {
      "cell_type": "markdown",
      "id": "54568c47",
      "metadata": {
        "id": "54568c47"
      },
      "source": [
        "<!--<img width=\"60%\" src=\"pics/pic2.png\">-->\n",
        "<table>\n",
        "<tr><td>\n",
        "    \n",
        "|Мужчины| $B$ |  $\\overline{B}$|\n",
        "|--|--|--|\n",
        "|$A$| 770 | 880 |\n",
        "|$\\overline{A}$| 88 | 135 |\n",
        "\n",
        "</td><td>\n",
        "    \n",
        "|Женщины| $B$ |  $\\overline{B}$|\n",
        "|--|--|--|\n",
        "|$A$| 165 | 80 |\n",
        "|$\\overline{A}$| 440 | 310 |\n",
        "\n",
        "</td><td>\n",
        "\n",
        "|Вместе| $B$ |  $\\overline{B}$|\n",
        "|--|--|--|\n",
        "|$A$| 935 | 960 |\n",
        "|$\\overline{A}$| 528 | 445 |\n",
        "\n",
        "</td></tr> </table>"
      ]
    },
    {
      "cell_type": "markdown",
      "id": "28bc8bf8",
      "metadata": {
        "id": "28bc8bf8"
      },
      "source": [
        "Для решения задачи воспользуйтесь критерием хи-квадрат Пирсона.\n",
        "\n",
        "Тест поможет нам понять, есть ли у лекарства какой-то эффект. Применить тест в python помогает функция `chi2_contingency` из пакета `scipy.stats`. Используйте её с параметром `correction=False`."
      ]
    },
    {
      "cell_type": "markdown",
      "id": "83f7b932",
      "metadata": {
        "id": "83f7b932"
      },
      "source": [
        "__а) [1 балл]__  Давайте попробуем найти ответ на вопрос, есть ли эффект от лекарства для мужчин?  Давайте предварительно посчитаем долю выздровевших мужчин, которые принимали лекарство и долю выздровевших мужчин, которые не принимали лекартсво. Сравните эти доли."
      ]
    },
    {
      "cell_type": "code",
      "execution_count": 19,
      "id": "a03bdfbf",
      "metadata": {
        "colab": {
          "base_uri": "https://localhost:8080/"
        },
        "id": "a03bdfbf",
        "outputId": "64b9c4b2-073f-4e1f-8d98-1524980a1fed"
      },
      "outputs": [
        {
          "output_type": "execute_result",
          "data": {
            "text/plain": [
              "(0.4666666666666667, 0.39461883408071746)"
            ]
          },
          "metadata": {},
          "execution_count": 19
        }
      ],
      "source": [
        "p1 = 770 / 1650\n",
        "p2 = 88 / 223\n",
        "\n",
        "p1, p2"
      ]
    },
    {
      "cell_type": "markdown",
      "source": [
        "__Ответ:__ Доля выздоровевших у принимавших лекарство выше (46.7%) чем у не принимавших (39.5%).\n",
        "На первый взгляд это может свидетельствовать о положительном эффекте лекарства для мужчин."
      ],
      "metadata": {
        "id": "Dxcf81bK_zsh"
      },
      "id": "Dxcf81bK_zsh"
    },
    {
      "cell_type": "markdown",
      "id": "b0a84f83",
      "metadata": {
        "id": "b0a84f83"
      },
      "source": [
        "Создадим матрицу размера $2 \\times 2.$ Внесём в неё частоты, полученные для мужчин."
      ]
    },
    {
      "cell_type": "code",
      "execution_count": 20,
      "id": "bc3a3369",
      "metadata": {
        "id": "bc3a3369"
      },
      "outputs": [],
      "source": [
        "men = np.array([[770,880],[88,135]])"
      ]
    },
    {
      "cell_type": "markdown",
      "id": "59c1fe0a",
      "metadata": {
        "id": "59c1fe0a"
      },
      "source": [
        "Примените тест с параметром `correction=False` и сделайте выводы на уровне значимости $5\\%.$"
      ]
    },
    {
      "cell_type": "code",
      "execution_count": 21,
      "id": "6fbcf327",
      "metadata": {
        "colab": {
          "base_uri": "https://localhost:8080/"
        },
        "id": "6fbcf327",
        "outputId": "cf44920c-3b46-4575-ff99-61c2bb3751bf"
      },
      "outputs": [
        {
          "output_type": "stream",
          "name": "stdout",
          "text": [
            "Chi2 = 4.1079\n",
            "p-value = 0.0427\n"
          ]
        }
      ],
      "source": [
        "chi2, p_value, dof, expected = sts.chi2_contingency(men, correction=False)\n",
        "\n",
        "print(f\"Chi2 = {chi2:.4f}\")\n",
        "print(f\"p-value = {p_value:.4f}\")"
      ]
    },
    {
      "cell_type": "code",
      "source": [
        "# понадобится далее\n",
        "expected"
      ],
      "metadata": {
        "id": "6oTFzUnQCiUp",
        "outputId": "e13468ce-3776-4bfd-c770-869d22332ee0",
        "colab": {
          "base_uri": "https://localhost:8080/"
        }
      },
      "id": "6oTFzUnQCiUp",
      "execution_count": 22,
      "outputs": [
        {
          "output_type": "execute_result",
          "data": {
            "text/plain": [
              "array([[755.84623599, 894.15376401],\n",
              "       [102.15376401, 120.84623599]])"
            ]
          },
          "metadata": {},
          "execution_count": 22
        }
      ]
    },
    {
      "cell_type": "markdown",
      "source": [
        "__Ответ:__ Отвергаем нулевую гипотезу (p-value < 0.05). Имеются статистически значимые основания полагать того, что лекарство влияет на выздоровление мужчин."
      ],
      "metadata": {
        "id": "dsJm6vcpAx2h"
      },
      "id": "dsJm6vcpAx2h"
    },
    {
      "cell_type": "markdown",
      "id": "ed1a41e3",
      "metadata": {
        "id": "ed1a41e3"
      },
      "source": [
        "__б) [1 балл]__ Сделайте всё то же самое, но руками, без помощи библиотеки.\n",
        "\n",
        "Для того, чтобы расчитать тестовую стаститику хи-квадрат, нам необходимо найти матрицу ожидаемых частот, такую же, которая у нас получилась в предыдущем пункте в output-е функции `chi2_contingency`.\n",
        "\n",
        "Используя матрицу из предыдущего пункта, посчитайте общее количество испытуемых мужчин."
      ]
    },
    {
      "cell_type": "code",
      "execution_count": 23,
      "id": "b6948bed",
      "metadata": {
        "colab": {
          "base_uri": "https://localhost:8080/"
        },
        "id": "b6948bed",
        "outputId": "f18d12ed-78d4-4ec8-c5e3-581a068f6ed8"
      },
      "outputs": [
        {
          "output_type": "execute_result",
          "data": {
            "text/plain": [
              "np.int64(1873)"
            ]
          },
          "metadata": {},
          "execution_count": 23
        }
      ],
      "source": [
        "tot = men.sum()\n",
        "tot"
      ]
    },
    {
      "cell_type": "markdown",
      "id": "040d4633",
      "metadata": {
        "id": "040d4633"
      },
      "source": [
        "Посчитайте отдельно количество испытуемых мужчин, которые принимали лекарство, и которые не принимали его $(n1, n2)$"
      ]
    },
    {
      "cell_type": "code",
      "execution_count": 24,
      "id": "9eba5f47",
      "metadata": {
        "colab": {
          "base_uri": "https://localhost:8080/"
        },
        "id": "9eba5f47",
        "outputId": "a28d485b-8fc8-4fd4-ef44-670bf3ff730a"
      },
      "outputs": [
        {
          "output_type": "execute_result",
          "data": {
            "text/plain": [
              "(np.int64(1650), np.int64(223))"
            ]
          },
          "metadata": {},
          "execution_count": 24
        }
      ],
      "source": [
        "n1 = men[0].sum()\n",
        "n2 = men[1].sum()\n",
        "n1, n2"
      ]
    },
    {
      "cell_type": "markdown",
      "id": "f0b4fd91",
      "metadata": {
        "id": "f0b4fd91"
      },
      "source": [
        "Найдите вероятности выздороветь или нет (независимо от группы по приему/не приему лекарства), то есть вероятность попасть в $B$ и $\\overline{B}$ для мужчин."
      ]
    },
    {
      "cell_type": "code",
      "execution_count": 25,
      "id": "97b2e454",
      "metadata": {
        "colab": {
          "base_uri": "https://localhost:8080/"
        },
        "id": "97b2e454",
        "outputId": "71ef9d87-d820-441a-f50d-297bc33b715f"
      },
      "outputs": [
        {
          "output_type": "execute_result",
          "data": {
            "text/plain": [
              "(np.float64(0.4580886278697277), np.float64(0.5419113721302723))"
            ]
          },
          "metadata": {},
          "execution_count": 25
        }
      ],
      "source": [
        "tot_rec = men[:, 0].sum()\n",
        "tot_not_rec = men[:, 1].sum()\n",
        "\n",
        "p_rec = tot_rec / tot\n",
        "p_not_rec = tot_not_rec / tot\n",
        "p_rec, p_not_rec"
      ]
    },
    {
      "cell_type": "markdown",
      "id": "cad7f014",
      "metadata": {
        "id": "cad7f014"
      },
      "source": [
        "Расчитайте ожидаемые (теоритические) значения для каждой ячейки матрицы. Для этого перемножьте вероятности из предыдущего пункта со значениями $n_1$ и $n_2$. Полученную матрицу можно сравнить с выводом библиотеки`scipy.stats`, она должна быть идентичной."
      ]
    },
    {
      "cell_type": "code",
      "execution_count": 26,
      "id": "5a5743f7",
      "metadata": {
        "colab": {
          "base_uri": "https://localhost:8080/"
        },
        "id": "5a5743f7",
        "outputId": "cc272a30-6aed-4caa-db6e-7cfb570b1fe0"
      },
      "outputs": [
        {
          "output_type": "execute_result",
          "data": {
            "text/plain": [
              "array([[755.84623599, 894.15376401],\n",
              "       [102.15376401, 120.84623599]])"
            ]
          },
          "metadata": {},
          "execution_count": 26
        }
      ],
      "source": [
        "row_sums = men.sum(axis=1)\n",
        "col_sums = men.sum(axis=0)\n",
        "total = men.sum()\n",
        "\n",
        "expected_custom = np.outer(row_sums, col_sums) / tot\n",
        "expected_custom"
      ]
    },
    {
      "cell_type": "code",
      "source": [
        "expected"
      ],
      "metadata": {
        "id": "F6IQToA3Cp_f",
        "outputId": "77a2b2c5-083d-4782-ea70-a88a00b8ee0b",
        "colab": {
          "base_uri": "https://localhost:8080/"
        }
      },
      "id": "F6IQToA3Cp_f",
      "execution_count": 27,
      "outputs": [
        {
          "output_type": "execute_result",
          "data": {
            "text/plain": [
              "array([[755.84623599, 894.15376401],\n",
              "       [102.15376401, 120.84623599]])"
            ]
          },
          "metadata": {},
          "execution_count": 27
        }
      ]
    },
    {
      "cell_type": "markdown",
      "source": [
        "__Ответ:__ Как видим, матрицы совпали."
      ],
      "metadata": {
        "id": "smR5cF0aCteJ"
      },
      "id": "smR5cF0aCteJ"
    },
    {
      "cell_type": "markdown",
      "id": "6cc67e69",
      "metadata": {
        "id": "6cc67e69"
      },
      "source": [
        "Расчитайте наблюдаемую статистику и найдите `p_value` с помощью `sts.chi2.cdf` с параметром `df=1`.\n",
        "\n",
        "\\begin{equation*} \\chi^2_d = \\sum {\\frac {(O-E)^2}{E}},\\end{equation*}\n",
        "\n",
        "где\n",
        "\n",
        "- $E$ - наши ожидаемые частоты(матрица из предыдущего пукта),\n",
        "- $O$ - наблюдаемы частоты(первоначальная матрица)."
      ]
    },
    {
      "cell_type": "code",
      "execution_count": 30,
      "id": "5955d367",
      "metadata": {
        "colab": {
          "base_uri": "https://localhost:8080/"
        },
        "id": "5955d367",
        "outputId": "804c67ee-1097-4e27-fa11-c1209b471a75"
      },
      "outputs": [
        {
          "output_type": "execute_result",
          "data": {
            "text/plain": [
              "np.float64(0.04268446899604583)"
            ]
          },
          "metadata": {},
          "execution_count": 30
        }
      ],
      "source": [
        "O = men\n",
        "E = expected\n",
        "\n",
        "chi2_stat_obs = np.sum((O - E)**2 / E)\n",
        "p_value = 1 - sts.chi2.cdf(chi2_stat_obs, df = 1)\n",
        "p_value"
      ]
    },
    {
      "cell_type": "markdown",
      "source": [
        "__Ответ:__ Наблюдаемый уровень статистической значимости совпадает с библиотечной реализацией. Отвергаем нулевую гипотезу (p-value < 0.05). Имеются статистически значимые основания полагать того, что лекарство влияет на выздоровление мужчин."
      ],
      "metadata": {
        "id": "TmrLLMmvDZLc"
      },
      "id": "TmrLLMmvDZLc"
    },
    {
      "cell_type": "markdown",
      "id": "909580f0",
      "metadata": {
        "id": "909580f0"
      },
      "source": [
        "__в) [1 балл]__  Ответьте на вопрос: есть ли эффект от лекарства для женщин? (повторите процедуру пункта а)\n",
        "\n",
        "Как и в предыдущий раз, для начала, посчитайте долю выздровевших женщин, которые принимали лекарство и долю выздровевших женщин, которые не принимали лекартсво. Сравните эти доли."
      ]
    },
    {
      "cell_type": "markdown",
      "id": "ac6c195d",
      "metadata": {
        "id": "ac6c195d"
      },
      "source": [
        "Создайте матрицу с данными из таблицы по женщинам, примените тест с параметром `correction=False` и сделайте выводы на уровене значимости $5\\%$."
      ]
    },
    {
      "cell_type": "code",
      "execution_count": 36,
      "id": "e7ab26a5",
      "metadata": {
        "colab": {
          "base_uri": "https://localhost:8080/"
        },
        "id": "e7ab26a5",
        "outputId": "3ea2a5a0-4126-4b00-a181-57f501e93f3a"
      },
      "outputs": [
        {
          "output_type": "execute_result",
          "data": {
            "text/plain": [
              "(np.float64(0.673469387755102), np.float64(0.5866666666666667))"
            ]
          },
          "metadata": {},
          "execution_count": 36
        }
      ],
      "source": [
        "women = np.array([[165, 80],\n",
        "                      [440, 310]])\n",
        "\n",
        "p_treated = women[0, 0] / women[0].sum()\n",
        "p_untreated = women[1, 0] / women[1].sum()\n",
        "\n",
        "p_treated, p_untreated"
      ]
    },
    {
      "cell_type": "code",
      "source": [
        "chi2, p_value, dof, expected = sts.chi2_contingency(women, correction=False)\n",
        "p_value"
      ],
      "metadata": {
        "id": "SIHkNMh_F63e"
      },
      "id": "SIHkNMh_F63e",
      "execution_count": null,
      "outputs": []
    },
    {
      "cell_type": "markdown",
      "source": [
        "__Ответ:__ Мы видим, что доля выздоровевших женщин, принимавших лекарства, выше, чем у не принимавших. Проверка критерием хи-квадрат подтверждает корректность отклонения нулевой гипотезы. Есть статистически значимый эффект влияния лекарства на выздоровление женщин."
      ],
      "metadata": {
        "id": "qdjbr1-uD_NN"
      },
      "id": "qdjbr1-uD_NN"
    },
    {
      "cell_type": "markdown",
      "id": "e492b36c",
      "metadata": {
        "id": "e492b36c"
      },
      "source": [
        "__г) [1 балл]__ Ответьте на вопрос: есть ли эффект от лекарства для объединенной группы?"
      ]
    },
    {
      "cell_type": "code",
      "execution_count": 34,
      "id": "8bada352",
      "metadata": {
        "colab": {
          "base_uri": "https://localhost:8080/"
        },
        "id": "8bada352",
        "outputId": "99ab9008-bb36-400b-8fdf-d27ed7da4a09"
      },
      "outputs": [
        {
          "output_type": "execute_result",
          "data": {
            "text/plain": [
              "(np.float64(0.49340369393139843), np.float64(0.5426515930113053))"
            ]
          },
          "metadata": {},
          "execution_count": 34
        }
      ],
      "source": [
        "all = np.array([[935, 960],\n",
        "                     [528, 445]])\n",
        "\n",
        "p_treated = all[0, 0] / all[0].sum()\n",
        "p_untreated = all[1, 0] / all[1].sum()\n",
        "\n",
        "p_treated, p_untreated"
      ]
    },
    {
      "cell_type": "markdown",
      "source": [
        "__Ответ:__ На объединенной группе мы уже наблюдаем, что доля выздоровевших среди не принимавших лекарство наоборот выше."
      ],
      "metadata": {
        "id": "GUWv1ahPEpqj"
      },
      "id": "GUWv1ahPEpqj"
    },
    {
      "cell_type": "code",
      "source": [
        "chi2, p_value, dof, expected = sts.chi2_contingency(all, correction=False)\n",
        "p_value"
      ],
      "metadata": {
        "id": "4AxZnNBhEfHE",
        "outputId": "79b66352-3d18-470c-8682-f7f356785cd1",
        "colab": {
          "base_uri": "https://localhost:8080/"
        }
      },
      "id": "4AxZnNBhEfHE",
      "execution_count": 35,
      "outputs": [
        {
          "output_type": "execute_result",
          "data": {
            "text/plain": [
              "np.float64(0.012492547994073244)"
            ]
          },
          "metadata": {},
          "execution_count": 35
        }
      ]
    },
    {
      "cell_type": "markdown",
      "source": [
        "__Ответ:__ И здесь статистически значимо подтверждается, что долях выздоровевших между принимавшими лекарство (около 49.3%) и не принимавшими (около 54.3%) не случайна и что парадоксально, лекарство не улучшает, а ухудшает вероятность выздоровления."
      ],
      "metadata": {
        "id": "a4lul8mhE_Cf"
      },
      "id": "a4lul8mhE_Cf"
    },
    {
      "cell_type": "markdown",
      "id": "b3405c3a",
      "metadata": {
        "id": "b3405c3a"
      },
      "source": [
        "__д) [1 балл]__  Соотносится ли это с результатами по группам мужчин и женщин, взятых отдельно?"
      ]
    },
    {
      "cell_type": "markdown",
      "source": [
        "Нет, данные результаты не соотносятся с результатами подгрупп в отдельности:\n",
        "- доля выздоровевших мужчин принимавших лекарство vs не принимавших лекарство: 46.7% vs 39.5%\n",
        "- доля выздоровевших женщин принимавших лекарство vs не принимавших лекарство: 67.3% vs 58.7%\n",
        "- доля выздоровевших среди всех пациентов принимавших лекарство vs не принимавших лекарство: 49.3% vs 54.3%\n",
        "\n"
      ],
      "metadata": {
        "id": "55RYleB5GVjf"
      },
      "id": "55RYleB5GVjf"
    },
    {
      "cell_type": "markdown",
      "id": "51ade28f",
      "metadata": {
        "id": "51ade28f"
      },
      "source": [
        "## Что произошло?\n",
        "\n",
        "Если вы все сделали правильно, скорее всего у вас получились противоречивые значимые результаты. Давайте разберемся почему это так.\n",
        "\n",
        "Может произойти такая ситуация, что новое лекарство может оказаться эффективным в каждом из отдельных исследований, на каждой отдельной группе, но объединение результатов укажет на то, что это лекарство либо бесполезно, либо вредно. [Это называется __парадокс Симпсона.__](https://ru.wikipedia.org/wiki/Парадокс_Симпсона) Он довольно часто встречается на практике в разном виде.\n",
        "\n",
        "Проблема здесь в том, что объединять эти выборки просто слив данные вместе — нельзя. Контрольные группы людей, не принимавших лекарство, занимают разный объем от выборок — примерно 12% в случае мужчин и 75% в случае женщин."
      ]
    }
  ],
  "metadata": {
    "kernelspec": {
      "display_name": "Python 3",
      "language": "python",
      "name": "python3"
    },
    "language_info": {
      "codemirror_mode": {
        "name": "ipython",
        "version": 3
      },
      "file_extension": ".py",
      "mimetype": "text/x-python",
      "name": "python",
      "nbconvert_exporter": "python",
      "pygments_lexer": "ipython3",
      "version": "3.10.13"
    },
    "colab": {
      "provenance": []
    }
  },
  "nbformat": 4,
  "nbformat_minor": 5
}