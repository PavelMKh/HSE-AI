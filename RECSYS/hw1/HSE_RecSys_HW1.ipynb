{
 "cells": [
  {
   "cell_type": "markdown",
   "id": "c865b610-e175-4e9f-be2f-995e43e45332",
   "metadata": {
    "id": "c865b610-e175-4e9f-be2f-995e43e45332"
   },
   "source": [
    "## ДЗ №1. Метрики и простейшие алгоритмы рекомендаций"
   ]
  },
  {
   "cell_type": "markdown",
   "id": "16ff81db-dc65-4d89-8c79-d4e2a6e71879",
   "metadata": {
    "id": "16ff81db-dc65-4d89-8c79-d4e2a6e71879"
   },
   "source": [
    "## Общая информация\n",
    "**Дата выдачи: 4 февраля 2025**\n",
    "\n",
    "**Дедлайн: 12 февраля 2025 23:59 MSK**"
   ]
  },
  {
   "cell_type": "code",
   "execution_count": 107,
   "id": "e5fbada3-40bc-4748-9897-1c0e15d7892a",
   "metadata": {
    "id": "e5fbada3-40bc-4748-9897-1c0e15d7892a"
   },
   "outputs": [],
   "source": [
    "import pandas as pd\n",
    "import numpy as np\n",
    "from matplotlib import pyplot as plt\n",
    "from tqdm.auto import tqdm\n",
    "from typing import List, Optional\n",
    "from metric_tests import run_tests\n",
    "\n",
    "%matplotlib inline"
   ]
  },
  {
   "cell_type": "markdown",
   "id": "4098f8b8-a49a-4a66-92e2-e75c7acc4988",
   "metadata": {
    "id": "4098f8b8-a49a-4a66-92e2-e75c7acc4988"
   },
   "source": [
    "## О задании\n",
    "\n",
    "В этой работе мы посмотрим на то, как работают самые простые модели для рекомендаций. Как правило, они не требуют построения специальных моделей, но даже так оказываются полезны в качестве бейзлайна. Попробуем сделать предсказания с помощью EASE. Это тоже довольно простой подход, но не стоит забывать, что сложные модели могут оказаться не лучшим выбором в условиях большого количества данных. Посчитаем метрики, построим графики и подумаем, насколько хорошо эти модели вообще решают поставленную задачу.\n",
    "\n",
    "Мы будем работать с датасетом по рекомендации фильмов от Kion MTS, который был дан для соревнования. Сперва нужно его предобработать, эта часть повторяет то, что было на семинаре. \n",
    "\n",
    "Датасет необходимо скачать: https://ods.ai/competitions/competition-recsys-21/data\n",
    "\n",
    "Оттуда нужны файлы `interactions.csv` и `items.csv`\n",
    "\n",
    "Каждое задание весит **1 балл**, если выполнено полностью и без ошибок, **0 баллов** ставится при наличии хотя бы 1 ошибки. Максимальная оценка - **10 баллов**. Шаблоны функций и классов можно менять по своему усмотрению."
   ]
  },
  {
   "cell_type": "code",
   "execution_count": 108,
   "id": "02af9415-838f-446e-80ed-f6083cc9cb27",
   "metadata": {
    "colab": {
     "base_uri": "https://localhost:8080/",
     "height": 206
    },
    "id": "02af9415-838f-446e-80ed-f6083cc9cb27",
    "outputId": "38e0880c-09b1-4b18-9477-6fc6d0ca0990"
   },
   "outputs": [
    {
     "data": {
      "text/html": [
       "<div>\n",
       "<style scoped>\n",
       "    .dataframe tbody tr th:only-of-type {\n",
       "        vertical-align: middle;\n",
       "    }\n",
       "\n",
       "    .dataframe tbody tr th {\n",
       "        vertical-align: top;\n",
       "    }\n",
       "\n",
       "    .dataframe thead th {\n",
       "        text-align: right;\n",
       "    }\n",
       "</style>\n",
       "<table border=\"1\" class=\"dataframe\">\n",
       "  <thead>\n",
       "    <tr style=\"text-align: right;\">\n",
       "      <th></th>\n",
       "      <th>user_id</th>\n",
       "      <th>item_id</th>\n",
       "      <th>last_watch_dt</th>\n",
       "      <th>total_dur</th>\n",
       "      <th>watched_pct</th>\n",
       "    </tr>\n",
       "  </thead>\n",
       "  <tbody>\n",
       "    <tr>\n",
       "      <th>0</th>\n",
       "      <td>176549</td>\n",
       "      <td>9506</td>\n",
       "      <td>2021-05-11</td>\n",
       "      <td>4250</td>\n",
       "      <td>72.0</td>\n",
       "    </tr>\n",
       "    <tr>\n",
       "      <th>1</th>\n",
       "      <td>699317</td>\n",
       "      <td>1659</td>\n",
       "      <td>2021-05-29</td>\n",
       "      <td>8317</td>\n",
       "      <td>100.0</td>\n",
       "    </tr>\n",
       "    <tr>\n",
       "      <th>2</th>\n",
       "      <td>656683</td>\n",
       "      <td>7107</td>\n",
       "      <td>2021-05-09</td>\n",
       "      <td>10</td>\n",
       "      <td>0.0</td>\n",
       "    </tr>\n",
       "    <tr>\n",
       "      <th>3</th>\n",
       "      <td>864613</td>\n",
       "      <td>7638</td>\n",
       "      <td>2021-07-05</td>\n",
       "      <td>14483</td>\n",
       "      <td>100.0</td>\n",
       "    </tr>\n",
       "    <tr>\n",
       "      <th>4</th>\n",
       "      <td>964868</td>\n",
       "      <td>9506</td>\n",
       "      <td>2021-04-30</td>\n",
       "      <td>6725</td>\n",
       "      <td>100.0</td>\n",
       "    </tr>\n",
       "  </tbody>\n",
       "</table>\n",
       "</div>"
      ],
      "text/plain": [
       "   user_id  item_id last_watch_dt  total_dur  watched_pct\n",
       "0   176549     9506    2021-05-11       4250         72.0\n",
       "1   699317     1659    2021-05-29       8317        100.0\n",
       "2   656683     7107    2021-05-09         10          0.0\n",
       "3   864613     7638    2021-07-05      14483        100.0\n",
       "4   964868     9506    2021-04-30       6725        100.0"
      ]
     },
     "execution_count": 108,
     "metadata": {},
     "output_type": "execute_result"
    }
   ],
   "source": [
    "df = pd.read_csv('interactions.csv').iloc[:-1]\n",
    "df.head()"
   ]
  },
  {
   "cell_type": "code",
   "execution_count": 109,
   "id": "46a89be1",
   "metadata": {},
   "outputs": [
    {
     "data": {
      "text/plain": [
       "'2021-03-13'"
      ]
     },
     "execution_count": 109,
     "metadata": {},
     "output_type": "execute_result"
    }
   ],
   "source": [
    "df.last_watch_dt.min()"
   ]
  },
  {
   "cell_type": "code",
   "execution_count": 110,
   "id": "78153b4e-975b-4493-95e7-e503f7c68757",
   "metadata": {
    "colab": {
     "base_uri": "https://localhost:8080/",
     "height": 206
    },
    "id": "78153b4e-975b-4493-95e7-e503f7c68757",
    "outputId": "d4cdad47-aca2-4140-bf48-511b57b6ca9e"
   },
   "outputs": [
    {
     "data": {
      "text/html": [
       "<div>\n",
       "<style scoped>\n",
       "    .dataframe tbody tr th:only-of-type {\n",
       "        vertical-align: middle;\n",
       "    }\n",
       "\n",
       "    .dataframe tbody tr th {\n",
       "        vertical-align: top;\n",
       "    }\n",
       "\n",
       "    .dataframe thead th {\n",
       "        text-align: right;\n",
       "    }\n",
       "</style>\n",
       "<table border=\"1\" class=\"dataframe\">\n",
       "  <thead>\n",
       "    <tr style=\"text-align: right;\">\n",
       "      <th></th>\n",
       "      <th>user_id</th>\n",
       "      <th>item_id</th>\n",
       "      <th>last_watch_dt</th>\n",
       "      <th>total_dur</th>\n",
       "      <th>watched_pct</th>\n",
       "    </tr>\n",
       "  </thead>\n",
       "  <tbody>\n",
       "    <tr>\n",
       "      <th>4590959</th>\n",
       "      <td>258790</td>\n",
       "      <td>4151</td>\n",
       "      <td>117</td>\n",
       "      <td>12896</td>\n",
       "      <td>25.0</td>\n",
       "    </tr>\n",
       "    <tr>\n",
       "      <th>5278913</th>\n",
       "      <td>681008</td>\n",
       "      <td>8727</td>\n",
       "      <td>146</td>\n",
       "      <td>464</td>\n",
       "      <td>9.0</td>\n",
       "    </tr>\n",
       "    <tr>\n",
       "      <th>3612903</th>\n",
       "      <td>619121</td>\n",
       "      <td>13087</td>\n",
       "      <td>126</td>\n",
       "      <td>5525</td>\n",
       "      <td>100.0</td>\n",
       "    </tr>\n",
       "    <tr>\n",
       "      <th>5201671</th>\n",
       "      <td>630120</td>\n",
       "      <td>3363</td>\n",
       "      <td>126</td>\n",
       "      <td>1591</td>\n",
       "      <td>26.0</td>\n",
       "    </tr>\n",
       "    <tr>\n",
       "      <th>4916392</th>\n",
       "      <td>1015947</td>\n",
       "      <td>7417</td>\n",
       "      <td>145</td>\n",
       "      <td>7091</td>\n",
       "      <td>100.0</td>\n",
       "    </tr>\n",
       "  </tbody>\n",
       "</table>\n",
       "</div>"
      ],
      "text/plain": [
       "         user_id  item_id  last_watch_dt  total_dur  watched_pct\n",
       "4590959   258790     4151            117      12896         25.0\n",
       "5278913   681008     8727            146        464          9.0\n",
       "3612903   619121    13087            126       5525        100.0\n",
       "5201671   630120     3363            126       1591         26.0\n",
       "4916392  1015947     7417            145       7091        100.0"
      ]
     },
     "execution_count": 110,
     "metadata": {},
     "output_type": "execute_result"
    }
   ],
   "source": [
    "df['last_watch_dt'] = (pd.to_datetime(df['last_watch_dt']) - pd.to_datetime(df['last_watch_dt']).min())\n",
    "df['last_watch_dt'] = df.last_watch_dt.apply(lambda x: int(str(x).split()[0]))\n",
    "df.sample(5)"
   ]
  },
  {
   "cell_type": "markdown",
   "id": "DnuIUsrRj0Tk",
   "metadata": {
    "id": "DnuIUsrRj0Tk"
   },
   "source": [
    "Сделаем разбиение по времени"
   ]
  },
  {
   "cell_type": "code",
   "execution_count": 111,
   "id": "1a0df672-7a64-4ba7-aea2-9aed9c13ecb6",
   "metadata": {
    "colab": {
     "base_uri": "https://localhost:8080/",
     "height": 447
    },
    "id": "1a0df672-7a64-4ba7-aea2-9aed9c13ecb6",
    "outputId": "6991b14a-91a5-4f3a-8f28-c5914132839a"
   },
   "outputs": [
    {
     "data": {
      "text/plain": [
       "<Axes: >"
      ]
     },
     "execution_count": 111,
     "metadata": {},
     "output_type": "execute_result"
    },
    {
     "data": {
      "image/png": "[encoded data removed]",
      "text/plain": [
       "<Figure size 640x480 with 1 Axes>"
      ]
     },
     "metadata": {},
     "output_type": "display_data"
    }
   ],
   "source": [
    "df.last_watch_dt.hist(bins=50)"
   ]
  },
  {
   "cell_type": "code",
   "execution_count": 112,
   "id": "1017b62e-68ce-4bfb-b44f-9e1b391aa08b",
   "metadata": {
    "colab": {
     "base_uri": "https://localhost:8080/"
    },
    "id": "1017b62e-68ce-4bfb-b44f-9e1b391aa08b",
    "outputId": "730db660-a2f0-4f12-f54c-b794f299a41b"
   },
   "outputs": [
    {
     "name": "stdout",
     "output_type": "stream",
     "text": [
      "число людей и там и там:  134670\n",
      "число людей всего: 880449\n"
     ]
    }
   ],
   "source": [
    "train_df = df.loc[(df.last_watch_dt < 160-7)].copy()\n",
    "test_df = df.loc[(df.last_watch_dt >= 160-7)].copy()\n",
    "\n",
    "train_users = train_df.user_id.unique()\n",
    "test_users = test_df.user_id.unique()\n",
    "\n",
    "all_included = np.intersect1d(train_users, test_users)\n",
    "\n",
    "print('число людей и там и там: ', all_included.shape[0])\n",
    "print('число людей всего:', train_users.shape[0])"
   ]
  },
  {
   "cell_type": "code",
   "execution_count": 113,
   "id": "8f30d288-bdd7-4304-81ef-61c3b9b75ac9",
   "metadata": {
    "colab": {
     "base_uri": "https://localhost:8080/"
    },
    "id": "8f30d288-bdd7-4304-81ef-61c3b9b75ac9",
    "outputId": "56b765fb-2bfb-47e1-bf06-c594bde79921"
   },
   "outputs": [
    {
     "data": {
      "text/plain": [
       "0.37768022181146027"
      ]
     },
     "execution_count": 113,
     "metadata": {},
     "output_type": "execute_result"
    }
   ],
   "source": [
    "len(set(test_users) - set(train_users)) / len(test_users)"
   ]
  },
  {
   "cell_type": "markdown",
   "id": "de1eb6f2-f78c-4403-aebd-a0561a049360",
   "metadata": {
    "id": "de1eb6f2-f78c-4403-aebd-a0561a049360"
   },
   "source": [
    "И переведём всё к соединённому датасету:"
   ]
  },
  {
   "cell_type": "code",
   "execution_count": 114,
   "id": "3686c2f1-9a9b-4684-b3d3-06c891252549",
   "metadata": {
    "id": "3686c2f1-9a9b-4684-b3d3-06c891252549"
   },
   "outputs": [],
   "source": [
    "n_users = 10000\n",
    "\n",
    "all_included = np.random.choice(all_included, size=n_users, replace=False)\n",
    "\n",
    "train_df = train_df.loc[train_df.user_id.isin(all_included)].copy()\n",
    "test_df = test_df.loc[test_df.user_id.isin(all_included)].copy()\n",
    "\n",
    "assert train_df.last_watch_dt.max() < test_df.last_watch_dt.min()\n",
    "assert train_df.user_id.nunique() == n_users\n",
    "assert test_df.user_id.nunique() == n_users"
   ]
  },
  {
   "cell_type": "code",
   "execution_count": 115,
   "id": "1c995549-bc88-4af3-a8ce-ca19baa30ee2",
   "metadata": {
    "colab": {
     "base_uri": "https://localhost:8080/",
     "height": 206
    },
    "id": "1c995549-bc88-4af3-a8ce-ca19baa30ee2",
    "outputId": "b0e5cd25-3f51-457a-808f-ccd23a4c677d"
   },
   "outputs": [
    {
     "data": {
      "text/html": [
       "<div>\n",
       "<style scoped>\n",
       "    .dataframe tbody tr th:only-of-type {\n",
       "        vertical-align: middle;\n",
       "    }\n",
       "\n",
       "    .dataframe tbody tr th {\n",
       "        vertical-align: top;\n",
       "    }\n",
       "\n",
       "    .dataframe thead th {\n",
       "        text-align: right;\n",
       "    }\n",
       "</style>\n",
       "<table border=\"1\" class=\"dataframe\">\n",
       "  <thead>\n",
       "    <tr style=\"text-align: right;\">\n",
       "      <th></th>\n",
       "      <th>user_id</th>\n",
       "      <th>item_id</th>\n",
       "      <th>last_watch_dt</th>\n",
       "      <th>total_dur</th>\n",
       "      <th>watched_pct</th>\n",
       "    </tr>\n",
       "  </thead>\n",
       "  <tbody>\n",
       "    <tr>\n",
       "      <th>11</th>\n",
       "      <td>988709</td>\n",
       "      <td>7571</td>\n",
       "      <td>116</td>\n",
       "      <td>6558</td>\n",
       "      <td>100.0</td>\n",
       "    </tr>\n",
       "    <tr>\n",
       "      <th>104</th>\n",
       "      <td>570761</td>\n",
       "      <td>9550</td>\n",
       "      <td>90</td>\n",
       "      <td>31738</td>\n",
       "      <td>100.0</td>\n",
       "    </tr>\n",
       "    <tr>\n",
       "      <th>112</th>\n",
       "      <td>490158</td>\n",
       "      <td>817</td>\n",
       "      <td>139</td>\n",
       "      <td>930</td>\n",
       "      <td>16.0</td>\n",
       "    </tr>\n",
       "    <tr>\n",
       "      <th>127</th>\n",
       "      <td>375013</td>\n",
       "      <td>6907</td>\n",
       "      <td>104</td>\n",
       "      <td>8079</td>\n",
       "      <td>100.0</td>\n",
       "    </tr>\n",
       "    <tr>\n",
       "      <th>183</th>\n",
       "      <td>339681</td>\n",
       "      <td>13865</td>\n",
       "      <td>92</td>\n",
       "      <td>6460</td>\n",
       "      <td>100.0</td>\n",
       "    </tr>\n",
       "  </tbody>\n",
       "</table>\n",
       "</div>"
      ],
      "text/plain": [
       "     user_id  item_id  last_watch_dt  total_dur  watched_pct\n",
       "11    988709     7571            116       6558        100.0\n",
       "104   570761     9550             90      31738        100.0\n",
       "112   490158      817            139        930         16.0\n",
       "127   375013     6907            104       8079        100.0\n",
       "183   339681    13865             92       6460        100.0"
      ]
     },
     "execution_count": 115,
     "metadata": {},
     "output_type": "execute_result"
    }
   ],
   "source": [
    "train_df.head()"
   ]
  },
  {
   "cell_type": "code",
   "execution_count": 116,
   "id": "4a1e9f17-02e9-4c7f-aa54-4a331b7244b2",
   "metadata": {
    "colab": {
     "base_uri": "https://localhost:8080/",
     "height": 206
    },
    "id": "4a1e9f17-02e9-4c7f-aa54-4a331b7244b2",
    "outputId": "6210ca52-f2a5-4594-d20f-8e17a3a27046"
   },
   "outputs": [
    {
     "name": "stderr",
     "output_type": "stream",
     "text": [
      "/var/folders/j7/bpk2y95s0x12x19c3ryr4v7r0000gn/T/ipykernel_1345/1105526701.py:1: DeprecationWarning: DataFrameGroupBy.apply operated on the grouping columns. This behavior is deprecated, and in a future version of pandas the grouping columns will be excluded from the operation. Either pass `include_groups=False` to exclude the groupings or explicitly select the grouping columns after groupby to silence this warning.\n",
      "  train_grouped = train_df.groupby('user_id').apply(\n",
      "/var/folders/j7/bpk2y95s0x12x19c3ryr4v7r0000gn/T/ipykernel_1345/1105526701.py:7: DeprecationWarning: DataFrameGroupBy.apply operated on the grouping columns. This behavior is deprecated, and in a future version of pandas the grouping columns will be excluded from the operation. Either pass `include_groups=False` to exclude the groupings or explicitly select the grouping columns after groupby to silence this warning.\n",
      "  test_grouped = test_df.groupby('user_id').apply(\n"
     ]
    },
    {
     "data": {
      "text/html": [
       "<div>\n",
       "<style scoped>\n",
       "    .dataframe tbody tr th:only-of-type {\n",
       "        vertical-align: middle;\n",
       "    }\n",
       "\n",
       "    .dataframe tbody tr th {\n",
       "        vertical-align: top;\n",
       "    }\n",
       "\n",
       "    .dataframe thead th {\n",
       "        text-align: right;\n",
       "    }\n",
       "</style>\n",
       "<table border=\"1\" class=\"dataframe\">\n",
       "  <thead>\n",
       "    <tr style=\"text-align: right;\">\n",
       "      <th></th>\n",
       "      <th>user_id</th>\n",
       "      <th>train_interactions</th>\n",
       "    </tr>\n",
       "  </thead>\n",
       "  <tbody>\n",
       "    <tr>\n",
       "      <th>0</th>\n",
       "      <td>106</td>\n",
       "      <td>[(9335, 28), (312, 35), (11494, 35), (12965, 5...</td>\n",
       "    </tr>\n",
       "    <tr>\n",
       "      <th>1</th>\n",
       "      <td>241</td>\n",
       "      <td>[(5051, 9), (2134, 9), (13913, 112), (6646, 11...</td>\n",
       "    </tr>\n",
       "    <tr>\n",
       "      <th>2</th>\n",
       "      <td>322</td>\n",
       "      <td>[(4549, 94), (8419, 94), (14814, 94), (10219, ...</td>\n",
       "    </tr>\n",
       "    <tr>\n",
       "      <th>3</th>\n",
       "      <td>400</td>\n",
       "      <td>[(169, 144), (11047, 145), (12974, 145), (1399...</td>\n",
       "    </tr>\n",
       "    <tr>\n",
       "      <th>4</th>\n",
       "      <td>446</td>\n",
       "      <td>[(13865, 105)]</td>\n",
       "    </tr>\n",
       "  </tbody>\n",
       "</table>\n",
       "</div>"
      ],
      "text/plain": [
       "   user_id                                 train_interactions\n",
       "0      106  [(9335, 28), (312, 35), (11494, 35), (12965, 5...\n",
       "1      241  [(5051, 9), (2134, 9), (13913, 112), (6646, 11...\n",
       "2      322  [(4549, 94), (8419, 94), (14814, 94), (10219, ...\n",
       "3      400  [(169, 144), (11047, 145), (12974, 145), (1399...\n",
       "4      446                                     [(13865, 105)]"
      ]
     },
     "execution_count": 116,
     "metadata": {},
     "output_type": "execute_result"
    }
   ],
   "source": [
    "train_grouped = train_df.groupby('user_id').apply(\n",
    "    lambda x: [(t1, t2) for t1, t2 in sorted(zip(x.item_id,\n",
    "                                                 x.last_watch_dt), key=lambda x: x[1])]\n",
    ").reset_index()\n",
    "train_grouped.rename({0:'train_interactions'}, axis=1, inplace=True)\n",
    "\n",
    "test_grouped = test_df.groupby('user_id').apply(\n",
    "    lambda x: [(t1, t2) for t1, t2 in sorted(zip(x.item_id,\n",
    "                                                         x.last_watch_dt), key=lambda x: x[1])]\n",
    ").reset_index()\n",
    "test_grouped.rename({0:'test_interactions'}, axis=1, inplace=True)\n",
    "\n",
    "train_grouped.head()"
   ]
  },
  {
   "cell_type": "code",
   "execution_count": 117,
   "id": "594ade13-ff8b-4ded-9c73-00ea48be4bd9",
   "metadata": {
    "colab": {
     "base_uri": "https://localhost:8080/",
     "height": 206
    },
    "id": "594ade13-ff8b-4ded-9c73-00ea48be4bd9",
    "outputId": "1e4c65ad-171a-497e-f65d-0af5bd96c90d"
   },
   "outputs": [
    {
     "data": {
      "text/html": [
       "<div>\n",
       "<style scoped>\n",
       "    .dataframe tbody tr th:only-of-type {\n",
       "        vertical-align: middle;\n",
       "    }\n",
       "\n",
       "    .dataframe tbody tr th {\n",
       "        vertical-align: top;\n",
       "    }\n",
       "\n",
       "    .dataframe thead th {\n",
       "        text-align: right;\n",
       "    }\n",
       "</style>\n",
       "<table border=\"1\" class=\"dataframe\">\n",
       "  <thead>\n",
       "    <tr style=\"text-align: right;\">\n",
       "      <th></th>\n",
       "      <th>user_id</th>\n",
       "      <th>train_interactions</th>\n",
       "      <th>test_interactions</th>\n",
       "    </tr>\n",
       "  </thead>\n",
       "  <tbody>\n",
       "    <tr>\n",
       "      <th>0</th>\n",
       "      <td>106</td>\n",
       "      <td>[(9335, 28), (312, 35), (11494, 35), (12965, 5...</td>\n",
       "      <td>[(12908, 159), (2836, 159), (12873, 159), (337...</td>\n",
       "    </tr>\n",
       "    <tr>\n",
       "      <th>1</th>\n",
       "      <td>241</td>\n",
       "      <td>[(5051, 9), (2134, 9), (13913, 112), (6646, 11...</td>\n",
       "      <td>[(6162, 156), (10440, 156), (8986, 156), (1213...</td>\n",
       "    </tr>\n",
       "    <tr>\n",
       "      <th>2</th>\n",
       "      <td>322</td>\n",
       "      <td>[(4549, 94), (8419, 94), (14814, 94), (10219, ...</td>\n",
       "      <td>[(4651, 155), (15384, 155), (11099, 157), (633...</td>\n",
       "    </tr>\n",
       "    <tr>\n",
       "      <th>3</th>\n",
       "      <td>400</td>\n",
       "      <td>[(169, 144), (11047, 145), (12974, 145), (1399...</td>\n",
       "      <td>[(7793, 153)]</td>\n",
       "    </tr>\n",
       "    <tr>\n",
       "      <th>4</th>\n",
       "      <td>446</td>\n",
       "      <td>[(13865, 105)]</td>\n",
       "      <td>[(12202, 160), (230, 160)]</td>\n",
       "    </tr>\n",
       "  </tbody>\n",
       "</table>\n",
       "</div>"
      ],
      "text/plain": [
       "   user_id                                 train_interactions  \\\n",
       "0      106  [(9335, 28), (312, 35), (11494, 35), (12965, 5...   \n",
       "1      241  [(5051, 9), (2134, 9), (13913, 112), (6646, 11...   \n",
       "2      322  [(4549, 94), (8419, 94), (14814, 94), (10219, ...   \n",
       "3      400  [(169, 144), (11047, 145), (12974, 145), (1399...   \n",
       "4      446                                     [(13865, 105)]   \n",
       "\n",
       "                                   test_interactions  \n",
       "0  [(12908, 159), (2836, 159), (12873, 159), (337...  \n",
       "1  [(6162, 156), (10440, 156), (8986, 156), (1213...  \n",
       "2  [(4651, 155), (15384, 155), (11099, 157), (633...  \n",
       "3                                      [(7793, 153)]  \n",
       "4                         [(12202, 160), (230, 160)]  "
      ]
     },
     "execution_count": 117,
     "metadata": {},
     "output_type": "execute_result"
    }
   ],
   "source": [
    "joined = train_grouped.merge(test_grouped)\n",
    "joined.head()"
   ]
  },
  {
   "cell_type": "code",
   "execution_count": 118,
   "id": "dd2ee6a6-914c-4f2d-91c8-c80bde97d84e",
   "metadata": {
    "colab": {
     "base_uri": "https://localhost:8080/",
     "height": 293
    },
    "id": "dd2ee6a6-914c-4f2d-91c8-c80bde97d84e",
    "outputId": "27bc3f05-b1b4-4bf8-de05-04ea850a7c28"
   },
   "outputs": [
    {
     "data": {
      "text/html": [
       "<div>\n",
       "<style scoped>\n",
       "    .dataframe tbody tr th:only-of-type {\n",
       "        vertical-align: middle;\n",
       "    }\n",
       "\n",
       "    .dataframe tbody tr th {\n",
       "        vertical-align: top;\n",
       "    }\n",
       "\n",
       "    .dataframe thead th {\n",
       "        text-align: right;\n",
       "    }\n",
       "</style>\n",
       "<table border=\"1\" class=\"dataframe\">\n",
       "  <thead>\n",
       "    <tr style=\"text-align: right;\">\n",
       "      <th></th>\n",
       "      <th>user_id</th>\n",
       "      <th>train_interactions</th>\n",
       "      <th>test_interactions</th>\n",
       "      <th>random_recs</th>\n",
       "    </tr>\n",
       "  </thead>\n",
       "  <tbody>\n",
       "    <tr>\n",
       "      <th>0</th>\n",
       "      <td>106</td>\n",
       "      <td>[(9335, 28), (312, 35), (11494, 35), (12965, 5...</td>\n",
       "      <td>[(12908, 159), (2836, 159), (12873, 159), (337...</td>\n",
       "      <td>[14844, 2032, 12834]</td>\n",
       "    </tr>\n",
       "    <tr>\n",
       "      <th>1</th>\n",
       "      <td>241</td>\n",
       "      <td>[(5051, 9), (2134, 9), (13913, 112), (6646, 11...</td>\n",
       "      <td>[(6162, 156), (10440, 156), (8986, 156), (1213...</td>\n",
       "      <td>[14844, 2032, 12834]</td>\n",
       "    </tr>\n",
       "    <tr>\n",
       "      <th>2</th>\n",
       "      <td>322</td>\n",
       "      <td>[(4549, 94), (8419, 94), (14814, 94), (10219, ...</td>\n",
       "      <td>[(4651, 155), (15384, 155), (11099, 157), (633...</td>\n",
       "      <td>[14844, 2032, 12834]</td>\n",
       "    </tr>\n",
       "    <tr>\n",
       "      <th>3</th>\n",
       "      <td>400</td>\n",
       "      <td>[(169, 144), (11047, 145), (12974, 145), (1399...</td>\n",
       "      <td>[(7793, 153)]</td>\n",
       "      <td>[14844, 2032, 12834]</td>\n",
       "    </tr>\n",
       "    <tr>\n",
       "      <th>4</th>\n",
       "      <td>446</td>\n",
       "      <td>[(13865, 105)]</td>\n",
       "      <td>[(12202, 160), (230, 160)]</td>\n",
       "      <td>[14844, 2032, 12834]</td>\n",
       "    </tr>\n",
       "  </tbody>\n",
       "</table>\n",
       "</div>"
      ],
      "text/plain": [
       "   user_id                                 train_interactions  \\\n",
       "0      106  [(9335, 28), (312, 35), (11494, 35), (12965, 5...   \n",
       "1      241  [(5051, 9), (2134, 9), (13913, 112), (6646, 11...   \n",
       "2      322  [(4549, 94), (8419, 94), (14814, 94), (10219, ...   \n",
       "3      400  [(169, 144), (11047, 145), (12974, 145), (1399...   \n",
       "4      446                                     [(13865, 105)]   \n",
       "\n",
       "                                   test_interactions           random_recs  \n",
       "0  [(12908, 159), (2836, 159), (12873, 159), (337...  [14844, 2032, 12834]  \n",
       "1  [(6162, 156), (10440, 156), (8986, 156), (1213...  [14844, 2032, 12834]  \n",
       "2  [(4651, 155), (15384, 155), (11099, 157), (633...  [14844, 2032, 12834]  \n",
       "3                                      [(7793, 153)]  [14844, 2032, 12834]  \n",
       "4                         [(12202, 160), (230, 160)]  [14844, 2032, 12834]  "
      ]
     },
     "execution_count": 118,
     "metadata": {},
     "output_type": "execute_result"
    }
   ],
   "source": [
    "np.random.seed(777)\n",
    "\n",
    "class Random:\n",
    "\n",
    "    def __init__(self):\n",
    "\n",
    "        self.trained = False\n",
    "\n",
    "    def fit(self, df, col='train_interactions'):\n",
    "\n",
    "        items = set()\n",
    "        for _, row in df.iterrows():\n",
    "            for item, _ in row[col]:\n",
    "                items.add(item)\n",
    "\n",
    "        self.items = list(items)\n",
    "        self.trained = True\n",
    "\n",
    "    def predict(self, df, topn=10):\n",
    "        assert self.trained\n",
    "        return [np.random.choice(self.items, replace=False, size=topn)]*len(df)\n",
    "\n",
    "\n",
    "random = Random()\n",
    "random.fit(joined)\n",
    "\n",
    "joined['random_recs'] = random.predict(joined, topn=3)\n",
    "joined.head()"
   ]
  },
  {
   "cell_type": "markdown",
   "id": "30934f45-28dc-41d3-9263-e93ca0dabb1b",
   "metadata": {
    "id": "30934f45-28dc-41d3-9263-e93ca0dabb1b"
   },
   "source": [
    "**Задание №1. Метрики и бейзлайны**\n",
    "\n",
    "Добавьте реализацию метрик AP, RR, HR, их усреднённые версии по $U$ мы посчитаем ниже, если следовать коду с семинара, поэтому формулы немного отличаются. За имплементацию с циклами балл будет снижаться, векторизуйте! ( ͡° ͜ʖ ͡°)"
   ]
  },
  {
   "cell_type": "markdown",
   "id": "mgj_xY1Vc5b8",
   "metadata": {
    "id": "mgj_xY1Vc5b8"
   },
   "source": [
    "$$\n",
    "AP_u@k = \\frac{1}{\\min(k, n_u)} \\sum_{i=1}^k r_u(i) p_u@i\n",
    "$$\n",
    "$$\n",
    "p_u@k = \\dfrac{1}{k}\\sum_{j=1}^k r_u(j)\n",
    "$$\n",
    "$$\n",
    "RR@k = \\dfrac{1}{\\text{rank}_i@k}\n",
    "$$\n",
    "$$\n",
    "HR@k = [\\exists \\ y_i = 1 \\ \\text{among k preds}]\n",
    "$$\n",
    "\n",
    "\n",
    "*   $n_u$ - число айтемов, с которыми взаимодействовал юзер $u$\n",
    "*   $y_i$ - релевантно ли $i$-ое предсказание, $y_i \\in \\{0,1\\}$\n",
    "* $\\text{rank}_i@k$ - позиция первого релеваннтого айтема среди первых $k$ предсказаний\n",
    "* HR@k - среди первых $k$ предсказаний есть хотя бы одно релевантное\n",
    "\n",
    "Считайте, что если `topn` не задано, то берётся всегда $n_u$. "
   ]
  },
  {
   "cell_type": "code",
   "execution_count": 119,
   "id": "60c1459f-7341-416f-94c7-55f30253e217",
   "metadata": {
    "id": "60c1459f-7341-416f-94c7-55f30253e217"
   },
   "outputs": [],
   "source": [
    "def ap_metric(\n",
    "    gt_items: List[int],\n",
    "    predictions: List[int],\n",
    "    topn: Optional[int]=None\n",
    "):\n",
    "    if topn == None:\n",
    "        topn = len(predictions)\n",
    "    predictions = np.asarray(predictions[:topn])\n",
    "    gt_set = set(gt_items)\n",
    "    hits = np.isin(predictions, list(gt_set))\n",
    "    _, unique_indices = np.unique(predictions, return_index=True)\n",
    "    unique_hits = np.zeros_like(hits, dtype=bool)\n",
    "    unique_hits[unique_indices] = hits[unique_indices]\n",
    "    num_hits = np.cumsum(unique_hits)\n",
    "    indices = np.arange(1, len(predictions) + 1)\n",
    "    score = np.sum(num_hits[unique_hits] / indices[unique_hits])\n",
    "    return score / min(len(gt_items), topn)\n",
    "\n",
    "\n",
    "def rr_metric(\n",
    "    gt_items: List[int],\n",
    "    predictions: List[int],\n",
    "    topn: Optional[int]=None\n",
    "):\n",
    "    if topn == None:\n",
    "        topn = len(gt_items)\n",
    "    predictions = np.array(predictions[:topn])\n",
    "    \n",
    "    hits = np.isin(predictions, gt_items)\n",
    "    \n",
    "    if np.any(hits):\n",
    "        first_hit_index = np.where(hits)[0][0] \n",
    "        return 1.0 / (first_hit_index + 1)\n",
    "    else:\n",
    "        return 0.0\n",
    "\n",
    "\n",
    "def hr_metric(\n",
    "    gt_items: List[int],\n",
    "    predictions: List[int],\n",
    "    topn: Optional[int]=None\n",
    "):\n",
    "    if topn is None:\n",
    "        topn = len(predictions)\n",
    "    \n",
    "    predictions = np.array(predictions[:topn])\n",
    "    hits = np.isin(predictions, gt_items)\n",
    "    return 1 if np.any(hits) else 0\n"
   ]
  },
  {
   "cell_type": "markdown",
   "id": "k83GlXGhMt6P",
   "metadata": {
    "id": "k83GlXGhMt6P"
   },
   "source": [
    "Для вашего удобства в файле `metric_tests.py` есть тесты, но хардкодить их, разумеется, не стоит. "
   ]
  },
  {
   "cell_type": "code",
   "execution_count": 120,
   "id": "xtqG_ri3MSO2",
   "metadata": {
    "id": "xtqG_ri3MSO2"
   },
   "outputs": [],
   "source": [
    "run_tests(ap_metric, rr_metric, hr_metric)"
   ]
  },
  {
   "cell_type": "markdown",
   "id": "di3dR9-mM34j",
   "metadata": {
    "id": "di3dR9-mM34j"
   },
   "source": [
    "В следующей ячейке код, который считает и усредняет метрики по юзерам. Он взят с семинара, при желании можно его тоже модифицировать, например, векторизовать. "
   ]
  },
  {
   "cell_type": "code",
   "execution_count": 121,
   "id": "YHz9p4SOg6eN",
   "metadata": {
    "id": "YHz9p4SOg6eN"
   },
   "outputs": [],
   "source": [
    "def evaluate_recommender(df, model_preds, gt_col='test_interactions'):\n",
    "\n",
    "    metric_values = []\n",
    "\n",
    "    for idx, row in df.iterrows():\n",
    "        gt_items = [x[0] for x in row[gt_col]]\n",
    "        predictions = row[model_preds]\n",
    "\n",
    "        ap = ap_metric(gt_items, predictions)\n",
    "        rr = rr_metric(gt_items, predictions)\n",
    "        hr = hr_metric(gt_items, predictions)\n",
    "\n",
    "        metric_values.append((ap, rr, hr))\n",
    "\n",
    "    return {'map': np.mean([x[0] for x in metric_values]),\n",
    "            'mrr': np.mean([x[1] for x in metric_values]),\n",
    "            'hr': np.mean([x[2] for x in metric_values])}"
   ]
  },
  {
   "cell_type": "markdown",
   "id": "HHwUiR0BNOqB",
   "metadata": {
    "id": "HHwUiR0BNOqB"
   },
   "source": [
    "Если вы всё сделали правильно, рандомные предсказания должны дать хоть какое-то качество, но не очень большое."
   ]
  },
  {
   "cell_type": "code",
   "execution_count": 122,
   "id": "107b24e3-00d0-4466-be0f-3377d34c83a0",
   "metadata": {
    "id": "107b24e3-00d0-4466-be0f-3377d34c83a0"
   },
   "outputs": [
    {
     "data": {
      "text/plain": [
       "{'map': 0.0, 'mrr': 0.0, 'hr': 0.0}"
      ]
     },
     "execution_count": 122,
     "metadata": {},
     "output_type": "execute_result"
    }
   ],
   "source": [
    "evaluate_recommender(joined, model_preds='random_recs')"
   ]
  },
  {
   "cell_type": "code",
   "execution_count": 123,
   "id": "ac8d261e-1b5f-4894-93db-eb9eb414bfd1",
   "metadata": {
    "colab": {
     "base_uri": "https://localhost:8080/",
     "height": 379
    },
    "id": "ac8d261e-1b5f-4894-93db-eb9eb414bfd1",
    "outputId": "808e1eec-48d3-40f8-809f-a51c3b3b7fd6"
   },
   "outputs": [
    {
     "data": {
      "text/html": [
       "<div>\n",
       "<style scoped>\n",
       "    .dataframe tbody tr th:only-of-type {\n",
       "        vertical-align: middle;\n",
       "    }\n",
       "\n",
       "    .dataframe tbody tr th {\n",
       "        vertical-align: top;\n",
       "    }\n",
       "\n",
       "    .dataframe thead th {\n",
       "        text-align: right;\n",
       "    }\n",
       "</style>\n",
       "<table border=\"1\" class=\"dataframe\">\n",
       "  <thead>\n",
       "    <tr style=\"text-align: right;\">\n",
       "      <th></th>\n",
       "      <th>user_id</th>\n",
       "      <th>train_interactions</th>\n",
       "      <th>test_interactions</th>\n",
       "      <th>random_recs</th>\n",
       "      <th>toppopular_recs</th>\n",
       "    </tr>\n",
       "  </thead>\n",
       "  <tbody>\n",
       "    <tr>\n",
       "      <th>0</th>\n",
       "      <td>106</td>\n",
       "      <td>[(9335, 28), (312, 35), (11494, 35), (12965, 5...</td>\n",
       "      <td>[(12908, 159), (2836, 159), (12873, 159), (337...</td>\n",
       "      <td>[14844, 2032, 12834]</td>\n",
       "      <td>[10440, 15297, 9728, 13865, 3734, 4151, 4880, ...</td>\n",
       "    </tr>\n",
       "    <tr>\n",
       "      <th>1</th>\n",
       "      <td>241</td>\n",
       "      <td>[(5051, 9), (2134, 9), (13913, 112), (6646, 11...</td>\n",
       "      <td>[(6162, 156), (10440, 156), (8986, 156), (1213...</td>\n",
       "      <td>[14844, 2032, 12834]</td>\n",
       "      <td>[10440, 15297, 9728, 13865, 3734, 4151, 4880, ...</td>\n",
       "    </tr>\n",
       "    <tr>\n",
       "      <th>2</th>\n",
       "      <td>322</td>\n",
       "      <td>[(4549, 94), (8419, 94), (14814, 94), (10219, ...</td>\n",
       "      <td>[(4651, 155), (15384, 155), (11099, 157), (633...</td>\n",
       "      <td>[14844, 2032, 12834]</td>\n",
       "      <td>[10440, 15297, 9728, 13865, 3734, 4151, 4880, ...</td>\n",
       "    </tr>\n",
       "    <tr>\n",
       "      <th>3</th>\n",
       "      <td>400</td>\n",
       "      <td>[(169, 144), (11047, 145), (12974, 145), (1399...</td>\n",
       "      <td>[(7793, 153)]</td>\n",
       "      <td>[14844, 2032, 12834]</td>\n",
       "      <td>[10440, 15297, 9728, 13865, 3734, 4151, 4880, ...</td>\n",
       "    </tr>\n",
       "    <tr>\n",
       "      <th>4</th>\n",
       "      <td>446</td>\n",
       "      <td>[(13865, 105)]</td>\n",
       "      <td>[(12202, 160), (230, 160)]</td>\n",
       "      <td>[14844, 2032, 12834]</td>\n",
       "      <td>[10440, 15297, 9728, 13865, 3734, 4151, 4880, ...</td>\n",
       "    </tr>\n",
       "  </tbody>\n",
       "</table>\n",
       "</div>"
      ],
      "text/plain": [
       "   user_id                                 train_interactions  \\\n",
       "0      106  [(9335, 28), (312, 35), (11494, 35), (12965, 5...   \n",
       "1      241  [(5051, 9), (2134, 9), (13913, 112), (6646, 11...   \n",
       "2      322  [(4549, 94), (8419, 94), (14814, 94), (10219, ...   \n",
       "3      400  [(169, 144), (11047, 145), (12974, 145), (1399...   \n",
       "4      446                                     [(13865, 105)]   \n",
       "\n",
       "                                   test_interactions           random_recs  \\\n",
       "0  [(12908, 159), (2836, 159), (12873, 159), (337...  [14844, 2032, 12834]   \n",
       "1  [(6162, 156), (10440, 156), (8986, 156), (1213...  [14844, 2032, 12834]   \n",
       "2  [(4651, 155), (15384, 155), (11099, 157), (633...  [14844, 2032, 12834]   \n",
       "3                                      [(7793, 153)]  [14844, 2032, 12834]   \n",
       "4                         [(12202, 160), (230, 160)]  [14844, 2032, 12834]   \n",
       "\n",
       "                                     toppopular_recs  \n",
       "0  [10440, 15297, 9728, 13865, 3734, 4151, 4880, ...  \n",
       "1  [10440, 15297, 9728, 13865, 3734, 4151, 4880, ...  \n",
       "2  [10440, 15297, 9728, 13865, 3734, 4151, 4880, ...  \n",
       "3  [10440, 15297, 9728, 13865, 3734, 4151, 4880, ...  \n",
       "4  [10440, 15297, 9728, 13865, 3734, 4151, 4880, ...  "
      ]
     },
     "execution_count": 123,
     "metadata": {},
     "output_type": "execute_result"
    }
   ],
   "source": [
    "class TopPopular:\n",
    "\n",
    "    def __init__(self):\n",
    "\n",
    "        self.trained = False\n",
    "\n",
    "    def fit(self, df, col='train_interactions'):\n",
    "\n",
    "        counts = {}\n",
    "        for _, row in df.iterrows():\n",
    "            for item, _ in row[col]:\n",
    "                if item in counts:\n",
    "                    counts[item] += 1\n",
    "                else:\n",
    "                    counts[item] = 1\n",
    "\n",
    "        counts = sorted(counts.items(), key=lambda x: x[1], reverse=True)\n",
    "\n",
    "        self.recommenations = [x[0] for x in counts]\n",
    "        self.trained = True\n",
    "\n",
    "    def predict(self, df, topn=10)  -> List[np.ndarray]:\n",
    "\n",
    "        assert self.trained\n",
    "        return [self.recommenations[:topn]]*len(df)\n",
    "\n",
    "\n",
    "toppop = TopPopular()\n",
    "toppop.fit(joined)\n",
    "\n",
    "joined['toppopular_recs'] = toppop.predict(joined)\n",
    "joined.head()"
   ]
  },
  {
   "cell_type": "markdown",
   "id": "U6Yovxc4NbdO",
   "metadata": {
    "id": "U6Yovxc4NbdO"
   },
   "source": [
    "Самые популярные предсказания должны показать более высокое качество."
   ]
  },
  {
   "cell_type": "code",
   "execution_count": 124,
   "id": "dfd3c545-53f8-46a4-89b9-4cf61475599a",
   "metadata": {
    "id": "dfd3c545-53f8-46a4-89b9-4cf61475599a"
   },
   "outputs": [
    {
     "data": {
      "text/plain": [
       "{'map': 0.0672966400856639, 'mrr': 0.08590527777777777, 'hr': 0.27}"
      ]
     },
     "execution_count": 124,
     "metadata": {},
     "output_type": "execute_result"
    }
   ],
   "source": [
    "evaluate_recommender(joined, model_preds='toppopular_recs')"
   ]
  },
  {
   "cell_type": "markdown",
   "id": "dcf7944e-962d-4206-8cfe-afa5162512b3",
   "metadata": {
    "id": "dcf7944e-962d-4206-8cfe-afa5162512b3"
   },
   "source": [
    "**Задание №2. Рекомендации в окне**\n",
    "\n",
    "Здесь необходимо переделать метод рекомендации по популярности так, что популярность считается только за какое-то более свежее временное окно. Под окном подразумевается какой-то временной промежуток, например, ближайший месяц. Соответственно, всё что за его пределами, не учитывается."
   ]
  },
  {
   "cell_type": "code",
   "execution_count": 125,
   "id": "4a01f209-5f6a-4643-9d1d-5fcec5598f28",
   "metadata": {
    "id": "4a01f209-5f6a-4643-9d1d-5fcec5598f28"
   },
   "outputs": [],
   "source": [
    "class TopPopularWeighted(TopPopular):\n",
    "\n",
    "    def __init__(self, min_window=2):\n",
    "        super().__init__()\n",
    "        self.min_window = min_window\n",
    "\n",
    "    def fit(self, df, col='train_interactions'):\n",
    "        last_date = max(max(days for _, days in row[col]) for _, row in df.iterrows())\n",
    "        \n",
    "        counts = {}\n",
    "        for _, row in df.iterrows():\n",
    "            for item, days_since_start in row[col]:\n",
    "                if days_since_start >= last_date - self.min_window:\n",
    "                    if item in counts:\n",
    "                        counts[item] += 1\n",
    "                    else:\n",
    "                        counts[item] = 1\n",
    "\n",
    "        counts = sorted(counts.items(), key=lambda x: x[1], reverse=True)\n",
    "\n",
    "        self.recommenations = [x[0] for x in counts]\n",
    "        self.trained = True"
   ]
  },
  {
   "cell_type": "markdown",
   "id": "YKmJId7cOWh6",
   "metadata": {
    "id": "YKmJId7cOWh6"
   },
   "source": [
    "Теперь постройте графики зависимости значений трёх метрик (AP@k, RR@k, HR@k) от размера окна. "
   ]
  },
  {
   "cell_type": "code",
   "execution_count": 126,
   "id": "mdxBytDB8gkm",
   "metadata": {
    "id": "mdxBytDB8gkm"
   },
   "outputs": [],
   "source": [
    "def plot_metrics(results, param):\n",
    "\n",
    "    plt.figure(figsize=(15, 6))\n",
    "    plt.plot(results[param], results['map'], marker='o')\n",
    "    plt.title('AP@k')\n",
    "    plt.xlabel('Окно (дней)')\n",
    "    plt.ylabel('AP@k')\n",
    "    plt.xticks(results[param])\n",
    "    plt.show()\n",
    "\n",
    "    plt.figure(figsize=(15, 6))\n",
    "    plt.plot(results[param], results['mrr'], marker='o', color='orange')\n",
    "    plt.title('RR@k')\n",
    "    plt.xlabel('Окно (дней)')\n",
    "    plt.ylabel('RR@k')\n",
    "    plt.xticks(results[param])\n",
    "    plt.show()\n",
    "\n",
    "    plt.figure(figsize=(15, 6))\n",
    "    plt.plot(results[param], results['hr'], marker='o', color='green')\n",
    "    plt.title('HR@k')\n",
    "    plt.xlabel('Окно (дней)')\n",
    "    plt.ylabel('HR@k')\n",
    "    plt.xticks(results[param])\n",
    "    plt.show()"
   ]
  },
  {
   "cell_type": "code",
   "execution_count": 127,
   "id": "f75402f9",
   "metadata": {},
   "outputs": [
    {
     "data": {
      "image/png": "[encoded data removed]",
      "text/plain": [
       "<Figure size 1500x600 with 1 Axes>"
      ]
     },
     "metadata": {},
     "output_type": "display_data"
    },
    {
     "data": {
      "image/png": "[encoded data removed]",
      "text/plain": [
       "<Figure size 1500x600 with 1 Axes>"
      ]
     },
     "metadata": {},
     "output_type": "display_data"
    },
    {
     "data": {
      "image/png": "[encoded data removed]",
      "text/plain": [
       "<Figure size 1500x600 with 1 Axes>"
      ]
     },
     "metadata": {},
     "output_type": "display_data"
    }
   ],
   "source": [
    "window_sizes = np.arange(1, 101, 5)\n",
    "results = {'window_size': [], 'map': [], 'mrr': [], 'hr': []}\n",
    "\n",
    "for window in window_sizes:\n",
    "    model = TopPopularWeighted(min_window=window)\n",
    "\n",
    "    model.fit(joined)\n",
    "        \n",
    "    joined['top_popular_window'] = model.predict(joined)\n",
    "\n",
    "    metrics = evaluate_recommender(joined, model_preds='top_popular_window')\n",
    "        \n",
    "    results['window_size'].append(window)\n",
    "    results['map'].append(metrics['map'])\n",
    "    results['mrr'].append(metrics['mrr'])\n",
    "    results['hr'].append(metrics['hr'])\n",
    "\n",
    "plot_metrics(results, 'window_size')"
   ]
  },
  {
   "cell_type": "markdown",
   "id": "b_0ke9aD9nkO",
   "metadata": {
    "id": "b_0ke9aD9nkO"
   },
   "source": [
    "Подумайте и ответьте, как размер окна влияет на качество рекомендаций. Какое значение наилучшее, есть ли у этого разумное объяснение?\n",
    "\n",
    "**Ответ:** В нашем случае увеличение размера окна до определенного предела приводит к росту метрики AP@k. Это указывает на то, что при небольшом размере окна выборки недостаточно для формирования качественных рекомендаций. В диапазоне окна от 31 до 60 метрика AP@k достигает максимума. Однако при увеличении окна свыше 61 значения AP@k начинают снижаться, что может свидетельствовать о том, что в выборку попадают устаревшие рекомендации, не отражающие изменившиеся предпочтения (например, iPhone старой версии и тп)."
   ]
  },
  {
   "cell_type": "markdown",
   "id": "1a112ae1-d5f3-4150-8df3-9155240a557a",
   "metadata": {
    "id": "1a112ae1-d5f3-4150-8df3-9155240a557a"
   },
   "source": [
    "**Задание №3. Метрики и k.**\n",
    "\n",
    "Постройте зависимость значений MAP@K, MRR@K, HR@K для метода рекомендации по популярности. Возьмите какие-нибудь k, например, от 1 до 100, переберите значения и покажите на линейном графике. "
   ]
  },
  {
   "cell_type": "code",
   "execution_count": 128,
   "id": "URxM6rRVP6Nu",
   "metadata": {
    "id": "URxM6rRVP6Nu"
   },
   "outputs": [],
   "source": [
    "joined['toppopular_recs'] = toppop.predict(joined, topn=100)"
   ]
  },
  {
   "cell_type": "code",
   "execution_count": 129,
   "id": "37ea89c1",
   "metadata": {},
   "outputs": [
    {
     "data": {
      "image/png": "[encoded data removed]",
      "text/plain": [
       "<Figure size 1500x600 with 1 Axes>"
      ]
     },
     "metadata": {},
     "output_type": "display_data"
    },
    {
     "data": {
      "image/png": "[encoded data removed]",
      "text/plain": [
       "<Figure size 1500x600 with 1 Axes>"
      ]
     },
     "metadata": {},
     "output_type": "display_data"
    },
    {
     "data": {
      "image/png": "[encoded data removed]",
      "text/plain": [
       "<Figure size 1500x600 with 1 Axes>"
      ]
     },
     "metadata": {},
     "output_type": "display_data"
    }
   ],
   "source": [
    "def evaluate_recommender_k(df, model_preds, k, gt_col='test_interactions'):\n",
    "\n",
    "    metric_values = []\n",
    "\n",
    "    for idx, row in df.iterrows():\n",
    "        gt_items = [x[0] for x in row[gt_col]]\n",
    "        predictions = row[model_preds]\n",
    "\n",
    "        ap = ap_metric(gt_items, predictions, k)\n",
    "        rr = rr_metric(gt_items, predictions, k)\n",
    "        hr = hr_metric(gt_items, predictions, k)\n",
    "\n",
    "        metric_values.append((ap, rr, hr))\n",
    "\n",
    "    return {'map': np.mean([x[0] for x in metric_values]),\n",
    "            'mrr': np.mean([x[1] for x in metric_values]),\n",
    "            'hr': np.mean([x[2] for x in metric_values])}\n",
    "\n",
    "\n",
    "results = {'k': [], 'map': [], 'mrr': [], 'hr': []}\n",
    "\n",
    "for k in range(1, 200, 5):\n",
    "\n",
    "    metrics = evaluate_recommender_k(joined, 'toppopular_recs', k)\n",
    "    results['k'].append(k)\n",
    "    results['map'].append(metrics['map'])\n",
    "    results['mrr'].append(metrics['mrr'])\n",
    "    results['hr'].append(metrics['hr'])\n",
    "\n",
    "plot_metrics(results, 'k')"
   ]
  },
  {
   "cell_type": "markdown",
   "id": "e5696df8-243a-42a0-9bf4-44aac7474dd7",
   "metadata": {
    "id": "e5696df8-243a-42a0-9bf4-44aac7474dd7"
   },
   "source": [
    "Хорошенько подумайте и ответьте на вопросы ниже.\n",
    "\n",
    "3.1 Какие из метрик являются монотонными функциями по top-K? Объясните, почему они являются монотонными? \\\n",
    "**Ответ:** \n",
    "* MAP@K - до определенного момента монотонно возрастает (по мере увеличения количества релевантных элементов в выборке). В дальнешем метрика относительно стабилизируется и колеблется около определенного уровня (поскольку последующее дополнение менее актуальных рекомендаций при росте значения k). Если система хорошо ранжирует релевантные элементы на первых позициях, то MAP@K будет расти с увеличением K, поскольку включает в себя больше релевантных элементов.\n",
    "* MRR@K - на начальных этапах монотонно возрастает, поскольку растет вероятность найти первый релевантный элемент. Когда список рекомендаций становится длиннее (большие значения k), если релевантный элемент уже был найден на более ранних позициях, то дальнейшее увеличение K не существенно повлияет на метрику.\n",
    "* HR@k - монотонно возрастает до определенного уровня k а далее останавливается на своем максимальном уровне. По мере увеличения значения k вероятность, что попадется хотя бы один релевантный элемент существенно возрастает. С определенного момента (когда по всем пользователям найден релевантный элемент) график останавливается на максимальном уровне.\n",
    "\n",
    "3.2 Объясните по каждой метрике, как можно интерпретировать ее график? То есть, что можно сказать про связь изменения метрики c возможными пользовательскими сценариями, например,скроллингом ленты новостей. \\\n",
    "**Ответ:**\n",
    "* MAP@K - при скроллинге ленты новостей пользователь видит больше актуальных новостей по мере продвижения вниз. Однако по мере продвижения вниз количество менее релевантных новостей также может расти и график стабилизируется или колеблется k\n",
    "* MRR@K - если первая подходящая статья находится близко к началу списка рекомендаций (высокий MRR), это повышает удовлетворённость пользователя и снижает необходимость в дальнейшем просмотре\n",
    "* HR@k - если пользователь нашёл первую релевантную новость по теме, он может сразу же перейти к ней без необходимости продолжать скроллить ленту\n",
    "\n",
    "3.3 Как вы думаете, почему графики выглядят именно так? Должны ли они возрастать/убывать, от чего это может зависеть? (Тут вам может помочь дополнительный анализ данных)\\\n",
    "**Ответ:**\n",
    "Чтобы не повторяться с предыдущими ответами:\n",
    "* MAP@K - зависит от способности системы поддерживать высокую точность на протяжении всего списка рекомендаций. В нашему случае максимум достигается начиная с ~40 элемента, что говорит о наличии точек роста у нашей системы.\n",
    "* MRR@K - зависит от способности системы правильно определить и ранжировать наиболее актуальные предложения ближе к началу списка рекомендаций. Относительный максимум также происходит от примерно 40го элемента.\n",
    "* HR@k - зависит вероятности найти хотя бы один подходящий элемент среди рекомендаций. В целом наша система с данной задачей справляется, хотя рост метрики достаточно плавный относительно k."
   ]
  },
  {
   "cell_type": "markdown",
   "id": "ab1e75f8-c9bb-4d59-9d57-9934161aa4c7",
   "metadata": {
    "id": "ab1e75f8-c9bb-4d59-9d57-9934161aa4c7"
   },
   "source": [
    "**Задание №4. Интерпретация рейтингов**\n",
    "\n",
    "Возьмите названия фильмов/сериалов из `items.csv`, выделите 5 различных сценариев изменения популярности у фильмов, аргументируйте (например, графиком или статистикой) и проинтерпретируейте их (почему популярность для этого фильма меняется так). Обратите внимание, что надо найти именно разные паттерны изменения вероятностей. "
   ]
  },
  {
   "cell_type": "code",
   "execution_count": 130,
   "id": "59205c4a-1779-4678-a79e-f7b7548f6988",
   "metadata": {
    "colab": {
     "base_uri": "https://localhost:8080/",
     "height": 206
    },
    "id": "59205c4a-1779-4678-a79e-f7b7548f6988",
    "outputId": "4210096a-7b1e-432e-e29e-cc6f6bd7d3cc"
   },
   "outputs": [
    {
     "data": {
      "text/html": [
       "<div>\n",
       "<style scoped>\n",
       "    .dataframe tbody tr th:only-of-type {\n",
       "        vertical-align: middle;\n",
       "    }\n",
       "\n",
       "    .dataframe tbody tr th {\n",
       "        vertical-align: top;\n",
       "    }\n",
       "\n",
       "    .dataframe thead th {\n",
       "        text-align: right;\n",
       "    }\n",
       "</style>\n",
       "<table border=\"1\" class=\"dataframe\">\n",
       "  <thead>\n",
       "    <tr style=\"text-align: right;\">\n",
       "      <th></th>\n",
       "      <th>item_id</th>\n",
       "      <th>title</th>\n",
       "    </tr>\n",
       "  </thead>\n",
       "  <tbody>\n",
       "    <tr>\n",
       "      <th>0</th>\n",
       "      <td>10711</td>\n",
       "      <td>Поговори с ней</td>\n",
       "    </tr>\n",
       "    <tr>\n",
       "      <th>1</th>\n",
       "      <td>2508</td>\n",
       "      <td>Голые перцы</td>\n",
       "    </tr>\n",
       "    <tr>\n",
       "      <th>2</th>\n",
       "      <td>10716</td>\n",
       "      <td>Тактическая сила</td>\n",
       "    </tr>\n",
       "    <tr>\n",
       "      <th>3</th>\n",
       "      <td>7868</td>\n",
       "      <td>45 лет</td>\n",
       "    </tr>\n",
       "    <tr>\n",
       "      <th>4</th>\n",
       "      <td>16268</td>\n",
       "      <td>Все решает мгновение</td>\n",
       "    </tr>\n",
       "  </tbody>\n",
       "</table>\n",
       "</div>"
      ],
      "text/plain": [
       "   item_id                 title\n",
       "0    10711        Поговори с ней\n",
       "1     2508           Голые перцы\n",
       "2    10716      Тактическая сила\n",
       "3     7868                45 лет\n",
       "4    16268  Все решает мгновение"
      ]
     },
     "execution_count": 130,
     "metadata": {},
     "output_type": "execute_result"
    }
   ],
   "source": [
    "items = pd.read_csv('items.csv')[['item_id','title']].copy()\n",
    "items.head()"
   ]
  },
  {
   "cell_type": "markdown",
   "id": "d5d18d06-ef56-45ef-a738-72150b094898",
   "metadata": {
    "id": "d5d18d06-ef56-45ef-a738-72150b094898"
   },
   "source": [
    "Пример:"
   ]
  },
  {
   "cell_type": "code",
   "execution_count": 131,
   "id": "bbf556fe-21d5-4210-b699-7090fa2fa178",
   "metadata": {
    "colab": {
     "base_uri": "https://localhost:8080/",
     "height": 465
    },
    "id": "bbf556fe-21d5-4210-b699-7090fa2fa178",
    "outputId": "eb2242ca-5bf9-4125-e597-cbc96412df4e"
   },
   "outputs": [
    {
     "name": "stdout",
     "output_type": "stream",
     "text": [
      "1917\n"
     ]
    },
    {
     "data": {
      "text/plain": [
       "<Axes: >"
      ]
     },
     "execution_count": 131,
     "metadata": {},
     "output_type": "execute_result"
    },
    {
     "data": {
      "image/png": "[encoded data removed]",
      "text/plain": [
       "<Figure size 640x480 with 1 Axes>"
      ]
     },
     "metadata": {},
     "output_type": "display_data"
    }
   ],
   "source": [
    "popular_items = df.item_id.value_counts()[:300].index.tolist()\n",
    "sampled_id = np.random.choice(popular_items)\n",
    "\n",
    "# это для примера, хотя выцеплять случаи по одному может быть не лучшей идеей\n",
    "sampled_id = 3402\n",
    "\n",
    "interactions = df.loc[df.item_id==sampled_id].copy()\n",
    "name = items.loc[items.item_id==sampled_id].title.values[0]\n",
    "print(name)\n",
    "interactions.last_watch_dt.hist()"
   ]
  },
  {
   "cell_type": "markdown",
   "id": "bf72e854-0b21-4891-ba5c-acbca999c3f1",
   "metadata": {
    "id": "bf72e854-0b21-4891-ba5c-acbca999c3f1"
   },
   "source": [
    "Фильм 1917 какое-то время набирал популярность, потом видим резкое падение (кстати, с какой даты?). Возможно, это связано с ограничением доступности этого фильма для части пользователей, периодом проката фильма / рекламной кампании или другой причиной. "
   ]
  },
  {
   "cell_type": "markdown",
   "id": "b9c65a93",
   "metadata": {},
   "source": [
    "Эта дата '2021-03-13' (определил ее выше)"
   ]
  },
  {
   "cell_type": "markdown",
   "id": "eb5ae2d4-8ddc-4593-b7a2-2cb5e8276e16",
   "metadata": {
    "id": "eb5ae2d4-8ddc-4593-b7a2-2cb5e8276e16"
   },
   "source": [
    "Добавьте 5 своих примеров ниже. Опишите, как вы их искали. "
   ]
  },
  {
   "cell_type": "code",
   "execution_count": 132,
   "id": "b70f9a27",
   "metadata": {},
   "outputs": [
    {
     "data": {
      "text/html": [
       "<div>\n",
       "<style scoped>\n",
       "    .dataframe tbody tr th:only-of-type {\n",
       "        vertical-align: middle;\n",
       "    }\n",
       "\n",
       "    .dataframe tbody tr th {\n",
       "        vertical-align: top;\n",
       "    }\n",
       "\n",
       "    .dataframe thead th {\n",
       "        text-align: right;\n",
       "    }\n",
       "</style>\n",
       "<table border=\"1\" class=\"dataframe\">\n",
       "  <thead>\n",
       "    <tr style=\"text-align: right;\">\n",
       "      <th></th>\n",
       "      <th>item_id</th>\n",
       "      <th>title</th>\n",
       "    </tr>\n",
       "  </thead>\n",
       "  <tbody>\n",
       "    <tr>\n",
       "      <th>654</th>\n",
       "      <td>3963</td>\n",
       "      <td>Сплетница (2007)</td>\n",
       "    </tr>\n",
       "    <tr>\n",
       "      <th>9775</th>\n",
       "      <td>9031</td>\n",
       "      <td>007: Координаты «Скайфолл»</td>\n",
       "    </tr>\n",
       "    <tr>\n",
       "      <th>14037</th>\n",
       "      <td>7376</td>\n",
       "      <td>Преступление и наказание (2007)</td>\n",
       "    </tr>\n",
       "    <tr>\n",
       "      <th>15633</th>\n",
       "      <td>4385</td>\n",
       "      <td>007: СПЕКТР</td>\n",
       "    </tr>\n",
       "  </tbody>\n",
       "</table>\n",
       "</div>"
      ],
      "text/plain": [
       "       item_id                            title\n",
       "654       3963                 Сплетница (2007)\n",
       "9775      9031       007: Координаты «Скайфолл»\n",
       "14037     7376  Преступление и наказание (2007)\n",
       "15633     4385                      007: СПЕКТР"
      ]
     },
     "execution_count": 132,
     "metadata": {},
     "output_type": "execute_result"
    }
   ],
   "source": [
    "items[items.title.str.contains('007', na=False)]"
   ]
  },
  {
   "cell_type": "code",
   "execution_count": 133,
   "id": "73878db4",
   "metadata": {},
   "outputs": [
    {
     "name": "stdout",
     "output_type": "stream",
     "text": [
      "007: СПЕКТР\n"
     ]
    },
    {
     "data": {
      "text/plain": [
       "<Axes: >"
      ]
     },
     "execution_count": 133,
     "metadata": {},
     "output_type": "execute_result"
    },
    {
     "data": {
      "image/png": "[encoded data removed]",
      "text/plain": [
       "<Figure size 640x480 with 1 Axes>"
      ]
     },
     "metadata": {},
     "output_type": "display_data"
    }
   ],
   "source": [
    "movie_1 = 4385\n",
    "\n",
    "interactions_1 = df.loc[df.item_id==movie_1].copy()\n",
    "name = items.loc[items.item_id==movie_1].title.values[0]\n",
    "print(name)\n",
    "interactions_1.last_watch_dt.hist()"
   ]
  },
  {
   "cell_type": "markdown",
   "id": "415097c2",
   "metadata": {},
   "source": [
    "Из графика видно, что со 120 по 150 день количество просмотров выросло. Посмотрим на какие даты приходится этот период."
   ]
  },
  {
   "cell_type": "code",
   "execution_count": 134,
   "id": "8ea5d99c",
   "metadata": {},
   "outputs": [
    {
     "name": "stdout",
     "output_type": "stream",
     "text": [
      "2021-07-11 00:00:00 2021-08-20 00:00:00\n"
     ]
    }
   ],
   "source": [
    "from datetime import datetime, timedelta\n",
    "\n",
    "date1 = datetime(2021, 3, 13)\n",
    "\n",
    "new_date_1 = date1 + timedelta(days=120)\n",
    "new_date_2 = date1 + timedelta(days=160)\n",
    "\n",
    "print(new_date_1, new_date_2)"
   ]
  },
  {
   "cell_type": "markdown",
   "id": "71a12a25",
   "metadata": {},
   "source": [
    "Данный период приходится на июль-август 2021 года. При этом в сентябре 2021 года состоялась мировая премьера новой части 007: Не время умирать. Таким образом, рост популярности 007: Спектр может быть связан с премьерой нового фильма, перед которой пользователи решили пересмотреть старые.  \n",
    "\n",
    "Проверим, выполняется ли эта логика для другого фильма про Джеймса Бонда 007: Координаты Скайфолл (вышел в 2012)"
   ]
  },
  {
   "cell_type": "code",
   "execution_count": 135,
   "id": "4144946a-39be-4049-b1f8-6f087d144bed",
   "metadata": {
    "id": "4144946a-39be-4049-b1f8-6f087d144bed"
   },
   "outputs": [
    {
     "name": "stdout",
     "output_type": "stream",
     "text": [
      "007: Координаты «Скайфолл»\n"
     ]
    },
    {
     "data": {
      "text/plain": [
       "<Axes: >"
      ]
     },
     "execution_count": 135,
     "metadata": {},
     "output_type": "execute_result"
    },
    {
     "data": {
      "image/png": "[encoded data removed]",
      "text/plain": [
       "<Figure size 640x480 with 1 Axes>"
      ]
     },
     "metadata": {},
     "output_type": "display_data"
    }
   ],
   "source": [
    "movie_2 = 9031\n",
    "\n",
    "interactions_2 = df.loc[df.item_id==movie_2].copy()\n",
    "name = items.loc[items.item_id==movie_2].title.values[0]\n",
    "print(name)\n",
    "interactions_2.last_watch_dt.hist()"
   ]
  },
  {
   "cell_type": "markdown",
   "id": "67044ad6",
   "metadata": {},
   "source": [
    "В целом также видно, что у фильма Кординаты \"Скайфолл\" растут просмотры со 110 по 160 день, что также подтверждает гипотезу (накануне премьеры зрители пересматривают предыдущие серии фильмов)"
   ]
  },
  {
   "cell_type": "code",
   "execution_count": 154,
   "id": "a523f0d4",
   "metadata": {},
   "outputs": [
    {
     "data": {
      "text/html": [
       "<div>\n",
       "<style scoped>\n",
       "    .dataframe tbody tr th:only-of-type {\n",
       "        vertical-align: middle;\n",
       "    }\n",
       "\n",
       "    .dataframe tbody tr th {\n",
       "        vertical-align: top;\n",
       "    }\n",
       "\n",
       "    .dataframe thead th {\n",
       "        text-align: right;\n",
       "    }\n",
       "</style>\n",
       "<table border=\"1\" class=\"dataframe\">\n",
       "  <thead>\n",
       "    <tr style=\"text-align: right;\">\n",
       "      <th></th>\n",
       "      <th>item_id</th>\n",
       "      <th>title</th>\n",
       "    </tr>\n",
       "  </thead>\n",
       "  <tbody>\n",
       "    <tr>\n",
       "      <th>9023</th>\n",
       "      <td>3190</td>\n",
       "      <td>Ещё одна из рода Болейн</td>\n",
       "    </tr>\n",
       "    <tr>\n",
       "      <th>12201</th>\n",
       "      <td>3403</td>\n",
       "      <td>Анна Болейн</td>\n",
       "    </tr>\n",
       "  </tbody>\n",
       "</table>\n",
       "</div>"
      ],
      "text/plain": [
       "       item_id                    title\n",
       "9023      3190  Ещё одна из рода Болейн\n",
       "12201     3403              Анна Болейн"
      ]
     },
     "execution_count": 154,
     "metadata": {},
     "output_type": "execute_result"
    }
   ],
   "source": [
    "items[items.title.str.contains('Болейн', na=False)]"
   ]
  },
  {
   "cell_type": "code",
   "execution_count": 159,
   "id": "6fd579be",
   "metadata": {},
   "outputs": [
    {
     "name": "stdout",
     "output_type": "stream",
     "text": [
      "Ещё одна из рода Болейн\n"
     ]
    },
    {
     "data": {
      "text/plain": [
       "<Axes: >"
      ]
     },
     "execution_count": 159,
     "metadata": {},
     "output_type": "execute_result"
    },
    {
     "data": {
      "image/png": "[encoded data removed]",
      "text/plain": [
       "<Figure size 640x480 with 1 Axes>"
      ]
     },
     "metadata": {},
     "output_type": "display_data"
    }
   ],
   "source": [
    "movie_3 = 3190\n",
    "\n",
    "interactions_3 = df.loc[df.item_id==movie_3].copy()\n",
    "name = items.loc[items.item_id==movie_3].title.values[0]\n",
    "print(name)\n",
    "interactions_3.last_watch_dt.hist()"
   ]
  },
  {
   "cell_type": "code",
   "execution_count": 157,
   "id": "8a7b64dd",
   "metadata": {},
   "outputs": [
    {
     "name": "stdout",
     "output_type": "stream",
     "text": [
      "2021-07-06 00:00:00 2021-07-31 00:00:00\n"
     ]
    }
   ],
   "source": [
    "new_date_4 = date1 + timedelta(days=115)\n",
    "new_date_5 = date1 + timedelta(days=140)\n",
    "\n",
    "print(new_date_4, new_date_5)"
   ]
  },
  {
   "cell_type": "markdown",
   "id": "b3f364d7",
   "metadata": {},
   "source": [
    "1 июня 2021 года стартовал показ сериала про жену короля Генриха 8го \"Анна Болейн\". Мы видим, для фильма 2008 года с похожим названием \"Еще одназ рода Болейн\" в июне-июле происходит всплеск просморов. Вероятно, зрители просто перепутали старый фильм с новым сериалом, когда искали премьеру."
   ]
  },
  {
   "cell_type": "code",
   "execution_count": 160,
   "id": "9cc80250",
   "metadata": {},
   "outputs": [
    {
     "data": {
      "text/html": [
       "<div>\n",
       "<style scoped>\n",
       "    .dataframe tbody tr th:only-of-type {\n",
       "        vertical-align: middle;\n",
       "    }\n",
       "\n",
       "    .dataframe tbody tr th {\n",
       "        vertical-align: top;\n",
       "    }\n",
       "\n",
       "    .dataframe thead th {\n",
       "        text-align: right;\n",
       "    }\n",
       "</style>\n",
       "<table border=\"1\" class=\"dataframe\">\n",
       "  <thead>\n",
       "    <tr style=\"text-align: right;\">\n",
       "      <th></th>\n",
       "      <th>item_id</th>\n",
       "      <th>title</th>\n",
       "    </tr>\n",
       "  </thead>\n",
       "  <tbody>\n",
       "    <tr>\n",
       "      <th>6425</th>\n",
       "      <td>11237</td>\n",
       "      <td>День города</td>\n",
       "    </tr>\n",
       "  </tbody>\n",
       "</table>\n",
       "</div>"
      ],
      "text/plain": [
       "      item_id        title\n",
       "6425    11237  День города"
      ]
     },
     "execution_count": 160,
     "metadata": {},
     "output_type": "execute_result"
    }
   ],
   "source": [
    "items[items.title.str.contains('День города', na=False)]"
   ]
  },
  {
   "cell_type": "code",
   "execution_count": 161,
   "id": "875cb2a4",
   "metadata": {},
   "outputs": [
    {
     "name": "stdout",
     "output_type": "stream",
     "text": [
      "День города\n"
     ]
    },
    {
     "data": {
      "text/plain": [
       "<Axes: >"
      ]
     },
     "execution_count": 161,
     "metadata": {},
     "output_type": "execute_result"
    },
    {
     "data": {
      "image/png": "[encoded data removed]",
      "text/plain": [
       "<Figure size 640x480 with 1 Axes>"
      ]
     },
     "metadata": {},
     "output_type": "display_data"
    }
   ],
   "source": [
    "movie_4 = 11237\n",
    "\n",
    "interactions_4 = df.loc[df.item_id==movie_4].copy()\n",
    "name = items.loc[items.item_id==movie_4].title.values[0]\n",
    "print(name)\n",
    "interactions_4.last_watch_dt.hist()"
   ]
  },
  {
   "cell_type": "markdown",
   "id": "674a54fe",
   "metadata": {},
   "source": [
    "В конце января 2021 вышел в прокат фильм \"День города\". Из графика видно, что вероятно в марте он стал появляться в онлайн кинотеатрах и на март пришелся пик его просмотров."
   ]
  },
  {
   "cell_type": "code",
   "execution_count": 162,
   "id": "440f3c33",
   "metadata": {},
   "outputs": [
    {
     "data": {
      "text/html": [
       "<div>\n",
       "<style scoped>\n",
       "    .dataframe tbody tr th:only-of-type {\n",
       "        vertical-align: middle;\n",
       "    }\n",
       "\n",
       "    .dataframe tbody tr th {\n",
       "        vertical-align: top;\n",
       "    }\n",
       "\n",
       "    .dataframe thead th {\n",
       "        text-align: right;\n",
       "    }\n",
       "</style>\n",
       "<table border=\"1\" class=\"dataframe\">\n",
       "  <thead>\n",
       "    <tr style=\"text-align: right;\">\n",
       "      <th></th>\n",
       "      <th>item_id</th>\n",
       "      <th>title</th>\n",
       "    </tr>\n",
       "  </thead>\n",
       "  <tbody>\n",
       "    <tr>\n",
       "      <th>19</th>\n",
       "      <td>15261</td>\n",
       "      <td>Спящая красавица. Легенда двух королевств: Лед...</td>\n",
       "    </tr>\n",
       "    <tr>\n",
       "      <th>152</th>\n",
       "      <td>10994</td>\n",
       "      <td>Легенда о коловрате</td>\n",
       "    </tr>\n",
       "    <tr>\n",
       "      <th>1995</th>\n",
       "      <td>13633</td>\n",
       "      <td>Враг государства №1: Легенда</td>\n",
       "    </tr>\n",
       "    <tr>\n",
       "      <th>2441</th>\n",
       "      <td>11527</td>\n",
       "      <td>Легенда Зорро</td>\n",
       "    </tr>\n",
       "    <tr>\n",
       "      <th>3183</th>\n",
       "      <td>1003</td>\n",
       "      <td>Лего. Легенда Ниндзяго</td>\n",
       "    </tr>\n",
       "    <tr>\n",
       "      <th>3912</th>\n",
       "      <td>13649</td>\n",
       "      <td>Легенда о великом мастере дзюдо 2</td>\n",
       "    </tr>\n",
       "    <tr>\n",
       "      <th>4292</th>\n",
       "      <td>3088</td>\n",
       "      <td>ЛЕГО. Мир юрского периода: Легенда острова Нублар</td>\n",
       "    </tr>\n",
       "    <tr>\n",
       "      <th>4532</th>\n",
       "      <td>5724</td>\n",
       "      <td>[4К] Легендарные крушения Корсики</td>\n",
       "    </tr>\n",
       "    <tr>\n",
       "      <th>5581</th>\n",
       "      <td>6025</td>\n",
       "      <td>Легенда о Тиле. Фильм первый – Пепел Клааса</td>\n",
       "    </tr>\n",
       "    <tr>\n",
       "      <th>5745</th>\n",
       "      <td>1241</td>\n",
       "      <td>Легенда андеграунда</td>\n",
       "    </tr>\n",
       "    <tr>\n",
       "      <th>7593</th>\n",
       "      <td>12813</td>\n",
       "      <td>Легенда Феррари</td>\n",
       "    </tr>\n",
       "    <tr>\n",
       "      <th>7805</th>\n",
       "      <td>3908</td>\n",
       "      <td>Легенда</td>\n",
       "    </tr>\n",
       "    <tr>\n",
       "      <th>7993</th>\n",
       "      <td>2913</td>\n",
       "      <td>Джерри Вайнтрауб. Голливудская Легенда</td>\n",
       "    </tr>\n",
       "    <tr>\n",
       "      <th>8288</th>\n",
       "      <td>14260</td>\n",
       "      <td>Легендарные крушения Корсики</td>\n",
       "    </tr>\n",
       "    <tr>\n",
       "      <th>8293</th>\n",
       "      <td>11487</td>\n",
       "      <td>Легенда о Сурамской крепости</td>\n",
       "    </tr>\n",
       "    <tr>\n",
       "      <th>8501</th>\n",
       "      <td>30</td>\n",
       "      <td>Thomas &amp; Friends: Легенда Содора о пропавших с...</td>\n",
       "    </tr>\n",
       "    <tr>\n",
       "      <th>8624</th>\n",
       "      <td>13361</td>\n",
       "      <td>Легенда о пианисте</td>\n",
       "    </tr>\n",
       "    <tr>\n",
       "      <th>8646</th>\n",
       "      <td>8106</td>\n",
       "      <td>Легенда об Энио</td>\n",
       "    </tr>\n",
       "    <tr>\n",
       "      <th>8987</th>\n",
       "      <td>4760</td>\n",
       "      <td>Легендарное ограбление (жестовым языком)</td>\n",
       "    </tr>\n",
       "    <tr>\n",
       "      <th>9323</th>\n",
       "      <td>6607</td>\n",
       "      <td>2pac: Легенда</td>\n",
       "    </tr>\n",
       "    <tr>\n",
       "      <th>9393</th>\n",
       "      <td>5518</td>\n",
       "      <td>Легендарное ограбление</td>\n",
       "    </tr>\n",
       "    <tr>\n",
       "      <th>9538</th>\n",
       "      <td>760</td>\n",
       "      <td>Легенда № 17</td>\n",
       "    </tr>\n",
       "    <tr>\n",
       "      <th>10570</th>\n",
       "      <td>5560</td>\n",
       "      <td>Восточный ветер 4: Легенда о Воине</td>\n",
       "    </tr>\n",
       "    <tr>\n",
       "      <th>11407</th>\n",
       "      <td>2583</td>\n",
       "      <td>Рокко: Легенда крупным планом</td>\n",
       "    </tr>\n",
       "    <tr>\n",
       "      <th>12692</th>\n",
       "      <td>11433</td>\n",
       "      <td>Легенда (с тифлокомментарием)</td>\n",
       "    </tr>\n",
       "    <tr>\n",
       "      <th>13322</th>\n",
       "      <td>10768</td>\n",
       "      <td>Легенда синего моря</td>\n",
       "    </tr>\n",
       "    <tr>\n",
       "      <th>13951</th>\n",
       "      <td>15423</td>\n",
       "      <td>Легенда о Нараяме</td>\n",
       "    </tr>\n",
       "    <tr>\n",
       "      <th>14115</th>\n",
       "      <td>352</td>\n",
       "      <td>Легендарные места</td>\n",
       "    </tr>\n",
       "    <tr>\n",
       "      <th>14217</th>\n",
       "      <td>1046</td>\n",
       "      <td>Легенда о Красном Орле</td>\n",
       "    </tr>\n",
       "    <tr>\n",
       "      <th>14218</th>\n",
       "      <td>9368</td>\n",
       "      <td>Легенда о княгине Ольге</td>\n",
       "    </tr>\n",
       "    <tr>\n",
       "      <th>15744</th>\n",
       "      <td>8207</td>\n",
       "      <td>Смешарики.Легенда о золотом драконе</td>\n",
       "    </tr>\n",
       "    <tr>\n",
       "      <th>15863</th>\n",
       "      <td>11415</td>\n",
       "      <td>Легендарное ограбление (с тифлокомментарием)</td>\n",
       "    </tr>\n",
       "    <tr>\n",
       "      <th>15883</th>\n",
       "      <td>15258</td>\n",
       "      <td>Телеведущий: Легенда о Роне Бургунди</td>\n",
       "    </tr>\n",
       "    <tr>\n",
       "      <th>15925</th>\n",
       "      <td>5793</td>\n",
       "      <td>Легенда о призрачном кинжале</td>\n",
       "    </tr>\n",
       "  </tbody>\n",
       "</table>\n",
       "</div>"
      ],
      "text/plain": [
       "       item_id                                              title\n",
       "19       15261  Спящая красавица. Легенда двух королевств: Лед...\n",
       "152      10994                                Легенда о коловрате\n",
       "1995     13633                       Враг государства №1: Легенда\n",
       "2441     11527                                      Легенда Зорро\n",
       "3183      1003                             Лего. Легенда Ниндзяго\n",
       "3912     13649                  Легенда о великом мастере дзюдо 2\n",
       "4292      3088  ЛЕГО. Мир юрского периода: Легенда острова Нублар\n",
       "4532      5724                  [4К] Легендарные крушения Корсики\n",
       "5581      6025        Легенда о Тиле. Фильм первый – Пепел Клааса\n",
       "5745      1241                                Легенда андеграунда\n",
       "7593     12813                                    Легенда Феррари\n",
       "7805      3908                                            Легенда\n",
       "7993      2913             Джерри Вайнтрауб. Голливудская Легенда\n",
       "8288     14260                       Легендарные крушения Корсики\n",
       "8293     11487                       Легенда о Сурамской крепости\n",
       "8501        30  Thomas & Friends: Легенда Содора о пропавших с...\n",
       "8624     13361                                 Легенда о пианисте\n",
       "8646      8106                                    Легенда об Энио\n",
       "8987      4760           Легендарное ограбление (жестовым языком)\n",
       "9323      6607                                      2pac: Легенда\n",
       "9393      5518                             Легендарное ограбление\n",
       "9538       760                                       Легенда № 17\n",
       "10570     5560                 Восточный ветер 4: Легенда о Воине\n",
       "11407     2583                      Рокко: Легенда крупным планом\n",
       "12692    11433                      Легенда (с тифлокомментарием)\n",
       "13322    10768                                Легенда синего моря\n",
       "13951    15423                                  Легенда о Нараяме\n",
       "14115      352                                  Легендарные места\n",
       "14217     1046                             Легенда о Красном Орле\n",
       "14218     9368                            Легенда о княгине Ольге\n",
       "15744     8207                Смешарики.Легенда о золотом драконе\n",
       "15863    11415       Легендарное ограбление (с тифлокомментарием)\n",
       "15883    15258               Телеведущий: Легенда о Роне Бургунди\n",
       "15925     5793                       Легенда о призрачном кинжале"
      ]
     },
     "execution_count": 162,
     "metadata": {},
     "output_type": "execute_result"
    }
   ],
   "source": [
    "items[items.title.str.contains('Легенда', na=False)]"
   ]
  },
  {
   "cell_type": "code",
   "execution_count": 163,
   "id": "36e26138",
   "metadata": {},
   "outputs": [
    {
     "name": "stdout",
     "output_type": "stream",
     "text": [
      "Легенда № 17\n"
     ]
    },
    {
     "data": {
      "text/plain": [
       "<Axes: >"
      ]
     },
     "execution_count": 163,
     "metadata": {},
     "output_type": "execute_result"
    },
    {
     "data": {
      "image/png": "[encoded data removed]",
      "text/plain": [
       "<Figure size 640x480 with 1 Axes>"
      ]
     },
     "metadata": {},
     "output_type": "display_data"
    }
   ],
   "source": [
    "movie_5 = 760\n",
    "\n",
    "interactions_5 = df.loc[df.item_id==movie_5].copy()\n",
    "name = items.loc[items.item_id==movie_5].title.values[0]\n",
    "print(name)\n",
    "interactions_5.last_watch_dt.hist()"
   ]
  },
  {
   "cell_type": "code",
   "execution_count": 166,
   "id": "a686f8bd",
   "metadata": {},
   "outputs": [
    {
     "name": "stdout",
     "output_type": "stream",
     "text": [
      "2021-05-12 00:00:00 2021-06-01 00:00:00\n"
     ]
    }
   ],
   "source": [
    "new_date_9 = date1 + timedelta(days=60)\n",
    "new_date_10 = date1 + timedelta(days=80)\n",
    "\n",
    "print(new_date_9, new_date_10)"
   ]
  },
  {
   "cell_type": "markdown",
   "id": "c2c496a8",
   "metadata": {},
   "source": [
    "Мы видим что на май 2021 пришелся рост просмотра фильма Легенда №17. Май - достаточно хоккейный месяц. В мае проходит Чемпионат мира по хоккею с шайбой, финал Кубка Гагарина, плейофф Кубка Стенли. На фоне этого зрители могли чаще просматривать кино про хоккей."
   ]
  },
  {
   "cell_type": "code",
   "execution_count": 167,
   "id": "e6ed4f24",
   "metadata": {},
   "outputs": [
    {
     "data": {
      "text/html": [
       "<div>\n",
       "<style scoped>\n",
       "    .dataframe tbody tr th:only-of-type {\n",
       "        vertical-align: middle;\n",
       "    }\n",
       "\n",
       "    .dataframe tbody tr th {\n",
       "        vertical-align: top;\n",
       "    }\n",
       "\n",
       "    .dataframe thead th {\n",
       "        text-align: right;\n",
       "    }\n",
       "</style>\n",
       "<table border=\"1\" class=\"dataframe\">\n",
       "  <thead>\n",
       "    <tr style=\"text-align: right;\">\n",
       "      <th></th>\n",
       "      <th>item_id</th>\n",
       "      <th>title</th>\n",
       "    </tr>\n",
       "  </thead>\n",
       "  <tbody>\n",
       "    <tr>\n",
       "      <th>3875</th>\n",
       "      <td>6809</td>\n",
       "      <td>Дуров</td>\n",
       "    </tr>\n",
       "    <tr>\n",
       "      <th>4891</th>\n",
       "      <td>14643</td>\n",
       "      <td>Дедушка Дуров</td>\n",
       "    </tr>\n",
       "  </tbody>\n",
       "</table>\n",
       "</div>"
      ],
      "text/plain": [
       "      item_id          title\n",
       "3875     6809          Дуров\n",
       "4891    14643  Дедушка Дуров"
      ]
     },
     "execution_count": 167,
     "metadata": {},
     "output_type": "execute_result"
    }
   ],
   "source": [
    "items[items.title.str.contains('Дуров', na=False)]"
   ]
  },
  {
   "cell_type": "code",
   "execution_count": 168,
   "id": "47eb7e06",
   "metadata": {},
   "outputs": [
    {
     "name": "stdout",
     "output_type": "stream",
     "text": [
      "Дуров\n"
     ]
    },
    {
     "data": {
      "text/plain": [
       "<Axes: >"
      ]
     },
     "execution_count": 168,
     "metadata": {},
     "output_type": "execute_result"
    },
    {
     "data": {
      "image/png": "[encoded data removed]",
      "text/plain": [
       "<Figure size 640x480 with 1 Axes>"
      ]
     },
     "metadata": {},
     "output_type": "display_data"
    }
   ],
   "source": [
    "movie_6 = 6809\n",
    "\n",
    "interactions_6 = df.loc[df.item_id==movie_6].copy()\n",
    "name = items.loc[items.item_id==movie_6].title.values[0]\n",
    "print(name)\n",
    "interactions_6.last_watch_dt.hist()"
   ]
  },
  {
   "cell_type": "markdown",
   "id": "61df19a4",
   "metadata": {},
   "source": [
    "В конце апреле 2021 состялась премьера фильма Дуров, про основателя ВК и ТГ Павла Дурова. Пик популярности как раз приходится примерно на эти даты."
   ]
  },
  {
   "cell_type": "markdown",
   "id": "7597d4c1-68c8-4187-92ee-79cb44a84de8",
   "metadata": {
    "id": "7597d4c1-68c8-4187-92ee-79cb44a84de8"
   },
   "source": [
    "**Задание №5. User-item encoding**\n",
    "\n",
    "Теперь, создайте матрицу интеракций user-item по примеру из семинара. Вам нужно в итоге получить разреженную матрицу (sparse matrix), в которой в качестве строк будут пользователи, в качестве колонок - айтемы. Не забудьте перекодировать пользователей и айтемы через энкодер. В отличие от семинара, оставьте в матрице только юзеров и айтемы, которые встречались в матрице > 4 раз."
   ]
  },
  {
   "cell_type": "markdown",
   "id": "4ee1dd61-2f92-420d-96ce-3185dd80cb81",
   "metadata": {
    "id": "4ee1dd61-2f92-420d-96ce-3185dd80cb81"
   },
   "source": [
    "Важно: когда вы отфильтруете юзеров на встречаемость > 4 раз, вы удалите какие-то айтемы, которые теперь станут встречаться меньше 5 раз. Поэтому у вас перестанет выполняться второе условие на минимальное число интеракций с айтемом. Тогда вам надо опять отфильтровать айтемы на встречаемость, но это снова может нарушить условие для юзеров. В таком случае, вам надо написать итеративный алгоритм до сходимости, пока требования не будут выполняться в обеих колонках. "
   ]
  },
  {
   "cell_type": "code",
   "execution_count": 169,
   "id": "9a12535f",
   "metadata": {},
   "outputs": [
    {
     "data": {
      "text/html": [
       "<div>\n",
       "<style scoped>\n",
       "    .dataframe tbody tr th:only-of-type {\n",
       "        vertical-align: middle;\n",
       "    }\n",
       "\n",
       "    .dataframe tbody tr th {\n",
       "        vertical-align: top;\n",
       "    }\n",
       "\n",
       "    .dataframe thead th {\n",
       "        text-align: right;\n",
       "    }\n",
       "</style>\n",
       "<table border=\"1\" class=\"dataframe\">\n",
       "  <thead>\n",
       "    <tr style=\"text-align: right;\">\n",
       "      <th></th>\n",
       "      <th>user_id</th>\n",
       "      <th>item_id</th>\n",
       "      <th>last_watch_dt</th>\n",
       "      <th>total_dur</th>\n",
       "      <th>watched_pct</th>\n",
       "    </tr>\n",
       "  </thead>\n",
       "  <tbody>\n",
       "    <tr>\n",
       "      <th>0</th>\n",
       "      <td>176549</td>\n",
       "      <td>9506</td>\n",
       "      <td>2021-05-11</td>\n",
       "      <td>4250</td>\n",
       "      <td>72.0</td>\n",
       "    </tr>\n",
       "    <tr>\n",
       "      <th>1</th>\n",
       "      <td>699317</td>\n",
       "      <td>1659</td>\n",
       "      <td>2021-05-29</td>\n",
       "      <td>8317</td>\n",
       "      <td>100.0</td>\n",
       "    </tr>\n",
       "    <tr>\n",
       "      <th>2</th>\n",
       "      <td>656683</td>\n",
       "      <td>7107</td>\n",
       "      <td>2021-05-09</td>\n",
       "      <td>10</td>\n",
       "      <td>0.0</td>\n",
       "    </tr>\n",
       "    <tr>\n",
       "      <th>3</th>\n",
       "      <td>864613</td>\n",
       "      <td>7638</td>\n",
       "      <td>2021-07-05</td>\n",
       "      <td>14483</td>\n",
       "      <td>100.0</td>\n",
       "    </tr>\n",
       "    <tr>\n",
       "      <th>4</th>\n",
       "      <td>964868</td>\n",
       "      <td>9506</td>\n",
       "      <td>2021-04-30</td>\n",
       "      <td>6725</td>\n",
       "      <td>100.0</td>\n",
       "    </tr>\n",
       "  </tbody>\n",
       "</table>\n",
       "</div>"
      ],
      "text/plain": [
       "   user_id  item_id last_watch_dt  total_dur  watched_pct\n",
       "0   176549     9506    2021-05-11       4250         72.0\n",
       "1   699317     1659    2021-05-29       8317        100.0\n",
       "2   656683     7107    2021-05-09         10          0.0\n",
       "3   864613     7638    2021-07-05      14483        100.0\n",
       "4   964868     9506    2021-04-30       6725        100.0"
      ]
     },
     "execution_count": 169,
     "metadata": {},
     "output_type": "execute_result"
    }
   ],
   "source": [
    "df = pd.read_csv('interactions.csv').iloc[:-1]\n",
    "df.head()"
   ]
  },
  {
   "cell_type": "code",
   "execution_count": 174,
   "id": "1c4a5a4a-eabf-4145-b081-53881e5ce9c1",
   "metadata": {
    "id": "1c4a5a4a-eabf-4145-b081-53881e5ce9c1"
   },
   "outputs": [],
   "source": [
    "def filter_column(df, min_freq):\n",
    "    \"\"\"\n",
    "    Filter dataframe, excluding least active users and least popular items.\n",
    "    Return a copy of the dataframe with at least min_freq entries\n",
    "    in both users and items\n",
    "    \"\"\"\n",
    "    user_counts = df['user_id'].value_counts()\n",
    "    item_counts = df['item_id'].value_counts()\n",
    "    \n",
    "    filtered_df = df[(df['user_id'].isin(user_counts[user_counts >= min_freq].index)) &\n",
    "                     (df['item_id'].isin(item_counts[item_counts >= min_freq].index))]\n",
    "    \n",
    "    return filtered_df\n",
    "\n",
    "def filter_dataframe(df, cols, min_freq=5):\n",
    "    \"\"\"\n",
    "    Filter dataframe by given columns until each of them satisfies\n",
    "    min_freq condition, guaranteed by filter_columns. Return a copy\n",
    "    of the dataframe\n",
    "    \"\"\"\n",
    "    if cols is None or len(cols) == 0:\n",
    "        cols = ['user_id', 'item_id']\n",
    "\n",
    "    changed = True\n",
    "\n",
    "    while changed:\n",
    "        prev_df = df.copy()\n",
    "        filtered_df_temp = filter_column(df.copy(), min_freq)\n",
    "        changed = not (prev_df.equals(filtered_df_temp))\n",
    "        df=filtered_df_temp\n",
    "        \n",
    "        if not changed or len(prev_df) == len(filtered_df_temp): \n",
    "            break \n",
    "\n",
    "    return filtered_df_temp\n",
    "\n",
    "filtered_train = filter_dataframe(df, ['user_id', 'item_id'])"
   ]
  },
  {
   "cell_type": "code",
   "execution_count": null,
   "id": "a02c1fe8-2068-43d2-9851-edd67b5866c2",
   "metadata": {
    "colab": {
     "base_uri": "https://localhost:8080/",
     "height": 373
    },
    "id": "a02c1fe8-2068-43d2-9851-edd67b5866c2",
    "outputId": "0bcbad24-be0f-4b47-8d98-ea72f7ebe2e9"
   },
   "outputs": [
    {
     "data": {
      "text/html": [
       "<div>\n",
       "<style scoped>\n",
       "    .dataframe tbody tr th:only-of-type {\n",
       "        vertical-align: middle;\n",
       "    }\n",
       "\n",
       "    .dataframe tbody tr th {\n",
       "        vertical-align: top;\n",
       "    }\n",
       "\n",
       "    .dataframe thead th {\n",
       "        text-align: right;\n",
       "    }\n",
       "</style>\n",
       "<table border=\"1\" class=\"dataframe\">\n",
       "  <thead>\n",
       "    <tr style=\"text-align: right;\">\n",
       "      <th></th>\n",
       "      <th>user_id</th>\n",
       "      <th>item_id</th>\n",
       "      <th>last_watch_dt</th>\n",
       "      <th>total_dur</th>\n",
       "      <th>watched_pct</th>\n",
       "      <th>encoded_user</th>\n",
       "      <th>encoded_item</th>\n",
       "    </tr>\n",
       "  </thead>\n",
       "  <tbody>\n",
       "    <tr>\n",
       "      <th>4498508</th>\n",
       "      <td>371570</td>\n",
       "      <td>4151</td>\n",
       "      <td>2021-06-01</td>\n",
       "      <td>26399</td>\n",
       "      <td>100.0</td>\n",
       "      <td>49103</td>\n",
       "      <td>147</td>\n",
       "    </tr>\n",
       "    <tr>\n",
       "      <th>2197579</th>\n",
       "      <td>966075</td>\n",
       "      <td>1112</td>\n",
       "      <td>2021-06-20</td>\n",
       "      <td>294</td>\n",
       "      <td>6.0</td>\n",
       "      <td>6429</td>\n",
       "      <td>436</td>\n",
       "    </tr>\n",
       "    <tr>\n",
       "      <th>2979185</th>\n",
       "      <td>888362</td>\n",
       "      <td>10440</td>\n",
       "      <td>2021-07-19</td>\n",
       "      <td>16</td>\n",
       "      <td>0.0</td>\n",
       "      <td>150569</td>\n",
       "      <td>32</td>\n",
       "    </tr>\n",
       "    <tr>\n",
       "      <th>678481</th>\n",
       "      <td>626691</td>\n",
       "      <td>9159</td>\n",
       "      <td>2021-08-17</td>\n",
       "      <td>1635</td>\n",
       "      <td>23.0</td>\n",
       "      <td>217230</td>\n",
       "      <td>488</td>\n",
       "    </tr>\n",
       "    <tr>\n",
       "      <th>3105343</th>\n",
       "      <td>687957</td>\n",
       "      <td>14264</td>\n",
       "      <td>2021-08-01</td>\n",
       "      <td>474</td>\n",
       "      <td>5.0</td>\n",
       "      <td>250288</td>\n",
       "      <td>160</td>\n",
       "    </tr>\n",
       "  </tbody>\n",
       "</table>\n",
       "</div>"
      ],
      "text/plain": [
       "         user_id  item_id last_watch_dt  total_dur  watched_pct  encoded_user  \\\n",
       "4498508   371570     4151    2021-06-01      26399        100.0         49103   \n",
       "2197579   966075     1112    2021-06-20        294          6.0          6429   \n",
       "2979185   888362    10440    2021-07-19         16          0.0        150569   \n",
       "678481    626691     9159    2021-08-17       1635         23.0        217230   \n",
       "3105343   687957    14264    2021-08-01        474          5.0        250288   \n",
       "\n",
       "         encoded_item  \n",
       "4498508           147  \n",
       "2197579           436  \n",
       "2979185            32  \n",
       "678481            488  \n",
       "3105343           160  "
      ]
     },
     "execution_count": 175,
     "metadata": {},
     "output_type": "execute_result"
    }
   ],
   "source": [
    "def df_encode(df):\n",
    "    item2id = {k:v for v, k in enumerate(df['item_id'].unique())}\n",
    "    user2id = {k:v for v, k in enumerate(df['user_id'].unique())}\n",
    "    \n",
    "    id2item = {v: k for k,v in item2id.items()}  \n",
    "    id2user = {v: k for k,v in user2id.items()}\n",
    "\n",
    "    df['encoded_user'] = df.user_id.apply(lambda x: user2id[x])\n",
    "    df['encoded_item'] = df.item_id.apply(lambda x: item2id[x])\n",
    "    \n",
    "    return df\n",
    "\n",
    "filtered_train = df_encode(filtered_train)\n",
    "filtered_train.sample(5)"
   ]
  },
  {
   "cell_type": "code",
   "execution_count": 176,
   "id": "253ce6e2",
   "metadata": {},
   "outputs": [],
   "source": [
    "user2id = np.array(filtered_train.user_id)\n",
    "item2id = np.array(filtered_train.item_id)"
   ]
  },
  {
   "cell_type": "code",
   "execution_count": 177,
   "id": "cb0760a7-5667-41a5-b47e-12f297ed3d1e",
   "metadata": {
    "colab": {
     "base_uri": "https://localhost:8080/"
    },
    "id": "cb0760a7-5667-41a5-b47e-12f297ed3d1e",
    "outputId": "678f4947-3a6f-4605-bfaf-8a352b2098ab"
   },
   "outputs": [
    {
     "data": {
      "text/plain": [
       "<4278492x4278492 sparse matrix of type '<class 'numpy.float64'>'\n",
       "\twith 4278492 stored elements in COOrdinate format>"
      ]
     },
     "execution_count": 177,
     "metadata": {},
     "output_type": "execute_result"
    }
   ],
   "source": [
    "from scipy import sparse as sps\n",
    "\n",
    "matrix = sps.coo_matrix(\n",
    "    (np.ones(filtered_train.shape[0]), (filtered_train['user_id'], filtered_train['item_id'])),\n",
    "    shape=(len(user2id), len(item2id)),\n",
    ")\n",
    "matrix"
   ]
  },
  {
   "cell_type": "markdown",
   "id": "CsAJ72grYlLZ",
   "metadata": {
    "id": "CsAJ72grYlLZ"
   },
   "source": [
    "**Задание №6. Интеракции и частота**\n",
    "\n",
    "Постройте график зависимости количества айтемов и юзеров от значений (порогов) фильтров на встречаемость в матрице интеракций. То есть, нужно выполнить задание №5 для нескольких значений `min_freq` и построить график зависимости числа оставшихся айтемов и юзеров от этого параметра. "
   ]
  },
  {
   "cell_type": "code",
   "execution_count": 186,
   "id": "G-UH_tXBYm9p",
   "metadata": {
    "id": "G-UH_tXBYm9p"
   },
   "outputs": [
    {
     "data": {
      "image/png": "[encoded data removed]",
      "text/plain": [
       "<Figure size 1000x600 with 1 Axes>"
      ]
     },
     "metadata": {},
     "output_type": "display_data"
    }
   ],
   "source": [
    "def plot_dependency(df):\n",
    "    \n",
    "    min_freq_values = range(1, 11)\n",
    "    \n",
    "    users_count_list = []\n",
    "    items_count_list = []\n",
    "\n",
    "    for min_freq in min_freq_values:\n",
    "        filtered_df_temp = filter_dataframe(df.copy(), ['user_id', 'item_id'], min_freq)\n",
    "        \n",
    "        if not filtered_df_temp.empty:\n",
    "            users_count_list.append(filtered_df_temp['user_id'].nunique())\n",
    "            items_count_list.append(filtered_df_temp['item_id'].nunique())\n",
    "        else:\n",
    "            users_count_list.append(0)\n",
    "            items_count_list.append(0)\n",
    "\n",
    "    plt.figure(figsize=(10, 6))\n",
    "\n",
    "    plt.plot(min_freq_values, users_count_list, label='Кол-во пользователей')\n",
    "    plt.plot(min_freq_values, items_count_list, label='Кол-во предметов')\n",
    "\n",
    "    plt.xlabel('Минимальная частота')\n",
    "    plt.ylabel('Количество айтемов / юзеров (лог шкала)')\n",
    "    plt.yscale('log')\n",
    "    plt.title('Кол-во юзеров и айтемов в зависимости от значения порога фильтрации')\n",
    "    \n",
    "    if len(users_count_list) > 0 and len(items_count_list) > 0:\n",
    "        plt.legend()\n",
    "\n",
    "    plt.show()\n",
    "\n",
    "\n",
    "plot_dependency(df)"
   ]
  },
  {
   "cell_type": "markdown",
   "id": "aabc7405",
   "metadata": {},
   "source": [
    "На графике мы видим следующую картину: при увеличении порога снижается как количество пользователей, так и количество айтемов. В целом, это логично что увеличивая порог мы отбрасываем и айтемы и пользователей, оставляя только тех, кто имеет наиболее высокую частоту взаимодействия."
   ]
  },
  {
   "cell_type": "markdown",
   "id": "d388eb41-094d-4317-9ae6-391a5b014a92",
   "metadata": {
    "id": "d388eb41-094d-4317-9ae6-391a5b014a92"
   },
   "source": [
    "**Задание №7. EASE**\n",
    "\n",
    "Реализуйте EASE, постройте рекомендации для юзеров. Сравните все имплементированные ранее метрики качества с `TopPopular` для некоторого набора k. "
   ]
  },
  {
   "cell_type": "markdown",
   "id": "acccc267-038b-4029-ba63-38e875f87a67",
   "metadata": {
    "id": "acccc267-038b-4029-ba63-38e875f87a67"
   },
   "source": [
    "Реализацию можно взять из семинара. Можно реализовать по статье https://arxiv.org/pdf/1905.03375.pdf. Можно взять и адаптировать из RecBole https://github.com/RUCAIBox/RecBole."
   ]
  },
  {
   "cell_type": "code",
   "execution_count": null,
   "id": "04e19a99-8797-45e7-ad48-44312f0839d4",
   "metadata": {
    "colab": {
     "base_uri": "https://localhost:8080/"
    },
    "id": "04e19a99-8797-45e7-ad48-44312f0839d4",
    "outputId": "83899393-f38f-4116-9431-8aaa00e09b29"
   },
   "outputs": [
    {
     "name": "stdout",
     "output_type": "stream",
     "text": [
      "CPU times: user 5.12 s, sys: 555 ms, total: 5.67 s\n",
      "Wall time: 3.24 s\n"
     ]
    }
   ],
   "source": [
    "%%time\n",
    "\n",
    "# Обучаем конечную модель\n",
    "# Мы взяли реализацию из RecBole\n",
    "#\n",
    "def fit_ease(X, reg_weight=1000):\n",
    "\n",
    "    # your code here\n",
    "\n",
    "    return B\n",
    "\n",
    "w = fit_ease(matrix)"
   ]
  },
  {
   "cell_type": "markdown",
   "id": "70d0d9db",
   "metadata": {},
   "source": [
    "Далее, вам надо реализовать функцию получения предсказаний. У вас есть обученная матрица весов, которую можно использовать для получения предсказаний. Для этого нужно построить вектор интеракций пользователя и умножить его на матрицу весов."
   ]
  },
  {
   "cell_type": "code",
   "execution_count": null,
   "id": "ceabfecc-2a1d-4808-998e-404ed6b57592",
   "metadata": {
    "colab": {
     "base_uri": "https://localhost:8080/",
     "height": 833
    },
    "id": "ceabfecc-2a1d-4808-998e-404ed6b57592",
    "outputId": "67abc3e8-3430-477e-c030-01e55bc15448"
   },
   "outputs": [
    {
     "data": {
      "text/html": [
       "\n",
       "  <div id=\"df-635a2d62-af6d-482d-b54f-c809d21baded\" class=\"colab-df-container\">\n",
       "    <div>\n",
       "<style scoped>\n",
       "    .dataframe tbody tr th:only-of-type {\n",
       "        vertical-align: middle;\n",
       "    }\n",
       "\n",
       "    .dataframe tbody tr th {\n",
       "        vertical-align: top;\n",
       "    }\n",
       "\n",
       "    .dataframe thead th {\n",
       "        text-align: right;\n",
       "    }\n",
       "</style>\n",
       "<table border=\"1\" class=\"dataframe\">\n",
       "  <thead>\n",
       "    <tr style=\"text-align: right;\">\n",
       "      <th></th>\n",
       "      <th>user_id</th>\n",
       "      <th>train_interactions</th>\n",
       "      <th>test_interactions</th>\n",
       "      <th>random_recs</th>\n",
       "      <th>toppopular_recs</th>\n",
       "      <th>temp</th>\n",
       "      <th>inter_len</th>\n",
       "      <th>ease_preds</th>\n",
       "    </tr>\n",
       "  </thead>\n",
       "  <tbody>\n",
       "    <tr>\n",
       "      <th>0</th>\n",
       "      <td>179</td>\n",
       "      <td>[(14, 75), (13865, 95), (10440, 95), (9728, 97)]</td>\n",
       "      <td>[(15297, 157)]</td>\n",
       "      <td>[7409, 3306, 14709]</td>\n",
       "      <td>[10440, 9728, 15297, 13865, 3734, 4151, 2657, ...</td>\n",
       "      <td>[10440, 9728, 15297, 13865, 3734, 4151, 2657, ...</td>\n",
       "      <td>1</td>\n",
       "      <td>[15297, 9728, 10440, 13865, 3734, 9996, 2657, ...</td>\n",
       "    </tr>\n",
       "    <tr>\n",
       "      <th>1</th>\n",
       "      <td>304</td>\n",
       "      <td>[(11985, 71), (2301, 71), (175, 75), (4457, 99...</td>\n",
       "      <td>[(6054, 161), (4073, 161)]</td>\n",
       "      <td>[7409, 3306, 14709]</td>\n",
       "      <td>[10440, 9728, 15297, 13865, 3734, 4151, 2657, ...</td>\n",
       "      <td>[10440, 9728, 15297, 13865, 3734, 4151, 2657, ...</td>\n",
       "      <td>2</td>\n",
       "      <td>[13865, 10440, 7829, 9728, 3734, 7793, 12995, ...</td>\n",
       "    </tr>\n",
       "    <tr>\n",
       "      <th>2</th>\n",
       "      <td>415</td>\n",
       "      <td>[(3734, 105), (7571, 108), (8442, 110), (4457,...</td>\n",
       "      <td>[(12527, 154), (5330, 162), (16152, 162), (103...</td>\n",
       "      <td>[7409, 3306, 14709]</td>\n",
       "      <td>[10440, 9728, 15297, 13865, 3734, 4151, 2657, ...</td>\n",
       "      <td>[10440, 9728, 15297, 13865, 3734, 4151, 2657, ...</td>\n",
       "      <td>4</td>\n",
       "      <td>[9728, 10440, 3734, 4880, 15297, 13865, 4151, ...</td>\n",
       "    </tr>\n",
       "    <tr>\n",
       "      <th>3</th>\n",
       "      <td>425</td>\n",
       "      <td>[(10440, 142)]</td>\n",
       "      <td>[(12360, 156)]</td>\n",
       "      <td>[7409, 3306, 14709]</td>\n",
       "      <td>[10440, 9728, 15297, 13865, 3734, 4151, 2657, ...</td>\n",
       "      <td>[10440, 9728, 15297, 13865, 3734, 4151, 2657, ...</td>\n",
       "      <td>1</td>\n",
       "      <td>[15297, 13865, 9728, 2657, 4151, 9996, 142, 12...</td>\n",
       "    </tr>\n",
       "    <tr>\n",
       "      <th>4</th>\n",
       "      <td>514</td>\n",
       "      <td>[(5807, 113), (13865, 127)]</td>\n",
       "      <td>[(7728, 156), (1453, 158)]</td>\n",
       "      <td>[7409, 3306, 14709]</td>\n",
       "      <td>[10440, 9728, 15297, 13865, 3734, 4151, 2657, ...</td>\n",
       "      <td>[10440, 9728, 15297, 13865, 3734, 4151, 2657, ...</td>\n",
       "      <td>2</td>\n",
       "      <td>[9728, 10440, 3734, 15297, 12995, 8636, 4495, ...</td>\n",
       "    </tr>\n",
       "  </tbody>\n",
       "</table>\n",
       "</div>\n",
       "    <div class=\"colab-df-buttons\">\n",
       "\n",
       "  <div class=\"colab-df-container\">\n",
       "    <button class=\"colab-df-convert\" onclick=\"convertToInteractive('df-635a2d62-af6d-482d-b54f-c809d21baded')\"\n",
       "            title=\"Convert this dataframe to an interactive table.\"\n",
       "            style=\"display:none;\">\n",
       "\n",
       "  <svg xmlns=\"http://www.w3.org/2000/svg\" height=\"24px\" viewBox=\"0 -960 960 960\">\n",
       "    <path d=\"M120-120v-720h720v720H120Zm60-500h600v-160H180v160Zm220 220h160v-160H400v160Zm0 220h160v-160H400v160ZM180-400h160v-160H180v160Zm440 0h160v-160H620v160ZM180-180h160v-160H180v160Zm440 0h160v-160H620v160Z\"/>\n",
       "  </svg>\n",
       "    </button>\n",
       "\n",
       "  <style>\n",
       "    .colab-df-container {\n",
       "      display:flex;\n",
       "      gap: 12px;\n",
       "    }\n",
       "\n",
       "    .colab-df-convert {\n",
       "      background-color: #E8F0FE;\n",
       "      border: none;\n",
       "      border-radius: 50%;\n",
       "      cursor: pointer;\n",
       "      display: none;\n",
       "      fill: #1967D2;\n",
       "      height: 32px;\n",
       "      padding: 0 0 0 0;\n",
       "      width: 32px;\n",
       "    }\n",
       "\n",
       "    .colab-df-convert:hover {\n",
       "      background-color: #E2EBFA;\n",
       "      box-shadow: 0px 1px 2px rgba(60, 64, 67, 0.3), 0px 1px 3px 1px rgba(60, 64, 67, 0.15);\n",
       "      fill: #174EA6;\n",
       "    }\n",
       "\n",
       "    .colab-df-buttons div {\n",
       "      margin-bottom: 4px;\n",
       "    }\n",
       "\n",
       "    [theme=dark] .colab-df-convert {\n",
       "      background-color: #3B4455;\n",
       "      fill: #D2E3FC;\n",
       "    }\n",
       "\n",
       "    [theme=dark] .colab-df-convert:hover {\n",
       "      background-color: #434B5C;\n",
       "      box-shadow: 0px 1px 3px 1px rgba(0, 0, 0, 0.15);\n",
       "      filter: drop-shadow(0px 1px 2px rgba(0, 0, 0, 0.3));\n",
       "      fill: #FFFFFF;\n",
       "    }\n",
       "  </style>\n",
       "\n",
       "    <script>\n",
       "      const buttonEl =\n",
       "        document.querySelector('#df-635a2d62-af6d-482d-b54f-c809d21baded button.colab-df-convert');\n",
       "      buttonEl.style.display =\n",
       "        google.colab.kernel.accessAllowed ? 'block' : 'none';\n",
       "\n",
       "      async function convertToInteractive(key) {\n",
       "        const element = document.querySelector('#df-635a2d62-af6d-482d-b54f-c809d21baded');\n",
       "        const dataTable =\n",
       "          await google.colab.kernel.invokeFunction('convertToInteractive',\n",
       "                                                    [key], {});\n",
       "        if (!dataTable) return;\n",
       "\n",
       "        const docLinkHtml = 'Like what you see? Visit the ' +\n",
       "          '<a target=\"_blank\" href=https://colab.research.google.com/notebooks/data_table.ipynb>data table notebook</a>'\n",
       "          + ' to learn more about interactive tables.';\n",
       "        element.innerHTML = '';\n",
       "        dataTable['output_type'] = 'display_data';\n",
       "        await google.colab.output.renderOutput(dataTable, element);\n",
       "        const docLink = document.createElement('div');\n",
       "        docLink.innerHTML = docLinkHtml;\n",
       "        element.appendChild(docLink);\n",
       "      }\n",
       "    </script>\n",
       "  </div>\n",
       "\n",
       "\n",
       "<div id=\"df-e89c62b3-7750-46bd-9c90-f8d9dd055319\">\n",
       "  <button class=\"colab-df-quickchart\" onclick=\"quickchart('df-e89c62b3-7750-46bd-9c90-f8d9dd055319')\"\n",
       "            title=\"Suggest charts\"\n",
       "            style=\"display:none;\">\n",
       "\n",
       "<svg xmlns=\"http://www.w3.org/2000/svg\" height=\"24px\"viewBox=\"0 0 24 24\"\n",
       "     width=\"24px\">\n",
       "    <g>\n",
       "        <path d=\"M19 3H5c-1.1 0-2 .9-2 2v14c0 1.1.9 2 2 2h14c1.1 0 2-.9 2-2V5c0-1.1-.9-2-2-2zM9 17H7v-7h2v7zm4 0h-2V7h2v10zm4 0h-2v-4h2v4z\"/>\n",
       "    </g>\n",
       "</svg>\n",
       "  </button>\n",
       "\n",
       "<style>\n",
       "  .colab-df-quickchart {\n",
       "      --bg-color: #E8F0FE;\n",
       "      --fill-color: #1967D2;\n",
       "      --hover-bg-color: #E2EBFA;\n",
       "      --hover-fill-color: #174EA6;\n",
       "      --disabled-fill-color: #AAA;\n",
       "      --disabled-bg-color: #DDD;\n",
       "  }\n",
       "\n",
       "  [theme=dark] .colab-df-quickchart {\n",
       "      --bg-color: #3B4455;\n",
       "      --fill-color: #D2E3FC;\n",
       "      --hover-bg-color: #434B5C;\n",
       "      --hover-fill-color: #FFFFFF;\n",
       "      --disabled-bg-color: #3B4455;\n",
       "      --disabled-fill-color: #666;\n",
       "  }\n",
       "\n",
       "  .colab-df-quickchart {\n",
       "    background-color: var(--bg-color);\n",
       "    border: none;\n",
       "    border-radius: 50%;\n",
       "    cursor: pointer;\n",
       "    display: none;\n",
       "    fill: var(--fill-color);\n",
       "    height: 32px;\n",
       "    padding: 0;\n",
       "    width: 32px;\n",
       "  }\n",
       "\n",
       "  .colab-df-quickchart:hover {\n",
       "    background-color: var(--hover-bg-color);\n",
       "    box-shadow: 0 1px 2px rgba(60, 64, 67, 0.3), 0 1px 3px 1px rgba(60, 64, 67, 0.15);\n",
       "    fill: var(--button-hover-fill-color);\n",
       "  }\n",
       "\n",
       "  .colab-df-quickchart-complete:disabled,\n",
       "  .colab-df-quickchart-complete:disabled:hover {\n",
       "    background-color: var(--disabled-bg-color);\n",
       "    fill: var(--disabled-fill-color);\n",
       "    box-shadow: none;\n",
       "  }\n",
       "\n",
       "  .colab-df-spinner {\n",
       "    border: 2px solid var(--fill-color);\n",
       "    border-color: transparent;\n",
       "    border-bottom-color: var(--fill-color);\n",
       "    animation:\n",
       "      spin 1s steps(1) infinite;\n",
       "  }\n",
       "\n",
       "  @keyframes spin {\n",
       "    0% {\n",
       "      border-color: transparent;\n",
       "      border-bottom-color: var(--fill-color);\n",
       "      border-left-color: var(--fill-color);\n",
       "    }\n",
       "    20% {\n",
       "      border-color: transparent;\n",
       "      border-left-color: var(--fill-color);\n",
       "      border-top-color: var(--fill-color);\n",
       "    }\n",
       "    30% {\n",
       "      border-color: transparent;\n",
       "      border-left-color: var(--fill-color);\n",
       "      border-top-color: var(--fill-color);\n",
       "      border-right-color: var(--fill-color);\n",
       "    }\n",
       "    40% {\n",
       "      border-color: transparent;\n",
       "      border-right-color: var(--fill-color);\n",
       "      border-top-color: var(--fill-color);\n",
       "    }\n",
       "    60% {\n",
       "      border-color: transparent;\n",
       "      border-right-color: var(--fill-color);\n",
       "    }\n",
       "    80% {\n",
       "      border-color: transparent;\n",
       "      border-right-color: var(--fill-color);\n",
       "      border-bottom-color: var(--fill-color);\n",
       "    }\n",
       "    90% {\n",
       "      border-color: transparent;\n",
       "      border-bottom-color: var(--fill-color);\n",
       "    }\n",
       "  }\n",
       "</style>\n",
       "\n",
       "  <script>\n",
       "    async function quickchart(key) {\n",
       "      const quickchartButtonEl =\n",
       "        document.querySelector('#' + key + ' button');\n",
       "      quickchartButtonEl.disabled = true;  // To prevent multiple clicks.\n",
       "      quickchartButtonEl.classList.add('colab-df-spinner');\n",
       "      try {\n",
       "        const charts = await google.colab.kernel.invokeFunction(\n",
       "            'suggestCharts', [key], {});\n",
       "      } catch (error) {\n",
       "        console.error('Error during call to suggestCharts:', error);\n",
       "      }\n",
       "      quickchartButtonEl.classList.remove('colab-df-spinner');\n",
       "      quickchartButtonEl.classList.add('colab-df-quickchart-complete');\n",
       "    }\n",
       "    (() => {\n",
       "      let quickchartButtonEl =\n",
       "        document.querySelector('#df-e89c62b3-7750-46bd-9c90-f8d9dd055319 button');\n",
       "      quickchartButtonEl.style.display =\n",
       "        google.colab.kernel.accessAllowed ? 'block' : 'none';\n",
       "    })();\n",
       "  </script>\n",
       "</div>\n",
       "    </div>\n",
       "  </div>\n"
      ],
      "text/plain": [
       "   user_id                                 train_interactions  \\\n",
       "0      179   [(14, 75), (13865, 95), (10440, 95), (9728, 97)]   \n",
       "1      304  [(11985, 71), (2301, 71), (175, 75), (4457, 99...   \n",
       "2      415  [(3734, 105), (7571, 108), (8442, 110), (4457,...   \n",
       "3      425                                     [(10440, 142)]   \n",
       "4      514                        [(5807, 113), (13865, 127)]   \n",
       "\n",
       "                                   test_interactions          random_recs  \\\n",
       "0                                     [(15297, 157)]  [7409, 3306, 14709]   \n",
       "1                         [(6054, 161), (4073, 161)]  [7409, 3306, 14709]   \n",
       "2  [(12527, 154), (5330, 162), (16152, 162), (103...  [7409, 3306, 14709]   \n",
       "3                                     [(12360, 156)]  [7409, 3306, 14709]   \n",
       "4                         [(7728, 156), (1453, 158)]  [7409, 3306, 14709]   \n",
       "\n",
       "                                     toppopular_recs  \\\n",
       "0  [10440, 9728, 15297, 13865, 3734, 4151, 2657, ...   \n",
       "1  [10440, 9728, 15297, 13865, 3734, 4151, 2657, ...   \n",
       "2  [10440, 9728, 15297, 13865, 3734, 4151, 2657, ...   \n",
       "3  [10440, 9728, 15297, 13865, 3734, 4151, 2657, ...   \n",
       "4  [10440, 9728, 15297, 13865, 3734, 4151, 2657, ...   \n",
       "\n",
       "                                                temp  inter_len  \\\n",
       "0  [10440, 9728, 15297, 13865, 3734, 4151, 2657, ...          1   \n",
       "1  [10440, 9728, 15297, 13865, 3734, 4151, 2657, ...          2   \n",
       "2  [10440, 9728, 15297, 13865, 3734, 4151, 2657, ...          4   \n",
       "3  [10440, 9728, 15297, 13865, 3734, 4151, 2657, ...          1   \n",
       "4  [10440, 9728, 15297, 13865, 3734, 4151, 2657, ...          2   \n",
       "\n",
       "                                          ease_preds  \n",
       "0  [15297, 9728, 10440, 13865, 3734, 9996, 2657, ...  \n",
       "1  [13865, 10440, 7829, 9728, 3734, 7793, 12995, ...  \n",
       "2  [9728, 10440, 3734, 4880, 15297, 13865, 4151, ...  \n",
       "3  [15297, 13865, 9728, 2657, 4151, 9996, 142, 12...  \n",
       "4  [9728, 10440, 3734, 15297, 12995, 8636, 4495, ...  "
      ]
     },
     "execution_count": 108,
     "metadata": {},
     "output_type": "execute_result"
    }
   ],
   "source": [
    "def get_preds(x, item2id, id2item):\n",
    "\n",
    "    #your code here\n",
    "\n",
    "    return decoded\n",
    "\n",
    "\n",
    "joined['ease_preds'] = joined.train_interactions.apply(lambda x: get_preds(x, item2id, id2item))\n",
    "joined.head()"
   ]
  },
  {
   "cell_type": "code",
   "execution_count": null,
   "id": "979f3051-5348-4c1e-a21c-033d5cd3d6cd",
   "metadata": {
    "id": "979f3051-5348-4c1e-a21c-033d5cd3d6cd"
   },
   "outputs": [],
   "source": [
    "# your code here"
   ]
  },
  {
   "cell_type": "markdown",
   "id": "24552dc3-4d5d-4e9c-bc16-691a3537e7d9",
   "metadata": {
    "id": "24552dc3-4d5d-4e9c-bc16-691a3537e7d9"
   },
   "source": [
    "Сделайте выводы — какой алгоритм работает лучше?\n",
    "\n",
    "**Ответ:**"
   ]
  },
  {
   "cell_type": "markdown",
   "id": "9e2ecca7-92c2-4b1f-b5d3-4f9dd18a4632",
   "metadata": {
    "id": "9e2ecca7-92c2-4b1f-b5d3-4f9dd18a4632"
   },
   "source": [
    "**Задание №8. Тюнинг**\n",
    "\n",
    "Переберите различные значения гиперпараметра коэффициента регуляризации у EASE и постройте графики, как в задании №6. Постарайтесь \"затюнить\" EASE как можно лучше. Возьмите разумное число гиперпараметров - хотя бы штук 20 по логарифмической сетке, либо используйте более хитрые алгоритмы оптимизации. "
   ]
  },
  {
   "cell_type": "code",
   "execution_count": null,
   "id": "e0837eb6-e81f-4543-b848-fdeacb7169ee",
   "metadata": {
    "id": "e0837eb6-e81f-4543-b848-fdeacb7169ee"
   },
   "outputs": [],
   "source": [
    "#your code here"
   ]
  },
  {
   "cell_type": "markdown",
   "id": "891c9613-3f51-4186-bfa1-566d82d0628f",
   "metadata": {
    "id": "891c9613-3f51-4186-bfa1-566d82d0628f"
   },
   "source": [
    "Ответьте на следующие вопросы:\n",
    "\n",
    "8.1 Какое значение гиперпараметра является наилучшим? \n",
    "\n",
    "\n",
    "**Ответ:**\n",
    "\n",
    "8.2 Что еще интересного вы можете сказать по графикам? Может быть, что-то свзяанное с распределением параметров, влиянием на отдельные метрики, скоростью тюнинга?\n",
    "\n",
    "**Ответ:**"
   ]
  },
  {
   "cell_type": "markdown",
   "id": "e38fcce4-b192-4faa-8ddf-8e8791f2c28b",
   "metadata": {
    "id": "e38fcce4-b192-4faa-8ddf-8e8791f2c28b"
   },
   "source": [
    "**Задание №9. EASE и topk**\n",
    "\n",
    "В лекции №2 говорилось, что качество у EASE растет с ослаблением фильтра на число айтемов. В этом задании постройте кривые метрик качества MAP/MRR/HR в зависимости от topk (например, от 1 до 100 с некоторым шагом), где кривая параметризована минимальным требуемым значением встречаемости user/item (из задания №6). Опишите свои выводы."
   ]
  },
  {
   "cell_type": "markdown",
   "id": "ca0be51b-5055-407d-8916-96d38cdabdb7",
   "metadata": {
    "id": "ca0be51b-5055-407d-8916-96d38cdabdb7"
   },
   "source": [
    "Важно: в этом задании линии могут быть мало различимыми, поэтому ваша задача для каждой метрики найти нужный масштаб на каких-то конкретных topk, чтобы линии стали визуально отличимы. "
   ]
  },
  {
   "cell_type": "markdown",
   "id": "fec3b4b8-e2e0-4722-9f33-08922afe9ac8",
   "metadata": {
    "id": "fec3b4b8-e2e0-4722-9f33-08922afe9ac8"
   },
   "source": [
    "Что вы можете сказать на основе полученных графиков? Соответствуют ли они вашим ожиданиям?\n",
    "\n",
    "**Ответ:**"
   ]
  },
  {
   "cell_type": "markdown",
   "id": "3448c27a-aadb-4c6a-b17a-84bd58761e67",
   "metadata": {
    "id": "3448c27a-aadb-4c6a-b17a-84bd58761e67"
   },
   "source": [
    "**Задание №10. Интерпретируемые рекомендации**\n",
    "\n",
    "Используйте выученную матрицу весов для item2item рекомендаций. Приведите 10 примеров топ-5 рекомендаций от EASE к сэмплируемым айтемам. Используйте названия фильмов вместо id при выводе рекомендаций. "
   ]
  },
  {
   "cell_type": "code",
   "execution_count": null,
   "id": "83946038-22e8-461f-8385-dd308a284825",
   "metadata": {
    "id": "83946038-22e8-461f-8385-dd308a284825"
   },
   "outputs": [],
   "source": [
    "# your code here"
   ]
  },
  {
   "cell_type": "markdown",
   "id": "8fed8a63-c95d-458b-b437-2856927c85bb",
   "metadata": {
    "id": "8fed8a63-c95d-458b-b437-2856927c85bb"
   },
   "source": [
    "Хорошие ли получились рекомендации? Почему? Есть ли хорошие примеры? Есть ли плохие? Почему бывают плохие примеры?\n",
    "\n",
    "**Ответ:**"
   ]
  }
 ],
 "metadata": {
  "colab": {
   "provenance": []
  },
  "kernelspec": {
   "display_name": "venv",
   "language": "python",
   "name": "python3"
  },
  "language_info": {
   "codemirror_mode": {
    "name": "ipython",
    "version": 3
   },
   "file_extension": ".py",
   "mimetype": "text/x-python",
   "name": "python",
   "nbconvert_exporter": "python",
   "pygments_lexer": "ipython3",
   "version": "3.11.5"
  }
 },
 "nbformat": 4,
 "nbformat_minor": 5
}
