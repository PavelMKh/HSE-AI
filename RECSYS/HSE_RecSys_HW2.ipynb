{
  "cells": [
    {
      "cell_type": "markdown",
      "id": "93831896-683d-4946-8cae-7aff56608a65",
      "metadata": {
        "id": "93831896-683d-4946-8cae-7aff56608a65"
      },
      "source": [
        "## ДЗ №2. Матричные факторизации"
      ]
    },
    {
      "cell_type": "markdown",
      "id": "03b424ec-3791-4113-a672-25ef7cfa704d",
      "metadata": {
        "id": "03b424ec-3791-4113-a672-25ef7cfa704d"
      },
      "source": [
        "#### В этой домашке вам предстоит реализовать некоторые базовые модели матричной факторизации\n",
        "\n",
        "#### Дата выдачи: 17.02.25\n",
        "\n",
        "#### Мягкий дедлайн: 02.03.25 23:59 MSK\n",
        "\n",
        "#### Жесткий дедлайн: 09.03.25 23:59 MSK"
      ]
    },
    {
      "cell_type": "markdown",
      "id": "d8f4b315-75b8-4225-953c-5510c584ff2b",
      "metadata": {
        "id": "d8f4b315-75b8-4225-953c-5510c584ff2b"
      },
      "source": [
        "В этом задании мы будем работать с классическим для рекоендательных систем датасетом [MovieLens 1M](https://grouplens.org/datasets/movielens/1m/). Датасет содержит рейтинги оценки для 4000 фильмов от 6000 пользователей. Более подробное описание можете найти на странице с датасетом и в README файле"
      ]
    },
    {
      "cell_type": "code",
      "execution_count": 1,
      "id": "f5a85f84-4854-4249-963d-143d08bb7e36",
      "metadata": {
        "id": "f5a85f84-4854-4249-963d-143d08bb7e36",
        "colab": {
          "base_uri": "https://localhost:8080/"
        },
        "outputId": "d6693c7c-7b8f-4dff-f3cf-0db7a327da34"
      },
      "outputs": [
        {
          "output_type": "stream",
          "name": "stdout",
          "text": [
            "--2025-02-18 09:54:34--  https://files.grouplens.org/datasets/movielens/ml-1m.zip\n",
            "Resolving files.grouplens.org (files.grouplens.org)... 128.101.65.152\n",
            "Connecting to files.grouplens.org (files.grouplens.org)|128.101.65.152|:443... connected.\n",
            "HTTP request sent, awaiting response... 200 OK\n",
            "Length: 5917549 (5.6M) [application/zip]\n",
            "Saving to: ‘ml-1m.zip’\n",
            "\n",
            "ml-1m.zip           100%[===================>]   5.64M  3.28MB/s    in 1.7s    \n",
            "\n",
            "2025-02-18 09:54:37 (3.28 MB/s) - ‘ml-1m.zip’ saved [5917549/5917549]\n",
            "\n",
            "Archive:  ml-1m.zip\n",
            "   creating: ml-1m/\n",
            "  inflating: ml-1m/movies.dat        \n",
            "  inflating: ml-1m/ratings.dat       \n",
            "  inflating: ml-1m/README            \n",
            "  inflating: ml-1m/users.dat         \n",
            "SUMMARY\n",
            "================================================================================\n",
            "\n",
            "These files contain 1,000,209 anonymous ratings of approximately 3,900 movies \n",
            "made by 6,040 MovieLens users who joined MovieLens in 2000.\n",
            "\n",
            "USAGE LICENSE\n",
            "================================================================================\n",
            "\n",
            "Neither the University of Minnesota nor any of the researchers\n",
            "involved can guarantee the correctness of the data, its suitability\n",
            "for any particular purpose, or the validity of results based on the\n",
            "use of the data set.  The data set may be used for any research\n",
            "purposes under the following conditions:\n",
            "\n",
            "     * The user may not state or imply any endorsement from the\n",
            "       University of Minnesota or the GroupLens Research Group.\n",
            "\n",
            "     * The user must acknowledge the use of the data set in\n",
            "       publications resulting from the use of the data set\n",
            "       (see below for citation information).\n",
            "\n",
            "     * The user may not redistribute the data without separate\n",
            "       permission.\n",
            "\n",
            "     * The user may not use this information for any commercial or\n",
            "       revenue-bearing purposes without first obtaining permission\n",
            "       from a faculty member of the GroupLens Research Project at the\n",
            "       University of Minnesota.\n",
            "\n",
            "If you have any further questions or comments, please contact GroupLens\n",
            "<grouplens-info@cs.umn.edu>. \n",
            "\n",
            "CITATION\n",
            "================================================================================\n",
            "\n",
            "To acknowledge use of the dataset in publications, please cite the following\n",
            "paper:\n",
            "\n",
            "F. Maxwell Harper and Joseph A. Konstan. 2015. The MovieLens Datasets: History\n",
            "and Context. ACM Transactions on Interactive Intelligent Systems (TiiS) 5, 4,\n",
            "Article 19 (December 2015), 19 pages. DOI=http://dx.doi.org/10.1145/2827872\n",
            "\n",
            "\n",
            "ACKNOWLEDGEMENTS\n",
            "================================================================================\n",
            "\n",
            "Thanks to Shyong Lam and Jon Herlocker for cleaning up and generating the data\n",
            "set.\n",
            "\n",
            "FURTHER INFORMATION ABOUT THE GROUPLENS RESEARCH PROJECT\n",
            "================================================================================\n",
            "\n",
            "The GroupLens Research Project is a research group in the Department of \n",
            "Computer Science and Engineering at the University of Minnesota. Members of \n",
            "the GroupLens Research Project are involved in many research projects related \n",
            "to the fields of information filtering, collaborative filtering, and \n",
            "recommender systems. The project is lead by professors John Riedl and Joseph \n",
            "Konstan. The project began to explore automated collaborative filtering in \n",
            "1992, but is most well known for its world wide trial of an automated \n",
            "collaborative filtering system for Usenet news in 1996. Since then the project \n",
            "has expanded its scope to research overall information filtering solutions, \n",
            "integrating in content-based methods as well as improving current collaborative \n",
            "filtering technology.\n",
            "\n",
            "Further information on the GroupLens Research project, including research \n",
            "publications, can be found at the following web site:\n",
            "        \n",
            "        http://www.grouplens.org/\n",
            "\n",
            "GroupLens Research currently operates a movie recommender based on \n",
            "collaborative filtering:\n",
            "\n",
            "        http://www.movielens.org/\n",
            "\n",
            "RATINGS FILE DESCRIPTION\n",
            "================================================================================\n",
            "\n",
            "All ratings are contained in the file \"ratings.dat\" and are in the\n",
            "following format:\n",
            "\n",
            "UserID::MovieID::Rating::Timestamp\n",
            "\n",
            "- UserIDs range between 1 and 6040 \n",
            "- MovieIDs range between 1 and 3952\n",
            "- Ratings are made on a 5-star scale (whole-star ratings only)\n",
            "- Timestamp is represented in seconds since the epoch as returned by time(2)\n",
            "- Each user has at least 20 ratings\n",
            "\n",
            "USERS FILE DESCRIPTION\n",
            "================================================================================\n",
            "\n",
            "User information is in the file \"users.dat\" and is in the following\n",
            "format:\n",
            "\n",
            "UserID::Gender::Age::Occupation::Zip-code\n",
            "\n",
            "All demographic information is provided voluntarily by the users and is\n",
            "not checked for accuracy.  Only users who have provided some demographic\n",
            "information are included in this data set.\n",
            "\n",
            "- Gender is denoted by a \"M\" for male and \"F\" for female\n",
            "- Age is chosen from the following ranges:\n",
            "\n",
            "\t*  1:  \"Under 18\"\n",
            "\t* 18:  \"18-24\"\n",
            "\t* 25:  \"25-34\"\n",
            "\t* 35:  \"35-44\"\n",
            "\t* 45:  \"45-49\"\n",
            "\t* 50:  \"50-55\"\n",
            "\t* 56:  \"56+\"\n",
            "\n",
            "- Occupation is chosen from the following choices:\n",
            "\n",
            "\t*  0:  \"other\" or not specified\n",
            "\t*  1:  \"academic/educator\"\n",
            "\t*  2:  \"artist\"\n",
            "\t*  3:  \"clerical/admin\"\n",
            "\t*  4:  \"college/grad student\"\n",
            "\t*  5:  \"customer service\"\n",
            "\t*  6:  \"doctor/health care\"\n",
            "\t*  7:  \"executive/managerial\"\n",
            "\t*  8:  \"farmer\"\n",
            "\t*  9:  \"homemaker\"\n",
            "\t* 10:  \"K-12 student\"\n",
            "\t* 11:  \"lawyer\"\n",
            "\t* 12:  \"programmer\"\n",
            "\t* 13:  \"retired\"\n",
            "\t* 14:  \"sales/marketing\"\n",
            "\t* 15:  \"scientist\"\n",
            "\t* 16:  \"self-employed\"\n",
            "\t* 17:  \"technician/engineer\"\n",
            "\t* 18:  \"tradesman/craftsman\"\n",
            "\t* 19:  \"unemployed\"\n",
            "\t* 20:  \"writer\"\n",
            "\n",
            "MOVIES FILE DESCRIPTION\n",
            "================================================================================\n",
            "\n",
            "Movie information is in the file \"movies.dat\" and is in the following\n",
            "format:\n",
            "\n",
            "MovieID::Title::Genres\n",
            "\n",
            "- Titles are identical to titles provided by the IMDB (including\n",
            "year of release)\n",
            "- Genres are pipe-separated and are selected from the following genres:\n",
            "\n",
            "\t* Action\n",
            "\t* Adventure\n",
            "\t* Animation\n",
            "\t* Children's\n",
            "\t* Comedy\n",
            "\t* Crime\n",
            "\t* Documentary\n",
            "\t* Drama\n",
            "\t* Fantasy\n",
            "\t* Film-Noir\n",
            "\t* Horror\n",
            "\t* Musical\n",
            "\t* Mystery\n",
            "\t* Romance\n",
            "\t* Sci-Fi\n",
            "\t* Thriller\n",
            "\t* War\n",
            "\t* Western\n",
            "\n",
            "- Some MovieIDs do not correspond to a movie due to accidental duplicate\n",
            "entries and/or test entries\n",
            "- Movies are mostly entered by hand, so errors and inconsistencies may exist\n"
          ]
        }
      ],
      "source": [
        "!wget https://files.grouplens.org/datasets/movielens/ml-1m.zip\n",
        "!unzip ml-1m.zip\n",
        "!cat ml-1m/README"
      ]
    },
    {
      "cell_type": "code",
      "execution_count": 2,
      "id": "669137ca-f0f9-48d4-ae04-e42a4b0f8d14",
      "metadata": {
        "id": "669137ca-f0f9-48d4-ae04-e42a4b0f8d14"
      },
      "outputs": [],
      "source": [
        "import pandas as pd\n",
        "import numpy as np\n",
        "from typing import Union"
      ]
    },
    {
      "cell_type": "code",
      "execution_count": 3,
      "id": "ed65b0ae-ce2d-437a-9739-e7981011089f",
      "metadata": {
        "id": "ed65b0ae-ce2d-437a-9739-e7981011089f",
        "colab": {
          "base_uri": "https://localhost:8080/",
          "height": 204
        },
        "outputId": "8568385f-7c78-452f-b0d6-147e04cb48ab"
      },
      "outputs": [
        {
          "output_type": "execute_result",
          "data": {
            "text/plain": [
              "   user_id  item_id  rating            datetime\n",
              "0        1     1193       5 2000-12-31 22:12:40\n",
              "1        1      661       3 2000-12-31 22:35:09\n",
              "2        1      914       3 2000-12-31 22:32:48\n",
              "3        1     3408       4 2000-12-31 22:04:35\n",
              "4        1     2355       5 2001-01-06 23:38:11"
            ],
            "text/html": [
              "\n",
              "  <div id=\"df-3e1de03b-c960-4b47-a87d-f73a63a985af\" class=\"colab-df-container\">\n",
              "    <div>\n",
              "<style scoped>\n",
              "    .dataframe tbody tr th:only-of-type {\n",
              "        vertical-align: middle;\n",
              "    }\n",
              "\n",
              "    .dataframe tbody tr th {\n",
              "        vertical-align: top;\n",
              "    }\n",
              "\n",
              "    .dataframe thead th {\n",
              "        text-align: right;\n",
              "    }\n",
              "</style>\n",
              "<table border=\"1\" class=\"dataframe\">\n",
              "  <thead>\n",
              "    <tr style=\"text-align: right;\">\n",
              "      <th></th>\n",
              "      <th>user_id</th>\n",
              "      <th>item_id</th>\n",
              "      <th>rating</th>\n",
              "      <th>datetime</th>\n",
              "    </tr>\n",
              "  </thead>\n",
              "  <tbody>\n",
              "    <tr>\n",
              "      <th>0</th>\n",
              "      <td>1</td>\n",
              "      <td>1193</td>\n",
              "      <td>5</td>\n",
              "      <td>2000-12-31 22:12:40</td>\n",
              "    </tr>\n",
              "    <tr>\n",
              "      <th>1</th>\n",
              "      <td>1</td>\n",
              "      <td>661</td>\n",
              "      <td>3</td>\n",
              "      <td>2000-12-31 22:35:09</td>\n",
              "    </tr>\n",
              "    <tr>\n",
              "      <th>2</th>\n",
              "      <td>1</td>\n",
              "      <td>914</td>\n",
              "      <td>3</td>\n",
              "      <td>2000-12-31 22:32:48</td>\n",
              "    </tr>\n",
              "    <tr>\n",
              "      <th>3</th>\n",
              "      <td>1</td>\n",
              "      <td>3408</td>\n",
              "      <td>4</td>\n",
              "      <td>2000-12-31 22:04:35</td>\n",
              "    </tr>\n",
              "    <tr>\n",
              "      <th>4</th>\n",
              "      <td>1</td>\n",
              "      <td>2355</td>\n",
              "      <td>5</td>\n",
              "      <td>2001-01-06 23:38:11</td>\n",
              "    </tr>\n",
              "  </tbody>\n",
              "</table>\n",
              "</div>\n",
              "    <div class=\"colab-df-buttons\">\n",
              "\n",
              "  <div class=\"colab-df-container\">\n",
              "    <button class=\"colab-df-convert\" onclick=\"convertToInteractive('df-3e1de03b-c960-4b47-a87d-f73a63a985af')\"\n",
              "            title=\"Convert this dataframe to an interactive table.\"\n",
              "            style=\"display:none;\">\n",
              "\n",
              "  <svg xmlns=\"http://www.w3.org/2000/svg\" height=\"24px\" viewBox=\"0 -960 960 960\">\n",
              "    <path d=\"M120-120v-720h720v720H120Zm60-500h600v-160H180v160Zm220 220h160v-160H400v160Zm0 220h160v-160H400v160ZM180-400h160v-160H180v160Zm440 0h160v-160H620v160ZM180-180h160v-160H180v160Zm440 0h160v-160H620v160Z\"/>\n",
              "  </svg>\n",
              "    </button>\n",
              "\n",
              "  <style>\n",
              "    .colab-df-container {\n",
              "      display:flex;\n",
              "      gap: 12px;\n",
              "    }\n",
              "\n",
              "    .colab-df-convert {\n",
              "      background-color: #E8F0FE;\n",
              "      border: none;\n",
              "      border-radius: 50%;\n",
              "      cursor: pointer;\n",
              "      display: none;\n",
              "      fill: #1967D2;\n",
              "      height: 32px;\n",
              "      padding: 0 0 0 0;\n",
              "      width: 32px;\n",
              "    }\n",
              "\n",
              "    .colab-df-convert:hover {\n",
              "      background-color: #E2EBFA;\n",
              "      box-shadow: 0px 1px 2px rgba(60, 64, 67, 0.3), 0px 1px 3px 1px rgba(60, 64, 67, 0.15);\n",
              "      fill: #174EA6;\n",
              "    }\n",
              "\n",
              "    .colab-df-buttons div {\n",
              "      margin-bottom: 4px;\n",
              "    }\n",
              "\n",
              "    [theme=dark] .colab-df-convert {\n",
              "      background-color: #3B4455;\n",
              "      fill: #D2E3FC;\n",
              "    }\n",
              "\n",
              "    [theme=dark] .colab-df-convert:hover {\n",
              "      background-color: #434B5C;\n",
              "      box-shadow: 0px 1px 3px 1px rgba(0, 0, 0, 0.15);\n",
              "      filter: drop-shadow(0px 1px 2px rgba(0, 0, 0, 0.3));\n",
              "      fill: #FFFFFF;\n",
              "    }\n",
              "  </style>\n",
              "\n",
              "    <script>\n",
              "      const buttonEl =\n",
              "        document.querySelector('#df-3e1de03b-c960-4b47-a87d-f73a63a985af button.colab-df-convert');\n",
              "      buttonEl.style.display =\n",
              "        google.colab.kernel.accessAllowed ? 'block' : 'none';\n",
              "\n",
              "      async function convertToInteractive(key) {\n",
              "        const element = document.querySelector('#df-3e1de03b-c960-4b47-a87d-f73a63a985af');\n",
              "        const dataTable =\n",
              "          await google.colab.kernel.invokeFunction('convertToInteractive',\n",
              "                                                    [key], {});\n",
              "        if (!dataTable) return;\n",
              "\n",
              "        const docLinkHtml = 'Like what you see? Visit the ' +\n",
              "          '<a target=\"_blank\" href=https://colab.research.google.com/notebooks/data_table.ipynb>data table notebook</a>'\n",
              "          + ' to learn more about interactive tables.';\n",
              "        element.innerHTML = '';\n",
              "        dataTable['output_type'] = 'display_data';\n",
              "        await google.colab.output.renderOutput(dataTable, element);\n",
              "        const docLink = document.createElement('div');\n",
              "        docLink.innerHTML = docLinkHtml;\n",
              "        element.appendChild(docLink);\n",
              "      }\n",
              "    </script>\n",
              "  </div>\n",
              "\n",
              "\n",
              "<div id=\"df-73d58f61-b73b-4a1d-b0a0-d3378df36c0b\">\n",
              "  <button class=\"colab-df-quickchart\" onclick=\"quickchart('df-73d58f61-b73b-4a1d-b0a0-d3378df36c0b')\"\n",
              "            title=\"Suggest charts\"\n",
              "            style=\"display:none;\">\n",
              "\n",
              "<svg xmlns=\"http://www.w3.org/2000/svg\" height=\"24px\"viewBox=\"0 0 24 24\"\n",
              "     width=\"24px\">\n",
              "    <g>\n",
              "        <path d=\"M19 3H5c-1.1 0-2 .9-2 2v14c0 1.1.9 2 2 2h14c1.1 0 2-.9 2-2V5c0-1.1-.9-2-2-2zM9 17H7v-7h2v7zm4 0h-2V7h2v10zm4 0h-2v-4h2v4z\"/>\n",
              "    </g>\n",
              "</svg>\n",
              "  </button>\n",
              "\n",
              "<style>\n",
              "  .colab-df-quickchart {\n",
              "      --bg-color: #E8F0FE;\n",
              "      --fill-color: #1967D2;\n",
              "      --hover-bg-color: #E2EBFA;\n",
              "      --hover-fill-color: #174EA6;\n",
              "      --disabled-fill-color: #AAA;\n",
              "      --disabled-bg-color: #DDD;\n",
              "  }\n",
              "\n",
              "  [theme=dark] .colab-df-quickchart {\n",
              "      --bg-color: #3B4455;\n",
              "      --fill-color: #D2E3FC;\n",
              "      --hover-bg-color: #434B5C;\n",
              "      --hover-fill-color: #FFFFFF;\n",
              "      --disabled-bg-color: #3B4455;\n",
              "      --disabled-fill-color: #666;\n",
              "  }\n",
              "\n",
              "  .colab-df-quickchart {\n",
              "    background-color: var(--bg-color);\n",
              "    border: none;\n",
              "    border-radius: 50%;\n",
              "    cursor: pointer;\n",
              "    display: none;\n",
              "    fill: var(--fill-color);\n",
              "    height: 32px;\n",
              "    padding: 0;\n",
              "    width: 32px;\n",
              "  }\n",
              "\n",
              "  .colab-df-quickchart:hover {\n",
              "    background-color: var(--hover-bg-color);\n",
              "    box-shadow: 0 1px 2px rgba(60, 64, 67, 0.3), 0 1px 3px 1px rgba(60, 64, 67, 0.15);\n",
              "    fill: var(--button-hover-fill-color);\n",
              "  }\n",
              "\n",
              "  .colab-df-quickchart-complete:disabled,\n",
              "  .colab-df-quickchart-complete:disabled:hover {\n",
              "    background-color: var(--disabled-bg-color);\n",
              "    fill: var(--disabled-fill-color);\n",
              "    box-shadow: none;\n",
              "  }\n",
              "\n",
              "  .colab-df-spinner {\n",
              "    border: 2px solid var(--fill-color);\n",
              "    border-color: transparent;\n",
              "    border-bottom-color: var(--fill-color);\n",
              "    animation:\n",
              "      spin 1s steps(1) infinite;\n",
              "  }\n",
              "\n",
              "  @keyframes spin {\n",
              "    0% {\n",
              "      border-color: transparent;\n",
              "      border-bottom-color: var(--fill-color);\n",
              "      border-left-color: var(--fill-color);\n",
              "    }\n",
              "    20% {\n",
              "      border-color: transparent;\n",
              "      border-left-color: var(--fill-color);\n",
              "      border-top-color: var(--fill-color);\n",
              "    }\n",
              "    30% {\n",
              "      border-color: transparent;\n",
              "      border-left-color: var(--fill-color);\n",
              "      border-top-color: var(--fill-color);\n",
              "      border-right-color: var(--fill-color);\n",
              "    }\n",
              "    40% {\n",
              "      border-color: transparent;\n",
              "      border-right-color: var(--fill-color);\n",
              "      border-top-color: var(--fill-color);\n",
              "    }\n",
              "    60% {\n",
              "      border-color: transparent;\n",
              "      border-right-color: var(--fill-color);\n",
              "    }\n",
              "    80% {\n",
              "      border-color: transparent;\n",
              "      border-right-color: var(--fill-color);\n",
              "      border-bottom-color: var(--fill-color);\n",
              "    }\n",
              "    90% {\n",
              "      border-color: transparent;\n",
              "      border-bottom-color: var(--fill-color);\n",
              "    }\n",
              "  }\n",
              "</style>\n",
              "\n",
              "  <script>\n",
              "    async function quickchart(key) {\n",
              "      const quickchartButtonEl =\n",
              "        document.querySelector('#' + key + ' button');\n",
              "      quickchartButtonEl.disabled = true;  // To prevent multiple clicks.\n",
              "      quickchartButtonEl.classList.add('colab-df-spinner');\n",
              "      try {\n",
              "        const charts = await google.colab.kernel.invokeFunction(\n",
              "            'suggestCharts', [key], {});\n",
              "      } catch (error) {\n",
              "        console.error('Error during call to suggestCharts:', error);\n",
              "      }\n",
              "      quickchartButtonEl.classList.remove('colab-df-spinner');\n",
              "      quickchartButtonEl.classList.add('colab-df-quickchart-complete');\n",
              "    }\n",
              "    (() => {\n",
              "      let quickchartButtonEl =\n",
              "        document.querySelector('#df-73d58f61-b73b-4a1d-b0a0-d3378df36c0b button');\n",
              "      quickchartButtonEl.style.display =\n",
              "        google.colab.kernel.accessAllowed ? 'block' : 'none';\n",
              "    })();\n",
              "  </script>\n",
              "</div>\n",
              "    </div>\n",
              "  </div>\n"
            ],
            "application/vnd.google.colaboratory.intrinsic+json": {
              "type": "dataframe",
              "variable_name": "df"
            }
          },
          "metadata": {},
          "execution_count": 3
        }
      ],
      "source": [
        "df = pd.read_csv(\"ml-1m/ratings.dat\", sep='::', names=['user_id', 'item_id', 'rating', 'timestamp'], engine='python')\n",
        "df['datetime'] = pd.to_datetime(df['timestamp'], unit='s')\n",
        "df.drop('timestamp', axis=1, inplace=True)\n",
        "df.head()"
      ]
    },
    {
      "cell_type": "code",
      "execution_count": 4,
      "id": "4988d476-542e-4a32-9c45-7a16bc2a5db5",
      "metadata": {
        "id": "4988d476-542e-4a32-9c45-7a16bc2a5db5"
      },
      "outputs": [],
      "source": [
        "value_counts = df['item_id'].value_counts()\n",
        "filtered_values = value_counts[value_counts > 20].index\n",
        "df = df[df['item_id'].isin(filtered_values)].copy()"
      ]
    },
    {
      "cell_type": "code",
      "execution_count": 5,
      "id": "1e05bd3b-ab2f-4c02-9a97-a4153e9550bc",
      "metadata": {
        "id": "1e05bd3b-ab2f-4c02-9a97-a4153e9550bc",
        "colab": {
          "base_uri": "https://localhost:8080/"
        },
        "outputId": "6b7789d8-99bc-46fa-bd20-6c2df5bbc5f7"
      },
      "outputs": [
        {
          "output_type": "execute_result",
          "data": {
            "text/plain": [
              "((787420, 4), (207432, 4))"
            ]
          },
          "metadata": {},
          "execution_count": 5
        }
      ],
      "source": [
        "train_end = '2000-12-01'\n",
        "df_train = df[df['datetime'] < train_end].copy()\n",
        "df_test = df[df['datetime'] >= train_end].copy()\n",
        "df_train.shape, df_test.shape"
      ]
    },
    {
      "cell_type": "code",
      "execution_count": 6,
      "id": "414b8ed7-20d6-4778-9d60-f9c8ccbfa7e3",
      "metadata": {
        "id": "414b8ed7-20d6-4778-9d60-f9c8ccbfa7e3",
        "colab": {
          "base_uri": "https://localhost:8080/"
        },
        "outputId": "8e04b960-3bb9-486f-af73-b5b37eabaa63"
      },
      "outputs": [
        {
          "output_type": "execute_result",
          "data": {
            "text/plain": [
              "(106471, 4)"
            ]
          },
          "metadata": {},
          "execution_count": 6
        }
      ],
      "source": [
        "train_users = df_train['user_id'].unique()\n",
        "train_items = df_train['item_id'].unique()\n",
        "\n",
        "df_test = df_test[df_test['user_id'].isin(train_users)]\n",
        "df_test = df_test[df_test['item_id'].isin(train_items)]\n",
        "df_test.shape"
      ]
    },
    {
      "cell_type": "code",
      "execution_count": 7,
      "id": "19f53d61-990c-4626-a470-7eefd06d2ec7",
      "metadata": {
        "id": "19f53d61-990c-4626-a470-7eefd06d2ec7"
      },
      "outputs": [],
      "source": [
        "from sklearn.preprocessing import LabelEncoder\n",
        "\n",
        "user_le = LabelEncoder()\n",
        "item_le = LabelEncoder()\n",
        "\n",
        "df_train['user_id'] = user_le.fit_transform(df_train['user_id'])\n",
        "df_train['item_id'] = item_le.fit_transform(df_train['item_id'])\n",
        "\n",
        "df_test['user_id'] = user_le.transform(df_test['user_id'])\n",
        "df_test['item_id'] = item_le.transform(df_test['item_id'])"
      ]
    },
    {
      "cell_type": "code",
      "execution_count": 8,
      "id": "f4ef3e2f-792d-4511-b4d0-74495d9cb30b",
      "metadata": {
        "colab": {
          "base_uri": "https://localhost:8080/"
        },
        "id": "f4ef3e2f-792d-4511-b4d0-74495d9cb30b",
        "outputId": "e3e6cc1a-6dd3-4185-f79d-1b57bfce86dc"
      },
      "outputs": [
        {
          "output_type": "execute_result",
          "data": {
            "text/plain": [
              "(5365, 5364)"
            ]
          },
          "metadata": {},
          "execution_count": 8
        }
      ],
      "source": [
        "df_train['user_id'].nunique(), df_train['user_id'].max()"
      ]
    },
    {
      "cell_type": "code",
      "source": [
        "df_train['item_id'].nunique(), df_train['item_id'].max()"
      ],
      "metadata": {
        "colab": {
          "base_uri": "https://localhost:8080/"
        },
        "id": "oiZDH0OfgEt0",
        "outputId": "c1019181-5370-46dd-d283-44a4352ad258"
      },
      "id": "oiZDH0OfgEt0",
      "execution_count": 9,
      "outputs": [
        {
          "output_type": "execute_result",
          "data": {
            "text/plain": [
              "(3010, 3009)"
            ]
          },
          "metadata": {},
          "execution_count": 9
        }
      ]
    },
    {
      "cell_type": "markdown",
      "source": [],
      "metadata": {
        "id": "q0BgWID2gJIC"
      },
      "id": "q0BgWID2gJIC"
    },
    {
      "cell_type": "markdown",
      "id": "3d356df8-9157-4752-b30d-dc80aba5e53c",
      "metadata": {
        "id": "3d356df8-9157-4752-b30d-dc80aba5e53c"
      },
      "source": [
        "##### Задание 1. Напишем функцию, которая превратит датафрейм в матрицу интеракций. В функции df_to_matrix реализуйте функцию, которая принимает датафрейм и возвращает np.array матрицу интеракций. В функции df_to_coo реализуйте функцию, которая принимает датафрейм и возвращает разреженную матрицу интеракций в coo_array формате"
      ]
    },
    {
      "cell_type": "code",
      "execution_count": 10,
      "id": "d38a7bb7-7f2d-4957-8dac-6397af9b1645",
      "metadata": {
        "id": "d38a7bb7-7f2d-4957-8dac-6397af9b1645"
      },
      "outputs": [],
      "source": [
        "def df_to_matrix(df: pd.DataFrame) -> np.ndarray:\n",
        "    interaction_matrix = df_train.pivot_table(index='user_id', columns='item_id', values='rating', fill_value=0)\n",
        "    result = interaction_matrix.values\n",
        "    return result"
      ]
    },
    {
      "cell_type": "code",
      "execution_count": 11,
      "id": "55362cbb-5e2d-455b-afd1-8507f1dd51ba",
      "metadata": {
        "id": "55362cbb-5e2d-455b-afd1-8507f1dd51ba"
      },
      "outputs": [],
      "source": [
        "interactions = df_to_matrix(df_train)"
      ]
    },
    {
      "cell_type": "code",
      "source": [
        "# проверим корректность размера матрицы\n",
        "assert interactions.shape[0] == 5365\n",
        "assert interactions.shape[1] == 3010"
      ],
      "metadata": {
        "id": "T5PQy8zDgkV_"
      },
      "id": "T5PQy8zDgkV_",
      "execution_count": 12,
      "outputs": []
    },
    {
      "cell_type": "code",
      "source": [
        "interactions[:10, :10]"
      ],
      "metadata": {
        "colab": {
          "base_uri": "https://localhost:8080/"
        },
        "id": "inX8eEe2f7AW",
        "outputId": "b67f6318-228f-4e3d-f909-63d57aff04fa"
      },
      "id": "inX8eEe2f7AW",
      "execution_count": 13,
      "outputs": [
        {
          "output_type": "execute_result",
          "data": {
            "text/plain": [
              "array([[0., 0., 0., 0., 0., 0., 0., 0., 0., 0.],\n",
              "       [0., 0., 0., 0., 0., 0., 0., 0., 0., 0.],\n",
              "       [0., 0., 0., 0., 0., 0., 0., 0., 0., 0.],\n",
              "       [0., 0., 0., 1., 0., 0., 0., 0., 0., 0.],\n",
              "       [0., 0., 0., 0., 0., 2., 0., 0., 0., 0.],\n",
              "       [0., 0., 0., 0., 0., 0., 0., 0., 0., 0.],\n",
              "       [0., 0., 0., 0., 0., 0., 0., 0., 0., 0.],\n",
              "       [0., 0., 0., 0., 0., 0., 0., 0., 0., 0.],\n",
              "       [5., 0., 0., 0., 0., 0., 0., 0., 0., 0.],\n",
              "       [0., 0., 0., 0., 0., 0., 0., 0., 0., 0.]])"
            ]
          },
          "metadata": {},
          "execution_count": 13
        }
      ]
    },
    {
      "cell_type": "code",
      "execution_count": 14,
      "id": "794b646d-a560-42dd-a466-87cad2589271",
      "metadata": {
        "id": "794b646d-a560-42dd-a466-87cad2589271"
      },
      "outputs": [],
      "source": [
        "from scipy.sparse import coo_array\n",
        "\n",
        "def df_to_coo(df: pd.DataFrame) -> coo_array:\n",
        "    interaction_matrix = df_train.pivot_table(index='user_id', columns='item_id', values='rating', fill_value=0)\n",
        "    matrix = interaction_matrix.values\n",
        "\n",
        "    row_indices, col_indices = np.nonzero(matrix)\n",
        "    values = matrix[row_indices, col_indices]\n",
        "\n",
        "    result = coo_array((values, (row_indices, col_indices)), shape=matrix.shape)\n",
        "\n",
        "    return result"
      ]
    },
    {
      "cell_type": "code",
      "execution_count": 15,
      "id": "30f9c218-0419-41b2-a112-c2214fad1d99",
      "metadata": {
        "id": "30f9c218-0419-41b2-a112-c2214fad1d99"
      },
      "outputs": [],
      "source": [
        "coo_interactions = df_to_coo(df_train)"
      ]
    },
    {
      "cell_type": "code",
      "source": [
        "coo_interactions.toarray()[:10, :10]"
      ],
      "metadata": {
        "colab": {
          "base_uri": "https://localhost:8080/"
        },
        "id": "oIIqMI0Cjk1C",
        "outputId": "e6badbc1-3638-4616-b6ea-ee47efaac594"
      },
      "id": "oIIqMI0Cjk1C",
      "execution_count": 16,
      "outputs": [
        {
          "output_type": "execute_result",
          "data": {
            "text/plain": [
              "array([[0., 0., 0., 0., 0., 0., 0., 0., 0., 0.],\n",
              "       [0., 0., 0., 0., 0., 0., 0., 0., 0., 0.],\n",
              "       [0., 0., 0., 0., 0., 0., 0., 0., 0., 0.],\n",
              "       [0., 0., 0., 1., 0., 0., 0., 0., 0., 0.],\n",
              "       [0., 0., 0., 0., 0., 2., 0., 0., 0., 0.],\n",
              "       [0., 0., 0., 0., 0., 0., 0., 0., 0., 0.],\n",
              "       [0., 0., 0., 0., 0., 0., 0., 0., 0., 0.],\n",
              "       [0., 0., 0., 0., 0., 0., 0., 0., 0., 0.],\n",
              "       [5., 0., 0., 0., 0., 0., 0., 0., 0., 0.],\n",
              "       [0., 0., 0., 0., 0., 0., 0., 0., 0., 0.]])"
            ]
          },
          "metadata": {},
          "execution_count": 16
        }
      ]
    },
    {
      "cell_type": "code",
      "execution_count": 17,
      "id": "96b57a7a-0551-4f75-8047-fb9904ac93df",
      "metadata": {
        "id": "96b57a7a-0551-4f75-8047-fb9904ac93df"
      },
      "outputs": [],
      "source": [
        "assert (interactions != 0).sum() == df_train.shape[0]\n",
        "assert interactions[0, 2994] == 3\n",
        "assert interactions[2369, 1203] == 5\n",
        "assert interactions[1557, 459] == 3\n",
        "assert np.allclose(coo_interactions.toarray(), interactions)"
      ]
    },
    {
      "cell_type": "markdown",
      "id": "93b3862a-e62a-4ebe-a70c-29102e9f99fd",
      "metadata": {
        "id": "93b3862a-e62a-4ebe-a70c-29102e9f99fd"
      },
      "source": [
        "##### Задание 2.1. Рассмотрим [SVD](https://en.wikipedia.org/wiki/Singular_value_decomposition). Возьмите готовую реализуцию алгоритма из numpy.linalg или из scipy.linalg и примените алгоритм к матрицам интеракций, полученным в первом задании. Для работы со sparse матрицей обычная реализация svd не подойдет и нужно будет воспользоваться scipy.sparse.linalg.svds. Вам нужно разложить матрицу интеракций на 3 матрицы U, S, V, а затем перемножить их и восстановить изначальную матрицу. При полном разложении исходная матрица должна восстанавливаться максимально хорошо"
      ]
    },
    {
      "cell_type": "code",
      "execution_count": 39,
      "id": "eead134a-9aac-4027-b0b8-592de614c3d0",
      "metadata": {
        "id": "eead134a-9aac-4027-b0b8-592de614c3d0"
      },
      "outputs": [],
      "source": [
        "from scipy.sparse.linalg import svds\n",
        "from scipy.sparse import coo_matrix\n",
        "\n",
        "def make_svd(interractions: Union[np.ndarray, coo_array], n_singular_values: int = -1):\n",
        "    # функция должна работать и для полной матрицы и для sparse матрицы(вам поможет isinstance).\n",
        "    # если n_singular_values = -1, то берем все сингулярные числа для полной матрицы\n",
        "    # и все кроме одного сингулярного числа для coo-матрицы(иначе scipy.sparse.linalg.svds не будет работать)\n",
        "\n",
        "    if isinstance(interractions, np.ndarray):\n",
        "        U, S, Vt = np.linalg.svd(interractions, full_matrices=False)\n",
        "        if n_singular_values != -1:\n",
        "            U = U[:, :n_singular_values]\n",
        "            S = S[:n_singular_values]\n",
        "            Vt = Vt[:n_singular_values, :]\n",
        "\n",
        "    elif isinstance(interractions, coo_array):\n",
        "        if n_singular_values == -1:\n",
        "            n_singular_values = interractions.shape[1] - 1\n",
        "\n",
        "        U, S, Vt = svds(interractions, k=n_singular_values)\n",
        "\n",
        "    if n_singular_values != -1:\n",
        "            U = U[:, :n_singular_values]\n",
        "            S = S[:n_singular_values]\n",
        "            Vt = Vt[:n_singular_values, :]\n",
        "\n",
        "    return U, S, Vt"
      ]
    },
    {
      "cell_type": "code",
      "execution_count": 40,
      "id": "5c5fecd4-4739-4f6b-9c9c-44bde8b66a34",
      "metadata": {
        "id": "5c5fecd4-4739-4f6b-9c9c-44bde8b66a34"
      },
      "outputs": [],
      "source": [
        "U, S, V = make_svd(interactions)\n",
        "assert np.allclose(U @ np.diag(S) @ V, interactions)"
      ]
    },
    {
      "cell_type": "code",
      "execution_count": 41,
      "id": "c5a5f59e-3832-4a7d-95b4-856531582bbd",
      "metadata": {
        "id": "c5a5f59e-3832-4a7d-95b4-856531582bbd"
      },
      "outputs": [],
      "source": [
        "U1, S1, V1 = make_svd(interactions, 10)\n",
        "U, S, V = make_svd(coo_interactions, 10)\n",
        "assert np.allclose(U1 @ np.diag(S1) @ V1, U @ np.diag(S) @ V)"
      ]
    },
    {
      "cell_type": "markdown",
      "id": "9443daa6-e9f1-414a-8107-5a3016452929",
      "metadata": {
        "id": "9443daa6-e9f1-414a-8107-5a3016452929"
      },
      "source": [
        "##### Задание 2.2. Теперь попробуем сделать рекомендации с помощью SVD. Мы научились восстанавливать исходную матрицу с помощью разложения, теперь же мы хотим порекомендовать пользователю айтемы, которые будут для него максимально релевантны(в восстановленной матрице у них будет самый высокий скор). Для каждого пользователя нужно будет найти индексы айтемов, которые имеют максимальный скор. При этом стоит обратить внимание, что мы не хотим рекомендовать пользователю айтемы, с которыми он уже взаимодействовал"
      ]
    },
    {
      "cell_type": "code",
      "execution_count": null,
      "id": "787da18f-48d0-4dfa-b18f-b7e97cc98a4f",
      "metadata": {
        "id": "787da18f-48d0-4dfa-b18f-b7e97cc98a4f"
      },
      "outputs": [],
      "source": [
        "def make_svd_recommendations(interractions: Union[np.ndarray, coo_array], n_singular_values: int = -1, top_k: int = 100):\n",
        "    # Возвращает матрицу вида n_users, top_k, то есть для каждого пользователя возвращаем индексы\n",
        "    # top_k самых релевантный айтемов среди тех с которыми он еще не взаимодействовал\n",
        "\n",
        "    U, S, Vt = make_svd(interractions, n_singular_values)\n",
        "\n",
        "    predicted_ratings = np.dot(np.dot(U, np.diag(S)), Vt)\n",
        "\n",
        "    n_users, n_items = predicted_ratings.shape\n",
        "\n",
        "    recommendations = np.zeros((n_users, top_k), dtype=int)\n",
        "\n",
        "    for user in range(n_users):\n",
        "        interacted_items = np.where(interractions[user] > 0)[0]\n",
        "\n",
        "        user_ratings = predicted_ratings[user]\n",
        "\n",
        "        user_ratings[interacted_items] = -np.inf\n",
        "\n",
        "        top_k_indices = np.argsort(user_ratings)[-top_k:][::-1]\n",
        "\n",
        "        recommendations[user] = top_k_indices\n",
        "\n",
        "    return recommendations #shape ~ [n_users, top_k]"
      ]
    },
    {
      "cell_type": "code",
      "execution_count": null,
      "id": "ec72f3dd-c8f2-4434-b84e-ef016c4773a1",
      "metadata": {
        "id": "ec72f3dd-c8f2-4434-b84e-ef016c4773a1"
      },
      "outputs": [],
      "source": [
        "recs = make_svd_recommendations(interactions, -1, 100)\n",
        "assert recs.shape == (interactions.shape[0], 100)"
      ]
    },
    {
      "cell_type": "code",
      "source": [
        "def create_predict_df(df_train, df_test, n_singular_values, top_k):\n",
        "    interactions = df_to_coo(df_train)\n",
        "\n",
        "    recs = make_svd_recommendations(interactions, -1, 100)\n",
        "\n",
        "    df_test['recommendations'] = df_test['user_id'].apply(lambda user_id: recs[user_id].tolist() if user_id < recs.shape[0] else [])\n",
        "\n",
        "    return df_test\n"
      ],
      "metadata": {
        "id": "k36rX3nsvJxM"
      },
      "id": "k36rX3nsvJxM",
      "execution_count": null,
      "outputs": []
    },
    {
      "cell_type": "markdown",
      "id": "f5d0b788-855a-4fd9-8cbb-38c0dd289ef5",
      "metadata": {
        "id": "f5d0b788-855a-4fd9-8cbb-38c0dd289ef5"
      },
      "source": [
        "##### Задание 2.3. Теперь давайте посмотрим как будет зависеть качетво рекомендаций, от количества сингулярных чисел, которые мы возьмем в SVD разложении. Переберите n_singular_values из списка [1, 10, 50, 200, 1000] и посмотрите как будет изменяться метрика NDCG на тестовом датасете для таких рекомендаций и как будет меняться время вычисления. Для каждого графики зависимости метрики NDCG от n_singular_values и времени работы алгоритма от n_singular_values(Время работы будет меняться только для sparse-матрицы, стоит запускать алгоритм именно для нее)"
      ]
    },
    {
      "cell_type": "code",
      "source": [
        "def dcg(scores) :\n",
        "    return np.sum(np.divide(np.power(2, scores) - 1,\n",
        "                            np.log2(np.arange(scores.shape[0], dtype=np.float64) + 2)), dtype=np.float64)\n",
        "\n",
        "def ndcg_metric(gt_items, predicted):\n",
        "    '''\n",
        "    Функция для расчета NDGC\n",
        "    '''\n",
        "    at = len(predicted)\n",
        "    relevance = np.array([1 if x in predicted else 0 for x in gt_items])\n",
        "    # DCG uses the relevance of the recommended items\n",
        "    rank_dcg = dcg( relevance)\n",
        "    if rank_dcg == 0.0:\n",
        "        return 0.0\n",
        "    # IDCG has all relevances to 1 (or the values provided), up to the number of items in the test set that can fit in the list length\n",
        "    ideal_dcg = dcg(np.sort(relevance)[::-1][:at])\n",
        "    if ideal_dcg == 0.0:\n",
        "        return 0.0\n",
        "    ndcg_ = rank_dcg / ideal_dcg\n",
        "    return ndcg_\n",
        "\n",
        "def evaluate_recommender(df, model_preds, gt_col=\"test_interactions\", topn=10):\n",
        "    metric_values = []\n",
        "    for idx, row in df.iterrows():\n",
        "        gt_items = row[gt_col]\n",
        "        metric_values.append((ndcg_metric(gt_items, row[model_preds])))\n",
        "    return (\"ndcg\": np.mean(metric_values))"
      ],
      "metadata": {
        "id": "m-SKUkIxq3Vb"
      },
      "id": "m-SKUkIxq3Vb",
      "execution_count": null,
      "outputs": []
    },
    {
      "cell_type": "code",
      "source": [
        "# создадим тестовый датафрейм\n",
        "test_df_grouped = test_df.groupby('user_id').apply(lambda x: list(x['item_id']), include_groups=False).reset_index(name='test_interactions')\n",
        "test_df_grouped.head()"
      ],
      "metadata": {
        "id": "Qdh2UjAwuCFL"
      },
      "id": "Qdh2UjAwuCFL",
      "execution_count": null,
      "outputs": []
    },
    {
      "cell_type": "code",
      "execution_count": null,
      "id": "06f931fd-0eb0-4965-9e02-e005ed545c71",
      "metadata": {
        "id": "06f931fd-0eb0-4965-9e02-e005ed545c71"
      },
      "outputs": [],
      "source": [
        "def plot_graphs(interractions: Union[np.ndarray, coo_array], top_k: int = 100):\n",
        "    #your code here\n",
        "    for n_singular_values in [1, 10, 50, 200, 1000]:\n",
        "        #your code here\n"
      ]
    },
    {
      "cell_type": "code",
      "execution_count": null,
      "id": "ee22fe02-b1c2-4fb5-a7b1-0525356fe9f0",
      "metadata": {
        "id": "ee22fe02-b1c2-4fb5-a7b1-0525356fe9f0"
      },
      "outputs": [],
      "source": [
        "plot_graphs()"
      ]
    },
    {
      "cell_type": "markdown",
      "id": "a8612d96-c694-42d6-9525-58808f642577",
      "metadata": {
        "id": "a8612d96-c694-42d6-9525-58808f642577"
      },
      "source": [
        "##### Задание 3.1. Перейдем к [ALS](http://yifanhu.net/PUB/cf.pdf). Возьмем реализацию iALS из библиотеки [implicit](https://benfred.github.io/implicit/api/models/cpu/als.html). Обучите ALS на нашем датасете, сделайте top_k рекомендации для юзеров из тестового датасета, и сравните метрики ALS с метриками, которые получились в SVD. Попробуйте перебрать гиперпараметры и найдите оптимальное число факторов, коэффициент alpha и коэффициент регуляризации."
      ]
    },
    {
      "cell_type": "code",
      "execution_count": null,
      "id": "b5fb16e9-49d1-4d7e-a384-ccbdad4f1cdf",
      "metadata": {
        "id": "b5fb16e9-49d1-4d7e-a384-ccbdad4f1cdf"
      },
      "outputs": [],
      "source": [
        "def make_als_recommendations(\n",
        "    interractions: Union[np.ndarray, coo_array],\n",
        "    top_k: int = 100,\n",
        "    n_factors: int = 100,\n",
        "    alpha: float = 1.0,\n",
        "    regularization: float = 0.01,\n",
        "):\n",
        "    #your code here\n",
        "\n",
        "\n",
        "    return recommendations #shape ~ [n_users, top_k]"
      ]
    },
    {
      "cell_type": "code",
      "execution_count": null,
      "id": "b5573d01-8512-450f-9260-03928ee9b367",
      "metadata": {
        "id": "b5573d01-8512-450f-9260-03928ee9b367"
      },
      "outputs": [],
      "source": [
        "recs = make_als_recommendations(interractions)\n",
        "assert recs.shape == (interractions.shape[0], 100)"
      ]
    },
    {
      "cell_type": "markdown",
      "id": "81f3b1cc-760b-4d6a-ab8a-aca57b7b6dfe",
      "metadata": {
        "id": "81f3b1cc-760b-4d6a-ab8a-aca57b7b6dfe"
      },
      "source": [
        "##### Задание 3.2. Сделайте объяснение рекомендаций для нескольких юзеров(als.explain). Воспользуйтесь файлом movies.dat чтобы перейти от индексов фильмов к их названием"
      ]
    },
    {
      "cell_type": "code",
      "execution_count": null,
      "id": "ddd9a956-d2f5-4560-8d0c-c72164ebdfa8",
      "metadata": {
        "id": "ddd9a956-d2f5-4560-8d0c-c72164ebdfa8"
      },
      "outputs": [],
      "source": [
        "#your code here"
      ]
    },
    {
      "cell_type": "markdown",
      "id": "d7d7ea0c-8288-45f5-83d4-9761a8952669",
      "metadata": {
        "id": "d7d7ea0c-8288-45f5-83d4-9761a8952669"
      },
      "source": [
        "##### Задание 4. До этого мы работали с рейтингами, но как обсуждалось на лекции, implicit ALS отлично работает и с implicit фидбэком. Давайте попробуем преобразовать наш датасет(трейн и тест) следующим образом\n",
        "\n",
        "1. Бинаризуем все рейтинги(заменим любую интеракцию пользователя на 1)\n",
        "2. Заменим на 1 только рейтинги 4 и 5, а рейтинг ниже 4 заменим на 0\n",
        "3. Заменим на 1 только рейтинги 4 и 5, а рейтинг ниже 4 заменим на -1\n",
        "4. Заменим на 1 только рейтинги 4 и 5, а рейтинг ниже 4 заменим на -1 и добавим сглаживание по времени. То есть чем дальше была интеракция от максимальной даты трейна, тем с меньшим весом мы будем ее учитывать(например можно интеракции за последний месяц брать в исходном виде, и с каждым месяцем в прошлое умножать их на какой-нибудь коэффициент меньший 1). Таким образом более старые интеракции пользователя будут вносить меньший вклад в его интересы\n",
        "5. Придумайте свой вариант(опционально)\n",
        "\n",
        "Для каждой полученной матрицы обучите iALS и SVD и сравните их результаты между собой(преобразовывать нужно только обучающую выборку, тестовую оставляем неизменной)"
      ]
    },
    {
      "cell_type": "code",
      "execution_count": null,
      "id": "c839fd09-eca4-43e0-a209-2da63775f79f",
      "metadata": {
        "id": "c839fd09-eca4-43e0-a209-2da63775f79f"
      },
      "outputs": [],
      "source": [
        "#your code here"
      ]
    },
    {
      "cell_type": "markdown",
      "id": "ee7a03b1-5072-4bc4-ba46-1fc3c989b888",
      "metadata": {
        "id": "ee7a03b1-5072-4bc4-ba46-1fc3c989b888"
      },
      "source": [
        "##### Задание 5. iALS на numpy/torch. Давайте реализуем алгоритм iALS на нумпае или торче. Требуется реализовать алгорит, описанный в 4 части [статьи](http://yifanhu.net/PUB/cf.pdf). Обратите внимания на все оптимизации, которые они описывают в статье, чтобы сократить лишние вычисления. Hint: метрики у вашего алгоритма должны быть сравнимы с метриками ALS из библиотеки implicit"
      ]
    },
    {
      "cell_type": "code",
      "execution_count": null,
      "id": "e6be5f0d-1454-4f15-9dd1-17d1f1f99583",
      "metadata": {
        "id": "e6be5f0d-1454-4f15-9dd1-17d1f1f99583"
      },
      "outputs": [],
      "source": [
        "class iALS:\n",
        "    def __init__(self, n_factors: int = 100, alpha: float = 1.0, reg_coef = 0.01):\n",
        "        #your code here\n",
        "\n",
        "    def fit(self, interractions: np.ndarray, n_iterations: int 10):\n",
        "        #your code here\n",
        "\n",
        "    def predict(self, top_k: int = 100):\n",
        "        # возвращает top-k айтемов для каждого юзера(айтемы с которыми юзер взаимодействовал не должны попасть в рекомендации)\n",
        "        #your code here\n",
        "\n",
        "        return predicts # shape ~ [n_users, top_k]"
      ]
    },
    {
      "cell_type": "code",
      "execution_count": null,
      "id": "a9aa65d7-11dc-48d9-a270-8d0a6d96f28e",
      "metadata": {
        "id": "a9aa65d7-11dc-48d9-a270-8d0a6d96f28e"
      },
      "outputs": [],
      "source": []
    }
  ],
  "metadata": {
    "kernelspec": {
      "display_name": "recsys_course",
      "language": "python",
      "name": "recsys_course"
    },
    "language_info": {
      "codemirror_mode": {
        "name": "ipython",
        "version": 3
      },
      "file_extension": ".py",
      "mimetype": "text/x-python",
      "name": "python",
      "nbconvert_exporter": "python",
      "pygments_lexer": "ipython3",
      "version": "3.12.8"
    },
    "colab": {
      "provenance": []
    }
  },
  "nbformat": 4,
  "nbformat_minor": 5
}