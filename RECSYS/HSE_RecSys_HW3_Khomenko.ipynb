{
  "cells": [
    {
      "cell_type": "markdown",
      "metadata": {
        "id": "EP3QpbyFWZCp"
      },
      "source": [
        "## ДЗ №3 Двухуровневый пайплайн\n",
        "#### В этой домашке вам предстоит написать с нуля двустадийную рекомендательную систему.\n",
        "\n",
        "#### Дата выдачи: 10.03.25\n",
        "\n",
        "#### Мягкий дедлайн: 31.03.25 23:59 MSK\n",
        "\n",
        "#### Жесткий дедлайн: 7.04.25 23:59 MSK"
      ]
    },
    {
      "cell_type": "markdown",
      "metadata": {
        "id": "aSlPlfnkWZCq"
      },
      "source": [
        "### Описание\n",
        "Это творческое задание, в котором вам необходимо реализовать полный цикл построения рекомендательной системы: реализовать кандидат генераторов, придумать и собрать признаки, обучить итоговый ранкер и заинференсить модели на всех пользователей.\n",
        "\n",
        "Вам предоставляется два набора данных: `train.csv` и `test.csv`"
      ]
    },
    {
      "cell_type": "code",
      "execution_count": null,
      "metadata": {
        "id": "cdzC4oEVWZCr"
      },
      "outputs": [],
      "source": [
        "# скачиваем данные\n",
        "# если из этой ячейки не получается, то вот ссылка на папку https://drive.google.com/drive/folders/1HT0Apm8Jft0VPLJtdBBUGu9s1M7vZcoJ?usp=drive_link\n",
        "\n",
        "# !pip3 install gdown\n",
        "\n",
        "\n",
        "# import gdown\n",
        "# # train\n",
        "# url = \"https://drive.google.com/file/d/1-CcS22-UpTJeNcFlA0dVLrEQn8jnI0d-/view?usp=drive_link\"\n",
        "# output = 'train.csv'\n",
        "# gdown.download(url, output, quiet=False)\n",
        "\n",
        "# # test\n",
        "# url = \"https://drive.google.com/file/d/11iz3xDh0IIoEIBY0dyRSvByY3qfiT3BG/view?usp=drive_link\"\n",
        "# output = 'test.csv'\n",
        "# gdown.download(url, output, quiet=False)"
      ]
    },
    {
      "cell_type": "code",
      "source": [
        "# !pip install"
      ],
      "metadata": {
        "id": "-1sK7HXhYzN6"
      },
      "execution_count": null,
      "outputs": []
    },
    {
      "cell_type": "code",
      "source": [
        "import pandas as pd\n",
        "import numpy as np\n",
        "import torch\n",
        "import torch.nn as nn\n",
        "import torch.optim as optim\n",
        "\n",
        "from typing import Union\n",
        "from scipy.sparse.linalg import svds\n",
        "from scipy.sparse import coo_matrix, coo_array, csr_matrix\n",
        "from sklearn.preprocessing import LabelEncoder\n",
        "from sklearn.model_selection import train_test_split\n",
        "\n",
        "\n",
        "RANDOM_STATE = 42\n",
        "\n",
        "np.random.seed(RANDOM_STATE)"
      ],
      "metadata": {
        "id": "P_xxRVlgX6JU"
      },
      "execution_count": 12,
      "outputs": []
    },
    {
      "cell_type": "markdown",
      "metadata": {
        "id": "Gt2QAsgMWZCr"
      },
      "source": [
        "\n",
        "\n",
        "### 1 Этап. Модели первого уровня. (max 3 балла)\n",
        "В этом этапе вам необходимо разделить `train` датасет на 2 части: для обучения моделей первого уровня и для их валидации. Единственное условие для разбиения – разбивать нужно по времени. Данные для обучение будем называть `train_stage_1`, данные для валидации `valid_stage_1`. Объемы этих датасетов вы определяет самостоятельно.\n",
        "\n",
        "Для начала нам нужно отобрать кандидатов при помощи легких моделей. Необходимо реализовать 3 типа моделей:\n",
        "1. Любая эвристическая(алгоритмичная) модель на ваш выбор **(0.5 балл)**\n",
        "2. Любая матричная факторизация на ваш выбор **(1 балл)**\n",
        "3. Любая нейросетевая модель на ваш выбор **(1 балла)**\n",
        "\n",
        "Не забудьте использовать скор каждой модели, как признак!\n",
        "\n"
      ]
    },
    {
      "cell_type": "markdown",
      "metadata": {
        "id": "FIgaWPh4WZCs"
      },
      "source": [
        "Каждая модель должна уметь:\n",
        "1) для пары user_item предсказывать скор релевантности (масштаб скора не важен), важно обработать случаи, когда модель не можеn проскорить пользователя или айтем, вместо этого вернуть какое-то дефолтное значение\n",
        "2) для всех пользователей вернуть top-k самых релевантных айтемов (тут вам скоры не нужны)\n",
        "\n",
        "\n",
        "Дополнительно можно провести анализ кандидат генератов, измерить насколько различные айтемы они рекомендуют, например с помощью таких метрик как: [Ranked based overlap](https://github.com/changyaochen/rbo) или различные вариации [Diversity](https://github.com/MaurizioFD/RecSys2019_DeepLearning_Evaluation/blob/master/Base/Evaluation/metrics.py#L289). **(1 балл)**"
      ]
    },
    {
      "cell_type": "code",
      "source": [
        "def get_train_test_val(sample_size: int = 10000):\n",
        "    df = pd.read_csv('train_part.csv')\n",
        "    df_valid = pd.read_csv('test_part.csv')\n",
        "\n",
        "    train_end = '2021-07-01'\n",
        "    df_train = df[df['last_watch_dt'] < train_end].copy()\n",
        "    df_test = df[df['last_watch_dt'] >= train_end].copy()\n",
        "\n",
        "    train_users = df_train['user_id'].unique()\n",
        "    train_items = df_train['item_id'].unique()\n",
        "\n",
        "    df_test = df_test[df_test['user_id'].isin(train_users)]\n",
        "    df_test = df_test[df_test['item_id'].isin(train_items)]\n",
        "\n",
        "    unique_user_ids = df_train['user_id'].unique()\n",
        "\n",
        "    selected_user_ids = np.random.choice(unique_user_ids, size=sample_size, replace=False)\n",
        "    df_train_sample = df_train[df_train['user_id'].isin(selected_user_ids)].copy()\n",
        "    df_test_sample = df_test[df_test['user_id'].isin(selected_user_ids)].copy()\n",
        "    df_valid_sample = df_valid[df_valid['user_id'].isin(selected_user_ids)].copy()\n",
        "\n",
        "    all_user_ids = np.unique(np.concatenate([df_train_sample['user_id'], df_test_sample['user_id'], df_valid_sample['user_id']]))\n",
        "    all_item_ids = np.unique(np.concatenate([df_train_sample['item_id'], df_test_sample['item_id'], df_valid_sample['item_id']]))\n",
        "\n",
        "    user_le = LabelEncoder()\n",
        "    item_le = LabelEncoder()\n",
        "\n",
        "    user_le.fit(all_user_ids)\n",
        "    item_le.fit(all_item_ids)\n",
        "\n",
        "    df_train_sample['user_id'] = user_le.transform(df_train_sample['user_id'])\n",
        "    df_train_sample['item_id'] = item_le.transform(df_train_sample['item_id'])\n",
        "\n",
        "    df_test_sample['user_id'] = user_le.transform(df_test_sample['user_id'])\n",
        "    df_test_sample['item_id'] = item_le.transform(df_test_sample['item_id'])\n",
        "\n",
        "    df_valid_sample['user_id'] = user_le.transform(df_valid_sample['user_id'])\n",
        "    df_valid_sample['item_id'] = item_le.transform(df_valid_sample['item_id'])\n",
        "\n",
        "    return df_train_sample, df_test_sample, df_valid_sample"
      ],
      "metadata": {
        "id": "jOKgIwElEY2k"
      },
      "execution_count": 13,
      "outputs": []
    },
    {
      "cell_type": "code",
      "source": [
        "df_train, df_test, df_valid = get_train_test_val()\n",
        "df_train.shape, df_test.shape, df_valid.shape"
      ],
      "metadata": {
        "id": "mp2hezBCEZo0",
        "outputId": "d33b478c-157e-442e-98f9-cf22acf28d3a",
        "colab": {
          "base_uri": "https://localhost:8080/"
        }
      },
      "execution_count": 14,
      "outputs": [
        {
          "output_type": "execute_result",
          "data": {
            "text/plain": [
              "((47575, 6), (16428, 6), (3480, 6))"
            ]
          },
          "metadata": {},
          "execution_count": 14
        }
      ]
    },
    {
      "cell_type": "markdown",
      "source": [
        "1.1. Эвристическая модель (TopPopular)"
      ],
      "metadata": {
        "id": "o4IJ9gY_hNfS"
      }
    },
    {
      "cell_type": "code",
      "source": [
        "class TopPopular:\n",
        "    def __init__(self):\n",
        "        self.item_popularity = None\n",
        "        self.user_item_interactions = None\n",
        "\n",
        "    def fit(self, df):\n",
        "\n",
        "        self.user_item_interactions = df\n",
        "\n",
        "        self.item_popularity = df.groupby('item_id').size().reset_index(name='popularity')\n",
        "\n",
        "    def get_top_k_items(self, k: int = 100):\n",
        "        return self.item_popularity.nlargest(k, 'popularity')['item_id'].tolist()\n",
        "\n",
        "    def predict_relevance(self, user_id, item_id, default_value=0):\n",
        "        return self.user_item_interactions[(self.user_item_interactions['user_id'] == user_id) &\n",
        "                                               (self.user_item_interactions['item_id'] == item_id)]['target'].sum()"
      ],
      "metadata": {
        "id": "rcfDLnLBhwXA"
      },
      "execution_count": 15,
      "outputs": []
    },
    {
      "cell_type": "code",
      "source": [
        "model = TopPopular()\n",
        "model.fit(df_train)\n",
        "\n",
        "user_id = 4338\n",
        "item_id = 3552\n",
        "relevance_score = model.predict_relevance(user_id, item_id)\n",
        "print(f'Relevance score for user {user_id} and item {item_id}: {relevance_score}')\n",
        "\n",
        "top_k_items = model.get_top_k_items(5)\n",
        "print(f'Top 5 popular items: {top_k_items}')"
      ],
      "metadata": {
        "id": "IBC89edq_GEE",
        "outputId": "043d3e43-cfba-4d56-930e-8e56cfbda682",
        "colab": {
          "base_uri": "https://localhost:8080/"
        }
      },
      "execution_count": 28,
      "outputs": [
        {
          "output_type": "stream",
          "name": "stdout",
          "text": [
            "Relevance score for user 4338 and item 3552: 0\n",
            "Top 5 popular items: [3408, 5031, 4520, 1340, 3173]\n"
          ]
        }
      ]
    },
    {
      "cell_type": "markdown",
      "source": [
        "1.2. Модель матричной факторизации (SVD)"
      ],
      "metadata": {
        "id": "GBpZgKi0Tf9k"
      }
    },
    {
      "cell_type": "code",
      "source": [
        "class SVD_factorization():\n",
        "    def __init__(self, n_singular_values: int = -1) -> None:\n",
        "\n",
        "        self.n_singular_values = n_singular_values\n",
        "        self.recs = None\n",
        "        self.user_features = None\n",
        "        self.item_features = None\n",
        "\n",
        "    def _df_to_matrix(self, df: pd.DataFrame) -> np.ndarray:\n",
        "\n",
        "        interaction_matrix = df.pivot_table(index='user_id', columns='item_id', values='target', fill_value=0)\n",
        "        result = interaction_matrix.values\n",
        "        return result\n",
        "\n",
        "    def _make_svd(self, interactions: np.ndarray):\n",
        "\n",
        "        U, S, Vt = np.linalg.svd(interactions, full_matrices=False)\n",
        "\n",
        "        if self.n_singular_values != -1:\n",
        "            U = U[:, :self.n_singular_values]\n",
        "            S = S[:self.n_singular_values]\n",
        "            Vt = Vt[:self.n_singular_values, :]\n",
        "\n",
        "        self.user_features = U\n",
        "        self.item_features = Vt.T\n",
        "        return U, S, Vt\n",
        "\n",
        "    def fit(self, df_train: pd.DataFrame):\n",
        "\n",
        "        interactions = self._df_to_matrix(df_train)\n",
        "        U, S, Vt = self._make_svd(interactions)\n",
        "\n",
        "        self._calculate_recommendations(interactions)\n",
        "\n",
        "    def _calculate_recommendations(self, interactions):\n",
        "\n",
        "        n_users, n_items = interactions.shape\n",
        "        relevance_scores = np.zeros((n_users, n_items))\n",
        "\n",
        "        for user in range(n_users):\n",
        "            interacted_items = np.where(interactions[user] > 0)[0]\n",
        "\n",
        "            user_features = self.user_features[user]\n",
        "            item_features = self.item_features\n",
        "\n",
        "            relevance_scores[user] = np.dot(user_features, item_features.T)\n",
        "\n",
        "            if np.isnan(relevance_scores[user]).any():\n",
        "                relevance_scores[user] = np.nan_to_num(relevance_scores[user], nan=0.0)\n",
        "\n",
        "            relevance_scores[user, interacted_items] = -np.inf\n",
        "\n",
        "        self.recs = relevance_scores\n",
        "\n",
        "    def predict_relevance(self, user_id: int, item_id: int) -> float:\n",
        "\n",
        "        if self.user_features is None or self.item_features is None:\n",
        "            raise ValueError(\"Model is not fitted yet.\")\n",
        "\n",
        "        user_features = self.user_features[user_id]\n",
        "        item_features = self.item_features[item_id]\n",
        "\n",
        "        relevance_score = np.dot(user_features, item_features)\n",
        "\n",
        "        if np.isnan(relevance_score):\n",
        "            return 0.0\n",
        "\n",
        "        return float(relevance_score)\n",
        "\n",
        "    def get_top_k_recommendations(self, user_id: int, top_k: int) -> list:\n",
        "\n",
        "        if self.recs is None:\n",
        "            raise ValueError(\"Recommendations are not calculated yet.\")\n",
        "\n",
        "        relevance_scores = self.recs[user_id]\n",
        "        top_k_indices = np.argsort(relevance_scores)[-top_k:][::-1]\n",
        "\n",
        "        return top_k_indices.tolist()"
      ],
      "metadata": {
        "id": "2Ufw0PhHSJVF"
      },
      "execution_count": 22,
      "outputs": []
    },
    {
      "cell_type": "code",
      "source": [
        "mf = SVD_factorization()\n",
        "\n",
        "mf.fit(df_train)"
      ],
      "metadata": {
        "id": "U1W9l3P8SU_J"
      },
      "execution_count": 23,
      "outputs": []
    },
    {
      "cell_type": "code",
      "source": [
        "mf.get_top_k_recommendations(user_id=4338, top_k=10)"
      ],
      "metadata": {
        "id": "JpKpSLuhYHjL",
        "outputId": "fb02b87a-a4b8-4008-d5cd-d922ac343b81",
        "colab": {
          "base_uri": "https://localhost:8080/"
        }
      },
      "execution_count": 24,
      "outputs": [
        {
          "output_type": "execute_result",
          "data": {
            "text/plain": [
              "[1281, 3546, 495, 3437, 1328, 876, 1892, 1926, 4100, 987]"
            ]
          },
          "metadata": {},
          "execution_count": 24
        }
      ]
    },
    {
      "cell_type": "code",
      "source": [
        "mf.predict_relevance(4338, 3552)"
      ],
      "metadata": {
        "id": "pBBEmdapZ2aw",
        "outputId": "f05c31f1-1de4-4d78-c21f-eed81c54dcf9",
        "colab": {
          "base_uri": "https://localhost:8080/"
        }
      },
      "execution_count": 27,
      "outputs": [
        {
          "output_type": "execute_result",
          "data": {
            "text/plain": [
              "7.565110139655319e-05"
            ]
          },
          "metadata": {},
          "execution_count": 27
        }
      ]
    },
    {
      "cell_type": "markdown",
      "source": [
        "1.3. Модель NCF (колаборативная фильтрация на основе нейровнной сети)"
      ],
      "metadata": {
        "id": "NGs1A4zMCB5O"
      }
    },
    {
      "cell_type": "code",
      "source": [
        "class NCFModel:\n",
        "    def __init__(self, data, embedding_dim=8, device='cpu'):\n",
        "        self.device = device\n",
        "        self.data = data\n",
        "        self.embedding_dim = embedding_dim\n",
        "\n",
        "        self.prepare_data()\n",
        "\n",
        "        self.model = self.NCFRecommender(self.num_users, self.num_items, self.embedding_dim).to(self.device)\n",
        "        self.criterion = nn.BCELoss()\n",
        "        self.optimizer = optim.Adam(self.model.parameters(), lr=0.001)\n",
        "\n",
        "    class NCFRecommender(nn.Module):\n",
        "        def __init__(self, num_users, num_items, embedding_dim):\n",
        "            super(NCFModel.NCFRecommender, self).__init__()\n",
        "            self.user_embedding = nn.Embedding(num_users, embedding_dim)\n",
        "            self.item_embedding = nn.Embedding(num_items, embedding_dim)\n",
        "            self.fc = nn.Sequential(\n",
        "                nn.Linear(embedding_dim * 2, 64),\n",
        "                nn.ReLU(),\n",
        "                nn.Linear(64, 32),\n",
        "                nn.ReLU(),\n",
        "                nn.Linear(32, 1),\n",
        "                nn.Sigmoid()\n",
        "            )\n",
        "\n",
        "        def forward(self, user_index, item_index):\n",
        "            user_vec = self.user_embedding(user_index)\n",
        "            item_vec = self.item_embedding(item_index)\n",
        "            concat = torch.cat([user_vec, item_vec], dim=-1)\n",
        "            return self.fc(concat)\n",
        "\n",
        "    def prepare_data(self):\n",
        "        user_ids = self.data['user_id'].unique()\n",
        "        item_ids = self.data['item_id'].unique()\n",
        "\n",
        "        self.user_id_mapping = {id: idx for idx, id in enumerate(user_ids)}\n",
        "        self.item_id_mapping = {id: idx for idx, id in enumerate(item_ids)}\n",
        "\n",
        "        self.data['user_index'] = self.data['user_id'].map(self.user_id_mapping)\n",
        "        self.data['item_index'] = self.data['item_id'].map(self.item_id_mapping)\n",
        "\n",
        "        X = self.data[['user_index', 'item_index']]\n",
        "        y = self.data['target']\n",
        "\n",
        "        self.X_train, self.X_test, self.y_train, self.y_test = train_test_split(X, y, test_size=0.2, random_state=42)\n",
        "\n",
        "        self.X_train_tensor = torch.tensor(self.X_train.values, dtype=torch.long).to(self.device)\n",
        "        self.y_train_tensor = torch.tensor(self.y_train.values, dtype=torch.float32).to(self.device)\n",
        "\n",
        "        self.num_users = len(user_ids)\n",
        "        self.num_items = len(item_ids)\n",
        "\n",
        "    def fit(self, epochs=10, batch_size=32):\n",
        "        self.model.train()\n",
        "        dataset = torch.utils.data.TensorDataset(self.X_train_tensor[:, 0], self.X_train_tensor[:, 1], self.y_train_tensor)\n",
        "        dataloader = torch.utils.data.DataLoader(dataset, batch_size=batch_size, shuffle=True)\n",
        "\n",
        "        for epoch in range(epochs):\n",
        "            for user_index, item_index, target in dataloader:\n",
        "                self.optimizer.zero_grad()\n",
        "                output = self.model(user_index, item_index)\n",
        "                loss = self.criterion(output.squeeze(), target)\n",
        "                loss.backward()\n",
        "                self.optimizer.step()\n",
        "            print(f'Epoch {epoch + 1}/{epochs}, Loss: {loss.item():.4f}')\n",
        "\n",
        "    def predict_relevance(self, user_index, item_index):\n",
        "        self.model.eval()\n",
        "        with torch.no_grad():\n",
        "            user_index_tensor = torch.tensor(user_index, dtype=torch.long).to(self.device)\n",
        "            item_index_tensor = torch.tensor(item_index, dtype=torch.long).to(self.device)\n",
        "            return self.model(user_index_tensor, item_index_tensor).cpu().numpy()\n",
        "\n",
        "    def get_top_k_recommendations(self, user_index, item_indices, k=5):\n",
        "\n",
        "        scores = self.predict_relevance([user_index] * len(item_indices), item_indices)\n",
        "\n",
        "        top_k_indices = scores.flatten().argsort()[-k:][::-1]\n",
        "\n",
        "        return [item_indices[i] for i in top_k_indices]"
      ],
      "metadata": {
        "id": "vURsl_i2CGE8"
      },
      "execution_count": 29,
      "outputs": []
    },
    {
      "cell_type": "code",
      "source": [
        "ncf = NCFModel(df_train, embedding_dim=8, device='cuda' if torch.cuda.is_available() else 'cpu')\n",
        "ncf.fit(epochs=10, batch_size=2)"
      ],
      "metadata": {
        "id": "bCoYdlcODLId",
        "outputId": "c5be366a-3b51-4a8f-8b43-1370a04c56b9",
        "colab": {
          "base_uri": "https://localhost:8080/"
        }
      },
      "execution_count": 30,
      "outputs": [
        {
          "output_type": "stream",
          "name": "stdout",
          "text": [
            "Epoch 1/10, Loss: 0.5879\n",
            "Epoch 2/10, Loss: 0.4578\n",
            "Epoch 3/10, Loss: 0.5746\n",
            "Epoch 4/10, Loss: 1.0551\n",
            "Epoch 5/10, Loss: 0.4241\n",
            "Epoch 6/10, Loss: 0.6885\n",
            "Epoch 7/10, Loss: 0.0746\n",
            "Epoch 8/10, Loss: 0.3132\n",
            "Epoch 9/10, Loss: 1.2987\n",
            "Epoch 10/10, Loss: 0.4426\n"
          ]
        }
      ]
    },
    {
      "cell_type": "code",
      "source": [
        "user_id = 4338\n",
        "item_id = 3552\n",
        "user_index = ncf.user_id_mapping[user_id]\n",
        "item_index = ncf.item_id_mapping[item_id]\n",
        "\n",
        "predicted_score = ncf.predict_relevance([user_index], [item_index])\n",
        "print(f'relevance score for user {user_id} and item {item_id}: {predicted_score[0][0]}')\n",
        "\n",
        "item_indices = list(ncf.item_id_mapping.values())\n",
        "top_k_recommendations = ncf.get_top_k_recommendations(user_index, item_indices, k=3)\n",
        "print(f'top K recommendations for user {user_id}: {top_k_recommendations}')"
      ],
      "metadata": {
        "id": "vagMeezBIRsl",
        "outputId": "3554ed77-d001-4a19-e080-f9e0580df0de",
        "colab": {
          "base_uri": "https://localhost:8080/"
        }
      },
      "execution_count": 32,
      "outputs": [
        {
          "output_type": "stream",
          "name": "stdout",
          "text": [
            "relevance score for user 4338 and item 3552: 0.7109264135360718\n",
            "top K recommendations for user 4338: [500, 800, 2295]\n"
          ]
        }
      ]
    },
    {
      "cell_type": "markdown",
      "metadata": {
        "id": "aTeoyEtiWZCs"
      },
      "source": [
        "\n",
        "### 2 Этап. Генерация и сборка признаков. (max 2 балла)\n",
        "Необходимо собрать минимум 10 осмысленных (`np.radndom.rand()` не подойдет) признаков, при этом:\n",
        "1. 2 должны относиться только к сущности \"пользователь\" (например средний % просмотра фильмов у этой возрастной категории)\n",
        "2. 2 должны относиться только к сущности \"айтем\" (например средний средний % просмотра данного фильма)\n",
        "3. 6 признаков, которые показывают связь пользователя и айтема (например средний % просмотра фильмов с данным актером (айтем) у пользователей с таким же полом (пользователь)).\n",
        "\n",
        "### ВАЖНО!  \n",
        "\n",
        "1. **В датасете есть колонка `watched_prct`. Ее можно использовать для генерации признаков (например сколько пользователь в среднем смотрит фильмы), но нельзя подавать в модель, как отдельную фичу, потому что она напрямую связана с target.**\n",
        "2. **Все признаки должны быть собраны без дата лика, то есть если пользователь посмотрел фильм 10 августа, то признаки мы можем считать только на данных до 9 августа включительно.**\n",
        "\n",
        "\n",
        "### Разбалловка\n",
        "Обучение ранкера будет проходить на `valid_stage_1`, как  раз на которой мы валидировали модели, а тестировать на `test`. Поэтому есть 2 варианта сборки признаков, **реализовать нужно только 1 из них:**\n",
        "1. Для обучения собираем признаки на первый день `valid_stage_1`, а для теста на первый день `test`. Например, если `valid_stage_1` начинается 5 сентября, то все признаки мы можем собирать только по 4 сентября включительно. **(1 балл)**\n",
        "2. Признаки будем собирать честно на каждый день, то есть на 5 сентября собираем с начала до 4, на 6 сентября с начала до 5 и т.д. **(2 балла)**"
      ]
    },
    {
      "cell_type": "code",
      "source": [
        "item_features = pd.read_csv('items.csv')\n",
        "user_features = pd.read_csv('users.csv')"
      ],
      "metadata": {
        "id": "kQJh2izFPZvQ"
      },
      "execution_count": null,
      "outputs": []
    },
    {
      "cell_type": "markdown",
      "source": [],
      "metadata": {
        "id": "D1Z54_axPg1X"
      }
    },
    {
      "cell_type": "code",
      "source": [
        "user_features.head()"
      ],
      "metadata": {
        "id": "gYjhIelMPe5r"
      },
      "execution_count": null,
      "outputs": []
    },
    {
      "cell_type": "code",
      "execution_count": null,
      "metadata": {
        "id": "GhGi2EDvWZCs"
      },
      "outputs": [],
      "source": [
        "train_df_with_features = # YOUR CODE IS HERE\n",
        "test_df_with_features = # YOUR CODE IS HERE"
      ]
    },
    {
      "cell_type": "markdown",
      "metadata": {
        "id": "unxssAkSWZCs"
      },
      "source": [
        "\n",
        "### 3 Этап. Обучение финального ранкера (max 2 балла)\n",
        "Собрав все признаки из этапа 2, добавив скоры моделей из этапа 1 для каждой пары пользователь-айтем (где это возможно), пришло время обучать ранкер. В качестве ранкера можно использовать либо [xgboost](https://xgboost.readthedocs.io/en/stable/) или [catboost](https://catboost.ai/). Обучать можно как `Classfier`, так и `Ranker`, выбираем то, что лучше сработает. Обучение ранкера будет проходить на `valid_stage_1`, как  раз на которой мы валидировали модели, а тестировать на `test`, которую мы до сих пор не трогали.  Заметьте, что у нас в тесте есть холодные пользователи – те, кого не было в train и активные – те, кто был в train. Возможно их стоит обработать по отдельности (а может и нет).  \n",
        "(1 балл)\n",
        "\n",
        "После получения лучшей модели надо посмотреть на важность признаков и [shap values](https://shap.readthedocs.io/en/latest/index.html), чтобы:\n",
        "1. Интерпритировать признаки, которые вы собрали, насколько они полезные\n",
        "2. Проверить наличие ликов – если важность фичи в 100 раз больше, чем у всех остальных, то явно что-то не то  \n",
        "\n",
        "(1 балл)\n",
        "\n",
        "\n",
        "\n",
        "\n"
      ]
    },
    {
      "cell_type": "code",
      "execution_count": null,
      "metadata": {
        "id": "9156MH9rWZCs"
      },
      "outputs": [],
      "source": [
        "# YOUR FIT PREDICT CODE HERE\n",
        "model.fit()\n",
        "model.predict()"
      ]
    },
    {
      "cell_type": "markdown",
      "metadata": {
        "id": "OPj0Q0PaWZCs"
      },
      "source": [
        "\n",
        "### 4 Этап. Инференс лучшего ранкера (max 3 балла)\n",
        "\n",
        "Теперь мы хотим построить рекомендации \"на завтра\", для этого нам нужно:\n",
        "\n",
        "1. Обучить модели первого уровня на всех (train+test) данных (0.5 балла)\n",
        "2. Для каждой модели первого уровня для каждого пользователя сгененировать N кандидатов (0.5 балла)\n",
        "3. \"Склеить\" всех кандидатов для каждого пользователя (дубли выкинуть), посчитать скоры от всех моделей (0.5 балла)\n",
        "4. Собрать фичи для ваших кандидатов (теперь можем считать признаки на всех данных) (0.5 балла)\n",
        "5. Проскорить всех кандидатов бустингом и оставить k лучших (0.5 балла)\n",
        "6. Посчитать разнообразие(Diversity) и построить график от Diversity(k) (0.5 балла)\n",
        "\n",
        "\n",
        "Все гиперпараметры (N, k) определяете только Вы!"
      ]
    },
    {
      "cell_type": "code",
      "execution_count": null,
      "metadata": {
        "id": "p2I1t1N7WZCt"
      },
      "outputs": [],
      "source": [
        "# YOUR CODE HERE"
      ]
    }
  ],
  "metadata": {
    "kernelspec": {
      "display_name": "Python 3",
      "name": "python3"
    },
    "language_info": {
      "codemirror_mode": {
        "name": "ipython",
        "version": 3
      },
      "file_extension": ".py",
      "mimetype": "text/x-python",
      "name": "python",
      "nbconvert_exporter": "python",
      "pygments_lexer": "ipython3",
      "version": "3.12.3"
    },
    "colab": {
      "provenance": [],
      "gpuType": "T4"
    },
    "accelerator": "GPU"
  },
  "nbformat": 4,
  "nbformat_minor": 0
}