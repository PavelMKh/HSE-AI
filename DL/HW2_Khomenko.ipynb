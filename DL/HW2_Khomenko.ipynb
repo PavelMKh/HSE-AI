{
  "cells": [
    {
      "cell_type": "markdown",
      "metadata": {
        "id": "w35Q6hOIy4sk",
        "pycharm": {
          "name": "#%% md\n"
        }
      },
      "source": [
        "# Глубинное обучение, ИИ ВШЭ\n",
        "\n",
        "## Домашнее задание 2. Классификация при помощи CNN.\n",
        "\n",
        "### Общая информация\n",
        "\n",
        "### Оценивание и штрафы\n",
        "\n",
        "Максимально допустимая оценка за работу без бонусов — 10 баллов. Сдавать задание после указанного срока жесткого дедлайна нельзя.\n",
        "\n",
        "Сдача работы после мягкого дедлайна штрафуется ступенчато, -1 балл в сутки. Один раз за модуль студентам предоставляется возможность использовать отсрочку и сдать в жесткий дедлайн без штрафа.\n",
        "\n",
        "Задание выполняется самостоятельно. «Похожие» решения считаются плагиатом и все задействованные студенты (в том числе те, у кого списали) не могут получить за него больше 0 баллов. Если вы нашли решение какого-то из заданий (или его часть) в открытом источнике, необходимо указать ссылку на этот источник в отдельном блоке в конце вашей работы (скорее всего вы будете не единственным, кто это нашел, поэтому чтобы исключить подозрение в плагиате, необходима ссылка на источник).\n",
        "\n",
        "Неэффективная реализация кода может негативно отразиться на оценке. Также оценка может быть снижена за плохо читаемый код и плохо оформленные графики. Все ответы должны сопровождаться кодом или комментариями о том, как они были получены.\n",
        "\n",
        "Использование генеративных моделей допустимо на следующих условиях:\n",
        "- Количество кода, написанное генеративными моделями, не превышает 30%\n",
        "- Указана модель, использованная для генерации, а также промпт\n",
        "- В конце работы необходимо описать свой опыт использования генеративного ИИ для решения данного домашнего задания. Укажите как часто Вам приходилось исправлять код своими руками или просить модель что-то исправить. Было ли это быстрее, чем написать код самим?\n",
        "\n",
        "В случае невыполнения этих требований работа не оценивается и оценка за неё не превышает 0 баллов.\n",
        "\n",
        "### О задании\n",
        "\n",
        "В этом задании вам предстоит познакомиться со сверточными сетями и их обучением для классификации изображений с использованием библиотеки PyTorch.\n"
      ]
    },
    {
      "cell_type": "code",
      "execution_count": 1,
      "metadata": {
        "id": "SaACifdX2QOo",
        "pycharm": {
          "name": "#%%\n"
        }
      },
      "outputs": [],
      "source": [
        "import matplotlib.pyplot as plt\n",
        "import numpy as np\n",
        "import torch\n",
        "import torch.nn as nn\n",
        "import torch.nn.functional as F\n",
        "import torch.optim as optim\n",
        "import torchvision\n",
        "import torchvision.transforms as transforms\n",
        "from sklearn.model_selection import train_test_split"
      ]
    },
    {
      "cell_type": "markdown",
      "metadata": {
        "id": "TIXaUYM-0JFl",
        "pycharm": {
          "name": "#%% md\n"
        }
      },
      "source": [
        "## 0. Загрузка данных\n",
        "\n",
        "Работать мы будем с набором данных [CIFAR10](https://www.cs.toronto.edu/~kriz/cifar.html). CIFAR10 представляет собой набор изображений 32х32 пикселя, разделенных на 10 классов.\n",
        "\n",
        "![title](https://pytorch.org/tutorials/_images/cifar10.png)\n",
        "\n",
        "\n"
      ]
    },
    {
      "cell_type": "markdown",
      "metadata": {
        "id": "g-0EEjl_10vB",
        "pycharm": {
          "name": "#%% md\n"
        }
      },
      "source": [
        "Набор данных уже определен в <code>torchvision.datasets</code>, так что возьмем его оттуда.\n",
        "\n"
      ]
    },
    {
      "cell_type": "code",
      "execution_count": 2,
      "metadata": {
        "id": "Cbwe92dT3aPZ",
        "pycharm": {
          "name": "#%%\n"
        }
      },
      "outputs": [],
      "source": [
        "# Для тру нормализации\n",
        "# mean = [0.4914, 0.4822, 0.4465]\n",
        "# std = [0.2470, 0.2435, 0.2616]\n",
        "# Тут взяты значения как в одном из туториалов пайторча :)\n",
        "\n",
        "\n",
        "def get_cifar10_data(batch_size, transform_train):\n",
        "    torch.manual_seed(0)\n",
        "    np.random.seed(0)\n",
        "\n",
        "    transform_test = transforms.Compose(\n",
        "        [\n",
        "            transforms.ToTensor(),\n",
        "            # Переводим цвета пикселей в отрезок [-1, 1]\n",
        "            transforms.Normalize((0.5, 0.5, 0.5), (0.5, 0.5, 0.5)),\n",
        "        ]\n",
        "    )\n",
        "\n",
        "    # Загружаем данные\n",
        "    trainvalset = torchvision.datasets.CIFAR10(\n",
        "        root=\"./data\", train=True, download=True, transform=transform_train\n",
        "    )\n",
        "    testset = torchvision.datasets.CIFAR10(\n",
        "        root=\"./data\", train=False, download=True, transform=transform_test\n",
        "    )\n",
        "\n",
        "    # В датасете определено разбиение только на train и test,\n",
        "    # так что валидацию дополнительно выделяем из обучающей выборки\n",
        "    train_idx, valid_idx = train_test_split(\n",
        "        np.arange(len(trainvalset)), test_size=0.3, shuffle=True, random_state=0\n",
        "    )\n",
        "    trainset = torch.utils.data.Subset(trainvalset, train_idx)\n",
        "    valset = torch.utils.data.Subset(trainvalset, valid_idx)\n",
        "\n",
        "    train_loader = torch.utils.data.DataLoader(\n",
        "        trainset, batch_size=batch_size, shuffle=True, num_workers=2\n",
        "    )\n",
        "    val_loader = torch.utils.data.DataLoader(\n",
        "        valset, batch_size=batch_size, shuffle=False, num_workers=2\n",
        "    )\n",
        "    test_loader = torch.utils.data.DataLoader(\n",
        "        testset, batch_size=batch_size, shuffle=False, num_workers=2\n",
        "    )\n",
        "\n",
        "    return train_loader, val_loader, test_loader"
      ]
    },
    {
      "cell_type": "code",
      "execution_count": 3,
      "metadata": {
        "id": "2G2rLnN5y6Jj",
        "pycharm": {
          "name": "#%%\n"
        },
        "outputId": "b22464ed-b834-4e10-b6eb-acb6e27e80a8",
        "colab": {
          "base_uri": "https://localhost:8080/"
        }
      },
      "outputs": [
        {
          "output_type": "stream",
          "name": "stderr",
          "text": [
            "100%|██████████| 170M/170M [00:04<00:00, 39.1MB/s]\n"
          ]
        }
      ],
      "source": [
        "transform = transforms.Compose(\n",
        "    [transforms.ToTensor(), transforms.Normalize((0.5, 0.5, 0.5), (0.5, 0.5, 0.5))]\n",
        ")\n",
        "\n",
        "train_loader, val_loader, test_loader = get_cifar10_data(\n",
        "    batch_size=64, transform_train=transform\n",
        ")"
      ]
    },
    {
      "cell_type": "markdown",
      "metadata": {
        "id": "-82HWgXs77W1",
        "pycharm": {
          "name": "#%% md\n"
        }
      },
      "source": [
        "Посмотрим на изображения:"
      ]
    },
    {
      "cell_type": "code",
      "execution_count": 4,
      "metadata": {
        "colab": {
          "base_uri": "https://localhost:8080/",
          "height": 210
        },
        "id": "ACnwaC5iy6L2",
        "outputId": "5cc84562-6d7f-44be-ec34-2147bd6be4c2",
        "pycharm": {
          "name": "#%%\n"
        }
      },
      "outputs": [
        {
          "output_type": "display_data",
          "data": {
            "text/plain": [
              "<Figure size 640x480 with 1 Axes>"
            ],
            "image/png": "[encoded data removed]"
          },
          "metadata": {}
        },
        {
          "output_type": "stream",
          "name": "stdout",
          "text": [
            "ship frog horse horse\n"
          ]
        }
      ],
      "source": [
        "def imshow(img):\n",
        "    img = img / 2 + 0.5\n",
        "    npimg = img.numpy()\n",
        "    plt.imshow(np.transpose(npimg, (1, 2, 0)))\n",
        "    plt.show()\n",
        "\n",
        "\n",
        "dataiter = iter(train_loader)\n",
        "images, labels = next(dataiter)\n",
        "\n",
        "imshow(torchvision.utils.make_grid(images[:4]))\n",
        "\n",
        "classes = (\n",
        "    \"plane\",\n",
        "    \"car\",\n",
        "    \"bird\",\n",
        "    \"cat\",\n",
        "    \"deer\",\n",
        "    \"dog\",\n",
        "    \"frog\",\n",
        "    \"horse\",\n",
        "    \"ship\",\n",
        "    \"truck\",\n",
        ")\n",
        "print(*[classes[labels[i]] for i in range(4)])"
      ]
    },
    {
      "cell_type": "markdown",
      "metadata": {
        "id": "KFDilng29YZ_",
        "pycharm": {
          "name": "#%% md\n"
        }
      },
      "source": [
        "## 1. Задание сверточной сети (3 балла)"
      ]
    },
    {
      "cell_type": "markdown",
      "metadata": {
        "id": "OX7Ul8YbYdQR",
        "pycharm": {
          "name": "#%% md\n"
        }
      },
      "source": [
        "Теперь нам нужно задать сверточную нейронную сеть, которую мы будем обучать классифицировать изображения.\n",
        "\n",
        "Используем сеть, основанную на одном блоке архитектуры, похожей на ResNet. Обратите внимание, это не ResNet 1 в 1.\n",
        "\n",
        "<img src=\"https://i.ibb.co/2hg962h/basic-block.png\" width=\"500\"/>\n",
        "\n",
        "__Указания:__\n",
        "\n",
        "- Все сверточные слои должны иметь 32 выходных канала, а также не должны изменять ширину и высоту изображения.\n",
        "- Выход блока сократите до размерности 32х4х4, применив average pooling.\n",
        "- Для получения итоговых логитов, распрямите выход пулинга в вектор из 512 элементов, а затем пропустите его через линейный слой."
      ]
    },
    {
      "cell_type": "markdown",
      "metadata": {
        "id": "sbyIylT9O9Dr",
        "pycharm": {
          "name": "#%% md\n"
        }
      },
      "source": [
        "**Задание 1.1 (3 балла).**\n",
        "\n",
        "Определите архитектуру сети соответственно схеме и указаниям выше.\n",
        "\n",
        "Ключевые слова: <code>Conv2d</code>, <code>BatchNorm2d</code>, <code>AvgPool2d</code>."
      ]
    },
    {
      "cell_type": "code",
      "source": [
        "class BasicBlockNet(nn.Module):\n",
        "    def __init__(self):\n",
        "        super(BasicBlockNet, self).__init__()\n",
        "\n",
        "        self.conv1 = nn.Conv2d(in_channels=3, out_channels=32, kernel_size=3, padding=1)\n",
        "        self.bn1 = nn.BatchNorm2d(num_features=32)\n",
        "        self.relu = nn.ReLU()\n",
        "        self.conv2 = nn.Conv2d(in_channels=32, out_channels=32, kernel_size=3, padding=1)\n",
        "        self.bn2 = nn.BatchNorm2d(num_features=32)\n",
        "\n",
        "        self.conv_shortcut = nn.Conv2d(in_channels=3, out_channels=32, kernel_size=1)\n",
        "\n",
        "        self.avgpool = nn.AvgPool2d(kernel_size=8)\n",
        "        self.fc = nn.Linear(in_features=512, out_features=10)\n",
        "\n",
        "    def forward(self, x):\n",
        "        out_1 = self.conv1(x)\n",
        "        out_1 = self.bn1(out_1)\n",
        "        out_1 = self.relu(out_1)\n",
        "\n",
        "        out_1 = self.conv2(out_1)\n",
        "        out_1 = self.bn2(out_1)\n",
        "\n",
        "        out_2 = self.conv_shortcut(x)\n",
        "\n",
        "        out = out_1 + out_2\n",
        "        out = self.relu(out)\n",
        "\n",
        "        out = self.avgpool(out)\n",
        "        out = torch.flatten(out, 1)\n",
        "        out = self.fc(out)\n",
        "\n",
        "        return out"
      ],
      "metadata": {
        "id": "R8jD52lxX7V4"
      },
      "execution_count": 5,
      "outputs": []
    },
    {
      "cell_type": "code",
      "execution_count": 6,
      "metadata": {
        "id": "FI4BQg7Ky6Pw",
        "pycharm": {
          "name": "#%%\n"
        },
        "colab": {
          "base_uri": "https://localhost:8080/"
        },
        "outputId": "96da23b9-88ce-4c4d-afdd-216ae0ac7dec"
      },
      "outputs": [
        {
          "output_type": "execute_result",
          "data": {
            "text/plain": [
              "BasicBlockNet(\n",
              "  (conv1): Conv2d(3, 32, kernel_size=(3, 3), stride=(1, 1), padding=(1, 1))\n",
              "  (bn1): BatchNorm2d(32, eps=1e-05, momentum=0.1, affine=True, track_running_stats=True)\n",
              "  (relu): ReLU()\n",
              "  (conv2): Conv2d(32, 32, kernel_size=(3, 3), stride=(1, 1), padding=(1, 1))\n",
              "  (bn2): BatchNorm2d(32, eps=1e-05, momentum=0.1, affine=True, track_running_stats=True)\n",
              "  (conv_shortcut): Conv2d(3, 32, kernel_size=(1, 1), stride=(1, 1))\n",
              "  (avgpool): AvgPool2d(kernel_size=8, stride=8, padding=0)\n",
              "  (fc): Linear(in_features=512, out_features=10, bias=True)\n",
              ")"
            ]
          },
          "metadata": {},
          "execution_count": 6
        }
      ],
      "source": [
        "net = BasicBlockNet()\n",
        "net"
      ]
    },
    {
      "cell_type": "markdown",
      "metadata": {
        "id": "igPoGZEub8d3",
        "pycharm": {
          "name": "#%% md\n"
        }
      },
      "source": [
        "Проверим, что выход сети имеет корректную размерность:"
      ]
    },
    {
      "cell_type": "code",
      "execution_count": null,
      "metadata": {
        "id": "cCIzFUpJ_Agw",
        "pycharm": {
          "name": "#%%\n"
        }
      },
      "outputs": [],
      "source": [
        "assert net(torch.zeros((10, 3, 32, 32))).shape == (10, 10)"
      ]
    },
    {
      "cell_type": "markdown",
      "metadata": {
        "id": "08osX622cDGz",
        "pycharm": {
          "name": "#%% md\n"
        }
      },
      "source": [
        "Чтобы проводить вычисления на GPU, в PyTorch необходимо руками перекладывать объекты, с которыми вы хотите проводить вычисления, на графический ускоритель. Это делается следующим образрм:"
      ]
    },
    {
      "cell_type": "code",
      "execution_count": 7,
      "metadata": {
        "id": "56hDOMCFcDZX",
        "pycharm": {
          "name": "#%%\n"
        },
        "colab": {
          "base_uri": "https://localhost:8080/"
        },
        "outputId": "8d9f682e-1ac6-45bf-e078-0e49644819ba"
      },
      "outputs": [
        {
          "output_type": "stream",
          "name": "stdout",
          "text": [
            "cuda:0\n"
          ]
        }
      ],
      "source": [
        "device = torch.device(\"cuda:0\" if torch.cuda.is_available() else \"cpu\")\n",
        "print(device)"
      ]
    },
    {
      "cell_type": "code",
      "execution_count": 8,
      "metadata": {
        "id": "ohnDWbp0qbtC",
        "pycharm": {
          "name": "#%%\n"
        }
      },
      "outputs": [],
      "source": [
        "net = net.to(device)"
      ]
    },
    {
      "cell_type": "markdown",
      "metadata": {
        "id": "H_bOlTVUp5QF",
        "pycharm": {
          "name": "#%% md\n"
        }
      },
      "source": [
        "Подключение GPU в google.colab:\n",
        "\n",
        "**Среда выполнения** -> **Сменить среду выполнения** -> **Аппаратный ускоритель** -> **GPU**"
      ]
    },
    {
      "cell_type": "markdown",
      "metadata": {
        "id": "AGi6XX_7_Bgg",
        "pycharm": {
          "name": "#%% md\n"
        }
      },
      "source": [
        "## 2. Обучение и тестирование модели (3 балла)"
      ]
    },
    {
      "cell_type": "markdown",
      "metadata": {
        "id": "0agj_MQoO9Ds",
        "pycharm": {
          "name": "#%% md\n"
        }
      },
      "source": [
        "**Задание 2.1 (2 балла).** Переходим к обучению модели. Заполните пропуски в функциях <code>test</code> и <code>train_epoch</code>. В качестве функции потерь будем использовать [кросс-энтропию](https://pytorch.org/docs/stable/generated/torch.nn.functional.cross_entropy.html), а в качестве метрики качества accuracy."
      ]
    },
    {
      "cell_type": "code",
      "execution_count": 21,
      "metadata": {
        "id": "g8gsPPRIevDS",
        "pycharm": {
          "name": "#%%\n"
        }
      },
      "outputs": [],
      "source": [
        "def test(model, loader):\n",
        "    loss_log = []\n",
        "    acc_log = []\n",
        "    model.eval()\n",
        "\n",
        "    with torch.no_grad():\n",
        "        for data, target in loader:\n",
        "            data, target = data.to(device), target.to(device)\n",
        "\n",
        "            output = model(data)\n",
        "            loss = torch.nn.functional.cross_entropy(output, target)\n",
        "\n",
        "            loss_log.append(loss.item())\n",
        "\n",
        "            preds = output.argmax(dim=1)\n",
        "            acc = (preds == target).float().mean()\n",
        "            acc_log.append(acc.item())\n",
        "\n",
        "    return np.mean(loss_log), np.mean(acc_log)\n",
        "\n",
        "\n",
        "def train_epoch(model, optimizer, train_loader):\n",
        "    loss_log = []\n",
        "    acc_log = []\n",
        "    model.train()\n",
        "\n",
        "    for data, target in train_loader:\n",
        "        data, target = data.to(device), target.to(device)\n",
        "\n",
        "        optimizer.zero_grad()\n",
        "        output = model(data)\n",
        "        loss = torch.nn.functional.cross_entropy(output, target)\n",
        "\n",
        "        loss.backward()\n",
        "        optimizer.step()\n",
        "\n",
        "        loss_log.append(loss.item())\n",
        "\n",
        "        preds = output.argmax(dim=1)\n",
        "        acc = (preds == target).float().mean()\n",
        "        acc_log.append(acc.item())\n",
        "\n",
        "    return loss_log, acc_log\n",
        "\n",
        "\n",
        "def train(model, optimizer, n_epochs, train_loader, val_loader, scheduler=None):\n",
        "    train_loss_log, train_acc_log, val_loss_log, val_acc_log = [], [], [], []\n",
        "\n",
        "    for epoch in range(n_epochs):\n",
        "        train_loss, train_acc = train_epoch(model, optimizer, train_loader)\n",
        "        val_loss, val_acc = test(model, val_loader)\n",
        "\n",
        "        train_loss_log.extend(train_loss)\n",
        "        train_acc_log.extend(train_acc)\n",
        "\n",
        "        val_loss_log.append(val_loss)\n",
        "        val_acc_log.append(val_acc)\n",
        "\n",
        "        print(f\"Epoch {epoch}\")\n",
        "        print(f\" train loss: {np.mean(train_loss)}, train acc: {np.mean(train_acc)}\")\n",
        "        print(f\" val loss: {val_loss}, val acc: {val_acc}\\n\")\n",
        "\n",
        "        if scheduler is not None:\n",
        "            scheduler.step()\n",
        "\n",
        "    return train_loss_log, train_acc_log, val_loss_log, val_acc_log"
      ]
    },
    {
      "cell_type": "markdown",
      "metadata": {
        "id": "iSOqk_CAO9Dt",
        "pycharm": {
          "name": "#%% md\n"
        }
      },
      "source": [
        "Запустим обучение модели. В качестве оптимизатора будем использовать стохастический градиентный спуск, который является де-факто стандартом в задачах компьютерного зрения (наравне с <code>Adam</code>).\n",
        "\n",
        "__Замечание:__ Для достижения наилучшего качества в нашем случае потребуется обучать модель несколько сотен эпох. Однако в целях экономии вашего времени и сил, во всех экспериментах мы ограничимся 20 эпохами."
      ]
    },
    {
      "cell_type": "code",
      "execution_count": null,
      "metadata": {
        "id": "MKZBGhuAgMDu",
        "pycharm": {
          "name": "#%%\n"
        },
        "scrolled": true,
        "colab": {
          "base_uri": "https://localhost:8080/"
        },
        "outputId": "639ad455-30f3-455d-b0c2-4dc2fd7e9ca8"
      },
      "outputs": [
        {
          "output_type": "stream",
          "name": "stdout",
          "text": [
            "Epoch 0\n",
            " train loss: 1.4626788326983478, train acc: 0.4791721076154622\n",
            " val loss: 1.1944007247052295, val acc: 0.5773714539852548\n",
            "\n",
            "Epoch 1\n",
            " train loss: 1.1575028348230574, train acc: 0.5939581157738374\n",
            " val loss: 1.1196494105014396, val acc: 0.6148049646235527\n",
            "\n",
            "Epoch 2\n",
            " train loss: 1.0478028038302114, train acc: 0.6364463633113631\n",
            " val loss: 1.1025294674203752, val acc: 0.621099290949233\n",
            "\n",
            "Epoch 3\n",
            " train loss: 0.990898693610371, train acc: 0.6562785648994516\n",
            " val loss: 1.0296792121643716, val acc: 0.6422650710065314\n",
            "\n",
            "Epoch 4\n",
            " train loss: 0.9529578308736603, train acc: 0.6690511557476176\n",
            " val loss: 0.9941641959738224, val acc: 0.6552083335024246\n",
            "\n",
            "Epoch 5\n",
            " train loss: 0.9298792477063766, train acc: 0.6765433207726348\n",
            " val loss: 0.9410156602555133, val acc: 0.6769503547790202\n",
            "\n",
            "Epoch 6\n",
            " train loss: 0.9034947785642509, train acc: 0.6844517172363602\n",
            " val loss: 1.0847790139786742, val acc: 0.6355718085106383\n",
            "\n",
            "Epoch 7\n",
            " train loss: 0.8826577816519484, train acc: 0.6923845978062158\n",
            " val loss: 0.9243662387766737, val acc: 0.681626773134191\n",
            "\n",
            "Epoch 8\n",
            " train loss: 0.8619869977944076, train acc: 0.6999583769541989\n",
            " val loss: 0.9574130730426058, val acc: 0.6696365249917863\n",
            "\n",
            "Epoch 9\n",
            " train loss: 0.8489988166736728, train acc: 0.7075280753088607\n",
            " val loss: 0.9047933271590699, val acc: 0.6879875888215735\n",
            "\n",
            "Epoch 10\n",
            " train loss: 0.8368643739650629, train acc: 0.7083074889627627\n",
            " val loss: 0.9261152389201712, val acc: 0.6859485816448293\n",
            "\n",
            "Epoch 11\n",
            " train loss: 0.8263885145104564, train acc: 0.7111721402766282\n",
            " val loss: 0.9003219883492652, val acc: 0.6837322696726373\n",
            "\n",
            "Epoch 12\n",
            " train loss: 0.8148142676902645, train acc: 0.7177665513655821\n",
            " val loss: 0.9138354075715897, val acc: 0.6912012412192974\n",
            "\n",
            "Epoch 13\n",
            " train loss: 0.8050912121205269, train acc: 0.7198558697099006\n",
            " val loss: 0.9177280958662641, val acc: 0.6876108156873825\n",
            "\n",
            "Epoch 14\n",
            " train loss: 0.7945883843428038, train acc: 0.7225205668365715\n",
            " val loss: 0.8561766978274, val acc: 0.7039893617021277\n",
            "\n",
            "Epoch 15\n",
            " train loss: 0.7838421422559121, train acc: 0.7313267172363602\n",
            " val loss: 0.8731313524094034, val acc: 0.7001329787234043\n",
            "\n",
            "Epoch 16\n",
            " train loss: 0.784697919430201, train acc: 0.7268583507598863\n",
            " val loss: 0.8615766570923177, val acc: 0.7059618795171697\n",
            "\n",
            "Epoch 17\n",
            " train loss: 0.7694760356132465, train acc: 0.7306411596495229\n",
            " val loss: 0.9079634012059963, val acc: 0.6982934398854033\n",
            "\n",
            "Epoch 18\n",
            " train loss: 0.7621151312395685, train acc: 0.734158722966419\n",
            " val loss: 0.9515872673785433, val acc: 0.686347517815042\n",
            "\n",
            "Epoch 19\n",
            " train loss: 0.7552811387361077, train acc: 0.7366683534338008\n",
            " val loss: 0.8775560744265293, val acc: 0.7046542553191489\n",
            "\n"
          ]
        }
      ],
      "source": [
        "optimizer = optim.SGD(net.parameters(), lr=0.1, momentum=0.9)\n",
        "train_loss_log, train_acc_log, val_loss_log, val_acc_log = train(\n",
        "    net, optimizer, 20, train_loader, val_loader\n",
        ")"
      ]
    },
    {
      "cell_type": "markdown",
      "metadata": {
        "id": "gUb1jQW8O9Dt",
        "pycharm": {
          "name": "#%% md\n"
        }
      },
      "source": [
        "Посчитайте точность на тестовой выборке:"
      ]
    },
    {
      "cell_type": "code",
      "execution_count": null,
      "metadata": {
        "id": "Jyuc55B9_Amc",
        "pycharm": {
          "name": "#%%\n"
        },
        "outputId": "31b24bf1-9c42-47b8-d28f-598520ba029b",
        "colab": {
          "base_uri": "https://localhost:8080/"
        }
      },
      "outputs": [
        {
          "output_type": "stream",
          "name": "stdout",
          "text": [
            "Test Loss: 0.9028025759253532, Test Accuracy: 0.6905851910828026\n"
          ]
        }
      ],
      "source": [
        "net.eval()\n",
        "test_loss, test_accuracy = test(net, test_loader)\n",
        "\n",
        "print(f\"Test Loss: {test_loss}, Test Accuracy: {test_accuracy}\")"
      ]
    },
    {
      "cell_type": "markdown",
      "metadata": {
        "id": "zM38Q9fwO9Dt",
        "pycharm": {
          "name": "#%% md\n"
        }
      },
      "source": [
        "Если вы все сделали правильно, у вас должна была получиться точность $\\ge 67\\%$."
      ]
    },
    {
      "cell_type": "markdown",
      "metadata": {
        "id": "DHFNSKcoO9Dt",
        "pycharm": {
          "name": "#%% md\n"
        }
      },
      "source": [
        "**Задание 2.2 (1 балл).** Постройте графики зависимости функции потерь и точности классификации от номера шага оптимизатора. На каждом графике расположите данные и для обучающей и для валидационной выборки, итого у вас должно получиться два графика. Обратите внимание, что на обучающей выборке эти данные считаются по каждому батчу, на валидационной же они считаются по всей выборке раз в эпоху."
      ]
    },
    {
      "cell_type": "code",
      "execution_count": null,
      "metadata": {
        "id": "LzIP0tGLO9Dt",
        "pycharm": {
          "name": "#%%\n"
        },
        "outputId": "1de62eb4-c42f-4edf-9c71-3396bf5a5c56",
        "colab": {
          "base_uri": "https://localhost:8080/",
          "height": 1000
        }
      },
      "outputs": [
        {
          "output_type": "stream",
          "name": "stdout",
          "text": [
            "Epoch 0\n",
            " train loss: 0.6419423616455504, train acc: 0.7746841539194641\n",
            " val loss: 0.8738841378942449, val acc: 0.7100398936170212\n",
            "\n",
            "Epoch 1\n",
            " train loss: 0.6374944708356037, train acc: 0.7749738835983346\n",
            " val loss: 0.859724491961459, val acc: 0.7125664893617021\n",
            "\n",
            "Epoch 2\n",
            " train loss: 0.6409083188015975, train acc: 0.7773978193673616\n",
            " val loss: 0.8514637344695152, val acc: 0.7138076241980208\n",
            "\n",
            "Epoch 3\n",
            " train loss: 0.6380899179134334, train acc: 0.7761287216294618\n",
            " val loss: 0.8615843833761012, val acc: 0.7096852837724889\n",
            "\n",
            "Epoch 4\n",
            " train loss: 0.6307726035497306, train acc: 0.7780711347921675\n",
            " val loss: 0.8929330171422756, val acc: 0.7091090425531915\n",
            "\n",
            "Epoch 5\n",
            " train loss: 0.6265785967628088, train acc: 0.7807031862260655\n",
            " val loss: 0.8498578112176124, val acc: 0.7217420212765957\n",
            "\n",
            "Epoch 6\n",
            " train loss: 0.6252525290252957, train acc: 0.7798339971894538\n",
            " val loss: 0.8714073447470969, val acc: 0.7147828015875309\n",
            "\n",
            "Epoch 7\n",
            " train loss: 0.6240116884111269, train acc: 0.7827598589865773\n",
            " val loss: 0.8675410247863607, val acc: 0.7142508866939139\n",
            "\n",
            "Epoch 8\n",
            " train loss: 0.6298917365793336, train acc: 0.7806419757428074\n",
            " val loss: 0.8555931100185882, val acc: 0.7192597518575953\n",
            "\n",
            "Epoch 9\n",
            " train loss: 0.6194391157444042, train acc: 0.7832495430705753\n",
            " val loss: 0.8757047156070141, val acc: 0.715625\n",
            "\n",
            "Epoch 10\n",
            " train loss: 0.6210349886465334, train acc: 0.7826945678189642\n",
            " val loss: 0.8545211179459349, val acc: 0.7211657803109351\n",
            "\n",
            "Epoch 11\n",
            " train loss: 0.6179365201885565, train acc: 0.7816213438018367\n",
            " val loss: 0.8863629608712298, val acc: 0.7119015957446808\n",
            "\n",
            "Epoch 12\n",
            " train loss: 0.6096878416795399, train acc: 0.7871710956641481\n",
            " val loss: 0.8772294901786967, val acc: 0.7132313829787233\n",
            "\n",
            "Epoch 13\n",
            " train loss: 0.6081976574016446, train acc: 0.7865181836611174\n",
            " val loss: 0.8921517341694933, val acc: 0.7119459220703612\n",
            "\n",
            "Epoch 14\n",
            " train loss: 0.6075445607549748, train acc: 0.7870241904825354\n",
            " val loss: 0.8487428471128992, val acc: 0.722406914893617\n",
            "\n",
            "Epoch 15\n",
            " train loss: 0.6025224444635171, train acc: 0.7899010838494658\n",
            " val loss: 0.8699465652729602, val acc: 0.7132092199427016\n",
            "\n",
            "Epoch 16\n",
            " train loss: 0.606760864665347, train acc: 0.7872159834099862\n",
            " val loss: 0.8413069284976797, val acc: 0.7212322696726373\n",
            "\n",
            "Epoch 17\n",
            " train loss: 0.6027339296977307, train acc: 0.7882320776282107\n",
            " val loss: 0.8910924198779654, val acc: 0.7141400710065314\n",
            "\n",
            "Epoch 18\n",
            " train loss: 0.6035000104354984, train acc: 0.7880647689158563\n",
            " val loss: 0.8673883537028698, val acc: 0.7136746454746166\n",
            "\n",
            "Epoch 19\n",
            " train loss: 0.6004446148872375, train acc: 0.7882769653740487\n",
            " val loss: 0.8675375363928206, val acc: 0.7209884752618506\n",
            "\n"
          ]
        },
        {
          "output_type": "display_data",
          "data": {
            "text/plain": [
              "<Figure size 1200x500 with 2 Axes>"
            ],
            "image/png": "[encoded data removed]"
          },
          "metadata": {}
        }
      ],
      "source": [
        "n_epochs = 20\n",
        "\n",
        "def plot_metrics(train_loss_log, train_acc_log, val_loss_log, val_acc_log):\n",
        "    steps = np.arange(1, len(train_loss_log) + 1)\n",
        "\n",
        "    plt.figure(figsize=(12, 5))\n",
        "\n",
        "    plt.subplot(1, 2, 1)\n",
        "    plt.plot(steps, train_loss_log, label='loss (train)', color='blue')\n",
        "\n",
        "    val_steps = np.linspace(1, len(train_loss_log), len(val_loss_log))\n",
        "    plt.plot(val_steps, val_loss_log, label='loss (val)', color='orange')\n",
        "    plt.title('loss')\n",
        "    plt.xlabel('шаг')\n",
        "    plt.ylabel('loss')\n",
        "    plt.legend()\n",
        "\n",
        "    plt.subplot(1, 2, 2)\n",
        "    plt.plot(steps, train_acc_log, label='Accuracy (train)', color='blue')\n",
        "\n",
        "    plt.plot(val_steps, val_acc_log, label='Accuracy (val)', color='orange')\n",
        "    plt.title('Accuracy')\n",
        "    plt.xlabel('шаг')\n",
        "    plt.ylabel('Accuracy')\n",
        "    plt.legend()\n",
        "\n",
        "    plt.tight_layout()\n",
        "    plt.show()\n",
        "\n",
        "train_loss_log, train_acc_log, val_loss_log, val_acc_log = train(net, optimizer, 20, train_loader, val_loader)\n",
        "\n",
        "plot_metrics(train_loss_log, train_acc_log, val_loss_log, val_acc_log)"
      ]
    },
    {
      "cell_type": "markdown",
      "metadata": {
        "id": "_ttOJPj-O9Dt",
        "pycharm": {
          "name": "#%% md\n"
        }
      },
      "source": [
        "## 3. Расписание длины шага (2 балла)"
      ]
    },
    {
      "cell_type": "markdown",
      "metadata": {
        "id": "qiz3JstuO9Dt",
        "pycharm": {
          "name": "#%% md\n"
        }
      },
      "source": [
        "С курса \"Машинное обучение 1\" вы уже должны знать, что сходимость стохастического градиентного спуска мы можем теоретически гарантировать только если будем определенным образом со временем уменьшать длину шага. На практике при обучении нейронных сетей такая техника оказывается очень полезной, однако теоретически обоснованными способами уменьшения длины шага фантазия не ограничивается.\n",
        "\n",
        "Одним из простейших способов является кусочно постоянная функция: на нескольких фиксированных эпохах уменьшаем длину шага в константу раз."
      ]
    },
    {
      "cell_type": "code",
      "execution_count": null,
      "metadata": {
        "id": "V2Z0OT3nO9Du",
        "pycharm": {
          "name": "#%%\n"
        },
        "colab": {
          "base_uri": "https://localhost:8080/"
        },
        "outputId": "c77b3cb5-b428-4329-cd5f-83774e90754d"
      },
      "outputs": [
        {
          "output_type": "stream",
          "name": "stdout",
          "text": [
            "Epoch 0\n",
            " train loss: 1.516011006217552, train acc: 0.4625799817184644\n",
            " val loss: 1.2581522266915504, val acc: 0.5600177305809995\n",
            "\n",
            "Epoch 1\n",
            " train loss: 1.202969584539124, train acc: 0.5776638809244201\n",
            " val loss: 1.0809013419962943, val acc: 0.6219414893617021\n",
            "\n",
            "Epoch 2\n",
            " train loss: 1.0662412203208185, train acc: 0.6298805171218607\n",
            " val loss: 1.074582641936363, val acc: 0.6278590425531915\n",
            "\n",
            "Epoch 3\n",
            " train loss: 1.0038715944211705, train acc: 0.6526508226691042\n",
            " val loss: 1.0372825995404669, val acc: 0.6396719859001484\n",
            "\n",
            "Epoch 4\n",
            " train loss: 0.962783728155837, train acc: 0.6653091539194641\n",
            " val loss: 0.9878803605728961, val acc: 0.6655585106382979\n",
            "\n",
            "Epoch 5\n",
            " train loss: 0.930332325821167, train acc: 0.6791304844606947\n",
            " val loss: 0.9716297322131218, val acc: 0.6632757093044037\n",
            "\n",
            "Epoch 6\n",
            " train loss: 0.9113012502136788, train acc: 0.6828561635514282\n",
            " val loss: 0.9770366798055933, val acc: 0.6634751773895101\n",
            "\n",
            "Epoch 7\n",
            " train loss: 0.8927397585220267, train acc: 0.690372812791542\n",
            " val loss: 0.9749008343574849, val acc: 0.6653147164811479\n",
            "\n",
            "Epoch 8\n",
            " train loss: 0.8773059077846939, train acc: 0.6974038587409792\n",
            " val loss: 0.9776097865814858, val acc: 0.6630540781832756\n",
            "\n",
            "Epoch 9\n",
            " train loss: 0.8550680524906249, train acc: 0.7004398995605203\n",
            " val loss: 0.9162718438087626, val acc: 0.6902703901554675\n",
            "\n",
            "Epoch 10\n",
            " train loss: 0.7567466396627304, train acc: 0.7392800013369573\n",
            " val loss: 0.8460740178189379, val acc: 0.7140514186088075\n",
            "\n",
            "Epoch 11\n",
            " train loss: 0.7409486020940749, train acc: 0.7460417211382655\n",
            " val loss: 0.8401678950228589, val acc: 0.714849290949233\n",
            "\n",
            "Epoch 12\n",
            " train loss: 0.7317643415666367, train acc: 0.7489022917677759\n",
            " val loss: 0.839927059538821, val acc: 0.7145168441407224\n",
            "\n",
            "Epoch 13\n",
            " train loss: 0.72853224281855, train acc: 0.7498775790334837\n",
            " val loss: 0.8334250782398467, val acc: 0.716910461161999\n",
            "\n",
            "Epoch 14\n",
            " train loss: 0.7233244594751808, train acc: 0.7520158658079953\n",
            " val loss: 0.8325520072845702, val acc: 0.7152260638297873\n",
            "\n",
            "Epoch 15\n",
            " train loss: 0.7094864211091175, train acc: 0.757455438865822\n",
            " val loss: 0.8270071289640792, val acc: 0.7188829787234042\n",
            "\n",
            "Epoch 16\n",
            " train loss: 0.7067929963960944, train acc: 0.7573738248518224\n",
            " val loss: 0.8277772306127751, val acc: 0.717974290949233\n",
            "\n",
            "Epoch 17\n",
            " train loss: 0.7058252971721524, train acc: 0.7588183925618202\n",
            " val loss: 0.8264502839839205, val acc: 0.7176418441407224\n",
            "\n",
            "Epoch 18\n",
            " train loss: 0.7051803982345016, train acc: 0.7589204101065613\n",
            " val loss: 0.8262492802548915, val acc: 0.7188386526513607\n",
            "\n",
            "Epoch 19\n",
            " train loss: 0.704934787325275, train acc: 0.7591734135172703\n",
            " val loss: 0.8265972996011693, val acc: 0.7189716313747649\n",
            "\n"
          ]
        }
      ],
      "source": [
        "net = BasicBlockNet().to(device)\n",
        "optimizer = optim.SGD(net.parameters(), lr=0.1, momentum=0.9)\n",
        "scheduler = optim.lr_scheduler.MultiStepLR(optimizer, milestones=[10, 15], gamma=0.1)\n",
        "tr_loss_log, tr_acc_log, val_loss_log, val_acc_log = train(\n",
        "    net, optimizer, 20, train_loader, val_loader, scheduler\n",
        ")"
      ]
    },
    {
      "cell_type": "markdown",
      "metadata": {
        "id": "5Xc76KvzO9Du",
        "pycharm": {
          "name": "#%% md\n"
        }
      },
      "source": [
        "Посчитайте точность на тестовой выборке:"
      ]
    },
    {
      "cell_type": "code",
      "execution_count": null,
      "metadata": {
        "id": "1AjiYhKqO9Du",
        "pycharm": {
          "name": "#%%\n"
        },
        "colab": {
          "base_uri": "https://localhost:8080/"
        },
        "outputId": "6f2dfc1f-584e-4f3f-f9d4-106c218b22a1"
      },
      "outputs": [
        {
          "output_type": "stream",
          "name": "stdout",
          "text": [
            "Test Loss: 0.8421233611501706, Test Accuracy: 0.7104896496815286\n"
          ]
        }
      ],
      "source": [
        "net.eval()\n",
        "test_loss, test_accuracy = test(net, test_loader)\n",
        "\n",
        "print(f\"Test Loss: {test_loss}, Test Accuracy: {test_accuracy}\")"
      ]
    },
    {
      "cell_type": "markdown",
      "source": [
        "__Комментарий:__ Уменьшение шага помоглу лучшить метрики. Accuracy на тестовой выборке вырос (с 0.69 до 0.71)"
      ],
      "metadata": {
        "id": "RrEQzaMcgfzH"
      }
    },
    {
      "cell_type": "markdown",
      "metadata": {
        "id": "yE0dgLYrO9Du",
        "pycharm": {
          "name": "#%% md\n"
        }
      },
      "source": [
        "**Задание 3.0 (0.5 баллов).** Здесь может возникнуть вопрос: а что будет, если мы не будем уменьшать длину шага в процессе обучения, а сразу возьмем констатную, равную значению нашей кусочно-постоянной функции на последних эпохах, то есть $0.001$ в нашем случае. Запустите обучение и проверьте, что в таком случае мы получим худшее качество на тестовой выборке."
      ]
    },
    {
      "cell_type": "code",
      "execution_count": 10,
      "metadata": {
        "id": "qZ2iB-LBO9Du",
        "pycharm": {
          "name": "#%%\n"
        },
        "colab": {
          "base_uri": "https://localhost:8080/"
        },
        "outputId": "6c9f368d-f5f9-4982-9c53-1b94564e79b8"
      },
      "outputs": [
        {
          "output_type": "stream",
          "name": "stdout",
          "text": [
            "Epoch 0\n",
            " train loss: 1.8112980648194197, train acc: 0.36281503009621796\n",
            " val loss: 1.6004154976378095, val acc: 0.43947251781504204\n",
            "\n",
            "Epoch 1\n",
            " train loss: 1.5151641214133618, train acc: 0.4695253330785134\n",
            " val loss: 1.4359950572886366, val acc: 0.49155585106382976\n",
            "\n",
            "Epoch 2\n",
            " train loss: 1.393401203469341, train acc: 0.5142579656196469\n",
            " val loss: 1.342971546091932, val acc: 0.5267952127659574\n",
            "\n",
            "Epoch 3\n",
            " train loss: 1.3242709017758831, train acc: 0.5337759533137683\n",
            " val loss: 1.312079091274992, val acc: 0.5379654255319148\n",
            "\n",
            "Epoch 4\n",
            " train loss: 1.2699558667334603, train acc: 0.554334519550177\n",
            " val loss: 1.2651016184624204, val acc: 0.5582003546522019\n",
            "\n",
            "Epoch 5\n",
            " train loss: 1.227771856231271, train acc: 0.5698248564216293\n",
            " val loss: 1.2535956189987507, val acc: 0.5573581561129144\n",
            "\n",
            "Epoch 6\n",
            " train loss: 1.1857510174214294, train acc: 0.5877676939615601\n",
            " val loss: 1.1924775225050905, val acc: 0.5822251773895102\n",
            "\n",
            "Epoch 7\n",
            " train loss: 1.157618075336791, train acc: 0.598022492864668\n",
            " val loss: 1.1479465334973438, val acc: 0.5976950355032657\n",
            "\n",
            "Epoch 8\n",
            " train loss: 1.1219301546295557, train acc: 0.6084282776337437\n",
            " val loss: 1.1055644928140844, val acc: 0.6148714539852548\n",
            "\n",
            "Epoch 9\n",
            " train loss: 1.0965767413432246, train acc: 0.6175486420364659\n",
            " val loss: 1.0752801420840812, val acc: 0.6264184398854032\n",
            "\n",
            "Epoch 10\n",
            " train loss: 1.0691990331496355, train acc: 0.62710972187506\n",
            " val loss: 1.0633136952177007, val acc: 0.6319592199427017\n",
            "\n",
            "Epoch 11\n",
            " train loss: 1.0502375215019562, train acc: 0.6352547989031079\n",
            " val loss: 1.04954332113266, val acc: 0.6359929078436912\n",
            "\n",
            "Epoch 12\n",
            " train loss: 1.0261029494309992, train acc: 0.6440119809816699\n",
            " val loss: 1.0307699687937473, val acc: 0.6416223404255319\n",
            "\n",
            "Epoch 13\n",
            " train loss: 1.0079394465608613, train acc: 0.6517979564788791\n",
            " val loss: 1.0340231499773391, val acc: 0.6387632978723404\n",
            "\n",
            "Epoch 14\n",
            " train loss: 0.9875971210722078, train acc: 0.6580781535648994\n",
            " val loss: 0.9989074174393999, val acc: 0.649423758907521\n",
            "\n",
            "Epoch 15\n",
            " train loss: 0.9761331816913876, train acc: 0.662844411088954\n",
            " val loss: 0.9737102232080825, val acc: 0.6608599292471053\n",
            "\n",
            "Epoch 16\n",
            " train loss: 0.9592475323398109, train acc: 0.6684839384429415\n",
            " val loss: 0.9651873758498658, val acc: 0.6662012412192974\n",
            "\n",
            "Epoch 17\n",
            " train loss: 0.9505005032096528, train acc: 0.6706711935386798\n",
            " val loss: 0.9531889294056182, val acc: 0.6672650710065314\n",
            "\n",
            "Epoch 18\n",
            " train loss: 0.9401113528220265, train acc: 0.6735072800620601\n",
            " val loss: 0.9507342658144362, val acc: 0.669281914893617\n",
            "\n",
            "Epoch 19\n",
            " train loss: 0.9319491468138407, train acc: 0.6785714286336951\n",
            " val loss: 0.9457200770682477, val acc: 0.6716976952045521\n",
            "\n"
          ]
        }
      ],
      "source": [
        "optimizer = optim.SGD(net.parameters(), lr=0.001, momentum=0.9)\n",
        "tr_loss_log, tr_acc_log, val_loss_log, val_acc_log = train(\n",
        "    net, optimizer, 20, train_loader, val_loader\n",
        ")"
      ]
    },
    {
      "cell_type": "code",
      "source": [
        "net.eval()\n",
        "test_loss, test_accuracy = test(net, test_loader)\n",
        "\n",
        "print(f\"Test Loss: {test_loss}, Test Accuracy: {test_accuracy}\")"
      ],
      "metadata": {
        "colab": {
          "base_uri": "https://localhost:8080/"
        },
        "id": "ChRNnxghYD3k",
        "outputId": "f8e79217-2d67-427c-caa5-b6128336398e"
      },
      "execution_count": 11,
      "outputs": [
        {
          "output_type": "stream",
          "name": "stdout",
          "text": [
            "Test Loss: 0.9517359555147256, Test Accuracy: 0.6671974522292994\n"
          ]
        }
      ]
    },
    {
      "cell_type": "markdown",
      "source": [
        "__Комментарий:__ Качество работы модели действительно упало (с 0.71 до 0.67). Вполне вероятно это связано с тем, что шаг получается слишком маленьким, чтобы модель достатигла оптимума."
      ],
      "metadata": {
        "id": "Bv80O1ntVzWc"
      }
    },
    {
      "cell_type": "markdown",
      "metadata": {
        "id": "xVotU378O9Du",
        "pycharm": {
          "name": "#%% md\n"
        }
      },
      "source": [
        "**Задание 3.1 (1.5 балла).** Изучите, какие еще способы уменьшения длины шага представлены в <code>torch.optim.lr_scheduler</code>. Выберите несколько из них, объясните, как они устроены, и обучите модель с ними. Удалось ли добиться улучшения качества на тестовой выборке?"
      ]
    },
    {
      "cell_type": "markdown",
      "source": [
        "__Комментарий:__ Наиболее интересно протестировать работу следующих lr-шедьюлеров:\n",
        "- ReduceLROnPlateau - он уменьшает lr если функция потерь не снижается в течение заданного количества эпох\n",
        "- CosineAnnealingLR - уменьшает lr до 0 по косинусной функции, потом плавно восстанавливает к начальному количеству через заданное количество эпох.   \n",
        "Чтобы лучше увидеть разницу, вначале увеличим количество эпох в бейслайне (для нас это MultiStepLR) до 40 и зафиксируем результат, потом для каждого шедьюлера также обучим 40 эпох и посмотрим на метрику Accuracy."
      ],
      "metadata": {
        "id": "8KLYdIEeYsGC"
      }
    },
    {
      "cell_type": "code",
      "execution_count": 14,
      "metadata": {
        "id": "nkGlzocOO9Du",
        "pycharm": {
          "name": "#%%\n"
        },
        "colab": {
          "base_uri": "https://localhost:8080/"
        },
        "outputId": "ed6e61b6-4807-4cbe-f6a9-592a0b55c0c9"
      },
      "outputs": [
        {
          "output_type": "stream",
          "name": "stdout",
          "text": [
            "Epoch 0\n",
            " train loss: 0.9871651922545006, train acc: 0.6572946592266424\n",
            " val loss: 1.012090886400101, val acc: 0.6473182624958931\n",
            "\n",
            "Epoch 1\n",
            " train loss: 0.9745554612367201, train acc: 0.6618323975550845\n",
            " val loss: 0.9545249573727872, val acc: 0.6657801420130628\n",
            "\n",
            "Epoch 2\n",
            " train loss: 0.9662698800428694, train acc: 0.6635054844606947\n",
            " val loss: 1.0040934897483664, val acc: 0.6437278369639782\n",
            "\n",
            "Epoch 3\n",
            " train loss: 0.9514685512896648, train acc: 0.6685573909792647\n",
            " val loss: 0.9638556049225179, val acc: 0.6649601063829788\n",
            "\n",
            "Epoch 4\n",
            " train loss: 0.9446800941741009, train acc: 0.6718505158938699\n",
            " val loss: 0.9575005584574761, val acc: 0.6660239361702127\n",
            "\n",
            "Epoch 5\n",
            " train loss: 0.9432817405494955, train acc: 0.6718260316787734\n",
            " val loss: 0.9776537108928599, val acc: 0.6619237590343394\n",
            "\n",
            "Epoch 6\n",
            " train loss: 0.9433365189615072, train acc: 0.6713241055417104\n",
            " val loss: 0.9496154716674318, val acc: 0.6689716313747649\n",
            "\n",
            "Epoch 7\n",
            " train loss: 0.9332738038172887, train acc: 0.6763188822613774\n",
            " val loss: 0.9746971624962827, val acc: 0.6661569148936171\n",
            "\n",
            "Epoch 8\n",
            " train loss: 0.9265630222325787, train acc: 0.6783347480693727\n",
            " val loss: 0.9615834238681388, val acc: 0.6677304965384463\n",
            "\n",
            "Epoch 9\n",
            " train loss: 0.9176594046177768, train acc: 0.681672760511883\n",
            " val loss: 0.9791729300580126, val acc: 0.6629432624958931\n",
            "\n",
            "Epoch 10\n",
            " train loss: 0.8349690345240249, train acc: 0.7100907547818242\n",
            " val loss: 0.8922910451889038, val acc: 0.6923315603682335\n",
            "\n",
            "Epoch 11\n",
            " train loss: 0.824649203738957, train acc: 0.7142408266799759\n",
            " val loss: 0.8852411379205419, val acc: 0.6954565603682336\n",
            "\n",
            "Epoch 12\n",
            " train loss: 0.8219325555525925, train acc: 0.7154487138256512\n",
            " val loss: 0.8826103836932081, val acc: 0.6960549646235527\n",
            "\n",
            "Epoch 13\n",
            " train loss: 0.818409069637058, train acc: 0.7148978193673616\n",
            " val loss: 0.8841062728394853, val acc: 0.6921985816448293\n",
            "\n",
            "Epoch 14\n",
            " train loss: 0.8161150090655199, train acc: 0.7175217094325497\n",
            " val loss: 0.8840567827224731, val acc: 0.6970744680851064\n",
            "\n",
            "Epoch 15\n",
            " train loss: 0.8053960965799893, train acc: 0.7210719183332523\n",
            " val loss: 0.8770746116942548, val acc: 0.6957890071767442\n",
            "\n",
            "Epoch 16\n",
            " train loss: 0.8046383565152149, train acc: 0.7196599960980947\n",
            " val loss: 0.8762516166301484, val acc: 0.6972296100981692\n",
            "\n",
            "Epoch 17\n",
            " train loss: 0.8050783763093095, train acc: 0.7215248760401222\n",
            " val loss: 0.8752967007616733, val acc: 0.6969858156873825\n",
            "\n",
            "Epoch 18\n",
            " train loss: 0.8045173969521601, train acc: 0.7214759076099291\n",
            " val loss: 0.8763965046152156, val acc: 0.697628546268382\n",
            "\n",
            "Epoch 19\n",
            " train loss: 0.8042836486748411, train acc: 0.7209862236348977\n",
            " val loss: 0.8760976380490242, val acc: 0.6966533688788719\n",
            "\n",
            "Epoch 20\n",
            " train loss: 0.8033153761784381, train acc: 0.7214555040791876\n",
            " val loss: 0.8752724738831216, val acc: 0.6967641845662543\n",
            "\n",
            "Epoch 21\n",
            " train loss: 0.8055913831895622, train acc: 0.7204842974978347\n",
            " val loss: 0.8750557965420662, val acc: 0.6973847518575952\n",
            "\n",
            "Epoch 22\n",
            " train loss: 0.8050293084472363, train acc: 0.7197783364892224\n",
            " val loss: 0.8754047576417314, val acc: 0.6973182624958931\n",
            "\n",
            "Epoch 23\n",
            " train loss: 0.8025519173367586, train acc: 0.7233611909737316\n",
            " val loss: 0.8750682145991224, val acc: 0.6972296100981692\n",
            "\n",
            "Epoch 24\n",
            " train loss: 0.803690568239205, train acc: 0.7211045639170589\n",
            " val loss: 0.8756818294525146, val acc: 0.697251773134191\n",
            "\n",
            "Epoch 25\n",
            " train loss: 0.8022531120607143, train acc: 0.7224267106605404\n",
            " val loss: 0.8757876992225647, val acc: 0.6974512412192974\n",
            "\n",
            "Epoch 26\n",
            " train loss: 0.8029172531647482, train acc: 0.7220349635458951\n",
            " val loss: 0.8754888927682917, val acc: 0.6973182624958931\n",
            "\n",
            "Epoch 27\n",
            " train loss: 0.8023757378841448, train acc: 0.7218023635569613\n",
            " val loss: 0.8764112132660886, val acc: 0.6965203901554676\n",
            "\n",
            "Epoch 28\n",
            " train loss: 0.80124307643125, train acc: 0.7236672434989887\n",
            " val loss: 0.8747486867803208, val acc: 0.6976507093044038\n",
            "\n",
            "Epoch 29\n",
            " train loss: 0.8012521514291083, train acc: 0.7214718269255741\n",
            " val loss: 0.8752741983596315, val acc: 0.6967863476022761\n",
            "\n",
            "Epoch 30\n",
            " train loss: 0.8021715780825676, train acc: 0.7210923217550275\n",
            " val loss: 0.8759571344294447, val acc: 0.697163120736467\n",
            "\n",
            "Epoch 31\n",
            " train loss: 0.8014662694560545, train acc: 0.7229612823814099\n",
            " val loss: 0.8756583137715116, val acc: 0.6978280143534884\n",
            "\n",
            "Epoch 32\n",
            " train loss: 0.8002513516319735, train acc: 0.7234387243033763\n",
            " val loss: 0.8748983735733844, val acc: 0.6971187944107867\n",
            "\n",
            "Epoch 33\n",
            " train loss: 0.800839388828173, train acc: 0.721941107369864\n",
            " val loss: 0.8752410520898535, val acc: 0.6985815603682335\n",
            "\n",
            "Epoch 34\n",
            " train loss: 0.800625926343353, train acc: 0.7223899843923789\n",
            " val loss: 0.8766799023810853, val acc: 0.6968306739279564\n",
            "\n",
            "Epoch 35\n",
            " train loss: 0.8014318956644487, train acc: 0.7229367981663134\n",
            " val loss: 0.8748534712385624, val acc: 0.6980274824385947\n",
            "\n",
            "Epoch 36\n",
            " train loss: 0.8009563397881754, train acc: 0.721463665556864\n",
            " val loss: 0.8744624142951154, val acc: 0.697783688027808\n",
            "\n",
            "Epoch 37\n",
            " train loss: 0.8014652085587572, train acc: 0.7211086446014139\n",
            " val loss: 0.8740594934909902, val acc: 0.6960328015875309\n",
            "\n",
            "Epoch 38\n",
            " train loss: 0.8006054264317919, train acc: 0.7238998433789562\n",
            " val loss: 0.8740336719979631, val acc: 0.6982491135597229\n",
            "\n",
            "Epoch 39\n",
            " train loss: 0.7995830819528326, train acc: 0.7233367067586352\n",
            " val loss: 0.8734452546911037, val acc: 0.6981826241980208\n",
            "\n"
          ]
        }
      ],
      "source": [
        "optimizer = optim.SGD(net.parameters(), lr=0.1, momentum=0.9)\n",
        "scheduler = optim.lr_scheduler.MultiStepLR(optimizer, milestones=[10, 15], gamma=0.1)\n",
        "tr_loss_log, tr_acc_log, val_loss_log, val_acc_log = train(\n",
        "    net, optimizer, 40, train_loader, val_loader, scheduler\n",
        ")"
      ]
    },
    {
      "cell_type": "code",
      "source": [
        "net.eval()\n",
        "test_loss, test_accuracy = test(net, test_loader)\n",
        "\n",
        "print(f\"Test Loss: {test_loss}, Test Accuracy: {test_accuracy}\")"
      ],
      "metadata": {
        "id": "19hH8a0wcsh5",
        "outputId": "c2c1513f-052b-4b0c-9d7b-aab89c7c5265",
        "colab": {
          "base_uri": "https://localhost:8080/"
        }
      },
      "execution_count": 16,
      "outputs": [
        {
          "output_type": "stream",
          "name": "stdout",
          "text": [
            "Test Loss: 0.8861486148682369, Test Accuracy: 0.6936703821656051\n"
          ]
        }
      ]
    },
    {
      "cell_type": "code",
      "source": [
        "def train(model, optimizer, n_epochs, train_loader, val_loader, scheduler=None):\n",
        "    train_loss_log, train_acc_log, val_loss_log, val_acc_log = [], [], [], []\n",
        "\n",
        "    for epoch in range(n_epochs):\n",
        "        train_loss, train_acc = train_epoch(model, optimizer, train_loader)\n",
        "\n",
        "        val_loss, val_acc = test(model, val_loader)\n",
        "\n",
        "        train_loss_log.extend(train_loss)\n",
        "        train_acc_log.extend(train_acc)\n",
        "\n",
        "        val_loss_log.append(val_loss)\n",
        "        val_acc_log.append(val_acc)\n",
        "\n",
        "        print(f\"Epoch {epoch}\")\n",
        "        print(f\" train loss: {np.mean(train_loss)}, train acc: {np.mean(train_acc)}\")\n",
        "        print(f\" val loss: {val_loss}, val acc: {val_acc}\\n\")\n",
        "\n",
        "        if scheduler is not None:\n",
        "            scheduler.step(val_loss)\n",
        "\n",
        "    return train_loss_log, train_acc_log, val_loss_log, val_acc_log"
      ],
      "metadata": {
        "id": "GkfWymHtdkSm"
      },
      "execution_count": 18,
      "outputs": []
    },
    {
      "cell_type": "code",
      "source": [
        "# сделаем, что если каждый 5 шагов у нас не снизился лосс более чем на 0.04 то мы умножим градиентный шаг на 0.4\n",
        "scheduler = optim.lr_scheduler.ReduceLROnPlateau(optimizer, mode='min', factor=0.4, patience=5, threshold=0.04)\n",
        "tr_loss_log, tr_acc_log, val_loss_log, val_acc_log = train(\n",
        "    net, optimizer, 40, train_loader, val_loader, scheduler\n",
        ")"
      ],
      "metadata": {
        "id": "nYRlOp38Z5qk",
        "outputId": "ee1f6eb9-e4be-411b-89ef-b797540cf0ce",
        "colab": {
          "base_uri": "https://localhost:8080/"
        }
      },
      "execution_count": 19,
      "outputs": [
        {
          "output_type": "stream",
          "name": "stdout",
          "text": [
            "Epoch 0\n",
            " train loss: 0.7998771652769999, train acc: 0.7235570645855376\n",
            " val loss: 0.873862323862441, val acc: 0.697628546268382\n",
            "\n",
            "Epoch 1\n",
            " train loss: 0.7991703762323809, train acc: 0.7232918191217635\n",
            " val loss: 0.8745168168494042, val acc: 0.6969193263256803\n",
            "\n",
            "Epoch 2\n",
            " train loss: 0.800259902010888, train acc: 0.7214391813417675\n",
            " val loss: 0.8738873164704506, val acc: 0.6988918441407224\n",
            "\n",
            "Epoch 3\n",
            " train loss: 0.800289663634309, train acc: 0.7225083246745401\n",
            " val loss: 0.8740292802770087, val acc: 0.6978501773895102\n",
            "\n",
            "Epoch 4\n",
            " train loss: 0.7983792384429214, train acc: 0.7238712784795046\n",
            " val loss: 0.873642776621149, val acc: 0.6981161348363186\n",
            "\n",
            "Epoch 5\n",
            " train loss: 0.799754163246922, train acc: 0.7236141943844406\n",
            " val loss: 0.8734757271218807, val acc: 0.6980496454746166\n",
            "\n",
            "Epoch 6\n",
            " train loss: 0.7995839918226385, train acc: 0.7246262079183101\n",
            " val loss: 0.8736620261314068, val acc: 0.6969636526513607\n",
            "\n",
            "Epoch 7\n",
            " train loss: 0.7975961860180772, train acc: 0.7244262536221492\n",
            " val loss: 0.8735381139085648, val acc: 0.6978280143534884\n",
            "\n",
            "Epoch 8\n",
            " train loss: 0.7971931680682808, train acc: 0.7238957626946012\n",
            " val loss: 0.8734122565452088, val acc: 0.6979166667512122\n",
            "\n",
            "Epoch 9\n",
            " train loss: 0.7975643432990288, train acc: 0.7226144229036363\n",
            " val loss: 0.8731707978755869, val acc: 0.6975620569066798\n",
            "\n",
            "Epoch 10\n",
            " train loss: 0.7977506035097774, train acc: 0.7249445024966322\n",
            " val loss: 0.872722797698163, val acc: 0.6973847518575952\n",
            "\n",
            "Epoch 11\n",
            " train loss: 0.797430844367967, train acc: 0.7243772853009226\n",
            " val loss: 0.8728208344033423, val acc: 0.6976507093044038\n",
            "\n",
            "Epoch 12\n",
            " train loss: 0.79778031865901, train acc: 0.7249649060273737\n",
            " val loss: 0.8730331694826167, val acc: 0.6985593973322117\n",
            "\n",
            "Epoch 13\n",
            " train loss: 0.7963149333457842, train acc: 0.7239977801303759\n",
            " val loss: 0.8734811760009603, val acc: 0.6984929079705097\n",
            "\n",
            "Epoch 14\n",
            " train loss: 0.7966663597706685, train acc: 0.7233734330267967\n",
            " val loss: 0.8735367627854043, val acc: 0.6989804965384463\n",
            "\n",
            "Epoch 15\n",
            " train loss: 0.7975191986647995, train acc: 0.7229816859121514\n",
            " val loss: 0.8730275737478378, val acc: 0.6980939718002969\n",
            "\n",
            "Epoch 16\n",
            " train loss: 0.7972429826773935, train acc: 0.7238712784795046\n",
            " val loss: 0.8732807230442128, val acc: 0.6990469859001485\n",
            "\n",
            "Epoch 17\n",
            " train loss: 0.79787364400501, train acc: 0.72380190651857\n",
            " val loss: 0.8736269717520856, val acc: 0.6980496454746166\n",
            "\n",
            "Epoch 18\n",
            " train loss: 0.7980068629467945, train acc: 0.7230265735490231\n",
            " val loss: 0.873762538585257, val acc: 0.6981826241980208\n",
            "\n",
            "Epoch 19\n",
            " train loss: 0.7964197050173932, train acc: 0.725401540887857\n",
            " val loss: 0.8728563029715355, val acc: 0.6983599292471053\n",
            "\n",
            "Epoch 20\n",
            " train loss: 0.7973207114383551, train acc: 0.7236101137000857\n",
            " val loss: 0.873511488640562, val acc: 0.6976507093044038\n",
            "\n",
            "Epoch 21\n",
            " train loss: 0.7965480308755006, train acc: 0.7234917734179244\n",
            " val loss: 0.872459635582376, val acc: 0.6973847518575952\n",
            "\n",
            "Epoch 22\n",
            " train loss: 0.7960558513509726, train acc: 0.7238223100493115\n",
            " val loss: 0.8736609192604714, val acc: 0.6988475178150421\n",
            "\n",
            "Epoch 23\n",
            " train loss: 0.7970017781532225, train acc: 0.7249812288737603\n",
            " val loss: 0.8732564735919871, val acc: 0.6979609930768926\n",
            "\n",
            "Epoch 24\n",
            " train loss: 0.7960930799544402, train acc: 0.7245731588037619\n",
            " val loss: 0.873759297614402, val acc: 0.6976507093044038\n",
            "\n",
            "Epoch 25\n",
            " train loss: 0.7967958536945705, train acc: 0.7238712784795046\n",
            " val loss: 0.8731906794487162, val acc: 0.6979609930768926\n",
            "\n",
            "Epoch 26\n",
            " train loss: 0.7957755536440304, train acc: 0.7242303800103433\n",
            " val loss: 0.8728354243521995, val acc: 0.6975842199427016\n",
            "\n",
            "Epoch 27\n",
            " train loss: 0.7965873849784216, train acc: 0.7254423479493401\n",
            " val loss: 0.8725230736935392, val acc: 0.697251773134191\n",
            "\n",
            "Epoch 28\n",
            " train loss: 0.7971083622636917, train acc: 0.723789664465505\n",
            " val loss: 0.874992366800917, val acc: 0.6981161348363186\n",
            "\n",
            "Epoch 29\n",
            " train loss: 0.7973959955371495, train acc: 0.7228755876830553\n",
            " val loss: 0.8734550075328097, val acc: 0.6977171986661059\n",
            "\n",
            "Epoch 30\n",
            " train loss: 0.7958962146935123, train acc: 0.7240753134600205\n",
            " val loss: 0.873514927955384, val acc: 0.6970523050490846\n",
            "\n",
            "Epoch 31\n",
            " train loss: 0.7962336459586999, train acc: 0.72296944375012\n",
            " val loss: 0.8726986704988683, val acc: 0.6987588654173181\n",
            "\n",
            "Epoch 32\n",
            " train loss: 0.7974732574313824, train acc: 0.7229898472808615\n",
            " val loss: 0.8741594750830468, val acc: 0.6993129433469569\n",
            "\n",
            "Epoch 33\n",
            " train loss: 0.7972516474165908, train acc: 0.7242752677561815\n",
            " val loss: 0.8732449729391869, val acc: 0.6985593973322117\n",
            "\n",
            "Epoch 34\n",
            " train loss: 0.7960869046081355, train acc: 0.7246670149797931\n",
            " val loss: 0.8731233875802222, val acc: 0.698315602921425\n",
            "\n",
            "Epoch 35\n",
            " train loss: 0.7965048634373946, train acc: 0.7250832463095349\n",
            " val loss: 0.8735821130427909, val acc: 0.6984929079705097\n",
            "\n",
            "Epoch 36\n",
            " train loss: 0.7968650352366445, train acc: 0.7243038326556329\n",
            " val loss: 0.873396150862917, val acc: 0.6976507093044038\n",
            "\n",
            "Epoch 37\n",
            " train loss: 0.7960903682700023, train acc: 0.7244629798903108\n",
            " val loss: 0.8742479897559957, val acc: 0.6978945037151905\n",
            "\n",
            "Epoch 38\n",
            " train loss: 0.7968430809499577, train acc: 0.7245568360663419\n",
            " val loss: 0.8730347739889267, val acc: 0.6980939718002969\n",
            "\n",
            "Epoch 39\n",
            " train loss: 0.7967908566024229, train acc: 0.7245282711668903\n",
            " val loss: 0.873002391673149, val acc: 0.6974290781832756\n",
            "\n"
          ]
        }
      ]
    },
    {
      "cell_type": "code",
      "source": [
        "net.eval()\n",
        "test_loss, test_accuracy = test(net, test_loader)\n",
        "\n",
        "print(f\"Test Loss: {test_loss}, Test Accuracy: {test_accuracy}\")"
      ],
      "metadata": {
        "id": "eiNaPFP7dzB3",
        "outputId": "321c39a3-be9c-4b27-8e8c-cbfbb400de18",
        "colab": {
          "base_uri": "https://localhost:8080/"
        }
      },
      "execution_count": 20,
      "outputs": [
        {
          "output_type": "stream",
          "name": "stdout",
          "text": [
            "Test Loss: 0.8857650580299887, Test Accuracy: 0.6933718152866242\n"
          ]
        }
      ]
    },
    {
      "cell_type": "code",
      "source": [
        "scheduler = optim.lr_scheduler.CosineAnnealingLR(optimizer, T_max=20)\n",
        "tr_loss_log, tr_acc_log, val_loss_log, val_acc_log = train(\n",
        "    net, optimizer, 40, train_loader, val_loader, scheduler\n",
        ")"
      ],
      "metadata": {
        "id": "ba1UY5FLaFK_",
        "outputId": "b49c0495-647a-4992-9231-79f00b28106e",
        "colab": {
          "base_uri": "https://localhost:8080/"
        }
      },
      "execution_count": 22,
      "outputs": [
        {
          "output_type": "stream",
          "name": "stdout",
          "text": [
            "Epoch 0\n",
            " train loss: 0.7968560511168004, train acc: 0.7241161204125371\n",
            " val loss: 0.8728258176052824, val acc: 0.6978280143534884\n",
            "\n",
            "Epoch 1\n",
            " train loss: 0.7968726103658867, train acc: 0.7253566532509854\n",
            " val loss: 0.8726324839794889, val acc: 0.6979609930768926\n",
            "\n",
            "Epoch 2\n",
            " train loss: 0.7973266817098126, train acc: 0.7237202926135369\n",
            " val loss: 0.8738327944532354, val acc: 0.6985815603682335\n",
            "\n",
            "Epoch 3\n",
            " train loss: 0.7964109083198324, train acc: 0.7250465200413734\n",
            " val loss: 0.8735335535191475, val acc: 0.6970523050490846\n",
            "\n",
            "Epoch 4\n",
            " train loss: 0.7966861087944651, train acc: 0.7239039240633112\n",
            " val loss: 0.8734239854711168, val acc: 0.6972960994598714\n",
            "\n",
            "Epoch 5\n",
            " train loss: 0.7983185590621105, train acc: 0.7246302886026651\n",
            " val loss: 0.8731663569490961, val acc: 0.6978280143534884\n",
            "\n",
            "Epoch 6\n",
            " train loss: 0.7964620109123112, train acc: 0.7246955798792447\n",
            " val loss: 0.8732628127361866, val acc: 0.6974290781832756\n",
            "\n",
            "Epoch 7\n",
            " train loss: 0.7966825986584101, train acc: 0.7256912706756941\n",
            " val loss: 0.8730086714663404, val acc: 0.6970523050490846\n",
            "\n",
            "Epoch 8\n",
            " train loss: 0.7972903746355604, train acc: 0.724295671286923\n",
            " val loss: 0.873182346212103, val acc: 0.6975620569066798\n",
            "\n",
            "Epoch 9\n",
            " train loss: 0.7963130038769634, train acc: 0.7251852638542761\n",
            " val loss: 0.8736195820443173, val acc: 0.6985815603682335\n",
            "\n",
            "Epoch 10\n",
            " train loss: 0.796317228614957, train acc: 0.7235570645855376\n",
            " val loss: 0.8729109774244592, val acc: 0.6983820922831272\n",
            "\n",
            "Epoch 11\n",
            " train loss: 0.7961644895878744, train acc: 0.7242303800103433\n",
            " val loss: 0.8732011911716867, val acc: 0.6979831561129144\n",
            "\n",
            "Epoch 12\n",
            " train loss: 0.7966526247138733, train acc: 0.7239365696471177\n",
            " val loss: 0.8730479029898948, val acc: 0.6981161348363186\n",
            "\n",
            "Epoch 13\n",
            " train loss: 0.7963778922501168, train acc: 0.7238508749487631\n",
            " val loss: 0.8734612878332747, val acc: 0.6990913122258288\n",
            "\n",
            "Epoch 14\n",
            " train loss: 0.797356331261246, train acc: 0.7226348264343778\n",
            " val loss: 0.8735985015300994, val acc: 0.6992907803109352\n",
            "\n",
            "Epoch 15\n",
            " train loss: 0.7962724935311069, train acc: 0.7234876926246029\n",
            " val loss: 0.8728225104352261, val acc: 0.6978501773895102\n",
            "\n",
            "Epoch 16\n",
            " train loss: 0.7968557864373084, train acc: 0.7239202469096977\n",
            " val loss: 0.8728839752521921, val acc: 0.6981826241980208\n",
            "\n",
            "Epoch 17\n",
            " train loss: 0.7963461568085324, train acc: 0.7248098394770509\n",
            " val loss: 0.872974257012631, val acc: 0.6985815603682335\n",
            "\n",
            "Epoch 18\n",
            " train loss: 0.7961300921505504, train acc: 0.724316074708698\n",
            " val loss: 0.8730457660999704, val acc: 0.6982934398854033\n",
            "\n",
            "Epoch 19\n",
            " train loss: 0.7956393299525573, train acc: 0.724564997435052\n",
            " val loss: 0.8732852897745498, val acc: 0.6975842199427016\n",
            "\n",
            "Epoch 20\n",
            " train loss: 0.797123899897884, train acc: 0.7240875555130856\n",
            " val loss: 0.873157032499922, val acc: 0.6985815603682335\n",
            "\n",
            "Epoch 21\n",
            " train loss: 0.7988642354443043, train acc: 0.7238835205325697\n",
            " val loss: 0.8735481318007124, val acc: 0.6978501773895102\n",
            "\n",
            "Epoch 22\n",
            " train loss: 0.8003185999458843, train acc: 0.723267334906667\n",
            " val loss: 0.8749122480128674, val acc: 0.6986480497299357\n",
            "\n",
            "Epoch 23\n",
            " train loss: 0.8053601237603036, train acc: 0.7205659115118344\n",
            " val loss: 0.8753753411008957, val acc: 0.6977171986661059\n",
            "\n",
            "Epoch 24\n",
            " train loss: 0.8089671272791282, train acc: 0.7205944764112859\n",
            " val loss: 0.8820682383598165, val acc: 0.6972296100981692\n",
            "\n",
            "Epoch 25\n",
            " train loss: 0.8148882371633972, train acc: 0.7172687060218407\n",
            " val loss: 0.8894467896603523, val acc: 0.6928634752618505\n",
            "\n",
            "Epoch 26\n",
            " train loss: 0.8203386013860894, train acc: 0.714518314196815\n",
            " val loss: 0.8812702993129162, val acc: 0.6957446808510638\n",
            "\n",
            "Epoch 27\n",
            " train loss: 0.829708690944058, train acc: 0.7119882803076582\n",
            " val loss: 0.883316506984386, val acc: 0.6923537234042553\n",
            "\n",
            "Epoch 28\n",
            " train loss: 0.8369785164784251, train acc: 0.7100621898823726\n",
            " val loss: 0.9236677890128278, val acc: 0.6784131207364671\n",
            "\n",
            "Epoch 29\n",
            " train loss: 0.8432657258820054, train acc: 0.7079402259542475\n",
            " val loss: 0.8960771230941124, val acc: 0.6896719859001484\n",
            "\n",
            "Epoch 30\n",
            " train loss: 0.8565778648395643, train acc: 0.7006847414935529\n",
            " val loss: 0.9039542598927275, val acc: 0.6881870569066798\n",
            "\n",
            "Epoch 31\n",
            " train loss: 0.8610694130007484, train acc: 0.6991095913393623\n",
            " val loss: 0.909195085789295, val acc: 0.6867686170212766\n",
            "\n",
            "Epoch 32\n",
            " train loss: 0.8657370714753376, train acc: 0.6974405850091407\n",
            " val loss: 0.9008459953551596, val acc: 0.6864583335024246\n",
            "\n",
            "Epoch 33\n",
            " train loss: 0.8701325771577615, train acc: 0.6980730935903964\n",
            " val loss: 0.9539941189136911, val acc: 0.671719858240574\n",
            "\n",
            "Epoch 34\n",
            " train loss: 0.877075285918098, train acc: 0.6950533756172417\n",
            " val loss: 0.9302683109932758, val acc: 0.6751108156873825\n",
            "\n",
            "Epoch 35\n",
            " train loss: 0.8759138511129445, train acc: 0.6937067446586637\n",
            " val loss: 0.9210085932244646, val acc: 0.6843971632896586\n",
            "\n",
            "Epoch 36\n",
            " train loss: 0.8796761893485102, train acc: 0.6923478715380541\n",
            " val loss: 0.9335676289619284, val acc: 0.6742242909492331\n",
            "\n",
            "Epoch 37\n",
            " train loss: 0.8837881491432679, train acc: 0.6914909245545076\n",
            " val loss: 0.912538750120934, val acc: 0.6871897164811479\n",
            "\n",
            "Epoch 38\n",
            " train loss: 0.8846508615413575, train acc: 0.692041819012797\n",
            " val loss: 0.9309832118927164, val acc: 0.6795212765957447\n",
            "\n",
            "Epoch 39\n",
            " train loss: 0.8800110786444962, train acc: 0.6925723100493115\n",
            " val loss: 0.9413983669686825, val acc: 0.6755984042553191\n",
            "\n"
          ]
        }
      ]
    },
    {
      "cell_type": "code",
      "source": [
        "net.eval()\n",
        "test_loss, test_accuracy = test(net, test_loader)\n",
        "\n",
        "print(f\"Test Loss: {test_loss}, Test Accuracy: {test_accuracy}\")"
      ],
      "metadata": {
        "id": "QSJTvXqdgvpO",
        "outputId": "4b5af9a8-366b-45cc-bac8-0d30c1716ac5",
        "colab": {
          "base_uri": "https://localhost:8080/"
        }
      },
      "execution_count": 23,
      "outputs": [
        {
          "output_type": "stream",
          "name": "stdout",
          "text": [
            "Test Loss: 0.9559372485063637, Test Accuracy: 0.6744625796178344\n"
          ]
        }
      ]
    },
    {
      "cell_type": "markdown",
      "metadata": {
        "id": "5a_zMNNVO9Du",
        "pycharm": {
          "name": "#%% md\n"
        }
      },
      "source": [
        "__Вывод:__ Accuracy на бейслайне - 0.694. При применении ReduceLROnPlateau - 0.693. CosineAnnealingLR - 0.674. Таким образом, наилучший результат показало изменение шага обучения с помощью косинусной функции."
      ]
    },
    {
      "cell_type": "markdown",
      "metadata": {
        "id": "7xFXgl_3_E--",
        "pycharm": {
          "name": "#%% md\n"
        }
      },
      "source": [
        "## 4. Аугментации данных (2 балла)"
      ]
    },
    {
      "cell_type": "markdown",
      "metadata": {
        "id": "5G0Easo9O9Du",
        "pycharm": {
          "name": "#%% md\n"
        }
      },
      "source": [
        "Еще одной стандартной техникой, применяющейся в глубинном обучении, а особенно часто в компьютерном зрении, являются аугментации данных. Суть аугментаций состоит в том, что мы можем некоторым синтетическим образом видоизменять объекты обучающей выборки, тем самым расширяя ее, а также делая итоговую модель более устойчивой к таким изменениям.\n",
        "\n",
        "Простейшая аугментация, которую можно применить к картинкам — разворот картинки по горизонтальной оси. То есть при обучении модели с вероятностью $0.5$ мы будем разворачивать картинку из обучающей выборки."
      ]
    },
    {
      "cell_type": "code",
      "execution_count": null,
      "metadata": {
        "id": "SzeFpgtfO9Du",
        "pycharm": {
          "name": "#%%\n"
        }
      },
      "outputs": [],
      "source": [
        "dataiter = iter(train_loader)\n",
        "images, labels = dataiter.next()\n",
        "\n",
        "imshow(torchvision.utils.make_grid(images[:4]))\n",
        "\n",
        "imshow(torchvision.utils.make_grid(transforms.functional.hflip(images[:4])))"
      ]
    },
    {
      "cell_type": "markdown",
      "metadata": {
        "id": "BR4a-XJQO9Du",
        "pycharm": {
          "name": "#%% md\n"
        }
      },
      "source": [
        "Наиболее удобным способом работы с аугментациями в PyTorch является их задание в списке <code>transforms</code>, который затем передается в загрузчик данных. Обучим нашу сеть, применяя горизонтальные повороты:"
      ]
    },
    {
      "cell_type": "code",
      "execution_count": null,
      "metadata": {
        "id": "na0ScBf-_AqX",
        "pycharm": {
          "name": "#%%\n"
        },
        "scrolled": true
      },
      "outputs": [],
      "source": [
        "transform = transforms.Compose(\n",
        "    [\n",
        "        transforms.RandomHorizontalFlip(),\n",
        "        transforms.ToTensor(),\n",
        "        transforms.Normalize((0.5, 0.5, 0.5), (0.5, 0.5, 0.5)),\n",
        "    ]\n",
        ")\n",
        "\n",
        "train_loader, val_loader, test_loader = get_cifar10_data(\n",
        "    batch_size=64, transform_train=transform\n",
        ")\n",
        "\n",
        "net = BasicBlockNet().to(device)\n",
        "optimizer = optim.SGD(net.parameters(), lr=0.1, momentum=0.9)\n",
        "scheduler = optim.lr_scheduler.MultiStepLR(optimizer, milestones=[10, 15], gamma=0.1)\n",
        "tr_loss_log, tr_acc_log, val_loss_log, val_acc_log = train(\n",
        "    net, optimizer, 20, train_loader, val_loader, scheduler\n",
        ")"
      ]
    },
    {
      "cell_type": "markdown",
      "metadata": {
        "id": "v3ZIqDQqO9Dv",
        "pycharm": {
          "name": "#%% md\n"
        }
      },
      "source": [
        "Посчитайте точность на тестовой выборке:"
      ]
    },
    {
      "cell_type": "code",
      "execution_count": null,
      "metadata": {
        "id": "nNJizMkM_Auh",
        "pycharm": {
          "name": "#%%\n"
        }
      },
      "outputs": [],
      "source": [
        "# <your code here>"
      ]
    },
    {
      "cell_type": "markdown",
      "metadata": {
        "id": "KndehSCHO9Dv",
        "pycharm": {
          "name": "#%% md\n"
        }
      },
      "source": [
        "**Задание 4.1 (2 балла).** Изучите, какие еще способы аугментаций изображений представлены в <code>torchvision.transforms</code>. Выберите несколько из них, объясните, как они устроены, и обучите модель с ними (по отдельности и вместе). Удалось ли добиться улучшения качества на тестовой выборке?"
      ]
    },
    {
      "cell_type": "code",
      "execution_count": null,
      "metadata": {
        "id": "Np4rgvdZ_QRF",
        "pycharm": {
          "name": "#%%\n"
        }
      },
      "outputs": [],
      "source": [
        "# <your code here>"
      ]
    },
    {
      "cell_type": "markdown",
      "metadata": {
        "id": "4K-MptLiO9Dv",
        "pycharm": {
          "name": "#%% md\n"
        }
      },
      "source": [
        "Your answers here:"
      ]
    },
    {
      "cell_type": "markdown",
      "metadata": {
        "id": "HCENjLw5O9Dv",
        "pycharm": {
          "name": "#%% md\n"
        }
      },
      "source": [
        "## Бонус. Логирование в wandb (1 балл)"
      ]
    },
    {
      "cell_type": "markdown",
      "metadata": {
        "id": "xOyzc1mnO9Dv",
        "pycharm": {
          "name": "#%% md\n"
        }
      },
      "source": [
        "На практике специалиста по глубинному обучению часто встречаются ситуации, когда нейросеть учится на каком-то удаленном сервере. И обычно вам хочется отслеживать прогресс обучения, особенно когда время обучения модели исчисляется днями или неделями. Для таких целей существует несколько инструментов. Вероятно, самый популярный из них — [wandb](https://wandb.ai/site).\n",
        "\n",
        "Ваша задача состоит в том, чтобы разобраться как им пользоваться, и повторить задания 2.1 и 2.2 с его использованием. Обучение вы можете запускать в этом же ноутбуке, но теперь вам необходимо через wandb логировать значения функции потерь и точности на обучающей выборке и на валидационной. Результатом работы должны быть ваш код и публичная ссылка на страничку с графиками, идентичными графикам в задании 2.2.\n",
        "\n",
        "Если вас смущает, что WandB грозится забанить вас, то можете разобраться с любым его аналогом и приложить ссылку на аналог."
      ]
    },
    {
      "cell_type": "code",
      "execution_count": null,
      "metadata": {
        "id": "m5gSTLAr_QS4",
        "pycharm": {
          "name": "#%%\n"
        }
      },
      "outputs": [],
      "source": [
        "# <your code here>"
      ]
    }
  ],
  "metadata": {
    "accelerator": "GPU",
    "colab": {
      "provenance": []
    },
    "kernelspec": {
      "display_name": "Python 3 (ipykernel)",
      "language": "python",
      "name": "python3"
    },
    "language_info": {
      "codemirror_mode": {
        "name": "ipython",
        "version": 3
      },
      "file_extension": ".py",
      "mimetype": "text/x-python",
      "name": "python",
      "nbconvert_exporter": "python",
      "pygments_lexer": "ipython3",
      "version": "3.10.4"
    }
  },
  "nbformat": 4,
  "nbformat_minor": 0
}