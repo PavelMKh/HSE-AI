{
 "cells": [
  {
   "cell_type": "markdown",
   "metadata": {
    "colab_type": "text",
    "id": "view-in-github"
   },
   "source": [
    "<a href=\"https://colab.research.google.com/github/Murcha1990/ML_AI24/blob/main/Hometasks/Base/AI_HW2_GD_base.ipynb\" target=\"_parent\"><img src=\"https://colab.research.google.com/assets/colab-badge.svg\" alt=\"Open In Colab\"/></a>"
   ]
  },
  {
   "cell_type": "markdown",
   "metadata": {
    "id": "guCadZBdPCjE"
   },
   "source": [
    "# **Домашнее задание 2: Градиентный спуск (base)**\n",
    "\n",
    "В этом задании две части - теоретическая и практическая. Теорию можно набирать, используя LaTex или просто решать на листочке, сфотографировать и отправить вместе с заполненным ноутбуком в anytask.\n",
    "\n",
    "Максимальный балл за домашнее задание: min{10, ваш балл}."
   ]
  },
  {
   "cell_type": "markdown",
   "metadata": {
    "id": "GpeTR__0Y94X"
   },
   "source": [
    "## Задание 1 (0.5 балла)\n",
    "\n"
   ]
  },
  {
   "cell_type": "markdown",
   "metadata": {
    "id": "s6-0KV1AZAgM"
   },
   "source": [
    "Найдите экстремумы следующих функций (вручную, где возможно) и укажите их тип (максимум, минимум):\n",
    "\n",
    "a) $f(x) = x^2 - 30x + 1$\n",
    "\n",
    "b) $g(x) = -x^3 + 5x - 7x^2 + 17$\n",
    "\n",
    "c) $h(x) = x^2 - 1/x$\n",
    "\n",
    "d) $j(x) = 1/x^5 + x^{17} + 8$"
   ]
  },
  {
   "cell_type": "markdown",
   "metadata": {},
   "source": [
    "**Ответ: Добавил в репозиторий проекта файл ml_hw_2_khomenko.pdf**"
   ]
  },
  {
   "cell_type": "markdown",
   "metadata": {
    "id": "R5KQ7t_YZHa5"
   },
   "source": [
    "## Задание 2 (1 балл)"
   ]
  },
  {
   "cell_type": "markdown",
   "metadata": {
    "id": "dIiGSRoEZPCU"
   },
   "source": [
    "Найдите экстремумы этих функций в Python."
   ]
  },
  {
   "cell_type": "code",
   "execution_count": 77,
   "metadata": {
    "id": "cT-YFm5uZQer"
   },
   "outputs": [],
   "source": [
    "# your code here\n",
    "\n",
    "from sympy import symbols, diff, solve\n",
    "\n",
    "x = symbols('x')\n",
    "\n",
    "def find_extr(f_x):\n",
    "    df = diff(f_x)\n",
    "    extr = solve(df, x)\n",
    "    d2f = diff(df, x)\n",
    "    for x_extr in extr:\n",
    "        # Игнорируем комплекнсые корни\n",
    "        if x_extr.is_real:\n",
    "            try:\n",
    "                f_extr = f_x.subs(x, x_extr).evalf()\n",
    "                f2_extr = d2f.subs(x, x_extr).evalf()\n",
    "                if f2_extr > 0:\n",
    "                    print(f\"({x_extr:.2f}, {f_extr:.2f}) - точка минимума\")\n",
    "                elif f2_extr < 0:\n",
    "                    print(f\"({x_extr:.2f}, {f_extr:.2f}) - точка максимума\")\n",
    "                else:\n",
    "                    print(f\"({x_extr:.2f}, {f_extr:.2f}) - не определено\")\n",
    "            except Exception as e:\n",
    "                print(f'Ошибка при вычислении экстремума: {e}')"
   ]
  },
  {
   "cell_type": "code",
   "execution_count": 78,
   "metadata": {},
   "outputs": [
    {
     "name": "stdout",
     "output_type": "stream",
     "text": [
      "(15.00, -224.00) - точка минимума\n"
     ]
    }
   ],
   "source": [
    "# Задача а)\n",
    "fx = x ** 2 - 30 * x + 1\n",
    "find_extr(fx)"
   ]
  },
  {
   "cell_type": "code",
   "execution_count": 79,
   "metadata": {},
   "outputs": [
    {
     "name": "stdout",
     "output_type": "stream",
     "text": [
      "(-5.00, -58.00) - точка минимума\n",
      "(0.33, 17.85) - точка максимума\n"
     ]
    }
   ],
   "source": [
    "# Задача b)\n",
    "gx = -x**3 + 5*x - 7*(x**2) + 17\n",
    "find_extr(gx)"
   ]
  },
  {
   "cell_type": "code",
   "execution_count": 80,
   "metadata": {},
   "outputs": [
    {
     "name": "stdout",
     "output_type": "stream",
     "text": [
      "(-0.79, 1.89) - точка минимума\n"
     ]
    }
   ],
   "source": [
    "# Задача c)\n",
    "hx = x**2 - 1/x\n",
    "find_extr(hx)"
   ]
  },
  {
   "cell_type": "code",
   "execution_count": 81,
   "metadata": {},
   "outputs": [
    {
     "name": "stdout",
     "output_type": "stream",
     "text": [
      "(-0.95, 6.29) - точка максимума\n",
      "(0.95, 9.71) - точка минимума\n"
     ]
    }
   ],
   "source": [
    "# Задача d)\n",
    "\n",
    "jx = 1/(x**5) + (x**17) + 8\n",
    "find_extr(jx)"
   ]
  },
  {
   "cell_type": "markdown",
   "metadata": {
    "id": "c-WbzOlDZHth"
   },
   "source": [
    "## Задание 3 (1 балл)"
   ]
  },
  {
   "cell_type": "markdown",
   "metadata": {
    "id": "VrUtzHpKZWlI"
   },
   "source": [
    "Найдите точки перегиба функций из задания 1 (вручную, где возможно)."
   ]
  },
  {
   "cell_type": "markdown",
   "metadata": {},
   "source": [
    "**Ответ: Добавил в репозиторий проекта файл ml_hw_2_khomenko.pdf**"
   ]
  },
  {
   "cell_type": "markdown",
   "metadata": {
    "id": "uziMS9grZHyR"
   },
   "source": [
    "## Задание 4 (1 балла)"
   ]
  },
  {
   "cell_type": "markdown",
   "metadata": {
    "id": "FC6aj98nZXJA"
   },
   "source": [
    "Найдите точки перегиба этих функций в Python."
   ]
  },
  {
   "cell_type": "code",
   "execution_count": 82,
   "metadata": {
    "id": "UHg7_ixBZtIv"
   },
   "outputs": [],
   "source": [
    "# your code here\n",
    "\n",
    "def find_infl(f_x):\n",
    "    df = diff(f_x)\n",
    "    d2f = diff(df, x)\n",
    "    d3f = diff(d2f, x)\n",
    "    infl = solve(d2f, x)\n",
    "\n",
    "    if not infl:\n",
    "        print(\"Нет точек перегиба.\")\n",
    "        return\n",
    "    \n",
    "    has_real_infl = False\n",
    "\n",
    "    for dot in infl:\n",
    "        if dot.is_real:\n",
    "            has_real_infl = True\n",
    "            try:\n",
    "                f_infl = f_x.subs(x, dot).evalf()\n",
    "                f3_infl = d3f.subs(x, dot).evalf()\n",
    "                \n",
    "                if f3_infl != 0:\n",
    "                    print(f\"({dot:.2f}, {f_infl:.2f}) - точка перегиба\")\n",
    "                else:\n",
    "                    print(f\"({dot:.2f}, {f_infl:.2f}) - не является точкой перегиба\")\n",
    "            except Exception as e:\n",
    "                print(f'Ошибка при вычислении производных: {e}')\n",
    "    \n",
    "    if not has_real_infl:\n",
    "        print(\"Нет действительных точек перегиба.\")"
   ]
  },
  {
   "cell_type": "code",
   "execution_count": 83,
   "metadata": {},
   "outputs": [
    {
     "name": "stdout",
     "output_type": "stream",
     "text": [
      "Нет точек перегиба.\n"
     ]
    }
   ],
   "source": [
    "# Задача а)\n",
    "\n",
    "find_infl(fx)"
   ]
  },
  {
   "cell_type": "code",
   "execution_count": 84,
   "metadata": {},
   "outputs": [
    {
     "name": "stdout",
     "output_type": "stream",
     "text": [
      "(-2.33, -20.07) - точка перегиба\n"
     ]
    }
   ],
   "source": [
    "# Задача b)\n",
    "\n",
    "find_infl(gx)"
   ]
  },
  {
   "cell_type": "code",
   "execution_count": 85,
   "metadata": {},
   "outputs": [
    {
     "name": "stdout",
     "output_type": "stream",
     "text": [
      "(1.00, 0.00) - точка перегиба\n"
     ]
    }
   ],
   "source": [
    "# Задача c)\n",
    "\n",
    "find_infl(hx)"
   ]
  },
  {
   "cell_type": "code",
   "execution_count": 86,
   "metadata": {},
   "outputs": [
    {
     "name": "stdout",
     "output_type": "stream",
     "text": [
      "Нет действительных точек перегиба.\n"
     ]
    }
   ],
   "source": [
    "# Задача d)\n",
    "\n",
    "find_infl(jx) \n",
    "\n",
    "# На самом деле точки перегиба здесь есть\n",
    "# Однако компьютер не может корректно вычислить корень нечетной высокой степени из отрицательного числа из-за ограниченной разрядности float. \n",
    "# В этой задаче компьютер делит 1/23 перед извлечением корня и считает что это четное число\n",
    "# Потом извлекая корень четной степени из отрицательного получает комплексные числа"
   ]
  },
  {
   "cell_type": "markdown",
   "metadata": {
    "id": "4jMFe3pOZH1v"
   },
   "source": [
    "### Внимание! Далее все задания необходимо выполнять для ВСЕХ функций из задания 1!\n",
    "\n",
    "## Задание 5 (1 балл)"
   ]
  },
  {
   "cell_type": "markdown",
   "metadata": {
    "id": "1c0KRFwsZXkd"
   },
   "source": [
    "Постройте графики функций из задания 1 в Python (не забудьте подписать оси и сами графики):\n",
    "*   изобразите графики с подписанными осями\n",
    "*   отметьте одним цветом локальные экстремумы\n",
    "*   отметьте другим цветом точки перегиба\n",
    "*   подпишите на оси x значения экстремумов и точек перегиба\n",
    "\n",
    "P.S. Для того, чтобы отметить точку на графике, вам понадобится функция (plt.scatter), а для того, чтобы подписать её значение на оси (plt.annotate)."
   ]
  },
  {
   "cell_type": "markdown",
   "metadata": {
    "id": "VvwflbXqdeX-"
   },
   "source": [
    "Пример хорошего графика:\n",
    "\n",
    "![good_graph.png](data:image/png;base64,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)"
   ]
  },
  {
   "cell_type": "code",
   "execution_count": 87,
   "metadata": {
    "id": "pa_gsDKmZuzK"
   },
   "outputs": [
    {
     "name": "stderr",
     "output_type": "stream",
     "text": [
      "/var/folders/j7/bpk2y95s0x12x19c3ryr4v7r0000gn/T/ipykernel_35275/2795896877.py:27: UserWarning: No artists with labels found to put in legend.  Note that artists whose label start with an underscore are ignored when legend() is called with no argument.\n",
      "  plt.legend()\n"
     ]
    },
    {
     "data": {
      "image/png": "[encoded data removed]",
      "text/plain": [
       "<Figure size 1000x600 with 1 Axes>"
      ]
     },
     "metadata": {},
     "output_type": "display_data"
    }
   ],
   "source": [
    "# your code here\n",
    "import numpy as np\n",
    "import matplotlib.pyplot as plt\n",
    "\n",
    "def f(x):\n",
    "    return x**2 - 30*x + 1\n",
    "\n",
    "x_values = np.linspace(-10, 40, 400)\n",
    "y_values = f(x_values)\n",
    "\n",
    "plt.figure(figsize=(10, 6))\n",
    "plt.plot(x_values, y_values, color='blue')\n",
    "ax = plt.gca()\n",
    "ax.spines['left'].set_position('zero')\n",
    "ax.spines['bottom'].set_position('zero')\n",
    "ax.spines['right'].set_color('none')\n",
    "ax.spines['top'].set_color('none')\n",
    "\n",
    "plt.axhline(0, color='black', lw=0.5, ls='-')\n",
    "plt.axvline(0, color='black', lw=0.5, ls='-')\n",
    "plt.xticks(np.arange(-10, 41, 5))\n",
    "plt.yticks(np.arange(-500, 501, 100))\n",
    "plt.scatter(15, -224, color='red', zorder=5)\n",
    "plt.title('График функции f(x)')\n",
    "plt.xlabel('x')\n",
    "plt.ylabel('y', loc='top')\n",
    "plt.legend()\n",
    "plt.xlim(-10, 40)\n",
    "plt.ylim(-500, 500)\n",
    "plt.show()"
   ]
  },
  {
   "cell_type": "code",
   "execution_count": 88,
   "metadata": {},
   "outputs": [
    {
     "name": "stderr",
     "output_type": "stream",
     "text": [
      "/var/folders/j7/bpk2y95s0x12x19c3ryr4v7r0000gn/T/ipykernel_35275/4061003754.py:26: UserWarning: No artists with labels found to put in legend.  Note that artists whose label start with an underscore are ignored when legend() is called with no argument.\n",
      "  plt.legend()\n"
     ]
    },
    {
     "data": {
      "image/png": "[encoded data removed]",
      "text/plain": [
       "<Figure size 1000x600 with 1 Axes>"
      ]
     },
     "metadata": {},
     "output_type": "display_data"
    }
   ],
   "source": [
    "def g(x):\n",
    "    return -x**3 + 5*x - 7*(x**2) + 17\n",
    "\n",
    "x_values = np.linspace(-10, 10, 400)\n",
    "y_values = g(x_values)\n",
    "\n",
    "plt.figure(figsize=(10, 6))\n",
    "plt.plot(x_values, y_values, color='blue')\n",
    "\n",
    "ax = plt.gca()\n",
    "ax.spines['left'].set_position('zero')\n",
    "ax.spines['bottom'].set_position('zero')\n",
    "ax.spines['right'].set_color('none')\n",
    "ax.spines['top'].set_color('none')\n",
    "\n",
    "plt.axhline(0, color='black', lw=0.5, ls='-')\n",
    "plt.axvline(0, color='black', lw=0.5, ls='-')\n",
    "plt.xticks(np.arange(-10, 11, 1))\n",
    "plt.yticks(np.arange(-80, 80, 10))\n",
    "plt.scatter(-5, -58, color='red', zorder=5)\n",
    "plt.scatter(0.33, 17.85, color='red', zorder=5)\n",
    "plt.scatter(-7/3, -20.07, color='g', zorder=5)\n",
    "plt.title('График функции g(x)')\n",
    "plt.xlabel('x')\n",
    "plt.ylabel('y', loc='top')\n",
    "plt.legend()\n",
    "plt.xlim(-10, 10)\n",
    "plt.ylim(-80, 80)\n",
    "\n",
    "plt.show()"
   ]
  },
  {
   "cell_type": "code",
   "execution_count": 89,
   "metadata": {},
   "outputs": [
    {
     "name": "stderr",
     "output_type": "stream",
     "text": [
      "/var/folders/j7/bpk2y95s0x12x19c3ryr4v7r0000gn/T/ipykernel_35275/3589550570.py:26: UserWarning: No artists with labels found to put in legend.  Note that artists whose label start with an underscore are ignored when legend() is called with no argument.\n",
      "  plt.legend()\n"
     ]
    },
    {
     "data": {
      "image/png": "[encoded data removed]",
      "text/plain": [
       "<Figure size 1000x600 with 1 Axes>"
      ]
     },
     "metadata": {},
     "output_type": "display_data"
    }
   ],
   "source": [
    "def h(x):\n",
    "    return x**2 - 1/x\n",
    "\n",
    "x_values = np.linspace(-10, 10, 400)\n",
    "x_values = x_values[x_values != 0] \n",
    "y_values = h(x_values)\n",
    "\n",
    "plt.figure(figsize=(10, 6))\n",
    "plt.plot(x_values, y_values, color='blue')\n",
    "\n",
    "ax = plt.gca()\n",
    "ax.spines['left'].set_position('zero')\n",
    "ax.spines['bottom'].set_position('zero')\n",
    "ax.spines['right'].set_color('none')\n",
    "ax.spines['top'].set_color('none')\n",
    "\n",
    "plt.axhline(0, color='black', lw=0.5, ls='-')\n",
    "plt.axvline(0, color='black', lw=0.5, ls='-')\n",
    "plt.xticks(np.arange(-10, 10, 1))\n",
    "plt.yticks(np.arange(-50, 50, 10))\n",
    "plt.scatter(1, 0, color='g', zorder=5)\n",
    "plt.scatter(-0.79, 1.89, color='red', zorder=5)\n",
    "plt.title('График функции h(x)')\n",
    "plt.xlabel('x')\n",
    "plt.ylabel('y', loc='top')\n",
    "plt.legend()\n",
    "plt.xlim(-10, 10)\n",
    "plt.ylim(-50, 55)\n",
    "\n",
    "plt.show()"
   ]
  },
  {
   "cell_type": "code",
   "execution_count": 90,
   "metadata": {},
   "outputs": [
    {
     "data": {
      "image/png": "[encoded data removed]",
      "text/plain": [
       "<Figure size 1000x600 with 1 Axes>"
      ]
     },
     "metadata": {},
     "output_type": "display_data"
    }
   ],
   "source": [
    "def j(x):\n",
    "    return 1/(x**5) + (x**17) + 8\n",
    "\n",
    "x_values = np.linspace(-10, 10, 400)\n",
    "x_values = x_values[x_values != 0] \n",
    "\n",
    "y_values = j(x_values)\n",
    "\n",
    "plt.figure(figsize=(10, 6))\n",
    "plt.plot(x_values, y_values, color='blue')\n",
    "\n",
    "ax = plt.gca()\n",
    "ax.spines['left'].set_position('zero')\n",
    "ax.spines['bottom'].set_position('zero')\n",
    "ax.spines['right'].set_color('none')\n",
    "ax.spines['top'].set_color('none')\n",
    "\n",
    "plt.axhline(0, color='black', lw=0.5, ls='-')\n",
    "plt.axvline(0, color='black', lw=0.5, ls='-')\n",
    "plt.xticks(np.arange(-10, 11, 1))\n",
    "plt.yticks(np.arange(-50, 100, 10))\n",
    "plt.scatter(-0.95, 6.29, color='red', zorder=5)\n",
    "plt.scatter(0.95, 9.71, color='red', zorder=5)\n",
    "plt.title('График функции j(x)')\n",
    "plt.xlabel('x')\n",
    "plt.ylabel('y', loc='top')\n",
    "plt.xlim(-10, 10)\n",
    "plt.ylim(-50, 100)\n",
    "\n",
    "plt.show()"
   ]
  },
  {
   "cell_type": "markdown",
   "metadata": {
    "id": "k29YfLmyZH4h"
   },
   "source": [
    "## Задание 6 (1 балл)"
   ]
  },
  {
   "cell_type": "markdown",
   "metadata": {
    "id": "i5DeYzEWZYOw"
   },
   "source": [
    "Модифицируйте функцию, осуществляющую метод градиентного спуска с семинара: добавьте опцию останавливать метод, если абсолютное значение производной функции в точке < некоторого $\\delta$ (delta добавьте в аргументы функции)."
   ]
  },
  {
   "cell_type": "code",
   "execution_count": 91,
   "metadata": {
    "id": "EEubK6KaZxUh"
   },
   "outputs": [
    {
     "data": {
      "text/plain": [
       "(14.0027004384923,\n",
       " [-100,\n",
       "  -97.7000000000000,\n",
       "  -95.4460000000000,\n",
       "  -93.2370800000000,\n",
       "  -91.0723384000000,\n",
       "  -88.9508916320000,\n",
       "  -86.8718737993600,\n",
       "  -84.8344363233728,\n",
       "  -82.8377475969053,\n",
       "  -80.8809926449672,\n",
       "  -78.9633727920679,\n",
       "  -77.0841053362265,\n",
       "  -75.2424232295020,\n",
       "  -73.4375747649119,\n",
       "  -71.6688232696137,\n",
       "  -69.9354468042214,\n",
       "  -68.2367378681370,\n",
       "  -66.5720031107743,\n",
       "  -64.9405630485588,\n",
       "  -63.3417517875876,\n",
       "  -61.7749167518359,\n",
       "  -60.2394184167991,\n",
       "  -58.7346300484632,\n",
       "  -57.2599374474939,\n",
       "  -55.8147386985440,\n",
       "  -54.3984439245731,\n",
       "  -53.0104750460817,\n",
       "  -51.6502655451600,\n",
       "  -50.3172602342568,\n",
       "  -49.0109150295717,\n",
       "  -47.7306967289803,\n",
       "  -46.4760827944007,\n",
       "  -45.2465611385126,\n",
       "  -44.0416299157424,\n",
       "  -42.8607973174275,\n",
       "  -41.7035813710790,\n",
       "  -40.5695097436574,\n",
       "  -39.4581195487843,\n",
       "  -38.3689571578086,\n",
       "  -37.3015780146524,\n",
       "  -36.2555464543594,\n",
       "  -35.2304355252722,\n",
       "  -34.2258268147667,\n",
       "  -33.2413102784714,\n",
       "  -32.2764840729020,\n",
       "  -31.3309543914439,\n",
       "  -30.4043353036150,\n",
       "  -29.4962485975427,\n",
       "  -28.6063236255919,\n",
       "  -27.7341971530801,\n",
       "  -26.8795132100185,\n",
       "  -26.0419229458181,\n",
       "  -25.2210844869017,\n",
       "  -24.4166627971637,\n",
       "  -23.6283295412204,\n",
       "  -22.8557629503960,\n",
       "  -22.0986476913881,\n",
       "  -21.3566747375603,\n",
       "  -20.6295412428091,\n",
       "  -19.9169504179529,\n",
       "  -19.2186114095939,\n",
       "  -18.5342391814020,\n",
       "  -17.8635543977740,\n",
       "  -17.2062833098185,\n",
       "  -16.5621576436221,\n",
       "  -15.9309144907497,\n",
       "  -15.3122962009347,\n",
       "  -14.7060502769160,\n",
       "  -14.1119292713777,\n",
       "  -13.5296906859501,\n",
       "  -12.9590968722311,\n",
       "  -12.3999149347865,\n",
       "  -11.8519166360907,\n",
       "  -11.3148783033689,\n",
       "  -10.7885807373016,\n",
       "  -10.2728091225555,\n",
       "  -9.76735294010441,\n",
       "  -9.27200588130232,\n",
       "  -8.78656576367628,\n",
       "  -8.31083444840275,\n",
       "  -7.84461775943470,\n",
       "  -7.38772540424600,\n",
       "  -6.93997089616108,\n",
       "  -6.50117147823786,\n",
       "  -6.07114804867310,\n",
       "  -5.64972508769964,\n",
       "  -5.23673058594565,\n",
       "  -4.83199597422673,\n",
       "  -4.43535605474220,\n",
       "  -4.04664893364736,\n",
       "  -3.66571595497441,\n",
       "  -3.29240163587492,\n",
       "  -2.92655360315742,\n",
       "  -2.56802253109427,\n",
       "  -2.21666208047239,\n",
       "  -1.87232883886294,\n",
       "  -1.53488226208568,\n",
       "  -1.20418461684397,\n",
       "  -0.880100924507089,\n",
       "  -0.562498906016947,\n",
       "  -0.251248927896608,\n",
       "  0.0537760506613237,\n",
       "  0.352700529648097,\n",
       "  0.645646519055135,\n",
       "  0.932733588674033,\n",
       "  1.21407891690055,\n",
       "  1.48979733856254,\n",
       "  1.76000139179129,\n",
       "  2.02480136395546,\n",
       "  2.28430533667636,\n",
       "  2.53861922994283,\n",
       "  2.78784684534397,\n",
       "  3.03208990843709,\n",
       "  3.27144811026835,\n",
       "  3.50601914806298,\n",
       "  3.73589876510172,\n",
       "  3.96118078979969,\n",
       "  4.18195717400369,\n",
       "  4.39831803052362,\n",
       "  4.61035166991315,\n",
       "  4.81814463651489,\n",
       "  5.02178174378459,\n",
       "  5.22134610890890,\n",
       "  5.41691918673072,\n",
       "  5.60858080299610,\n",
       "  5.79640918693618,\n",
       "  5.98048100319746,\n",
       "  6.16087138313351,\n",
       "  6.33765395547084,\n",
       "  6.51090087636142,\n",
       "  6.68068285883419,\n",
       "  6.84706920165751,\n",
       "  7.01012781762436,\n",
       "  7.16992526127187,\n",
       "  7.32652675604643,\n",
       "  7.47999622092551,\n",
       "  7.63039629650700,\n",
       "  7.77778837057686,\n",
       "  7.92223260316532,\n",
       "  8.06378795110201,\n",
       "  8.20251219207997,\n",
       "  8.33846194823837,\n",
       "  8.47169270927360,\n",
       "  8.60225885508813,\n",
       "  8.73021367798637,\n",
       "  8.85560940442664,\n",
       "  8.97849721633811,\n",
       "  9.09892727201135,\n",
       "  9.21694872657112,\n",
       "  9.33260975203970,\n",
       "  9.44595755699890,\n",
       "  9.55703840585893,\n",
       "  9.66589763774175,\n",
       "  9.77257968498691,\n",
       "  9.87712809128717,\n",
       "  9.97958552946143,\n",
       "  10.0799938188722,\n",
       "  10.1783939424948,\n",
       "  10.2748260636449,\n",
       "  10.3693295423720,\n",
       "  10.4619429515245,\n",
       "  10.5527040924940,\n",
       "  10.6416500106442,\n",
       "  10.7288170104313,\n",
       "  10.8142406702226,\n",
       "  10.8979558568182,\n",
       "  10.9799967396818,\n",
       "  11.0603968048882,\n",
       "  11.1391888687904,\n",
       "  11.2164050914146,\n",
       "  11.2920769895863,\n",
       "  11.3662354497946,\n",
       "  11.4389107407987,\n",
       "  11.5101325259827,\n",
       "  11.5799298754631,\n",
       "  11.6483312779538,\n",
       "  11.7153646523947,\n",
       "  11.7810573593468,\n",
       "  11.8454362121599,\n",
       "  11.9085274879167,\n",
       "  11.9703569381584,\n",
       "  12.0309497993952,\n",
       "  12.0903308034073,\n",
       "  12.1485241873392,\n",
       "  12.2055537035924,\n",
       "  12.2614426295205,\n",
       "  12.3162137769301,\n",
       "  12.3698895013915,\n",
       "  12.4224917113637,\n",
       "  12.4740418771364,\n",
       "  12.5245610395937,\n",
       "  12.5740698188018,\n",
       "  12.6225884224258,\n",
       "  12.6701366539773,\n",
       "  12.7167339208977,\n",
       "  12.7623992424798,\n",
       "  12.8071512576302,\n",
       "  12.8510082324776,\n",
       "  12.8939880678280,\n",
       "  12.9361083064714,\n",
       "  12.9773861403420,\n",
       "  13.0178384175352,\n",
       "  13.0574816491845,\n",
       "  13.0963320162008,\n",
       "  13.1344053758768,\n",
       "  13.1717172683592,\n",
       "  13.2082829229921,\n",
       "  13.2441172645322,\n",
       "  13.2792349192416,\n",
       "  13.3136502208567,\n",
       "  13.3473772164396,\n",
       "  13.3804296721108,\n",
       "  13.4128210786686,\n",
       "  13.4445646570952,\n",
       "  13.4756733639533,\n",
       "  13.5061598966743,\n",
       "  13.5360366987408,\n",
       "  13.5653159647660,\n",
       "  13.5940096454706,\n",
       "  13.6221294525612,\n",
       "  13.6496868635100,\n",
       "  13.6766931262398,\n",
       "  13.7031592637150,\n",
       "  13.7290960784407,\n",
       "  13.7545141568719,\n",
       "  13.7794238737344,\n",
       "  13.8038353962598,\n",
       "  13.8277586883346,\n",
       "  13.8512035145679,\n",
       "  13.8741794442765,\n",
       "  13.8966958553910,\n",
       "  13.9187619382832,\n",
       "  13.9403866995175,\n",
       "  13.9615789655272,\n",
       "  13.9823473862166,\n",
       "  14.0027004384923])"
      ]
     },
     "execution_count": 91,
     "metadata": {},
     "output_type": "execute_result"
    }
   ],
   "source": [
    "# your code here\n",
    "import sympy as sp\n",
    "\n",
    "fx = x ** 2 - 30 * x + 1\n",
    "\n",
    "def gradient_descent(func, x_start, learning_rate, num_iterations, delta):\n",
    "    x_curr = x_start\n",
    "    df_x = sp.diff(func)\n",
    "\n",
    "    trace = []\n",
    "    trace.append(x_curr)\n",
    "\n",
    "    for i in range(num_iterations):\n",
    "      grad = df_x.subs(x, x_curr)\n",
    "      if abs(grad) < delta:\n",
    "         return x_curr.evalf(), trace\n",
    "      x_new = x_curr - learning_rate * grad\n",
    "      trace.append(x_new)\n",
    "\n",
    "      x_curr = x_new\n",
    "\n",
    "    return x_curr.evalf(), trace\n",
    "\n",
    "gradient_descent(fx, -100,0.01,10000, 2) # поищем минимум при delta = 2"
   ]
  },
  {
   "cell_type": "code",
   "execution_count": 92,
   "metadata": {},
   "outputs": [
    {
     "data": {
      "text/plain": [
       "(14.9900015964911,\n",
       " [0,\n",
       "  0.300000000000000,\n",
       "  0.594000000000000,\n",
       "  0.882120000000000,\n",
       "  1.16447760000000,\n",
       "  1.44118804800000,\n",
       "  1.71236428704000,\n",
       "  1.97811700129920,\n",
       "  2.23855466127322,\n",
       "  2.49378356804775,\n",
       "  2.74390789668680,\n",
       "  2.98902973875306,\n",
       "  3.22924914397800,\n",
       "  3.46466416109844,\n",
       "  3.69537087787647,\n",
       "  3.92146346031894,\n",
       "  4.14303419111256,\n",
       "  4.36017350729031,\n",
       "  4.57297003714450,\n",
       "  4.78151063640161,\n",
       "  4.98588042367358,\n",
       "  5.18616281520011,\n",
       "  5.38243955889611,\n",
       "  5.57479076771819,\n",
       "  5.76329495236382,\n",
       "  5.94802905331655,\n",
       "  6.12906847225022,\n",
       "  6.30648710280521,\n",
       "  6.48035736074911,\n",
       "  6.65075021353412,\n",
       "  6.81773520926344,\n",
       "  6.98138050507817,\n",
       "  7.14175289497661,\n",
       "  7.29891783707708,\n",
       "  7.45293948033554,\n",
       "  7.60388069072883,\n",
       "  7.75180307691425,\n",
       "  7.89676701537596,\n",
       "  8.03883167506845,\n",
       "  8.17805504156708,\n",
       "  8.31449394073574,\n",
       "  8.44820406192102,\n",
       "  8.57923998068260,\n",
       "  8.70765518106895,\n",
       "  8.83350207744757,\n",
       "  8.95683203589862,\n",
       "  9.07769539518064,\n",
       "  9.19614148727703,\n",
       "  9.31221865753149,\n",
       "  9.42597428438086,\n",
       "  9.53745479869325,\n",
       "  9.64670570271938,\n",
       "  9.75377158866499,\n",
       "  9.85869615689169,\n",
       "  9.96152223375386,\n",
       "  10.0622917890788,\n",
       "  10.1610459532972,\n",
       "  10.2578250342313,\n",
       "  10.3526685335466,\n",
       "  10.4456151628757,\n",
       "  10.5367028596182,\n",
       "  10.6259688024258,\n",
       "  10.7134494263773,\n",
       "  10.7991804378498,\n",
       "  10.8831968290928,\n",
       "  10.9655328925109,\n",
       "  11.0462222346607,\n",
       "  11.1252977899675,\n",
       "  11.2027918341681,\n",
       "  11.2787359974848,\n",
       "  11.3531612775351,\n",
       "  11.4260980519844,\n",
       "  11.4975760909447,\n",
       "  11.5676245691258,\n",
       "  11.6362720777433,\n",
       "  11.7035466361884,\n",
       "  11.7694757034646,\n",
       "  11.8340861893954,\n",
       "  11.8974044656074,\n",
       "  11.9594563762953,\n",
       "  12.0202672487694,\n",
       "  12.0798619037940,\n",
       "  12.1382646657181,\n",
       "  12.1954993724038,\n",
       "  12.2515893849557,\n",
       "  12.3065575972566,\n",
       "  12.3604264453114,\n",
       "  12.4132179164052,\n",
       "  12.4649535580771,\n",
       "  12.5156544869156,\n",
       "  12.5653413971773,\n",
       "  12.6140345692337,\n",
       "  12.6617538778490,\n",
       "  12.7085188002921,\n",
       "  12.7543484242862,\n",
       "  12.7992614558005,\n",
       "  12.8432762266845,\n",
       "  12.8864107021508,\n",
       "  12.9286824881078,\n",
       "  12.9701088383456,\n",
       "  13.0107066615787,\n",
       "  13.0504925283471,\n",
       "  13.0894826777802,\n",
       "  13.1276930242246,\n",
       "  13.1651391637401,\n",
       "  13.2018363804653,\n",
       "  13.2377996528560,\n",
       "  13.2730436597989,\n",
       "  13.3075827866029,\n",
       "  13.3414311308708,\n",
       "  13.3746025082534,\n",
       "  13.4071104580883,\n",
       "  13.4389682489266,\n",
       "  13.4701888839480,\n",
       "  13.5007851062691,\n",
       "  13.5307694041437,\n",
       "  13.5601540160608,\n",
       "  13.5889509357396,\n",
       "  13.6171719170248,\n",
       "  13.6448284786843,\n",
       "  13.6719319091106,\n",
       "  13.6984932709284,\n",
       "  13.7245234055099,\n",
       "  13.7500329373997,\n",
       "  13.7750322786517,\n",
       "  13.7995316330786,\n",
       "  13.8235410004171,\n",
       "  13.8470701804087,\n",
       "  13.8701287768005,\n",
       "  13.8927262012645,\n",
       "  13.9148716772392,\n",
       "  13.9365742436945,\n",
       "  13.9578427588206,\n",
       "  13.9786859036442,\n",
       "  13.9991121855713,\n",
       "  14.0191299418598,\n",
       "  14.0387473430226,\n",
       "  14.0579723961622,\n",
       "  14.0768129482389,\n",
       "  14.0952766892742,\n",
       "  14.1133711554887,\n",
       "  14.1311037323789,\n",
       "  14.1484816577313,\n",
       "  14.1655120245767,\n",
       "  14.1822017840852,\n",
       "  14.1985577484035,\n",
       "  14.2145865934354,\n",
       "  14.2302948615667,\n",
       "  14.2456889643354,\n",
       "  14.2607751850487,\n",
       "  14.2755596813477,\n",
       "  14.2900484877207,\n",
       "  14.3042475179663,\n",
       "  14.3181625676070,\n",
       "  14.3317993162548,\n",
       "  14.3451633299298,\n",
       "  14.3582600633312,\n",
       "  14.3710948620645,\n",
       "  14.3836729648232,\n",
       "  14.3959995055268,\n",
       "  14.4080795154162,\n",
       "  14.4199179251079,\n",
       "  14.4315195666058,\n",
       "  14.4428891752736,\n",
       "  14.4540313917682,\n",
       "  14.4649507639328,\n",
       "  14.4756517486541,\n",
       "  14.4861387136811,\n",
       "  14.4964159394074,\n",
       "  14.5064876206193,\n",
       "  14.5163578682069,\n",
       "  14.5260307108428,\n",
       "  14.5355100966259,\n",
       "  14.5447998946934,\n",
       "  14.5539038967995,\n",
       "  14.5628258188635,\n",
       "  14.5715693024863,\n",
       "  14.5801379164365,\n",
       "  14.5885351581078,\n",
       "  14.5967644549457,\n",
       "  14.6048291658467,\n",
       "  14.6127325825298,\n",
       "  14.6204779308792,\n",
       "  14.6280683722616,\n",
       "  14.6355070048164,\n",
       "  14.6427968647201,\n",
       "  14.6499409274257,\n",
       "  14.6569421088772,\n",
       "  14.6638032666996,\n",
       "  14.6705272013656,\n",
       "  14.6771166573383,\n",
       "  14.6835743241915,\n",
       "  14.6899028377077,\n",
       "  14.6961047809536,\n",
       "  14.7021826853345,\n",
       "  14.7081390316278,\n",
       "  14.7139762509952,\n",
       "  14.7196967259753,\n",
       "  14.7253027914558,\n",
       "  14.7307967356267,\n",
       "  14.7361808009142,\n",
       "  14.7414571848959,\n",
       "  14.7466280411980,\n",
       "  14.7516954803740,\n",
       "  14.7566615707665,\n",
       "  14.7615283393512,\n",
       "  14.7662977725642,\n",
       "  14.7709718171129,\n",
       "  14.7755523807706,\n",
       "  14.7800413331552,\n",
       "  14.7844405064921,\n",
       "  14.7887516963623,\n",
       "  14.7929766624350,\n",
       "  14.7971171291863,\n",
       "  14.8011747866026,\n",
       "  14.8051512908706,\n",
       "  14.8090482650531,\n",
       "  14.8128672997521,\n",
       "  14.8166099537570,\n",
       "  14.8202777546819,\n",
       "  14.8238721995883,\n",
       "  14.8273947555965,\n",
       "  14.8308468604846,\n",
       "  14.8342299232749,\n",
       "  14.8375453248094,\n",
       "  14.8407944183132,\n",
       "  14.8439785299469,\n",
       "  14.8470989593480,\n",
       "  14.8501569801610,\n",
       "  14.8531538405578,\n",
       "  14.8560907637466,\n",
       "  14.8589689484717,\n",
       "  14.8617895695023,\n",
       "  14.8645537781122,\n",
       "  14.8672627025500,\n",
       "  14.8699174484990,\n",
       "  14.8725190995290,\n",
       "  14.8750687175384,\n",
       "  14.8775673431877,\n",
       "  14.8800159963239,\n",
       "  14.8824156763974,\n",
       "  14.8847673628695,\n",
       "  14.8870720156121,\n",
       "  14.8893305752999,\n",
       "  14.8915439637939,\n",
       "  14.8937130845180,\n",
       "  14.8958388228276,\n",
       "  14.8979220463711,\n",
       "  14.8999636054436,\n",
       "  14.9019643333348,\n",
       "  14.9039250466681,\n",
       "  14.9058465457347,\n",
       "  14.9077296148200,\n",
       "  14.9095750225236,\n",
       "  14.9113835220731,\n",
       "  14.9131558516317,\n",
       "  14.9148927345991,\n",
       "  14.9165948799071,\n",
       "  14.9182629823089,\n",
       "  14.9198977226627,\n",
       "  14.9214997682095,\n",
       "  14.9230697728453,\n",
       "  14.9246083773884,\n",
       "  14.9261162098406,\n",
       "  14.9275938856438,\n",
       "  14.9290420079309,\n",
       "  14.9304611677723,\n",
       "  14.9318519444169,\n",
       "  14.9332149055285,\n",
       "  14.9345506074180,\n",
       "  14.9358595952696,\n",
       "  14.9371424033642,\n",
       "  14.9383995552969,\n",
       "  14.9396315641910,\n",
       "  14.9408389329072,\n",
       "  14.9420221542490,\n",
       "  14.9431817111641,\n",
       "  14.9443180769408,\n",
       "  14.9454317154020,\n",
       "  14.9465230810939,\n",
       "  14.9475926194720,\n",
       "  14.9486407670826,\n",
       "  14.9496679517409,\n",
       "  14.9506745927061,\n",
       "  14.9516611008520,\n",
       "  14.9526278788350,\n",
       "  14.9535753212583,\n",
       "  14.9545038148331,\n",
       "  14.9554137385364,\n",
       "  14.9563054637657,\n",
       "  14.9571793544904,\n",
       "  14.9580357674006,\n",
       "  14.9588750520526,\n",
       "  14.9596975510115,\n",
       "  14.9605035999913,\n",
       "  14.9612935279915,\n",
       "  14.9620676574316,\n",
       "  14.9628263042830,\n",
       "  14.9635697781973,\n",
       "  14.9642983826334,\n",
       "  14.9650124149807,\n",
       "  14.9657121666811,\n",
       "  14.9663979233475,\n",
       "  14.9670699648805,\n",
       "  14.9677285655829,\n",
       "  14.9683739942713,\n",
       "  14.9690065143858,\n",
       "  14.9696263840981,\n",
       "  14.9702338564162,\n",
       "  14.9708291792878,\n",
       "  14.9714125957021,\n",
       "  14.9719843437880,\n",
       "  14.9725446569123,\n",
       "  14.9730937637740,\n",
       "  14.9736318884986,\n",
       "  14.9741592507286,\n",
       "  14.9746760657140,\n",
       "  14.9751825443997,\n",
       "  14.9756788935117,\n",
       "  14.9761653156415,\n",
       "  14.9766420093287,\n",
       "  14.9771091691421,\n",
       "  14.9775669857593,\n",
       "  14.9780156460441,\n",
       "  14.9784553331232,\n",
       "  14.9788862264607,\n",
       "  14.9793085019315,\n",
       "  14.9797223318929,\n",
       "  14.9801278852550,\n",
       "  14.9805253275499,\n",
       "  14.9809148209989,\n",
       "  14.9812965245790,\n",
       "  14.9816705940874,\n",
       "  14.9820371822056,\n",
       "  14.9823964385615,\n",
       "  14.9827485097903,\n",
       "  14.9830935395945,\n",
       "  14.9834316688026,\n",
       "  14.9837630354265,\n",
       "  14.9840877747180,\n",
       "  14.9844060192236,\n",
       "  14.9847178988392,\n",
       "  14.9850235408624,\n",
       "  14.9853230700451,\n",
       "  14.9856166086442,\n",
       "  14.9859042764714,\n",
       "  14.9861861909419,\n",
       "  14.9864624671231,\n",
       "  14.9867332177806,\n",
       "  14.9869985534250,\n",
       "  14.9872585823565,\n",
       "  14.9875134107094,\n",
       "  14.9877631424952,\n",
       "  14.9880078796453,\n",
       "  14.9882477220524,\n",
       "  14.9884827676113,\n",
       "  14.9887131122591,\n",
       "  14.9889388500139,\n",
       "  14.9891600730136,\n",
       "  14.9893768715534,\n",
       "  14.9895893341223,\n",
       "  14.9897975474399,\n",
       "  14.9900015964911])"
      ]
     },
     "execution_count": 92,
     "metadata": {},
     "output_type": "execute_result"
    }
   ],
   "source": [
    "# в целом близко к найденному ранее аналитическим способом минимуму - 15\n",
    "# попробуем уменьшить дельта до 0.02\n",
    "\n",
    "gradient_descent(fx, 0,0.01,10000, 0.02)"
   ]
  },
  {
   "cell_type": "code",
   "execution_count": 93,
   "metadata": {},
   "outputs": [
    {
     "data": {
      "text/plain": [
       "(-4.99888862106226,\n",
       " [0,\n",
       "  -0.0500000000000000,\n",
       "  -0.106925000000000,\n",
       "  -0.171551511331250,\n",
       "  -0.244685825286424,\n",
       "  -0.327145706233640,\n",
       "  -0.419735375713137,\n",
       "  -0.523212994744225,\n",
       "  -0.638250258872339,\n",
       "  -0.765384393325949,\n",
       "  -0.904963810305174,\n",
       "  -1.05708995880904,\n",
       "  -1.22155937761185,\n",
       "  -1.39781147108657,\n",
       "  -1.58488876977765,\n",
       "  -1.78141702516951,\n",
       "  -1.98561201016632,\n",
       "  -2.19531803994211,\n",
       "  -2.40807992663914,\n",
       "  -2.62124564837615,\n",
       "  -2.83209217667489,\n",
       "  -3.03796269849388,\n",
       "  -3.23640095555981,\n",
       "  -3.42526835498373,\n",
       "  -3.60283202557187,\n",
       "  -3.76781655101734,\n",
       "  -3.91941762129616,\n",
       "  -4.05728105357382,\n",
       "  -4.18145451464348,\n",
       "  -4.29232129095260,\n",
       "  -4.39052560974301,\n",
       "  -4.47689774121276,\n",
       "  -4.55238502342427,\n",
       "  -4.61799264465874,\n",
       "  -4.67473593292729,\n",
       "  -4.72360428225907,\n",
       "  -4.76553575931405,\n",
       "  -4.80140083341899,\n",
       "  -4.83199345120295,\n",
       "  -4.85802771299732,\n",
       "  -4.88013859500944,\n",
       "  -4.89888541711574,\n",
       "  -4.91475702561107,\n",
       "  -4.92817791057282,\n",
       "  -4.93951469250528,\n",
       "  -4.94908258753175,\n",
       "  -4.95715159603990,\n",
       "  -4.96395226110185,\n",
       "  -4.96968091614117,\n",
       "  -4.97450439215320,\n",
       "  -4.97856418862810,\n",
       "  -4.98198013362733,\n",
       "  -4.98485357077944,\n",
       "  -4.98727011702518,\n",
       "  -4.98930203680354,\n",
       "  -4.99101027752247,\n",
       "  -4.99244620866557,\n",
       "  -4.99365310348617,\n",
       "  -4.99466739843553,\n",
       "  -4.99551976158666,\n",
       "  -4.99623599755671,\n",
       "  -4.99683781291620,\n",
       "  -4.99734346286679,\n",
       "  -4.99776829709242,\n",
       "  -4.99812522014270,\n",
       "  -4.99842507947588,\n",
       "  -4.99867699234850,\n",
       "  -4.99888862106226])"
      ]
     },
     "execution_count": 93,
     "metadata": {},
     "output_type": "execute_result"
    }
   ],
   "source": [
    "# После уменьшения дельта получилось почти идеально близко к реальному минимуму\n",
    "# Проделаем для остальных функций\n",
    "\n",
    "gradient_descent(gx, 0,0.01,10000, 0.02)"
   ]
  },
  {
   "cell_type": "code",
   "execution_count": 94,
   "metadata": {},
   "outputs": [
    {
     "data": {
      "text/plain": [
       "(-0.796927110999735,\n",
       " [0.1,\n",
       "  -0.902000000000000,\n",
       "  -0.896250991686373,\n",
       "  -0.890775150568835,\n",
       "  -0.885562353802390,\n",
       "  -0.880602619436358,\n",
       "  -0.875886122521809,\n",
       "  -0.871403210189867,\n",
       "  -0.867144415597591,\n",
       "  -0.863100470659616,\n",
       "  -0.859262317505104,\n",
       "  -0.855621118620157,\n",
       "  -0.852168265655413,\n",
       "  -0.848895386896732,\n",
       "  -0.845794353413442,\n",
       "  -0.842857283913396,\n",
       "  -0.840076548346943,\n",
       "  -0.837444770312849,\n",
       "  -0.834954828328207,\n",
       "  -0.832599856031447,\n",
       "  -0.830373241392907,\n",
       "  -0.828268625011051,\n",
       "  -0.826279897574559,\n",
       "  -0.824401196571262,\n",
       "  -0.822626902324476,\n",
       "  -0.820951633435801,\n",
       "  -0.819370241711110,\n",
       "  -0.817877806643434,\n",
       "  -0.816469629522827,\n",
       "  -0.815141227239251,\n",
       "  -0.813888325840237,\n",
       "  -0.812706853900521,\n",
       "  -0.811592935756274,\n",
       "  -0.810542884651915,\n",
       "  -0.809553195842929,\n",
       "  -0.808620539693693,\n",
       "  -0.807741754805007,\n",
       "  -0.806913841201940,\n",
       "  -0.806133953608755,\n",
       "  -0.805399394834036,\n",
       "  -0.804707609285759,\n",
       "  -0.804056176632954,\n",
       "  -0.803442805627718,\n",
       "  -0.802865328098733,\n",
       "  -0.802321693125101,\n",
       "  -0.801809961397128,\n",
       "  -0.801328299768848,\n",
       "  -0.800874976005327,\n",
       "  -0.800448353726327,\n",
       "  -0.800046887546594,\n",
       "  -0.799669118411880,\n",
       "  -0.799313669128849,\n",
       "  -0.798979240086171,\n",
       "  -0.798664605163377,\n",
       "  -0.798368607823501,\n",
       "  -0.798090157385010,\n",
       "  -0.797828225468155,\n",
       "  -0.797581842610554,\n",
       "  -0.797350095046609,\n",
       "  -0.797132121645167,\n",
       "  -0.796927110999735])"
      ]
     },
     "execution_count": 94,
     "metadata": {},
     "output_type": "execute_result"
    }
   ],
   "source": [
    "gradient_descent(hx, 0.1 ,0.01,10000, 0.02)"
   ]
  },
  {
   "cell_type": "code",
   "execution_count": 95,
   "metadata": {},
   "outputs": [
    {
     "data": {
      "text/plain": [
       "(0.945852930013889,\n",
       " [0.9,\n",
       "  0.962582477947465,\n",
       "  0.933083740491626,\n",
       "  0.952716931322200,\n",
       "  0.941260354158072,\n",
       "  0.948620992274191,\n",
       "  0.944132565904590,\n",
       "  0.946966777443542,\n",
       "  0.945213825470185,\n",
       "  0.946312531848448,\n",
       "  0.945629472672451,\n",
       "  0.946056312033284,\n",
       "  0.945790429385308,\n",
       "  0.945956380569878,\n",
       "  0.945852930013889])"
      ]
     },
     "execution_count": 95,
     "metadata": {},
     "output_type": "execute_result"
    }
   ],
   "source": [
    "gradient_descent(jx, 0.9 , 0.01, 1000, 0.01)"
   ]
  },
  {
   "cell_type": "markdown",
   "metadata": {
    "id": "MH60U5sxZH7O"
   },
   "source": [
    "## Задание 7 (1 балл)"
   ]
  },
  {
   "cell_type": "markdown",
   "metadata": {
    "id": "Z9xZTUGTZYrU"
   },
   "source": [
    "Подберите начальное приближение (сделайте несколько запусков из случайной начальной точки) и шаг градиентного спуска таким образом, чтобы процедура выдавала правильное значение наименьшего локального минимума функций (если он есть):\n",
    "- [ ] в качестве результата выведите на экран значение начального приближения ($x_0$), `learning_rate`\n",
    "- [ ] нарисуйте график функции и изобразите на нём наименьший из найденных локальных минимумов; на оси $x$ подпишите значение этого минимума. \\\n",
    "(Постарайтесь сделать реализацию графика в виде функции, чтобы оптимизировать процесс. Потом функция понадобится вам в задании 9, но это не обязательное требование).\n",
    "- [ ] если такой точки у функции нет, поясните это текстом при помощи Markdown"
   ]
  },
  {
   "cell_type": "code",
   "execution_count": 96,
   "metadata": {
    "id": "KZDLoN1hak2V"
   },
   "outputs": [
    {
     "name": "stdout",
     "output_type": "stream",
     "text": [
      "Начальное приближение для fx: [ 1.90735581  5.61770732  2.61798016 -4.96274584 -8.99459678]\n",
      "Наименьший локальный минимум для fx: 14.9995\n"
     ]
    },
    {
     "name": "stderr",
     "output_type": "stream",
     "text": [
      "/var/folders/j7/bpk2y95s0x12x19c3ryr4v7r0000gn/T/ipykernel_35275/1940582100.py:23: UserWarning: No artists with labels found to put in legend.  Note that artists whose label start with an underscore are ignored when legend() is called with no argument.\n",
      "  plt.legend()\n"
     ]
    },
    {
     "data": {
      "image/png": "[encoded data removed]",
      "text/plain": [
       "<Figure size 1000x600 with 1 Axes>"
      ]
     },
     "metadata": {},
     "output_type": "display_data"
    }
   ],
   "source": [
    "def plot_function_and_minimum(fx, minimum):\n",
    "    x_vals = np.linspace(-5, 30, 400)\n",
    "    y_vals = [fx.subs(x, val) for val in x_vals]\n",
    "\n",
    "    plt.figure(figsize=(10, 6))\n",
    "    plt.plot(x_vals, y_vals, color='blue')\n",
    "\n",
    "    ax = plt.gca()\n",
    "    ax.spines['left'].set_position('zero')\n",
    "    ax.spines['bottom'].set_position('zero')\n",
    "    ax.spines['right'].set_color('none')\n",
    "    ax.spines['top'].set_color('none')  \n",
    "\n",
    "    plt.axhline(0, color='black', lw=0.5, ls='-')\n",
    "    plt.axvline(0, color='black', lw=0.5, ls='-')\n",
    "    plt.scatter(minimum, fx.subs(x, minimum), color='red', zorder=5)\n",
    "    plt.text(minimum, fx.subs(x, minimum), f'Minimum: {minimum:.2f}', fontsize=12, verticalalignment='bottom')\n",
    "    plt.title('График функции с найденным минимумом')\n",
    "    plt.xlabel('x')\n",
    "    plt.ylabel('y', loc='top')\n",
    "    plt.xlim(-10, 30) \n",
    "    plt.ylim(-250, 150) \n",
    "    plt.legend()\n",
    "    plt.show()\n",
    "\n",
    "learning_rate = 0.1\n",
    "num_iterations = 1000\n",
    "delta = 0.001\n",
    "\n",
    "initial_points = np.random.uniform(-10, 10, size=5)\n",
    "results = []\n",
    "\n",
    "for x_start in initial_points:\n",
    "    minimum, trace = gradient_descent(fx, x_start, learning_rate, num_iterations, delta)\n",
    "    results.append(minimum)\n",
    "\n",
    "local_minimum = min(results)\n",
    "\n",
    "print(f'Начальное приближение для fx: {initial_points}')\n",
    "print(f'Наименьший локальный минимум для fx: {local_minimum:.4f}')\n",
    "\n",
    "plot_function_and_minimum(fx, local_minimum)"
   ]
  },
  {
   "cell_type": "code",
   "execution_count": 97,
   "metadata": {},
   "outputs": [
    {
     "name": "stdout",
     "output_type": "stream",
     "text": [
      "Начальное приближение для gx: [ 1.90735581  5.61770732  2.61798016 -4.96274584 -8.99459678]\n",
      "Наименьший локальный минимум для gx: -5.0000\n"
     ]
    },
    {
     "name": "stderr",
     "output_type": "stream",
     "text": [
      "/var/folders/j7/bpk2y95s0x12x19c3ryr4v7r0000gn/T/ipykernel_35275/306807152.py:23: UserWarning: No artists with labels found to put in legend.  Note that artists whose label start with an underscore are ignored when legend() is called with no argument.\n",
      "  plt.legend()\n"
     ]
    },
    {
     "data": {
      "image/png": "[encoded data removed]",
      "text/plain": [
       "<Figure size 1000x600 with 1 Axes>"
      ]
     },
     "metadata": {},
     "output_type": "display_data"
    }
   ],
   "source": [
    "def plot_function_and_minimum(fx, minimum):\n",
    "    x_vals = np.linspace(-100, 100, 400)\n",
    "    y_vals = [fx.subs(x, val) for val in x_vals]\n",
    "\n",
    "    plt.figure(figsize=(10, 6))\n",
    "    plt.plot(x_vals, y_vals, color='blue')\n",
    "\n",
    "    ax = plt.gca()\n",
    "    ax.spines['left'].set_position('zero')\n",
    "    ax.spines['bottom'].set_position('zero')\n",
    "    ax.spines['right'].set_color('none')\n",
    "    ax.spines['top'].set_color('none')  \n",
    "\n",
    "    plt.axhline(0, color='black', lw=0.5, ls='-')\n",
    "    plt.axvline(0, color='black', lw=0.5, ls='-')\n",
    "    plt.scatter(minimum, fx.subs(x, minimum), color='red', zorder=5)\n",
    "    plt.text(minimum, fx.subs(x, minimum), f'Minimum: {minimum:.2f}', fontsize=12, verticalalignment='bottom')\n",
    "    plt.title('График функции с найденным минимумом')\n",
    "    plt.xlabel('x')\n",
    "    plt.ylabel('y', loc='top')\n",
    "    plt.xlim(-10, 30) \n",
    "    plt.ylim(-100, 100) \n",
    "    plt.legend()\n",
    "    plt.show()\n",
    "\n",
    "results = []\n",
    "\n",
    "for x_start in initial_points:\n",
    "    minimum, trace = gradient_descent(gx, x_start, learning_rate, num_iterations, delta)\n",
    "    results.append(minimum)\n",
    "\n",
    "local_minimum = min(results)\n",
    "\n",
    "print(f'Начальное приближение для gx: {initial_points}')\n",
    "print(f'Наименьший локальный минимум для gx: {local_minimum:.4f}')\n",
    "\n",
    "plot_function_and_minimum(gx, local_minimum)"
   ]
  },
  {
   "cell_type": "code",
   "execution_count": 98,
   "metadata": {},
   "outputs": [
    {
     "name": "stderr",
     "output_type": "stream",
     "text": [
      "/var/folders/j7/bpk2y95s0x12x19c3ryr4v7r0000gn/T/ipykernel_35275/306807152.py:23: UserWarning: No artists with labels found to put in legend.  Note that artists whose label start with an underscore are ignored when legend() is called with no argument.\n",
      "  plt.legend()\n"
     ]
    },
    {
     "name": "stdout",
     "output_type": "stream",
     "text": [
      "Начальное приближение для hx: [ 1.90735581  5.61770732  2.61798016 -4.96274584 -8.99459678]\n",
      "Наименьший локальный минимум для hx: -0.7938\n"
     ]
    },
    {
     "data": {
      "image/png": "[encoded data removed]",
      "text/plain": [
       "<Figure size 1000x600 with 1 Axes>"
      ]
     },
     "metadata": {},
     "output_type": "display_data"
    }
   ],
   "source": [
    "results = [] \n",
    "\n",
    "for x_start in initial_points:\n",
    "    minimum, trace = gradient_descent(hx, x_start, learning_rate, num_iterations, delta)\n",
    "    results.append(minimum)\n",
    "\n",
    "local_minimum = min(results)\n",
    "\n",
    "print(f'Начальное приближение для hx: {initial_points}')\n",
    "print(f'Наименьший локальный минимум для hx: {local_minimum:.4f}')\n",
    "\n",
    "plot_function_and_minimum(hx, local_minimum)"
   ]
  },
  {
   "cell_type": "code",
   "execution_count": 99,
   "metadata": {},
   "outputs": [
    {
     "name": "stdout",
     "output_type": "stream",
     "text": [
      "Начальное приближение для jx: [0.97170508 0.9490025  0.92499817 0.91346386 0.98254043]\n",
      "Наименьший локальный минимум для jx: 0.9459\n"
     ]
    },
    {
     "name": "stderr",
     "output_type": "stream",
     "text": [
      "/var/folders/j7/bpk2y95s0x12x19c3ryr4v7r0000gn/T/ipykernel_35275/306807152.py:23: UserWarning: No artists with labels found to put in legend.  Note that artists whose label start with an underscore are ignored when legend() is called with no argument.\n",
      "  plt.legend()\n"
     ]
    },
    {
     "data": {
      "image/png": "[encoded data removed]",
      "text/plain": [
       "<Figure size 1000x600 with 1 Axes>"
      ]
     },
     "metadata": {},
     "output_type": "display_data"
    }
   ],
   "source": [
    "# с функцией j(x) могут быть проблемы со сходимостью, поэтому переинициализируем начальные точки\n",
    "initial_points = np.random.uniform(0.9, 1.02, size=5) \n",
    "results = [] \n",
    "learning_rate = 0.01\n",
    "num_iterations = 10000\n",
    "delta = 0.001\n",
    "\n",
    "for x_start in initial_points:\n",
    "    minimum, trace = gradient_descent(jx, x_start, learning_rate, num_iterations, delta)\n",
    "    results.append(minimum)\n",
    "\n",
    "local_minimum = min(results)\n",
    "\n",
    "print(f'Начальное приближение для jx: {initial_points}')\n",
    "print(f'Наименьший локальный минимум для jx: {local_minimum:.4f}')\n",
    "\n",
    "plot_function_and_minimum(jx, local_minimum)"
   ]
  },
  {
   "cell_type": "markdown",
   "metadata": {
    "id": "FRZm6iyxZH9e"
   },
   "source": [
    "## Задание 8 (1.5 балла)"
   ]
  },
  {
   "cell_type": "markdown",
   "metadata": {
    "id": "nHqTeM3cZZfI"
   },
   "source": [
    "Реализуйте [метод Ньютона](https://en.wikipedia.org/wiki/Newton%27s_method_in_optimization) (метод второго порядка) для поиска минимума функции.\n",
    "\n",
    "Про метод ещё можно почитать [здесь](https://math.semestr.ru/optim/minimum.php)."
   ]
  },
  {
   "cell_type": "code",
   "execution_count": 100,
   "metadata": {
    "id": "LWDkB7H_aj_e"
   },
   "outputs": [],
   "source": [
    "# your code here\n",
    "\n",
    "def newton_method(func, x_start, num_iterations, delta):\n",
    "    x = sp.symbols('x')\n",
    "    x_curr = x_start\n",
    "    df_x = sp.diff(func, x)\n",
    "    df2_x = sp.diff(df_x, x)\n",
    "    trace = [x_curr]\n",
    "\n",
    "    for i in range(num_iterations):\n",
    "        grad = df_x.subs(x, x_curr)\n",
    "        grad_2 = df2_x.subs(x, x_curr)\n",
    "\n",
    "        if abs(grad) < delta:\n",
    "            return x_curr.evalf(), trace\n",
    "        \n",
    "        if grad_2 == 0:\n",
    "            raise ValueError(\"Вторая производная равна нулю\")\n",
    "\n",
    "        x_new = x_curr - grad / grad_2\n",
    "        trace.append(x_new)\n",
    "        x_curr = x_new\n",
    "\n",
    "    return x_curr.evalf(), trace"
   ]
  },
  {
   "cell_type": "markdown",
   "metadata": {
    "id": "--7xCYepZIAA"
   },
   "source": [
    "## Задание 9 (0.5 балла)"
   ]
  },
  {
   "cell_type": "markdown",
   "metadata": {
    "id": "omFeD-OnZdK_"
   },
   "source": [
    "Примените метод Ньютона для поиска минимума указанных функций (в ответе выведите подходящее значение начальной точки, график с найденным и подписанным значением минимума, как в задании 7)."
   ]
  },
  {
   "cell_type": "code",
   "execution_count": 101,
   "metadata": {
    "id": "8XJtp65GajsA"
   },
   "outputs": [],
   "source": [
    "# your code here\n",
    "\n",
    "def plot_function_and_minimum_newton(fx, minimum):\n",
    "    x = sp.symbols('x')\n",
    "    x_vals = np.linspace(-100, 100, 400)\n",
    "    y_vals = [float(fx.subs(x, val)) for val in x_vals]\n",
    "\n",
    "    plt.figure(figsize=(10, 6))\n",
    "    plt.plot(x_vals, y_vals, color='blue')\n",
    "\n",
    "    ax = plt.gca()\n",
    "    ax.spines['left'].set_position('zero')\n",
    "    ax.spines['bottom'].set_position('zero')\n",
    "    ax.spines['right'].set_color('none')\n",
    "    ax.spines['top'].set_color('none')  \n",
    "\n",
    "    plt.axhline(0, color='black', lw=0.5, ls='-')\n",
    "    plt.axvline(0, color='black', lw=0.5, ls='-')\n",
    "    plt.scatter(minimum, fx.subs(x, minimum), color='red', zorder=5)\n",
    "    plt.text(minimum, fx.subs(x, minimum), f'Minimum: {minimum:.2f}', fontsize=12, verticalalignment='bottom')\n",
    "    plt.title('График функции с найденным минимумом')\n",
    "    plt.xlabel('x')\n",
    "    plt.ylabel('y', loc='top')\n",
    "    plt.xlim(-10, 30) \n",
    "    plt.ylim(-250, 150) \n",
    "    plt.legend()\n",
    "    plt.show()"
   ]
  },
  {
   "cell_type": "code",
   "execution_count": 102,
   "metadata": {},
   "outputs": [
    {
     "name": "stdout",
     "output_type": "stream",
     "text": [
      "Начальное приближение для fx: [-1.31980435 -8.9628139   2.15175817 -8.01402006 -2.21246839]\n",
      "Наименьший локальный минимум для fx: 15.0000\n"
     ]
    },
    {
     "name": "stderr",
     "output_type": "stream",
     "text": [
      "/var/folders/j7/bpk2y95s0x12x19c3ryr4v7r0000gn/T/ipykernel_35275/981580948.py:26: UserWarning: No artists with labels found to put in legend.  Note that artists whose label start with an underscore are ignored when legend() is called with no argument.\n",
      "  plt.legend()\n"
     ]
    },
    {
     "data": {
      "image/png": "[encoded data removed]",
      "text/plain": [
       "<Figure size 1000x600 with 1 Axes>"
      ]
     },
     "metadata": {},
     "output_type": "display_data"
    }
   ],
   "source": [
    "initial_points = np.random.uniform(-10, 10, size=5)\n",
    "results = []\n",
    "\n",
    "for x_start in initial_points:\n",
    "    minimum, trace = newton_method(fx, x_start, 1000, 0.01)\n",
    "    results.append(minimum)\n",
    "\n",
    "local_minimum = min(results)\n",
    "\n",
    "print(f'Начальное приближение для fx: {initial_points}')\n",
    "print(f'Наименьший локальный минимум для fx: {local_minimum:.4f}')\n",
    "\n",
    "plot_function_and_minimum_newton(fx, local_minimum)"
   ]
  },
  {
   "cell_type": "code",
   "execution_count": 103,
   "metadata": {},
   "outputs": [
    {
     "name": "stdout",
     "output_type": "stream",
     "text": [
      "Начальное приближение для gx: [-1.31980435 -8.9628139   2.15175817 -8.01402006 -2.21246839]\n",
      "Наименьший локальный минимум для gx: -5.0000\n"
     ]
    },
    {
     "name": "stderr",
     "output_type": "stream",
     "text": [
      "/var/folders/j7/bpk2y95s0x12x19c3ryr4v7r0000gn/T/ipykernel_35275/981580948.py:26: UserWarning: No artists with labels found to put in legend.  Note that artists whose label start with an underscore are ignored when legend() is called with no argument.\n",
      "  plt.legend()\n"
     ]
    },
    {
     "data": {
      "image/png": "[encoded data removed]",
      "text/plain": [
       "<Figure size 1000x600 with 1 Axes>"
      ]
     },
     "metadata": {},
     "output_type": "display_data"
    }
   ],
   "source": [
    "results = []\n",
    "\n",
    "for x_start in initial_points:\n",
    "    minimum, trace = newton_method(gx, x_start, 1000, 0.01)\n",
    "    results.append(minimum)\n",
    "\n",
    "local_minimum = min(results)\n",
    "\n",
    "print(f'Начальное приближение для gx: {initial_points}')\n",
    "print(f'Наименьший локальный минимум для gx: {local_minimum:.4f}')\n",
    "\n",
    "plot_function_and_minimum_newton(gx, local_minimum)"
   ]
  },
  {
   "cell_type": "code",
   "execution_count": 104,
   "metadata": {},
   "outputs": [
    {
     "name": "stdout",
     "output_type": "stream",
     "text": [
      "Начальное приближение для hx: [-1.31980435 -8.9628139   2.15175817 -8.01402006 -2.21246839]\n",
      "Наименьший локальный минимум для hx: -0.7937\n"
     ]
    },
    {
     "name": "stderr",
     "output_type": "stream",
     "text": [
      "/var/folders/j7/bpk2y95s0x12x19c3ryr4v7r0000gn/T/ipykernel_35275/981580948.py:26: UserWarning: No artists with labels found to put in legend.  Note that artists whose label start with an underscore are ignored when legend() is called with no argument.\n",
      "  plt.legend()\n"
     ]
    },
    {
     "data": {
      "image/png": "[encoded data removed]",
      "text/plain": [
       "<Figure size 1000x600 with 1 Axes>"
      ]
     },
     "metadata": {},
     "output_type": "display_data"
    }
   ],
   "source": [
    "results = []\n",
    "\n",
    "for x_start in initial_points:\n",
    "    minimum, trace = newton_method(hx, x_start, 1000, 0.01)\n",
    "    results.append(minimum)\n",
    "\n",
    "local_minimum = min(results)\n",
    "\n",
    "print(f'Начальное приближение для hx: {initial_points}')\n",
    "print(f'Наименьший локальный минимум для hx: {local_minimum:.4f}')\n",
    "\n",
    "plot_function_and_minimum_newton(hx, local_minimum)"
   ]
  },
  {
   "cell_type": "code",
   "execution_count": 105,
   "metadata": {},
   "outputs": [
    {
     "name": "stdout",
     "output_type": "stream",
     "text": [
      "Начальное приближение для jx: [0.96573431 0.9945028  0.96629113 0.90040463 0.93427984]\n",
      "Наименьший локальный минимум для jx: 0.9459\n"
     ]
    },
    {
     "name": "stderr",
     "output_type": "stream",
     "text": [
      "/var/folders/j7/bpk2y95s0x12x19c3ryr4v7r0000gn/T/ipykernel_35275/981580948.py:26: UserWarning: No artists with labels found to put in legend.  Note that artists whose label start with an underscore are ignored when legend() is called with no argument.\n",
      "  plt.legend()\n"
     ]
    },
    {
     "data": {
      "image/png": "[encoded data removed]",
      "text/plain": [
       "<Figure size 1000x600 with 1 Axes>"
      ]
     },
     "metadata": {},
     "output_type": "display_data"
    }
   ],
   "source": [
    "initial_points = np.random.uniform(0.9, 1.02, size=5) \n",
    "\n",
    "results = []\n",
    "\n",
    "for x_start in initial_points:\n",
    "    minimum, trace = newton_method(jx, x_start, 1000, 0.01)\n",
    "    results.append(minimum)\n",
    "\n",
    "local_minimum = min(results)\n",
    "\n",
    "print(f'Начальное приближение для jx: {initial_points}')\n",
    "print(f'Наименьший локальный минимум для jx: {local_minimum:.4f}')\n",
    "\n",
    "plot_function_and_minimum_newton(jx, local_minimum)"
   ]
  },
  {
   "cell_type": "markdown",
   "metadata": {
    "id": "Csc35WqLZcuM"
   },
   "source": [
    "## Задание 10 (1 балл)"
   ]
  },
  {
   "cell_type": "markdown",
   "metadata": {
    "id": "02XtrZOWaGBg"
   },
   "source": [
    "Сравните скорость работы градиентного спуска и метода Ньютона при одинаковой точности решения $|x_{found}-x_{true}|<10^{-5}$:\n",
    "* за сколько итераций каждый метод сходится (в среднем по всем функциям для правильно подобранных значений гиперпараметров)? Какой быстрее?\n",
    "* какой метод дает более точный результат при фиксированном числе итераций $N=10$? (для ответа на этот вопрос добавьте в процедуру градиентного спуска возможность останавливаться при достижении некоторого количества итераций $N$)"
   ]
  },
  {
   "cell_type": "code",
   "execution_count": 106,
   "metadata": {
    "id": "Qap0G9_mPIAB"
   },
   "outputs": [],
   "source": [
    "# модифицируем метод градиентного спуска для нового условия остановки и уберем лишнее, не связанное с замером времени\n",
    "\n",
    "def gradient_descent_difference(func, x_start, learning_rate, x_true, num_iterations):\n",
    "    x_curr = x_start\n",
    "    df_x = sp.diff(func)\n",
    "    iterations = 0\n",
    "\n",
    "    for i in range(num_iterations):\n",
    "        grad = df_x.subs(x, x_curr)\n",
    "        x_new = x_curr - learning_rate * grad\n",
    "        iterations += 1\n",
    "        \n",
    "        if abs(x_new - x_true) < (10**(-5)):\n",
    "            break\n",
    "            \n",
    "        x_curr = x_new\n",
    "        \n",
    "    return x_curr, iterations # добавим вывод количенства итераций, чтобы сравнить два метода\n",
    "\n",
    "def newton_method_diff(func, x_start, x_true, num_iterations):\n",
    "    x_curr = x_start\n",
    "    df_x = sp.diff(func)\n",
    "    df2_x = sp.diff(df_x, x)\n",
    "    iterations = 0\n",
    "\n",
    "    for i in range(num_iterations):\n",
    "        grad = df_x.subs(x, x_curr)\n",
    "        grad_2 = df2_x.subs(x, x_curr)\n",
    "        iterations += 1\n",
    "\n",
    "        if abs(grad) < 0.01:\n",
    "            return x_curr, iterations\n",
    "        \n",
    "        if grad_2 == 0:\n",
    "            raise ValueError(\"Вторая производная равна нулю\")\n",
    "        \n",
    "        x_new = x_curr - grad / grad_2\n",
    "        \n",
    "        if (abs(x_new - x_true) < (10**(-5))):\n",
    "            break\n",
    "            \n",
    "        x_curr = x_new\n",
    "        \n",
    "    return x_curr, iterations # добавим вывод количенства итераций, чтобы сравнить два метода"
   ]
  },
  {
   "cell_type": "code",
   "execution_count": 107,
   "metadata": {},
   "outputs": [],
   "source": [
    "# для каждого шага ниже будем замерять время выполнения"
   ]
  },
  {
   "cell_type": "code",
   "execution_count": 108,
   "metadata": {},
   "outputs": [
    {
     "name": "stdout",
     "output_type": "stream",
     "text": [
      "CPU times: user 117 ms, sys: 2.32 ms, total: 120 ms\n",
      "Wall time: 120 ms\n"
     ]
    }
   ],
   "source": [
    "%%time\n",
    "gd_fx_d = gradient_descent_difference(fx, 12, 0.01, 15, 1000)"
   ]
  },
  {
   "cell_type": "code",
   "execution_count": 109,
   "metadata": {},
   "outputs": [
    {
     "name": "stdout",
     "output_type": "stream",
     "text": [
      "Минимум методом градиентного спуcка для f(x): 14.9999899493885000\n",
      "Количество итераций, необходимое для метода градиентного спуска: 625\n"
     ]
    }
   ],
   "source": [
    "print(f\"Минимум методом градиентного спуcка для f(x): {gd_fx_d[0]:.16f}\")\n",
    "print(f\"Количество итераций, необходимое для метода градиентного спуска: {gd_fx_d[1]}\")"
   ]
  },
  {
   "cell_type": "code",
   "execution_count": 110,
   "metadata": {},
   "outputs": [
    {
     "name": "stdout",
     "output_type": "stream",
     "text": [
      "CPU times: user 699 μs, sys: 85 μs, total: 784 μs\n",
      "Wall time: 1.06 ms\n"
     ]
    }
   ],
   "source": [
    "%%time\n",
    "nm_fx_d = newton_method_diff(fx, 12, 15, 1000) "
   ]
  },
  {
   "cell_type": "code",
   "execution_count": 111,
   "metadata": {},
   "outputs": [
    {
     "name": "stdout",
     "output_type": "stream",
     "text": [
      "Минимум методом Ньютона для f(x): 12.0000000000000000\n",
      "Количество итераций, необходимое для метода градиентного спуска: 1\n"
     ]
    }
   ],
   "source": [
    "print(f\"Минимум методом Ньютона для f(x): {nm_fx_d[0]:.16f}\")\n",
    "print(f\"Количество итераций, необходимое для метода градиентного спуска: {nm_fx_d[1]}\")"
   ]
  },
  {
   "cell_type": "code",
   "execution_count": 112,
   "metadata": {},
   "outputs": [
    {
     "name": "stdout",
     "output_type": "stream",
     "text": [
      "CPU times: user 25 ms, sys: 1.03 ms, total: 26 ms\n",
      "Wall time: 25.6 ms\n"
     ]
    }
   ],
   "source": [
    "%%time\n",
    "gd_gx_d = gradient_descent_difference(gx, -10, 0.01, -5, 1000)"
   ]
  },
  {
   "cell_type": "code",
   "execution_count": 113,
   "metadata": {},
   "outputs": [
    {
     "name": "stdout",
     "output_type": "stream",
     "text": [
      "Минимум методом градиентного спуcка для g(x): -5.0000113170134800\n",
      "Количество итераций, необходимое для метода градиентного спуска: 71\n"
     ]
    }
   ],
   "source": [
    "print(f\"Минимум методом градиентного спуcка для g(x): {gd_gx_d[0]:.16f}\")\n",
    "print(f\"Количество итераций, необходимое для метода градиентного спуска: {gd_gx_d[1]}\")"
   ]
  },
  {
   "cell_type": "code",
   "execution_count": 114,
   "metadata": {},
   "outputs": [
    {
     "name": "stdout",
     "output_type": "stream",
     "text": [
      "CPU times: user 1.42 ms, sys: 27 μs, total: 1.45 ms\n",
      "Wall time: 1.49 ms\n"
     ]
    }
   ],
   "source": [
    "%%time\n",
    "nm_gx_d = newton_method_diff(gx, -10, -5, 1000)"
   ]
  },
  {
   "cell_type": "code",
   "execution_count": 115,
   "metadata": {},
   "outputs": [
    {
     "name": "stdout",
     "output_type": "stream",
     "text": [
      "Минимум методом Ньютона для g(x): -5.0000481588040163\n",
      "Количество итераций, необходимое для метода градиентного спуска: 5\n"
     ]
    }
   ],
   "source": [
    "print(f\"Минимум методом Ньютона для g(x): {nm_gx_d[0]:.16f}\")\n",
    "print(f\"Количество итераций, необходимое для метода градиентного спуска: {nm_gx_d[1]}\")"
   ]
  },
  {
   "cell_type": "code",
   "execution_count": 116,
   "metadata": {},
   "outputs": [
    {
     "name": "stdout",
     "output_type": "stream",
     "text": [
      "CPU times: user 135 ms, sys: 2.38 ms, total: 137 ms\n",
      "Wall time: 137 ms\n"
     ]
    }
   ],
   "source": [
    "%%time\n",
    "gd_hx_d = gradient_descent_difference(hx, -0.9, 0.01, -0.79, 1000)"
   ]
  },
  {
   "cell_type": "code",
   "execution_count": 117,
   "metadata": {},
   "outputs": [
    {
     "name": "stdout",
     "output_type": "stream",
     "text": [
      "Минимум методом градиентного спуcка для h(x): -0.7937005259841010\n",
      "Количество итераций, необходимое для метода градиентного спуска: 1000\n"
     ]
    }
   ],
   "source": [
    "print(f\"Минимум методом градиентного спуcка для h(x): {gd_hx_d[0]:.16f}\")\n",
    "print(f\"Количество итераций, необходимое для метода градиентного спуска: {gd_hx_d[1]}\")"
   ]
  },
  {
   "cell_type": "code",
   "execution_count": 118,
   "metadata": {},
   "outputs": [
    {
     "name": "stdout",
     "output_type": "stream",
     "text": [
      "CPU times: user 1.57 ms, sys: 52 μs, total: 1.63 ms\n",
      "Wall time: 1.7 ms\n"
     ]
    }
   ],
   "source": [
    "%%time\n",
    "nm_hx_d = newton_method_diff(hx, -0.9, -0.79, 1000)"
   ]
  },
  {
   "cell_type": "code",
   "execution_count": 119,
   "metadata": {},
   "outputs": [
    {
     "name": "stdout",
     "output_type": "stream",
     "text": [
      "Минимум методом Ньютона для h(x): -0.7934885313065160\n",
      "Количество итераций, необходимое для метода градиентного спуска: 3\n"
     ]
    }
   ],
   "source": [
    "print(f\"Минимум методом Ньютона для h(x): {nm_hx_d[0]:.16f}\")\n",
    "print(f\"Количество итераций, необходимое для метода градиентного спуска: {nm_hx_d[1]}\")"
   ]
  },
  {
   "cell_type": "code",
   "execution_count": 120,
   "metadata": {},
   "outputs": [
    {
     "name": "stdout",
     "output_type": "stream",
     "text": [
      "CPU times: user 55.9 ms, sys: 3.21 ms, total: 59.1 ms\n",
      "Wall time: 75.5 ms\n"
     ]
    }
   ],
   "source": [
    "%%time\n",
    "gd_jx_d = gradient_descent_difference(jx, 0.9, 0.01, 0.95, 1000)"
   ]
  },
  {
   "cell_type": "code",
   "execution_count": 121,
   "metadata": {},
   "outputs": [
    {
     "name": "stdout",
     "output_type": "stream",
     "text": [
      "Минимум методом градиентного спуcка для h(x): 0.9458926861215570\n",
      "Количество итераций, необходимое для метода градиентного спуска: 1000\n"
     ]
    }
   ],
   "source": [
    "print(f\"Минимум методом градиентного спуcка для h(x): {gd_jx_d[0]:.16f}\")\n",
    "print(f\"Количество итераций, необходимое для метода градиентного спуска: {gd_jx_d[1]}\")"
   ]
  },
  {
   "cell_type": "code",
   "execution_count": 122,
   "metadata": {},
   "outputs": [
    {
     "name": "stdout",
     "output_type": "stream",
     "text": [
      "CPU times: user 2.49 ms, sys: 31 μs, total: 2.52 ms\n",
      "Wall time: 2.58 ms\n"
     ]
    }
   ],
   "source": [
    "%%time\n",
    "nm_jx_d = newton_method_diff(jx, 0.9, 0.95, 1000)"
   ]
  },
  {
   "cell_type": "code",
   "execution_count": 123,
   "metadata": {},
   "outputs": [
    {
     "name": "stdout",
     "output_type": "stream",
     "text": [
      "Минимум методом Ньютона для j(x): 0.9458929293556300\n",
      "Количество итераций, необходимое для метода градиентного спуска: 4\n"
     ]
    }
   ],
   "source": [
    "print(f\"Минимум методом Ньютона для j(x): {nm_jx_d[0]:.16f}\")\n",
    "print(f\"Количество итераций, необходимое для метода градиентного спуска: {nm_jx_d[1]}\")"
   ]
  },
  {
   "cell_type": "markdown",
   "metadata": {},
   "source": [
    "**Ответ на вопрос 1** Метод Ньютона в целом работает быстрее, чем метод градиентного спуска (что подтверждается замерами времени выше) и ему требуется меньшее количество итераций."
   ]
  },
  {
   "cell_type": "code",
   "execution_count": 124,
   "metadata": {},
   "outputs": [],
   "source": [
    "# Модифицируем методы к для фиксированного числа итераций\n",
    "\n",
    "def gradient_descent_iterations(func, x_start, learning_rate):\n",
    "    x_curr = x_start\n",
    "    df_x = sp.diff(func)\n",
    "\n",
    "    for i in range(10):\n",
    "        grad = df_x.subs(x, x_curr)\n",
    "        x_new = x_curr - learning_rate * grad\n",
    "        \n",
    "        x_curr = x_new\n",
    "            \n",
    "    return x_curr.evalf()\n",
    "\n",
    "def newton_method_iterations(func, x_start):\n",
    "    x_curr = x_start\n",
    "    df_x = sp.diff(func)\n",
    "    df2_x = sp.diff(df_x, x)\n",
    "\n",
    "    for i in range(10):\n",
    "        grad = df_x.subs(x, x_curr)\n",
    "        grad_2 = df2_x.subs(x, x_curr)\n",
    "\n",
    "        if abs(grad) < 0.01:\n",
    "            return x_curr.evalf()\n",
    "        \n",
    "        if grad_2 == 0:\n",
    "            raise ValueError(\"Вторая производная равна нулю\")\n",
    "        \n",
    "        x_new = x_curr - grad / grad_2\n",
    "            \n",
    "        x_curr = x_new\n",
    "        \n",
    "    return x_curr.evalf()"
   ]
  },
  {
   "cell_type": "code",
   "execution_count": 125,
   "metadata": {},
   "outputs": [
    {
     "name": "stdout",
     "output_type": "stream",
     "text": [
      "Минимум с помощью градиентного спуска: 14.68\n",
      "Минимум с помощью метода Ньютона: 15.00\n"
     ]
    }
   ],
   "source": [
    "gd_fx = gradient_descent_iterations(fx, 12, 0.1)\n",
    "nm_fx = newton_method_iterations(fx, 12)\n",
    "print(f\"Минимум с помощью градиентного спуска: {gd_fx:.2f}\")\n",
    "print(f\"Минимум с помощью метода Ньютона: {nm_fx:.2f}\")"
   ]
  },
  {
   "cell_type": "code",
   "execution_count": 126,
   "metadata": {},
   "outputs": [
    {
     "name": "stdout",
     "output_type": "stream",
     "text": [
      "Минимум с помощью градиентного спуска: -5.01\n",
      "Минимум с помощью метода Ньютона: -5.00\n"
     ]
    }
   ],
   "source": [
    "gd_gx = gradient_descent_iterations(gx, -8, 0.1)\n",
    "nm_gx = newton_method_iterations(gx, -8)\n",
    "print(f\"Минимум с помощью градиентного спуска: {gd_gx:.2f}\")\n",
    "print(f\"Минимум с помощью метода Ньютона: {nm_gx:.2f}\")"
   ]
  },
  {
   "cell_type": "code",
   "execution_count": 127,
   "metadata": {},
   "outputs": [
    {
     "name": "stdout",
     "output_type": "stream",
     "text": [
      "Минимум с помощью градиентного спуска: -1.42\n",
      "Минимум с помощью метода Ньютона: -0.79\n"
     ]
    }
   ],
   "source": [
    "gd_hx = gradient_descent_iterations(hx, -0.1, 0.1)\n",
    "nm_hx = newton_method_iterations(hx, -0.1)\n",
    "print(f\"Минимум с помощью градиентного спуска: {gd_hx:.2f}\")\n",
    "print(f\"Минимум с помощью метода Ньютона: {nm_hx:.2f}\")"
   ]
  },
  {
   "cell_type": "code",
   "execution_count": null,
   "metadata": {},
   "outputs": [],
   "source": [
    "gd_jx = gradient_descent_iterations(jx, 0.92, 0.1)\n",
    "nm_jx = newton_method_iterations(jx, 0.92)\n",
    "print(f\"Минимум с помощью градиентного спуска: {gd_jx:.2f}\")\n",
    "print(f\"Минимум с помощью метода Ньютона: {nm_jx:.2f}\")"
   ]
  },
  {
   "cell_type": "markdown",
   "metadata": {},
   "source": [
    "**Ответ на вопрос 2** Метод Ньютона считает более точно значение минимума при ограничении итераций N=10"
   ]
  },
  {
   "cell_type": "markdown",
   "metadata": {
    "id": "VR1PowUlHYvM"
   },
   "source": [
    "## **Бонусная часть**"
   ]
  },
  {
   "cell_type": "markdown",
   "metadata": {
    "id": "9UwHkl25SJcI"
   },
   "source": [
    "## Задание 11 (1 балл)"
   ]
  },
  {
   "cell_type": "markdown",
   "metadata": {
    "id": "-si8S2A4aOFY"
   },
   "source": [
    "Реализуйте оптимизацию метода градиентного спуска - Momentum. Необходимые выкладки вы можете подсмотреть [здесь](https://education.yandex.ru/handbook/ml/article/optimizaciya-v-ml)."
   ]
  },
  {
   "cell_type": "code",
   "execution_count": 141,
   "metadata": {
    "id": "M1KTpeIiSR1w"
   },
   "outputs": [],
   "source": [
    "def gd_momentum(func, x_start, learning_rate, momentum, num_iterations, delta):\n",
    "    df_x = sp.diff(func, x)\n",
    "    x_curr = x_start\n",
    "    v = 0\n",
    "\n",
    "    for i in range(num_iterations):\n",
    "        grad = df_x.subs(x, x_curr)\n",
    "        \n",
    "        if abs(grad) < delta:\n",
    "            return x_curr.evalf(), trace\n",
    "        \n",
    "        v = momentum * v - learning_rate * grad\n",
    "        x_new = x_curr + v\n",
    "        \n",
    "        x_curr = x_new\n",
    "\n",
    "    return x_curr.evalf()"
   ]
  },
  {
   "cell_type": "code",
   "execution_count": null,
   "metadata": {},
   "outputs": [
    {
     "data": {
      "text/plain": [
       "(14.9999976207120,\n",
       " [np.float64(0.9342798390962928), 0.946500816325387, 0.945894449368287])"
      ]
     },
     "execution_count": 136,
     "metadata": {},
     "output_type": "execute_result"
    }
   ],
   "source": [
    "gd_momentum(fx, 10, 0.1, 0.9, 1000, 10**(-5))"
   ]
  },
  {
   "cell_type": "code",
   "execution_count": null,
   "metadata": {},
   "outputs": [
    {
     "data": {
      "text/plain": [
       "(-4.99999952041994,\n",
       " [np.float64(0.9342798390962928), 0.946500816325387, 0.945894449368287])"
      ]
     },
     "execution_count": 137,
     "metadata": {},
     "output_type": "execute_result"
    }
   ],
   "source": [
    "gd_momentum(gx, -6, 0.1, 0.9, 1000, 10**(-5))"
   ]
  },
  {
   "cell_type": "code",
   "execution_count": null,
   "metadata": {},
   "outputs": [
    {
     "data": {
      "text/plain": [
       "(-0.793702069507353,\n",
       " [np.float64(0.9342798390962928), 0.946500816325387, 0.945894449368287])"
      ]
     },
     "execution_count": 138,
     "metadata": {},
     "output_type": "execute_result"
    }
   ],
   "source": [
    "gd_momentum(hx, -0.1, 0.01, 0.9, 1000, 10**(-5))"
   ]
  },
  {
   "cell_type": "code",
   "execution_count": null,
   "metadata": {},
   "outputs": [
    {
     "data": {
      "text/plain": [
       "(0.945892743873921,\n",
       " [np.float64(0.9342798390962928), 0.946500816325387, 0.945894449368287])"
      ]
     },
     "execution_count": 139,
     "metadata": {},
     "output_type": "execute_result"
    }
   ],
   "source": [
    "gd_momentum(jx, 0.92, 0.01, 0.9, 1000, 10**(-5))"
   ]
  },
  {
   "cell_type": "markdown",
   "metadata": {
    "id": "Z_W6L2FkSt6I"
   },
   "source": [
    "## Задание 12 (0.5 балла)"
   ]
  },
  {
   "cell_type": "markdown",
   "metadata": {
    "id": "t7vgdURyaWRm"
   },
   "source": [
    "Проверьте, решает ли Momentum GD проблему поиска начального приближения для функций из задания 1?"
   ]
  },
  {
   "cell_type": "code",
   "execution_count": 144,
   "metadata": {
    "id": "iV0f9MpYSz2-"
   },
   "outputs": [
    {
     "name": "stdout",
     "output_type": "stream",
     "text": [
      "Начальное приближение -10: Найденный минимум: 15.0712852780296\n",
      "Начальное приближение 0: Найденный минимум: 15.0427711668177\n",
      "Начальное приближение 20: Найденный минимум: 14.9857429443941\n"
     ]
    }
   ],
   "source": [
    "init_values = [-10, 0, 20]\n",
    "\n",
    "for val in init_values:\n",
    "    optimized_x = gd_momentum(fx, val, learning_rate=0.1, momentum=0.9, num_iterations=100, delta=1e-6)\n",
    "    print(f\"Начальное приближение {val}: Найденный минимум: {optimized_x}\")"
   ]
  },
  {
   "cell_type": "code",
   "execution_count": 172,
   "metadata": {},
   "outputs": [
    {
     "name": "stdout",
     "output_type": "stream",
     "text": [
      "Начальное приближение -8: Найденный минимум: (-4.99999985051706, [np.float64(0.9342798390962928), 0.946500816325387, 0.945894449368287])\n",
      "Начальное приближение -7: Найденный минимум: (-4.99999940211954, [np.float64(0.9342798390962928), 0.946500816325387, 0.945894449368287])\n",
      "Начальное приближение -6: Найденный минимум: (-5.00000001560737, [np.float64(0.9342798390962928), 0.946500816325387, 0.945894449368287])\n"
     ]
    }
   ],
   "source": [
    "init_values = [-8, -7, -6]\n",
    "\n",
    "for val in init_values:\n",
    "    optimized_x = gd_momentum(gx, val, 0.1, 0.2, 100, 10**(-5))\n",
    "    print(f\"Начальное приближение {val}: Найденный минимум: {optimized_x}\")"
   ]
  },
  {
   "cell_type": "code",
   "execution_count": 162,
   "metadata": {},
   "outputs": [
    {
     "name": "stdout",
     "output_type": "stream",
     "text": [
      "Начальное приближение -0.3: Найденный минимум: (-0.793700921146179, [np.float64(0.9342798390962928), 0.946500816325387, 0.945894449368287])\n",
      "Начальное приближение -0.2: Найденный минимум: (-0.793701229896915, [np.float64(0.9342798390962928), 0.946500816325387, 0.945894449368287])\n",
      "Начальное приближение -0.01: Найденный минимум: (-0.793699584862483, [np.float64(0.9342798390962928), 0.946500816325387, 0.945894449368287])\n"
     ]
    }
   ],
   "source": [
    "init_values = [-0.3, -0.2, -0.01]\n",
    "\n",
    "for val in init_values:\n",
    "    optimized_x = gd_momentum(hx, val, 0.1, 0.2, 100, 10**(-5))\n",
    "    print(f\"Начальное приближение {val}: Найденный минимум: {optimized_x}\")"
   ]
  },
  {
   "cell_type": "code",
   "execution_count": 170,
   "metadata": {},
   "outputs": [
    {
     "name": "stdout",
     "output_type": "stream",
     "text": [
      "Начальное приближение 0.75: Найденный минимум: (0.945892642852900, [np.float64(0.9342798390962928), 0.946500816325387, 0.945894449368287])\n",
      "Начальное приближение 0.95: Найденный минимум: (0.945892732211730, [np.float64(0.9342798390962928), 0.946500816325387, 0.945894449368287])\n",
      "Начальное приближение 1: Найденный минимум: (0.945892629275628, [np.float64(0.9342798390962928), 0.946500816325387, 0.945894449368287])\n"
     ]
    }
   ],
   "source": [
    "init_values = [0.75, 0.95, 1]\n",
    "\n",
    "for val in init_values:\n",
    "    optimized_x = gd_momentum(jx, val, 0.01, 0.001, 100, 10**(-5))\n",
    "    print(f\"Начальное приближение {val}: Найденный минимум: {optimized_x}\")"
   ]
  },
  {
   "cell_type": "markdown",
   "metadata": {},
   "source": [
    "**Комментарий** Метод градиентного спуска моменту решает проблему начального приближения для функций, которые относительно гладкие и не сильно отличаются от липшицевых. Например, для функции fx из достаточно удаленных точек удается эффективно находить минимумы.   \n",
    "Если функция сильно колебается, далека от условий липшецевости, то метод работает хуже и начальные точки приходится задавать более близкими к минимуму "
   ]
  },
  {
   "cell_type": "markdown",
   "metadata": {
    "id": "-ou9BQUPD_QI"
   },
   "source": [
    "## **Часть Котобонус** 🐈\n",
    "\n",
    "Ура-ура, с вами снова кот, который может добавить вам баллы!\n",
    "- 0.25, если вы угадаете, чей он\n",
    "- 0.05 если просто предположите\n",
    "\n",
    "**Подсказка:** кот одной из наших замечательных ассистенток!\n",
    "\n",
    "\n",
    "[Кайфующий кот](https://ibb.co/12WN7wg)"
   ]
  },
  {
   "cell_type": "markdown",
   "metadata": {},
   "source": [
    "Этот кот - Сабрины Садиех"
   ]
  },
  {
   "cell_type": "markdown",
   "metadata": {},
   "source": []
  }
 ],
 "metadata": {
  "colab": {
   "include_colab_link": true,
   "provenance": []
  },
  "kernelspec": {
   "display_name": "venv",
   "language": "python",
   "name": "python3"
  },
  "language_info": {
   "codemirror_mode": {
    "name": "ipython",
    "version": 3
   },
   "file_extension": ".py",
   "mimetype": "text/x-python",
   "name": "python",
   "nbconvert_exporter": "python",
   "pygments_lexer": "ipython3",
   "version": "3.11.5"
  }
 },
 "nbformat": 4,
 "nbformat_minor": 0
}
