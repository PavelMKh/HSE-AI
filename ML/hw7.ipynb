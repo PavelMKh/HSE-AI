{
  "nbformat": 4,
  "nbformat_minor": 0,
  "metadata": {
    "colab": {
      "provenance": []
    },
    "kernelspec": {
      "name": "python3",
      "display_name": "Python 3"
    },
    "language_info": {
      "name": "python"
    }
  },
  "cells": [
    {
      "cell_type": "markdown",
      "source": [
        "# **Домашнее задание 7: Fraud Detection Competition**\n",
        "\n",
        "Добро пожаловать на финальное домашнее задание курса! Домашнее задание направлено на систематизацию всех знаний, полученных в процессе учебы.\n",
        "\n",
        "В нём Вы потренируетесь применять навыки построения пайплайнов машинного обучения, приобретенные в курсе от точки разведочного анализа данных до построения и валидации моделей машинного обучения.\n",
        "\n",
        "## **Задача**\n",
        "**Вы будете решать задачу определения фрода:**\n",
        "\n",
        "https://www.kaggle.com/competitions/fraud-detection-24\n",
        "\n",
        "**Вам нужно будет:**\n",
        "- в jupyter notebook провести исследование данных;\n",
        "- в нём же построить модели и оценить их качество;\n",
        "- отправить посылку на Kaggle.\n",
        "\n",
        "Более подробное описание шагов - в ноутбуке ниже.\n",
        "\n",
        "## **Оценивание и баллы**\n",
        "- В EDA и во всей работе будут оцениваться полнота и **выводы**;\n",
        "- При обучении моделей старайтесь обоснованно подходить к их выбору, избегая простого перебора;\n",
        "\n",
        "**Максимальный балл** - 10 (+ бонусы за Kaggle, см. ниже).\n",
        "\n",
        "\n",
        "Мягкий дедлайн (окончание соревнования на Kaggle): **15 марта 23:59**\n"
      ],
      "metadata": {
        "id": "p7Vud7oB5y9q"
      }
    },
    {
      "cell_type": "markdown",
      "source": [
        "# **Базовое решение и пример формирования файла под submission**\n"
      ],
      "metadata": {
        "id": "T1oMvDTqqU3V"
      }
    },
    {
      "cell_type": "code",
      "source": [
        "!wget --no-check-certificate 'https://www.dropbox.com/s/5iuef7c9ljj84t6/train_transaction.csv?dl=0' -O train_transaction.csv\n",
        "!wget --no-check-certificate 'https://www.dropbox.com/s/cmy01z5fw7ohlmd/train_identity.csv?dl=0' -O train_identity.csv\n",
        "!wget --no-check-certificate 'https://www.dropbox.com/s/7thqkuxnwsa7njj/test_transaction.csv?dl=0' -O test_transaction.csv\n",
        "!wget --no-check-certificate 'https://www.dropbox.com/s/b40nvbb9e2usd5w/test_identity.csv?dl=0' -O test_identity.csv\n",
        "!wget --no-check-certificate 'https://www.dropbox.com/s/arkyoz0bel8z4d2/sample_submission.csv?dl=0' -O sample_submission.csv"
      ],
      "metadata": {
        "colab": {
          "base_uri": "https://localhost:8080/"
        },
        "id": "9tPZ6DjAqaW-",
        "outputId": "f28f60b3-ce6d-4509-e7a7-dd460549dd41"
      },
      "execution_count": 2,
      "outputs": [
        {
          "output_type": "stream",
          "name": "stdout",
          "text": [
            "--2025-03-01 14:17:37--  https://www.dropbox.com/s/5iuef7c9ljj84t6/train_transaction.csv?dl=0\n",
            "Resolving www.dropbox.com (www.dropbox.com)... 162.125.3.18, 2620:100:6018:18::a27d:312\n",
            "Connecting to www.dropbox.com (www.dropbox.com)|162.125.3.18|:443... connected.\n",
            "HTTP request sent, awaiting response... 302 Found\n",
            "Location: https://www.dropbox.com/scl/fi/puoen4suxjebjteenuwtm/train_transaction.csv?rlkey=madfflananln1b7qysdq8c54q&dl=0 [following]\n",
            "--2025-03-01 14:17:38--  https://www.dropbox.com/scl/fi/puoen4suxjebjteenuwtm/train_transaction.csv?rlkey=madfflananln1b7qysdq8c54q&dl=0\n",
            "Reusing existing connection to www.dropbox.com:443.\n",
            "HTTP request sent, awaiting response... 302 Found\n",
            "Location: https://uc6df7328943d60054761e34abd6.dl.dropboxusercontent.com/cd/0/inline/ClCmyn3WPwxNItHSpvL7DR-BiuexS7ATaHoRnBOgiS2SuWuQZ_oqXASpzEZ7Eh4FsY48Ja4uVw04SWqs-1afLtvH3RDiaV12MirqLd63uaaczY7y_df42L8DpsuuSgfcHafnmyS8fX7inKSj3KowtWZo/file# [following]\n",
            "--2025-03-01 14:17:38--  https://uc6df7328943d60054761e34abd6.dl.dropboxusercontent.com/cd/0/inline/ClCmyn3WPwxNItHSpvL7DR-BiuexS7ATaHoRnBOgiS2SuWuQZ_oqXASpzEZ7Eh4FsY48Ja4uVw04SWqs-1afLtvH3RDiaV12MirqLd63uaaczY7y_df42L8DpsuuSgfcHafnmyS8fX7inKSj3KowtWZo/file\n",
            "Resolving uc6df7328943d60054761e34abd6.dl.dropboxusercontent.com (uc6df7328943d60054761e34abd6.dl.dropboxusercontent.com)... 162.125.3.15, 2620:100:6018:15::a27d:30f\n",
            "Connecting to uc6df7328943d60054761e34abd6.dl.dropboxusercontent.com (uc6df7328943d60054761e34abd6.dl.dropboxusercontent.com)|162.125.3.15|:443... connected.\n",
            "HTTP request sent, awaiting response... 200 OK\n",
            "Length: 483921678 (462M) [text/plain]\n",
            "Saving to: ‘train_transaction.csv’\n",
            "\n",
            "train_transaction.c 100%[===================>] 461.50M  64.8MB/s    in 8.4s    \n",
            "\n",
            "2025-03-01 14:17:47 (55.2 MB/s) - ‘train_transaction.csv’ saved [483921678/483921678]\n",
            "\n",
            "--2025-03-01 14:17:47--  https://www.dropbox.com/s/cmy01z5fw7ohlmd/train_identity.csv?dl=0\n",
            "Resolving www.dropbox.com (www.dropbox.com)... 162.125.3.18, 2620:100:6018:18::a27d:312\n",
            "Connecting to www.dropbox.com (www.dropbox.com)|162.125.3.18|:443... connected.\n",
            "HTTP request sent, awaiting response... 302 Found\n",
            "Location: https://www.dropbox.com/scl/fi/by3x8jnqtllqpuh648gum/train_identity.csv?rlkey=mjcnbnj1kyecwl3ar54yxg9fu&dl=0 [following]\n",
            "--2025-03-01 14:17:47--  https://www.dropbox.com/scl/fi/by3x8jnqtllqpuh648gum/train_identity.csv?rlkey=mjcnbnj1kyecwl3ar54yxg9fu&dl=0\n",
            "Reusing existing connection to www.dropbox.com:443.\n",
            "HTTP request sent, awaiting response... 302 Found\n",
            "Location: https://ucbd0f33673e83ba6c1a6300e2ca.dl.dropboxusercontent.com/cd/0/inline/ClBBDSPXcFKoR6UhgVAX_VXYbZzLZBLR7tf3VVPXcl2IYZZh4a1XcyopjFHPbTYZ4fxYpyTgDL6tBkRG_iuaEFVUp-0sQrwNk4sUyTQdbOPpE6Np57A57O0B0HscIyukwoIPlU5uU-_t2ezxtmNM7bMQ/file# [following]\n",
            "--2025-03-01 14:17:48--  https://ucbd0f33673e83ba6c1a6300e2ca.dl.dropboxusercontent.com/cd/0/inline/ClBBDSPXcFKoR6UhgVAX_VXYbZzLZBLR7tf3VVPXcl2IYZZh4a1XcyopjFHPbTYZ4fxYpyTgDL6tBkRG_iuaEFVUp-0sQrwNk4sUyTQdbOPpE6Np57A57O0B0HscIyukwoIPlU5uU-_t2ezxtmNM7bMQ/file\n",
            "Resolving ucbd0f33673e83ba6c1a6300e2ca.dl.dropboxusercontent.com (ucbd0f33673e83ba6c1a6300e2ca.dl.dropboxusercontent.com)... 162.125.3.15, 2620:100:601f:15::a27d:90f\n",
            "Connecting to ucbd0f33673e83ba6c1a6300e2ca.dl.dropboxusercontent.com (ucbd0f33673e83ba6c1a6300e2ca.dl.dropboxusercontent.com)|162.125.3.15|:443... connected.\n",
            "HTTP request sent, awaiting response... 200 OK\n",
            "Length: 20431928 (19M) [text/plain]\n",
            "Saving to: ‘train_identity.csv’\n",
            "\n",
            "train_identity.csv  100%[===================>]  19.49M  87.0MB/s    in 0.2s    \n",
            "\n",
            "2025-03-01 14:17:48 (87.0 MB/s) - ‘train_identity.csv’ saved [20431928/20431928]\n",
            "\n",
            "--2025-03-01 14:17:48--  https://www.dropbox.com/s/7thqkuxnwsa7njj/test_transaction.csv?dl=0\n",
            "Resolving www.dropbox.com (www.dropbox.com)... 162.125.3.18, 2620:100:6018:18::a27d:312\n",
            "Connecting to www.dropbox.com (www.dropbox.com)|162.125.3.18|:443... connected.\n",
            "HTTP request sent, awaiting response... 302 Found\n",
            "Location: https://www.dropbox.com/scl/fi/1d5b08nurllnljbd5y0g6/test_transaction.csv?rlkey=y8mhfim796c8982xmm7pdtthn&dl=0 [following]\n",
            "--2025-03-01 14:17:49--  https://www.dropbox.com/scl/fi/1d5b08nurllnljbd5y0g6/test_transaction.csv?rlkey=y8mhfim796c8982xmm7pdtthn&dl=0\n",
            "Reusing existing connection to www.dropbox.com:443.\n",
            "HTTP request sent, awaiting response... 302 Found\n",
            "Location: https://uc38bba2d54e17d43a36710b3267.dl.dropboxusercontent.com/cd/0/inline/ClD6ebgThRTw7gXEjddNUGezMZ3yHMGZnA3OEZ8ZTGgiCVCJ9E6et9XD930noV5Z8kiBziUP7NLisfHYU6rMDdntsLVFUsKM7yYvYZBaDB68AywDh31VflW6E8NVsdwhOEcNjfS-qGYYctlaqMXp80_W/file# [following]\n",
            "--2025-03-01 14:17:49--  https://uc38bba2d54e17d43a36710b3267.dl.dropboxusercontent.com/cd/0/inline/ClD6ebgThRTw7gXEjddNUGezMZ3yHMGZnA3OEZ8ZTGgiCVCJ9E6et9XD930noV5Z8kiBziUP7NLisfHYU6rMDdntsLVFUsKM7yYvYZBaDB68AywDh31VflW6E8NVsdwhOEcNjfS-qGYYctlaqMXp80_W/file\n",
            "Resolving uc38bba2d54e17d43a36710b3267.dl.dropboxusercontent.com (uc38bba2d54e17d43a36710b3267.dl.dropboxusercontent.com)... 162.125.2.15, 2620:100:6018:15::a27d:30f\n",
            "Connecting to uc38bba2d54e17d43a36710b3267.dl.dropboxusercontent.com (uc38bba2d54e17d43a36710b3267.dl.dropboxusercontent.com)|162.125.2.15|:443... connected.\n",
            "HTTP request sent, awaiting response... 200 OK\n",
            "Length: 199272457 (190M) [text/plain]\n",
            "Saving to: ‘test_transaction.csv’\n",
            "\n",
            "test_transaction.cs 100%[===================>] 190.04M  65.1MB/s    in 2.9s    \n",
            "\n",
            "2025-03-01 14:17:53 (65.1 MB/s) - ‘test_transaction.csv’ saved [199272457/199272457]\n",
            "\n",
            "--2025-03-01 14:17:53--  https://www.dropbox.com/s/b40nvbb9e2usd5w/test_identity.csv?dl=0\n",
            "Resolving www.dropbox.com (www.dropbox.com)... 162.125.3.18, 2620:100:6018:18::a27d:312\n",
            "Connecting to www.dropbox.com (www.dropbox.com)|162.125.3.18|:443... connected.\n",
            "HTTP request sent, awaiting response... 302 Found\n",
            "Location: https://www.dropbox.com/scl/fi/jq783s9kwulu6vql75ju1/test_identity.csv?rlkey=yms7ev275avo85bb4tkxa041c&dl=0 [following]\n",
            "--2025-03-01 14:17:53--  https://www.dropbox.com/scl/fi/jq783s9kwulu6vql75ju1/test_identity.csv?rlkey=yms7ev275avo85bb4tkxa041c&dl=0\n",
            "Reusing existing connection to www.dropbox.com:443.\n",
            "HTTP request sent, awaiting response... 302 Found\n",
            "Location: https://uc69e3be436b26e528fa36920ed3.dl.dropboxusercontent.com/cd/0/inline/ClBceWAqgny2Ii4U7soLCddaTQetqwUTA4coG9n_h-GSPt6xJ8HMv6EOlFj-z8RhM-Q4flGulnUpCczcXGCar1u0V6BiPbu4DiM6mwN-mJyjr8N3J8-pWrIBNDpe96ehhlGgzUlZJSdRLQuMpYJD1LRI/file# [following]\n",
            "--2025-03-01 14:17:53--  https://uc69e3be436b26e528fa36920ed3.dl.dropboxusercontent.com/cd/0/inline/ClBceWAqgny2Ii4U7soLCddaTQetqwUTA4coG9n_h-GSPt6xJ8HMv6EOlFj-z8RhM-Q4flGulnUpCczcXGCar1u0V6BiPbu4DiM6mwN-mJyjr8N3J8-pWrIBNDpe96ehhlGgzUlZJSdRLQuMpYJD1LRI/file\n",
            "Resolving uc69e3be436b26e528fa36920ed3.dl.dropboxusercontent.com (uc69e3be436b26e528fa36920ed3.dl.dropboxusercontent.com)... 162.125.2.15, 2620:100:6018:15::a27d:30f\n",
            "Connecting to uc69e3be436b26e528fa36920ed3.dl.dropboxusercontent.com (uc69e3be436b26e528fa36920ed3.dl.dropboxusercontent.com)|162.125.2.15|:443... connected.\n",
            "HTTP request sent, awaiting response... 200 OK\n",
            "Length: 6098016 (5.8M) [text/plain]\n",
            "Saving to: ‘test_identity.csv’\n",
            "\n",
            "test_identity.csv   100%[===================>]   5.82M  14.5MB/s    in 0.4s    \n",
            "\n",
            "2025-03-01 14:17:54 (14.5 MB/s) - ‘test_identity.csv’ saved [6098016/6098016]\n",
            "\n",
            "--2025-03-01 14:17:55--  https://www.dropbox.com/s/arkyoz0bel8z4d2/sample_submission.csv?dl=0\n",
            "Resolving www.dropbox.com (www.dropbox.com)... 162.125.3.18, 2620:100:6018:18::a27d:312\n",
            "Connecting to www.dropbox.com (www.dropbox.com)|162.125.3.18|:443... connected.\n",
            "HTTP request sent, awaiting response... 302 Found\n",
            "Location: https://www.dropbox.com/scl/fi/o90mg3u12uvmqwzyph61o/sample_submission.csv?rlkey=58msbqvp3qb6xht7spi7hnmpw&dl=0 [following]\n",
            "--2025-03-01 14:17:55--  https://www.dropbox.com/scl/fi/o90mg3u12uvmqwzyph61o/sample_submission.csv?rlkey=58msbqvp3qb6xht7spi7hnmpw&dl=0\n",
            "Reusing existing connection to www.dropbox.com:443.\n",
            "HTTP request sent, awaiting response... 302 Found\n",
            "Location: https://uc01c710d026ec723f3e7d3b678b.dl.dropboxusercontent.com/cd/0/inline/ClApJeg8xduCy98dWrc7AO8SC3kcfsGjPl95-pL2JlCq-dEFYIw8TwWeVAanRnYHTGfgz5OABScOhVk97FkftcjuqMVrSJrFcffHecga1-Qed7U_SL8NHiuPDcQnpAzC8w9v8MklxE4fLChyQm_10I-X/file# [following]\n",
            "--2025-03-01 14:17:55--  https://uc01c710d026ec723f3e7d3b678b.dl.dropboxusercontent.com/cd/0/inline/ClApJeg8xduCy98dWrc7AO8SC3kcfsGjPl95-pL2JlCq-dEFYIw8TwWeVAanRnYHTGfgz5OABScOhVk97FkftcjuqMVrSJrFcffHecga1-Qed7U_SL8NHiuPDcQnpAzC8w9v8MklxE4fLChyQm_10I-X/file\n",
            "Resolving uc01c710d026ec723f3e7d3b678b.dl.dropboxusercontent.com (uc01c710d026ec723f3e7d3b678b.dl.dropboxusercontent.com)... 162.125.3.15, 2620:100:6019:15::a27d:40f\n",
            "Connecting to uc01c710d026ec723f3e7d3b678b.dl.dropboxusercontent.com (uc01c710d026ec723f3e7d3b678b.dl.dropboxusercontent.com)|162.125.3.15|:443... connected.\n",
            "HTTP request sent, awaiting response... 200 OK\n",
            "Length: 2075794 (2.0M) [text/plain]\n",
            "Saving to: ‘sample_submission.csv’\n",
            "\n",
            "sample_submission.c 100%[===================>]   1.98M  --.-KB/s    in 0.08s   \n",
            "\n",
            "2025-03-01 14:17:55 (26.2 MB/s) - ‘sample_submission.csv’ saved [2075794/2075794]\n",
            "\n"
          ]
        }
      ]
    },
    {
      "cell_type": "code",
      "source": [
        "# !pip install catboost -q"
      ],
      "metadata": {
        "id": "YrOxS8n8q2v1"
      },
      "execution_count": 3,
      "outputs": []
    },
    {
      "cell_type": "code",
      "source": [
        "# from catboost import CatBoostClassifier\n",
        "# import pandas as pd\n",
        "# import os\n",
        "# from tqdm import tqdm\n",
        "\n",
        "# INPUT_DIR = '.'\n",
        "\n",
        "# train_transaction = pd.read_csv(os.path.join(INPUT_DIR, 'train_transaction.csv'))\n",
        "# train_identity = pd.read_csv(os.path.join(INPUT_DIR, 'train_identity.csv'))\n",
        "# test_transaction = pd.read_csv(os.path.join(INPUT_DIR, 'test_transaction.csv'))\n",
        "# test_identity = pd.read_csv(os.path.join(INPUT_DIR, 'test_identity.csv'))\n",
        "# sample_submission = pd.read_csv(os.path.join(INPUT_DIR, 'sample_submission.csv'))\n",
        "\n",
        "# df_train = train_transaction.merge(train_identity, how='left', on='TransactionID')\n",
        "\n",
        "# df_test = test_transaction.merge(test_identity, how='left', on='TransactionID')"
      ],
      "metadata": {
        "id": "IdCmv4IoqxHJ"
      },
      "execution_count": 4,
      "outputs": []
    },
    {
      "cell_type": "code",
      "source": [
        "# df_train.drop(['TransactionID', 'TransactionDT'], axis=1, inplace=True)\n",
        "# df_test.drop(['TransactionID', 'TransactionDT'], axis=1, inplace=True)\n",
        "# df_train.shape, df_test.shape"
      ],
      "metadata": {
        "id": "alfrJEFzrTp6"
      },
      "execution_count": 5,
      "outputs": []
    },
    {
      "cell_type": "code",
      "source": [
        "# object_cols = []\n",
        "# for idx, col in tqdm(enumerate(df_train.columns.drop('isFraud'))):\n",
        "#     if df_train[col].dtype == 'O':\n",
        "#       object_cols.append(idx)"
      ],
      "metadata": {
        "id": "B24-pJJDsijB"
      },
      "execution_count": 6,
      "outputs": []
    },
    {
      "cell_type": "code",
      "source": [
        "# X_train = df_train.drop('isFraud', axis=1)\n",
        "# X_train = X_train.fillna('')\n",
        "# y_train = df_train['isFraud'].values\n",
        "\n",
        "# cb = CatBoostClassifier(iterations=3)\n",
        "# cb.fit(X_train, y_train, object_cols, )"
      ],
      "metadata": {
        "id": "mkAxbs_qtC-b"
      },
      "execution_count": 7,
      "outputs": []
    },
    {
      "cell_type": "code",
      "source": [
        "# predictions = cb.predict_proba(df_test.fillna(''))"
      ],
      "metadata": {
        "id": "a0y2SH1yvKy2"
      },
      "execution_count": 8,
      "outputs": []
    },
    {
      "cell_type": "code",
      "source": [
        "# # sub = pd.DataFrame({'TransactionID': sample_submission['TransactionID'], 'isFraud': predictions[:, 0]})\n",
        "# sub.head()"
      ],
      "metadata": {
        "id": "hGl-RlnSv0Vz"
      },
      "execution_count": 9,
      "outputs": []
    },
    {
      "cell_type": "code",
      "source": [
        "# Сохранение submission\n",
        "# sub.to_csv('submission_baseline.csv', index=False)"
      ],
      "metadata": {
        "id": "c-NE7v4_v7jb"
      },
      "execution_count": 10,
      "outputs": []
    },
    {
      "cell_type": "markdown",
      "source": [
        "### **Примечания:**\n",
        "\n",
        "**1. Оценка качества и Submission File**\n",
        "- Ответом является число от 0 до 1, метрикой качества - AUC-ROC.\n",
        "- Структура Submission File:\n",
        " - для каждого значения *TransactionID* в тестовых данных вы должны предсказать **вероятность** для столбца *isFraud*.\n",
        " - в файле у вас должно быть две колонки: `TransactionID` и`isFraud`  **для каждой транзакции в датасете**.\n",
        "\n",
        "**2. Объем данных**\n",
        "\n",
        "Поскольку набор данных объемный, могут быть проблемы с переполнением памяти в Collab. Для решения проблемы можете использовать функцию из [этого ноутбука](https://colab.research.google.com/drive/18u75eyFGEoyeWJ_MbsLkcPa6gv2tNI8G#scrollTo=V2L1Nl5CTMMl), разобравшись, что она делает с данными."
      ],
      "metadata": {
        "id": "ES0ZdLnfvPm-"
      }
    },
    {
      "cell_type": "markdown",
      "source": [
        "# **Задание 1 (2 балла)**\n",
        "\n",
        "Проведите EDA (разведочный анализ данных):\n",
        "* проанализируйте признаки, их особенности и связь с целевой переменной\n",
        "* проанализируйте целевую переменную\n",
        "* оцените степень попарной взаимосвязи признаков, а также связи признаков и целевой переменной\n",
        "* по результатам исследований сделайте необходимую обработку данных (удаление дублей, работа с пропусками, с категориальными столбцами (если они есть), работа с аномалиями, другие преобразования признаков)\n",
        "\n",
        "Важно, что EDA всегда сопровождается выводами - не забудьте об этом."
      ],
      "metadata": {
        "id": "_h-Grgsp64a_"
      }
    },
    {
      "cell_type": "code",
      "source": [
        "!pip install category_encoders phik -q"
      ],
      "metadata": {
        "id": "D5zZh0Z45P8Q"
      },
      "execution_count": 11,
      "outputs": []
    },
    {
      "cell_type": "code",
      "execution_count": null,
      "metadata": {
        "id": "6moN1PRa5wih"
      },
      "outputs": [],
      "source": [
        "import pandas as pd\n",
        "import numpy as np\n",
        "import matplotlib.pyplot as plt\n",
        "import seaborn as sns\n",
        "import phik\n",
        "\n",
        "from sklearn.pipeline import Pipeline\n",
        "from sklearn.compose import ColumnTransformer\n",
        "from sklearn.preprocessing import OneHotEncoder, LabelEncoder\n",
        "from category_encoders import TargetEncoder\n",
        "from sklearn.linear_model import LogisticRegression\n",
        "from sklearn.model_selection import cross_val_score\n",
        "from sklearn.metrics import roc_auc_score\n",
        "\n",
        "train_transaction = pd.read_csv('train_transaction.csv')\n",
        "train_identity = pd.read_csv('train_identity.csv')\n",
        "test_transaction = pd.read_csv('test_transaction.csv')\n",
        "test_identity = pd.read_csv('test_identity.csv')"
      ]
    },
    {
      "cell_type": "code",
      "source": [
        "merged_df = pd.merge(train_transaction, train_identity, on='TransactionID', how='left')"
      ],
      "metadata": {
        "id": "D_LgcBFvBWRd"
      },
      "execution_count": 13,
      "outputs": []
    },
    {
      "cell_type": "code",
      "source": [
        "merged_df.head()"
      ],
      "metadata": {
        "colab": {
          "base_uri": "https://localhost:8080/",
          "height": 287
        },
        "id": "4QTUVw5eXsvR",
        "outputId": "e315b26d-fba0-4391-edcd-9440bde52945"
      },
      "execution_count": 14,
      "outputs": [
        {
          "output_type": "execute_result",
          "data": {
            "text/plain": [
              "   TransactionID  isFraud  TransactionDT  TransactionAmt ProductCD  card1  \\\n",
              "0        2987000        0          86400            68.5         W  13926   \n",
              "1        2987001        0          86401            29.0         W   2755   \n",
              "2        2987002        0          86469            59.0         W   4663   \n",
              "3        2987003        0          86499            50.0         W  18132   \n",
              "4        2987004        0          86506            50.0         H   4497   \n",
              "\n",
              "   card2  card3       card4  card5  ...                id_31  id_32  \\\n",
              "0    NaN  150.0    discover  142.0  ...                  NaN    NaN   \n",
              "1  404.0  150.0  mastercard  102.0  ...                  NaN    NaN   \n",
              "2  490.0  150.0        visa  166.0  ...                  NaN    NaN   \n",
              "3  567.0  150.0  mastercard  117.0  ...                  NaN    NaN   \n",
              "4  514.0  150.0  mastercard  102.0  ...  samsung browser 6.2   32.0   \n",
              "\n",
              "       id_33           id_34  id_35 id_36 id_37  id_38  DeviceType  \\\n",
              "0        NaN             NaN    NaN   NaN   NaN    NaN         NaN   \n",
              "1        NaN             NaN    NaN   NaN   NaN    NaN         NaN   \n",
              "2        NaN             NaN    NaN   NaN   NaN    NaN         NaN   \n",
              "3        NaN             NaN    NaN   NaN   NaN    NaN         NaN   \n",
              "4  2220x1080  match_status:2      T     F     T      T      mobile   \n",
              "\n",
              "                      DeviceInfo  \n",
              "0                            NaN  \n",
              "1                            NaN  \n",
              "2                            NaN  \n",
              "3                            NaN  \n",
              "4  SAMSUNG SM-G892A Build/NRD90M  \n",
              "\n",
              "[5 rows x 434 columns]"
            ],
            "text/html": [
              "\n",
              "  <div id=\"df-26ad4ef4-a21b-4b2c-a24e-7bc4189b4c8c\" class=\"colab-df-container\">\n",
              "    <div>\n",
              "<style scoped>\n",
              "    .dataframe tbody tr th:only-of-type {\n",
              "        vertical-align: middle;\n",
              "    }\n",
              "\n",
              "    .dataframe tbody tr th {\n",
              "        vertical-align: top;\n",
              "    }\n",
              "\n",
              "    .dataframe thead th {\n",
              "        text-align: right;\n",
              "    }\n",
              "</style>\n",
              "<table border=\"1\" class=\"dataframe\">\n",
              "  <thead>\n",
              "    <tr style=\"text-align: right;\">\n",
              "      <th></th>\n",
              "      <th>TransactionID</th>\n",
              "      <th>isFraud</th>\n",
              "      <th>TransactionDT</th>\n",
              "      <th>TransactionAmt</th>\n",
              "      <th>ProductCD</th>\n",
              "      <th>card1</th>\n",
              "      <th>card2</th>\n",
              "      <th>card3</th>\n",
              "      <th>card4</th>\n",
              "      <th>card5</th>\n",
              "      <th>...</th>\n",
              "      <th>id_31</th>\n",
              "      <th>id_32</th>\n",
              "      <th>id_33</th>\n",
              "      <th>id_34</th>\n",
              "      <th>id_35</th>\n",
              "      <th>id_36</th>\n",
              "      <th>id_37</th>\n",
              "      <th>id_38</th>\n",
              "      <th>DeviceType</th>\n",
              "      <th>DeviceInfo</th>\n",
              "    </tr>\n",
              "  </thead>\n",
              "  <tbody>\n",
              "    <tr>\n",
              "      <th>0</th>\n",
              "      <td>2987000</td>\n",
              "      <td>0</td>\n",
              "      <td>86400</td>\n",
              "      <td>68.5</td>\n",
              "      <td>W</td>\n",
              "      <td>13926</td>\n",
              "      <td>NaN</td>\n",
              "      <td>150.0</td>\n",
              "      <td>discover</td>\n",
              "      <td>142.0</td>\n",
              "      <td>...</td>\n",
              "      <td>NaN</td>\n",
              "      <td>NaN</td>\n",
              "      <td>NaN</td>\n",
              "      <td>NaN</td>\n",
              "      <td>NaN</td>\n",
              "      <td>NaN</td>\n",
              "      <td>NaN</td>\n",
              "      <td>NaN</td>\n",
              "      <td>NaN</td>\n",
              "      <td>NaN</td>\n",
              "    </tr>\n",
              "    <tr>\n",
              "      <th>1</th>\n",
              "      <td>2987001</td>\n",
              "      <td>0</td>\n",
              "      <td>86401</td>\n",
              "      <td>29.0</td>\n",
              "      <td>W</td>\n",
              "      <td>2755</td>\n",
              "      <td>404.0</td>\n",
              "      <td>150.0</td>\n",
              "      <td>mastercard</td>\n",
              "      <td>102.0</td>\n",
              "      <td>...</td>\n",
              "      <td>NaN</td>\n",
              "      <td>NaN</td>\n",
              "      <td>NaN</td>\n",
              "      <td>NaN</td>\n",
              "      <td>NaN</td>\n",
              "      <td>NaN</td>\n",
              "      <td>NaN</td>\n",
              "      <td>NaN</td>\n",
              "      <td>NaN</td>\n",
              "      <td>NaN</td>\n",
              "    </tr>\n",
              "    <tr>\n",
              "      <th>2</th>\n",
              "      <td>2987002</td>\n",
              "      <td>0</td>\n",
              "      <td>86469</td>\n",
              "      <td>59.0</td>\n",
              "      <td>W</td>\n",
              "      <td>4663</td>\n",
              "      <td>490.0</td>\n",
              "      <td>150.0</td>\n",
              "      <td>visa</td>\n",
              "      <td>166.0</td>\n",
              "      <td>...</td>\n",
              "      <td>NaN</td>\n",
              "      <td>NaN</td>\n",
              "      <td>NaN</td>\n",
              "      <td>NaN</td>\n",
              "      <td>NaN</td>\n",
              "      <td>NaN</td>\n",
              "      <td>NaN</td>\n",
              "      <td>NaN</td>\n",
              "      <td>NaN</td>\n",
              "      <td>NaN</td>\n",
              "    </tr>\n",
              "    <tr>\n",
              "      <th>3</th>\n",
              "      <td>2987003</td>\n",
              "      <td>0</td>\n",
              "      <td>86499</td>\n",
              "      <td>50.0</td>\n",
              "      <td>W</td>\n",
              "      <td>18132</td>\n",
              "      <td>567.0</td>\n",
              "      <td>150.0</td>\n",
              "      <td>mastercard</td>\n",
              "      <td>117.0</td>\n",
              "      <td>...</td>\n",
              "      <td>NaN</td>\n",
              "      <td>NaN</td>\n",
              "      <td>NaN</td>\n",
              "      <td>NaN</td>\n",
              "      <td>NaN</td>\n",
              "      <td>NaN</td>\n",
              "      <td>NaN</td>\n",
              "      <td>NaN</td>\n",
              "      <td>NaN</td>\n",
              "      <td>NaN</td>\n",
              "    </tr>\n",
              "    <tr>\n",
              "      <th>4</th>\n",
              "      <td>2987004</td>\n",
              "      <td>0</td>\n",
              "      <td>86506</td>\n",
              "      <td>50.0</td>\n",
              "      <td>H</td>\n",
              "      <td>4497</td>\n",
              "      <td>514.0</td>\n",
              "      <td>150.0</td>\n",
              "      <td>mastercard</td>\n",
              "      <td>102.0</td>\n",
              "      <td>...</td>\n",
              "      <td>samsung browser 6.2</td>\n",
              "      <td>32.0</td>\n",
              "      <td>2220x1080</td>\n",
              "      <td>match_status:2</td>\n",
              "      <td>T</td>\n",
              "      <td>F</td>\n",
              "      <td>T</td>\n",
              "      <td>T</td>\n",
              "      <td>mobile</td>\n",
              "      <td>SAMSUNG SM-G892A Build/NRD90M</td>\n",
              "    </tr>\n",
              "  </tbody>\n",
              "</table>\n",
              "<p>5 rows × 434 columns</p>\n",
              "</div>\n",
              "    <div class=\"colab-df-buttons\">\n",
              "\n",
              "  <div class=\"colab-df-container\">\n",
              "    <button class=\"colab-df-convert\" onclick=\"convertToInteractive('df-26ad4ef4-a21b-4b2c-a24e-7bc4189b4c8c')\"\n",
              "            title=\"Convert this dataframe to an interactive table.\"\n",
              "            style=\"display:none;\">\n",
              "\n",
              "  <svg xmlns=\"http://www.w3.org/2000/svg\" height=\"24px\" viewBox=\"0 -960 960 960\">\n",
              "    <path d=\"M120-120v-720h720v720H120Zm60-500h600v-160H180v160Zm220 220h160v-160H400v160Zm0 220h160v-160H400v160ZM180-400h160v-160H180v160Zm440 0h160v-160H620v160ZM180-180h160v-160H180v160Zm440 0h160v-160H620v160Z\"/>\n",
              "  </svg>\n",
              "    </button>\n",
              "\n",
              "  <style>\n",
              "    .colab-df-container {\n",
              "      display:flex;\n",
              "      gap: 12px;\n",
              "    }\n",
              "\n",
              "    .colab-df-convert {\n",
              "      background-color: #E8F0FE;\n",
              "      border: none;\n",
              "      border-radius: 50%;\n",
              "      cursor: pointer;\n",
              "      display: none;\n",
              "      fill: #1967D2;\n",
              "      height: 32px;\n",
              "      padding: 0 0 0 0;\n",
              "      width: 32px;\n",
              "    }\n",
              "\n",
              "    .colab-df-convert:hover {\n",
              "      background-color: #E2EBFA;\n",
              "      box-shadow: 0px 1px 2px rgba(60, 64, 67, 0.3), 0px 1px 3px 1px rgba(60, 64, 67, 0.15);\n",
              "      fill: #174EA6;\n",
              "    }\n",
              "\n",
              "    .colab-df-buttons div {\n",
              "      margin-bottom: 4px;\n",
              "    }\n",
              "\n",
              "    [theme=dark] .colab-df-convert {\n",
              "      background-color: #3B4455;\n",
              "      fill: #D2E3FC;\n",
              "    }\n",
              "\n",
              "    [theme=dark] .colab-df-convert:hover {\n",
              "      background-color: #434B5C;\n",
              "      box-shadow: 0px 1px 3px 1px rgba(0, 0, 0, 0.15);\n",
              "      filter: drop-shadow(0px 1px 2px rgba(0, 0, 0, 0.3));\n",
              "      fill: #FFFFFF;\n",
              "    }\n",
              "  </style>\n",
              "\n",
              "    <script>\n",
              "      const buttonEl =\n",
              "        document.querySelector('#df-26ad4ef4-a21b-4b2c-a24e-7bc4189b4c8c button.colab-df-convert');\n",
              "      buttonEl.style.display =\n",
              "        google.colab.kernel.accessAllowed ? 'block' : 'none';\n",
              "\n",
              "      async function convertToInteractive(key) {\n",
              "        const element = document.querySelector('#df-26ad4ef4-a21b-4b2c-a24e-7bc4189b4c8c');\n",
              "        const dataTable =\n",
              "          await google.colab.kernel.invokeFunction('convertToInteractive',\n",
              "                                                    [key], {});\n",
              "        if (!dataTable) return;\n",
              "\n",
              "        const docLinkHtml = 'Like what you see? Visit the ' +\n",
              "          '<a target=\"_blank\" href=https://colab.research.google.com/notebooks/data_table.ipynb>data table notebook</a>'\n",
              "          + ' to learn more about interactive tables.';\n",
              "        element.innerHTML = '';\n",
              "        dataTable['output_type'] = 'display_data';\n",
              "        await google.colab.output.renderOutput(dataTable, element);\n",
              "        const docLink = document.createElement('div');\n",
              "        docLink.innerHTML = docLinkHtml;\n",
              "        element.appendChild(docLink);\n",
              "      }\n",
              "    </script>\n",
              "  </div>\n",
              "\n",
              "\n",
              "<div id=\"df-db666b57-4324-4129-8188-5aa04ab7ff12\">\n",
              "  <button class=\"colab-df-quickchart\" onclick=\"quickchart('df-db666b57-4324-4129-8188-5aa04ab7ff12')\"\n",
              "            title=\"Suggest charts\"\n",
              "            style=\"display:none;\">\n",
              "\n",
              "<svg xmlns=\"http://www.w3.org/2000/svg\" height=\"24px\"viewBox=\"0 0 24 24\"\n",
              "     width=\"24px\">\n",
              "    <g>\n",
              "        <path d=\"M19 3H5c-1.1 0-2 .9-2 2v14c0 1.1.9 2 2 2h14c1.1 0 2-.9 2-2V5c0-1.1-.9-2-2-2zM9 17H7v-7h2v7zm4 0h-2V7h2v10zm4 0h-2v-4h2v4z\"/>\n",
              "    </g>\n",
              "</svg>\n",
              "  </button>\n",
              "\n",
              "<style>\n",
              "  .colab-df-quickchart {\n",
              "      --bg-color: #E8F0FE;\n",
              "      --fill-color: #1967D2;\n",
              "      --hover-bg-color: #E2EBFA;\n",
              "      --hover-fill-color: #174EA6;\n",
              "      --disabled-fill-color: #AAA;\n",
              "      --disabled-bg-color: #DDD;\n",
              "  }\n",
              "\n",
              "  [theme=dark] .colab-df-quickchart {\n",
              "      --bg-color: #3B4455;\n",
              "      --fill-color: #D2E3FC;\n",
              "      --hover-bg-color: #434B5C;\n",
              "      --hover-fill-color: #FFFFFF;\n",
              "      --disabled-bg-color: #3B4455;\n",
              "      --disabled-fill-color: #666;\n",
              "  }\n",
              "\n",
              "  .colab-df-quickchart {\n",
              "    background-color: var(--bg-color);\n",
              "    border: none;\n",
              "    border-radius: 50%;\n",
              "    cursor: pointer;\n",
              "    display: none;\n",
              "    fill: var(--fill-color);\n",
              "    height: 32px;\n",
              "    padding: 0;\n",
              "    width: 32px;\n",
              "  }\n",
              "\n",
              "  .colab-df-quickchart:hover {\n",
              "    background-color: var(--hover-bg-color);\n",
              "    box-shadow: 0 1px 2px rgba(60, 64, 67, 0.3), 0 1px 3px 1px rgba(60, 64, 67, 0.15);\n",
              "    fill: var(--button-hover-fill-color);\n",
              "  }\n",
              "\n",
              "  .colab-df-quickchart-complete:disabled,\n",
              "  .colab-df-quickchart-complete:disabled:hover {\n",
              "    background-color: var(--disabled-bg-color);\n",
              "    fill: var(--disabled-fill-color);\n",
              "    box-shadow: none;\n",
              "  }\n",
              "\n",
              "  .colab-df-spinner {\n",
              "    border: 2px solid var(--fill-color);\n",
              "    border-color: transparent;\n",
              "    border-bottom-color: var(--fill-color);\n",
              "    animation:\n",
              "      spin 1s steps(1) infinite;\n",
              "  }\n",
              "\n",
              "  @keyframes spin {\n",
              "    0% {\n",
              "      border-color: transparent;\n",
              "      border-bottom-color: var(--fill-color);\n",
              "      border-left-color: var(--fill-color);\n",
              "    }\n",
              "    20% {\n",
              "      border-color: transparent;\n",
              "      border-left-color: var(--fill-color);\n",
              "      border-top-color: var(--fill-color);\n",
              "    }\n",
              "    30% {\n",
              "      border-color: transparent;\n",
              "      border-left-color: var(--fill-color);\n",
              "      border-top-color: var(--fill-color);\n",
              "      border-right-color: var(--fill-color);\n",
              "    }\n",
              "    40% {\n",
              "      border-color: transparent;\n",
              "      border-right-color: var(--fill-color);\n",
              "      border-top-color: var(--fill-color);\n",
              "    }\n",
              "    60% {\n",
              "      border-color: transparent;\n",
              "      border-right-color: var(--fill-color);\n",
              "    }\n",
              "    80% {\n",
              "      border-color: transparent;\n",
              "      border-right-color: var(--fill-color);\n",
              "      border-bottom-color: var(--fill-color);\n",
              "    }\n",
              "    90% {\n",
              "      border-color: transparent;\n",
              "      border-bottom-color: var(--fill-color);\n",
              "    }\n",
              "  }\n",
              "</style>\n",
              "\n",
              "  <script>\n",
              "    async function quickchart(key) {\n",
              "      const quickchartButtonEl =\n",
              "        document.querySelector('#' + key + ' button');\n",
              "      quickchartButtonEl.disabled = true;  // To prevent multiple clicks.\n",
              "      quickchartButtonEl.classList.add('colab-df-spinner');\n",
              "      try {\n",
              "        const charts = await google.colab.kernel.invokeFunction(\n",
              "            'suggestCharts', [key], {});\n",
              "      } catch (error) {\n",
              "        console.error('Error during call to suggestCharts:', error);\n",
              "      }\n",
              "      quickchartButtonEl.classList.remove('colab-df-spinner');\n",
              "      quickchartButtonEl.classList.add('colab-df-quickchart-complete');\n",
              "    }\n",
              "    (() => {\n",
              "      let quickchartButtonEl =\n",
              "        document.querySelector('#df-db666b57-4324-4129-8188-5aa04ab7ff12 button');\n",
              "      quickchartButtonEl.style.display =\n",
              "        google.colab.kernel.accessAllowed ? 'block' : 'none';\n",
              "    })();\n",
              "  </script>\n",
              "</div>\n",
              "    </div>\n",
              "  </div>\n"
            ],
            "application/vnd.google.colaboratory.intrinsic+json": {
              "type": "dataframe",
              "variable_name": "merged_df"
            }
          },
          "metadata": {},
          "execution_count": 14
        }
      ]
    },
    {
      "cell_type": "code",
      "source": [
        "merged_df.shape"
      ],
      "metadata": {
        "id": "7cE6H_N-BhFc",
        "outputId": "5ee3460d-5b91-4187-9a70-425568dbe6f4",
        "colab": {
          "base_uri": "https://localhost:8080/"
        }
      },
      "execution_count": 15,
      "outputs": [
        {
          "output_type": "execute_result",
          "data": {
            "text/plain": [
              "(417559, 434)"
            ]
          },
          "metadata": {},
          "execution_count": 15
        }
      ]
    },
    {
      "cell_type": "markdown",
      "source": [
        "## 1.1. Проверка пропусков"
      ],
      "metadata": {
        "id": "TEFhYkOVXG33"
      }
    },
    {
      "cell_type": "code",
      "source": [
        "merged_df.isnull().sum()"
      ],
      "metadata": {
        "colab": {
          "base_uri": "https://localhost:8080/",
          "height": 453
        },
        "id": "R_bLuHieXYF8",
        "outputId": "4c91254b-8f6b-47b9-a08f-760f844d7ed1"
      },
      "execution_count": 16,
      "outputs": [
        {
          "output_type": "execute_result",
          "data": {
            "text/plain": [
              "TransactionID          0\n",
              "isFraud                0\n",
              "TransactionDT          0\n",
              "TransactionAmt         0\n",
              "ProductCD              0\n",
              "                   ...  \n",
              "id_36             309286\n",
              "id_37             309286\n",
              "id_38             309286\n",
              "DeviceType        309435\n",
              "DeviceInfo        325600\n",
              "Length: 434, dtype: int64"
            ],
            "text/html": [
              "<div>\n",
              "<style scoped>\n",
              "    .dataframe tbody tr th:only-of-type {\n",
              "        vertical-align: middle;\n",
              "    }\n",
              "\n",
              "    .dataframe tbody tr th {\n",
              "        vertical-align: top;\n",
              "    }\n",
              "\n",
              "    .dataframe thead th {\n",
              "        text-align: right;\n",
              "    }\n",
              "</style>\n",
              "<table border=\"1\" class=\"dataframe\">\n",
              "  <thead>\n",
              "    <tr style=\"text-align: right;\">\n",
              "      <th></th>\n",
              "      <th>0</th>\n",
              "    </tr>\n",
              "  </thead>\n",
              "  <tbody>\n",
              "    <tr>\n",
              "      <th>TransactionID</th>\n",
              "      <td>0</td>\n",
              "    </tr>\n",
              "    <tr>\n",
              "      <th>isFraud</th>\n",
              "      <td>0</td>\n",
              "    </tr>\n",
              "    <tr>\n",
              "      <th>TransactionDT</th>\n",
              "      <td>0</td>\n",
              "    </tr>\n",
              "    <tr>\n",
              "      <th>TransactionAmt</th>\n",
              "      <td>0</td>\n",
              "    </tr>\n",
              "    <tr>\n",
              "      <th>ProductCD</th>\n",
              "      <td>0</td>\n",
              "    </tr>\n",
              "    <tr>\n",
              "      <th>...</th>\n",
              "      <td>...</td>\n",
              "    </tr>\n",
              "    <tr>\n",
              "      <th>id_36</th>\n",
              "      <td>309286</td>\n",
              "    </tr>\n",
              "    <tr>\n",
              "      <th>id_37</th>\n",
              "      <td>309286</td>\n",
              "    </tr>\n",
              "    <tr>\n",
              "      <th>id_38</th>\n",
              "      <td>309286</td>\n",
              "    </tr>\n",
              "    <tr>\n",
              "      <th>DeviceType</th>\n",
              "      <td>309435</td>\n",
              "    </tr>\n",
              "    <tr>\n",
              "      <th>DeviceInfo</th>\n",
              "      <td>325600</td>\n",
              "    </tr>\n",
              "  </tbody>\n",
              "</table>\n",
              "<p>434 rows × 1 columns</p>\n",
              "</div><br><label><b>dtype:</b> int64</label>"
            ]
          },
          "metadata": {},
          "execution_count": 16
        }
      ]
    },
    {
      "cell_type": "code",
      "source": [
        "missing_percentage = merged_df.isna().mean() * 100\n",
        "missing_percentage[missing_percentage > 50].index"
      ],
      "metadata": {
        "colab": {
          "base_uri": "https://localhost:8080/"
        },
        "id": "bRrr-6I0YX8q",
        "outputId": "dc3436de-e04a-48a1-b7cc-484999510219"
      },
      "execution_count": 17,
      "outputs": [
        {
          "output_type": "execute_result",
          "data": {
            "text/plain": [
              "Index(['dist1', 'dist2', 'R_emaildomain', 'D5', 'D6', 'D7', 'D8', 'D9', 'D11',\n",
              "       'D12',\n",
              "       ...\n",
              "       'id_31', 'id_32', 'id_33', 'id_34', 'id_35', 'id_36', 'id_37', 'id_38',\n",
              "       'DeviceType', 'DeviceInfo'],\n",
              "      dtype='object', length=229)"
            ]
          },
          "metadata": {},
          "execution_count": 17
        }
      ]
    },
    {
      "cell_type": "markdown",
      "source": [
        "Видно, что значительная доля колонок имеет более 50% пропусков в данных."
      ],
      "metadata": {
        "id": "wNoHRy3tY_uO"
      }
    },
    {
      "cell_type": "code",
      "source": [
        "merged_df['V330'].value_counts()"
      ],
      "metadata": {
        "colab": {
          "base_uri": "https://localhost:8080/",
          "height": 610
        },
        "id": "Gc0-yVCSY1JZ",
        "outputId": "d6ef4d0b-c58e-4c02-864e-a7a424c7a4ae"
      },
      "execution_count": 18,
      "outputs": [
        {
          "output_type": "execute_result",
          "data": {
            "text/plain": [
              "V330\n",
              "0.0     59682\n",
              "1.0      3983\n",
              "2.0      1263\n",
              "3.0       451\n",
              "4.0       158\n",
              "5.0        73\n",
              "11.0       43\n",
              "6.0        38\n",
              "8.0        30\n",
              "7.0        22\n",
              "10.0       18\n",
              "9.0        12\n",
              "14.0        7\n",
              "12.0        4\n",
              "13.0        3\n",
              "15.0        1\n",
              "Name: count, dtype: int64"
            ],
            "text/html": [
              "<div>\n",
              "<style scoped>\n",
              "    .dataframe tbody tr th:only-of-type {\n",
              "        vertical-align: middle;\n",
              "    }\n",
              "\n",
              "    .dataframe tbody tr th {\n",
              "        vertical-align: top;\n",
              "    }\n",
              "\n",
              "    .dataframe thead th {\n",
              "        text-align: right;\n",
              "    }\n",
              "</style>\n",
              "<table border=\"1\" class=\"dataframe\">\n",
              "  <thead>\n",
              "    <tr style=\"text-align: right;\">\n",
              "      <th></th>\n",
              "      <th>count</th>\n",
              "    </tr>\n",
              "    <tr>\n",
              "      <th>V330</th>\n",
              "      <th></th>\n",
              "    </tr>\n",
              "  </thead>\n",
              "  <tbody>\n",
              "    <tr>\n",
              "      <th>0.0</th>\n",
              "      <td>59682</td>\n",
              "    </tr>\n",
              "    <tr>\n",
              "      <th>1.0</th>\n",
              "      <td>3983</td>\n",
              "    </tr>\n",
              "    <tr>\n",
              "      <th>2.0</th>\n",
              "      <td>1263</td>\n",
              "    </tr>\n",
              "    <tr>\n",
              "      <th>3.0</th>\n",
              "      <td>451</td>\n",
              "    </tr>\n",
              "    <tr>\n",
              "      <th>4.0</th>\n",
              "      <td>158</td>\n",
              "    </tr>\n",
              "    <tr>\n",
              "      <th>5.0</th>\n",
              "      <td>73</td>\n",
              "    </tr>\n",
              "    <tr>\n",
              "      <th>11.0</th>\n",
              "      <td>43</td>\n",
              "    </tr>\n",
              "    <tr>\n",
              "      <th>6.0</th>\n",
              "      <td>38</td>\n",
              "    </tr>\n",
              "    <tr>\n",
              "      <th>8.0</th>\n",
              "      <td>30</td>\n",
              "    </tr>\n",
              "    <tr>\n",
              "      <th>7.0</th>\n",
              "      <td>22</td>\n",
              "    </tr>\n",
              "    <tr>\n",
              "      <th>10.0</th>\n",
              "      <td>18</td>\n",
              "    </tr>\n",
              "    <tr>\n",
              "      <th>9.0</th>\n",
              "      <td>12</td>\n",
              "    </tr>\n",
              "    <tr>\n",
              "      <th>14.0</th>\n",
              "      <td>7</td>\n",
              "    </tr>\n",
              "    <tr>\n",
              "      <th>12.0</th>\n",
              "      <td>4</td>\n",
              "    </tr>\n",
              "    <tr>\n",
              "      <th>13.0</th>\n",
              "      <td>3</td>\n",
              "    </tr>\n",
              "    <tr>\n",
              "      <th>15.0</th>\n",
              "      <td>1</td>\n",
              "    </tr>\n",
              "  </tbody>\n",
              "</table>\n",
              "</div><br><label><b>dtype:</b> int64</label>"
            ]
          },
          "metadata": {},
          "execution_count": 18
        }
      ]
    },
    {
      "cell_type": "code",
      "source": [
        "merged_df['V335'].value_counts()"
      ],
      "metadata": {
        "colab": {
          "base_uri": "https://localhost:8080/",
          "height": 484
        },
        "id": "fyqjLUFyZfir",
        "outputId": "88853fda-46f0-4128-a89e-86a5eb12e9e2"
      },
      "execution_count": 19,
      "outputs": [
        {
          "output_type": "execute_result",
          "data": {
            "text/plain": [
              "V335\n",
              "0.0        59637\n",
              "100.0        698\n",
              "50.0         678\n",
              "150.0        331\n",
              "25.0         314\n",
              "           ...  \n",
              "3300.0         1\n",
              "6875.0         1\n",
              "55125.0        1\n",
              "223.0          1\n",
              "685.0          1\n",
              "Name: count, Length: 546, dtype: int64"
            ],
            "text/html": [
              "<div>\n",
              "<style scoped>\n",
              "    .dataframe tbody tr th:only-of-type {\n",
              "        vertical-align: middle;\n",
              "    }\n",
              "\n",
              "    .dataframe tbody tr th {\n",
              "        vertical-align: top;\n",
              "    }\n",
              "\n",
              "    .dataframe thead th {\n",
              "        text-align: right;\n",
              "    }\n",
              "</style>\n",
              "<table border=\"1\" class=\"dataframe\">\n",
              "  <thead>\n",
              "    <tr style=\"text-align: right;\">\n",
              "      <th></th>\n",
              "      <th>count</th>\n",
              "    </tr>\n",
              "    <tr>\n",
              "      <th>V335</th>\n",
              "      <th></th>\n",
              "    </tr>\n",
              "  </thead>\n",
              "  <tbody>\n",
              "    <tr>\n",
              "      <th>0.0</th>\n",
              "      <td>59637</td>\n",
              "    </tr>\n",
              "    <tr>\n",
              "      <th>100.0</th>\n",
              "      <td>698</td>\n",
              "    </tr>\n",
              "    <tr>\n",
              "      <th>50.0</th>\n",
              "      <td>678</td>\n",
              "    </tr>\n",
              "    <tr>\n",
              "      <th>150.0</th>\n",
              "      <td>331</td>\n",
              "    </tr>\n",
              "    <tr>\n",
              "      <th>25.0</th>\n",
              "      <td>314</td>\n",
              "    </tr>\n",
              "    <tr>\n",
              "      <th>...</th>\n",
              "      <td>...</td>\n",
              "    </tr>\n",
              "    <tr>\n",
              "      <th>3300.0</th>\n",
              "      <td>1</td>\n",
              "    </tr>\n",
              "    <tr>\n",
              "      <th>6875.0</th>\n",
              "      <td>1</td>\n",
              "    </tr>\n",
              "    <tr>\n",
              "      <th>55125.0</th>\n",
              "      <td>1</td>\n",
              "    </tr>\n",
              "    <tr>\n",
              "      <th>223.0</th>\n",
              "      <td>1</td>\n",
              "    </tr>\n",
              "    <tr>\n",
              "      <th>685.0</th>\n",
              "      <td>1</td>\n",
              "    </tr>\n",
              "  </tbody>\n",
              "</table>\n",
              "<p>546 rows × 1 columns</p>\n",
              "</div><br><label><b>dtype:</b> int64</label>"
            ]
          },
          "metadata": {},
          "execution_count": 19
        }
      ]
    },
    {
      "cell_type": "code",
      "source": [
        "merged_df['V338'].value_counts()"
      ],
      "metadata": {
        "colab": {
          "base_uri": "https://localhost:8080/",
          "height": 484
        },
        "id": "cOep9ffIZiQ3",
        "outputId": "0bb74540-0c11-4c63-b640-6f349b205da3"
      },
      "execution_count": 20,
      "outputs": [
        {
          "output_type": "execute_result",
          "data": {
            "text/plain": [
              "V338\n",
              "0.0       59245\n",
              "100.0      1039\n",
              "200.0       666\n",
              "50.0        588\n",
              "150.0       504\n",
              "          ...  \n",
              "1495.0        1\n",
              "1320.0        1\n",
              "7.5           1\n",
              "272.0         1\n",
              "29.0          1\n",
              "Name: count, Length: 219, dtype: int64"
            ],
            "text/html": [
              "<div>\n",
              "<style scoped>\n",
              "    .dataframe tbody tr th:only-of-type {\n",
              "        vertical-align: middle;\n",
              "    }\n",
              "\n",
              "    .dataframe tbody tr th {\n",
              "        vertical-align: top;\n",
              "    }\n",
              "\n",
              "    .dataframe thead th {\n",
              "        text-align: right;\n",
              "    }\n",
              "</style>\n",
              "<table border=\"1\" class=\"dataframe\">\n",
              "  <thead>\n",
              "    <tr style=\"text-align: right;\">\n",
              "      <th></th>\n",
              "      <th>count</th>\n",
              "    </tr>\n",
              "    <tr>\n",
              "      <th>V338</th>\n",
              "      <th></th>\n",
              "    </tr>\n",
              "  </thead>\n",
              "  <tbody>\n",
              "    <tr>\n",
              "      <th>0.0</th>\n",
              "      <td>59245</td>\n",
              "    </tr>\n",
              "    <tr>\n",
              "      <th>100.0</th>\n",
              "      <td>1039</td>\n",
              "    </tr>\n",
              "    <tr>\n",
              "      <th>200.0</th>\n",
              "      <td>666</td>\n",
              "    </tr>\n",
              "    <tr>\n",
              "      <th>50.0</th>\n",
              "      <td>588</td>\n",
              "    </tr>\n",
              "    <tr>\n",
              "      <th>150.0</th>\n",
              "      <td>504</td>\n",
              "    </tr>\n",
              "    <tr>\n",
              "      <th>...</th>\n",
              "      <td>...</td>\n",
              "    </tr>\n",
              "    <tr>\n",
              "      <th>1495.0</th>\n",
              "      <td>1</td>\n",
              "    </tr>\n",
              "    <tr>\n",
              "      <th>1320.0</th>\n",
              "      <td>1</td>\n",
              "    </tr>\n",
              "    <tr>\n",
              "      <th>7.5</th>\n",
              "      <td>1</td>\n",
              "    </tr>\n",
              "    <tr>\n",
              "      <th>272.0</th>\n",
              "      <td>1</td>\n",
              "    </tr>\n",
              "    <tr>\n",
              "      <th>29.0</th>\n",
              "      <td>1</td>\n",
              "    </tr>\n",
              "  </tbody>\n",
              "</table>\n",
              "<p>219 rows × 1 columns</p>\n",
              "</div><br><label><b>dtype:</b> int64</label>"
            ]
          },
          "metadata": {},
          "execution_count": 20
        }
      ]
    },
    {
      "cell_type": "markdown",
      "source": [
        "Учитывая высокую долю пропусков их удаление приведет к существенной потере данных и ухудшению каества модели. Целесообразно использовать модели машинного обучения, которые хорошо справляются с пропусками в данных (модели на основе решающих деревьев, бустинги)"
      ],
      "metadata": {
        "id": "D7xvX7afZmoS"
      }
    },
    {
      "cell_type": "markdown",
      "source": [
        "## 1.2. Проверка дубликатов"
      ],
      "metadata": {
        "id": "-qVtr4k5aUc0"
      }
    },
    {
      "cell_type": "code",
      "source": [
        "merged_df.duplicated().sum()"
      ],
      "metadata": {
        "colab": {
          "base_uri": "https://localhost:8080/"
        },
        "id": "c9qwqCuNaZ_O",
        "outputId": "85d2d0e2-ab4d-48a1-968d-2a78b17c25b2"
      },
      "execution_count": 21,
      "outputs": [
        {
          "output_type": "execute_result",
          "data": {
            "text/plain": [
              "0"
            ]
          },
          "metadata": {},
          "execution_count": 21
        }
      ]
    },
    {
      "cell_type": "code",
      "source": [
        "merged_df.drop('isFraud', axis=1).duplicated().sum()"
      ],
      "metadata": {
        "colab": {
          "base_uri": "https://localhost:8080/"
        },
        "id": "W-ay-vTbanb5",
        "outputId": "94e2ab3d-8c82-4b0e-9fb0-121528215b8a"
      },
      "execution_count": 22,
      "outputs": [
        {
          "output_type": "execute_result",
          "data": {
            "text/plain": [
              "0"
            ]
          },
          "metadata": {},
          "execution_count": 22
        }
      ]
    },
    {
      "cell_type": "markdown",
      "source": [
        "Дубликаты отсутствуют."
      ],
      "metadata": {
        "id": "io4OV3ntawTV"
      }
    },
    {
      "cell_type": "markdown",
      "source": [
        "## 1.3. Анализ целевой переменной"
      ],
      "metadata": {
        "id": "vNSLRJHhbJbZ"
      }
    },
    {
      "cell_type": "code",
      "source": [
        "merged_df.isFraud.hist()"
      ],
      "metadata": {
        "colab": {
          "base_uri": "https://localhost:8080/",
          "height": 447
        },
        "id": "YGrHRxwFbYK-",
        "outputId": "720def99-78a7-48ea-9930-7617c5dbd98e"
      },
      "execution_count": 23,
      "outputs": [
        {
          "output_type": "execute_result",
          "data": {
            "text/plain": [
              "<Axes: >"
            ]
          },
          "metadata": {},
          "execution_count": 23
        },
        {
          "output_type": "display_data",
          "data": {
            "text/plain": [
              "<Figure size 640x480 with 1 Axes>"
            ],
            "image/png": "[encoded data removed]"
          },
          "metadata": {}
        }
      ]
    },
    {
      "cell_type": "code",
      "source": [
        "merged_df.isFraud.value_counts()"
      ],
      "metadata": {
        "colab": {
          "base_uri": "https://localhost:8080/",
          "height": 176
        },
        "id": "XtHQzISZb3X_",
        "outputId": "53e355b1-f968-4957-b52e-7e1d0d89c110"
      },
      "execution_count": 24,
      "outputs": [
        {
          "output_type": "execute_result",
          "data": {
            "text/plain": [
              "isFraud\n",
              "0    402838\n",
              "1     14721\n",
              "Name: count, dtype: int64"
            ],
            "text/html": [
              "<div>\n",
              "<style scoped>\n",
              "    .dataframe tbody tr th:only-of-type {\n",
              "        vertical-align: middle;\n",
              "    }\n",
              "\n",
              "    .dataframe tbody tr th {\n",
              "        vertical-align: top;\n",
              "    }\n",
              "\n",
              "    .dataframe thead th {\n",
              "        text-align: right;\n",
              "    }\n",
              "</style>\n",
              "<table border=\"1\" class=\"dataframe\">\n",
              "  <thead>\n",
              "    <tr style=\"text-align: right;\">\n",
              "      <th></th>\n",
              "      <th>count</th>\n",
              "    </tr>\n",
              "    <tr>\n",
              "      <th>isFraud</th>\n",
              "      <th></th>\n",
              "    </tr>\n",
              "  </thead>\n",
              "  <tbody>\n",
              "    <tr>\n",
              "      <th>0</th>\n",
              "      <td>402838</td>\n",
              "    </tr>\n",
              "    <tr>\n",
              "      <th>1</th>\n",
              "      <td>14721</td>\n",
              "    </tr>\n",
              "  </tbody>\n",
              "</table>\n",
              "</div><br><label><b>dtype:</b> int64</label>"
            ]
          },
          "metadata": {},
          "execution_count": 24
        }
      ]
    },
    {
      "cell_type": "markdown",
      "source": [
        "Видим, что присутствует существенный дисбаланс классов, что наверное логично (поскольку большинство транзакций всё-таки должны быть нефродовыми). В этой связи метрика Accuracy не подходит для оценки модели. Вместо этого стоит использовать ROC-AUC, которая объединяет преимущества Precision и Recall, но при этом не зависит от выбранного порога."
      ],
      "metadata": {
        "id": "T4CpNvBybdbm"
      }
    },
    {
      "cell_type": "markdown",
      "source": [
        "## 1.4. Анализ категориальных признаков"
      ],
      "metadata": {
        "id": "8QISpVj1bMeb"
      }
    },
    {
      "cell_type": "code",
      "source": [
        "merged_df.select_dtypes(include=['object']).columns"
      ],
      "metadata": {
        "colab": {
          "base_uri": "https://localhost:8080/"
        },
        "id": "zsJykfTtcrf5",
        "outputId": "830b5de4-1810-4d37-a7e6-eb4e3407e36a"
      },
      "execution_count": 25,
      "outputs": [
        {
          "output_type": "execute_result",
          "data": {
            "text/plain": [
              "Index(['ProductCD', 'card4', 'card6', 'P_emaildomain', 'R_emaildomain', 'M1',\n",
              "       'M2', 'M3', 'M4', 'M5', 'M6', 'M7', 'M8', 'M9', 'id_12', 'id_15',\n",
              "       'id_16', 'id_23', 'id_27', 'id_28', 'id_29', 'id_30', 'id_31', 'id_33',\n",
              "       'id_34', 'id_35', 'id_36', 'id_37', 'id_38', 'DeviceType',\n",
              "       'DeviceInfo'],\n",
              "      dtype='object')"
            ]
          },
          "metadata": {},
          "execution_count": 25
        }
      ]
    },
    {
      "cell_type": "code",
      "source": [
        "merged_df.describe(include='object')"
      ],
      "metadata": {
        "id": "6X7VagImdqN6",
        "outputId": "9c487a96-88e6-4799-ea65-ff7d3883fc0b",
        "colab": {
          "base_uri": "https://localhost:8080/",
          "height": 239
        }
      },
      "execution_count": 26,
      "outputs": [
        {
          "output_type": "execute_result",
          "data": {
            "text/plain": [
              "       ProductCD   card4   card6 P_emaildomain R_emaildomain      M1      M2  \\\n",
              "count     417559  416730  416733        352649        103820  194116  194116   \n",
              "unique         5       4       4            59            60       2       2   \n",
              "top            W    visa   debit     gmail.com     gmail.com       T       T   \n",
              "freq      301297  272753  306554        160974         43010  194098  173868   \n",
              "\n",
              "            M3      M4      M5  ...       id_30        id_31      id_33  \\\n",
              "count   194116  215646  165564  ...       62096       107961      57819   \n",
              "unique       2       3       2  ...          71          110        183   \n",
              "top          T      M0       F  ...  Windows 10  chrome 63.0  1920x1080   \n",
              "freq    152682  136257   91343  ...       16078        21821      13466   \n",
              "\n",
              "                 id_34   id_35   id_36   id_37   id_38 DeviceType DeviceInfo  \n",
              "count            62168  108273  108273  108273  108273     108124      91959  \n",
              "unique               4       2       2       2       2          2       1551  \n",
              "top     match_status:2       T       F       T       T    desktop    Windows  \n",
              "freq             46931   62152  102536   84398   57779      66324      36841  \n",
              "\n",
              "[4 rows x 31 columns]"
            ],
            "text/html": [
              "\n",
              "  <div id=\"df-d7e940a5-9e15-4722-92f7-78bee8141e70\" class=\"colab-df-container\">\n",
              "    <div>\n",
              "<style scoped>\n",
              "    .dataframe tbody tr th:only-of-type {\n",
              "        vertical-align: middle;\n",
              "    }\n",
              "\n",
              "    .dataframe tbody tr th {\n",
              "        vertical-align: top;\n",
              "    }\n",
              "\n",
              "    .dataframe thead th {\n",
              "        text-align: right;\n",
              "    }\n",
              "</style>\n",
              "<table border=\"1\" class=\"dataframe\">\n",
              "  <thead>\n",
              "    <tr style=\"text-align: right;\">\n",
              "      <th></th>\n",
              "      <th>ProductCD</th>\n",
              "      <th>card4</th>\n",
              "      <th>card6</th>\n",
              "      <th>P_emaildomain</th>\n",
              "      <th>R_emaildomain</th>\n",
              "      <th>M1</th>\n",
              "      <th>M2</th>\n",
              "      <th>M3</th>\n",
              "      <th>M4</th>\n",
              "      <th>M5</th>\n",
              "      <th>...</th>\n",
              "      <th>id_30</th>\n",
              "      <th>id_31</th>\n",
              "      <th>id_33</th>\n",
              "      <th>id_34</th>\n",
              "      <th>id_35</th>\n",
              "      <th>id_36</th>\n",
              "      <th>id_37</th>\n",
              "      <th>id_38</th>\n",
              "      <th>DeviceType</th>\n",
              "      <th>DeviceInfo</th>\n",
              "    </tr>\n",
              "  </thead>\n",
              "  <tbody>\n",
              "    <tr>\n",
              "      <th>count</th>\n",
              "      <td>417559</td>\n",
              "      <td>416730</td>\n",
              "      <td>416733</td>\n",
              "      <td>352649</td>\n",
              "      <td>103820</td>\n",
              "      <td>194116</td>\n",
              "      <td>194116</td>\n",
              "      <td>194116</td>\n",
              "      <td>215646</td>\n",
              "      <td>165564</td>\n",
              "      <td>...</td>\n",
              "      <td>62096</td>\n",
              "      <td>107961</td>\n",
              "      <td>57819</td>\n",
              "      <td>62168</td>\n",
              "      <td>108273</td>\n",
              "      <td>108273</td>\n",
              "      <td>108273</td>\n",
              "      <td>108273</td>\n",
              "      <td>108124</td>\n",
              "      <td>91959</td>\n",
              "    </tr>\n",
              "    <tr>\n",
              "      <th>unique</th>\n",
              "      <td>5</td>\n",
              "      <td>4</td>\n",
              "      <td>4</td>\n",
              "      <td>59</td>\n",
              "      <td>60</td>\n",
              "      <td>2</td>\n",
              "      <td>2</td>\n",
              "      <td>2</td>\n",
              "      <td>3</td>\n",
              "      <td>2</td>\n",
              "      <td>...</td>\n",
              "      <td>71</td>\n",
              "      <td>110</td>\n",
              "      <td>183</td>\n",
              "      <td>4</td>\n",
              "      <td>2</td>\n",
              "      <td>2</td>\n",
              "      <td>2</td>\n",
              "      <td>2</td>\n",
              "      <td>2</td>\n",
              "      <td>1551</td>\n",
              "    </tr>\n",
              "    <tr>\n",
              "      <th>top</th>\n",
              "      <td>W</td>\n",
              "      <td>visa</td>\n",
              "      <td>debit</td>\n",
              "      <td>gmail.com</td>\n",
              "      <td>gmail.com</td>\n",
              "      <td>T</td>\n",
              "      <td>T</td>\n",
              "      <td>T</td>\n",
              "      <td>M0</td>\n",
              "      <td>F</td>\n",
              "      <td>...</td>\n",
              "      <td>Windows 10</td>\n",
              "      <td>chrome 63.0</td>\n",
              "      <td>1920x1080</td>\n",
              "      <td>match_status:2</td>\n",
              "      <td>T</td>\n",
              "      <td>F</td>\n",
              "      <td>T</td>\n",
              "      <td>T</td>\n",
              "      <td>desktop</td>\n",
              "      <td>Windows</td>\n",
              "    </tr>\n",
              "    <tr>\n",
              "      <th>freq</th>\n",
              "      <td>301297</td>\n",
              "      <td>272753</td>\n",
              "      <td>306554</td>\n",
              "      <td>160974</td>\n",
              "      <td>43010</td>\n",
              "      <td>194098</td>\n",
              "      <td>173868</td>\n",
              "      <td>152682</td>\n",
              "      <td>136257</td>\n",
              "      <td>91343</td>\n",
              "      <td>...</td>\n",
              "      <td>16078</td>\n",
              "      <td>21821</td>\n",
              "      <td>13466</td>\n",
              "      <td>46931</td>\n",
              "      <td>62152</td>\n",
              "      <td>102536</td>\n",
              "      <td>84398</td>\n",
              "      <td>57779</td>\n",
              "      <td>66324</td>\n",
              "      <td>36841</td>\n",
              "    </tr>\n",
              "  </tbody>\n",
              "</table>\n",
              "<p>4 rows × 31 columns</p>\n",
              "</div>\n",
              "    <div class=\"colab-df-buttons\">\n",
              "\n",
              "  <div class=\"colab-df-container\">\n",
              "    <button class=\"colab-df-convert\" onclick=\"convertToInteractive('df-d7e940a5-9e15-4722-92f7-78bee8141e70')\"\n",
              "            title=\"Convert this dataframe to an interactive table.\"\n",
              "            style=\"display:none;\">\n",
              "\n",
              "  <svg xmlns=\"http://www.w3.org/2000/svg\" height=\"24px\" viewBox=\"0 -960 960 960\">\n",
              "    <path d=\"M120-120v-720h720v720H120Zm60-500h600v-160H180v160Zm220 220h160v-160H400v160Zm0 220h160v-160H400v160ZM180-400h160v-160H180v160Zm440 0h160v-160H620v160ZM180-180h160v-160H180v160Zm440 0h160v-160H620v160Z\"/>\n",
              "  </svg>\n",
              "    </button>\n",
              "\n",
              "  <style>\n",
              "    .colab-df-container {\n",
              "      display:flex;\n",
              "      gap: 12px;\n",
              "    }\n",
              "\n",
              "    .colab-df-convert {\n",
              "      background-color: #E8F0FE;\n",
              "      border: none;\n",
              "      border-radius: 50%;\n",
              "      cursor: pointer;\n",
              "      display: none;\n",
              "      fill: #1967D2;\n",
              "      height: 32px;\n",
              "      padding: 0 0 0 0;\n",
              "      width: 32px;\n",
              "    }\n",
              "\n",
              "    .colab-df-convert:hover {\n",
              "      background-color: #E2EBFA;\n",
              "      box-shadow: 0px 1px 2px rgba(60, 64, 67, 0.3), 0px 1px 3px 1px rgba(60, 64, 67, 0.15);\n",
              "      fill: #174EA6;\n",
              "    }\n",
              "\n",
              "    .colab-df-buttons div {\n",
              "      margin-bottom: 4px;\n",
              "    }\n",
              "\n",
              "    [theme=dark] .colab-df-convert {\n",
              "      background-color: #3B4455;\n",
              "      fill: #D2E3FC;\n",
              "    }\n",
              "\n",
              "    [theme=dark] .colab-df-convert:hover {\n",
              "      background-color: #434B5C;\n",
              "      box-shadow: 0px 1px 3px 1px rgba(0, 0, 0, 0.15);\n",
              "      filter: drop-shadow(0px 1px 2px rgba(0, 0, 0, 0.3));\n",
              "      fill: #FFFFFF;\n",
              "    }\n",
              "  </style>\n",
              "\n",
              "    <script>\n",
              "      const buttonEl =\n",
              "        document.querySelector('#df-d7e940a5-9e15-4722-92f7-78bee8141e70 button.colab-df-convert');\n",
              "      buttonEl.style.display =\n",
              "        google.colab.kernel.accessAllowed ? 'block' : 'none';\n",
              "\n",
              "      async function convertToInteractive(key) {\n",
              "        const element = document.querySelector('#df-d7e940a5-9e15-4722-92f7-78bee8141e70');\n",
              "        const dataTable =\n",
              "          await google.colab.kernel.invokeFunction('convertToInteractive',\n",
              "                                                    [key], {});\n",
              "        if (!dataTable) return;\n",
              "\n",
              "        const docLinkHtml = 'Like what you see? Visit the ' +\n",
              "          '<a target=\"_blank\" href=https://colab.research.google.com/notebooks/data_table.ipynb>data table notebook</a>'\n",
              "          + ' to learn more about interactive tables.';\n",
              "        element.innerHTML = '';\n",
              "        dataTable['output_type'] = 'display_data';\n",
              "        await google.colab.output.renderOutput(dataTable, element);\n",
              "        const docLink = document.createElement('div');\n",
              "        docLink.innerHTML = docLinkHtml;\n",
              "        element.appendChild(docLink);\n",
              "      }\n",
              "    </script>\n",
              "  </div>\n",
              "\n",
              "\n",
              "<div id=\"df-22a9e84b-1857-46eb-a7d9-1e569f44e9ac\">\n",
              "  <button class=\"colab-df-quickchart\" onclick=\"quickchart('df-22a9e84b-1857-46eb-a7d9-1e569f44e9ac')\"\n",
              "            title=\"Suggest charts\"\n",
              "            style=\"display:none;\">\n",
              "\n",
              "<svg xmlns=\"http://www.w3.org/2000/svg\" height=\"24px\"viewBox=\"0 0 24 24\"\n",
              "     width=\"24px\">\n",
              "    <g>\n",
              "        <path d=\"M19 3H5c-1.1 0-2 .9-2 2v14c0 1.1.9 2 2 2h14c1.1 0 2-.9 2-2V5c0-1.1-.9-2-2-2zM9 17H7v-7h2v7zm4 0h-2V7h2v10zm4 0h-2v-4h2v4z\"/>\n",
              "    </g>\n",
              "</svg>\n",
              "  </button>\n",
              "\n",
              "<style>\n",
              "  .colab-df-quickchart {\n",
              "      --bg-color: #E8F0FE;\n",
              "      --fill-color: #1967D2;\n",
              "      --hover-bg-color: #E2EBFA;\n",
              "      --hover-fill-color: #174EA6;\n",
              "      --disabled-fill-color: #AAA;\n",
              "      --disabled-bg-color: #DDD;\n",
              "  }\n",
              "\n",
              "  [theme=dark] .colab-df-quickchart {\n",
              "      --bg-color: #3B4455;\n",
              "      --fill-color: #D2E3FC;\n",
              "      --hover-bg-color: #434B5C;\n",
              "      --hover-fill-color: #FFFFFF;\n",
              "      --disabled-bg-color: #3B4455;\n",
              "      --disabled-fill-color: #666;\n",
              "  }\n",
              "\n",
              "  .colab-df-quickchart {\n",
              "    background-color: var(--bg-color);\n",
              "    border: none;\n",
              "    border-radius: 50%;\n",
              "    cursor: pointer;\n",
              "    display: none;\n",
              "    fill: var(--fill-color);\n",
              "    height: 32px;\n",
              "    padding: 0;\n",
              "    width: 32px;\n",
              "  }\n",
              "\n",
              "  .colab-df-quickchart:hover {\n",
              "    background-color: var(--hover-bg-color);\n",
              "    box-shadow: 0 1px 2px rgba(60, 64, 67, 0.3), 0 1px 3px 1px rgba(60, 64, 67, 0.15);\n",
              "    fill: var(--button-hover-fill-color);\n",
              "  }\n",
              "\n",
              "  .colab-df-quickchart-complete:disabled,\n",
              "  .colab-df-quickchart-complete:disabled:hover {\n",
              "    background-color: var(--disabled-bg-color);\n",
              "    fill: var(--disabled-fill-color);\n",
              "    box-shadow: none;\n",
              "  }\n",
              "\n",
              "  .colab-df-spinner {\n",
              "    border: 2px solid var(--fill-color);\n",
              "    border-color: transparent;\n",
              "    border-bottom-color: var(--fill-color);\n",
              "    animation:\n",
              "      spin 1s steps(1) infinite;\n",
              "  }\n",
              "\n",
              "  @keyframes spin {\n",
              "    0% {\n",
              "      border-color: transparent;\n",
              "      border-bottom-color: var(--fill-color);\n",
              "      border-left-color: var(--fill-color);\n",
              "    }\n",
              "    20% {\n",
              "      border-color: transparent;\n",
              "      border-left-color: var(--fill-color);\n",
              "      border-top-color: var(--fill-color);\n",
              "    }\n",
              "    30% {\n",
              "      border-color: transparent;\n",
              "      border-left-color: var(--fill-color);\n",
              "      border-top-color: var(--fill-color);\n",
              "      border-right-color: var(--fill-color);\n",
              "    }\n",
              "    40% {\n",
              "      border-color: transparent;\n",
              "      border-right-color: var(--fill-color);\n",
              "      border-top-color: var(--fill-color);\n",
              "    }\n",
              "    60% {\n",
              "      border-color: transparent;\n",
              "      border-right-color: var(--fill-color);\n",
              "    }\n",
              "    80% {\n",
              "      border-color: transparent;\n",
              "      border-right-color: var(--fill-color);\n",
              "      border-bottom-color: var(--fill-color);\n",
              "    }\n",
              "    90% {\n",
              "      border-color: transparent;\n",
              "      border-bottom-color: var(--fill-color);\n",
              "    }\n",
              "  }\n",
              "</style>\n",
              "\n",
              "  <script>\n",
              "    async function quickchart(key) {\n",
              "      const quickchartButtonEl =\n",
              "        document.querySelector('#' + key + ' button');\n",
              "      quickchartButtonEl.disabled = true;  // To prevent multiple clicks.\n",
              "      quickchartButtonEl.classList.add('colab-df-spinner');\n",
              "      try {\n",
              "        const charts = await google.colab.kernel.invokeFunction(\n",
              "            'suggestCharts', [key], {});\n",
              "      } catch (error) {\n",
              "        console.error('Error during call to suggestCharts:', error);\n",
              "      }\n",
              "      quickchartButtonEl.classList.remove('colab-df-spinner');\n",
              "      quickchartButtonEl.classList.add('colab-df-quickchart-complete');\n",
              "    }\n",
              "    (() => {\n",
              "      let quickchartButtonEl =\n",
              "        document.querySelector('#df-22a9e84b-1857-46eb-a7d9-1e569f44e9ac button');\n",
              "      quickchartButtonEl.style.display =\n",
              "        google.colab.kernel.accessAllowed ? 'block' : 'none';\n",
              "    })();\n",
              "  </script>\n",
              "</div>\n",
              "    </div>\n",
              "  </div>\n"
            ],
            "application/vnd.google.colaboratory.intrinsic+json": {
              "type": "dataframe"
            }
          },
          "metadata": {},
          "execution_count": 26
        }
      ]
    },
    {
      "cell_type": "code",
      "source": [
        "binary_cols = [col for col in merged_df.columns if\n",
        "               set(str(x).upper() for x in merged_df[col].dropna().unique()) == {'F', 'T'}]\n",
        "\n",
        "binary_cols"
      ],
      "metadata": {
        "id": "SRIpO247CMGx",
        "outputId": "8ca82de4-dc9b-43ad-98e0-87b4e93d0ac5",
        "colab": {
          "base_uri": "https://localhost:8080/"
        }
      },
      "execution_count": 27,
      "outputs": [
        {
          "output_type": "execute_result",
          "data": {
            "text/plain": [
              "['M1',\n",
              " 'M2',\n",
              " 'M3',\n",
              " 'M5',\n",
              " 'M6',\n",
              " 'M7',\n",
              " 'M8',\n",
              " 'M9',\n",
              " 'id_35',\n",
              " 'id_36',\n",
              " 'id_37',\n",
              " 'id_38']"
            ]
          },
          "metadata": {},
          "execution_count": 27
        }
      ]
    },
    {
      "cell_type": "markdown",
      "source": [
        "Переменные М1-М3, М5-М9, id_35-id_38 можно закодировать как 1 и 0 (посольку принимает значения только T и F). Для ProductCD, card4, card6, M4 - можно попробовать OHE, поскольку количество категорий невелико. Для переменных P_emaildomain, R_emaildomain видимо целесообразно использовать target encoder."
      ],
      "metadata": {
        "id": "mOT8p4bF3vRu"
      }
    },
    {
      "cell_type": "code",
      "source": [
        "ohe_cols = ['ProductCD', 'card4', 'card6', 'M4']\n",
        "target_cols = ['P_emaildomain', 'R_emaildomain']"
      ],
      "metadata": {
        "id": "iyrSYBsG43f-"
      },
      "execution_count": 28,
      "outputs": []
    },
    {
      "cell_type": "code",
      "source": [
        "binary_transformer = Pipeline(steps=[\n",
        "    ('label_encoder', LabelEncoder())\n",
        "])\n",
        "\n",
        "ohe_transformer = Pipeline(steps=[\n",
        "    ('onehot', OneHotEncoder(drop='first', handle_unknown='ignore', sparse_output=False))\n",
        "])\n",
        "\n",
        "target_transformer = Pipeline(steps=[\n",
        "    ('target_encoder', TargetEncoder())\n",
        "])\n",
        "\n",
        "preprocessor = ColumnTransformer(\n",
        "    transformers=[\n",
        "        ('binary', binary_transformer, binary_cols),\n",
        "        ('ohe', ohe_transformer, ohe_cols),\n",
        "        ('target', target_transformer, target_cols)\n",
        "    ]\n",
        ")"
      ],
      "metadata": {
        "id": "BlNZVdWK4_km"
      },
      "execution_count": 29,
      "outputs": []
    },
    {
      "cell_type": "markdown",
      "source": [
        "## 1.5. Оценка корреляций"
      ],
      "metadata": {
        "id": "wcFPtaDr4qA8"
      }
    },
    {
      "cell_type": "code",
      "source": [
        "correlation_matrix = merged_df[['TransactionAmt', 'TransactionDT',\n",
        "                                        'ProductCD', 'card4', 'card6', 'M4',\n",
        "                                        'P_emaildomain', 'R_emaildomain']].phik_matrix()\n",
        "\n",
        "plt.figure(figsize=(8, 8))\n",
        "sns.heatmap(correlation_matrix, annot=True, cmap='coolwarm', square=True)\n",
        "plt.title('Correlation Matrix')\n",
        "plt.show()"
      ],
      "metadata": {
        "colab": {
          "base_uri": "https://localhost:8080/",
          "height": 733
        },
        "id": "-AeltHTI3jp5",
        "outputId": "373d34c4-894c-41ec-9615-7f60f9ca79df"
      },
      "execution_count": 30,
      "outputs": [
        {
          "output_type": "stream",
          "name": "stdout",
          "text": [
            "interval columns not set, guessing: ['TransactionAmt', 'TransactionDT']\n"
          ]
        },
        {
          "output_type": "display_data",
          "data": {
            "text/plain": [
              "<Figure size 800x800 with 2 Axes>"
            ],
            "image/png": "[encoded data removed]"
          },
          "metadata": {}
        }
      ]
    },
    {
      "cell_type": "markdown",
      "source": [
        " Видим практически полную корреляцию между 'P_emaildomain', 'R_emaildomain', а также высокую корреляцию этих признаков с ProductCD"
      ],
      "metadata": {
        "id": "qaAAl-DE_KSB"
      }
    },
    {
      "cell_type": "markdown",
      "source": [
        "# **Задание 2 (3 балла)**\n",
        "\n",
        "Обучите несколько ML-моделей для решения поставленной задачи.\n",
        "Оцените их качество двумя способами:\n",
        "\n",
        "1) на кросс-валидации\n",
        "\n",
        "2) на лидерборде\n",
        "\n",
        "Подберите число фолдов на кросс-валидации так, чтобы метрики, которые вы видите, были максимально близки на кросс-валидации и на лидерборде.\n",
        "\n",
        "По результатам экспериментов постройте таблицу:\n",
        "* в каждой строке таблицы - результаты одной модели\n",
        "* по столбцам: качество на кросс-валидации, качество на лидерборде, модель с гиперпараметрами\n",
        "Полученную таблицу вставьте картинкой прямо в ноутбук после ячеек с кодом. Сделайте текстовые выводы."
      ],
      "metadata": {
        "id": "vWNI5i4S7VzN"
      }
    },
    {
      "cell_type": "markdown",
      "source": [
        "## 2.1. Логит регрессия"
      ],
      "metadata": {
        "id": "t2fJ62_EC7-l"
      }
    },
    {
      "cell_type": "code",
      "source": [
        "X_train = merged_df.drop('isFraud', axis=1)\n",
        "X_train = X_train.fillna('')\n",
        "y_train = merged_df['isFraud'].values"
      ],
      "metadata": {
        "id": "ucNmlYUmDuaP"
      },
      "execution_count": 31,
      "outputs": []
    },
    {
      "cell_type": "code",
      "source": [
        "logreg_pipeline = Pipeline(steps=[\n",
        "    ('preprocessor', preprocessor),\n",
        "    ('logreg', LogisticRegression(max_iter=1000))\n",
        "])"
      ],
      "metadata": {
        "id": "4yEMdMQv77og"
      },
      "execution_count": 32,
      "outputs": []
    },
    {
      "cell_type": "code",
      "source": [
        "scores = cross_val_score(logreg_pipeline, X_train, y_train, cv=4, scoring=roc_auc_score)\n",
        "\n",
        "print(\"ROC AUC scores on each fold:\", scores)\n",
        "print(\"Average ROC AUC:\", scores.mean())"
      ],
      "metadata": {
        "id": "QTl8luwBEDv4"
      },
      "execution_count": null,
      "outputs": []
    },
    {
      "cell_type": "markdown",
      "source": [
        "# **Задание 3 (2 балла)**\n",
        "\n",
        "Попробуйте подойти к задаче как к поиску аномалий.\n",
        "\n",
        "1) Поищите аномалии (фрод) различными рассмотренными в курсе методами и сделайте прогноз на тестовых данных.\n",
        "\n",
        "Результатом также будет таблица:\n",
        "* по строкам - методы поиска аномалий\n",
        "* по столбцам - качество вашего решения на leaderboard\n",
        "\n",
        "2) Попробуйте встроить поиск аномалий и их удаление в ML-пайплайн: найдите аномалии и что-нибудь с ними сделайте до обучения моделей (можно удалить их, а можно использовать в качестве дополнительных признаков - попробуйте разные стратегии). Результат проверьте на кросс-валидации и на лидерборде, сделайте выводы."
      ],
      "metadata": {
        "id": "qYedT0TJ79RC"
      }
    },
    {
      "cell_type": "code",
      "source": [
        "# ваша работа с аномалиями здесь"
      ],
      "metadata": {
        "id": "yjfDSPh-7-dh"
      },
      "execution_count": null,
      "outputs": []
    },
    {
      "cell_type": "markdown",
      "source": [
        "# **Задание 4 (1 балл)**\n",
        "\n",
        "Сделайте кластеризацию различными способами. Результаты кластеризации используйте для улучшения ML-решений:\n",
        "\n",
        "1) Номера кластеров закодируйте (OHE или target-encoding) и добавьте как новые признаки\n",
        "\n",
        "2) При использовании DBSCAN / HDBSCAN предсказанный шум можно трактовать как найденную аномалию и также добавить ее как новый признак\n",
        "\n",
        "Проведите различные эксперименты. Проверьте как эти подходы влияют на качество прогнозов по кросс-валидации и на лидерборде, сделайте выводы."
      ],
      "metadata": {
        "id": "LWokFc_n8qSR"
      }
    },
    {
      "cell_type": "code",
      "source": [
        "# ваши эксперименты с кластеризацией здесь"
      ],
      "metadata": {
        "id": "aS2aMVfg9G1h"
      },
      "execution_count": null,
      "outputs": []
    },
    {
      "cell_type": "markdown",
      "source": [
        "## **Задание 5 (1 балл)**\n",
        "\n",
        "Примените какой-нибудь (один любой) AutoML фреймворк для решения поставленной задачи.\n",
        "\n",
        "Отправьте AutoML-прогноз на kaggle и посмотрите на качество модели. Сделайте текстовые выводы."
      ],
      "metadata": {
        "id": "-cLx2cL--7MM"
      }
    },
    {
      "cell_type": "code",
      "source": [
        "# ваш AutoML здесь"
      ],
      "metadata": {
        "id": "Rhw85LDV_QJn"
      },
      "execution_count": null,
      "outputs": []
    },
    {
      "cell_type": "markdown",
      "source": [
        "# **Задание 6 (1 балл)**\n",
        "\n",
        "Весь курс мы работали в Google Colab. Но всегда должны быть запасные варианты, где Вы будете обучать модели.\n",
        "\n",
        "Среди вариантов есть:\n",
        "* ваша локальная машина\n",
        "* kaggle notebooks\n",
        "* yandex cloud\n",
        "и другие.\n",
        "\n",
        "Кроме привычного Google Colab выберите из списка выше один любой альтернативный вариант и проведите эксперимент:\n",
        "\n",
        "* Прогоните ваш лучший по качеству по результатам заданий 2-4 ML-пайплайн заново в Google Colab и с помощью библиотек (например, при помощи библиотеки time) замерьте время обучения и отдельно время инференса на тестовых данных\n",
        "\n",
        "* Прогоните этот пайплайн на выбранном альтернативном сервисе/локальной машине и также замерьте время обучения и инференса.\n",
        "\n",
        "Текстом напишите выводы: опишите, какое альтернативное место для обучения моделей Вы использовали? Прикрепите прямо в ноутбук скриншот с экраном кода в альтернативном сервисе/на локальной машине. Также в виде таблицы приведите сравнение времени обучения и инференса в колабе и в альтернативном месте. Сделайте выводы."
      ],
      "metadata": {
        "id": "mxUr8jaG9JxA"
      }
    },
    {
      "cell_type": "code",
      "source": [
        "# ваши эксперименты здесь"
      ],
      "metadata": {
        "id": "Os6aMaqS-MjX"
      },
      "execution_count": null,
      "outputs": []
    },
    {
      "cell_type": "markdown",
      "source": [
        "# **Бонус: за Kaggle и стремление к хорошим скорам (2 балла)**\n",
        "\n",
        "В этом домашнем задании Ваша цель - не просто выполнить шаги выше, но и построить максимально хорошую по качеству модель.\n",
        "\n",
        "**К 10 вы можете получить до двух дополнительных баллов:**\n",
        "\n",
        "* За попадание в топ-20% на private leaderboard — +1 дополнительный балл к оценке\n",
        "* За попадание в топ-5 мест на private leaderboard — + еще один дополнительный балл к оценке (то есть суммарно 2 дополнительных балла)\n",
        "\n",
        "**ВАЖНО!!!**\n",
        "\n",
        "Эти баллы ставятся до мягкого дедлайна по соревнованию. После мягкого дедлайна лидерборд не обновляется, и дополнительные баллы не ставятся.\n",
        "\n",
        "Успехов!"
      ],
      "metadata": {
        "id": "r-CI3PL9-P45"
      }
    },
    {
      "cell_type": "code",
      "source": [
        "# не забудьте прикрепить скриншоты лидерборда, пожалуйста"
      ],
      "metadata": {
        "id": "BywMmnkB-s3w"
      },
      "execution_count": null,
      "outputs": []
    }
  ]
}