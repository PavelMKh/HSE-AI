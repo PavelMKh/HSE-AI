{
  "cells": [
    {
      "cell_type": "markdown",
      "id": "047674ee",
      "metadata": {
        "id": "047674ee"
      },
      "source": [
        "# **Домашняя работа: прогнозирование заработной платы и кластеризация типов движений**"
      ]
    },
    {
      "cell_type": "markdown",
      "id": "d8461109",
      "metadata": {
        "id": "d8461109"
      },
      "source": [
        "### **Постановка задачи:**\n",
        "\n",
        "В этой работе две части:\n",
        "\n",
        "*   В первой части вам предстоит построить алгоритм на основе бустинга для прогнозирования зарплаты\n",
        "*   Во второй части вам предстоит кластеризовать типы движений по имеющимся данным с акселерометров и гироскопов\n",
        "\n",
        "### **Оценивание:**\n",
        "\n",
        "- Как всегда оцениваются как код, так и ответы на вопросы. Если нет одного и/или другого, то часть баллов за соответствующее задание без колебаний снимается.\n",
        "- Брать код из открытых источников позволительно. Следование культуре цитирования **обязательно.**\n",
        "\n",
        "### **Баллы:**\n",
        "\n",
        "Суммарно за задание можно получить 10 основных и 1 бонусный балл.\n",
        "\n",
        "Оценка за ДЗ = min{ваш балл, 10}\n",
        "\n",
        "**Мягкий дедлайн: 16 февраля 23:59**\n",
        "\n",
        "**Интересной вам работы!**\n"
      ]
    },
    {
      "cell_type": "markdown",
      "source": [
        "# **Часть 1. Прогнозирование заработной платы при помощи бустинга**\n",
        "\n",
        "**Количество баллов:** 7"
      ],
      "metadata": {
        "id": "60JI9WQfyu5e"
      },
      "id": "60JI9WQfyu5e"
    },
    {
      "cell_type": "markdown",
      "id": "1651e8dd",
      "metadata": {
        "id": "1651e8dd"
      },
      "source": [
        "## **Постановка задачи:**\n",
        "\n",
        "Данные выгружены и лежат в файле `ds_salary.csv`. Вам доступны описания признаков и значения целевой переменной.\n",
        "\n",
        "**Ваша задача:** построение модели бустинга и оценка данной модели.\n",
        "\n",
        "## **Описание даных**\n",
        "\n",
        "- work_year: год, в который взяты данные;\n",
        "- experience_level: уровень опыта, кодируемый как SE, MI EN или EX\n",
        "- employment_type: тип занятости (FT, PT, CT, FL)\n",
        "- job_title: название рабочей позиции в компании;\n",
        "- salary: зараплата на позиции;\n",
        "- salary_currency: валюта в которой начисляют зарплату;\n",
        "- employee_residence: страна или регион проживания сотрудника\n",
        "- remote_ratio: процент удаленки, предлагаемый в компании (0, 50, 100)\n",
        "- company_location: местоположение компании\n",
        "- company_size: размер компании, оцененный как S, M, L\n",
        "- salary_in_usd: целевая переменная\n"
      ]
    },
    {
      "cell_type": "markdown",
      "source": [
        "Как всегда, загрузим набор данных."
      ],
      "metadata": {
        "id": "NualIozb1bhS"
      },
      "id": "NualIozb1bhS"
    },
    {
      "cell_type": "code",
      "execution_count": 1,
      "id": "dbf7595c",
      "metadata": {
        "id": "dbf7595c"
      },
      "outputs": [],
      "source": [
        "import pandas as pd\n",
        "import numpy as np\n",
        "import seaborn as sns\n",
        "import matplotlib.pyplot as plt\n",
        "import scipy.stats as stats"
      ]
    },
    {
      "cell_type": "code",
      "execution_count": 2,
      "id": "792d14c9",
      "metadata": {
        "id": "792d14c9"
      },
      "outputs": [],
      "source": [
        "df = pd.read_csv(\"https://github.com/hse-ds/iad-intro-ds/raw/refs/heads/master/2023/homeworks/hw-08-boosting/ds_salaries.csv\")"
      ]
    },
    {
      "cell_type": "markdown",
      "source": [
        "## **Задание 1 (0.3 балла)**\n",
        "\n",
        "Вам даны описания переменных. Проверьте, что категориальные признаки, категории которых перечислены, не имеют ошибочных значений. Для этого:\n",
        "\n",
        "- Напишите цикл, пробегающий по выбранным признакам и оценивающий, что в них нет лишних значений;"
      ],
      "metadata": {
        "id": "FfyDFPh62ow_"
      },
      "id": "FfyDFPh62ow_"
    },
    {
      "cell_type": "code",
      "source": [
        "cat_features_values = {'experience_level': ['SE', 'MI', 'EN', 'EX'],\n",
        "                'employment_type': ['FT', 'PT', 'CT', 'FL'],\n",
        "                'remote_ratio': [0, 50, 100],\n",
        "                'company_size': ['S', 'M', 'L']}\n",
        "\n",
        "def check_values(df, values):\n",
        "  for k, v in values.items():\n",
        "    if not df[k].isin(v).all():\n",
        "      print('В столбце {} есть недопустимые значения'.format(k))\n",
        "    else:\n",
        "      print('В столбце {} все значения допустимые'.format(k))\n",
        "\n",
        "check_values(df, cat_features_values)"
      ],
      "metadata": {
        "id": "7In340ig3Bir",
        "colab": {
          "base_uri": "https://localhost:8080/"
        },
        "outputId": "9ff088a1-8d9a-439b-ae97-9ac201e72f56"
      },
      "id": "7In340ig3Bir",
      "execution_count": 3,
      "outputs": [
        {
          "output_type": "stream",
          "name": "stdout",
          "text": [
            "В столбце experience_level все значения допустимые\n",
            "В столбце employment_type все значения допустимые\n",
            "В столбце remote_ratio все значения допустимые\n",
            "В столбце company_size все значения допустимые\n"
          ]
        }
      ]
    },
    {
      "cell_type": "markdown",
      "id": "6696e77a",
      "metadata": {
        "id": "6696e77a"
      },
      "source": [
        "## **Задание 2 (0.3 балла)**\n",
        "\n",
        "Проведите базовые шаги оценки качества данных.\n",
        "- Есть есть проблемы, устраните их;\n",
        "- Если нет проблем, кратко опишите это."
      ]
    },
    {
      "cell_type": "code",
      "source": [
        "df.dtypes"
      ],
      "metadata": {
        "colab": {
          "base_uri": "https://localhost:8080/",
          "height": 424
        },
        "id": "npxWWkCkvgFn",
        "outputId": "3d63c087-f7c4-4e50-8970-195906d5bbae"
      },
      "id": "npxWWkCkvgFn",
      "execution_count": 4,
      "outputs": [
        {
          "output_type": "execute_result",
          "data": {
            "text/plain": [
              "work_year              int64\n",
              "experience_level      object\n",
              "employment_type       object\n",
              "job_title             object\n",
              "salary                 int64\n",
              "salary_currency       object\n",
              "salary_in_usd          int64\n",
              "employee_residence    object\n",
              "remote_ratio           int64\n",
              "company_location      object\n",
              "company_size          object\n",
              "dtype: object"
            ],
            "text/html": [
              "<div>\n",
              "<style scoped>\n",
              "    .dataframe tbody tr th:only-of-type {\n",
              "        vertical-align: middle;\n",
              "    }\n",
              "\n",
              "    .dataframe tbody tr th {\n",
              "        vertical-align: top;\n",
              "    }\n",
              "\n",
              "    .dataframe thead th {\n",
              "        text-align: right;\n",
              "    }\n",
              "</style>\n",
              "<table border=\"1\" class=\"dataframe\">\n",
              "  <thead>\n",
              "    <tr style=\"text-align: right;\">\n",
              "      <th></th>\n",
              "      <th>0</th>\n",
              "    </tr>\n",
              "  </thead>\n",
              "  <tbody>\n",
              "    <tr>\n",
              "      <th>work_year</th>\n",
              "      <td>int64</td>\n",
              "    </tr>\n",
              "    <tr>\n",
              "      <th>experience_level</th>\n",
              "      <td>object</td>\n",
              "    </tr>\n",
              "    <tr>\n",
              "      <th>employment_type</th>\n",
              "      <td>object</td>\n",
              "    </tr>\n",
              "    <tr>\n",
              "      <th>job_title</th>\n",
              "      <td>object</td>\n",
              "    </tr>\n",
              "    <tr>\n",
              "      <th>salary</th>\n",
              "      <td>int64</td>\n",
              "    </tr>\n",
              "    <tr>\n",
              "      <th>salary_currency</th>\n",
              "      <td>object</td>\n",
              "    </tr>\n",
              "    <tr>\n",
              "      <th>salary_in_usd</th>\n",
              "      <td>int64</td>\n",
              "    </tr>\n",
              "    <tr>\n",
              "      <th>employee_residence</th>\n",
              "      <td>object</td>\n",
              "    </tr>\n",
              "    <tr>\n",
              "      <th>remote_ratio</th>\n",
              "      <td>int64</td>\n",
              "    </tr>\n",
              "    <tr>\n",
              "      <th>company_location</th>\n",
              "      <td>object</td>\n",
              "    </tr>\n",
              "    <tr>\n",
              "      <th>company_size</th>\n",
              "      <td>object</td>\n",
              "    </tr>\n",
              "  </tbody>\n",
              "</table>\n",
              "</div><br><label><b>dtype:</b> object</label>"
            ]
          },
          "metadata": {},
          "execution_count": 4
        }
      ]
    },
    {
      "cell_type": "markdown",
      "source": [
        "Типы данные корректны, соответствуют сути показателей."
      ],
      "metadata": {
        "id": "LO1euGKAvke9"
      },
      "id": "LO1euGKAvke9"
    },
    {
      "cell_type": "code",
      "source": [
        "df.describe()"
      ],
      "metadata": {
        "colab": {
          "base_uri": "https://localhost:8080/",
          "height": 297
        },
        "id": "f2KUJfvlr1YR",
        "outputId": "fe6d8dfb-a738-4962-cb2f-aa12274cf5b9"
      },
      "id": "f2KUJfvlr1YR",
      "execution_count": 5,
      "outputs": [
        {
          "output_type": "execute_result",
          "data": {
            "text/plain": [
              "         work_year        salary  salary_in_usd  remote_ratio\n",
              "count  3755.000000  3.755000e+03    3755.000000   3755.000000\n",
              "mean   2022.373635  1.906956e+05  137570.389880     46.271638\n",
              "std       0.691448  6.716765e+05   63055.625278     48.589050\n",
              "min    2020.000000  6.000000e+03    5132.000000      0.000000\n",
              "25%    2022.000000  1.000000e+05   95000.000000      0.000000\n",
              "50%    2022.000000  1.380000e+05  135000.000000      0.000000\n",
              "75%    2023.000000  1.800000e+05  175000.000000    100.000000\n",
              "max    2023.000000  3.040000e+07  450000.000000    100.000000"
            ],
            "text/html": [
              "\n",
              "  <div id=\"df-18b97d6a-2fee-4057-b4cd-0258853560d4\" class=\"colab-df-container\">\n",
              "    <div>\n",
              "<style scoped>\n",
              "    .dataframe tbody tr th:only-of-type {\n",
              "        vertical-align: middle;\n",
              "    }\n",
              "\n",
              "    .dataframe tbody tr th {\n",
              "        vertical-align: top;\n",
              "    }\n",
              "\n",
              "    .dataframe thead th {\n",
              "        text-align: right;\n",
              "    }\n",
              "</style>\n",
              "<table border=\"1\" class=\"dataframe\">\n",
              "  <thead>\n",
              "    <tr style=\"text-align: right;\">\n",
              "      <th></th>\n",
              "      <th>work_year</th>\n",
              "      <th>salary</th>\n",
              "      <th>salary_in_usd</th>\n",
              "      <th>remote_ratio</th>\n",
              "    </tr>\n",
              "  </thead>\n",
              "  <tbody>\n",
              "    <tr>\n",
              "      <th>count</th>\n",
              "      <td>3755.000000</td>\n",
              "      <td>3.755000e+03</td>\n",
              "      <td>3755.000000</td>\n",
              "      <td>3755.000000</td>\n",
              "    </tr>\n",
              "    <tr>\n",
              "      <th>mean</th>\n",
              "      <td>2022.373635</td>\n",
              "      <td>1.906956e+05</td>\n",
              "      <td>137570.389880</td>\n",
              "      <td>46.271638</td>\n",
              "    </tr>\n",
              "    <tr>\n",
              "      <th>std</th>\n",
              "      <td>0.691448</td>\n",
              "      <td>6.716765e+05</td>\n",
              "      <td>63055.625278</td>\n",
              "      <td>48.589050</td>\n",
              "    </tr>\n",
              "    <tr>\n",
              "      <th>min</th>\n",
              "      <td>2020.000000</td>\n",
              "      <td>6.000000e+03</td>\n",
              "      <td>5132.000000</td>\n",
              "      <td>0.000000</td>\n",
              "    </tr>\n",
              "    <tr>\n",
              "      <th>25%</th>\n",
              "      <td>2022.000000</td>\n",
              "      <td>1.000000e+05</td>\n",
              "      <td>95000.000000</td>\n",
              "      <td>0.000000</td>\n",
              "    </tr>\n",
              "    <tr>\n",
              "      <th>50%</th>\n",
              "      <td>2022.000000</td>\n",
              "      <td>1.380000e+05</td>\n",
              "      <td>135000.000000</td>\n",
              "      <td>0.000000</td>\n",
              "    </tr>\n",
              "    <tr>\n",
              "      <th>75%</th>\n",
              "      <td>2023.000000</td>\n",
              "      <td>1.800000e+05</td>\n",
              "      <td>175000.000000</td>\n",
              "      <td>100.000000</td>\n",
              "    </tr>\n",
              "    <tr>\n",
              "      <th>max</th>\n",
              "      <td>2023.000000</td>\n",
              "      <td>3.040000e+07</td>\n",
              "      <td>450000.000000</td>\n",
              "      <td>100.000000</td>\n",
              "    </tr>\n",
              "  </tbody>\n",
              "</table>\n",
              "</div>\n",
              "    <div class=\"colab-df-buttons\">\n",
              "\n",
              "  <div class=\"colab-df-container\">\n",
              "    <button class=\"colab-df-convert\" onclick=\"convertToInteractive('df-18b97d6a-2fee-4057-b4cd-0258853560d4')\"\n",
              "            title=\"Convert this dataframe to an interactive table.\"\n",
              "            style=\"display:none;\">\n",
              "\n",
              "  <svg xmlns=\"http://www.w3.org/2000/svg\" height=\"24px\" viewBox=\"0 -960 960 960\">\n",
              "    <path d=\"M120-120v-720h720v720H120Zm60-500h600v-160H180v160Zm220 220h160v-160H400v160Zm0 220h160v-160H400v160ZM180-400h160v-160H180v160Zm440 0h160v-160H620v160ZM180-180h160v-160H180v160Zm440 0h160v-160H620v160Z\"/>\n",
              "  </svg>\n",
              "    </button>\n",
              "\n",
              "  <style>\n",
              "    .colab-df-container {\n",
              "      display:flex;\n",
              "      gap: 12px;\n",
              "    }\n",
              "\n",
              "    .colab-df-convert {\n",
              "      background-color: #E8F0FE;\n",
              "      border: none;\n",
              "      border-radius: 50%;\n",
              "      cursor: pointer;\n",
              "      display: none;\n",
              "      fill: #1967D2;\n",
              "      height: 32px;\n",
              "      padding: 0 0 0 0;\n",
              "      width: 32px;\n",
              "    }\n",
              "\n",
              "    .colab-df-convert:hover {\n",
              "      background-color: #E2EBFA;\n",
              "      box-shadow: 0px 1px 2px rgba(60, 64, 67, 0.3), 0px 1px 3px 1px rgba(60, 64, 67, 0.15);\n",
              "      fill: #174EA6;\n",
              "    }\n",
              "\n",
              "    .colab-df-buttons div {\n",
              "      margin-bottom: 4px;\n",
              "    }\n",
              "\n",
              "    [theme=dark] .colab-df-convert {\n",
              "      background-color: #3B4455;\n",
              "      fill: #D2E3FC;\n",
              "    }\n",
              "\n",
              "    [theme=dark] .colab-df-convert:hover {\n",
              "      background-color: #434B5C;\n",
              "      box-shadow: 0px 1px 3px 1px rgba(0, 0, 0, 0.15);\n",
              "      filter: drop-shadow(0px 1px 2px rgba(0, 0, 0, 0.3));\n",
              "      fill: #FFFFFF;\n",
              "    }\n",
              "  </style>\n",
              "\n",
              "    <script>\n",
              "      const buttonEl =\n",
              "        document.querySelector('#df-18b97d6a-2fee-4057-b4cd-0258853560d4 button.colab-df-convert');\n",
              "      buttonEl.style.display =\n",
              "        google.colab.kernel.accessAllowed ? 'block' : 'none';\n",
              "\n",
              "      async function convertToInteractive(key) {\n",
              "        const element = document.querySelector('#df-18b97d6a-2fee-4057-b4cd-0258853560d4');\n",
              "        const dataTable =\n",
              "          await google.colab.kernel.invokeFunction('convertToInteractive',\n",
              "                                                    [key], {});\n",
              "        if (!dataTable) return;\n",
              "\n",
              "        const docLinkHtml = 'Like what you see? Visit the ' +\n",
              "          '<a target=\"_blank\" href=https://colab.research.google.com/notebooks/data_table.ipynb>data table notebook</a>'\n",
              "          + ' to learn more about interactive tables.';\n",
              "        element.innerHTML = '';\n",
              "        dataTable['output_type'] = 'display_data';\n",
              "        await google.colab.output.renderOutput(dataTable, element);\n",
              "        const docLink = document.createElement('div');\n",
              "        docLink.innerHTML = docLinkHtml;\n",
              "        element.appendChild(docLink);\n",
              "      }\n",
              "    </script>\n",
              "  </div>\n",
              "\n",
              "\n",
              "<div id=\"df-216815ee-6c08-431c-a96f-9e6c499b055b\">\n",
              "  <button class=\"colab-df-quickchart\" onclick=\"quickchart('df-216815ee-6c08-431c-a96f-9e6c499b055b')\"\n",
              "            title=\"Suggest charts\"\n",
              "            style=\"display:none;\">\n",
              "\n",
              "<svg xmlns=\"http://www.w3.org/2000/svg\" height=\"24px\"viewBox=\"0 0 24 24\"\n",
              "     width=\"24px\">\n",
              "    <g>\n",
              "        <path d=\"M19 3H5c-1.1 0-2 .9-2 2v14c0 1.1.9 2 2 2h14c1.1 0 2-.9 2-2V5c0-1.1-.9-2-2-2zM9 17H7v-7h2v7zm4 0h-2V7h2v10zm4 0h-2v-4h2v4z\"/>\n",
              "    </g>\n",
              "</svg>\n",
              "  </button>\n",
              "\n",
              "<style>\n",
              "  .colab-df-quickchart {\n",
              "      --bg-color: #E8F0FE;\n",
              "      --fill-color: #1967D2;\n",
              "      --hover-bg-color: #E2EBFA;\n",
              "      --hover-fill-color: #174EA6;\n",
              "      --disabled-fill-color: #AAA;\n",
              "      --disabled-bg-color: #DDD;\n",
              "  }\n",
              "\n",
              "  [theme=dark] .colab-df-quickchart {\n",
              "      --bg-color: #3B4455;\n",
              "      --fill-color: #D2E3FC;\n",
              "      --hover-bg-color: #434B5C;\n",
              "      --hover-fill-color: #FFFFFF;\n",
              "      --disabled-bg-color: #3B4455;\n",
              "      --disabled-fill-color: #666;\n",
              "  }\n",
              "\n",
              "  .colab-df-quickchart {\n",
              "    background-color: var(--bg-color);\n",
              "    border: none;\n",
              "    border-radius: 50%;\n",
              "    cursor: pointer;\n",
              "    display: none;\n",
              "    fill: var(--fill-color);\n",
              "    height: 32px;\n",
              "    padding: 0;\n",
              "    width: 32px;\n",
              "  }\n",
              "\n",
              "  .colab-df-quickchart:hover {\n",
              "    background-color: var(--hover-bg-color);\n",
              "    box-shadow: 0 1px 2px rgba(60, 64, 67, 0.3), 0 1px 3px 1px rgba(60, 64, 67, 0.15);\n",
              "    fill: var(--button-hover-fill-color);\n",
              "  }\n",
              "\n",
              "  .colab-df-quickchart-complete:disabled,\n",
              "  .colab-df-quickchart-complete:disabled:hover {\n",
              "    background-color: var(--disabled-bg-color);\n",
              "    fill: var(--disabled-fill-color);\n",
              "    box-shadow: none;\n",
              "  }\n",
              "\n",
              "  .colab-df-spinner {\n",
              "    border: 2px solid var(--fill-color);\n",
              "    border-color: transparent;\n",
              "    border-bottom-color: var(--fill-color);\n",
              "    animation:\n",
              "      spin 1s steps(1) infinite;\n",
              "  }\n",
              "\n",
              "  @keyframes spin {\n",
              "    0% {\n",
              "      border-color: transparent;\n",
              "      border-bottom-color: var(--fill-color);\n",
              "      border-left-color: var(--fill-color);\n",
              "    }\n",
              "    20% {\n",
              "      border-color: transparent;\n",
              "      border-left-color: var(--fill-color);\n",
              "      border-top-color: var(--fill-color);\n",
              "    }\n",
              "    30% {\n",
              "      border-color: transparent;\n",
              "      border-left-color: var(--fill-color);\n",
              "      border-top-color: var(--fill-color);\n",
              "      border-right-color: var(--fill-color);\n",
              "    }\n",
              "    40% {\n",
              "      border-color: transparent;\n",
              "      border-right-color: var(--fill-color);\n",
              "      border-top-color: var(--fill-color);\n",
              "    }\n",
              "    60% {\n",
              "      border-color: transparent;\n",
              "      border-right-color: var(--fill-color);\n",
              "    }\n",
              "    80% {\n",
              "      border-color: transparent;\n",
              "      border-right-color: var(--fill-color);\n",
              "      border-bottom-color: var(--fill-color);\n",
              "    }\n",
              "    90% {\n",
              "      border-color: transparent;\n",
              "      border-bottom-color: var(--fill-color);\n",
              "    }\n",
              "  }\n",
              "</style>\n",
              "\n",
              "  <script>\n",
              "    async function quickchart(key) {\n",
              "      const quickchartButtonEl =\n",
              "        document.querySelector('#' + key + ' button');\n",
              "      quickchartButtonEl.disabled = true;  // To prevent multiple clicks.\n",
              "      quickchartButtonEl.classList.add('colab-df-spinner');\n",
              "      try {\n",
              "        const charts = await google.colab.kernel.invokeFunction(\n",
              "            'suggestCharts', [key], {});\n",
              "      } catch (error) {\n",
              "        console.error('Error during call to suggestCharts:', error);\n",
              "      }\n",
              "      quickchartButtonEl.classList.remove('colab-df-spinner');\n",
              "      quickchartButtonEl.classList.add('colab-df-quickchart-complete');\n",
              "    }\n",
              "    (() => {\n",
              "      let quickchartButtonEl =\n",
              "        document.querySelector('#df-216815ee-6c08-431c-a96f-9e6c499b055b button');\n",
              "      quickchartButtonEl.style.display =\n",
              "        google.colab.kernel.accessAllowed ? 'block' : 'none';\n",
              "    })();\n",
              "  </script>\n",
              "</div>\n",
              "    </div>\n",
              "  </div>\n"
            ],
            "application/vnd.google.colaboratory.intrinsic+json": {
              "type": "dataframe",
              "summary": "{\n  \"name\": \"df\",\n  \"rows\": 8,\n  \"fields\": [\n    {\n      \"column\": \"work_year\",\n      \"properties\": {\n        \"dtype\": \"number\",\n        \"std\": 1005.6000402402909,\n        \"min\": 0.6914482342671734,\n        \"max\": 3755.0,\n        \"num_unique_values\": 6,\n        \"samples\": [\n          3755.0,\n          2022.3736351531293,\n          2023.0\n        ],\n        \"semantic_type\": \"\",\n        \"description\": \"\"\n      }\n    },\n    {\n      \"column\": \"salary\",\n      \"properties\": {\n        \"dtype\": \"number\",\n        \"std\": 10684942.602896208,\n        \"min\": 3755.0,\n        \"max\": 30400000.0,\n        \"num_unique_values\": 8,\n        \"samples\": [\n          190695.57177097205,\n          138000.0,\n          3755.0\n        ],\n        \"semantic_type\": \"\",\n        \"description\": \"\"\n      }\n    },\n    {\n      \"column\": \"salary_in_usd\",\n      \"properties\": {\n        \"dtype\": \"number\",\n        \"std\": 142261.61341988808,\n        \"min\": 3755.0,\n        \"max\": 450000.0,\n        \"num_unique_values\": 8,\n        \"samples\": [\n          137570.38988015978,\n          135000.0,\n          3755.0\n        ],\n        \"semantic_type\": \"\",\n        \"description\": \"\"\n      }\n    },\n    {\n      \"column\": \"remote_ratio\",\n      \"properties\": {\n        \"dtype\": \"number\",\n        \"std\": 1313.3575027917375,\n        \"min\": 0.0,\n        \"max\": 3755.0,\n        \"num_unique_values\": 5,\n        \"samples\": [\n          46.271637816245004,\n          100.0,\n          48.58905047058756\n        ],\n        \"semantic_type\": \"\",\n        \"description\": \"\"\n      }\n    }\n  ]\n}"
            }
          },
          "metadata": {},
          "execution_count": 5
        }
      ]
    },
    {
      "cell_type": "code",
      "source": [
        "df.describe(include='object')"
      ],
      "metadata": {
        "colab": {
          "base_uri": "https://localhost:8080/",
          "height": 173
        },
        "id": "M2aTPfver7SW",
        "outputId": "1c46066a-0206-4984-df42-1b9122aa349a"
      },
      "id": "M2aTPfver7SW",
      "execution_count": 6,
      "outputs": [
        {
          "output_type": "execute_result",
          "data": {
            "text/plain": [
              "       experience_level employment_type      job_title salary_currency  \\\n",
              "count              3755            3755           3755            3755   \n",
              "unique                4               4             93              20   \n",
              "top                  SE              FT  Data Engineer             USD   \n",
              "freq               2516            3718           1040            3224   \n",
              "\n",
              "       employee_residence company_location company_size  \n",
              "count                3755             3755         3755  \n",
              "unique                 78               72            3  \n",
              "top                    US               US            M  \n",
              "freq                 3004             3040         3153  "
            ],
            "text/html": [
              "\n",
              "  <div id=\"df-157af00c-3d19-4452-aff0-59dbfb330169\" class=\"colab-df-container\">\n",
              "    <div>\n",
              "<style scoped>\n",
              "    .dataframe tbody tr th:only-of-type {\n",
              "        vertical-align: middle;\n",
              "    }\n",
              "\n",
              "    .dataframe tbody tr th {\n",
              "        vertical-align: top;\n",
              "    }\n",
              "\n",
              "    .dataframe thead th {\n",
              "        text-align: right;\n",
              "    }\n",
              "</style>\n",
              "<table border=\"1\" class=\"dataframe\">\n",
              "  <thead>\n",
              "    <tr style=\"text-align: right;\">\n",
              "      <th></th>\n",
              "      <th>experience_level</th>\n",
              "      <th>employment_type</th>\n",
              "      <th>job_title</th>\n",
              "      <th>salary_currency</th>\n",
              "      <th>employee_residence</th>\n",
              "      <th>company_location</th>\n",
              "      <th>company_size</th>\n",
              "    </tr>\n",
              "  </thead>\n",
              "  <tbody>\n",
              "    <tr>\n",
              "      <th>count</th>\n",
              "      <td>3755</td>\n",
              "      <td>3755</td>\n",
              "      <td>3755</td>\n",
              "      <td>3755</td>\n",
              "      <td>3755</td>\n",
              "      <td>3755</td>\n",
              "      <td>3755</td>\n",
              "    </tr>\n",
              "    <tr>\n",
              "      <th>unique</th>\n",
              "      <td>4</td>\n",
              "      <td>4</td>\n",
              "      <td>93</td>\n",
              "      <td>20</td>\n",
              "      <td>78</td>\n",
              "      <td>72</td>\n",
              "      <td>3</td>\n",
              "    </tr>\n",
              "    <tr>\n",
              "      <th>top</th>\n",
              "      <td>SE</td>\n",
              "      <td>FT</td>\n",
              "      <td>Data Engineer</td>\n",
              "      <td>USD</td>\n",
              "      <td>US</td>\n",
              "      <td>US</td>\n",
              "      <td>M</td>\n",
              "    </tr>\n",
              "    <tr>\n",
              "      <th>freq</th>\n",
              "      <td>2516</td>\n",
              "      <td>3718</td>\n",
              "      <td>1040</td>\n",
              "      <td>3224</td>\n",
              "      <td>3004</td>\n",
              "      <td>3040</td>\n",
              "      <td>3153</td>\n",
              "    </tr>\n",
              "  </tbody>\n",
              "</table>\n",
              "</div>\n",
              "    <div class=\"colab-df-buttons\">\n",
              "\n",
              "  <div class=\"colab-df-container\">\n",
              "    <button class=\"colab-df-convert\" onclick=\"convertToInteractive('df-157af00c-3d19-4452-aff0-59dbfb330169')\"\n",
              "            title=\"Convert this dataframe to an interactive table.\"\n",
              "            style=\"display:none;\">\n",
              "\n",
              "  <svg xmlns=\"http://www.w3.org/2000/svg\" height=\"24px\" viewBox=\"0 -960 960 960\">\n",
              "    <path d=\"M120-120v-720h720v720H120Zm60-500h600v-160H180v160Zm220 220h160v-160H400v160Zm0 220h160v-160H400v160ZM180-400h160v-160H180v160Zm440 0h160v-160H620v160ZM180-180h160v-160H180v160Zm440 0h160v-160H620v160Z\"/>\n",
              "  </svg>\n",
              "    </button>\n",
              "\n",
              "  <style>\n",
              "    .colab-df-container {\n",
              "      display:flex;\n",
              "      gap: 12px;\n",
              "    }\n",
              "\n",
              "    .colab-df-convert {\n",
              "      background-color: #E8F0FE;\n",
              "      border: none;\n",
              "      border-radius: 50%;\n",
              "      cursor: pointer;\n",
              "      display: none;\n",
              "      fill: #1967D2;\n",
              "      height: 32px;\n",
              "      padding: 0 0 0 0;\n",
              "      width: 32px;\n",
              "    }\n",
              "\n",
              "    .colab-df-convert:hover {\n",
              "      background-color: #E2EBFA;\n",
              "      box-shadow: 0px 1px 2px rgba(60, 64, 67, 0.3), 0px 1px 3px 1px rgba(60, 64, 67, 0.15);\n",
              "      fill: #174EA6;\n",
              "    }\n",
              "\n",
              "    .colab-df-buttons div {\n",
              "      margin-bottom: 4px;\n",
              "    }\n",
              "\n",
              "    [theme=dark] .colab-df-convert {\n",
              "      background-color: #3B4455;\n",
              "      fill: #D2E3FC;\n",
              "    }\n",
              "\n",
              "    [theme=dark] .colab-df-convert:hover {\n",
              "      background-color: #434B5C;\n",
              "      box-shadow: 0px 1px 3px 1px rgba(0, 0, 0, 0.15);\n",
              "      filter: drop-shadow(0px 1px 2px rgba(0, 0, 0, 0.3));\n",
              "      fill: #FFFFFF;\n",
              "    }\n",
              "  </style>\n",
              "\n",
              "    <script>\n",
              "      const buttonEl =\n",
              "        document.querySelector('#df-157af00c-3d19-4452-aff0-59dbfb330169 button.colab-df-convert');\n",
              "      buttonEl.style.display =\n",
              "        google.colab.kernel.accessAllowed ? 'block' : 'none';\n",
              "\n",
              "      async function convertToInteractive(key) {\n",
              "        const element = document.querySelector('#df-157af00c-3d19-4452-aff0-59dbfb330169');\n",
              "        const dataTable =\n",
              "          await google.colab.kernel.invokeFunction('convertToInteractive',\n",
              "                                                    [key], {});\n",
              "        if (!dataTable) return;\n",
              "\n",
              "        const docLinkHtml = 'Like what you see? Visit the ' +\n",
              "          '<a target=\"_blank\" href=https://colab.research.google.com/notebooks/data_table.ipynb>data table notebook</a>'\n",
              "          + ' to learn more about interactive tables.';\n",
              "        element.innerHTML = '';\n",
              "        dataTable['output_type'] = 'display_data';\n",
              "        await google.colab.output.renderOutput(dataTable, element);\n",
              "        const docLink = document.createElement('div');\n",
              "        docLink.innerHTML = docLinkHtml;\n",
              "        element.appendChild(docLink);\n",
              "      }\n",
              "    </script>\n",
              "  </div>\n",
              "\n",
              "\n",
              "<div id=\"df-20b88254-9936-4b1a-b00d-53139046022b\">\n",
              "  <button class=\"colab-df-quickchart\" onclick=\"quickchart('df-20b88254-9936-4b1a-b00d-53139046022b')\"\n",
              "            title=\"Suggest charts\"\n",
              "            style=\"display:none;\">\n",
              "\n",
              "<svg xmlns=\"http://www.w3.org/2000/svg\" height=\"24px\"viewBox=\"0 0 24 24\"\n",
              "     width=\"24px\">\n",
              "    <g>\n",
              "        <path d=\"M19 3H5c-1.1 0-2 .9-2 2v14c0 1.1.9 2 2 2h14c1.1 0 2-.9 2-2V5c0-1.1-.9-2-2-2zM9 17H7v-7h2v7zm4 0h-2V7h2v10zm4 0h-2v-4h2v4z\"/>\n",
              "    </g>\n",
              "</svg>\n",
              "  </button>\n",
              "\n",
              "<style>\n",
              "  .colab-df-quickchart {\n",
              "      --bg-color: #E8F0FE;\n",
              "      --fill-color: #1967D2;\n",
              "      --hover-bg-color: #E2EBFA;\n",
              "      --hover-fill-color: #174EA6;\n",
              "      --disabled-fill-color: #AAA;\n",
              "      --disabled-bg-color: #DDD;\n",
              "  }\n",
              "\n",
              "  [theme=dark] .colab-df-quickchart {\n",
              "      --bg-color: #3B4455;\n",
              "      --fill-color: #D2E3FC;\n",
              "      --hover-bg-color: #434B5C;\n",
              "      --hover-fill-color: #FFFFFF;\n",
              "      --disabled-bg-color: #3B4455;\n",
              "      --disabled-fill-color: #666;\n",
              "  }\n",
              "\n",
              "  .colab-df-quickchart {\n",
              "    background-color: var(--bg-color);\n",
              "    border: none;\n",
              "    border-radius: 50%;\n",
              "    cursor: pointer;\n",
              "    display: none;\n",
              "    fill: var(--fill-color);\n",
              "    height: 32px;\n",
              "    padding: 0;\n",
              "    width: 32px;\n",
              "  }\n",
              "\n",
              "  .colab-df-quickchart:hover {\n",
              "    background-color: var(--hover-bg-color);\n",
              "    box-shadow: 0 1px 2px rgba(60, 64, 67, 0.3), 0 1px 3px 1px rgba(60, 64, 67, 0.15);\n",
              "    fill: var(--button-hover-fill-color);\n",
              "  }\n",
              "\n",
              "  .colab-df-quickchart-complete:disabled,\n",
              "  .colab-df-quickchart-complete:disabled:hover {\n",
              "    background-color: var(--disabled-bg-color);\n",
              "    fill: var(--disabled-fill-color);\n",
              "    box-shadow: none;\n",
              "  }\n",
              "\n",
              "  .colab-df-spinner {\n",
              "    border: 2px solid var(--fill-color);\n",
              "    border-color: transparent;\n",
              "    border-bottom-color: var(--fill-color);\n",
              "    animation:\n",
              "      spin 1s steps(1) infinite;\n",
              "  }\n",
              "\n",
              "  @keyframes spin {\n",
              "    0% {\n",
              "      border-color: transparent;\n",
              "      border-bottom-color: var(--fill-color);\n",
              "      border-left-color: var(--fill-color);\n",
              "    }\n",
              "    20% {\n",
              "      border-color: transparent;\n",
              "      border-left-color: var(--fill-color);\n",
              "      border-top-color: var(--fill-color);\n",
              "    }\n",
              "    30% {\n",
              "      border-color: transparent;\n",
              "      border-left-color: var(--fill-color);\n",
              "      border-top-color: var(--fill-color);\n",
              "      border-right-color: var(--fill-color);\n",
              "    }\n",
              "    40% {\n",
              "      border-color: transparent;\n",
              "      border-right-color: var(--fill-color);\n",
              "      border-top-color: var(--fill-color);\n",
              "    }\n",
              "    60% {\n",
              "      border-color: transparent;\n",
              "      border-right-color: var(--fill-color);\n",
              "    }\n",
              "    80% {\n",
              "      border-color: transparent;\n",
              "      border-right-color: var(--fill-color);\n",
              "      border-bottom-color: var(--fill-color);\n",
              "    }\n",
              "    90% {\n",
              "      border-color: transparent;\n",
              "      border-bottom-color: var(--fill-color);\n",
              "    }\n",
              "  }\n",
              "</style>\n",
              "\n",
              "  <script>\n",
              "    async function quickchart(key) {\n",
              "      const quickchartButtonEl =\n",
              "        document.querySelector('#' + key + ' button');\n",
              "      quickchartButtonEl.disabled = true;  // To prevent multiple clicks.\n",
              "      quickchartButtonEl.classList.add('colab-df-spinner');\n",
              "      try {\n",
              "        const charts = await google.colab.kernel.invokeFunction(\n",
              "            'suggestCharts', [key], {});\n",
              "      } catch (error) {\n",
              "        console.error('Error during call to suggestCharts:', error);\n",
              "      }\n",
              "      quickchartButtonEl.classList.remove('colab-df-spinner');\n",
              "      quickchartButtonEl.classList.add('colab-df-quickchart-complete');\n",
              "    }\n",
              "    (() => {\n",
              "      let quickchartButtonEl =\n",
              "        document.querySelector('#df-20b88254-9936-4b1a-b00d-53139046022b button');\n",
              "      quickchartButtonEl.style.display =\n",
              "        google.colab.kernel.accessAllowed ? 'block' : 'none';\n",
              "    })();\n",
              "  </script>\n",
              "</div>\n",
              "    </div>\n",
              "  </div>\n"
            ],
            "application/vnd.google.colaboratory.intrinsic+json": {
              "type": "dataframe",
              "summary": "{\n  \"name\": \"df\",\n  \"rows\": 4,\n  \"fields\": [\n    {\n      \"column\": \"experience_level\",\n      \"properties\": {\n        \"dtype\": \"string\",\n        \"num_unique_values\": 4,\n        \"samples\": [\n          4,\n          \"2516\",\n          \"3755\"\n        ],\n        \"semantic_type\": \"\",\n        \"description\": \"\"\n      }\n    },\n    {\n      \"column\": \"employment_type\",\n      \"properties\": {\n        \"dtype\": \"string\",\n        \"num_unique_values\": 4,\n        \"samples\": [\n          4,\n          \"3718\",\n          \"3755\"\n        ],\n        \"semantic_type\": \"\",\n        \"description\": \"\"\n      }\n    },\n    {\n      \"column\": \"job_title\",\n      \"properties\": {\n        \"dtype\": \"string\",\n        \"num_unique_values\": 4,\n        \"samples\": [\n          93,\n          \"1040\",\n          \"3755\"\n        ],\n        \"semantic_type\": \"\",\n        \"description\": \"\"\n      }\n    },\n    {\n      \"column\": \"salary_currency\",\n      \"properties\": {\n        \"dtype\": \"string\",\n        \"num_unique_values\": 4,\n        \"samples\": [\n          20,\n          \"3224\",\n          \"3755\"\n        ],\n        \"semantic_type\": \"\",\n        \"description\": \"\"\n      }\n    },\n    {\n      \"column\": \"employee_residence\",\n      \"properties\": {\n        \"dtype\": \"string\",\n        \"num_unique_values\": 4,\n        \"samples\": [\n          78,\n          \"3004\",\n          \"3755\"\n        ],\n        \"semantic_type\": \"\",\n        \"description\": \"\"\n      }\n    },\n    {\n      \"column\": \"company_location\",\n      \"properties\": {\n        \"dtype\": \"string\",\n        \"num_unique_values\": 4,\n        \"samples\": [\n          72,\n          \"3040\",\n          \"3755\"\n        ],\n        \"semantic_type\": \"\",\n        \"description\": \"\"\n      }\n    },\n    {\n      \"column\": \"company_size\",\n      \"properties\": {\n        \"dtype\": \"string\",\n        \"num_unique_values\": 4,\n        \"samples\": [\n          3,\n          \"3153\",\n          \"3755\"\n        ],\n        \"semantic_type\": \"\",\n        \"description\": \"\"\n      }\n    }\n  ]\n}"
            }
          },
          "metadata": {},
          "execution_count": 6
        }
      ]
    },
    {
      "cell_type": "code",
      "source": [
        "df.duplicated().sum()"
      ],
      "metadata": {
        "id": "tGEbLm0x4iax",
        "colab": {
          "base_uri": "https://localhost:8080/"
        },
        "outputId": "4203055e-7791-46f2-9b90-019bbf058493"
      },
      "id": "tGEbLm0x4iax",
      "execution_count": 7,
      "outputs": [
        {
          "output_type": "execute_result",
          "data": {
            "text/plain": [
              "1171"
            ]
          },
          "metadata": {},
          "execution_count": 7
        }
      ]
    },
    {
      "cell_type": "markdown",
      "source": [
        "В датасете имеется 1171 дубликат. Причинами появления дубликатов могут быть:\n",
        "1. Поиск сотрудников на схожую позицию в разные подразделения (например Python-девелопер может быть нужен и в операционный блок и в финансовый)\n",
        "2. В выборку попала одна и та же вакансия, но из разных источников.  \n",
        "\n",
        "Для дальнейшей работы удалим все дубликаты."
      ],
      "metadata": {
        "id": "0XAg1riVsJ3Y"
      },
      "id": "0XAg1riVsJ3Y"
    },
    {
      "cell_type": "code",
      "source": [
        "df.drop_duplicates(inplace=True)"
      ],
      "metadata": {
        "id": "kpth9PR5r6LA"
      },
      "id": "kpth9PR5r6LA",
      "execution_count": 8,
      "outputs": []
    },
    {
      "cell_type": "code",
      "source": [
        "df.isnull().sum()"
      ],
      "metadata": {
        "colab": {
          "base_uri": "https://localhost:8080/",
          "height": 424
        },
        "id": "eOwniTd2ubro",
        "outputId": "1548a8d9-24fb-44ae-aa79-192f415f2bd9"
      },
      "id": "eOwniTd2ubro",
      "execution_count": 9,
      "outputs": [
        {
          "output_type": "execute_result",
          "data": {
            "text/plain": [
              "work_year             0\n",
              "experience_level      0\n",
              "employment_type       0\n",
              "job_title             0\n",
              "salary                0\n",
              "salary_currency       0\n",
              "salary_in_usd         0\n",
              "employee_residence    0\n",
              "remote_ratio          0\n",
              "company_location      0\n",
              "company_size          0\n",
              "dtype: int64"
            ],
            "text/html": [
              "<div>\n",
              "<style scoped>\n",
              "    .dataframe tbody tr th:only-of-type {\n",
              "        vertical-align: middle;\n",
              "    }\n",
              "\n",
              "    .dataframe tbody tr th {\n",
              "        vertical-align: top;\n",
              "    }\n",
              "\n",
              "    .dataframe thead th {\n",
              "        text-align: right;\n",
              "    }\n",
              "</style>\n",
              "<table border=\"1\" class=\"dataframe\">\n",
              "  <thead>\n",
              "    <tr style=\"text-align: right;\">\n",
              "      <th></th>\n",
              "      <th>0</th>\n",
              "    </tr>\n",
              "  </thead>\n",
              "  <tbody>\n",
              "    <tr>\n",
              "      <th>work_year</th>\n",
              "      <td>0</td>\n",
              "    </tr>\n",
              "    <tr>\n",
              "      <th>experience_level</th>\n",
              "      <td>0</td>\n",
              "    </tr>\n",
              "    <tr>\n",
              "      <th>employment_type</th>\n",
              "      <td>0</td>\n",
              "    </tr>\n",
              "    <tr>\n",
              "      <th>job_title</th>\n",
              "      <td>0</td>\n",
              "    </tr>\n",
              "    <tr>\n",
              "      <th>salary</th>\n",
              "      <td>0</td>\n",
              "    </tr>\n",
              "    <tr>\n",
              "      <th>salary_currency</th>\n",
              "      <td>0</td>\n",
              "    </tr>\n",
              "    <tr>\n",
              "      <th>salary_in_usd</th>\n",
              "      <td>0</td>\n",
              "    </tr>\n",
              "    <tr>\n",
              "      <th>employee_residence</th>\n",
              "      <td>0</td>\n",
              "    </tr>\n",
              "    <tr>\n",
              "      <th>remote_ratio</th>\n",
              "      <td>0</td>\n",
              "    </tr>\n",
              "    <tr>\n",
              "      <th>company_location</th>\n",
              "      <td>0</td>\n",
              "    </tr>\n",
              "    <tr>\n",
              "      <th>company_size</th>\n",
              "      <td>0</td>\n",
              "    </tr>\n",
              "  </tbody>\n",
              "</table>\n",
              "</div><br><label><b>dtype:</b> int64</label>"
            ]
          },
          "metadata": {},
          "execution_count": 9
        }
      ]
    },
    {
      "cell_type": "markdown",
      "source": [
        "Пропуски в данных отсутствуют."
      ],
      "metadata": {
        "id": "WzAhgGaAugf9"
      },
      "id": "WzAhgGaAugf9"
    },
    {
      "cell_type": "markdown",
      "source": [
        "Проанализируем распределения и оценим наличие выбросов."
      ],
      "metadata": {
        "id": "cQHhB6e1vMDy"
      },
      "id": "cQHhB6e1vMDy"
    },
    {
      "cell_type": "code",
      "source": [
        "sns.pairplot(df)"
      ],
      "metadata": {
        "colab": {
          "base_uri": "https://localhost:8080/",
          "height": 1000
        },
        "id": "5hI0OpxqukuV",
        "outputId": "0524fef6-0df0-4328-d9a5-3d28bc1c4ce2"
      },
      "id": "5hI0OpxqukuV",
      "execution_count": 10,
      "outputs": [
        {
          "output_type": "execute_result",
          "data": {
            "text/plain": [
              "<seaborn.axisgrid.PairGrid at 0x7d88b9226cd0>"
            ]
          },
          "metadata": {},
          "execution_count": 10
        },
        {
          "output_type": "display_data",
          "data": {
            "text/plain": [
              "<Figure size 1000x1000 with 20 Axes>"
            ],
            "image/png": "[encoded data removed]"
          },
          "metadata": {}
        }
      ]
    },
    {
      "cell_type": "code",
      "source": [
        "numeric_cols = ['salary', 'salary_in_usd']\n",
        "\n",
        "for column in numeric_cols:\n",
        "    sns.boxplot(data=df[column])\n",
        "    plt.title(f'Boxplot for {column}')\n",
        "    plt.ylabel('Values')\n",
        "    plt.grid()\n",
        "    plt.show()"
      ],
      "metadata": {
        "colab": {
          "base_uri": "https://localhost:8080/",
          "height": 849
        },
        "id": "3LC9NJ3_vEsc",
        "outputId": "1715d413-b3ec-4253-82c0-5d32514a7c0e"
      },
      "id": "3LC9NJ3_vEsc",
      "execution_count": 11,
      "outputs": [
        {
          "output_type": "display_data",
          "data": {
            "text/plain": [
              "<Figure size 640x480 with 1 Axes>"
            ],
            "image/png": "[encoded data removed]"
          },
          "metadata": {}
        },
        {
          "output_type": "display_data",
          "data": {
            "text/plain": [
              "<Figure size 640x480 with 1 Axes>"
            ],
            "image/png": "[encoded data removed]"
          },
          "metadata": {}
        }
      ]
    },
    {
      "cell_type": "code",
      "source": [
        "df.salary_currency.value_counts().head(10)"
      ],
      "metadata": {
        "colab": {
          "base_uri": "https://localhost:8080/",
          "height": 424
        },
        "id": "WZLo8xOl3k4Z",
        "outputId": "a6bb26cb-f19d-4875-f093-22ebf11c2cf1"
      },
      "id": "WZLo8xOl3k4Z",
      "execution_count": 12,
      "outputs": [
        {
          "output_type": "execute_result",
          "data": {
            "text/plain": [
              "salary_currency\n",
              "USD    2107\n",
              "EUR     200\n",
              "GBP     144\n",
              "INR      59\n",
              "CAD      25\n",
              "AUD       9\n",
              "SGD       6\n",
              "BRL       6\n",
              "PLN       5\n",
              "CHF       4\n",
              "Name: count, dtype: int64"
            ],
            "text/html": [
              "<div>\n",
              "<style scoped>\n",
              "    .dataframe tbody tr th:only-of-type {\n",
              "        vertical-align: middle;\n",
              "    }\n",
              "\n",
              "    .dataframe tbody tr th {\n",
              "        vertical-align: top;\n",
              "    }\n",
              "\n",
              "    .dataframe thead th {\n",
              "        text-align: right;\n",
              "    }\n",
              "</style>\n",
              "<table border=\"1\" class=\"dataframe\">\n",
              "  <thead>\n",
              "    <tr style=\"text-align: right;\">\n",
              "      <th></th>\n",
              "      <th>count</th>\n",
              "    </tr>\n",
              "    <tr>\n",
              "      <th>salary_currency</th>\n",
              "      <th></th>\n",
              "    </tr>\n",
              "  </thead>\n",
              "  <tbody>\n",
              "    <tr>\n",
              "      <th>USD</th>\n",
              "      <td>2107</td>\n",
              "    </tr>\n",
              "    <tr>\n",
              "      <th>EUR</th>\n",
              "      <td>200</td>\n",
              "    </tr>\n",
              "    <tr>\n",
              "      <th>GBP</th>\n",
              "      <td>144</td>\n",
              "    </tr>\n",
              "    <tr>\n",
              "      <th>INR</th>\n",
              "      <td>59</td>\n",
              "    </tr>\n",
              "    <tr>\n",
              "      <th>CAD</th>\n",
              "      <td>25</td>\n",
              "    </tr>\n",
              "    <tr>\n",
              "      <th>AUD</th>\n",
              "      <td>9</td>\n",
              "    </tr>\n",
              "    <tr>\n",
              "      <th>SGD</th>\n",
              "      <td>6</td>\n",
              "    </tr>\n",
              "    <tr>\n",
              "      <th>BRL</th>\n",
              "      <td>6</td>\n",
              "    </tr>\n",
              "    <tr>\n",
              "      <th>PLN</th>\n",
              "      <td>5</td>\n",
              "    </tr>\n",
              "    <tr>\n",
              "      <th>CHF</th>\n",
              "      <td>4</td>\n",
              "    </tr>\n",
              "  </tbody>\n",
              "</table>\n",
              "</div><br><label><b>dtype:</b> int64</label>"
            ]
          },
          "metadata": {},
          "execution_count": 12
        }
      ]
    },
    {
      "cell_type": "code",
      "source": [
        "plt.figure(figsize=(20, 40))\n",
        "\n",
        "cat_cols = df.select_dtypes(include='object').drop('job_title', axis=1).columns\n",
        "\n",
        "for i, column in enumerate(cat_cols):\n",
        "    plt.subplot(len(cat_cols), 1, i + 1)\n",
        "    sns.pointplot(data=df, x=column, y='salary_in_usd', hue=column, palette='viridis', markers='o', capsize=0.1, legend=False)\n",
        "    plt.title(f'{column}')\n",
        "    plt.ylabel('Salary in USD')\n",
        "    plt.xlabel(column)\n",
        "\n",
        "plt.tight_layout()\n",
        "plt.show()"
      ],
      "metadata": {
        "colab": {
          "base_uri": "https://localhost:8080/",
          "height": 1000
        },
        "id": "mnZKCdjB4OHP",
        "outputId": "a4b8b9ff-ffb4-483a-fe6b-54918ff37164"
      },
      "id": "mnZKCdjB4OHP",
      "execution_count": 13,
      "outputs": [
        {
          "output_type": "display_data",
          "data": {
            "text/plain": [
              "<Figure size 2000x4000 with 6 Axes>"
            ],
            "image/png": "[encoded data removed]"
          },
          "metadata": {}
        }
      ]
    },
    {
      "cell_type": "code",
      "source": [
        "df.groupby(['employee_residence'])[['salary_in_usd']].median().sort_values(by='salary_in_usd', ascending=False)"
      ],
      "metadata": {
        "colab": {
          "base_uri": "https://localhost:8080/",
          "height": 450
        },
        "id": "y6eWL1tJYBrX",
        "outputId": "c221797d-bfa2-41fb-9bf1-eee9cd3c604c"
      },
      "id": "y6eWL1tJYBrX",
      "execution_count": 14,
      "outputs": [
        {
          "output_type": "execute_result",
          "data": {
            "text/plain": [
              "                    salary_in_usd\n",
              "employee_residence               \n",
              "IL                       423834.0\n",
              "MY                       200000.0\n",
              "PR                       160000.0\n",
              "US                       147000.0\n",
              "CN                       125404.0\n",
              "...                           ...\n",
              "MD                        18000.0\n",
              "ID                        15000.0\n",
              "SK                        12608.0\n",
              "MA                        10000.0\n",
              "MK                         6304.0\n",
              "\n",
              "[78 rows x 1 columns]"
            ],
            "text/html": [
              "\n",
              "  <div id=\"df-a534ad6a-aec0-4c3b-ade3-644c3ce8a647\" class=\"colab-df-container\">\n",
              "    <div>\n",
              "<style scoped>\n",
              "    .dataframe tbody tr th:only-of-type {\n",
              "        vertical-align: middle;\n",
              "    }\n",
              "\n",
              "    .dataframe tbody tr th {\n",
              "        vertical-align: top;\n",
              "    }\n",
              "\n",
              "    .dataframe thead th {\n",
              "        text-align: right;\n",
              "    }\n",
              "</style>\n",
              "<table border=\"1\" class=\"dataframe\">\n",
              "  <thead>\n",
              "    <tr style=\"text-align: right;\">\n",
              "      <th></th>\n",
              "      <th>salary_in_usd</th>\n",
              "    </tr>\n",
              "    <tr>\n",
              "      <th>employee_residence</th>\n",
              "      <th></th>\n",
              "    </tr>\n",
              "  </thead>\n",
              "  <tbody>\n",
              "    <tr>\n",
              "      <th>IL</th>\n",
              "      <td>423834.0</td>\n",
              "    </tr>\n",
              "    <tr>\n",
              "      <th>MY</th>\n",
              "      <td>200000.0</td>\n",
              "    </tr>\n",
              "    <tr>\n",
              "      <th>PR</th>\n",
              "      <td>160000.0</td>\n",
              "    </tr>\n",
              "    <tr>\n",
              "      <th>US</th>\n",
              "      <td>147000.0</td>\n",
              "    </tr>\n",
              "    <tr>\n",
              "      <th>CN</th>\n",
              "      <td>125404.0</td>\n",
              "    </tr>\n",
              "    <tr>\n",
              "      <th>...</th>\n",
              "      <td>...</td>\n",
              "    </tr>\n",
              "    <tr>\n",
              "      <th>MD</th>\n",
              "      <td>18000.0</td>\n",
              "    </tr>\n",
              "    <tr>\n",
              "      <th>ID</th>\n",
              "      <td>15000.0</td>\n",
              "    </tr>\n",
              "    <tr>\n",
              "      <th>SK</th>\n",
              "      <td>12608.0</td>\n",
              "    </tr>\n",
              "    <tr>\n",
              "      <th>MA</th>\n",
              "      <td>10000.0</td>\n",
              "    </tr>\n",
              "    <tr>\n",
              "      <th>MK</th>\n",
              "      <td>6304.0</td>\n",
              "    </tr>\n",
              "  </tbody>\n",
              "</table>\n",
              "<p>78 rows × 1 columns</p>\n",
              "</div>\n",
              "    <div class=\"colab-df-buttons\">\n",
              "\n",
              "  <div class=\"colab-df-container\">\n",
              "    <button class=\"colab-df-convert\" onclick=\"convertToInteractive('df-a534ad6a-aec0-4c3b-ade3-644c3ce8a647')\"\n",
              "            title=\"Convert this dataframe to an interactive table.\"\n",
              "            style=\"display:none;\">\n",
              "\n",
              "  <svg xmlns=\"http://www.w3.org/2000/svg\" height=\"24px\" viewBox=\"0 -960 960 960\">\n",
              "    <path d=\"M120-120v-720h720v720H120Zm60-500h600v-160H180v160Zm220 220h160v-160H400v160Zm0 220h160v-160H400v160ZM180-400h160v-160H180v160Zm440 0h160v-160H620v160ZM180-180h160v-160H180v160Zm440 0h160v-160H620v160Z\"/>\n",
              "  </svg>\n",
              "    </button>\n",
              "\n",
              "  <style>\n",
              "    .colab-df-container {\n",
              "      display:flex;\n",
              "      gap: 12px;\n",
              "    }\n",
              "\n",
              "    .colab-df-convert {\n",
              "      background-color: #E8F0FE;\n",
              "      border: none;\n",
              "      border-radius: 50%;\n",
              "      cursor: pointer;\n",
              "      display: none;\n",
              "      fill: #1967D2;\n",
              "      height: 32px;\n",
              "      padding: 0 0 0 0;\n",
              "      width: 32px;\n",
              "    }\n",
              "\n",
              "    .colab-df-convert:hover {\n",
              "      background-color: #E2EBFA;\n",
              "      box-shadow: 0px 1px 2px rgba(60, 64, 67, 0.3), 0px 1px 3px 1px rgba(60, 64, 67, 0.15);\n",
              "      fill: #174EA6;\n",
              "    }\n",
              "\n",
              "    .colab-df-buttons div {\n",
              "      margin-bottom: 4px;\n",
              "    }\n",
              "\n",
              "    [theme=dark] .colab-df-convert {\n",
              "      background-color: #3B4455;\n",
              "      fill: #D2E3FC;\n",
              "    }\n",
              "\n",
              "    [theme=dark] .colab-df-convert:hover {\n",
              "      background-color: #434B5C;\n",
              "      box-shadow: 0px 1px 3px 1px rgba(0, 0, 0, 0.15);\n",
              "      filter: drop-shadow(0px 1px 2px rgba(0, 0, 0, 0.3));\n",
              "      fill: #FFFFFF;\n",
              "    }\n",
              "  </style>\n",
              "\n",
              "    <script>\n",
              "      const buttonEl =\n",
              "        document.querySelector('#df-a534ad6a-aec0-4c3b-ade3-644c3ce8a647 button.colab-df-convert');\n",
              "      buttonEl.style.display =\n",
              "        google.colab.kernel.accessAllowed ? 'block' : 'none';\n",
              "\n",
              "      async function convertToInteractive(key) {\n",
              "        const element = document.querySelector('#df-a534ad6a-aec0-4c3b-ade3-644c3ce8a647');\n",
              "        const dataTable =\n",
              "          await google.colab.kernel.invokeFunction('convertToInteractive',\n",
              "                                                    [key], {});\n",
              "        if (!dataTable) return;\n",
              "\n",
              "        const docLinkHtml = 'Like what you see? Visit the ' +\n",
              "          '<a target=\"_blank\" href=https://colab.research.google.com/notebooks/data_table.ipynb>data table notebook</a>'\n",
              "          + ' to learn more about interactive tables.';\n",
              "        element.innerHTML = '';\n",
              "        dataTable['output_type'] = 'display_data';\n",
              "        await google.colab.output.renderOutput(dataTable, element);\n",
              "        const docLink = document.createElement('div');\n",
              "        docLink.innerHTML = docLinkHtml;\n",
              "        element.appendChild(docLink);\n",
              "      }\n",
              "    </script>\n",
              "  </div>\n",
              "\n",
              "\n",
              "<div id=\"df-d7e3c8e7-1c17-48d3-aa7c-e32db39b2e27\">\n",
              "  <button class=\"colab-df-quickchart\" onclick=\"quickchart('df-d7e3c8e7-1c17-48d3-aa7c-e32db39b2e27')\"\n",
              "            title=\"Suggest charts\"\n",
              "            style=\"display:none;\">\n",
              "\n",
              "<svg xmlns=\"http://www.w3.org/2000/svg\" height=\"24px\"viewBox=\"0 0 24 24\"\n",
              "     width=\"24px\">\n",
              "    <g>\n",
              "        <path d=\"M19 3H5c-1.1 0-2 .9-2 2v14c0 1.1.9 2 2 2h14c1.1 0 2-.9 2-2V5c0-1.1-.9-2-2-2zM9 17H7v-7h2v7zm4 0h-2V7h2v10zm4 0h-2v-4h2v4z\"/>\n",
              "    </g>\n",
              "</svg>\n",
              "  </button>\n",
              "\n",
              "<style>\n",
              "  .colab-df-quickchart {\n",
              "      --bg-color: #E8F0FE;\n",
              "      --fill-color: #1967D2;\n",
              "      --hover-bg-color: #E2EBFA;\n",
              "      --hover-fill-color: #174EA6;\n",
              "      --disabled-fill-color: #AAA;\n",
              "      --disabled-bg-color: #DDD;\n",
              "  }\n",
              "\n",
              "  [theme=dark] .colab-df-quickchart {\n",
              "      --bg-color: #3B4455;\n",
              "      --fill-color: #D2E3FC;\n",
              "      --hover-bg-color: #434B5C;\n",
              "      --hover-fill-color: #FFFFFF;\n",
              "      --disabled-bg-color: #3B4455;\n",
              "      --disabled-fill-color: #666;\n",
              "  }\n",
              "\n",
              "  .colab-df-quickchart {\n",
              "    background-color: var(--bg-color);\n",
              "    border: none;\n",
              "    border-radius: 50%;\n",
              "    cursor: pointer;\n",
              "    display: none;\n",
              "    fill: var(--fill-color);\n",
              "    height: 32px;\n",
              "    padding: 0;\n",
              "    width: 32px;\n",
              "  }\n",
              "\n",
              "  .colab-df-quickchart:hover {\n",
              "    background-color: var(--hover-bg-color);\n",
              "    box-shadow: 0 1px 2px rgba(60, 64, 67, 0.3), 0 1px 3px 1px rgba(60, 64, 67, 0.15);\n",
              "    fill: var(--button-hover-fill-color);\n",
              "  }\n",
              "\n",
              "  .colab-df-quickchart-complete:disabled,\n",
              "  .colab-df-quickchart-complete:disabled:hover {\n",
              "    background-color: var(--disabled-bg-color);\n",
              "    fill: var(--disabled-fill-color);\n",
              "    box-shadow: none;\n",
              "  }\n",
              "\n",
              "  .colab-df-spinner {\n",
              "    border: 2px solid var(--fill-color);\n",
              "    border-color: transparent;\n",
              "    border-bottom-color: var(--fill-color);\n",
              "    animation:\n",
              "      spin 1s steps(1) infinite;\n",
              "  }\n",
              "\n",
              "  @keyframes spin {\n",
              "    0% {\n",
              "      border-color: transparent;\n",
              "      border-bottom-color: var(--fill-color);\n",
              "      border-left-color: var(--fill-color);\n",
              "    }\n",
              "    20% {\n",
              "      border-color: transparent;\n",
              "      border-left-color: var(--fill-color);\n",
              "      border-top-color: var(--fill-color);\n",
              "    }\n",
              "    30% {\n",
              "      border-color: transparent;\n",
              "      border-left-color: var(--fill-color);\n",
              "      border-top-color: var(--fill-color);\n",
              "      border-right-color: var(--fill-color);\n",
              "    }\n",
              "    40% {\n",
              "      border-color: transparent;\n",
              "      border-right-color: var(--fill-color);\n",
              "      border-top-color: var(--fill-color);\n",
              "    }\n",
              "    60% {\n",
              "      border-color: transparent;\n",
              "      border-right-color: var(--fill-color);\n",
              "    }\n",
              "    80% {\n",
              "      border-color: transparent;\n",
              "      border-right-color: var(--fill-color);\n",
              "      border-bottom-color: var(--fill-color);\n",
              "    }\n",
              "    90% {\n",
              "      border-color: transparent;\n",
              "      border-bottom-color: var(--fill-color);\n",
              "    }\n",
              "  }\n",
              "</style>\n",
              "\n",
              "  <script>\n",
              "    async function quickchart(key) {\n",
              "      const quickchartButtonEl =\n",
              "        document.querySelector('#' + key + ' button');\n",
              "      quickchartButtonEl.disabled = true;  // To prevent multiple clicks.\n",
              "      quickchartButtonEl.classList.add('colab-df-spinner');\n",
              "      try {\n",
              "        const charts = await google.colab.kernel.invokeFunction(\n",
              "            'suggestCharts', [key], {});\n",
              "      } catch (error) {\n",
              "        console.error('Error during call to suggestCharts:', error);\n",
              "      }\n",
              "      quickchartButtonEl.classList.remove('colab-df-spinner');\n",
              "      quickchartButtonEl.classList.add('colab-df-quickchart-complete');\n",
              "    }\n",
              "    (() => {\n",
              "      let quickchartButtonEl =\n",
              "        document.querySelector('#df-d7e3c8e7-1c17-48d3-aa7c-e32db39b2e27 button');\n",
              "      quickchartButtonEl.style.display =\n",
              "        google.colab.kernel.accessAllowed ? 'block' : 'none';\n",
              "    })();\n",
              "  </script>\n",
              "</div>\n",
              "    </div>\n",
              "  </div>\n"
            ],
            "application/vnd.google.colaboratory.intrinsic+json": {
              "type": "dataframe",
              "summary": "{\n  \"name\": \"df\",\n  \"rows\": 78,\n  \"fields\": [\n    {\n      \"column\": \"employee_residence\",\n      \"properties\": {\n        \"dtype\": \"string\",\n        \"num_unique_values\": 78,\n        \"samples\": [\n          \"MX\",\n          \"IL\",\n          \"HK\"\n        ],\n        \"semantic_type\": \"\",\n        \"description\": \"\"\n      }\n    },\n    {\n      \"column\": \"salary_in_usd\",\n      \"properties\": {\n        \"dtype\": \"number\",\n        \"std\": 55576.468320723376,\n        \"min\": 6304.0,\n        \"max\": 423834.0,\n        \"num_unique_values\": 70,\n        \"samples\": [\n          74000.0,\n          423834.0,\n          37565.5\n        ],\n        \"semantic_type\": \"\",\n        \"description\": \"\"\n      }\n    }\n  ]\n}"
            }
          },
          "metadata": {},
          "execution_count": 14
        }
      ]
    },
    {
      "cell_type": "code",
      "source": [
        "df.company_size.value_counts()"
      ],
      "metadata": {
        "colab": {
          "base_uri": "https://localhost:8080/",
          "height": 207
        },
        "id": "ghGf9U76ZkKJ",
        "outputId": "f6e76ab6-507a-4a32-eb3d-a9ff7095ca0d"
      },
      "id": "ghGf9U76ZkKJ",
      "execution_count": 15,
      "outputs": [
        {
          "output_type": "execute_result",
          "data": {
            "text/plain": [
              "company_size\n",
              "M    2028\n",
              "L     409\n",
              "S     147\n",
              "Name: count, dtype: int64"
            ],
            "text/html": [
              "<div>\n",
              "<style scoped>\n",
              "    .dataframe tbody tr th:only-of-type {\n",
              "        vertical-align: middle;\n",
              "    }\n",
              "\n",
              "    .dataframe tbody tr th {\n",
              "        vertical-align: top;\n",
              "    }\n",
              "\n",
              "    .dataframe thead th {\n",
              "        text-align: right;\n",
              "    }\n",
              "</style>\n",
              "<table border=\"1\" class=\"dataframe\">\n",
              "  <thead>\n",
              "    <tr style=\"text-align: right;\">\n",
              "      <th></th>\n",
              "      <th>count</th>\n",
              "    </tr>\n",
              "    <tr>\n",
              "      <th>company_size</th>\n",
              "      <th></th>\n",
              "    </tr>\n",
              "  </thead>\n",
              "  <tbody>\n",
              "    <tr>\n",
              "      <th>M</th>\n",
              "      <td>2028</td>\n",
              "    </tr>\n",
              "    <tr>\n",
              "      <th>L</th>\n",
              "      <td>409</td>\n",
              "    </tr>\n",
              "    <tr>\n",
              "      <th>S</th>\n",
              "      <td>147</td>\n",
              "    </tr>\n",
              "  </tbody>\n",
              "</table>\n",
              "</div><br><label><b>dtype:</b> int64</label>"
            ]
          },
          "metadata": {},
          "execution_count": 15
        }
      ]
    },
    {
      "cell_type": "code",
      "source": [
        "df.groupby(['company_size', 'experience_level'])['experience_level'].count()"
      ],
      "metadata": {
        "colab": {
          "base_uri": "https://localhost:8080/",
          "height": 486
        },
        "id": "UFG0F_3dZyXh",
        "outputId": "2d76fcdb-d945-411f-a798-2726b749566b"
      },
      "id": "UFG0F_3dZyXh",
      "execution_count": 16,
      "outputs": [
        {
          "output_type": "execute_result",
          "data": {
            "text/plain": [
              "company_size  experience_level\n",
              "L             EN                    96\n",
              "              EX                    13\n",
              "              MI                   132\n",
              "              SE                   168\n",
              "M             EN                   125\n",
              "              EX                    77\n",
              "              MI                   483\n",
              "              SE                  1343\n",
              "S             EN                    49\n",
              "              EX                     6\n",
              "              MI                    49\n",
              "              SE                    43\n",
              "Name: experience_level, dtype: int64"
            ],
            "text/html": [
              "<div>\n",
              "<style scoped>\n",
              "    .dataframe tbody tr th:only-of-type {\n",
              "        vertical-align: middle;\n",
              "    }\n",
              "\n",
              "    .dataframe tbody tr th {\n",
              "        vertical-align: top;\n",
              "    }\n",
              "\n",
              "    .dataframe thead th {\n",
              "        text-align: right;\n",
              "    }\n",
              "</style>\n",
              "<table border=\"1\" class=\"dataframe\">\n",
              "  <thead>\n",
              "    <tr style=\"text-align: right;\">\n",
              "      <th></th>\n",
              "      <th></th>\n",
              "      <th>experience_level</th>\n",
              "    </tr>\n",
              "    <tr>\n",
              "      <th>company_size</th>\n",
              "      <th>experience_level</th>\n",
              "      <th></th>\n",
              "    </tr>\n",
              "  </thead>\n",
              "  <tbody>\n",
              "    <tr>\n",
              "      <th rowspan=\"4\" valign=\"top\">L</th>\n",
              "      <th>EN</th>\n",
              "      <td>96</td>\n",
              "    </tr>\n",
              "    <tr>\n",
              "      <th>EX</th>\n",
              "      <td>13</td>\n",
              "    </tr>\n",
              "    <tr>\n",
              "      <th>MI</th>\n",
              "      <td>132</td>\n",
              "    </tr>\n",
              "    <tr>\n",
              "      <th>SE</th>\n",
              "      <td>168</td>\n",
              "    </tr>\n",
              "    <tr>\n",
              "      <th rowspan=\"4\" valign=\"top\">M</th>\n",
              "      <th>EN</th>\n",
              "      <td>125</td>\n",
              "    </tr>\n",
              "    <tr>\n",
              "      <th>EX</th>\n",
              "      <td>77</td>\n",
              "    </tr>\n",
              "    <tr>\n",
              "      <th>MI</th>\n",
              "      <td>483</td>\n",
              "    </tr>\n",
              "    <tr>\n",
              "      <th>SE</th>\n",
              "      <td>1343</td>\n",
              "    </tr>\n",
              "    <tr>\n",
              "      <th rowspan=\"4\" valign=\"top\">S</th>\n",
              "      <th>EN</th>\n",
              "      <td>49</td>\n",
              "    </tr>\n",
              "    <tr>\n",
              "      <th>EX</th>\n",
              "      <td>6</td>\n",
              "    </tr>\n",
              "    <tr>\n",
              "      <th>MI</th>\n",
              "      <td>49</td>\n",
              "    </tr>\n",
              "    <tr>\n",
              "      <th>SE</th>\n",
              "      <td>43</td>\n",
              "    </tr>\n",
              "  </tbody>\n",
              "</table>\n",
              "</div><br><label><b>dtype:</b> int64</label>"
            ]
          },
          "metadata": {},
          "execution_count": 16
        }
      ]
    },
    {
      "cell_type": "code",
      "source": [
        "df.groupby(['job_title'])[['salary_in_usd']].median().sort_values(by='salary_in_usd', ascending=False)"
      ],
      "metadata": {
        "colab": {
          "base_uri": "https://localhost:8080/",
          "height": 450
        },
        "id": "2ed46bHdawXl",
        "outputId": "6334be9d-b6b5-421c-ab5c-cea62fa30537"
      },
      "id": "2ed46bHdawXl",
      "execution_count": 17,
      "outputs": [
        {
          "output_type": "execute_result",
          "data": {
            "text/plain": [
              "                               salary_in_usd\n",
              "job_title                                   \n",
              "Data Science Tech Lead              375000.0\n",
              "Cloud Data Architect                250000.0\n",
              "Data Lead                           212500.0\n",
              "Data Analytics Lead                 211254.5\n",
              "Head of Data                        202500.0\n",
              "...                                      ...\n",
              "Product Data Analyst                 20000.0\n",
              "Staff Data Analyst                   15000.0\n",
              "3D Computer Vision Researcher        15000.0\n",
              "Product Data Scientist                8000.0\n",
              "Power BI Developer                    5409.0\n",
              "\n",
              "[93 rows x 1 columns]"
            ],
            "text/html": [
              "\n",
              "  <div id=\"df-4bd93330-4f21-45cb-b094-8330211715e3\" class=\"colab-df-container\">\n",
              "    <div>\n",
              "<style scoped>\n",
              "    .dataframe tbody tr th:only-of-type {\n",
              "        vertical-align: middle;\n",
              "    }\n",
              "\n",
              "    .dataframe tbody tr th {\n",
              "        vertical-align: top;\n",
              "    }\n",
              "\n",
              "    .dataframe thead th {\n",
              "        text-align: right;\n",
              "    }\n",
              "</style>\n",
              "<table border=\"1\" class=\"dataframe\">\n",
              "  <thead>\n",
              "    <tr style=\"text-align: right;\">\n",
              "      <th></th>\n",
              "      <th>salary_in_usd</th>\n",
              "    </tr>\n",
              "    <tr>\n",
              "      <th>job_title</th>\n",
              "      <th></th>\n",
              "    </tr>\n",
              "  </thead>\n",
              "  <tbody>\n",
              "    <tr>\n",
              "      <th>Data Science Tech Lead</th>\n",
              "      <td>375000.0</td>\n",
              "    </tr>\n",
              "    <tr>\n",
              "      <th>Cloud Data Architect</th>\n",
              "      <td>250000.0</td>\n",
              "    </tr>\n",
              "    <tr>\n",
              "      <th>Data Lead</th>\n",
              "      <td>212500.0</td>\n",
              "    </tr>\n",
              "    <tr>\n",
              "      <th>Data Analytics Lead</th>\n",
              "      <td>211254.5</td>\n",
              "    </tr>\n",
              "    <tr>\n",
              "      <th>Head of Data</th>\n",
              "      <td>202500.0</td>\n",
              "    </tr>\n",
              "    <tr>\n",
              "      <th>...</th>\n",
              "      <td>...</td>\n",
              "    </tr>\n",
              "    <tr>\n",
              "      <th>Product Data Analyst</th>\n",
              "      <td>20000.0</td>\n",
              "    </tr>\n",
              "    <tr>\n",
              "      <th>Staff Data Analyst</th>\n",
              "      <td>15000.0</td>\n",
              "    </tr>\n",
              "    <tr>\n",
              "      <th>3D Computer Vision Researcher</th>\n",
              "      <td>15000.0</td>\n",
              "    </tr>\n",
              "    <tr>\n",
              "      <th>Product Data Scientist</th>\n",
              "      <td>8000.0</td>\n",
              "    </tr>\n",
              "    <tr>\n",
              "      <th>Power BI Developer</th>\n",
              "      <td>5409.0</td>\n",
              "    </tr>\n",
              "  </tbody>\n",
              "</table>\n",
              "<p>93 rows × 1 columns</p>\n",
              "</div>\n",
              "    <div class=\"colab-df-buttons\">\n",
              "\n",
              "  <div class=\"colab-df-container\">\n",
              "    <button class=\"colab-df-convert\" onclick=\"convertToInteractive('df-4bd93330-4f21-45cb-b094-8330211715e3')\"\n",
              "            title=\"Convert this dataframe to an interactive table.\"\n",
              "            style=\"display:none;\">\n",
              "\n",
              "  <svg xmlns=\"http://www.w3.org/2000/svg\" height=\"24px\" viewBox=\"0 -960 960 960\">\n",
              "    <path d=\"M120-120v-720h720v720H120Zm60-500h600v-160H180v160Zm220 220h160v-160H400v160Zm0 220h160v-160H400v160ZM180-400h160v-160H180v160Zm440 0h160v-160H620v160ZM180-180h160v-160H180v160Zm440 0h160v-160H620v160Z\"/>\n",
              "  </svg>\n",
              "    </button>\n",
              "\n",
              "  <style>\n",
              "    .colab-df-container {\n",
              "      display:flex;\n",
              "      gap: 12px;\n",
              "    }\n",
              "\n",
              "    .colab-df-convert {\n",
              "      background-color: #E8F0FE;\n",
              "      border: none;\n",
              "      border-radius: 50%;\n",
              "      cursor: pointer;\n",
              "      display: none;\n",
              "      fill: #1967D2;\n",
              "      height: 32px;\n",
              "      padding: 0 0 0 0;\n",
              "      width: 32px;\n",
              "    }\n",
              "\n",
              "    .colab-df-convert:hover {\n",
              "      background-color: #E2EBFA;\n",
              "      box-shadow: 0px 1px 2px rgba(60, 64, 67, 0.3), 0px 1px 3px 1px rgba(60, 64, 67, 0.15);\n",
              "      fill: #174EA6;\n",
              "    }\n",
              "\n",
              "    .colab-df-buttons div {\n",
              "      margin-bottom: 4px;\n",
              "    }\n",
              "\n",
              "    [theme=dark] .colab-df-convert {\n",
              "      background-color: #3B4455;\n",
              "      fill: #D2E3FC;\n",
              "    }\n",
              "\n",
              "    [theme=dark] .colab-df-convert:hover {\n",
              "      background-color: #434B5C;\n",
              "      box-shadow: 0px 1px 3px 1px rgba(0, 0, 0, 0.15);\n",
              "      filter: drop-shadow(0px 1px 2px rgba(0, 0, 0, 0.3));\n",
              "      fill: #FFFFFF;\n",
              "    }\n",
              "  </style>\n",
              "\n",
              "    <script>\n",
              "      const buttonEl =\n",
              "        document.querySelector('#df-4bd93330-4f21-45cb-b094-8330211715e3 button.colab-df-convert');\n",
              "      buttonEl.style.display =\n",
              "        google.colab.kernel.accessAllowed ? 'block' : 'none';\n",
              "\n",
              "      async function convertToInteractive(key) {\n",
              "        const element = document.querySelector('#df-4bd93330-4f21-45cb-b094-8330211715e3');\n",
              "        const dataTable =\n",
              "          await google.colab.kernel.invokeFunction('convertToInteractive',\n",
              "                                                    [key], {});\n",
              "        if (!dataTable) return;\n",
              "\n",
              "        const docLinkHtml = 'Like what you see? Visit the ' +\n",
              "          '<a target=\"_blank\" href=https://colab.research.google.com/notebooks/data_table.ipynb>data table notebook</a>'\n",
              "          + ' to learn more about interactive tables.';\n",
              "        element.innerHTML = '';\n",
              "        dataTable['output_type'] = 'display_data';\n",
              "        await google.colab.output.renderOutput(dataTable, element);\n",
              "        const docLink = document.createElement('div');\n",
              "        docLink.innerHTML = docLinkHtml;\n",
              "        element.appendChild(docLink);\n",
              "      }\n",
              "    </script>\n",
              "  </div>\n",
              "\n",
              "\n",
              "<div id=\"df-fa04e4e0-4558-4b1e-8c4a-8b5eb5921ae7\">\n",
              "  <button class=\"colab-df-quickchart\" onclick=\"quickchart('df-fa04e4e0-4558-4b1e-8c4a-8b5eb5921ae7')\"\n",
              "            title=\"Suggest charts\"\n",
              "            style=\"display:none;\">\n",
              "\n",
              "<svg xmlns=\"http://www.w3.org/2000/svg\" height=\"24px\"viewBox=\"0 0 24 24\"\n",
              "     width=\"24px\">\n",
              "    <g>\n",
              "        <path d=\"M19 3H5c-1.1 0-2 .9-2 2v14c0 1.1.9 2 2 2h14c1.1 0 2-.9 2-2V5c0-1.1-.9-2-2-2zM9 17H7v-7h2v7zm4 0h-2V7h2v10zm4 0h-2v-4h2v4z\"/>\n",
              "    </g>\n",
              "</svg>\n",
              "  </button>\n",
              "\n",
              "<style>\n",
              "  .colab-df-quickchart {\n",
              "      --bg-color: #E8F0FE;\n",
              "      --fill-color: #1967D2;\n",
              "      --hover-bg-color: #E2EBFA;\n",
              "      --hover-fill-color: #174EA6;\n",
              "      --disabled-fill-color: #AAA;\n",
              "      --disabled-bg-color: #DDD;\n",
              "  }\n",
              "\n",
              "  [theme=dark] .colab-df-quickchart {\n",
              "      --bg-color: #3B4455;\n",
              "      --fill-color: #D2E3FC;\n",
              "      --hover-bg-color: #434B5C;\n",
              "      --hover-fill-color: #FFFFFF;\n",
              "      --disabled-bg-color: #3B4455;\n",
              "      --disabled-fill-color: #666;\n",
              "  }\n",
              "\n",
              "  .colab-df-quickchart {\n",
              "    background-color: var(--bg-color);\n",
              "    border: none;\n",
              "    border-radius: 50%;\n",
              "    cursor: pointer;\n",
              "    display: none;\n",
              "    fill: var(--fill-color);\n",
              "    height: 32px;\n",
              "    padding: 0;\n",
              "    width: 32px;\n",
              "  }\n",
              "\n",
              "  .colab-df-quickchart:hover {\n",
              "    background-color: var(--hover-bg-color);\n",
              "    box-shadow: 0 1px 2px rgba(60, 64, 67, 0.3), 0 1px 3px 1px rgba(60, 64, 67, 0.15);\n",
              "    fill: var(--button-hover-fill-color);\n",
              "  }\n",
              "\n",
              "  .colab-df-quickchart-complete:disabled,\n",
              "  .colab-df-quickchart-complete:disabled:hover {\n",
              "    background-color: var(--disabled-bg-color);\n",
              "    fill: var(--disabled-fill-color);\n",
              "    box-shadow: none;\n",
              "  }\n",
              "\n",
              "  .colab-df-spinner {\n",
              "    border: 2px solid var(--fill-color);\n",
              "    border-color: transparent;\n",
              "    border-bottom-color: var(--fill-color);\n",
              "    animation:\n",
              "      spin 1s steps(1) infinite;\n",
              "  }\n",
              "\n",
              "  @keyframes spin {\n",
              "    0% {\n",
              "      border-color: transparent;\n",
              "      border-bottom-color: var(--fill-color);\n",
              "      border-left-color: var(--fill-color);\n",
              "    }\n",
              "    20% {\n",
              "      border-color: transparent;\n",
              "      border-left-color: var(--fill-color);\n",
              "      border-top-color: var(--fill-color);\n",
              "    }\n",
              "    30% {\n",
              "      border-color: transparent;\n",
              "      border-left-color: var(--fill-color);\n",
              "      border-top-color: var(--fill-color);\n",
              "      border-right-color: var(--fill-color);\n",
              "    }\n",
              "    40% {\n",
              "      border-color: transparent;\n",
              "      border-right-color: var(--fill-color);\n",
              "      border-top-color: var(--fill-color);\n",
              "    }\n",
              "    60% {\n",
              "      border-color: transparent;\n",
              "      border-right-color: var(--fill-color);\n",
              "    }\n",
              "    80% {\n",
              "      border-color: transparent;\n",
              "      border-right-color: var(--fill-color);\n",
              "      border-bottom-color: var(--fill-color);\n",
              "    }\n",
              "    90% {\n",
              "      border-color: transparent;\n",
              "      border-bottom-color: var(--fill-color);\n",
              "    }\n",
              "  }\n",
              "</style>\n",
              "\n",
              "  <script>\n",
              "    async function quickchart(key) {\n",
              "      const quickchartButtonEl =\n",
              "        document.querySelector('#' + key + ' button');\n",
              "      quickchartButtonEl.disabled = true;  // To prevent multiple clicks.\n",
              "      quickchartButtonEl.classList.add('colab-df-spinner');\n",
              "      try {\n",
              "        const charts = await google.colab.kernel.invokeFunction(\n",
              "            'suggestCharts', [key], {});\n",
              "      } catch (error) {\n",
              "        console.error('Error during call to suggestCharts:', error);\n",
              "      }\n",
              "      quickchartButtonEl.classList.remove('colab-df-spinner');\n",
              "      quickchartButtonEl.classList.add('colab-df-quickchart-complete');\n",
              "    }\n",
              "    (() => {\n",
              "      let quickchartButtonEl =\n",
              "        document.querySelector('#df-fa04e4e0-4558-4b1e-8c4a-8b5eb5921ae7 button');\n",
              "      quickchartButtonEl.style.display =\n",
              "        google.colab.kernel.accessAllowed ? 'block' : 'none';\n",
              "    })();\n",
              "  </script>\n",
              "</div>\n",
              "    </div>\n",
              "  </div>\n"
            ],
            "application/vnd.google.colaboratory.intrinsic+json": {
              "type": "dataframe",
              "summary": "{\n  \"name\": \"df\",\n  \"rows\": 93,\n  \"fields\": [\n    {\n      \"column\": \"job_title\",\n      \"properties\": {\n        \"dtype\": \"string\",\n        \"num_unique_values\": 93,\n        \"samples\": [\n          \"Lead Data Engineer\",\n          \"Research Engineer\",\n          \"Applied Machine Learning Engineer\"\n        ],\n        \"semantic_type\": \"\",\n        \"description\": \"\"\n      }\n    },\n    {\n      \"column\": \"salary_in_usd\",\n      \"properties\": {\n        \"dtype\": \"number\",\n        \"std\": 59101.13084203836,\n        \"min\": 5409.0,\n        \"max\": 375000.0,\n        \"num_unique_values\": 84,\n        \"samples\": [\n          53654.0,\n          375000.0,\n          76814.0\n        ],\n        \"semantic_type\": \"\",\n        \"description\": \"\"\n      }\n    }\n  ]\n}"
            }
          },
          "metadata": {},
          "execution_count": 17
        }
      ]
    },
    {
      "cell_type": "markdown",
      "source": [
        "**Выводы:**\n",
        "1. Имеются существенные выбросы по зарплате. В целом, учитывая что мы в данной ДЗ используем алгоритмы на основе решающих деревьев, дополнительная обработка выбросов не требуется.\n",
        "2. Зарплата в USD офисе будет выше, чем на удаленке. В целом логично, поскольку на удаленную работу можно нанять сотрудников в странах и регионах с более низкой з/п. В офис же придется искать сотрудника, находящегося в городе присутствия компании (как правило это крупные города с дорогой рабочей силой).\n",
        "3. График salary - salary_in_usd может показаться странным (похож на стрелки часов), однако это объяснимо тем, что salary в разных валютах с разными курсами конвертации.\n",
        "4. Доля вакансий с гибридным графиков достаточно низкая относительно удаленки / офиса.\n",
        "5. Зависимость средней зарплаты от уровня опыта в целом логична: executive получают больше всех, далее senior, middle, entry level. При этом также заметно, что диапазон зарплаты на executive уровне существенно шире, чем на остальных.\n",
        "6. В части типа заняточти ситуация логичная: фулл-тайм выше парт-тайм, при этом диапазон зарплаты на контрактной занятости (CL) существенно шире, чем на остальных типах занятости. При контрактном типе котором работник нанимается на определенный срок или для выполнения конкретного проекта. Условия труда и оплата могут варьироваться в зависимости от контракта. Диапазоны для фриланса и частичной занятости выше, чем для фулл-тайма.\n",
        "7. С точки зрения страны резиденства работника вероятно есть корреляция с общим уровнем экономического благополучия страны. Например, самые низкие медианные зарплаты в Македонии, Марокко, Индонезии, Молдове. Самые высокие - США, Израиль, Китай, Малайзия.\n",
        "8. Интересно, что в компаниях маленького размера средние зарплаты значительно выше, чем среднего и большого. При этом компании нанимают меньше seniors и executives. Это может происходить по нескольким причинам:\n",
        "* маленьким компаниям, чтобы конкурировать за сильные кадры, приходится делать выше премию к рынку\n",
        "* в маленьких компаниях может быть хуже соц.пакет, поэтому его отсутствие может компенсироваться более высокой зарплатой\n",
        "* в маленьких компаниях может быть меньше возможностей для карьерного роста, чем в компаниях с большим штатом, что может быть компенсировано большей вариативностью зарплат.\n",
        "9. С точки зрения job_title всё ожидаемо. В топ-5 вакансий по зарплатам - лиды и архитекты, в боттоме - рядовые аналитики данных."
      ],
      "metadata": {
        "id": "xGn9s4KX0-mq"
      },
      "id": "xGn9s4KX0-mq"
    },
    {
      "cell_type": "markdown",
      "source": [
        "## **Задание 3 (0.3 балла)**\n",
        "\n",
        "Вернитесь к описанию признаков.\n",
        "- Проверьте, все ли признаки соответствуют постановке задачи? Если есть лишние признаки, удалите их и обоснуйте удаление, если нет, сделайте вывод о релевантности (достаточно в одну-две строки)\n",
        "- Зафиксируйте, в каких признаках много категорий."
      ],
      "metadata": {
        "id": "c-Q50P1G4wHx"
      },
      "id": "c-Q50P1G4wHx"
    },
    {
      "cell_type": "code",
      "source": [
        "ct = pd.crosstab(df['salary_currency'], df['employee_residence'])\n",
        "\n",
        "chi2, p, dof, ex = stats.chi2_contingency(ct)\n",
        "\n",
        "print(f'chi2: {chi2:.1f}')\n",
        "print(f'p-value: {p:.3f}')"
      ],
      "metadata": {
        "colab": {
          "base_uri": "https://localhost:8080/"
        },
        "id": "hGcP6ckzkHmF",
        "outputId": "d720d34e-f1a5-4f0b-cf14-082de98cd84d"
      },
      "id": "hGcP6ckzkHmF",
      "execution_count": 18,
      "outputs": [
        {
          "output_type": "stream",
          "name": "stdout",
          "text": [
            "chi2: 33687.6\n",
            "p-value: 0.000\n"
          ]
        }
      ]
    },
    {
      "cell_type": "code",
      "source": [
        "def cramers_v(confusion_matrix):\n",
        "    chi2 = stats.chi2_contingency(confusion_matrix)[0]\n",
        "    n = confusion_matrix.sum()\n",
        "    phi2 = chi2 / n\n",
        "    r, k = confusion_matrix.shape\n",
        "\n",
        "    phi2corr = max(0, phi2 - (k - 1) * (r - 1) / (n - 1))\n",
        "    rcorr = r - (r - 1) ** 2 / (n - 1)\n",
        "    kcorr = k - (k - 1) ** 2 / (n - 1)\n",
        "\n",
        "    return np.sqrt(phi2corr / min((kcorr - 1), (rcorr - 1)))\n",
        "\n",
        "cramers_v = cramers_v(ct.values)\n",
        "print(f'Коэффициент Крамера: {cramers_v:.2f}')"
      ],
      "metadata": {
        "colab": {
          "base_uri": "https://localhost:8080/"
        },
        "id": "3EzXq2WQlLOt",
        "outputId": "923b99e4-ddc0-4e11-f86d-53343c4c61f6"
      },
      "id": "3EzXq2WQlLOt",
      "execution_count": 19,
      "outputs": [
        {
          "output_type": "stream",
          "name": "stdout",
          "text": [
            "Коэффициент Крамера: 0.81\n"
          ]
        }
      ]
    },
    {
      "cell_type": "code",
      "source": [
        "ct = pd.crosstab(df['company_location'], df['employee_residence'])\n",
        "\n",
        "chi2, p, dof, ex = stats.chi2_contingency(ct)\n",
        "\n",
        "print(f'chi2: {chi2:.1f}')\n",
        "print(f'p-value: {p:.3f}')"
      ],
      "metadata": {
        "colab": {
          "base_uri": "https://localhost:8080/"
        },
        "id": "2wGP1PmV3Kgj",
        "outputId": "8ec96e26-e7ec-46be-8247-2935d12cad00"
      },
      "id": "2wGP1PmV3Kgj",
      "execution_count": 20,
      "outputs": [
        {
          "output_type": "stream",
          "name": "stdout",
          "text": [
            "chi2: 140113.3\n",
            "p-value: 0.000\n"
          ]
        }
      ]
    },
    {
      "cell_type": "code",
      "source": [
        "def cramers_v(confusion_matrix):\n",
        "    chi2 = stats.chi2_contingency(confusion_matrix)[0]\n",
        "    n = confusion_matrix.sum()\n",
        "    phi2 = chi2 / n\n",
        "    r, k = confusion_matrix.shape\n",
        "\n",
        "    phi2corr = max(0, phi2 - (k - 1) * (r - 1) / (n - 1))\n",
        "    rcorr = r - (r - 1) ** 2 / (n - 1)\n",
        "    kcorr = k - (k - 1) ** 2 / (n - 1)\n",
        "\n",
        "    return np.sqrt(phi2corr / min((kcorr - 1), (rcorr - 1)))\n",
        "\n",
        "cramers_v = cramers_v(ct.values)\n",
        "print(f'Коэффициент Крамера: {cramers_v:.2f}')"
      ],
      "metadata": {
        "colab": {
          "base_uri": "https://localhost:8080/"
        },
        "id": "P4NpzOT13Oxt",
        "outputId": "978b9126-7469-4d49-edf4-4712406a8ea9"
      },
      "id": "P4NpzOT13Oxt",
      "execution_count": 21,
      "outputs": [
        {
          "output_type": "stream",
          "name": "stdout",
          "text": [
            "Коэффициент Крамера: 0.87\n"
          ]
        }
      ]
    },
    {
      "cell_type": "code",
      "source": [
        "df.work_year.value_counts()"
      ],
      "metadata": {
        "colab": {
          "base_uri": "https://localhost:8080/",
          "height": 238
        },
        "id": "LsMtbfPa4Wju",
        "outputId": "f022e0c8-0438-4624-f821-e31c9cce4663"
      },
      "id": "LsMtbfPa4Wju",
      "execution_count": 22,
      "outputs": [
        {
          "output_type": "execute_result",
          "data": {
            "text/plain": [
              "work_year\n",
              "2023    1156\n",
              "2022    1125\n",
              "2021     228\n",
              "2020      75\n",
              "Name: count, dtype: int64"
            ],
            "text/html": [
              "<div>\n",
              "<style scoped>\n",
              "    .dataframe tbody tr th:only-of-type {\n",
              "        vertical-align: middle;\n",
              "    }\n",
              "\n",
              "    .dataframe tbody tr th {\n",
              "        vertical-align: top;\n",
              "    }\n",
              "\n",
              "    .dataframe thead th {\n",
              "        text-align: right;\n",
              "    }\n",
              "</style>\n",
              "<table border=\"1\" class=\"dataframe\">\n",
              "  <thead>\n",
              "    <tr style=\"text-align: right;\">\n",
              "      <th></th>\n",
              "      <th>count</th>\n",
              "    </tr>\n",
              "    <tr>\n",
              "      <th>work_year</th>\n",
              "      <th></th>\n",
              "    </tr>\n",
              "  </thead>\n",
              "  <tbody>\n",
              "    <tr>\n",
              "      <th>2023</th>\n",
              "      <td>1156</td>\n",
              "    </tr>\n",
              "    <tr>\n",
              "      <th>2022</th>\n",
              "      <td>1125</td>\n",
              "    </tr>\n",
              "    <tr>\n",
              "      <th>2021</th>\n",
              "      <td>228</td>\n",
              "    </tr>\n",
              "    <tr>\n",
              "      <th>2020</th>\n",
              "      <td>75</td>\n",
              "    </tr>\n",
              "  </tbody>\n",
              "</table>\n",
              "</div><br><label><b>dtype:</b> int64</label>"
            ]
          },
          "metadata": {},
          "execution_count": 22
        }
      ]
    },
    {
      "cell_type": "code",
      "source": [
        "df.groupby(['work_year', 'experience_level'])['salary_in_usd'].mean()"
      ],
      "metadata": {
        "colab": {
          "base_uri": "https://localhost:8080/",
          "height": 610
        },
        "id": "dncP382M5BMp",
        "outputId": "98bbe70e-d9ca-4f48-883a-683097759d41"
      },
      "id": "dncP382M5BMp",
      "execution_count": 23,
      "outputs": [
        {
          "output_type": "execute_result",
          "data": {
            "text/plain": [
              "work_year  experience_level\n",
              "2020       EN                   59512.454545\n",
              "           EX                  139944.333333\n",
              "           MI                   87564.718750\n",
              "           SE                  137240.500000\n",
              "2021       EN                   54905.254545\n",
              "           EX                  186128.000000\n",
              "           MI                   80711.377778\n",
              "           SE                  126085.356164\n",
              "2022       EN                   69949.945455\n",
              "           EX                  183837.743590\n",
              "           MI                   99578.621528\n",
              "           SE                  149572.658430\n",
              "2023       EN                   91464.915663\n",
              "           EX                  202107.340909\n",
              "           MI                  113659.740157\n",
              "           SE                  160743.310968\n",
              "Name: salary_in_usd, dtype: float64"
            ],
            "text/html": [
              "<div>\n",
              "<style scoped>\n",
              "    .dataframe tbody tr th:only-of-type {\n",
              "        vertical-align: middle;\n",
              "    }\n",
              "\n",
              "    .dataframe tbody tr th {\n",
              "        vertical-align: top;\n",
              "    }\n",
              "\n",
              "    .dataframe thead th {\n",
              "        text-align: right;\n",
              "    }\n",
              "</style>\n",
              "<table border=\"1\" class=\"dataframe\">\n",
              "  <thead>\n",
              "    <tr style=\"text-align: right;\">\n",
              "      <th></th>\n",
              "      <th></th>\n",
              "      <th>salary_in_usd</th>\n",
              "    </tr>\n",
              "    <tr>\n",
              "      <th>work_year</th>\n",
              "      <th>experience_level</th>\n",
              "      <th></th>\n",
              "    </tr>\n",
              "  </thead>\n",
              "  <tbody>\n",
              "    <tr>\n",
              "      <th rowspan=\"4\" valign=\"top\">2020</th>\n",
              "      <th>EN</th>\n",
              "      <td>59512.454545</td>\n",
              "    </tr>\n",
              "    <tr>\n",
              "      <th>EX</th>\n",
              "      <td>139944.333333</td>\n",
              "    </tr>\n",
              "    <tr>\n",
              "      <th>MI</th>\n",
              "      <td>87564.718750</td>\n",
              "    </tr>\n",
              "    <tr>\n",
              "      <th>SE</th>\n",
              "      <td>137240.500000</td>\n",
              "    </tr>\n",
              "    <tr>\n",
              "      <th rowspan=\"4\" valign=\"top\">2021</th>\n",
              "      <th>EN</th>\n",
              "      <td>54905.254545</td>\n",
              "    </tr>\n",
              "    <tr>\n",
              "      <th>EX</th>\n",
              "      <td>186128.000000</td>\n",
              "    </tr>\n",
              "    <tr>\n",
              "      <th>MI</th>\n",
              "      <td>80711.377778</td>\n",
              "    </tr>\n",
              "    <tr>\n",
              "      <th>SE</th>\n",
              "      <td>126085.356164</td>\n",
              "    </tr>\n",
              "    <tr>\n",
              "      <th rowspan=\"4\" valign=\"top\">2022</th>\n",
              "      <th>EN</th>\n",
              "      <td>69949.945455</td>\n",
              "    </tr>\n",
              "    <tr>\n",
              "      <th>EX</th>\n",
              "      <td>183837.743590</td>\n",
              "    </tr>\n",
              "    <tr>\n",
              "      <th>MI</th>\n",
              "      <td>99578.621528</td>\n",
              "    </tr>\n",
              "    <tr>\n",
              "      <th>SE</th>\n",
              "      <td>149572.658430</td>\n",
              "    </tr>\n",
              "    <tr>\n",
              "      <th rowspan=\"4\" valign=\"top\">2023</th>\n",
              "      <th>EN</th>\n",
              "      <td>91464.915663</td>\n",
              "    </tr>\n",
              "    <tr>\n",
              "      <th>EX</th>\n",
              "      <td>202107.340909</td>\n",
              "    </tr>\n",
              "    <tr>\n",
              "      <th>MI</th>\n",
              "      <td>113659.740157</td>\n",
              "    </tr>\n",
              "    <tr>\n",
              "      <th>SE</th>\n",
              "      <td>160743.310968</td>\n",
              "    </tr>\n",
              "  </tbody>\n",
              "</table>\n",
              "</div><br><label><b>dtype:</b> float64</label>"
            ]
          },
          "metadata": {},
          "execution_count": 23
        }
      ]
    },
    {
      "cell_type": "code",
      "source": [
        "df.job_title.unique().shape[0]"
      ],
      "metadata": {
        "id": "8z9EvO_fFwdV",
        "outputId": "fa64365a-715d-4bbe-cd2f-c3d775886663",
        "colab": {
          "base_uri": "https://localhost:8080/"
        }
      },
      "id": "8z9EvO_fFwdV",
      "execution_count": 41,
      "outputs": [
        {
          "output_type": "execute_result",
          "data": {
            "text/plain": [
              "93"
            ]
          },
          "metadata": {},
          "execution_count": 41
        }
      ]
    },
    {
      "cell_type": "markdown",
      "source": [
        "**Выводы:**\n",
        "1. Переменная salary в нац. валюте является лишней, поскольку разброс зарплаты в нац. валютах будет достаточно большой и малоинформативный.\n",
        "2. Между переменными salary_currency и employee_residence есть статистически значимая корреляция. Переменная salary_currency может быть удалена.\n",
        "3. Также сильно скоррелированы employee_residence и company_location. Считаю целесообразным оставить только employee_residence.\n",
        "4. Много категорий в следующих признаках: employee_residence, salary_currency, company_location, job_title\n",
        "5. Данные взяты за период 2020-2023, при этом 88% данных приходится на 2022-2023 год. Уровень зарплаты между годами может отличаться, учитывая инфляцию, разную конъюнктуру рынка."
      ],
      "metadata": {
        "id": "gGTP3b6VisJt"
      },
      "id": "gGTP3b6VisJt"
    },
    {
      "cell_type": "code",
      "source": [
        "df.drop(['salary_currency', 'company_location', 'salary'], axis=1, inplace=True)"
      ],
      "metadata": {
        "id": "58-KHHjT5vzT"
      },
      "id": "58-KHHjT5vzT",
      "execution_count": 24,
      "outputs": []
    },
    {
      "cell_type": "code",
      "source": [
        "df.head()"
      ],
      "metadata": {
        "colab": {
          "base_uri": "https://localhost:8080/",
          "height": 204
        },
        "id": "5nG7P5IH3-7g",
        "outputId": "c258334f-c6cf-4445-b36a-08ede4cddd98"
      },
      "id": "5nG7P5IH3-7g",
      "execution_count": 25,
      "outputs": [
        {
          "output_type": "execute_result",
          "data": {
            "text/plain": [
              "   work_year experience_level employment_type                 job_title  \\\n",
              "0       2023               SE              FT  Principal Data Scientist   \n",
              "1       2023               MI              CT               ML Engineer   \n",
              "2       2023               MI              CT               ML Engineer   \n",
              "3       2023               SE              FT            Data Scientist   \n",
              "4       2023               SE              FT            Data Scientist   \n",
              "\n",
              "   salary_in_usd employee_residence  remote_ratio company_size  \n",
              "0          85847                 ES           100            L  \n",
              "1          30000                 US           100            S  \n",
              "2          25500                 US           100            S  \n",
              "3         175000                 CA           100            M  \n",
              "4         120000                 CA           100            M  "
            ],
            "text/html": [
              "\n",
              "  <div id=\"df-450cfd9f-7bf4-412b-acbf-253d56331574\" class=\"colab-df-container\">\n",
              "    <div>\n",
              "<style scoped>\n",
              "    .dataframe tbody tr th:only-of-type {\n",
              "        vertical-align: middle;\n",
              "    }\n",
              "\n",
              "    .dataframe tbody tr th {\n",
              "        vertical-align: top;\n",
              "    }\n",
              "\n",
              "    .dataframe thead th {\n",
              "        text-align: right;\n",
              "    }\n",
              "</style>\n",
              "<table border=\"1\" class=\"dataframe\">\n",
              "  <thead>\n",
              "    <tr style=\"text-align: right;\">\n",
              "      <th></th>\n",
              "      <th>work_year</th>\n",
              "      <th>experience_level</th>\n",
              "      <th>employment_type</th>\n",
              "      <th>job_title</th>\n",
              "      <th>salary_in_usd</th>\n",
              "      <th>employee_residence</th>\n",
              "      <th>remote_ratio</th>\n",
              "      <th>company_size</th>\n",
              "    </tr>\n",
              "  </thead>\n",
              "  <tbody>\n",
              "    <tr>\n",
              "      <th>0</th>\n",
              "      <td>2023</td>\n",
              "      <td>SE</td>\n",
              "      <td>FT</td>\n",
              "      <td>Principal Data Scientist</td>\n",
              "      <td>85847</td>\n",
              "      <td>ES</td>\n",
              "      <td>100</td>\n",
              "      <td>L</td>\n",
              "    </tr>\n",
              "    <tr>\n",
              "      <th>1</th>\n",
              "      <td>2023</td>\n",
              "      <td>MI</td>\n",
              "      <td>CT</td>\n",
              "      <td>ML Engineer</td>\n",
              "      <td>30000</td>\n",
              "      <td>US</td>\n",
              "      <td>100</td>\n",
              "      <td>S</td>\n",
              "    </tr>\n",
              "    <tr>\n",
              "      <th>2</th>\n",
              "      <td>2023</td>\n",
              "      <td>MI</td>\n",
              "      <td>CT</td>\n",
              "      <td>ML Engineer</td>\n",
              "      <td>25500</td>\n",
              "      <td>US</td>\n",
              "      <td>100</td>\n",
              "      <td>S</td>\n",
              "    </tr>\n",
              "    <tr>\n",
              "      <th>3</th>\n",
              "      <td>2023</td>\n",
              "      <td>SE</td>\n",
              "      <td>FT</td>\n",
              "      <td>Data Scientist</td>\n",
              "      <td>175000</td>\n",
              "      <td>CA</td>\n",
              "      <td>100</td>\n",
              "      <td>M</td>\n",
              "    </tr>\n",
              "    <tr>\n",
              "      <th>4</th>\n",
              "      <td>2023</td>\n",
              "      <td>SE</td>\n",
              "      <td>FT</td>\n",
              "      <td>Data Scientist</td>\n",
              "      <td>120000</td>\n",
              "      <td>CA</td>\n",
              "      <td>100</td>\n",
              "      <td>M</td>\n",
              "    </tr>\n",
              "  </tbody>\n",
              "</table>\n",
              "</div>\n",
              "    <div class=\"colab-df-buttons\">\n",
              "\n",
              "  <div class=\"colab-df-container\">\n",
              "    <button class=\"colab-df-convert\" onclick=\"convertToInteractive('df-450cfd9f-7bf4-412b-acbf-253d56331574')\"\n",
              "            title=\"Convert this dataframe to an interactive table.\"\n",
              "            style=\"display:none;\">\n",
              "\n",
              "  <svg xmlns=\"http://www.w3.org/2000/svg\" height=\"24px\" viewBox=\"0 -960 960 960\">\n",
              "    <path d=\"M120-120v-720h720v720H120Zm60-500h600v-160H180v160Zm220 220h160v-160H400v160Zm0 220h160v-160H400v160ZM180-400h160v-160H180v160Zm440 0h160v-160H620v160ZM180-180h160v-160H180v160Zm440 0h160v-160H620v160Z\"/>\n",
              "  </svg>\n",
              "    </button>\n",
              "\n",
              "  <style>\n",
              "    .colab-df-container {\n",
              "      display:flex;\n",
              "      gap: 12px;\n",
              "    }\n",
              "\n",
              "    .colab-df-convert {\n",
              "      background-color: #E8F0FE;\n",
              "      border: none;\n",
              "      border-radius: 50%;\n",
              "      cursor: pointer;\n",
              "      display: none;\n",
              "      fill: #1967D2;\n",
              "      height: 32px;\n",
              "      padding: 0 0 0 0;\n",
              "      width: 32px;\n",
              "    }\n",
              "\n",
              "    .colab-df-convert:hover {\n",
              "      background-color: #E2EBFA;\n",
              "      box-shadow: 0px 1px 2px rgba(60, 64, 67, 0.3), 0px 1px 3px 1px rgba(60, 64, 67, 0.15);\n",
              "      fill: #174EA6;\n",
              "    }\n",
              "\n",
              "    .colab-df-buttons div {\n",
              "      margin-bottom: 4px;\n",
              "    }\n",
              "\n",
              "    [theme=dark] .colab-df-convert {\n",
              "      background-color: #3B4455;\n",
              "      fill: #D2E3FC;\n",
              "    }\n",
              "\n",
              "    [theme=dark] .colab-df-convert:hover {\n",
              "      background-color: #434B5C;\n",
              "      box-shadow: 0px 1px 3px 1px rgba(0, 0, 0, 0.15);\n",
              "      filter: drop-shadow(0px 1px 2px rgba(0, 0, 0, 0.3));\n",
              "      fill: #FFFFFF;\n",
              "    }\n",
              "  </style>\n",
              "\n",
              "    <script>\n",
              "      const buttonEl =\n",
              "        document.querySelector('#df-450cfd9f-7bf4-412b-acbf-253d56331574 button.colab-df-convert');\n",
              "      buttonEl.style.display =\n",
              "        google.colab.kernel.accessAllowed ? 'block' : 'none';\n",
              "\n",
              "      async function convertToInteractive(key) {\n",
              "        const element = document.querySelector('#df-450cfd9f-7bf4-412b-acbf-253d56331574');\n",
              "        const dataTable =\n",
              "          await google.colab.kernel.invokeFunction('convertToInteractive',\n",
              "                                                    [key], {});\n",
              "        if (!dataTable) return;\n",
              "\n",
              "        const docLinkHtml = 'Like what you see? Visit the ' +\n",
              "          '<a target=\"_blank\" href=https://colab.research.google.com/notebooks/data_table.ipynb>data table notebook</a>'\n",
              "          + ' to learn more about interactive tables.';\n",
              "        element.innerHTML = '';\n",
              "        dataTable['output_type'] = 'display_data';\n",
              "        await google.colab.output.renderOutput(dataTable, element);\n",
              "        const docLink = document.createElement('div');\n",
              "        docLink.innerHTML = docLinkHtml;\n",
              "        element.appendChild(docLink);\n",
              "      }\n",
              "    </script>\n",
              "  </div>\n",
              "\n",
              "\n",
              "<div id=\"df-4471c6f4-1801-4af5-9639-f4170945958f\">\n",
              "  <button class=\"colab-df-quickchart\" onclick=\"quickchart('df-4471c6f4-1801-4af5-9639-f4170945958f')\"\n",
              "            title=\"Suggest charts\"\n",
              "            style=\"display:none;\">\n",
              "\n",
              "<svg xmlns=\"http://www.w3.org/2000/svg\" height=\"24px\"viewBox=\"0 0 24 24\"\n",
              "     width=\"24px\">\n",
              "    <g>\n",
              "        <path d=\"M19 3H5c-1.1 0-2 .9-2 2v14c0 1.1.9 2 2 2h14c1.1 0 2-.9 2-2V5c0-1.1-.9-2-2-2zM9 17H7v-7h2v7zm4 0h-2V7h2v10zm4 0h-2v-4h2v4z\"/>\n",
              "    </g>\n",
              "</svg>\n",
              "  </button>\n",
              "\n",
              "<style>\n",
              "  .colab-df-quickchart {\n",
              "      --bg-color: #E8F0FE;\n",
              "      --fill-color: #1967D2;\n",
              "      --hover-bg-color: #E2EBFA;\n",
              "      --hover-fill-color: #174EA6;\n",
              "      --disabled-fill-color: #AAA;\n",
              "      --disabled-bg-color: #DDD;\n",
              "  }\n",
              "\n",
              "  [theme=dark] .colab-df-quickchart {\n",
              "      --bg-color: #3B4455;\n",
              "      --fill-color: #D2E3FC;\n",
              "      --hover-bg-color: #434B5C;\n",
              "      --hover-fill-color: #FFFFFF;\n",
              "      --disabled-bg-color: #3B4455;\n",
              "      --disabled-fill-color: #666;\n",
              "  }\n",
              "\n",
              "  .colab-df-quickchart {\n",
              "    background-color: var(--bg-color);\n",
              "    border: none;\n",
              "    border-radius: 50%;\n",
              "    cursor: pointer;\n",
              "    display: none;\n",
              "    fill: var(--fill-color);\n",
              "    height: 32px;\n",
              "    padding: 0;\n",
              "    width: 32px;\n",
              "  }\n",
              "\n",
              "  .colab-df-quickchart:hover {\n",
              "    background-color: var(--hover-bg-color);\n",
              "    box-shadow: 0 1px 2px rgba(60, 64, 67, 0.3), 0 1px 3px 1px rgba(60, 64, 67, 0.15);\n",
              "    fill: var(--button-hover-fill-color);\n",
              "  }\n",
              "\n",
              "  .colab-df-quickchart-complete:disabled,\n",
              "  .colab-df-quickchart-complete:disabled:hover {\n",
              "    background-color: var(--disabled-bg-color);\n",
              "    fill: var(--disabled-fill-color);\n",
              "    box-shadow: none;\n",
              "  }\n",
              "\n",
              "  .colab-df-spinner {\n",
              "    border: 2px solid var(--fill-color);\n",
              "    border-color: transparent;\n",
              "    border-bottom-color: var(--fill-color);\n",
              "    animation:\n",
              "      spin 1s steps(1) infinite;\n",
              "  }\n",
              "\n",
              "  @keyframes spin {\n",
              "    0% {\n",
              "      border-color: transparent;\n",
              "      border-bottom-color: var(--fill-color);\n",
              "      border-left-color: var(--fill-color);\n",
              "    }\n",
              "    20% {\n",
              "      border-color: transparent;\n",
              "      border-left-color: var(--fill-color);\n",
              "      border-top-color: var(--fill-color);\n",
              "    }\n",
              "    30% {\n",
              "      border-color: transparent;\n",
              "      border-left-color: var(--fill-color);\n",
              "      border-top-color: var(--fill-color);\n",
              "      border-right-color: var(--fill-color);\n",
              "    }\n",
              "    40% {\n",
              "      border-color: transparent;\n",
              "      border-right-color: var(--fill-color);\n",
              "      border-top-color: var(--fill-color);\n",
              "    }\n",
              "    60% {\n",
              "      border-color: transparent;\n",
              "      border-right-color: var(--fill-color);\n",
              "    }\n",
              "    80% {\n",
              "      border-color: transparent;\n",
              "      border-right-color: var(--fill-color);\n",
              "      border-bottom-color: var(--fill-color);\n",
              "    }\n",
              "    90% {\n",
              "      border-color: transparent;\n",
              "      border-bottom-color: var(--fill-color);\n",
              "    }\n",
              "  }\n",
              "</style>\n",
              "\n",
              "  <script>\n",
              "    async function quickchart(key) {\n",
              "      const quickchartButtonEl =\n",
              "        document.querySelector('#' + key + ' button');\n",
              "      quickchartButtonEl.disabled = true;  // To prevent multiple clicks.\n",
              "      quickchartButtonEl.classList.add('colab-df-spinner');\n",
              "      try {\n",
              "        const charts = await google.colab.kernel.invokeFunction(\n",
              "            'suggestCharts', [key], {});\n",
              "      } catch (error) {\n",
              "        console.error('Error during call to suggestCharts:', error);\n",
              "      }\n",
              "      quickchartButtonEl.classList.remove('colab-df-spinner');\n",
              "      quickchartButtonEl.classList.add('colab-df-quickchart-complete');\n",
              "    }\n",
              "    (() => {\n",
              "      let quickchartButtonEl =\n",
              "        document.querySelector('#df-4471c6f4-1801-4af5-9639-f4170945958f button');\n",
              "      quickchartButtonEl.style.display =\n",
              "        google.colab.kernel.accessAllowed ? 'block' : 'none';\n",
              "    })();\n",
              "  </script>\n",
              "</div>\n",
              "    </div>\n",
              "  </div>\n"
            ],
            "application/vnd.google.colaboratory.intrinsic+json": {
              "type": "dataframe",
              "variable_name": "df",
              "summary": "{\n  \"name\": \"df\",\n  \"rows\": 2584,\n  \"fields\": [\n    {\n      \"column\": \"work_year\",\n      \"properties\": {\n        \"dtype\": \"number\",\n        \"std\": 0,\n        \"min\": 2020,\n        \"max\": 2023,\n        \"num_unique_values\": 4,\n        \"samples\": [\n          2022,\n          2021,\n          2023\n        ],\n        \"semantic_type\": \"\",\n        \"description\": \"\"\n      }\n    },\n    {\n      \"column\": \"experience_level\",\n      \"properties\": {\n        \"dtype\": \"category\",\n        \"num_unique_values\": 4,\n        \"samples\": [\n          \"MI\",\n          \"EX\",\n          \"SE\"\n        ],\n        \"semantic_type\": \"\",\n        \"description\": \"\"\n      }\n    },\n    {\n      \"column\": \"employment_type\",\n      \"properties\": {\n        \"dtype\": \"category\",\n        \"num_unique_values\": 4,\n        \"samples\": [\n          \"CT\",\n          \"PT\",\n          \"FT\"\n        ],\n        \"semantic_type\": \"\",\n        \"description\": \"\"\n      }\n    },\n    {\n      \"column\": \"job_title\",\n      \"properties\": {\n        \"dtype\": \"category\",\n        \"num_unique_values\": 93,\n        \"samples\": [\n          \"Cloud Database Engineer\",\n          \"Staff Data Analyst\",\n          \"Insight Analyst\"\n        ],\n        \"semantic_type\": \"\",\n        \"description\": \"\"\n      }\n    },\n    {\n      \"column\": \"salary_in_usd\",\n      \"properties\": {\n        \"dtype\": \"number\",\n        \"std\": 67136,\n        \"min\": 5132,\n        \"max\": 450000,\n        \"num_unique_values\": 1035,\n        \"samples\": [\n          205600,\n          375000,\n          140700\n        ],\n        \"semantic_type\": \"\",\n        \"description\": \"\"\n      }\n    },\n    {\n      \"column\": \"employee_residence\",\n      \"properties\": {\n        \"dtype\": \"category\",\n        \"num_unique_values\": 78,\n        \"samples\": [\n          \"AR\",\n          \"ES\",\n          \"AM\"\n        ],\n        \"semantic_type\": \"\",\n        \"description\": \"\"\n      }\n    },\n    {\n      \"column\": \"remote_ratio\",\n      \"properties\": {\n        \"dtype\": \"number\",\n        \"std\": 48,\n        \"min\": 0,\n        \"max\": 100,\n        \"num_unique_values\": 3,\n        \"samples\": [\n          100,\n          0,\n          50\n        ],\n        \"semantic_type\": \"\",\n        \"description\": \"\"\n      }\n    },\n    {\n      \"column\": \"company_size\",\n      \"properties\": {\n        \"dtype\": \"category\",\n        \"num_unique_values\": 3,\n        \"samples\": [\n          \"L\",\n          \"S\",\n          \"M\"\n        ],\n        \"semantic_type\": \"\",\n        \"description\": \"\"\n      }\n    }\n  ]\n}"
            }
          },
          "metadata": {},
          "execution_count": 25
        }
      ]
    },
    {
      "cell_type": "markdown",
      "source": [
        "## **Задание 4 (0.2 балла)**\n",
        "\n",
        "Разделите выборку на train, test (80%, 20%)."
      ],
      "metadata": {
        "id": "RTS28VQy6Hz8"
      },
      "id": "RTS28VQy6Hz8"
    },
    {
      "cell_type": "code",
      "source": [
        "from sklearn.model_selection import train_test_split\n",
        "\n",
        "X = df.drop(['salary_in_usd'], axis=1)\n",
        "y = df.salary_in_usd\n",
        "\n",
        "X_train, X_test, y_train, y_test = train_test_split(X, y, test_size=0.2, random_state=42)"
      ],
      "metadata": {
        "id": "-PWyMQ1N6NAc"
      },
      "id": "-PWyMQ1N6NAc",
      "execution_count": 26,
      "outputs": []
    },
    {
      "cell_type": "markdown",
      "source": [
        "## **Задание 5 (0.3 балла)**\n",
        "\n",
        "Будем проверять два сценария. Первый — построение модели только на непрерывных признаках, а второй — построение с категориальными. В этом задании подготовьте всё, чтобы проверить валидность обоих сценариев. А именно:\n",
        "\n",
        "- Выделите данные для тренировки и теста для непрерывных признаков\n",
        "- Выделите данные для тренировки и теста для непрерывных + категориальных признаков, пока ничего не кодируйте."
      ],
      "metadata": {
        "id": "m2dNbigN52YC"
      },
      "id": "m2dNbigN52YC"
    },
    {
      "cell_type": "code",
      "source": [
        "X_train_num = X_train['work_year']\n",
        "X_test_num = X_test['work_year']"
      ],
      "metadata": {
        "id": "4i5DhaS87Sir"
      },
      "id": "4i5DhaS87Sir",
      "execution_count": 27,
      "outputs": []
    },
    {
      "cell_type": "markdown",
      "id": "f63cb01a",
      "metadata": {
        "id": "f63cb01a"
      },
      "source": [
        "## **Задание 6 (0.2 балла)**\n",
        "\n",
        "- Обучите модель линейной регресии на числовых признаках и оцените её качество через mape и rmse;\n",
        "- Сделайте вывод о качестве построенной модели;"
      ]
    },
    {
      "cell_type": "code",
      "source": [
        "from sklearn.linear_model import LinearRegression\n",
        "from sklearn.metrics import mean_squared_error\n",
        "\n",
        "lr = LinearRegression()\n",
        "\n",
        "lr.fit(X_train_num.values.reshape(-1, 1), y_train)\n",
        "y_pred_lr = lr.predict(X_test_num.values.reshape(-1, 1))\n",
        "\n",
        "mape = np.mean(np.abs((y_test - y_pred_lr) / y_test)) * 100\n",
        "rmse = np.sqrt(mean_squared_error(y_test, y_pred_lr))\n",
        "\n",
        "print(f'MAPE: {mape:.2f}%')\n",
        "print(f'RMSE: {rmse:.2f}')"
      ],
      "metadata": {
        "id": "7jdkJ8Ji7R_L",
        "colab": {
          "base_uri": "https://localhost:8080/"
        },
        "outputId": "0441c53b-91df-4831-c906-24c68eb8773e"
      },
      "id": "7jdkJ8Ji7R_L",
      "execution_count": 28,
      "outputs": [
        {
          "output_type": "stream",
          "name": "stdout",
          "text": [
            "MAPE: 82.79%\n",
            "RMSE: 63844.45\n"
          ]
        }
      ]
    },
    {
      "cell_type": "markdown",
      "source": [
        "В целом, учитывая наличие в модели только одной числовой фичи - год публикации вакансии, высокая доля относительной ошибки MAPE и низкое качество модели являются ожидаемыми. Вряд ли год публикации несет существенную смысловую нагрузку (поскольку з/п зависит от конъюнктуры рынка, инфляции и тп)"
      ],
      "metadata": {
        "id": "dQ6ntUIVG3rd"
      },
      "id": "dQ6ntUIVG3rd"
    },
    {
      "cell_type": "markdown",
      "id": "8bf8374f",
      "metadata": {
        "id": "8bf8374f"
      },
      "source": [
        "## **Задание 8 (0.2 балла)**\n",
        "\n",
        "- Обучите модель бустинга (любую из трех библиотек catboost, xgboost, lightgbm) с гиперпараметрами по умолчанию на непрерывных признаках и оцените её качество через mape и rmse;\n",
        "- Сделайте вывод о качестве построенной модели;"
      ]
    },
    {
      "cell_type": "code",
      "source": [
        "!pip install lightgbm -q"
      ],
      "metadata": {
        "id": "5vOPjwnZ7Pud"
      },
      "id": "5vOPjwnZ7Pud",
      "execution_count": 29,
      "outputs": []
    },
    {
      "cell_type": "code",
      "source": [
        "import lightgbm as lgb\n",
        "\n",
        "lgb_b = lgb.LGBMRegressor(verbose=-1)\n",
        "lgb_b.fit(X_train_num.values.reshape(-1, 1), y_train)\n",
        "\n",
        "y_pred_lgb = lgb_b.predict(X_test_num.values.reshape(-1, 1))\n",
        "\n",
        "mape = np.mean(np.abs((y_test - y_pred_lgb) / y_test)) * 100\n",
        "rmse = np.sqrt(mean_squared_error(y_test, y_pred_lgb))\n",
        "\n",
        "print(f'MAPE: {mape:.2f}%')\n",
        "print(f'RMSE: {rmse:.2f}')"
      ],
      "metadata": {
        "colab": {
          "base_uri": "https://localhost:8080/"
        },
        "id": "Ca2G0LHNHu3N",
        "outputId": "334d370b-1682-44f5-9bba-01f98dca4cbb"
      },
      "id": "Ca2G0LHNHu3N",
      "execution_count": 30,
      "outputs": [
        {
          "output_type": "stream",
          "name": "stderr",
          "text": [
            "/usr/local/lib/python3.11/dist-packages/dask/dataframe/__init__.py:42: FutureWarning: \n",
            "Dask dataframe query planning is disabled because dask-expr is not installed.\n",
            "\n",
            "You can install it with `pip install dask[dataframe]` or `conda install dask`.\n",
            "This will raise in a future version.\n",
            "\n",
            "  warnings.warn(msg, FutureWarning)\n"
          ]
        },
        {
          "output_type": "stream",
          "name": "stdout",
          "text": [
            "MAPE: 80.84%\n",
            "RMSE: 63558.49\n"
          ]
        },
        {
          "output_type": "stream",
          "name": "stderr",
          "text": [
            "/usr/local/lib/python3.11/dist-packages/sklearn/utils/deprecation.py:151: FutureWarning: 'force_all_finite' was renamed to 'ensure_all_finite' in 1.6 and will be removed in 1.8.\n",
            "  warnings.warn(\n",
            "/usr/local/lib/python3.11/dist-packages/sklearn/utils/deprecation.py:151: FutureWarning: 'force_all_finite' was renamed to 'ensure_all_finite' in 1.6 and will be removed in 1.8.\n",
            "  warnings.warn(\n"
          ]
        }
      ]
    },
    {
      "cell_type": "markdown",
      "source": [
        "Качество незначительно улучшилось, однако все равно остается низким. Необходимо использование категориальных фичей."
      ],
      "metadata": {
        "id": "euX1qlkHTVCv"
      },
      "id": "euX1qlkHTVCv"
    },
    {
      "cell_type": "markdown",
      "id": "17b76f89",
      "metadata": {
        "id": "17b76f89"
      },
      "source": [
        "## **Задание 9 (0.8 балла)**\n",
        "\n",
        "Теперь подключим категориальные признаки. Но попроубем разные стратегии предобработки.\n",
        "\n",
        "**1:**\n",
        "- Предобработайте категориальные признаки при помощи OHE\n",
        "- Постройте модель бустинга и линейную регрессию\n",
        "- Оцените качество обеих моделей\n",
        "\n",
        "**2:**\n",
        "- Предобработайте категориальные признаки при помощи LabelEncoding\n",
        "- Постройте модель бустинга и линейную регрессию\n",
        "- Оцените качество обеих моделей\n",
        "\n",
        "**3:**\n",
        "- Предобработайте категориальные признаки при помощи MeanTargetEnc\n",
        "- Постройте модель бустинга и линейную регрессию\n",
        "- Оцените качество обеих моделей\n",
        "\n",
        "Сделайте выводы по построениям 1-3. Выберите лучшую модель и дальше поработайте с ней."
      ]
    },
    {
      "cell_type": "markdown",
      "source": [
        "**Задача 1**"
      ],
      "metadata": {
        "id": "hYfdWbHkFl3N"
      },
      "id": "hYfdWbHkFl3N"
    },
    {
      "cell_type": "code",
      "source": [
        "from sklearn.compose import ColumnTransformer\n",
        "from sklearn.preprocessing import OneHotEncoder\n",
        "from sklearn.pipeline import Pipeline\n",
        "\n",
        "categorical_features = ['experience_level', 'employment_type', 'job_title',\n",
        "                        'employee_residence', 'remote_ratio', 'company_size']\n",
        "\n",
        "column_transformer = ColumnTransformer(\n",
        "    transformers=[\n",
        "        ('cat', OneHotEncoder(drop='first', handle_unknown='ignore'), categorical_features)\n",
        "    ],\n",
        "    remainder='passthrough'\n",
        ")\n",
        "\n",
        "pipeline_lr = Pipeline(steps=[\n",
        "    ('preprocessor', column_transformer),\n",
        "    ('model', LinearRegression())\n",
        "])\n",
        "\n",
        "pipeline_lgbm = Pipeline(steps=[\n",
        "    ('preprocessor', column_transformer),\n",
        "    ('model', lgb.LGBMRegressor(verbose=-1))\n",
        "])\n",
        "\n",
        "pipeline_lr.fit(X_train, y_train)\n",
        "\n",
        "y_pred_lr = pipeline_lr.predict(X_test)\n",
        "\n",
        "pipeline_lgbm.fit(X_train, y_train)\n",
        "\n",
        "y_pred_lgb = pipeline_lgbm.predict(X_test)\n",
        "\n",
        "mape_lr = np.mean(np.abs((y_test - y_pred_lr) / y_test)) * 100\n",
        "rmse_lr = np.sqrt(mean_squared_error(y_test, y_pred_lr))\n",
        "\n",
        "mape_gbm = np.mean(np.abs((y_test - y_pred_lgb) / y_test)) * 100\n",
        "rmse_gbm = np.sqrt(mean_squared_error(y_test, y_pred_lgb))\n",
        "\n",
        "print(f'MAPE (линейная регрессия): {mape_lr:.2f}%')\n",
        "print(f'RMSE (линейная регрессия): {rmse_lr:.2f}')\n",
        "print(f'MAPE (LGBM): {mape_gbm:.2f}%')\n",
        "print(f'RMSE (LGBM): {rmse_gbm:.2f}')"
      ],
      "metadata": {
        "id": "jydpMYVO8GfK",
        "colab": {
          "base_uri": "https://localhost:8080/"
        },
        "outputId": "e92c8cef-8996-4757-ba28-1453e200c839"
      },
      "id": "jydpMYVO8GfK",
      "execution_count": 36,
      "outputs": [
        {
          "output_type": "stream",
          "name": "stderr",
          "text": [
            "/usr/local/lib/python3.11/dist-packages/sklearn/preprocessing/_encoders.py:246: UserWarning: Found unknown categories in columns [2, 3] during transform. These unknown categories will be encoded as all zeros\n",
            "  warnings.warn(\n",
            "/usr/local/lib/python3.11/dist-packages/sklearn/utils/deprecation.py:151: FutureWarning: 'force_all_finite' was renamed to 'ensure_all_finite' in 1.6 and will be removed in 1.8.\n",
            "  warnings.warn(\n"
          ]
        },
        {
          "output_type": "stream",
          "name": "stdout",
          "text": [
            "MAPE (линейная регрессия): 40.94%\n",
            "RMSE (линейная регрессия): 50535.79\n",
            "MAPE (LGBM): 44.67%\n",
            "RMSE (LGBM): 53518.92\n"
          ]
        },
        {
          "output_type": "stream",
          "name": "stderr",
          "text": [
            "/usr/local/lib/python3.11/dist-packages/sklearn/preprocessing/_encoders.py:246: UserWarning: Found unknown categories in columns [2, 3] during transform. These unknown categories will be encoded as all zeros\n",
            "  warnings.warn(\n",
            "/usr/local/lib/python3.11/dist-packages/sklearn/utils/deprecation.py:151: FutureWarning: 'force_all_finite' was renamed to 'ensure_all_finite' in 1.6 and will be removed in 1.8.\n",
            "  warnings.warn(\n"
          ]
        }
      ]
    },
    {
      "cell_type": "markdown",
      "source": [
        "Использование категорийный признаков OHE существенно улучшило модель и почти в 2 раза снизило MAPE."
      ],
      "metadata": {
        "id": "3h26kLN8Frmq"
      },
      "id": "3h26kLN8Frmq"
    },
    {
      "cell_type": "markdown",
      "source": [
        "**Задача 2**"
      ],
      "metadata": {
        "id": "ehCYKKJjIbsF"
      },
      "id": "ehCYKKJjIbsF"
    },
    {
      "cell_type": "code",
      "source": [
        "from sklearn.preprocessing import LabelEncoder\n",
        "\n",
        "def encode_labels(X):\n",
        "    for col in categorical_features:\n",
        "        le = LabelEncoder()\n",
        "        X[col] = le.fit_transform(X[col])\n",
        "    return X\n",
        "\n",
        "X_train_encoded = encode_labels(X_train.copy())\n",
        "X_test_encoded = encode_labels(X_test.copy())\n",
        "\n",
        "pipeline_lr = Pipeline(steps=[\n",
        "    ('model', LinearRegression())\n",
        "])\n",
        "\n",
        "pipeline_lgbm = Pipeline(steps=[\n",
        "    ('model', lgb.LGBMRegressor(verbose=-1))\n",
        "])\n",
        "\n",
        "pipeline_lr.fit(X_train_encoded, y_train)\n",
        "y_pred_lr = pipeline_lr.predict(X_test_encoded)\n",
        "\n",
        "pipeline_lgbm.fit(X_train_encoded, y_train)\n",
        "y_pred_lgb = pipeline_lgbm.predict(X_test_encoded)\n",
        "\n",
        "mape_lr = np.mean(np.abs((y_test - y_pred_lr) / y_test)) * 100\n",
        "rmse_lr = np.sqrt(mean_squared_error(y_test, y_pred_lr))\n",
        "\n",
        "mape_gbm = np.mean(np.abs((y_test - y_pred_lgb) / y_test)) * 100\n",
        "rmse_gbm = np.sqrt(mean_squared_error(y_test, y_pred_lgb))\n",
        "\n",
        "print(f'MAPE (линейная регрессия): {mape_lr:.2f}%')\n",
        "print(f'RMSE (линейная регрессия): {rmse_lr:.2f}')\n",
        "print(f'MAPE (LGBM): {mape_gbm:.2f}%')\n",
        "print(f'RMSE (LGBM): {rmse_gbm:.2f}')"
      ],
      "metadata": {
        "id": "pyskhoXtH2hx",
        "outputId": "af682de2-bfbb-44a3-b54e-426b658cfc6f",
        "colab": {
          "base_uri": "https://localhost:8080/"
        }
      },
      "id": "pyskhoXtH2hx",
      "execution_count": 42,
      "outputs": [
        {
          "output_type": "stream",
          "name": "stdout",
          "text": [
            "MAPE (линейная регрессия): 46.69%\n",
            "RMSE (линейная регрессия): 74341.70\n",
            "MAPE (LGBM): 61.47%\n",
            "RMSE (LGBM): 79742.09\n"
          ]
        }
      ]
    },
    {
      "cell_type": "markdown",
      "source": [
        "Качество моделей ухудшилось по сравнению с OHE как для линейной регресисии, так и для LGBM"
      ],
      "metadata": {
        "id": "-zUfdtHBIFrh"
      },
      "id": "-zUfdtHBIFrh"
    },
    {
      "cell_type": "code",
      "source": [
        "!pip install category_encoders -q"
      ],
      "metadata": {
        "id": "MYiCUjLuJflX",
        "outputId": "d2a3ee48-0588-4874-d127-a4470340feb3",
        "colab": {
          "base_uri": "https://localhost:8080/"
        }
      },
      "id": "MYiCUjLuJflX",
      "execution_count": 44,
      "outputs": [
        {
          "output_type": "stream",
          "name": "stdout",
          "text": [
            "Collecting category_encoders\n",
            "  Downloading category_encoders-2.8.0-py3-none-any.whl.metadata (7.9 kB)\n",
            "Requirement already satisfied: numpy>=1.14.0 in /usr/local/lib/python3.11/dist-packages (from category_encoders) (1.26.4)\n",
            "Requirement already satisfied: pandas>=1.0.5 in /usr/local/lib/python3.11/dist-packages (from category_encoders) (2.2.2)\n",
            "Requirement already satisfied: patsy>=0.5.1 in /usr/local/lib/python3.11/dist-packages (from category_encoders) (1.0.1)\n",
            "Requirement already satisfied: scikit-learn>=1.6.0 in /usr/local/lib/python3.11/dist-packages (from category_encoders) (1.6.1)\n",
            "Requirement already satisfied: scipy>=1.0.0 in /usr/local/lib/python3.11/dist-packages (from category_encoders) (1.13.1)\n",
            "Requirement already satisfied: statsmodels>=0.9.0 in /usr/local/lib/python3.11/dist-packages (from category_encoders) (0.14.4)\n",
            "Requirement already satisfied: python-dateutil>=2.8.2 in /usr/local/lib/python3.11/dist-packages (from pandas>=1.0.5->category_encoders) (2.8.2)\n",
            "Requirement already satisfied: pytz>=2020.1 in /usr/local/lib/python3.11/dist-packages (from pandas>=1.0.5->category_encoders) (2025.1)\n",
            "Requirement already satisfied: tzdata>=2022.7 in /usr/local/lib/python3.11/dist-packages (from pandas>=1.0.5->category_encoders) (2025.1)\n",
            "Requirement already satisfied: joblib>=1.2.0 in /usr/local/lib/python3.11/dist-packages (from scikit-learn>=1.6.0->category_encoders) (1.4.2)\n",
            "Requirement already satisfied: threadpoolctl>=3.1.0 in /usr/local/lib/python3.11/dist-packages (from scikit-learn>=1.6.0->category_encoders) (3.5.0)\n",
            "Requirement already satisfied: packaging>=21.3 in /usr/local/lib/python3.11/dist-packages (from statsmodels>=0.9.0->category_encoders) (24.2)\n",
            "Requirement already satisfied: six>=1.5 in /usr/local/lib/python3.11/dist-packages (from python-dateutil>=2.8.2->pandas>=1.0.5->category_encoders) (1.17.0)\n",
            "Downloading category_encoders-2.8.0-py3-none-any.whl (85 kB)\n",
            "\u001b[2K   \u001b[90m━━━━━━━━━━━━━━━━━━━━━━━━━━━━━━━━━━━━━━━━\u001b[0m \u001b[32m85.7/85.7 kB\u001b[0m \u001b[31m2.1 MB/s\u001b[0m eta \u001b[36m0:00:00\u001b[0m\n",
            "\u001b[?25hInstalling collected packages: category_encoders\n",
            "Successfully installed category_encoders-2.8.0\n"
          ]
        }
      ]
    },
    {
      "cell_type": "code",
      "source": [
        "import category_encoders as ce\n",
        "\n",
        "pipeline_lr = Pipeline(steps=[\n",
        "    ('encoder', ce.TargetEncoder(cols=categorical_features)),\n",
        "    ('model', LinearRegression())\n",
        "])\n",
        "\n",
        "pipeline_lgbm = Pipeline(steps=[\n",
        "    ('encoder', ce.TargetEncoder(cols=categorical_features)),\n",
        "    ('model', lgb.LGBMRegressor(verbose=-1))\n",
        "])\n",
        "\n",
        "pipeline_lr.fit(X_train, y_train)\n",
        "y_pred_lr = pipeline_lr.predict(X_test)\n",
        "\n",
        "pipeline_lgbm.fit(X_train, y_train)\n",
        "y_pred_lgb = pipeline_lgbm.predict(X_test)\n",
        "\n",
        "mape_lr = np.mean(np.abs((y_test - y_pred_lr) / y_test)) * 100\n",
        "rmse_lr = np.sqrt(mean_squared_error(y_test, y_pred_lr))\n",
        "\n",
        "mape_gbm = np.mean(np.abs((y_test - y_pred_lgb) / y_test)) * 100\n",
        "rmse_gbm = np.sqrt(mean_squared_error(y_test, y_pred_lgb))\n",
        "\n",
        "print(f'MAPE (линейная регрессия): {mape_lr:.2f}%')\n",
        "print(f'RMSE (линейная регрессия): {rmse_lr:.2f}')\n",
        "print(f'MAPE (LGBM): {mape_gbm:.2f}%')\n",
        "print(f'RMSE (LGBM): {rmse_gbm:.2f}')"
      ],
      "metadata": {
        "id": "-0M3VgKzIx0y",
        "outputId": "3c1c8c2e-944d-4a39-a29d-46022a36c965",
        "colab": {
          "base_uri": "https://localhost:8080/"
        }
      },
      "id": "-0M3VgKzIx0y",
      "execution_count": 45,
      "outputs": [
        {
          "output_type": "stream",
          "name": "stdout",
          "text": [
            "MAPE (линейная регрессия): 46.27%\n",
            "RMSE (линейная регрессия): 52521.08\n",
            "MAPE (LGBM): 43.90%\n",
            "RMSE (LGBM): 52425.32\n"
          ]
        }
      ]
    },
    {
      "cell_type": "markdown",
      "source": [
        "TargetEncoder дает лучшие результаты для градиентного бустинга. Лучший подход для линейной регрессии - OHE"
      ],
      "metadata": {
        "id": "Xu4GQauoJl-z"
      },
      "id": "Xu4GQauoJl-z"
    },
    {
      "cell_type": "markdown",
      "source": [
        "Наилучший результат показала модель линейной регрессии на OHE. Таким образом далее будет использована она."
      ],
      "metadata": {
        "id": "DBJSzuxBJ4Hv"
      },
      "id": "DBJSzuxBJ4Hv"
    },
    {
      "cell_type": "markdown",
      "id": "119b89f1",
      "metadata": {
        "id": "119b89f1"
      },
      "source": [
        "## **Задание 10 (0.5 балла)**\n",
        "\n",
        "Покажите, где ошибается ваша модель. Выведите топ 20 примеров с наибольшей ошибкой. Проанализируйте их. Какие выводы можно сделать? Что стоит изменить в данных чтобы улучшить качество модели?"
      ]
    },
    {
      "cell_type": "code",
      "source": [
        "column_transformer = ColumnTransformer(\n",
        "    transformers=[\n",
        "        ('cat', OneHotEncoder(drop='first', handle_unknown='ignore'), categorical_features)\n",
        "    ],\n",
        "    remainder='passthrough'\n",
        ")\n",
        "\n",
        "pipeline_lr = Pipeline(steps=[\n",
        "    ('preprocessor', column_transformer),\n",
        "    ('model', LinearRegression())\n",
        "])\n",
        "\n",
        "pipeline_lr.fit(X_train, y_train)\n",
        "\n",
        "y_pred_lr = pipeline_lr.predict(X_test)\n",
        "\n",
        "\n",
        "diff = abs(y_test - y_pred_lr)\n",
        "errors = X_test.copy()\n",
        "errors['true_salary'] = y_test\n",
        "errors['prediction'] = y_pred_lr\n",
        "errors['diff'] = diff\n",
        "errors['prediction'] = errors['prediction'].apply(lambda x: int(x))\n",
        "errors['diff'] = errors['diff'].apply(lambda x: int(x))\n",
        "errors.sort_values(by='diff', ascending=False).head(20)"
      ],
      "metadata": {
        "id": "rfINOy6o8SvL",
        "colab": {
          "base_uri": "https://localhost:8080/",
          "height": 774
        },
        "outputId": "96e5bedd-6ca8-4dd2-d9e6-8444dea8a6cf"
      },
      "id": "rfINOy6o8SvL",
      "execution_count": 55,
      "outputs": [
        {
          "output_type": "stream",
          "name": "stderr",
          "text": [
            "/usr/local/lib/python3.11/dist-packages/sklearn/preprocessing/_encoders.py:246: UserWarning: Found unknown categories in columns [2, 3] during transform. These unknown categories will be encoded as all zeros\n",
            "  warnings.warn(\n"
          ]
        },
        {
          "output_type": "execute_result",
          "data": {
            "text/plain": [
              "      work_year experience_level employment_type  \\\n",
              "2011       2022               MI              FT   \n",
              "1288       2023               SE              FT   \n",
              "2406       2022               SE              FT   \n",
              "3155       2022               MI              FT   \n",
              "1695       2023               SE              FT   \n",
              "1247       2023               SE              FT   \n",
              "660        2023               SE              FT   \n",
              "1647       2023               SE              FT   \n",
              "1847       2022               MI              FT   \n",
              "3545       2020               EN              FT   \n",
              "801        2023               SE              FT   \n",
              "76         2023               SE              FT   \n",
              "849        2023               MI              FT   \n",
              "1185       2023               SE              FT   \n",
              "44         2023               SE              FT   \n",
              "1605       2023               EX              FT   \n",
              "3342       2022               SE              FT   \n",
              "2187       2022               MI              FT   \n",
              "48         2023               SE              FT   \n",
              "1037       2023               SE              FT   \n",
              "\n",
              "                               job_title employee_residence  remote_ratio  \\\n",
              "2011                        Data Analyst                 GB             0   \n",
              "1288                        Data Analyst                 US             0   \n",
              "2406                       Data Engineer                 US           100   \n",
              "3155                        AI Scientist                 IN           100   \n",
              "1695                   Applied Scientist                 US             0   \n",
              "1247                  Research Scientist                 ES             0   \n",
              "660   Applied Machine Learning Scientist                 US           100   \n",
              "1647                       Data Engineer                 US             0   \n",
              "1847                       Data Engineer                 US             0   \n",
              "3545           Machine Learning Engineer                 US            50   \n",
              "801                         Data Analyst                 US           100   \n",
              "76                        Data Architect                 US           100   \n",
              "849                        Data Engineer                 US             0   \n",
              "1185           Machine Learning Engineer                 US           100   \n",
              "44                         Data Engineer                 US             0   \n",
              "1605                      Data Scientist                 US             0   \n",
              "3342                      Data Architect                 US           100   \n",
              "2187                        Data Analyst                 US             0   \n",
              "48                        Data Scientist                 US           100   \n",
              "1037                       Data Engineer                 US             0   \n",
              "\n",
              "     company_size  true_salary  prediction    diff  \n",
              "2011            M       430967       51082  379884  \n",
              "1288            M       385000      132589  252410  \n",
              "2406            M       315000      158162  156837  \n",
              "3155            L       200000       50185  149814  \n",
              "1695            L        72000      216510  144510  \n",
              "1247            M       253750      111410  142339  \n",
              "660             L        90000      221285  131285  \n",
              "1647            M       291500      164188  127311  \n",
              "1847            M       260000      135740  124259  \n",
              "3545            L       250000      126618  123381  \n",
              "801             M       250000      129501  120498  \n",
              "76              M       280100      167029  113070  \n",
              "849             M       250000      138678  111321  \n",
              "1185            M       288000      179968  108031  \n",
              "44              M       270703      164188  106514  \n",
              "1605            M       300000      196371  103628  \n",
              "3342            M       266400      164091  102308  \n",
              "2187            M       206000      104141  101858  \n",
              "48              M       262000      161723  100276  \n",
              "1037            M        65000      164188   99188  "
            ],
            "text/html": [
              "\n",
              "  <div id=\"df-1ffccc48-4cbf-453e-b486-71e92ccb6bd2\" class=\"colab-df-container\">\n",
              "    <div>\n",
              "<style scoped>\n",
              "    .dataframe tbody tr th:only-of-type {\n",
              "        vertical-align: middle;\n",
              "    }\n",
              "\n",
              "    .dataframe tbody tr th {\n",
              "        vertical-align: top;\n",
              "    }\n",
              "\n",
              "    .dataframe thead th {\n",
              "        text-align: right;\n",
              "    }\n",
              "</style>\n",
              "<table border=\"1\" class=\"dataframe\">\n",
              "  <thead>\n",
              "    <tr style=\"text-align: right;\">\n",
              "      <th></th>\n",
              "      <th>work_year</th>\n",
              "      <th>experience_level</th>\n",
              "      <th>employment_type</th>\n",
              "      <th>job_title</th>\n",
              "      <th>employee_residence</th>\n",
              "      <th>remote_ratio</th>\n",
              "      <th>company_size</th>\n",
              "      <th>true_salary</th>\n",
              "      <th>prediction</th>\n",
              "      <th>diff</th>\n",
              "    </tr>\n",
              "  </thead>\n",
              "  <tbody>\n",
              "    <tr>\n",
              "      <th>2011</th>\n",
              "      <td>2022</td>\n",
              "      <td>MI</td>\n",
              "      <td>FT</td>\n",
              "      <td>Data Analyst</td>\n",
              "      <td>GB</td>\n",
              "      <td>0</td>\n",
              "      <td>M</td>\n",
              "      <td>430967</td>\n",
              "      <td>51082</td>\n",
              "      <td>379884</td>\n",
              "    </tr>\n",
              "    <tr>\n",
              "      <th>1288</th>\n",
              "      <td>2023</td>\n",
              "      <td>SE</td>\n",
              "      <td>FT</td>\n",
              "      <td>Data Analyst</td>\n",
              "      <td>US</td>\n",
              "      <td>0</td>\n",
              "      <td>M</td>\n",
              "      <td>385000</td>\n",
              "      <td>132589</td>\n",
              "      <td>252410</td>\n",
              "    </tr>\n",
              "    <tr>\n",
              "      <th>2406</th>\n",
              "      <td>2022</td>\n",
              "      <td>SE</td>\n",
              "      <td>FT</td>\n",
              "      <td>Data Engineer</td>\n",
              "      <td>US</td>\n",
              "      <td>100</td>\n",
              "      <td>M</td>\n",
              "      <td>315000</td>\n",
              "      <td>158162</td>\n",
              "      <td>156837</td>\n",
              "    </tr>\n",
              "    <tr>\n",
              "      <th>3155</th>\n",
              "      <td>2022</td>\n",
              "      <td>MI</td>\n",
              "      <td>FT</td>\n",
              "      <td>AI Scientist</td>\n",
              "      <td>IN</td>\n",
              "      <td>100</td>\n",
              "      <td>L</td>\n",
              "      <td>200000</td>\n",
              "      <td>50185</td>\n",
              "      <td>149814</td>\n",
              "    </tr>\n",
              "    <tr>\n",
              "      <th>1695</th>\n",
              "      <td>2023</td>\n",
              "      <td>SE</td>\n",
              "      <td>FT</td>\n",
              "      <td>Applied Scientist</td>\n",
              "      <td>US</td>\n",
              "      <td>0</td>\n",
              "      <td>L</td>\n",
              "      <td>72000</td>\n",
              "      <td>216510</td>\n",
              "      <td>144510</td>\n",
              "    </tr>\n",
              "    <tr>\n",
              "      <th>1247</th>\n",
              "      <td>2023</td>\n",
              "      <td>SE</td>\n",
              "      <td>FT</td>\n",
              "      <td>Research Scientist</td>\n",
              "      <td>ES</td>\n",
              "      <td>0</td>\n",
              "      <td>M</td>\n",
              "      <td>253750</td>\n",
              "      <td>111410</td>\n",
              "      <td>142339</td>\n",
              "    </tr>\n",
              "    <tr>\n",
              "      <th>660</th>\n",
              "      <td>2023</td>\n",
              "      <td>SE</td>\n",
              "      <td>FT</td>\n",
              "      <td>Applied Machine Learning Scientist</td>\n",
              "      <td>US</td>\n",
              "      <td>100</td>\n",
              "      <td>L</td>\n",
              "      <td>90000</td>\n",
              "      <td>221285</td>\n",
              "      <td>131285</td>\n",
              "    </tr>\n",
              "    <tr>\n",
              "      <th>1647</th>\n",
              "      <td>2023</td>\n",
              "      <td>SE</td>\n",
              "      <td>FT</td>\n",
              "      <td>Data Engineer</td>\n",
              "      <td>US</td>\n",
              "      <td>0</td>\n",
              "      <td>M</td>\n",
              "      <td>291500</td>\n",
              "      <td>164188</td>\n",
              "      <td>127311</td>\n",
              "    </tr>\n",
              "    <tr>\n",
              "      <th>1847</th>\n",
              "      <td>2022</td>\n",
              "      <td>MI</td>\n",
              "      <td>FT</td>\n",
              "      <td>Data Engineer</td>\n",
              "      <td>US</td>\n",
              "      <td>0</td>\n",
              "      <td>M</td>\n",
              "      <td>260000</td>\n",
              "      <td>135740</td>\n",
              "      <td>124259</td>\n",
              "    </tr>\n",
              "    <tr>\n",
              "      <th>3545</th>\n",
              "      <td>2020</td>\n",
              "      <td>EN</td>\n",
              "      <td>FT</td>\n",
              "      <td>Machine Learning Engineer</td>\n",
              "      <td>US</td>\n",
              "      <td>50</td>\n",
              "      <td>L</td>\n",
              "      <td>250000</td>\n",
              "      <td>126618</td>\n",
              "      <td>123381</td>\n",
              "    </tr>\n",
              "    <tr>\n",
              "      <th>801</th>\n",
              "      <td>2023</td>\n",
              "      <td>SE</td>\n",
              "      <td>FT</td>\n",
              "      <td>Data Analyst</td>\n",
              "      <td>US</td>\n",
              "      <td>100</td>\n",
              "      <td>M</td>\n",
              "      <td>250000</td>\n",
              "      <td>129501</td>\n",
              "      <td>120498</td>\n",
              "    </tr>\n",
              "    <tr>\n",
              "      <th>76</th>\n",
              "      <td>2023</td>\n",
              "      <td>SE</td>\n",
              "      <td>FT</td>\n",
              "      <td>Data Architect</td>\n",
              "      <td>US</td>\n",
              "      <td>100</td>\n",
              "      <td>M</td>\n",
              "      <td>280100</td>\n",
              "      <td>167029</td>\n",
              "      <td>113070</td>\n",
              "    </tr>\n",
              "    <tr>\n",
              "      <th>849</th>\n",
              "      <td>2023</td>\n",
              "      <td>MI</td>\n",
              "      <td>FT</td>\n",
              "      <td>Data Engineer</td>\n",
              "      <td>US</td>\n",
              "      <td>0</td>\n",
              "      <td>M</td>\n",
              "      <td>250000</td>\n",
              "      <td>138678</td>\n",
              "      <td>111321</td>\n",
              "    </tr>\n",
              "    <tr>\n",
              "      <th>1185</th>\n",
              "      <td>2023</td>\n",
              "      <td>SE</td>\n",
              "      <td>FT</td>\n",
              "      <td>Machine Learning Engineer</td>\n",
              "      <td>US</td>\n",
              "      <td>100</td>\n",
              "      <td>M</td>\n",
              "      <td>288000</td>\n",
              "      <td>179968</td>\n",
              "      <td>108031</td>\n",
              "    </tr>\n",
              "    <tr>\n",
              "      <th>44</th>\n",
              "      <td>2023</td>\n",
              "      <td>SE</td>\n",
              "      <td>FT</td>\n",
              "      <td>Data Engineer</td>\n",
              "      <td>US</td>\n",
              "      <td>0</td>\n",
              "      <td>M</td>\n",
              "      <td>270703</td>\n",
              "      <td>164188</td>\n",
              "      <td>106514</td>\n",
              "    </tr>\n",
              "    <tr>\n",
              "      <th>1605</th>\n",
              "      <td>2023</td>\n",
              "      <td>EX</td>\n",
              "      <td>FT</td>\n",
              "      <td>Data Scientist</td>\n",
              "      <td>US</td>\n",
              "      <td>0</td>\n",
              "      <td>M</td>\n",
              "      <td>300000</td>\n",
              "      <td>196371</td>\n",
              "      <td>103628</td>\n",
              "    </tr>\n",
              "    <tr>\n",
              "      <th>3342</th>\n",
              "      <td>2022</td>\n",
              "      <td>SE</td>\n",
              "      <td>FT</td>\n",
              "      <td>Data Architect</td>\n",
              "      <td>US</td>\n",
              "      <td>100</td>\n",
              "      <td>M</td>\n",
              "      <td>266400</td>\n",
              "      <td>164091</td>\n",
              "      <td>102308</td>\n",
              "    </tr>\n",
              "    <tr>\n",
              "      <th>2187</th>\n",
              "      <td>2022</td>\n",
              "      <td>MI</td>\n",
              "      <td>FT</td>\n",
              "      <td>Data Analyst</td>\n",
              "      <td>US</td>\n",
              "      <td>0</td>\n",
              "      <td>M</td>\n",
              "      <td>206000</td>\n",
              "      <td>104141</td>\n",
              "      <td>101858</td>\n",
              "    </tr>\n",
              "    <tr>\n",
              "      <th>48</th>\n",
              "      <td>2023</td>\n",
              "      <td>SE</td>\n",
              "      <td>FT</td>\n",
              "      <td>Data Scientist</td>\n",
              "      <td>US</td>\n",
              "      <td>100</td>\n",
              "      <td>M</td>\n",
              "      <td>262000</td>\n",
              "      <td>161723</td>\n",
              "      <td>100276</td>\n",
              "    </tr>\n",
              "    <tr>\n",
              "      <th>1037</th>\n",
              "      <td>2023</td>\n",
              "      <td>SE</td>\n",
              "      <td>FT</td>\n",
              "      <td>Data Engineer</td>\n",
              "      <td>US</td>\n",
              "      <td>0</td>\n",
              "      <td>M</td>\n",
              "      <td>65000</td>\n",
              "      <td>164188</td>\n",
              "      <td>99188</td>\n",
              "    </tr>\n",
              "  </tbody>\n",
              "</table>\n",
              "</div>\n",
              "    <div class=\"colab-df-buttons\">\n",
              "\n",
              "  <div class=\"colab-df-container\">\n",
              "    <button class=\"colab-df-convert\" onclick=\"convertToInteractive('df-1ffccc48-4cbf-453e-b486-71e92ccb6bd2')\"\n",
              "            title=\"Convert this dataframe to an interactive table.\"\n",
              "            style=\"display:none;\">\n",
              "\n",
              "  <svg xmlns=\"http://www.w3.org/2000/svg\" height=\"24px\" viewBox=\"0 -960 960 960\">\n",
              "    <path d=\"M120-120v-720h720v720H120Zm60-500h600v-160H180v160Zm220 220h160v-160H400v160Zm0 220h160v-160H400v160ZM180-400h160v-160H180v160Zm440 0h160v-160H620v160ZM180-180h160v-160H180v160Zm440 0h160v-160H620v160Z\"/>\n",
              "  </svg>\n",
              "    </button>\n",
              "\n",
              "  <style>\n",
              "    .colab-df-container {\n",
              "      display:flex;\n",
              "      gap: 12px;\n",
              "    }\n",
              "\n",
              "    .colab-df-convert {\n",
              "      background-color: #E8F0FE;\n",
              "      border: none;\n",
              "      border-radius: 50%;\n",
              "      cursor: pointer;\n",
              "      display: none;\n",
              "      fill: #1967D2;\n",
              "      height: 32px;\n",
              "      padding: 0 0 0 0;\n",
              "      width: 32px;\n",
              "    }\n",
              "\n",
              "    .colab-df-convert:hover {\n",
              "      background-color: #E2EBFA;\n",
              "      box-shadow: 0px 1px 2px rgba(60, 64, 67, 0.3), 0px 1px 3px 1px rgba(60, 64, 67, 0.15);\n",
              "      fill: #174EA6;\n",
              "    }\n",
              "\n",
              "    .colab-df-buttons div {\n",
              "      margin-bottom: 4px;\n",
              "    }\n",
              "\n",
              "    [theme=dark] .colab-df-convert {\n",
              "      background-color: #3B4455;\n",
              "      fill: #D2E3FC;\n",
              "    }\n",
              "\n",
              "    [theme=dark] .colab-df-convert:hover {\n",
              "      background-color: #434B5C;\n",
              "      box-shadow: 0px 1px 3px 1px rgba(0, 0, 0, 0.15);\n",
              "      filter: drop-shadow(0px 1px 2px rgba(0, 0, 0, 0.3));\n",
              "      fill: #FFFFFF;\n",
              "    }\n",
              "  </style>\n",
              "\n",
              "    <script>\n",
              "      const buttonEl =\n",
              "        document.querySelector('#df-1ffccc48-4cbf-453e-b486-71e92ccb6bd2 button.colab-df-convert');\n",
              "      buttonEl.style.display =\n",
              "        google.colab.kernel.accessAllowed ? 'block' : 'none';\n",
              "\n",
              "      async function convertToInteractive(key) {\n",
              "        const element = document.querySelector('#df-1ffccc48-4cbf-453e-b486-71e92ccb6bd2');\n",
              "        const dataTable =\n",
              "          await google.colab.kernel.invokeFunction('convertToInteractive',\n",
              "                                                    [key], {});\n",
              "        if (!dataTable) return;\n",
              "\n",
              "        const docLinkHtml = 'Like what you see? Visit the ' +\n",
              "          '<a target=\"_blank\" href=https://colab.research.google.com/notebooks/data_table.ipynb>data table notebook</a>'\n",
              "          + ' to learn more about interactive tables.';\n",
              "        element.innerHTML = '';\n",
              "        dataTable['output_type'] = 'display_data';\n",
              "        await google.colab.output.renderOutput(dataTable, element);\n",
              "        const docLink = document.createElement('div');\n",
              "        docLink.innerHTML = docLinkHtml;\n",
              "        element.appendChild(docLink);\n",
              "      }\n",
              "    </script>\n",
              "  </div>\n",
              "\n",
              "\n",
              "<div id=\"df-5b6a10b4-c411-4794-a331-2a332a99e83b\">\n",
              "  <button class=\"colab-df-quickchart\" onclick=\"quickchart('df-5b6a10b4-c411-4794-a331-2a332a99e83b')\"\n",
              "            title=\"Suggest charts\"\n",
              "            style=\"display:none;\">\n",
              "\n",
              "<svg xmlns=\"http://www.w3.org/2000/svg\" height=\"24px\"viewBox=\"0 0 24 24\"\n",
              "     width=\"24px\">\n",
              "    <g>\n",
              "        <path d=\"M19 3H5c-1.1 0-2 .9-2 2v14c0 1.1.9 2 2 2h14c1.1 0 2-.9 2-2V5c0-1.1-.9-2-2-2zM9 17H7v-7h2v7zm4 0h-2V7h2v10zm4 0h-2v-4h2v4z\"/>\n",
              "    </g>\n",
              "</svg>\n",
              "  </button>\n",
              "\n",
              "<style>\n",
              "  .colab-df-quickchart {\n",
              "      --bg-color: #E8F0FE;\n",
              "      --fill-color: #1967D2;\n",
              "      --hover-bg-color: #E2EBFA;\n",
              "      --hover-fill-color: #174EA6;\n",
              "      --disabled-fill-color: #AAA;\n",
              "      --disabled-bg-color: #DDD;\n",
              "  }\n",
              "\n",
              "  [theme=dark] .colab-df-quickchart {\n",
              "      --bg-color: #3B4455;\n",
              "      --fill-color: #D2E3FC;\n",
              "      --hover-bg-color: #434B5C;\n",
              "      --hover-fill-color: #FFFFFF;\n",
              "      --disabled-bg-color: #3B4455;\n",
              "      --disabled-fill-color: #666;\n",
              "  }\n",
              "\n",
              "  .colab-df-quickchart {\n",
              "    background-color: var(--bg-color);\n",
              "    border: none;\n",
              "    border-radius: 50%;\n",
              "    cursor: pointer;\n",
              "    display: none;\n",
              "    fill: var(--fill-color);\n",
              "    height: 32px;\n",
              "    padding: 0;\n",
              "    width: 32px;\n",
              "  }\n",
              "\n",
              "  .colab-df-quickchart:hover {\n",
              "    background-color: var(--hover-bg-color);\n",
              "    box-shadow: 0 1px 2px rgba(60, 64, 67, 0.3), 0 1px 3px 1px rgba(60, 64, 67, 0.15);\n",
              "    fill: var(--button-hover-fill-color);\n",
              "  }\n",
              "\n",
              "  .colab-df-quickchart-complete:disabled,\n",
              "  .colab-df-quickchart-complete:disabled:hover {\n",
              "    background-color: var(--disabled-bg-color);\n",
              "    fill: var(--disabled-fill-color);\n",
              "    box-shadow: none;\n",
              "  }\n",
              "\n",
              "  .colab-df-spinner {\n",
              "    border: 2px solid var(--fill-color);\n",
              "    border-color: transparent;\n",
              "    border-bottom-color: var(--fill-color);\n",
              "    animation:\n",
              "      spin 1s steps(1) infinite;\n",
              "  }\n",
              "\n",
              "  @keyframes spin {\n",
              "    0% {\n",
              "      border-color: transparent;\n",
              "      border-bottom-color: var(--fill-color);\n",
              "      border-left-color: var(--fill-color);\n",
              "    }\n",
              "    20% {\n",
              "      border-color: transparent;\n",
              "      border-left-color: var(--fill-color);\n",
              "      border-top-color: var(--fill-color);\n",
              "    }\n",
              "    30% {\n",
              "      border-color: transparent;\n",
              "      border-left-color: var(--fill-color);\n",
              "      border-top-color: var(--fill-color);\n",
              "      border-right-color: var(--fill-color);\n",
              "    }\n",
              "    40% {\n",
              "      border-color: transparent;\n",
              "      border-right-color: var(--fill-color);\n",
              "      border-top-color: var(--fill-color);\n",
              "    }\n",
              "    60% {\n",
              "      border-color: transparent;\n",
              "      border-right-color: var(--fill-color);\n",
              "    }\n",
              "    80% {\n",
              "      border-color: transparent;\n",
              "      border-right-color: var(--fill-color);\n",
              "      border-bottom-color: var(--fill-color);\n",
              "    }\n",
              "    90% {\n",
              "      border-color: transparent;\n",
              "      border-bottom-color: var(--fill-color);\n",
              "    }\n",
              "  }\n",
              "</style>\n",
              "\n",
              "  <script>\n",
              "    async function quickchart(key) {\n",
              "      const quickchartButtonEl =\n",
              "        document.querySelector('#' + key + ' button');\n",
              "      quickchartButtonEl.disabled = true;  // To prevent multiple clicks.\n",
              "      quickchartButtonEl.classList.add('colab-df-spinner');\n",
              "      try {\n",
              "        const charts = await google.colab.kernel.invokeFunction(\n",
              "            'suggestCharts', [key], {});\n",
              "      } catch (error) {\n",
              "        console.error('Error during call to suggestCharts:', error);\n",
              "      }\n",
              "      quickchartButtonEl.classList.remove('colab-df-spinner');\n",
              "      quickchartButtonEl.classList.add('colab-df-quickchart-complete');\n",
              "    }\n",
              "    (() => {\n",
              "      let quickchartButtonEl =\n",
              "        document.querySelector('#df-5b6a10b4-c411-4794-a331-2a332a99e83b button');\n",
              "      quickchartButtonEl.style.display =\n",
              "        google.colab.kernel.accessAllowed ? 'block' : 'none';\n",
              "    })();\n",
              "  </script>\n",
              "</div>\n",
              "    </div>\n",
              "  </div>\n"
            ],
            "application/vnd.google.colaboratory.intrinsic+json": {
              "type": "dataframe",
              "summary": "{\n  \"name\": \"errors\",\n  \"rows\": 20,\n  \"fields\": [\n    {\n      \"column\": \"work_year\",\n      \"properties\": {\n        \"dtype\": \"number\",\n        \"std\": 0,\n        \"min\": 2020,\n        \"max\": 2023,\n        \"num_unique_values\": 3,\n        \"samples\": [\n          2022,\n          2023,\n          2020\n        ],\n        \"semantic_type\": \"\",\n        \"description\": \"\"\n      }\n    },\n    {\n      \"column\": \"experience_level\",\n      \"properties\": {\n        \"dtype\": \"category\",\n        \"num_unique_values\": 4,\n        \"samples\": [\n          \"SE\",\n          \"EX\",\n          \"MI\"\n        ],\n        \"semantic_type\": \"\",\n        \"description\": \"\"\n      }\n    },\n    {\n      \"column\": \"employment_type\",\n      \"properties\": {\n        \"dtype\": \"category\",\n        \"num_unique_values\": 1,\n        \"samples\": [\n          \"FT\"\n        ],\n        \"semantic_type\": \"\",\n        \"description\": \"\"\n      }\n    },\n    {\n      \"column\": \"job_title\",\n      \"properties\": {\n        \"dtype\": \"category\",\n        \"num_unique_values\": 9,\n        \"samples\": [\n          \"Data Architect\"\n        ],\n        \"semantic_type\": \"\",\n        \"description\": \"\"\n      }\n    },\n    {\n      \"column\": \"employee_residence\",\n      \"properties\": {\n        \"dtype\": \"category\",\n        \"num_unique_values\": 4,\n        \"samples\": [\n          \"US\"\n        ],\n        \"semantic_type\": \"\",\n        \"description\": \"\"\n      }\n    },\n    {\n      \"column\": \"remote_ratio\",\n      \"properties\": {\n        \"dtype\": \"number\",\n        \"std\": 49,\n        \"min\": 0,\n        \"max\": 100,\n        \"num_unique_values\": 3,\n        \"samples\": [\n          0\n        ],\n        \"semantic_type\": \"\",\n        \"description\": \"\"\n      }\n    },\n    {\n      \"column\": \"company_size\",\n      \"properties\": {\n        \"dtype\": \"category\",\n        \"num_unique_values\": 2,\n        \"samples\": [\n          \"L\"\n        ],\n        \"semantic_type\": \"\",\n        \"description\": \"\"\n      }\n    },\n    {\n      \"column\": \"true_salary\",\n      \"properties\": {\n        \"dtype\": \"number\",\n        \"std\": 91382,\n        \"min\": 65000,\n        \"max\": 430967,\n        \"num_unique_values\": 18,\n        \"samples\": [\n          430967\n        ],\n        \"semantic_type\": \"\",\n        \"description\": \"\"\n      }\n    },\n    {\n      \"column\": \"prediction\",\n      \"properties\": {\n        \"dtype\": \"number\",\n        \"std\": 45071,\n        \"min\": 50185,\n        \"max\": 221285,\n        \"num_unique_values\": 18,\n        \"samples\": [\n          51082\n        ],\n        \"semantic_type\": \"\",\n        \"description\": \"\"\n      }\n    },\n    {\n      \"column\": \"diff\",\n      \"properties\": {\n        \"dtype\": \"number\",\n        \"std\": 66038,\n        \"min\": 99188,\n        \"max\": 379884,\n        \"num_unique_values\": 20,\n        \"samples\": [\n          379884\n        ],\n        \"semantic_type\": \"\",\n        \"description\": \"\"\n      }\n    }\n  ]\n}"
            }
          },
          "metadata": {},
          "execution_count": 55
        }
      ]
    },
    {
      "cell_type": "code",
      "source": [
        "df[(df.job_title == 'Data Analyst') & (df.employment_type == 'FT') &\n",
        "   (df.company_size == 'M') &\n",
        "    (df.remote_ratio == 0)].groupby(['experience_level'])['salary_in_usd'].mean()"
      ],
      "metadata": {
        "id": "tYpG3tGaNDCr",
        "outputId": "43e4e001-0727-4d15-bc2d-d5fb9a3e2e60",
        "colab": {
          "base_uri": "https://localhost:8080/",
          "height": 207
        }
      },
      "id": "tYpG3tGaNDCr",
      "execution_count": 61,
      "outputs": [
        {
          "output_type": "execute_result",
          "data": {
            "text/plain": [
              "experience_level\n",
              "EN     72000.000000\n",
              "MI    106947.859155\n",
              "SE    125158.305263\n",
              "Name: salary_in_usd, dtype: float64"
            ],
            "text/html": [
              "<div>\n",
              "<style scoped>\n",
              "    .dataframe tbody tr th:only-of-type {\n",
              "        vertical-align: middle;\n",
              "    }\n",
              "\n",
              "    .dataframe tbody tr th {\n",
              "        vertical-align: top;\n",
              "    }\n",
              "\n",
              "    .dataframe thead th {\n",
              "        text-align: right;\n",
              "    }\n",
              "</style>\n",
              "<table border=\"1\" class=\"dataframe\">\n",
              "  <thead>\n",
              "    <tr style=\"text-align: right;\">\n",
              "      <th></th>\n",
              "      <th>salary_in_usd</th>\n",
              "    </tr>\n",
              "    <tr>\n",
              "      <th>experience_level</th>\n",
              "      <th></th>\n",
              "    </tr>\n",
              "  </thead>\n",
              "  <tbody>\n",
              "    <tr>\n",
              "      <th>EN</th>\n",
              "      <td>72000.000000</td>\n",
              "    </tr>\n",
              "    <tr>\n",
              "      <th>MI</th>\n",
              "      <td>106947.859155</td>\n",
              "    </tr>\n",
              "    <tr>\n",
              "      <th>SE</th>\n",
              "      <td>125158.305263</td>\n",
              "    </tr>\n",
              "  </tbody>\n",
              "</table>\n",
              "</div><br><label><b>dtype:</b> float64</label>"
            ]
          },
          "metadata": {},
          "execution_count": 61
        }
      ]
    },
    {
      "cell_type": "code",
      "source": [
        "df[(df.job_title == 'Data Engineer') & (df.employment_type == 'FT') &\n",
        "   (df.company_size == 'M')].groupby(['experience_level'])['salary_in_usd'].mean()"
      ],
      "metadata": {
        "id": "sdgfYyOaPFUe",
        "outputId": "17ec8384-02ba-4fad-db03-85ebf2a620f2",
        "colab": {
          "base_uri": "https://localhost:8080/",
          "height": 238
        }
      },
      "id": "sdgfYyOaPFUe",
      "execution_count": 62,
      "outputs": [
        {
          "output_type": "execute_result",
          "data": {
            "text/plain": [
              "experience_level\n",
              "EN     86284.347826\n",
              "EX    206597.722222\n",
              "MI    106772.782609\n",
              "SE    155052.796562\n",
              "Name: salary_in_usd, dtype: float64"
            ],
            "text/html": [
              "<div>\n",
              "<style scoped>\n",
              "    .dataframe tbody tr th:only-of-type {\n",
              "        vertical-align: middle;\n",
              "    }\n",
              "\n",
              "    .dataframe tbody tr th {\n",
              "        vertical-align: top;\n",
              "    }\n",
              "\n",
              "    .dataframe thead th {\n",
              "        text-align: right;\n",
              "    }\n",
              "</style>\n",
              "<table border=\"1\" class=\"dataframe\">\n",
              "  <thead>\n",
              "    <tr style=\"text-align: right;\">\n",
              "      <th></th>\n",
              "      <th>salary_in_usd</th>\n",
              "    </tr>\n",
              "    <tr>\n",
              "      <th>experience_level</th>\n",
              "      <th></th>\n",
              "    </tr>\n",
              "  </thead>\n",
              "  <tbody>\n",
              "    <tr>\n",
              "      <th>EN</th>\n",
              "      <td>86284.347826</td>\n",
              "    </tr>\n",
              "    <tr>\n",
              "      <th>EX</th>\n",
              "      <td>206597.722222</td>\n",
              "    </tr>\n",
              "    <tr>\n",
              "      <th>MI</th>\n",
              "      <td>106772.782609</td>\n",
              "    </tr>\n",
              "    <tr>\n",
              "      <th>SE</th>\n",
              "      <td>155052.796562</td>\n",
              "    </tr>\n",
              "  </tbody>\n",
              "</table>\n",
              "</div><br><label><b>dtype:</b> float64</label>"
            ]
          },
          "metadata": {},
          "execution_count": 62
        }
      ]
    },
    {
      "cell_type": "markdown",
      "source": [
        "**Ваш ответ здесь**.\n",
        "1. Проведем анализ для позиции аналитика данных. Для средней компании фулл-тайм в офисе аналитик данных миддл уровня в среднем зарабатывает 106 тыс.долл, синиор - 125 тыс. При этом в топ-20 по величине пошибки попали вакансии с зарплатами 250-430 тыс.долл.\n",
        "2. Аналогичная картина для позиции Data Engeneer.\n",
        "\n",
        "Таким образом, данные вакансии являются нетипичными для рынка. Модель линейной регресии, ориентированная на прогнозирование некоторого среднего (минимизируемая функция потерь - MSE), будет естественным образом выдавать оценки ближе к среднему и плохо работать с экстремальными значениями."
      ],
      "metadata": {
        "id": "AHl7Emrg8Tfj"
      },
      "id": "AHl7Emrg8Tfj"
    },
    {
      "cell_type": "markdown",
      "source": [
        "На мой взгляд для повышения качества модели можно попробовать:\n",
        "1. Логарифмическую трансформацию\n",
        "2. Удаление выбросов"
      ],
      "metadata": {
        "id": "7ryBOvb1QeNN"
      },
      "id": "7ryBOvb1QeNN"
    },
    {
      "cell_type": "markdown",
      "id": "0bb42f2e",
      "metadata": {
        "id": "0bb42f2e"
      },
      "source": [
        "## **Задание 11 (0.5 балла)**\n",
        "\n",
        "Придумайте признаки для улучшения качества модели на основе предыдущего пункта. Как вам кажется какими признаками можно улучшить качетсво модели? Реализуйте признаки и проверьте улучшилось ли качество модели.\n",
        "\n",
        "**Примечание:**\n",
        "Полный балл за задание ставится даже при отсутствии улучшения качества модели, важно попробовать проверить свои гипотезы и сделать выводы."
      ]
    },
    {
      "cell_type": "markdown",
      "source": [
        "**1. Логарифмическая трансформация**"
      ],
      "metadata": {
        "id": "cQAP0BeKQsEu"
      },
      "id": "cQAP0BeKQsEu"
    },
    {
      "cell_type": "code",
      "source": [
        "df = pd.read_csv(\"https://github.com/hse-ds/iad-intro-ds/raw/refs/heads/master/2023/homeworks/hw-08-boosting/ds_salaries.csv\")\n",
        "\n"
      ],
      "metadata": {
        "id": "mBuGEyH68lx2"
      },
      "id": "mBuGEyH68lx2",
      "execution_count": null,
      "outputs": []
    },
    {
      "cell_type": "markdown",
      "source": [
        "**2. Удаление выбросов**"
      ],
      "metadata": {
        "id": "HSadg4FjQvJm"
      },
      "id": "HSadg4FjQvJm"
    },
    {
      "cell_type": "markdown",
      "source": [
        "**Ваш ответ здесь**."
      ],
      "metadata": {
        "id": "RLhwEaZS8oHr"
      },
      "id": "RLhwEaZS8oHr"
    },
    {
      "cell_type": "markdown",
      "id": "3578292c",
      "metadata": {
        "id": "3578292c"
      },
      "source": [
        "## **Задание 12 (1 балл)**\n",
        "\n",
        "Поупражняемся с разными бустингами!\n",
        "\n",
        "- Используйте catboost.\n",
        "- Обучите модель — на полном наборе данных с категориальными признаками.\n",
        "- Подберите оптимальные гиперпараметры.\n",
        "- Оцените качество итоговой модели, скорость обучения и скорость предсказания.\n",
        "\n",
        "\n",
        "**Примечание:**\n",
        "Замерять скорость = смотреть, как долго исполняется код."
      ]
    },
    {
      "cell_type": "code",
      "source": [],
      "metadata": {
        "id": "RfwW-oGc9KNg"
      },
      "id": "RfwW-oGc9KNg",
      "execution_count": null,
      "outputs": []
    },
    {
      "cell_type": "markdown",
      "id": "3bfc4e05",
      "metadata": {
        "id": "3bfc4e05"
      },
      "source": [
        "## **Задание 13 (1 балл)**\n",
        "\n",
        "- Используйте xgboost.\n",
        "- Обучите модель — на полном наборе данных с категориальными признаками. Стратегию кодирования оставьте ту, что показала себя лучшей в пункте 9.\n",
        "- Подберите оптимальные гиперпараметры.\n",
        "- Оцените качество итоговой модели, скорость обучения и скорость предсказания.\n",
        "\n"
      ]
    },
    {
      "cell_type": "code",
      "source": [],
      "metadata": {
        "id": "e7Zi-0hk9bW4"
      },
      "id": "e7Zi-0hk9bW4",
      "execution_count": null,
      "outputs": []
    },
    {
      "cell_type": "markdown",
      "id": "a881ad9d",
      "metadata": {
        "id": "a881ad9d"
      },
      "source": [
        "## **Задание 14 (1 балл)**\n",
        "\n",
        "- Используйте lgbm.\n",
        "- Обучите модель — на полном наборе данных с категориальными признаками. Стратегию кодирования оставьте ту, что показала себя лучшей в пункте 9.\n",
        "- Подберите оптимальные гиперпараметры.\n",
        "- Оцените качество итоговой модели, скорость обучения и скорость предсказания.\n"
      ]
    },
    {
      "cell_type": "code",
      "source": [],
      "metadata": {
        "id": "weXtNlM49fYL"
      },
      "id": "weXtNlM49fYL",
      "execution_count": null,
      "outputs": []
    },
    {
      "cell_type": "markdown",
      "id": "7c56d873",
      "metadata": {
        "id": "7c56d873"
      },
      "source": [
        "## **Задание 15 (0.4 балла)**"
      ]
    },
    {
      "cell_type": "markdown",
      "source": [
        "Сделайте выводы про модели и решение задачи.\n",
        "\n",
        "- Какая из моделей показала лучший результат по качеству?\n",
        "- Какая из моделей показала лучший результат по качеству, скорости обучения и скорости предсказания в совокупности?\n",
        "- Насколько бустинги превзошли линейную модель? Целесообразно ли их использование?"
      ],
      "metadata": {
        "id": "MoU-3vCs9ufO"
      },
      "id": "MoU-3vCs9ufO"
    },
    {
      "cell_type": "markdown",
      "source": [
        "# **Часть 2: кластеризация типов движений**\n",
        "**Количество баллов:** 3"
      ],
      "metadata": {
        "id": "-w29KZ-r-Kaf"
      },
      "id": "-w29KZ-r-Kaf"
    },
    {
      "cell_type": "markdown",
      "source": [
        "В этой части будем работать с набором данных Samsung Human Activity Recognition. Набор данных заранее предобработан и снова доступен вам по [ссылке](https://drive.google.com/file/d/16ISu7lMumt5rbticbOggHMRjwTGBETtO/view?usp=sharing).\n",
        "\n",
        "### **Постановка задачи**\n",
        "Данные поступают с акселерометров и гироскопов мобильных телефонов Samsung Galaxy S2. Вид активности человека с телефоном в кармане известен:\n",
        "- 1 - ходьба,\n",
        "- 2 - подъем вверх по лестнице,\n",
        "- 3 - спуск по лестнице,\n",
        "- 4 - сидение,\n",
        "- 5 - стояние,\n",
        "- 6 - лежание\n",
        "\n",
        "\n",
        "Представим, что вид активности нам неизвестнен, и попробуем кластеризовать людей чисто на основе имеющихся признаков."
      ],
      "metadata": {
        "id": "6b3HIYxb-lYV"
      },
      "id": "6b3HIYxb-lYV"
    },
    {
      "cell_type": "code",
      "source": [
        "import numpy as np\n",
        "import seaborn as sns\n",
        "from matplotlib import pyplot as plt\n",
        "\n",
        "\n",
        "plt.style.use(['seaborn-darkgrid'])\n",
        "plt.rcParams['figure.figsize'] = (12, 9)\n",
        "plt.rcParams['font.family'] = 'DejaVu Sans'\n",
        "\n",
        "%matplotlib inline\n",
        "%config InlineBackend.figure_format=\"retina\"\n",
        "\n",
        "RANDOM_STATE = 42"
      ],
      "metadata": {
        "id": "G-GfIOJL9ty4"
      },
      "id": "G-GfIOJL9ty4",
      "execution_count": null,
      "outputs": []
    },
    {
      "cell_type": "markdown",
      "source": [
        "### **Задание 16 (0.1 балл)**\n",
        "Прочитайте данные из файлов и объедните тестовую и обучающие выборки.\n",
        "\n",
        "В файлах ```..._labels``` лежат настоящие классы. Их также объедините, но в отдельную переменную (например ```y```). Данный вектор для кластеризации нам не нужен, но мы будем смотреть по нему метрики."
      ],
      "metadata": {
        "id": "huMweUyCDtq0"
      },
      "id": "huMweUyCDtq0"
    },
    {
      "cell_type": "code",
      "source": [
        "# Ваш код здесь\n",
        "X =\n",
        "y ="
      ],
      "metadata": {
        "id": "kOl0AkxMDwgs"
      },
      "id": "kOl0AkxMDwgs",
      "execution_count": null,
      "outputs": []
    },
    {
      "cell_type": "code",
      "source": [
        "# убедимся, что y содержит нужные нам классы\n",
        "np.unique(y)"
      ],
      "metadata": {
        "id": "5Lm9We-jDxFV"
      },
      "id": "5Lm9We-jDxFV",
      "execution_count": null,
      "outputs": []
    },
    {
      "cell_type": "markdown",
      "source": [
        "### **Задание 17 (0.2 балла)**\n",
        "\n",
        "Так как мы будем пользоваться метрическими алгоритмами, отмасштабируйте выборку с помощью ```StandardScaler```."
      ],
      "metadata": {
        "id": "RKVnDJ1ODzt1"
      },
      "id": "RKVnDJ1ODzt1"
    },
    {
      "cell_type": "code",
      "source": [
        "# Ваш код здесь\n",
        "scaler =\n",
        "X_scaled ="
      ],
      "metadata": {
        "id": "JboUmITvD0N3"
      },
      "id": "JboUmITvD0N3",
      "execution_count": null,
      "outputs": []
    },
    {
      "cell_type": "markdown",
      "source": [
        "### **Задание 18 (0.5 балла)**\n",
        "\n",
        "Данных много и размерность большая. Чтобы ускорить рещение задачи с точки зрения построения модели, мы используем методы **понижения размерности**.\n",
        "\n",
        "- Понизьте размерность с помощью `PCA`, оставляя столько компонент, сколько нужно для того, чтобы объяснить как минимум 90% дисперсии отмасштабированных данных. Вам пригодится [документация](https://scikit-learn.org/stable/modules/generated/sklearn.decomposition.PCA.html)\n",
        "\n",
        "**Примечание:**\n",
        "Для этого сумма значений массива pca.explained_variance_ratio_ должна быть не меньше 0.9.  ```random_state``` используйте из объявленной в самом начале переменной ```RANDOM_STATE``` (42)."
      ],
      "metadata": {
        "id": "ssHPKscBD0kE"
      },
      "id": "ssHPKscBD0kE"
    },
    {
      "cell_type": "code",
      "source": [
        "# Ваш код здесь\n",
        "pca =\n",
        "X_pca ="
      ],
      "metadata": {
        "id": "Qb4ezLYfD007"
      },
      "id": "Qb4ezLYfD007",
      "execution_count": null,
      "outputs": []
    },
    {
      "cell_type": "markdown",
      "source": [
        "### **Задание 19 (0.2 балла)**\n",
        "\n",
        "Визуализируйте данные в проекции на первые две главные компоненты. Используйте ```cmap=\"virdis\"``` или любой другой, с которым будет красиво!\n",
        "\n",
        "Можете раскрасить кластеры."
      ],
      "metadata": {
        "id": "JAJ6WxDaD9oC"
      },
      "id": "JAJ6WxDaD9oC"
    },
    {
      "cell_type": "code",
      "source": [
        "# Ваш код здесь\n",
        "plt.scatter()"
      ],
      "metadata": {
        "id": "JHboofo-D-KP"
      },
      "id": "JHboofo-D-KP",
      "execution_count": null,
      "outputs": []
    },
    {
      "cell_type": "markdown",
      "source": [
        "### **Задание 19. (0.5 балла)**\n",
        "\n",
        "Разберёмся с `KMeans`, [doc](https://scikit-learn.org/stable/modules/generated/sklearn.cluster.KMeans.html)\n",
        "\n",
        "- Сделайте кластеризацию данных методом `KMeans`, обучив модель на данных со сниженной за счет `PCA` размерностью. Нужно искать 6 кластеров (изначально у нас 6 классов). Засеките время обучения и время инференса.\n",
        "\n",
        "**Параметры обучения:**\n",
        "\n",
        "```n_clusters = 6``` (число уникальных меток целевого класса = 6)\n",
        "\n",
        "```n_init = 100```\n",
        "\n",
        "```random_state = RANDOM_STATE``` (для воспроизводимости результата, не забывайте указывать его и дальше!)"
      ],
      "metadata": {
        "id": "BJU8Dc99D-T8"
      },
      "id": "BJU8Dc99D-T8"
    },
    {
      "cell_type": "code",
      "source": [
        "# Ваш код здесь"
      ],
      "metadata": {
        "id": "uc4uXeV3D-a9"
      },
      "id": "uc4uXeV3D-a9",
      "execution_count": null,
      "outputs": []
    },
    {
      "cell_type": "markdown",
      "source": [
        "### **Задание 20 (0.2 балла)**\n",
        "\n",
        "- Визуализируйте данные в проекции на первые две главные компоненты.\n",
        "- Раскрасьте точки в соответствии с полученными метками кластеров."
      ],
      "metadata": {
        "id": "mXk40mmZD-iI"
      },
      "id": "mXk40mmZD-iI"
    },
    {
      "cell_type": "code",
      "source": [
        "# Ваш код здесь"
      ],
      "metadata": {
        "id": "LN0y9SuMD-oQ"
      },
      "id": "LN0y9SuMD-oQ",
      "execution_count": null,
      "outputs": []
    },
    {
      "cell_type": "markdown",
      "source": [
        "### **Задание 21 (0.3 балла)**\n",
        "\n",
        "- Выберите какие-то метрики (минимум две) из известных вам. Объясните свой выбор\n",
        "- Выведите на экран значения метрик качества, сделайте вывод о них и используйте их далее."
      ],
      "metadata": {
        "id": "MRuNPtcvEIcT"
      },
      "id": "MRuNPtcvEIcT"
    },
    {
      "cell_type": "code",
      "source": [
        "# Ваш код здесь"
      ],
      "metadata": {
        "id": "hRUnZPlPEJm2"
      },
      "id": "hRUnZPlPEJm2",
      "execution_count": null,
      "outputs": []
    },
    {
      "cell_type": "markdown",
      "source": [
        "**Ваш вывод здесь**"
      ],
      "metadata": {
        "id": "F_-yup0yEJty"
      },
      "id": "F_-yup0yEJty"
    },
    {
      "cell_type": "markdown",
      "source": [
        "### **Задание 22 (0.7 баллов)**\n",
        "\n",
        "Теперь попробуем сделать кластеризацию с помощью `AgglomerativeClustering`, [doc](https://scikit-learn.org/stable/modules/generated/sklearn.cluster.AgglomerativeClustering.html)\n",
        "\n",
        "- Засеките время обучения и время инференса. После кластеризации также:\n",
        "  - Вновь визуализируйте данные с раскраской по полученным меткам\n",
        "  - Выведите метрики. Засеките время обучения и время инференса. Сравните с ```KMeans```.\n",
        "\n",
        "Ответьте на следующие вопросы:\n",
        "* Стало ли лучше?\n",
        "* Почему?"
      ],
      "metadata": {
        "id": "yfytg7xxEQSY"
      },
      "id": "yfytg7xxEQSY"
    },
    {
      "cell_type": "code",
      "source": [
        "# Ваш код здесь"
      ],
      "metadata": {
        "id": "76W4gKbnEOpG"
      },
      "id": "76W4gKbnEOpG",
      "execution_count": null,
      "outputs": []
    },
    {
      "cell_type": "markdown",
      "source": [
        "**Ваш вывод здесь**"
      ],
      "metadata": {
        "id": "fD8890szET9F"
      },
      "id": "fD8890szET9F"
    },
    {
      "cell_type": "markdown",
      "source": [
        "### **Задание 23 (0.3 балла)**\n",
        "Для самой успешной из полученных кластеризаций попробуйте дать интерпретацию кластеров. Опишите характеристики объектов, попавших в каждый кластер. Для этого можете ответить на следующие вопросы:\n",
        "\n",
        "* Похожи ли объекты внутри каждого кластера на определенный тип активности человека?\n",
        "* В каких кластерах смешано несколько типов активности? С чем, на ваш взгляд, это может быть связано?\n",
        "* Качественная ли получилась кластеризация? На основании чего вы можете сделать такой вывод?"
      ],
      "metadata": {
        "id": "ToO1wo75EUo5"
      },
      "id": "ToO1wo75EUo5"
    },
    {
      "cell_type": "markdown",
      "source": [
        "**Ваш вывод здесь**"
      ],
      "metadata": {
        "id": "XNfJxVTCEYzd"
      },
      "id": "XNfJxVTCEYzd"
    },
    {
      "cell_type": "markdown",
      "source": [
        "## **Бонус-задание (1 балл)**\n",
        "![RedPanda](http://imgur.com/6Aa52Lm.png)\n",
        "\n",
        "Алгоритмы кластеризации могут применяться в самых разных задачах. Например, в анализе изображений есть задача разделения изображения на семантические компоненты, которую можно решать в том числе с помощью алгоритмов кластеризации. В бонусе предлагаем вам попрактиковаться именно в этом на чудесной утке и совах (```duck.jpg``` и ```owls.jpg```)"
      ],
      "metadata": {
        "id": "DMe3tIiaEeTt"
      },
      "id": "DMe3tIiaEeTt"
    },
    {
      "cell_type": "markdown",
      "source": [
        "### **(0.1 балл)**\n",
        "\n",
        "- Откройте изображения, после чего визуализируйте их с помощью ```plt.imshow()```"
      ],
      "metadata": {
        "id": "XljM79OVEvH1"
      },
      "id": "XljM79OVEvH1"
    },
    {
      "cell_type": "code",
      "source": [
        "from PIL import Image\n",
        "# or\n",
        "#import cv2"
      ],
      "metadata": {
        "id": "MDCgEqXxEis1"
      },
      "id": "MDCgEqXxEis1",
      "execution_count": null,
      "outputs": []
    },
    {
      "cell_type": "markdown",
      "source": [
        "### **(0.4 балла)**\n",
        "\n",
        "Для каждого изображения, используя кластеризацию ```KMeans```, выделите компоненты, охарактеризовав каждый пиксель следующим образом: $$\\psi_i = [\\lambda x_i, \\lambda y_i, r_i, g_i, b_i]$$\n",
        " где\n",
        "- $x_i$ и $y_i$ — координаты пикселя,\n",
        "- $r_i, g_i, b_i$ — его цвет,\n",
        "- $\\lambda$ — параметр, выражающий важность пространственной связности перед цветовой похожестью.\n",
        "\n",
        "Примените полученную функцию, взяв следующие $\\lambda$: 0.3 и 1.5 для ```duck.jpg``` и ```owls.jpg``` (или другие, но тогда с вас красивые результаты :) )\n",
        "\n",
        "**Примечание:**\n",
        "Число кластеров подберите разумным образом на свой вкус (в качестве нулевого приближения можно взять 3)"
      ],
      "metadata": {
        "id": "cR_AuC9RFANW"
      },
      "id": "cR_AuC9RFANW"
    },
    {
      "cell_type": "code",
      "source": [
        "def find_components(image, lmbd, n_clusters):\n",
        "    #your code here"
      ],
      "metadata": {
        "id": "4qiynyTXFSNU"
      },
      "id": "4qiynyTXFSNU",
      "execution_count": null,
      "outputs": []
    },
    {
      "cell_type": "markdown",
      "source": [
        "### **(0.4 балла)**\n",
        "\n",
        "Попробуйте выделить сегменты при помощи [спектральной кластеризации](http://scikit-learn.org/stable/modules/clustering.html#spectral-clustering). Обратите внимание на [пример в sklearn](http://scikit-learn.org/0.16/auto_examples/cluster/plot_lena_segmentation.html).\n",
        "\n",
        "\n",
        "**Примечание:**\n",
        "\n",
        "Для ускорения работы алгоритма рекомендуется привести изображение к серому цвету. При необходимости можно сжать изображения в 2 раза.\n",
        "\n",
        "**Подсказка:**```skimage``` с его ```color``` и ```transform``` в этом помогут :)\n",
        "\n",
        "Или же воспользуйтесь аналогичными средствами ```PIL``` или ```cv2```"
      ],
      "metadata": {
        "id": "Zja1t8nHFaS2"
      },
      "id": "Zja1t8nHFaS2"
    },
    {
      "cell_type": "code",
      "source": [
        "def spectral_segmentation(image, n_clusters, beta, eps):\n",
        "    #your code here"
      ],
      "metadata": {
        "id": "hu10O8GnFluE"
      },
      "id": "hu10O8GnFluE",
      "execution_count": null,
      "outputs": []
    },
    {
      "cell_type": "markdown",
      "source": [
        "### **(0.1 балл)**\n",
        "Визуализируйте результаты сегментации (аналогично рисунку в начале задания 2) для обоих методов."
      ],
      "metadata": {
        "id": "XWoIIsqiFwrp"
      },
      "id": "XWoIIsqiFwrp"
    },
    {
      "cell_type": "code",
      "source": [],
      "metadata": {
        "id": "S7B57-WbF4Ie"
      },
      "id": "S7B57-WbF4Ie",
      "execution_count": null,
      "outputs": []
    },
    {
      "cell_type": "markdown",
      "source": [
        "**Спасибо! Вы — человек — большой трудяга!**\n",
        "\n",
        "Успокоительный котобонус :)"
      ],
      "metadata": {
        "id": "xrgZWcvtF95o"
      },
      "id": "xrgZWcvtF95o"
    },
    {
      "cell_type": "markdown",
      "source": [
        "![photo_2025-01-17 15.20.31 (1).jpeg](data:image/jpeg;base64,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)"
      ],
      "metadata": {
        "id": "Qx3-EPTBPEC-"
      },
      "id": "Qx3-EPTBPEC-"
    }
  ],
  "metadata": {
    "kernelspec": {
      "display_name": "Python 3 (ipykernel)",
      "language": "python",
      "name": "python3"
    },
    "language_info": {
      "codemirror_mode": {
        "name": "ipython",
        "version": 3
      },
      "file_extension": ".py",
      "mimetype": "text/x-python",
      "name": "python",
      "nbconvert_exporter": "python",
      "pygments_lexer": "ipython3",
      "version": "3.9.1"
    },
    "colab": {
      "provenance": []
    }
  },
  "nbformat": 4,
  "nbformat_minor": 5
}