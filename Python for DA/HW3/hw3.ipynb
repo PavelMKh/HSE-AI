{
 "cells": [
  {
   "cell_type": "markdown",
   "metadata": {
    "id": "QUxQsx2epFEj"
   },
   "source": [
    "## Задача 1. 45 баллов\n",
    "Вам предлагается проанализировать датасет с Data - вакансиями. Скачайте его https://disk.yandex.ru/d/QUa3pCKVk48cAQ и считайте с помощью pd.read_csv.\n",
    "\n",
    "0. Выведите первые 5 и последние 5 строк датасета. Примените к датасету методы info и describe **(1)**\n"
   ]
  },
  {
   "cell_type": "code",
   "execution_count": 2,
   "metadata": {
    "id": "rmiT-mfZAd8_"
   },
   "outputs": [],
   "source": [
    "import pandas as pd\n",
    "\n",
    "df = pd.read_csv('vacancies.csv', index_col=0)"
   ]
  },
  {
   "cell_type": "code",
   "execution_count": 3,
   "metadata": {},
   "outputs": [
    {
     "data": {
      "text/html": [
       "<div>\n",
       "<style scoped>\n",
       "    .dataframe tbody tr th:only-of-type {\n",
       "        vertical-align: middle;\n",
       "    }\n",
       "\n",
       "    .dataframe tbody tr th {\n",
       "        vertical-align: top;\n",
       "    }\n",
       "\n",
       "    .dataframe thead th {\n",
       "        text-align: right;\n",
       "    }\n",
       "</style>\n",
       "<table border=\"1\" class=\"dataframe\">\n",
       "  <thead>\n",
       "    <tr style=\"text-align: right;\">\n",
       "      <th></th>\n",
       "      <th>position_name</th>\n",
       "      <th>employer_name</th>\n",
       "      <th>area</th>\n",
       "      <th>experience</th>\n",
       "      <th>schedule</th>\n",
       "      <th>employment</th>\n",
       "      <th>professional_roles</th>\n",
       "      <th>salary</th>\n",
       "      <th>description</th>\n",
       "      <th>key_skills</th>\n",
       "    </tr>\n",
       "  </thead>\n",
       "  <tbody>\n",
       "    <tr>\n",
       "      <th>0</th>\n",
       "      <td>Data Scientist Авито</td>\n",
       "      <td>Changellenge</td>\n",
       "      <td>Москва</td>\n",
       "      <td>От 1 года до 3 лет</td>\n",
       "      <td>Полный день</td>\n",
       "      <td>Полная занятость</td>\n",
       "      <td>Другое</td>\n",
       "      <td>{'from': 255000, 'to': 490000, 'currency': 'RU...</td>\n",
       "      <td>&lt;p&gt;В наших командах разрабатывают эффективные ...</td>\n",
       "      <td>[]</td>\n",
       "    </tr>\n",
       "    <tr>\n",
       "      <th>1</th>\n",
       "      <td>Data analyst</td>\n",
       "      <td>Публичная Компания «Freedom Finance Global PLC»</td>\n",
       "      <td>Алматы</td>\n",
       "      <td>От 1 года до 3 лет</td>\n",
       "      <td>Полный день</td>\n",
       "      <td>Полная занятость</td>\n",
       "      <td>BI-аналитик, аналитик данных</td>\n",
       "      <td>{'from': 800000, 'to': 'null', 'currency': 'KZ...</td>\n",
       "      <td>&lt;p&gt;&lt;strong&gt;Обязанности&lt;/strong&gt;&lt;/p&gt;&lt;ul&gt;&lt;li&gt;Изв...</td>\n",
       "      <td>[]</td>\n",
       "    </tr>\n",
       "    <tr>\n",
       "      <th>2</th>\n",
       "      <td>Data Engineer/Data Analyst</td>\n",
       "      <td>IMANTECH</td>\n",
       "      <td>Ташкент</td>\n",
       "      <td>Нет опыта</td>\n",
       "      <td>Гибкий график</td>\n",
       "      <td>Полная занятость</td>\n",
       "      <td>BI-аналитик, аналитик данных</td>\n",
       "      <td>NaN</td>\n",
       "      <td>&lt;p&gt;&lt;strong&gt;About Us:&lt;/strong&gt; Welcome to &lt;stro...</td>\n",
       "      <td>['SQL', 'Визуализация данных', 'Python', 'Powe...</td>\n",
       "    </tr>\n",
       "    <tr>\n",
       "      <th>3</th>\n",
       "      <td>Стажер в направление Big Data</td>\n",
       "      <td>T2</td>\n",
       "      <td>Москва</td>\n",
       "      <td>Нет опыта</td>\n",
       "      <td>Полный день</td>\n",
       "      <td>Полная занятость</td>\n",
       "      <td>BI-аналитик, аналитик данных</td>\n",
       "      <td>NaN</td>\n",
       "      <td>&lt;strong&gt;Что нужно делать:&lt;/strong&gt; &lt;ul&gt; &lt;li&gt;Со...</td>\n",
       "      <td>[]</td>\n",
       "    </tr>\n",
       "    <tr>\n",
       "      <th>4</th>\n",
       "      <td>Data Marketing Manager / Маркетолог по анализу...</td>\n",
       "      <td>Procter &amp; Gamble</td>\n",
       "      <td>Алматы</td>\n",
       "      <td>От 1 года до 3 лет</td>\n",
       "      <td>Полный день</td>\n",
       "      <td>Полная занятость</td>\n",
       "      <td>Другое</td>\n",
       "      <td>{'from': 950000, 'to': 'null', 'currency': 'KZ...</td>\n",
       "      <td>&lt;p&gt;&lt;strong&gt;Найм в ТОО «Проктер энд Гэмбл Казах...</td>\n",
       "      <td>['Английский язык', 'Аналитический склад ума']</td>\n",
       "    </tr>\n",
       "  </tbody>\n",
       "</table>\n",
       "</div>"
      ],
      "text/plain": [
       "                                       position_name  \\\n",
       "0                               Data Scientist Авито   \n",
       "1                                       Data analyst   \n",
       "2                         Data Engineer/Data Analyst   \n",
       "3                      Стажер в направление Big Data   \n",
       "4  Data Marketing Manager / Маркетолог по анализу...   \n",
       "\n",
       "                                     employer_name     area  \\\n",
       "0                                     Changellenge   Москва   \n",
       "1  Публичная Компания «Freedom Finance Global PLC»   Алматы   \n",
       "2                                         IMANTECH  Ташкент   \n",
       "3                                               T2   Москва   \n",
       "4                                 Procter & Gamble   Алматы   \n",
       "\n",
       "           experience       schedule        employment  \\\n",
       "0  От 1 года до 3 лет    Полный день  Полная занятость   \n",
       "1  От 1 года до 3 лет    Полный день  Полная занятость   \n",
       "2           Нет опыта  Гибкий график  Полная занятость   \n",
       "3           Нет опыта    Полный день  Полная занятость   \n",
       "4  От 1 года до 3 лет    Полный день  Полная занятость   \n",
       "\n",
       "             professional_roles  \\\n",
       "0                        Другое   \n",
       "1  BI-аналитик, аналитик данных   \n",
       "2  BI-аналитик, аналитик данных   \n",
       "3  BI-аналитик, аналитик данных   \n",
       "4                        Другое   \n",
       "\n",
       "                                              salary  \\\n",
       "0  {'from': 255000, 'to': 490000, 'currency': 'RU...   \n",
       "1  {'from': 800000, 'to': 'null', 'currency': 'KZ...   \n",
       "2                                                NaN   \n",
       "3                                                NaN   \n",
       "4  {'from': 950000, 'to': 'null', 'currency': 'KZ...   \n",
       "\n",
       "                                         description  \\\n",
       "0  <p>В наших командах разрабатывают эффективные ...   \n",
       "1  <p><strong>Обязанности</strong></p><ul><li>Изв...   \n",
       "2  <p><strong>About Us:</strong> Welcome to <stro...   \n",
       "3  <strong>Что нужно делать:</strong> <ul> <li>Со...   \n",
       "4  <p><strong>Найм в ТОО «Проктер энд Гэмбл Казах...   \n",
       "\n",
       "                                          key_skills  \n",
       "0                                                 []  \n",
       "1                                                 []  \n",
       "2  ['SQL', 'Визуализация данных', 'Python', 'Powe...  \n",
       "3                                                 []  \n",
       "4     ['Английский язык', 'Аналитический склад ума']  "
      ]
     },
     "execution_count": 3,
     "metadata": {},
     "output_type": "execute_result"
    }
   ],
   "source": [
    "df.head(5)"
   ]
  },
  {
   "cell_type": "code",
   "execution_count": 4,
   "metadata": {
    "scrolled": true
   },
   "outputs": [
    {
     "data": {
      "text/html": [
       "<div>\n",
       "<style scoped>\n",
       "    .dataframe tbody tr th:only-of-type {\n",
       "        vertical-align: middle;\n",
       "    }\n",
       "\n",
       "    .dataframe tbody tr th {\n",
       "        vertical-align: top;\n",
       "    }\n",
       "\n",
       "    .dataframe thead th {\n",
       "        text-align: right;\n",
       "    }\n",
       "</style>\n",
       "<table border=\"1\" class=\"dataframe\">\n",
       "  <thead>\n",
       "    <tr style=\"text-align: right;\">\n",
       "      <th></th>\n",
       "      <th>position_name</th>\n",
       "      <th>employer_name</th>\n",
       "      <th>area</th>\n",
       "      <th>experience</th>\n",
       "      <th>schedule</th>\n",
       "      <th>employment</th>\n",
       "      <th>professional_roles</th>\n",
       "      <th>salary</th>\n",
       "      <th>description</th>\n",
       "      <th>key_skills</th>\n",
       "    </tr>\n",
       "  </thead>\n",
       "  <tbody>\n",
       "    <tr>\n",
       "      <th>1522</th>\n",
       "      <td>Senior Data Scientist в b2c направление</td>\n",
       "      <td>HeadHunter</td>\n",
       "      <td>Москва</td>\n",
       "      <td>От 3 до 6 лет</td>\n",
       "      <td>Гибкий график</td>\n",
       "      <td>Полная занятость</td>\n",
       "      <td>Программист, разработчик</td>\n",
       "      <td>NaN</td>\n",
       "      <td>&lt;p&gt;Наша команда работает с соискательской функ...</td>\n",
       "      <td>['Python', 'Machine Learning', 'SQL', 'PyTorch...</td>\n",
       "    </tr>\n",
       "    <tr>\n",
       "      <th>1523</th>\n",
       "      <td>Data analyst (Senior)</td>\n",
       "      <td>Иви</td>\n",
       "      <td>Москва</td>\n",
       "      <td>От 3 до 6 лет</td>\n",
       "      <td>Полный день</td>\n",
       "      <td>Полная занятость</td>\n",
       "      <td>BI-аналитик, аналитик данных</td>\n",
       "      <td>NaN</td>\n",
       "      <td>&lt;p&gt;&lt;strong&gt;Иви — один из лидеров рынка онлайн-...</td>\n",
       "      <td>[]</td>\n",
       "    </tr>\n",
       "    <tr>\n",
       "      <th>1524</th>\n",
       "      <td>Senior Data Analyst</td>\n",
       "      <td>Autodoc Group (Автодок Казахстан)</td>\n",
       "      <td>Алматы</td>\n",
       "      <td>От 3 до 6 лет</td>\n",
       "      <td>Полный день</td>\n",
       "      <td>Полная занятость</td>\n",
       "      <td>Продуктовый аналитик</td>\n",
       "      <td>NaN</td>\n",
       "      <td>&lt;p&gt;Company Description&lt;/p&gt; &lt;p&gt;AUTODOC is a tec...</td>\n",
       "      <td>[]</td>\n",
       "    </tr>\n",
       "    <tr>\n",
       "      <th>1525</th>\n",
       "      <td>TeamLead Data Engineer</td>\n",
       "      <td>HeadHunter</td>\n",
       "      <td>Москва</td>\n",
       "      <td>От 3 до 6 лет</td>\n",
       "      <td>Полный день</td>\n",
       "      <td>Полная занятость</td>\n",
       "      <td>Программист, разработчик</td>\n",
       "      <td>NaN</td>\n",
       "      <td>&lt;p&gt;&lt;strong&gt;Привет,&lt;/strong&gt; &lt;strong&gt;на связи к...</td>\n",
       "      <td>['Python', 'Apache Airflow', 'Apache Cassandra...</td>\n",
       "    </tr>\n",
       "    <tr>\n",
       "      <th>1526</th>\n",
       "      <td>Senior Python Developer (Data Platform)</td>\n",
       "      <td>Mindbox</td>\n",
       "      <td>Москва</td>\n",
       "      <td>От 3 до 6 лет</td>\n",
       "      <td>Гибкий график</td>\n",
       "      <td>Полная занятость</td>\n",
       "      <td>Программист, разработчик</td>\n",
       "      <td>NaN</td>\n",
       "      <td>&lt;p&gt;&lt;strong&gt;Mindbox&lt;/strong&gt; — крупнейшая в Рос...</td>\n",
       "      <td>['Python', 'PySpark', 'Airflow', 'Kafka', 'Del...</td>\n",
       "    </tr>\n",
       "  </tbody>\n",
       "</table>\n",
       "</div>"
      ],
      "text/plain": [
       "                                position_name  \\\n",
       "1522  Senior Data Scientist в b2c направление   \n",
       "1523                    Data analyst (Senior)   \n",
       "1524                      Senior Data Analyst   \n",
       "1525                   TeamLead Data Engineer   \n",
       "1526  Senior Python Developer (Data Platform)   \n",
       "\n",
       "                          employer_name    area     experience       schedule  \\\n",
       "1522                         HeadHunter  Москва  От 3 до 6 лет  Гибкий график   \n",
       "1523                                Иви  Москва  От 3 до 6 лет    Полный день   \n",
       "1524  Autodoc Group (Автодок Казахстан)  Алматы  От 3 до 6 лет    Полный день   \n",
       "1525                         HeadHunter  Москва  От 3 до 6 лет    Полный день   \n",
       "1526                            Mindbox  Москва  От 3 до 6 лет  Гибкий график   \n",
       "\n",
       "            employment            professional_roles salary  \\\n",
       "1522  Полная занятость      Программист, разработчик    NaN   \n",
       "1523  Полная занятость  BI-аналитик, аналитик данных    NaN   \n",
       "1524  Полная занятость          Продуктовый аналитик    NaN   \n",
       "1525  Полная занятость      Программист, разработчик    NaN   \n",
       "1526  Полная занятость      Программист, разработчик    NaN   \n",
       "\n",
       "                                            description  \\\n",
       "1522  <p>Наша команда работает с соискательской функ...   \n",
       "1523  <p><strong>Иви — один из лидеров рынка онлайн-...   \n",
       "1524  <p>Company Description</p> <p>AUTODOC is a tec...   \n",
       "1525  <p><strong>Привет,</strong> <strong>на связи к...   \n",
       "1526  <p><strong>Mindbox</strong> — крупнейшая в Рос...   \n",
       "\n",
       "                                             key_skills  \n",
       "1522  ['Python', 'Machine Learning', 'SQL', 'PyTorch...  \n",
       "1523                                                 []  \n",
       "1524                                                 []  \n",
       "1525  ['Python', 'Apache Airflow', 'Apache Cassandra...  \n",
       "1526  ['Python', 'PySpark', 'Airflow', 'Kafka', 'Del...  "
      ]
     },
     "execution_count": 4,
     "metadata": {},
     "output_type": "execute_result"
    }
   ],
   "source": [
    "df.tail(5)"
   ]
  },
  {
   "cell_type": "code",
   "execution_count": 5,
   "metadata": {},
   "outputs": [
    {
     "name": "stdout",
     "output_type": "stream",
     "text": [
      "<class 'pandas.core.frame.DataFrame'>\n",
      "Index: 1527 entries, 0 to 1526\n",
      "Data columns (total 10 columns):\n",
      " #   Column              Non-Null Count  Dtype \n",
      "---  ------              --------------  ----- \n",
      " 0   position_name       1527 non-null   object\n",
      " 1   employer_name       1527 non-null   object\n",
      " 2   area                1527 non-null   object\n",
      " 3   experience          1527 non-null   object\n",
      " 4   schedule            1527 non-null   object\n",
      " 5   employment          1527 non-null   object\n",
      " 6   professional_roles  1527 non-null   object\n",
      " 7   salary              220 non-null    object\n",
      " 8   description         1527 non-null   object\n",
      " 9   key_skills          1527 non-null   object\n",
      "dtypes: object(10)\n",
      "memory usage: 131.2+ KB\n"
     ]
    }
   ],
   "source": [
    "df.info()"
   ]
  },
  {
   "cell_type": "code",
   "execution_count": 6,
   "metadata": {},
   "outputs": [
    {
     "data": {
      "text/html": [
       "<div>\n",
       "<style scoped>\n",
       "    .dataframe tbody tr th:only-of-type {\n",
       "        vertical-align: middle;\n",
       "    }\n",
       "\n",
       "    .dataframe tbody tr th {\n",
       "        vertical-align: top;\n",
       "    }\n",
       "\n",
       "    .dataframe thead th {\n",
       "        text-align: right;\n",
       "    }\n",
       "</style>\n",
       "<table border=\"1\" class=\"dataframe\">\n",
       "  <thead>\n",
       "    <tr style=\"text-align: right;\">\n",
       "      <th></th>\n",
       "      <th>position_name</th>\n",
       "      <th>employer_name</th>\n",
       "      <th>area</th>\n",
       "      <th>experience</th>\n",
       "      <th>schedule</th>\n",
       "      <th>employment</th>\n",
       "      <th>professional_roles</th>\n",
       "      <th>salary</th>\n",
       "      <th>description</th>\n",
       "      <th>key_skills</th>\n",
       "    </tr>\n",
       "  </thead>\n",
       "  <tbody>\n",
       "    <tr>\n",
       "      <th>count</th>\n",
       "      <td>1527</td>\n",
       "      <td>1527</td>\n",
       "      <td>1527</td>\n",
       "      <td>1527</td>\n",
       "      <td>1527</td>\n",
       "      <td>1527</td>\n",
       "      <td>1527</td>\n",
       "      <td>220</td>\n",
       "      <td>1527</td>\n",
       "      <td>1527</td>\n",
       "    </tr>\n",
       "    <tr>\n",
       "      <th>unique</th>\n",
       "      <td>793</td>\n",
       "      <td>524</td>\n",
       "      <td>102</td>\n",
       "      <td>4</td>\n",
       "      <td>5</td>\n",
       "      <td>4</td>\n",
       "      <td>36</td>\n",
       "      <td>130</td>\n",
       "      <td>1232</td>\n",
       "      <td>653</td>\n",
       "    </tr>\n",
       "    <tr>\n",
       "      <th>top</th>\n",
       "      <td>Data Engineer</td>\n",
       "      <td>СБЕР</td>\n",
       "      <td>Москва</td>\n",
       "      <td>От 3 до 6 лет</td>\n",
       "      <td>Полный день</td>\n",
       "      <td>Полная занятость</td>\n",
       "      <td>Дата-сайентист</td>\n",
       "      <td>{'from': 100000, 'to': 110000, 'currency': 'RU...</td>\n",
       "      <td>&lt;p&gt;Striving to gain market-oriented knowledge ...</td>\n",
       "      <td>[]</td>\n",
       "    </tr>\n",
       "    <tr>\n",
       "      <th>freq</th>\n",
       "      <td>126</td>\n",
       "      <td>146</td>\n",
       "      <td>912</td>\n",
       "      <td>724</td>\n",
       "      <td>1098</td>\n",
       "      <td>1464</td>\n",
       "      <td>464</td>\n",
       "      <td>20</td>\n",
       "      <td>46</td>\n",
       "      <td>607</td>\n",
       "    </tr>\n",
       "  </tbody>\n",
       "</table>\n",
       "</div>"
      ],
      "text/plain": [
       "        position_name employer_name    area     experience     schedule  \\\n",
       "count            1527          1527    1527           1527         1527   \n",
       "unique            793           524     102              4            5   \n",
       "top     Data Engineer          СБЕР  Москва  От 3 до 6 лет  Полный день   \n",
       "freq              126           146     912            724         1098   \n",
       "\n",
       "              employment professional_roles  \\\n",
       "count               1527               1527   \n",
       "unique                 4                 36   \n",
       "top     Полная занятость     Дата-сайентист   \n",
       "freq                1464                464   \n",
       "\n",
       "                                                   salary  \\\n",
       "count                                                 220   \n",
       "unique                                                130   \n",
       "top     {'from': 100000, 'to': 110000, 'currency': 'RU...   \n",
       "freq                                                   20   \n",
       "\n",
       "                                              description key_skills  \n",
       "count                                                1527       1527  \n",
       "unique                                               1232        653  \n",
       "top     <p>Striving to gain market-oriented knowledge ...         []  \n",
       "freq                                                   46        607  "
      ]
     },
     "execution_count": 6,
     "metadata": {},
     "output_type": "execute_result"
    }
   ],
   "source": [
    "df.describe()"
   ]
  },
  {
   "cell_type": "markdown",
   "metadata": {
    "id": "RU50oGLwAeK0"
   },
   "source": [
    "1. Сколько в датасете строк и столбцов? **(1)**"
   ]
  },
  {
   "cell_type": "code",
   "execution_count": 7,
   "metadata": {
    "id": "P4CQxc7AAjlK"
   },
   "outputs": [
    {
     "data": {
      "text/plain": [
       "(1527, 10)"
      ]
     },
     "execution_count": 7,
     "metadata": {},
     "output_type": "execute_result"
    }
   ],
   "source": [
    "df.shape\n",
    "\n",
    "# Ответ: 1527 строк и 10 солбцов"
   ]
  },
  {
   "cell_type": "markdown",
   "metadata": {
    "id": "11jmFZo-Aj37"
   },
   "source": [
    "2. Есть ли в датасете пропуски? **(1)**"
   ]
  },
  {
   "cell_type": "code",
   "execution_count": 8,
   "metadata": {
    "id": "bQLqMg-iAl-H"
   },
   "outputs": [
    {
     "data": {
      "text/plain": [
       "position_name            0\n",
       "employer_name            0\n",
       "area                     0\n",
       "experience               0\n",
       "schedule                 0\n",
       "employment               0\n",
       "professional_roles       0\n",
       "salary                1307\n",
       "description              0\n",
       "key_skills               0\n",
       "dtype: int64"
      ]
     },
     "execution_count": 8,
     "metadata": {},
     "output_type": "execute_result"
    }
   ],
   "source": [
    "df.isnull().sum()\n",
    "\n",
    "# Ответ: да, есть 1307 пропусков по столбцу salary"
   ]
  },
  {
   "cell_type": "markdown",
   "metadata": {
    "id": "0eMyVxm4AmI_"
   },
   "source": [
    "3. Есть в датасете полные дубли? Если да, удалите их (метод drop_duplicates). **(1)**"
   ]
  },
  {
   "cell_type": "code",
   "execution_count": 9,
   "metadata": {
    "id": "UW8k9SIqAoi6"
   },
   "outputs": [
    {
     "data": {
      "text/plain": [
       "146"
      ]
     },
     "execution_count": 9,
     "metadata": {},
     "output_type": "execute_result"
    }
   ],
   "source": [
    "df.duplicated().sum()"
   ]
  },
  {
   "cell_type": "code",
   "execution_count": 10,
   "metadata": {},
   "outputs": [],
   "source": [
    "# Ответ: да, в датасете есть 146 дубликатов, удалим их\n",
    "\n",
    "df = df.drop_duplicates()"
   ]
  },
  {
   "cell_type": "code",
   "execution_count": 11,
   "metadata": {},
   "outputs": [
    {
     "data": {
      "text/plain": [
       "0"
      ]
     },
     "execution_count": 11,
     "metadata": {},
     "output_type": "execute_result"
    }
   ],
   "source": [
    "df.duplicated().sum()"
   ]
  },
  {
   "cell_type": "markdown",
   "metadata": {
    "id": "wZQjxBvnApIK"
   },
   "source": [
    "4. Сколько уникальных значений у переменной professional_roles? **(1)**"
   ]
  },
  {
   "cell_type": "code",
   "execution_count": 12,
   "metadata": {
    "id": "hN5bC73JAq81"
   },
   "outputs": [
    {
     "data": {
      "text/plain": [
       "36"
      ]
     },
     "execution_count": 12,
     "metadata": {},
     "output_type": "execute_result"
    }
   ],
   "source": [
    "len(df['professional_roles'].unique())\n",
    "\n",
    "# Ответ: 36 уникальных значений. "
   ]
  },
  {
   "cell_type": "markdown",
   "metadata": {
    "id": "_hQHJ5SgArHw"
   },
   "source": [
    "5. Сколько в датасете вакансий, не требующих опыта? (**2**)"
   ]
  },
  {
   "cell_type": "code",
   "execution_count": 13,
   "metadata": {
    "id": "LdDWr7_iAseP"
   },
   "outputs": [
    {
     "data": {
      "text/plain": [
       "experience\n",
       "От 3 до 6 лет         637\n",
       "От 1 года до 3 лет    546\n",
       "Нет опыта             121\n",
       "Более 6 лет            77\n",
       "Name: count, dtype: int64"
      ]
     },
     "execution_count": 13,
     "metadata": {},
     "output_type": "execute_result"
    }
   ],
   "source": [
    "# Посмотрим для начала какие есть в целом значения по полю experience (покольку в реальных датасетах \n",
    "# данные не всегда идеальны и могут быть одновременно варианты \"нет опыта\", \"без опыта\" и тп - т.е.\n",
    "# одинаковые по смыслу и разные по значению\n",
    "\n",
    "df['experience'].value_counts()"
   ]
  },
  {
   "cell_type": "code",
   "execution_count": 14,
   "metadata": {},
   "outputs": [],
   "source": [
    "# Ответ: 121 вакансия"
   ]
  },
  {
   "cell_type": "markdown",
   "metadata": {
    "id": "KaKItcatAspK"
   },
   "source": [
    "6. Какое среднее количество навыков в вакансии? (переменная key_skills) **(2)**"
   ]
  },
  {
   "cell_type": "code",
   "execution_count": 15,
   "metadata": {
    "id": "X53ovmvWAuHb"
   },
   "outputs": [
    {
     "data": {
      "text/plain": [
       "52.790731354091236"
      ]
     },
     "execution_count": 15,
     "metadata": {},
     "output_type": "execute_result"
    }
   ],
   "source": [
    "df['key_skills'].apply(len).mean()\n",
    "\n",
    "# Отет: 53 навыка"
   ]
  },
  {
   "cell_type": "markdown",
   "metadata": {
    "id": "Njj79x9LAuUd"
   },
   "source": [
    "7. Какие валюты (ключ currency в поле salary) используются для заработной платы? Создайте столбец currency.  **(2)**\n",
    "*Подсказка. Как вариант, можете воспользоваться функцией eval, которая исполняет код, написанный в строке. Для проверки на NaN можете использовать pd.isnull()*"
   ]
  },
  {
   "cell_type": "code",
   "execution_count": 16,
   "metadata": {},
   "outputs": [],
   "source": [
    "# import re\n",
    "\n",
    "# pattern = re.compile('\\'currency\\':\\s\\'(\\w+)\\'')\n",
    "\n",
    "# df['currency'] = df.salary.apply(lambda row: None if pd.isna(row) else re.search(pattern, row).group(1))"
   ]
  },
  {
   "cell_type": "code",
   "execution_count": 17,
   "metadata": {},
   "outputs": [],
   "source": [
    "df['currency'] = df.salary.apply(lambda row: None if pd.isna(row) else eval(row).get('currency'))"
   ]
  },
  {
   "cell_type": "code",
   "execution_count": 18,
   "metadata": {},
   "outputs": [
    {
     "data": {
      "text/plain": [
       "array(['RUR', 'KZT', None, 'UZS', 'USD', 'EUR', 'BYR'], dtype=object)"
      ]
     },
     "execution_count": 18,
     "metadata": {},
     "output_type": "execute_result"
    }
   ],
   "source": [
    "df['currency'].unique()\n",
    "\n",
    "# Ответ: используемые валюты RUR, KZT, UZS, USD, EUR, BYR"
   ]
  },
  {
   "cell_type": "markdown",
   "metadata": {
    "id": "GOkqC35bAwDk"
   },
   "source": [
    "8. Какая компания лидирует по количеству вакансий? **(2)**"
   ]
  },
  {
   "cell_type": "code",
   "execution_count": 19,
   "metadata": {
    "id": "midRRb3KAxXu"
   },
   "outputs": [
    {
     "data": {
      "text/plain": [
       "employer_name\n",
       "СБЕР                                 124\n",
       "Aston                                 56\n",
       "Т-Банк                                49\n",
       "EPAM Uzbekistan                       39\n",
       "Газпромбанк                           27\n",
       "                                    ... \n",
       "БСТ Менеджмент-Консалтинг              1\n",
       "Clear Mind                             1\n",
       "X5 Digital                             1\n",
       "Московская Биржа                       1\n",
       "Autodoc Group (Автодок Казахстан)      1\n",
       "Name: count, Length: 524, dtype: int64"
      ]
     },
     "execution_count": 19,
     "metadata": {},
     "output_type": "execute_result"
    }
   ],
   "source": [
    "df['employer_name'].value_counts()\n",
    "\n",
    "# Ответ: Сбер"
   ]
  },
  {
   "cell_type": "markdown",
   "metadata": {
    "id": "0LNMKQ39Axj7"
   },
   "source": [
    "9.  Какая компания лидирует по количеству вакансий с указанием заработной платы? **(2)**"
   ]
  },
  {
   "cell_type": "code",
   "execution_count": 20,
   "metadata": {
    "id": "SB2cbnIUAy7N"
   },
   "outputs": [
    {
     "data": {
      "text/plain": [
       "employer_name\n",
       "Aston                          22\n",
       "Changellenge                    6\n",
       "Алабуга, ОЭЗ ППТ                6\n",
       "СБЕР                            5\n",
       "Innovative People               4\n",
       "                               ..\n",
       "ФГАНУ НИИ Спецвузавтоматика     1\n",
       "QIC                             1\n",
       "Анвио Парк                      1\n",
       "HR IMPLANT                      1\n",
       "HeadHunter                      1\n",
       "Name: count, Length: 130, dtype: int64"
      ]
     },
     "execution_count": 20,
     "metadata": {},
     "output_type": "execute_result"
    }
   ],
   "source": [
    "df[df['salary'].notna()]['employer_name'].value_counts()\n",
    "\n",
    "# Ответ: Aston"
   ]
  },
  {
   "cell_type": "markdown",
   "metadata": {
    "id": "ndTNRlBgAzHJ"
   },
   "source": [
    "10. Создайте столбец salary_num. Рассчитайте его, используя столбец salary. Если в это столбце указана вилка зарплаты, используйте среднее значение между from и to. Если указано только одно из значений (from или to, используйте его) **(2)**"
   ]
  },
  {
   "cell_type": "code",
   "execution_count": 21,
   "metadata": {
    "id": "0j1axkUsA0fL"
   },
   "outputs": [],
   "source": [
    "# pattern_sal = re.compile(r\"\\{'from':\\s*([0-9]+|'.*?'),\\s*'to':\\s*([0-9]+|'.*?')\")\n",
    "\n",
    "# def get_salary(pattern, text):\n",
    "#     salary = [str(v).replace('\\'', '') for v in re.findall(pattern, text)[0]]\n",
    "#     if (salary[0] == 'null') & (salary[1] != 'null'):\n",
    "#         return int(salary[1])\n",
    "#     elif (salary[0] != 'null') & (salary[1] == 'null'):\n",
    "#         return int(salary[0])\n",
    "#     else:\n",
    "#         return (int(salary[0]) + int(salary[1])) / 2\n",
    "    \n",
    "# df['salary_num'] = df.salary.apply(lambda row: None if pd.isna(row) else get_salary(pattern_sal, row))"
   ]
  },
  {
   "cell_type": "code",
   "execution_count": 22,
   "metadata": {},
   "outputs": [],
   "source": [
    "def get_salary(row):\n",
    "    salary_data = eval(row)\n",
    "    salary_min = salary_data.get('from')\n",
    "    salary_max = salary_data.get('to')\n",
    "    if (salary_min == 'null') & (salary_max != 'null'):\n",
    "        return salary_max\n",
    "    elif (salary_min != 'null') & (salary_max == 'null'):\n",
    "        return salary_min\n",
    "    else:\n",
    "        return (salary_min + salary_max) / 2\n",
    "\n",
    "df['salary_num'] = df.salary.apply(lambda row: None if pd.isna(row) else get_salary(row))"
   ]
  },
  {
   "cell_type": "markdown",
   "metadata": {
    "id": "aGVLxLZ0A0qH"
   },
   "source": [
    "11. Какая средняя заработная плата среди вакансий в рублях? А медианная заработная плата?  **(2)**"
   ]
  },
  {
   "cell_type": "code",
   "execution_count": 23,
   "metadata": {
    "id": "QEbQzz0MA16X"
   },
   "outputs": [
    {
     "name": "stdout",
     "output_type": "stream",
     "text": [
      "Average salary in RUB: 213545.18\n",
      "Median salary in RUB: 200000.00\n"
     ]
    }
   ],
   "source": [
    "print(f\"Average salary in RUB: {df[df['currency'] == 'RUR']['salary_num'].mean():.2f}\")\n",
    "print(f\"Median salary in RUB: {df[df['currency'] == 'RUR']['salary_num'].median():.2f}\")"
   ]
  },
  {
   "cell_type": "markdown",
   "metadata": {
    "id": "SDg-jPh-A2J_"
   },
   "source": [
    "12. Создайте столбец is_python_requirement, который принимает значение 1, если в key_skills присутствует python (учитывайте написание в любом регистре, а также вхождения подстроки python.).  Какой процент вакансий требует знания python? **(3)**"
   ]
  },
  {
   "cell_type": "code",
   "execution_count": 24,
   "metadata": {
    "id": "4f9K2BInA5s0"
   },
   "outputs": [
    {
     "name": "stdout",
     "output_type": "stream",
     "text": [
      "Процент вакансий, где требуется Python: 41.9 %\n"
     ]
    }
   ],
   "source": [
    "import numpy as np\n",
    "\n",
    "df['is_python_requirement'] = df.key_skills.apply(lambda row: 1 if 'python' in ''.join(row).lower() else 0)\n",
    "\n",
    "share_python = df['is_python_requirement'].sum()/df.shape[0] * 100\n",
    "\n",
    "print(f'Процент вакансий, где требуется Python: {share_python:.1f} %')\n"
   ]
  },
  {
   "cell_type": "markdown",
   "metadata": {
    "id": "NHC-yn6LA53-"
   },
   "source": [
    "13. Сгруппируйте по столбцам experience, schedule, employment, is_python_requirement (сразу по четырем столбцам). Найдите по каждой группе:\n",
    "- количество опубликованных вакансий\n",
    "- количество компаний, которые опубликовали вакансии\n",
    "- среднюю заработную плату среди вакансий с указанием зарплаты в рублях\n",
    " **(3)**"
   ]
  },
  {
   "cell_type": "code",
   "execution_count": 25,
   "metadata": {},
   "outputs": [
    {
     "data": {
      "text/html": [
       "<div>\n",
       "<style scoped>\n",
       "    .dataframe tbody tr th:only-of-type {\n",
       "        vertical-align: middle;\n",
       "    }\n",
       "\n",
       "    .dataframe tbody tr th {\n",
       "        vertical-align: top;\n",
       "    }\n",
       "\n",
       "    .dataframe thead th {\n",
       "        text-align: right;\n",
       "    }\n",
       "</style>\n",
       "<table border=\"1\" class=\"dataframe\">\n",
       "  <thead>\n",
       "    <tr style=\"text-align: right;\">\n",
       "      <th></th>\n",
       "      <th>experience</th>\n",
       "      <th>schedule</th>\n",
       "      <th>employment</th>\n",
       "      <th>is_python_requirement</th>\n",
       "      <th>vacancies</th>\n",
       "      <th>employers</th>\n",
       "      <th>salary_in_RUB</th>\n",
       "    </tr>\n",
       "  </thead>\n",
       "  <tbody>\n",
       "    <tr>\n",
       "      <th>0</th>\n",
       "      <td>Более 6 лет</td>\n",
       "      <td>Гибкий график</td>\n",
       "      <td>Полная занятость</td>\n",
       "      <td>0</td>\n",
       "      <td>3</td>\n",
       "      <td>2</td>\n",
       "      <td>NaN</td>\n",
       "    </tr>\n",
       "    <tr>\n",
       "      <th>1</th>\n",
       "      <td>Более 6 лет</td>\n",
       "      <td>Гибкий график</td>\n",
       "      <td>Частичная занятость</td>\n",
       "      <td>0</td>\n",
       "      <td>1</td>\n",
       "      <td>1</td>\n",
       "      <td>NaN</td>\n",
       "    </tr>\n",
       "    <tr>\n",
       "      <th>2</th>\n",
       "      <td>Более 6 лет</td>\n",
       "      <td>Полный день</td>\n",
       "      <td>Полная занятость</td>\n",
       "      <td>0</td>\n",
       "      <td>42</td>\n",
       "      <td>30</td>\n",
       "      <td>318,000.00</td>\n",
       "    </tr>\n",
       "    <tr>\n",
       "      <th>3</th>\n",
       "      <td>Более 6 лет</td>\n",
       "      <td>Полный день</td>\n",
       "      <td>Полная занятость</td>\n",
       "      <td>1</td>\n",
       "      <td>10</td>\n",
       "      <td>9</td>\n",
       "      <td>NaN</td>\n",
       "    </tr>\n",
       "    <tr>\n",
       "      <th>4</th>\n",
       "      <td>Более 6 лет</td>\n",
       "      <td>Удаленная работа</td>\n",
       "      <td>Полная занятость</td>\n",
       "      <td>0</td>\n",
       "      <td>9</td>\n",
       "      <td>7</td>\n",
       "      <td>450,000.00</td>\n",
       "    </tr>\n",
       "    <tr>\n",
       "      <th>5</th>\n",
       "      <td>Более 6 лет</td>\n",
       "      <td>Удаленная работа</td>\n",
       "      <td>Полная занятость</td>\n",
       "      <td>1</td>\n",
       "      <td>12</td>\n",
       "      <td>10</td>\n",
       "      <td>428,333.33</td>\n",
       "    </tr>\n",
       "    <tr>\n",
       "      <th>6</th>\n",
       "      <td>Нет опыта</td>\n",
       "      <td>Гибкий график</td>\n",
       "      <td>Полная занятость</td>\n",
       "      <td>1</td>\n",
       "      <td>2</td>\n",
       "      <td>2</td>\n",
       "      <td>225,000.00</td>\n",
       "    </tr>\n",
       "    <tr>\n",
       "      <th>7</th>\n",
       "      <td>Нет опыта</td>\n",
       "      <td>Гибкий график</td>\n",
       "      <td>Стажировка</td>\n",
       "      <td>1</td>\n",
       "      <td>3</td>\n",
       "      <td>1</td>\n",
       "      <td>NaN</td>\n",
       "    </tr>\n",
       "    <tr>\n",
       "      <th>8</th>\n",
       "      <td>Нет опыта</td>\n",
       "      <td>Полный день</td>\n",
       "      <td>Полная занятость</td>\n",
       "      <td>0</td>\n",
       "      <td>26</td>\n",
       "      <td>17</td>\n",
       "      <td>67,571.43</td>\n",
       "    </tr>\n",
       "    <tr>\n",
       "      <th>9</th>\n",
       "      <td>Нет опыта</td>\n",
       "      <td>Полный день</td>\n",
       "      <td>Полная занятость</td>\n",
       "      <td>1</td>\n",
       "      <td>48</td>\n",
       "      <td>6</td>\n",
       "      <td>85,714.29</td>\n",
       "    </tr>\n",
       "    <tr>\n",
       "      <th>10</th>\n",
       "      <td>Нет опыта</td>\n",
       "      <td>Полный день</td>\n",
       "      <td>Стажировка</td>\n",
       "      <td>0</td>\n",
       "      <td>7</td>\n",
       "      <td>4</td>\n",
       "      <td>66,100.00</td>\n",
       "    </tr>\n",
       "    <tr>\n",
       "      <th>11</th>\n",
       "      <td>Нет опыта</td>\n",
       "      <td>Полный день</td>\n",
       "      <td>Стажировка</td>\n",
       "      <td>1</td>\n",
       "      <td>9</td>\n",
       "      <td>3</td>\n",
       "      <td>NaN</td>\n",
       "    </tr>\n",
       "    <tr>\n",
       "      <th>12</th>\n",
       "      <td>Нет опыта</td>\n",
       "      <td>Удаленная работа</td>\n",
       "      <td>Полная занятость</td>\n",
       "      <td>0</td>\n",
       "      <td>2</td>\n",
       "      <td>2</td>\n",
       "      <td>56,000.00</td>\n",
       "    </tr>\n",
       "    <tr>\n",
       "      <th>13</th>\n",
       "      <td>Нет опыта</td>\n",
       "      <td>Удаленная работа</td>\n",
       "      <td>Полная занятость</td>\n",
       "      <td>1</td>\n",
       "      <td>1</td>\n",
       "      <td>1</td>\n",
       "      <td>NaN</td>\n",
       "    </tr>\n",
       "    <tr>\n",
       "      <th>14</th>\n",
       "      <td>Нет опыта</td>\n",
       "      <td>Удаленная работа</td>\n",
       "      <td>Стажировка</td>\n",
       "      <td>0</td>\n",
       "      <td>2</td>\n",
       "      <td>2</td>\n",
       "      <td>NaN</td>\n",
       "    </tr>\n",
       "    <tr>\n",
       "      <th>15</th>\n",
       "      <td>Нет опыта</td>\n",
       "      <td>Удаленная работа</td>\n",
       "      <td>Стажировка</td>\n",
       "      <td>1</td>\n",
       "      <td>21</td>\n",
       "      <td>1</td>\n",
       "      <td>105,000.00</td>\n",
       "    </tr>\n",
       "    <tr>\n",
       "      <th>16</th>\n",
       "      <td>От 1 года до 3 лет</td>\n",
       "      <td>Вахтовый метод</td>\n",
       "      <td>Полная занятость</td>\n",
       "      <td>0</td>\n",
       "      <td>1</td>\n",
       "      <td>1</td>\n",
       "      <td>NaN</td>\n",
       "    </tr>\n",
       "    <tr>\n",
       "      <th>17</th>\n",
       "      <td>От 1 года до 3 лет</td>\n",
       "      <td>Гибкий график</td>\n",
       "      <td>Полная занятость</td>\n",
       "      <td>0</td>\n",
       "      <td>6</td>\n",
       "      <td>4</td>\n",
       "      <td>110,000.00</td>\n",
       "    </tr>\n",
       "    <tr>\n",
       "      <th>18</th>\n",
       "      <td>От 1 года до 3 лет</td>\n",
       "      <td>Гибкий график</td>\n",
       "      <td>Полная занятость</td>\n",
       "      <td>1</td>\n",
       "      <td>17</td>\n",
       "      <td>14</td>\n",
       "      <td>155,000.00</td>\n",
       "    </tr>\n",
       "    <tr>\n",
       "      <th>19</th>\n",
       "      <td>От 1 года до 3 лет</td>\n",
       "      <td>Гибкий график</td>\n",
       "      <td>Стажировка</td>\n",
       "      <td>0</td>\n",
       "      <td>1</td>\n",
       "      <td>1</td>\n",
       "      <td>NaN</td>\n",
       "    </tr>\n",
       "    <tr>\n",
       "      <th>20</th>\n",
       "      <td>От 1 года до 3 лет</td>\n",
       "      <td>Гибкий график</td>\n",
       "      <td>Частичная занятость</td>\n",
       "      <td>1</td>\n",
       "      <td>1</td>\n",
       "      <td>1</td>\n",
       "      <td>47,500.00</td>\n",
       "    </tr>\n",
       "    <tr>\n",
       "      <th>21</th>\n",
       "      <td>От 1 года до 3 лет</td>\n",
       "      <td>Полный день</td>\n",
       "      <td>Полная занятость</td>\n",
       "      <td>0</td>\n",
       "      <td>269</td>\n",
       "      <td>132</td>\n",
       "      <td>207,471.43</td>\n",
       "    </tr>\n",
       "    <tr>\n",
       "      <th>22</th>\n",
       "      <td>От 1 года до 3 лет</td>\n",
       "      <td>Полный день</td>\n",
       "      <td>Полная занятость</td>\n",
       "      <td>1</td>\n",
       "      <td>148</td>\n",
       "      <td>104</td>\n",
       "      <td>164,065.22</td>\n",
       "    </tr>\n",
       "    <tr>\n",
       "      <th>23</th>\n",
       "      <td>От 1 года до 3 лет</td>\n",
       "      <td>Сменный график</td>\n",
       "      <td>Полная занятость</td>\n",
       "      <td>0</td>\n",
       "      <td>2</td>\n",
       "      <td>2</td>\n",
       "      <td>NaN</td>\n",
       "    </tr>\n",
       "    <tr>\n",
       "      <th>24</th>\n",
       "      <td>От 1 года до 3 лет</td>\n",
       "      <td>Сменный график</td>\n",
       "      <td>Полная занятость</td>\n",
       "      <td>1</td>\n",
       "      <td>1</td>\n",
       "      <td>1</td>\n",
       "      <td>NaN</td>\n",
       "    </tr>\n",
       "    <tr>\n",
       "      <th>25</th>\n",
       "      <td>От 1 года до 3 лет</td>\n",
       "      <td>Сменный график</td>\n",
       "      <td>Частичная занятость</td>\n",
       "      <td>0</td>\n",
       "      <td>1</td>\n",
       "      <td>1</td>\n",
       "      <td>NaN</td>\n",
       "    </tr>\n",
       "    <tr>\n",
       "      <th>26</th>\n",
       "      <td>От 1 года до 3 лет</td>\n",
       "      <td>Удаленная работа</td>\n",
       "      <td>Полная занятость</td>\n",
       "      <td>0</td>\n",
       "      <td>50</td>\n",
       "      <td>36</td>\n",
       "      <td>178,333.33</td>\n",
       "    </tr>\n",
       "    <tr>\n",
       "      <th>27</th>\n",
       "      <td>От 1 года до 3 лет</td>\n",
       "      <td>Удаленная работа</td>\n",
       "      <td>Полная занятость</td>\n",
       "      <td>1</td>\n",
       "      <td>46</td>\n",
       "      <td>37</td>\n",
       "      <td>172,500.00</td>\n",
       "    </tr>\n",
       "    <tr>\n",
       "      <th>28</th>\n",
       "      <td>От 1 года до 3 лет</td>\n",
       "      <td>Удаленная работа</td>\n",
       "      <td>Частичная занятость</td>\n",
       "      <td>0</td>\n",
       "      <td>1</td>\n",
       "      <td>1</td>\n",
       "      <td>30,000.00</td>\n",
       "    </tr>\n",
       "    <tr>\n",
       "      <th>29</th>\n",
       "      <td>От 1 года до 3 лет</td>\n",
       "      <td>Удаленная работа</td>\n",
       "      <td>Частичная занятость</td>\n",
       "      <td>1</td>\n",
       "      <td>2</td>\n",
       "      <td>2</td>\n",
       "      <td>NaN</td>\n",
       "    </tr>\n",
       "    <tr>\n",
       "      <th>30</th>\n",
       "      <td>От 3 до 6 лет</td>\n",
       "      <td>Гибкий график</td>\n",
       "      <td>Полная занятость</td>\n",
       "      <td>0</td>\n",
       "      <td>8</td>\n",
       "      <td>6</td>\n",
       "      <td>508,250.00</td>\n",
       "    </tr>\n",
       "    <tr>\n",
       "      <th>31</th>\n",
       "      <td>От 3 до 6 лет</td>\n",
       "      <td>Гибкий график</td>\n",
       "      <td>Полная занятость</td>\n",
       "      <td>1</td>\n",
       "      <td>7</td>\n",
       "      <td>7</td>\n",
       "      <td>NaN</td>\n",
       "    </tr>\n",
       "    <tr>\n",
       "      <th>32</th>\n",
       "      <td>От 3 до 6 лет</td>\n",
       "      <td>Гибкий график</td>\n",
       "      <td>Проектная работа</td>\n",
       "      <td>0</td>\n",
       "      <td>1</td>\n",
       "      <td>1</td>\n",
       "      <td>NaN</td>\n",
       "    </tr>\n",
       "    <tr>\n",
       "      <th>33</th>\n",
       "      <td>От 3 до 6 лет</td>\n",
       "      <td>Полный день</td>\n",
       "      <td>Полная занятость</td>\n",
       "      <td>0</td>\n",
       "      <td>281</td>\n",
       "      <td>132</td>\n",
       "      <td>311,788.44</td>\n",
       "    </tr>\n",
       "    <tr>\n",
       "      <th>34</th>\n",
       "      <td>От 3 до 6 лет</td>\n",
       "      <td>Полный день</td>\n",
       "      <td>Полная занятость</td>\n",
       "      <td>1</td>\n",
       "      <td>152</td>\n",
       "      <td>105</td>\n",
       "      <td>342,744.44</td>\n",
       "    </tr>\n",
       "    <tr>\n",
       "      <th>35</th>\n",
       "      <td>От 3 до 6 лет</td>\n",
       "      <td>Полный день</td>\n",
       "      <td>Проектная работа</td>\n",
       "      <td>1</td>\n",
       "      <td>1</td>\n",
       "      <td>1</td>\n",
       "      <td>250,000.00</td>\n",
       "    </tr>\n",
       "    <tr>\n",
       "      <th>36</th>\n",
       "      <td>От 3 до 6 лет</td>\n",
       "      <td>Удаленная работа</td>\n",
       "      <td>Полная занятость</td>\n",
       "      <td>0</td>\n",
       "      <td>89</td>\n",
       "      <td>56</td>\n",
       "      <td>364,678.57</td>\n",
       "    </tr>\n",
       "    <tr>\n",
       "      <th>37</th>\n",
       "      <td>От 3 до 6 лет</td>\n",
       "      <td>Удаленная работа</td>\n",
       "      <td>Полная занятость</td>\n",
       "      <td>1</td>\n",
       "      <td>96</td>\n",
       "      <td>63</td>\n",
       "      <td>296,456.52</td>\n",
       "    </tr>\n",
       "    <tr>\n",
       "      <th>38</th>\n",
       "      <td>От 3 до 6 лет</td>\n",
       "      <td>Удаленная работа</td>\n",
       "      <td>Частичная занятость</td>\n",
       "      <td>0</td>\n",
       "      <td>1</td>\n",
       "      <td>1</td>\n",
       "      <td>150,000.00</td>\n",
       "    </tr>\n",
       "    <tr>\n",
       "      <th>39</th>\n",
       "      <td>От 3 до 6 лет</td>\n",
       "      <td>Удаленная работа</td>\n",
       "      <td>Частичная занятость</td>\n",
       "      <td>1</td>\n",
       "      <td>1</td>\n",
       "      <td>1</td>\n",
       "      <td>NaN</td>\n",
       "    </tr>\n",
       "  </tbody>\n",
       "</table>\n",
       "</div>"
      ],
      "text/plain": [
       "            experience          schedule           employment  \\\n",
       "0          Более 6 лет     Гибкий график     Полная занятость   \n",
       "1          Более 6 лет     Гибкий график  Частичная занятость   \n",
       "2          Более 6 лет       Полный день     Полная занятость   \n",
       "3          Более 6 лет       Полный день     Полная занятость   \n",
       "4          Более 6 лет  Удаленная работа     Полная занятость   \n",
       "5          Более 6 лет  Удаленная работа     Полная занятость   \n",
       "6            Нет опыта     Гибкий график     Полная занятость   \n",
       "7            Нет опыта     Гибкий график           Стажировка   \n",
       "8            Нет опыта       Полный день     Полная занятость   \n",
       "9            Нет опыта       Полный день     Полная занятость   \n",
       "10           Нет опыта       Полный день           Стажировка   \n",
       "11           Нет опыта       Полный день           Стажировка   \n",
       "12           Нет опыта  Удаленная работа     Полная занятость   \n",
       "13           Нет опыта  Удаленная работа     Полная занятость   \n",
       "14           Нет опыта  Удаленная работа           Стажировка   \n",
       "15           Нет опыта  Удаленная работа           Стажировка   \n",
       "16  От 1 года до 3 лет    Вахтовый метод     Полная занятость   \n",
       "17  От 1 года до 3 лет     Гибкий график     Полная занятость   \n",
       "18  От 1 года до 3 лет     Гибкий график     Полная занятость   \n",
       "19  От 1 года до 3 лет     Гибкий график           Стажировка   \n",
       "20  От 1 года до 3 лет     Гибкий график  Частичная занятость   \n",
       "21  От 1 года до 3 лет       Полный день     Полная занятость   \n",
       "22  От 1 года до 3 лет       Полный день     Полная занятость   \n",
       "23  От 1 года до 3 лет    Сменный график     Полная занятость   \n",
       "24  От 1 года до 3 лет    Сменный график     Полная занятость   \n",
       "25  От 1 года до 3 лет    Сменный график  Частичная занятость   \n",
       "26  От 1 года до 3 лет  Удаленная работа     Полная занятость   \n",
       "27  От 1 года до 3 лет  Удаленная работа     Полная занятость   \n",
       "28  От 1 года до 3 лет  Удаленная работа  Частичная занятость   \n",
       "29  От 1 года до 3 лет  Удаленная работа  Частичная занятость   \n",
       "30       От 3 до 6 лет     Гибкий график     Полная занятость   \n",
       "31       От 3 до 6 лет     Гибкий график     Полная занятость   \n",
       "32       От 3 до 6 лет     Гибкий график     Проектная работа   \n",
       "33       От 3 до 6 лет       Полный день     Полная занятость   \n",
       "34       От 3 до 6 лет       Полный день     Полная занятость   \n",
       "35       От 3 до 6 лет       Полный день     Проектная работа   \n",
       "36       От 3 до 6 лет  Удаленная работа     Полная занятость   \n",
       "37       От 3 до 6 лет  Удаленная работа     Полная занятость   \n",
       "38       От 3 до 6 лет  Удаленная работа  Частичная занятость   \n",
       "39       От 3 до 6 лет  Удаленная работа  Частичная занятость   \n",
       "\n",
       "    is_python_requirement  vacancies  employers  salary_in_RUB  \n",
       "0                       0          3          2            NaN  \n",
       "1                       0          1          1            NaN  \n",
       "2                       0         42         30     318,000.00  \n",
       "3                       1         10          9            NaN  \n",
       "4                       0          9          7     450,000.00  \n",
       "5                       1         12         10     428,333.33  \n",
       "6                       1          2          2     225,000.00  \n",
       "7                       1          3          1            NaN  \n",
       "8                       0         26         17      67,571.43  \n",
       "9                       1         48          6      85,714.29  \n",
       "10                      0          7          4      66,100.00  \n",
       "11                      1          9          3            NaN  \n",
       "12                      0          2          2      56,000.00  \n",
       "13                      1          1          1            NaN  \n",
       "14                      0          2          2            NaN  \n",
       "15                      1         21          1     105,000.00  \n",
       "16                      0          1          1            NaN  \n",
       "17                      0          6          4     110,000.00  \n",
       "18                      1         17         14     155,000.00  \n",
       "19                      0          1          1            NaN  \n",
       "20                      1          1          1      47,500.00  \n",
       "21                      0        269        132     207,471.43  \n",
       "22                      1        148        104     164,065.22  \n",
       "23                      0          2          2            NaN  \n",
       "24                      1          1          1            NaN  \n",
       "25                      0          1          1            NaN  \n",
       "26                      0         50         36     178,333.33  \n",
       "27                      1         46         37     172,500.00  \n",
       "28                      0          1          1      30,000.00  \n",
       "29                      1          2          2            NaN  \n",
       "30                      0          8          6     508,250.00  \n",
       "31                      1          7          7            NaN  \n",
       "32                      0          1          1            NaN  \n",
       "33                      0        281        132     311,788.44  \n",
       "34                      1        152        105     342,744.44  \n",
       "35                      1          1          1     250,000.00  \n",
       "36                      0         89         56     364,678.57  \n",
       "37                      1         96         63     296,456.52  \n",
       "38                      0          1          1     150,000.00  \n",
       "39                      1          1          1            NaN  "
      ]
     },
     "execution_count": 25,
     "metadata": {},
     "output_type": "execute_result"
    }
   ],
   "source": [
    "def convert_salary(sum, currency):\n",
    "    exchange_rates = {\n",
    "        'RUR': 1,\n",
    "        'KZT': 0.19,\n",
    "        'UZS': 0.0075,\n",
    "        'USD': 95,\n",
    "        'EUR': 104,\n",
    "        'BYR': 0.032\n",
    "    }\n",
    "    \n",
    "    if sum is None or pd.isna(sum):\n",
    "        return None\n",
    "    \n",
    "    converted_sum = sum * exchange_rates[currency]\n",
    "    \n",
    "    return converted_sum\n",
    "\n",
    "df['salary_in_RUB'] = df.apply(\n",
    "    lambda row: convert_salary(row['salary_num'], row['currency']),\n",
    "    axis=1\n",
    ")\n",
    "\n",
    "pd.options.display.float_format = '{:,.2f}'.format\n",
    "\n",
    "df.groupby(['experience', 'schedule', 'employment', 'is_python_requirement'], as_index=False).agg(\n",
    "        vacancies = ('description', 'count'),\n",
    "        employers = ('employer_name', 'nunique'),\n",
    "        salary_in_RUB = ('salary_in_RUB', 'mean')\n",
    ")"
   ]
  },
  {
   "cell_type": "markdown",
   "metadata": {
    "id": "mMAof1a6A7Nt"
   },
   "source": [
    "14. Создайте столбец count_skills. В нём должна быть длина списка, который находит в столбце key_skills. Обратите внимание, что изначально столбец key_skills - строка, например, '[]' Подумайте, как превратить её в список и посчитать его длину.  **(3)**"
   ]
  },
  {
   "cell_type": "code",
   "execution_count": 26,
   "metadata": {
    "id": "M736nvxEA8st"
   },
   "outputs": [],
   "source": [
    "df['count_skills'] = df.key_skills.apply(lambda row: len(list(row.replace('[', '').replace(']', '').split(', '))))"
   ]
  },
  {
   "cell_type": "markdown",
   "metadata": {
    "id": "PmI6G9TtA86i"
   },
   "source": [
    "15. Создайте столбец len_descr, в котором должна быть длина описания (description) в символах без учета html тегов (\"<...>\"). Напишите для этого функцию get_len_descr.  **(3)** Можете использовать регулярные выражения.\n",
    "То есть, ваш код может выглядеть, например, так:"
   ]
  },
  {
   "cell_type": "code",
   "execution_count": 27,
   "metadata": {
    "id": "WPvyh6bxyGoJ"
   },
   "outputs": [],
   "source": [
    "import re\n",
    "\n",
    "pattern_html = re.compile(r'<[^>]+>')\n",
    "\n",
    "def get_len_descr(descr):\n",
    "  clean_descr = pattern_html.sub('', descr)\n",
    "  len_descr = len(clean_descr)\n",
    "  return len_descr\n",
    "\n",
    "df['len_descr'] = df['description'].apply(get_len_descr)"
   ]
  },
  {
   "cell_type": "markdown",
   "metadata": {
    "id": "M4gaf_ZP18L3"
   },
   "source": [
    "16. Постройте таблицу корреляций с тремя переменными: salary_num, len_descr, count_skills.  **(1)**"
   ]
  },
  {
   "cell_type": "code",
   "execution_count": 28,
   "metadata": {
    "id": "lrddFmyHBBVt"
   },
   "outputs": [
    {
     "data": {
      "text/html": [
       "<div>\n",
       "<style scoped>\n",
       "    .dataframe tbody tr th:only-of-type {\n",
       "        vertical-align: middle;\n",
       "    }\n",
       "\n",
       "    .dataframe tbody tr th {\n",
       "        vertical-align: top;\n",
       "    }\n",
       "\n",
       "    .dataframe thead th {\n",
       "        text-align: right;\n",
       "    }\n",
       "</style>\n",
       "<table border=\"1\" class=\"dataframe\">\n",
       "  <thead>\n",
       "    <tr style=\"text-align: right;\">\n",
       "      <th></th>\n",
       "      <th>salary_num</th>\n",
       "      <th>len_descr</th>\n",
       "      <th>count_skills</th>\n",
       "    </tr>\n",
       "  </thead>\n",
       "  <tbody>\n",
       "    <tr>\n",
       "      <th>salary_num</th>\n",
       "      <td>1.00</td>\n",
       "      <td>-0.01</td>\n",
       "      <td>-0.01</td>\n",
       "    </tr>\n",
       "    <tr>\n",
       "      <th>len_descr</th>\n",
       "      <td>-0.01</td>\n",
       "      <td>1.00</td>\n",
       "      <td>0.13</td>\n",
       "    </tr>\n",
       "    <tr>\n",
       "      <th>count_skills</th>\n",
       "      <td>-0.01</td>\n",
       "      <td>0.13</td>\n",
       "      <td>1.00</td>\n",
       "    </tr>\n",
       "  </tbody>\n",
       "</table>\n",
       "</div>"
      ],
      "text/plain": [
       "              salary_num  len_descr  count_skills\n",
       "salary_num          1.00      -0.01         -0.01\n",
       "len_descr          -0.01       1.00          0.13\n",
       "count_skills       -0.01       0.13          1.00"
      ]
     },
     "execution_count": 28,
     "metadata": {},
     "output_type": "execute_result"
    }
   ],
   "source": [
    "corr_table = df[['salary_num', 'len_descr', 'count_skills']].corr()\n",
    "\n",
    "corr_table"
   ]
  },
  {
   "cell_type": "markdown",
   "metadata": {
    "id": "LqU6aYgqBBfz"
   },
   "source": [
    "17. Постройте тепловую карту из таблицы из предыдущего пункта.  **(1)**"
   ]
  },
  {
   "cell_type": "code",
   "execution_count": 29,
   "metadata": {
    "id": "3wejDB_bBCkm"
   },
   "outputs": [
    {
     "data": {
      "image/png": "[encoded data removed]",
      "text/plain": [
       "<Figure size 640x480 with 2 Axes>"
      ]
     },
     "metadata": {},
     "output_type": "display_data"
    }
   ],
   "source": [
    "import matplotlib.pyplot as plt\n",
    "import seaborn as sns\n",
    "\n",
    "sns.heatmap(corr_table, cmap='RdBu', annot=True)\n",
    "plt.title(\"Таблица корреляций\")\n",
    "plt.show()"
   ]
  },
  {
   "cell_type": "markdown",
   "metadata": {
    "id": "hpgsm4IeBCug"
   },
   "source": [
    "18. Какие скиллы чаще всего требуются? Выведите топ-10 требуемых скиллов. **(3)**"
   ]
  },
  {
   "cell_type": "code",
   "execution_count": 30,
   "metadata": {
    "id": "T_9DUEdpBD3-"
   },
   "outputs": [
    {
     "name": "stdout",
     "output_type": "stream",
     "text": [
      "'Python': 578\n",
      "'SQL': 532\n",
      "'ETL': 146\n",
      "'Big Data': 125\n",
      "'Hadoop': 110\n",
      "'PostgreSQL': 107\n",
      "'DWH': 103\n",
      "'Clickhouse': 94\n",
      "'Английский язык': 82\n",
      "'Анализ данных': 76\n"
     ]
    }
   ],
   "source": [
    "# Немного не понял задание, поэтому сделаю двумя способами:\n",
    "\n",
    "# Способ 1: преобразует значения столбца key_skills в список\n",
    "# собирает все скиллы из списка key_skills в один список, считает частоту появления\n",
    "\n",
    "skill_list = []\n",
    "\n",
    "df['key_skills'].apply(lambda row: skill_list.extend(row.replace('[', '').replace(']', '').split(', ')))\n",
    "\n",
    "skill_list = [skill for skill in skill_list if skill] # очищает о пустых значений\n",
    "\n",
    "unique_skills = set(skill_list)\n",
    "\n",
    "sorted_counts = sorted(unique_skills, key=lambda x: skill_list.count(x), reverse=True)\n",
    "\n",
    "for skill in sorted_counts[:10]:\n",
    "    print(f\"{skill}: {skill_list.count(skill)}\")\n"
   ]
  },
  {
   "cell_type": "code",
   "execution_count": 31,
   "metadata": {},
   "outputs": [
    {
     "data": {
      "text/plain": [
       "key_skills\n",
       "[]                                                                                                                                   540\n",
       "['Python', 'Английский язык', 'Алгоритмы и структуры данных', 'Линейная алгебра', 'Теория вероятностей', 'Математический анализ']     39\n",
       "['Python', 'SQL']                                                                                                                     15\n",
       "['SQL', 'Python']                                                                                                                     14\n",
       "['SQL', 'ETL', 'DWH']                                                                                                                 11\n",
       "                                                                                                                                    ... \n",
       "['Python', 'numpy', 'pandas', 'scipy', 'statsmodels', 'Excel', 'PowerPoint']                                                           1\n",
       "['SQL', 'Python', 'Bash', 'Docker', 'Linux', 'MS SQL']                                                                                 1\n",
       "['SQL', 'DWH', 'Анализ данных', 'Big Data']                                                                                            1\n",
       "['SQL', 'Анализ данных', 'Python', 'Английский язык']                                                                                  1\n",
       "['Python', 'PySpark', 'Airflow', 'Kafka', 'Deltalake', 'k8s', 'Dremio', 'DWH', 'OLAP']                                                 1\n",
       "Name: count, Length: 653, dtype: int64"
      ]
     },
     "execution_count": 31,
     "metadata": {},
     "output_type": "execute_result"
    }
   ],
   "source": [
    "# Способ 2: просто применяет value_counts к столбцу key_skills\n",
    "\n",
    "df.key_skills.value_counts()"
   ]
  },
  {
   "cell_type": "markdown",
   "metadata": {
    "id": "10GCmqfjBECX"
   },
   "source": [
    "19. Постройте гистограмму распределения зарплаты среди вакансий в рублях.  **(3)**"
   ]
  },
  {
   "cell_type": "code",
   "execution_count": 32,
   "metadata": {
    "id": "L5hwQB7dBFN6"
   },
   "outputs": [
    {
     "data": {
      "image/png": "[encoded data removed]",
      "text/plain": [
       "<Figure size 640x480 with 1 Axes>"
      ]
     },
     "metadata": {},
     "output_type": "display_data"
    }
   ],
   "source": [
    "df.salary_in_RUB.hist(bins=15)\n",
    "plt.title(\"Распределение зарплаты в рублях\")\n",
    "plt.xlabel(\"Заработная плата, руб.\")\n",
    "plt.ylabel(\"Частота\")\n",
    "plt.show()"
   ]
  },
  {
   "cell_type": "markdown",
   "metadata": {
    "id": "U14lKFPBBFY0"
   },
   "source": [
    "20. Постройте boxplot зарплаты (среди вакансий в рублях) с группировкой по полю experience **(3)**"
   ]
  },
  {
   "cell_type": "code",
   "execution_count": 33,
   "metadata": {
    "id": "T677ZHyGBGiA"
   },
   "outputs": [
    {
     "data": {
      "text/plain": [
       "<Axes: xlabel='experience', ylabel='salary_in_RUB'>"
      ]
     },
     "execution_count": 33,
     "metadata": {},
     "output_type": "execute_result"
    },
    {
     "data": {
      "image/png": "[encoded data removed]",
      "text/plain": [
       "<Figure size 640x480 with 1 Axes>"
      ]
     },
     "metadata": {},
     "output_type": "display_data"
    }
   ],
   "source": [
    "sns.boxplot(df, y = 'salary_in_RUB', x = 'experience')"
   ]
  },
  {
   "cell_type": "markdown",
   "metadata": {
    "id": "Uz7TfcLzBGsn"
   },
   "source": [
    "21. Попробуйте ответить на какой-нибудь вопрос по данным, не заданный ранее. Никак не ограничиваем вашу фантазию **(3)**"
   ]
  },
  {
   "cell_type": "code",
   "execution_count": 34,
   "metadata": {
    "id": "1l_1DTWaBH28"
   },
   "outputs": [
    {
     "name": "stdout",
     "output_type": "stream",
     "text": [
      "<class 'pandas.core.frame.DataFrame'>\n",
      "Index: 1381 entries, 0 to 1526\n",
      "Data columns (total 16 columns):\n",
      " #   Column                 Non-Null Count  Dtype  \n",
      "---  ------                 --------------  -----  \n",
      " 0   position_name          1381 non-null   object \n",
      " 1   employer_name          1381 non-null   object \n",
      " 2   area                   1381 non-null   object \n",
      " 3   experience             1381 non-null   object \n",
      " 4   schedule               1381 non-null   object \n",
      " 5   employment             1381 non-null   object \n",
      " 6   professional_roles     1381 non-null   object \n",
      " 7   salary                 203 non-null    object \n",
      " 8   description            1381 non-null   object \n",
      " 9   key_skills             1381 non-null   object \n",
      " 10  currency               203 non-null    object \n",
      " 11  salary_num             203 non-null    float64\n",
      " 12  is_python_requirement  1381 non-null   int64  \n",
      " 13  salary_in_RUB          203 non-null    float64\n",
      " 14  count_skills           1381 non-null   int64  \n",
      " 15  len_descr              1381 non-null   int64  \n",
      "dtypes: float64(2), int64(3), object(11)\n",
      "memory usage: 183.4+ KB\n"
     ]
    }
   ],
   "source": [
    "df.info()"
   ]
  },
  {
   "cell_type": "code",
   "execution_count": 35,
   "metadata": {},
   "outputs": [
    {
     "data": {
      "text/plain": [
       "<Axes: xlabel='salary_in_RUB', ylabel='area'>"
      ]
     },
     "execution_count": 35,
     "metadata": {},
     "output_type": "execute_result"
    },
    {
     "data": {
      "image/png": "[encoded data removed]",
      "text/plain": [
       "<Figure size 640x480 with 1 Axes>"
      ]
     },
     "metadata": {},
     "output_type": "display_data"
    }
   ],
   "source": [
    "# Вопрос: где выше зарплата? В России или заграницей?\n",
    "\n",
    "city_df = df[df['salary_in_RUB'].notna()]\n",
    "sns.boxplot(data=city_df, x='salary_in_RUB', y='area')\n",
    "\n",
    "# Ответ: \n",
    "# 1) на Кипре, в Сербии и Тбилиси выше, чем в России. При этом количество вакансий в выборке достаточно мало для подтверждения вывода\n",
    "# 2) В Алматы и Астане зарплаты сопоставимы с городами-миллионниками России: Казань, Екатеринбург, Самара, Нижний Новгород\n",
    "# 3) В Ташкенте зарплаты сопоставимы с Москвой"
   ]
  },
  {
   "cell_type": "code",
   "execution_count": 36,
   "metadata": {},
   "outputs": [
    {
     "data": {
      "text/plain": [
       "area\n",
       "Сербия            508,250.00\n",
       "Кипр              464,666.67\n",
       "Тбилиси           457,583.33\n",
       "Ташкент           273,333.33\n",
       "Москва            264,190.00\n",
       "Краснодар         240,000.00\n",
       "Новосибирск       240,000.00\n",
       "Санкт-Петербург   197,023.81\n",
       "Пермь             170,000.00\n",
       "Самара            156,000.00\n",
       "Иннополис         152,500.00\n",
       "Алматы            150,954.55\n",
       "Казань            141,666.67\n",
       "Екатеринбург      127,500.00\n",
       "Ростов-на-Дону    122,500.00\n",
       "Name: salary_in_RUB, dtype: float64"
      ]
     },
     "execution_count": 36,
     "metadata": {},
     "output_type": "execute_result"
    }
   ],
   "source": [
    "city_df.groupby(['area'])['salary_in_RUB'].mean().sort_values(ascending=False).head(15)"
   ]
  },
  {
   "cell_type": "code",
   "execution_count": 40,
   "metadata": {},
   "outputs": [
    {
     "data": {
      "text/plain": [
       "area             experience        \n",
       "Тбилиси          Более 6 лет          665,000.00\n",
       "Сербия           От 3 до 6 лет        508,250.00\n",
       "Кипр             От 3 до 6 лет        489,000.00\n",
       "Тбилиси          От 3 до 6 лет        484,500.00\n",
       "Кипр             От 1 года до 3 лет   416,000.00\n",
       "Санкт-Петербург  Более 6 лет          400,000.00\n",
       "Ташкент          От 3 до 6 лет        380,000.00\n",
       "Москва           От 3 до 6 лет        341,404.17\n",
       "                 Более 6 лет          310,000.00\n",
       "Новосибирск      От 3 до 6 лет        307,500.00\n",
       "Самара           От 3 до 6 лет        250,000.00\n",
       "Санкт-Петербург  От 3 до 6 лет        245,714.29\n",
       "Екатеринбург     От 1 года до 3 лет   240,000.00\n",
       "Краснодар        От 1 года до 3 лет   240,000.00\n",
       "Москва           От 1 года до 3 лет   210,053.19\n",
       "Name: salary_in_RUB, dtype: float64"
      ]
     },
     "execution_count": 40,
     "metadata": {},
     "output_type": "execute_result"
    }
   ],
   "source": [
    "city_df.groupby(['area', 'experience'])['salary_in_RUB'].mean().sort_values(ascending=False).head(15)"
   ]
  },
  {
   "cell_type": "code",
   "execution_count": 42,
   "metadata": {},
   "outputs": [
    {
     "data": {
      "text/plain": [
       "area             experience        \n",
       "Кипр             От 1 года до 3 лет     1\n",
       "                 От 3 до 6 лет          2\n",
       "Москва           Более 6 лет            6\n",
       "                 Нет опыта              9\n",
       "                 От 1 года до 3 лет    47\n",
       "                 От 3 до 6 лет         48\n",
       "Санкт-Петербург  Более 6 лет            2\n",
       "                 Нет опыта              3\n",
       "                 От 1 года до 3 лет     9\n",
       "                 От 3 до 6 лет          7\n",
       "Сербия           От 3 до 6 лет          1\n",
       "Тбилиси          Более 6 лет            1\n",
       "                 От 1 года до 3 лет     1\n",
       "                 От 3 до 6 лет          4\n",
       "Name: experience, dtype: int64"
      ]
     },
     "execution_count": 42,
     "metadata": {},
     "output_type": "execute_result"
    }
   ],
   "source": [
    "city_df[(city_df['area'] == 'Сербия') | \n",
    "        (city_df['area'] == 'Тбилиси') | \n",
    "        (city_df['area'] == 'Кипр') | \n",
    "        (city_df['area'] == 'Москва') | \n",
    "        (city_df['area'] == 'Санкт-Петербург')].groupby(['area', 'experience'])['experience'].count()"
   ]
  },
  {
   "cell_type": "markdown",
   "metadata": {
    "id": "9ZSjIYU6C1yL"
   },
   "source": [
    "## Задача 2. 55 баллов\n",
    "Работаем с датасетом https://disk.yandex.ru/d/P6u1Za-nnmtwPA\n",
    "Скачайте его.\n",
    "\n",
    "Оцениваем факторы, которые влияют на цену на аренду в Москве.\n",
    "Описание столбцов:\n",
    "\n",
    "**metro** - ближайшая станция метро\n",
    "\n",
    "**price** - цена за аренды\n",
    "\n",
    "\n",
    "**minutes** - расстояние до метро в минутах\n",
    "\n",
    "**way** - пусть до метро (пешком или на транспорте)\n",
    "\n",
    "**views** - просмотры квартиры\n",
    "\n",
    "**provider** - кто сдает квартиру (собственник, риелтор, застройщик)\n",
    "\n",
    "**fee_percent** - процент, который получает риелтор\n",
    "\n",
    "**storey**- этаж\n",
    "\n",
    "**storeys**- число этажей в здании\n",
    "\n",
    "**living_area** - жилая площаль\n",
    "\n",
    "**kitchen_area** - площадь кухни\n",
    "\n",
    "**total_area** - общая площадь\n"
   ]
  },
  {
   "cell_type": "markdown",
   "metadata": {
    "id": "UjpdtQdW_0XM"
   },
   "source": [
    "#### Часть 1. EDA. 30 баллов"
   ]
  },
  {
   "cell_type": "code",
   "execution_count": 201,
   "metadata": {
    "colab": {
     "base_uri": "https://localhost:8080/",
     "height": 206
    },
    "id": "SgUSI0n2-K2_",
    "outputId": "ec3e4a01-e1da-4894-db4a-8da264254dc8"
   },
   "outputs": [],
   "source": [
    "import pandas as pd\n",
    "df = pd.read_csv('rent.csv', index_col=0)"
   ]
  },
  {
   "cell_type": "markdown",
   "metadata": {
    "id": "eGCgFWg3_7Re"
   },
   "source": [
    "1. Отобразите первые 5 и последние 5 строк. (**1**)"
   ]
  },
  {
   "cell_type": "code",
   "execution_count": 204,
   "metadata": {
    "id": "DpF0ROao-y82"
   },
   "outputs": [
    {
     "data": {
      "text/html": [
       "<div>\n",
       "<style scoped>\n",
       "    .dataframe tbody tr th:only-of-type {\n",
       "        vertical-align: middle;\n",
       "    }\n",
       "\n",
       "    .dataframe tbody tr th {\n",
       "        vertical-align: top;\n",
       "    }\n",
       "\n",
       "    .dataframe thead th {\n",
       "        text-align: right;\n",
       "    }\n",
       "</style>\n",
       "<table border=\"1\" class=\"dataframe\">\n",
       "  <thead>\n",
       "    <tr style=\"text-align: right;\">\n",
       "      <th></th>\n",
       "      <th>metro</th>\n",
       "      <th>price</th>\n",
       "      <th>way</th>\n",
       "      <th>views</th>\n",
       "      <th>provider</th>\n",
       "      <th>fee_percent</th>\n",
       "      <th>storey</th>\n",
       "      <th>minutes</th>\n",
       "      <th>storeys</th>\n",
       "      <th>living_area</th>\n",
       "      <th>kitchen_area</th>\n",
       "      <th>total_area</th>\n",
       "    </tr>\n",
       "  </thead>\n",
       "  <tbody>\n",
       "    <tr>\n",
       "      <th>0</th>\n",
       "      <td>Planernaia</td>\n",
       "      <td>45000</td>\n",
       "      <td>walk</td>\n",
       "      <td>513</td>\n",
       "      <td>realtor</td>\n",
       "      <td>50</td>\n",
       "      <td>7</td>\n",
       "      <td>10</td>\n",
       "      <td>12</td>\n",
       "      <td>19</td>\n",
       "      <td>8</td>\n",
       "      <td>38</td>\n",
       "    </tr>\n",
       "    <tr>\n",
       "      <th>1</th>\n",
       "      <td>VDNKh</td>\n",
       "      <td>50000</td>\n",
       "      <td>walk</td>\n",
       "      <td>389</td>\n",
       "      <td>realtor</td>\n",
       "      <td>50</td>\n",
       "      <td>16</td>\n",
       "      <td>10</td>\n",
       "      <td>16</td>\n",
       "      <td>18</td>\n",
       "      <td>8</td>\n",
       "      <td>41</td>\n",
       "    </tr>\n",
       "    <tr>\n",
       "      <th>2</th>\n",
       "      <td>Alekseevskaia</td>\n",
       "      <td>50000</td>\n",
       "      <td>walk</td>\n",
       "      <td>483</td>\n",
       "      <td>realtor</td>\n",
       "      <td>50</td>\n",
       "      <td>5</td>\n",
       "      <td>3</td>\n",
       "      <td>12</td>\n",
       "      <td>19</td>\n",
       "      <td>5</td>\n",
       "      <td>33</td>\n",
       "    </tr>\n",
       "    <tr>\n",
       "      <th>3</th>\n",
       "      <td>Sviblovo</td>\n",
       "      <td>38000</td>\n",
       "      <td>walk</td>\n",
       "      <td>414</td>\n",
       "      <td>realtor</td>\n",
       "      <td>50</td>\n",
       "      <td>3</td>\n",
       "      <td>15</td>\n",
       "      <td>5</td>\n",
       "      <td>37</td>\n",
       "      <td>37</td>\n",
       "      <td>37</td>\n",
       "    </tr>\n",
       "    <tr>\n",
       "      <th>4</th>\n",
       "      <td>Rimskaia</td>\n",
       "      <td>55999</td>\n",
       "      <td>walk</td>\n",
       "      <td>360</td>\n",
       "      <td>realtor</td>\n",
       "      <td>99</td>\n",
       "      <td>6</td>\n",
       "      <td>7</td>\n",
       "      <td>17</td>\n",
       "      <td>21</td>\n",
       "      <td>10</td>\n",
       "      <td>40</td>\n",
       "    </tr>\n",
       "  </tbody>\n",
       "</table>\n",
       "</div>"
      ],
      "text/plain": [
       "             metro  price   way  views                     provider  \\\n",
       "0      Planernaia   45000  walk    513  realtor                       \n",
       "1           VDNKh   50000  walk    389  realtor                       \n",
       "2   Alekseevskaia   50000  walk    483  realtor                       \n",
       "3        Sviblovo   38000  walk    414  realtor                       \n",
       "4        Rimskaia   55999  walk    360  realtor                       \n",
       "\n",
       "   fee_percent  storey  minutes  storeys  living_area  kitchen_area  \\\n",
       "0           50       7       10       12           19             8   \n",
       "1           50      16       10       16           18             8   \n",
       "2           50       5        3       12           19             5   \n",
       "3           50       3       15        5           37            37   \n",
       "4           99       6        7       17           21            10   \n",
       "\n",
       "   total_area  \n",
       "0          38  \n",
       "1          41  \n",
       "2          33  \n",
       "3          37  \n",
       "4          40  "
      ]
     },
     "execution_count": 204,
     "metadata": {},
     "output_type": "execute_result"
    }
   ],
   "source": [
    "df.head()"
   ]
  },
  {
   "cell_type": "code",
   "execution_count": 203,
   "metadata": {},
   "outputs": [
    {
     "data": {
      "text/html": [
       "<div>\n",
       "<style scoped>\n",
       "    .dataframe tbody tr th:only-of-type {\n",
       "        vertical-align: middle;\n",
       "    }\n",
       "\n",
       "    .dataframe tbody tr th {\n",
       "        vertical-align: top;\n",
       "    }\n",
       "\n",
       "    .dataframe thead th {\n",
       "        text-align: right;\n",
       "    }\n",
       "</style>\n",
       "<table border=\"1\" class=\"dataframe\">\n",
       "  <thead>\n",
       "    <tr style=\"text-align: right;\">\n",
       "      <th></th>\n",
       "      <th>metro</th>\n",
       "      <th>price</th>\n",
       "      <th>way</th>\n",
       "      <th>views</th>\n",
       "      <th>provider</th>\n",
       "      <th>fee_percent</th>\n",
       "      <th>storey</th>\n",
       "      <th>minutes</th>\n",
       "      <th>storeys</th>\n",
       "      <th>living_area</th>\n",
       "      <th>kitchen_area</th>\n",
       "      <th>total_area</th>\n",
       "    </tr>\n",
       "  </thead>\n",
       "  <tbody>\n",
       "    <tr>\n",
       "      <th>1441</th>\n",
       "      <td>Solntcevo</td>\n",
       "      <td>25000</td>\n",
       "      <td>walk</td>\n",
       "      <td>189</td>\n",
       "      <td>realtor</td>\n",
       "      <td>0</td>\n",
       "      <td>6</td>\n",
       "      <td>5</td>\n",
       "      <td>23</td>\n",
       "      <td>20</td>\n",
       "      <td>10</td>\n",
       "      <td>36</td>\n",
       "    </tr>\n",
       "    <tr>\n",
       "      <th>1442</th>\n",
       "      <td>Ulitca Starokachalovskaia</td>\n",
       "      <td>25000</td>\n",
       "      <td>walk</td>\n",
       "      <td>173</td>\n",
       "      <td>realtor</td>\n",
       "      <td>0</td>\n",
       "      <td>5</td>\n",
       "      <td>5</td>\n",
       "      <td>17</td>\n",
       "      <td>20</td>\n",
       "      <td>10</td>\n",
       "      <td>38</td>\n",
       "    </tr>\n",
       "    <tr>\n",
       "      <th>1443</th>\n",
       "      <td>Zhulebino</td>\n",
       "      <td>25000</td>\n",
       "      <td>walk</td>\n",
       "      <td>102</td>\n",
       "      <td>realtor</td>\n",
       "      <td>0</td>\n",
       "      <td>5</td>\n",
       "      <td>5</td>\n",
       "      <td>12</td>\n",
       "      <td>20</td>\n",
       "      <td>10</td>\n",
       "      <td>35</td>\n",
       "    </tr>\n",
       "    <tr>\n",
       "      <th>1444</th>\n",
       "      <td>Preobrazhenskaia ploshchad</td>\n",
       "      <td>40000</td>\n",
       "      <td>walk</td>\n",
       "      <td>60</td>\n",
       "      <td>realtor</td>\n",
       "      <td>30</td>\n",
       "      <td>3</td>\n",
       "      <td>17</td>\n",
       "      <td>9</td>\n",
       "      <td>20</td>\n",
       "      <td>8</td>\n",
       "      <td>35</td>\n",
       "    </tr>\n",
       "    <tr>\n",
       "      <th>1445</th>\n",
       "      <td>Rasskazovka</td>\n",
       "      <td>30000</td>\n",
       "      <td>walk</td>\n",
       "      <td>2728</td>\n",
       "      <td>owner</td>\n",
       "      <td>0</td>\n",
       "      <td>12</td>\n",
       "      <td>10</td>\n",
       "      <td>17</td>\n",
       "      <td>22</td>\n",
       "      <td>8</td>\n",
       "      <td>33</td>\n",
       "    </tr>\n",
       "  </tbody>\n",
       "</table>\n",
       "</div>"
      ],
      "text/plain": [
       "                             metro  price   way  views  \\\n",
       "1441                    Solntcevo   25000  walk    189   \n",
       "1442    Ulitca Starokachalovskaia   25000  walk    173   \n",
       "1443                    Zhulebino   25000  walk    102   \n",
       "1444   Preobrazhenskaia ploshchad   40000  walk     60   \n",
       "1445                  Rasskazovka   30000  walk   2728   \n",
       "\n",
       "                      provider  fee_percent  storey  minutes  storeys  \\\n",
       "1441  realtor                             0       6        5       23   \n",
       "1442  realtor                             0       5        5       17   \n",
       "1443  realtor                             0       5        5       12   \n",
       "1444  realtor                            30       3       17        9   \n",
       "1445    owner                             0      12       10       17   \n",
       "\n",
       "      living_area  kitchen_area  total_area  \n",
       "1441           20            10          36  \n",
       "1442           20            10          38  \n",
       "1443           20            10          35  \n",
       "1444           20             8          35  \n",
       "1445           22             8          33  "
      ]
     },
     "execution_count": 203,
     "metadata": {},
     "output_type": "execute_result"
    }
   ],
   "source": [
    "df.tail()"
   ]
  },
  {
   "cell_type": "markdown",
   "metadata": {
    "id": "y5oBbvPFABKE"
   },
   "source": [
    "2. Посчитайте описательные статистики числовых переменных с помощью describe() (**1**)"
   ]
  },
  {
   "cell_type": "code",
   "execution_count": 205,
   "metadata": {
    "id": "ILnVWv5H2m42"
   },
   "outputs": [
    {
     "data": {
      "text/html": [
       "<div>\n",
       "<style scoped>\n",
       "    .dataframe tbody tr th:only-of-type {\n",
       "        vertical-align: middle;\n",
       "    }\n",
       "\n",
       "    .dataframe tbody tr th {\n",
       "        vertical-align: top;\n",
       "    }\n",
       "\n",
       "    .dataframe thead th {\n",
       "        text-align: right;\n",
       "    }\n",
       "</style>\n",
       "<table border=\"1\" class=\"dataframe\">\n",
       "  <thead>\n",
       "    <tr style=\"text-align: right;\">\n",
       "      <th></th>\n",
       "      <th>price</th>\n",
       "      <th>views</th>\n",
       "      <th>fee_percent</th>\n",
       "      <th>storey</th>\n",
       "      <th>minutes</th>\n",
       "      <th>storeys</th>\n",
       "      <th>living_area</th>\n",
       "      <th>kitchen_area</th>\n",
       "      <th>total_area</th>\n",
       "    </tr>\n",
       "  </thead>\n",
       "  <tbody>\n",
       "    <tr>\n",
       "      <th>count</th>\n",
       "      <td>1,446.00</td>\n",
       "      <td>1,446.00</td>\n",
       "      <td>1,446.00</td>\n",
       "      <td>1,446.00</td>\n",
       "      <td>1,446.00</td>\n",
       "      <td>1,446.00</td>\n",
       "      <td>1,446.00</td>\n",
       "      <td>1,446.00</td>\n",
       "      <td>1,446.00</td>\n",
       "    </tr>\n",
       "    <tr>\n",
       "      <th>mean</th>\n",
       "      <td>43,770.74</td>\n",
       "      <td>417.92</td>\n",
       "      <td>37.95</td>\n",
       "      <td>7.09</td>\n",
       "      <td>8.75</td>\n",
       "      <td>22.55</td>\n",
       "      <td>20.59</td>\n",
       "      <td>11.37</td>\n",
       "      <td>37.27</td>\n",
       "    </tr>\n",
       "    <tr>\n",
       "      <th>std</th>\n",
       "      <td>33,232.15</td>\n",
       "      <td>936.53</td>\n",
       "      <td>26.89</td>\n",
       "      <td>16.51</td>\n",
       "      <td>4.71</td>\n",
       "      <td>347.28</td>\n",
       "      <td>5.61</td>\n",
       "      <td>8.08</td>\n",
       "      <td>6.14</td>\n",
       "    </tr>\n",
       "    <tr>\n",
       "      <th>min</th>\n",
       "      <td>14,000.00</td>\n",
       "      <td>4.00</td>\n",
       "      <td>0.00</td>\n",
       "      <td>1.00</td>\n",
       "      <td>0.00</td>\n",
       "      <td>1.00</td>\n",
       "      <td>6.00</td>\n",
       "      <td>3.00</td>\n",
       "      <td>1.00</td>\n",
       "    </tr>\n",
       "    <tr>\n",
       "      <th>25%</th>\n",
       "      <td>29,000.00</td>\n",
       "      <td>38.00</td>\n",
       "      <td>0.00</td>\n",
       "      <td>4.00</td>\n",
       "      <td>5.00</td>\n",
       "      <td>9.00</td>\n",
       "      <td>18.00</td>\n",
       "      <td>7.00</td>\n",
       "      <td>34.00</td>\n",
       "    </tr>\n",
       "    <tr>\n",
       "      <th>50%</th>\n",
       "      <td>38,000.00</td>\n",
       "      <td>103.00</td>\n",
       "      <td>50.00</td>\n",
       "      <td>6.00</td>\n",
       "      <td>7.00</td>\n",
       "      <td>12.00</td>\n",
       "      <td>20.00</td>\n",
       "      <td>10.00</td>\n",
       "      <td>37.00</td>\n",
       "    </tr>\n",
       "    <tr>\n",
       "      <th>75%</th>\n",
       "      <td>45,000.00</td>\n",
       "      <td>414.00</td>\n",
       "      <td>50.00</td>\n",
       "      <td>9.00</td>\n",
       "      <td>12.00</td>\n",
       "      <td>16.00</td>\n",
       "      <td>21.00</td>\n",
       "      <td>10.00</td>\n",
       "      <td>40.00</td>\n",
       "    </tr>\n",
       "    <tr>\n",
       "      <th>max</th>\n",
       "      <td>500,000.00</td>\n",
       "      <td>5,174.00</td>\n",
       "      <td>100.00</td>\n",
       "      <td>613.00</td>\n",
       "      <td>47.00</td>\n",
       "      <td>13,217.00</td>\n",
       "      <td>37.00</td>\n",
       "      <td>37.00</td>\n",
       "      <td>57.00</td>\n",
       "    </tr>\n",
       "  </tbody>\n",
       "</table>\n",
       "</div>"
      ],
      "text/plain": [
       "           price    views  fee_percent   storey  minutes   storeys  \\\n",
       "count   1,446.00 1,446.00     1,446.00 1,446.00 1,446.00  1,446.00   \n",
       "mean   43,770.74   417.92        37.95     7.09     8.75     22.55   \n",
       "std    33,232.15   936.53        26.89    16.51     4.71    347.28   \n",
       "min    14,000.00     4.00         0.00     1.00     0.00      1.00   \n",
       "25%    29,000.00    38.00         0.00     4.00     5.00      9.00   \n",
       "50%    38,000.00   103.00        50.00     6.00     7.00     12.00   \n",
       "75%    45,000.00   414.00        50.00     9.00    12.00     16.00   \n",
       "max   500,000.00 5,174.00       100.00   613.00    47.00 13,217.00   \n",
       "\n",
       "       living_area  kitchen_area  total_area  \n",
       "count     1,446.00      1,446.00    1,446.00  \n",
       "mean         20.59         11.37       37.27  \n",
       "std           5.61          8.08        6.14  \n",
       "min           6.00          3.00        1.00  \n",
       "25%          18.00          7.00       34.00  \n",
       "50%          20.00         10.00       37.00  \n",
       "75%          21.00         10.00       40.00  \n",
       "max          37.00         37.00       57.00  "
      ]
     },
     "execution_count": 205,
     "metadata": {},
     "output_type": "execute_result"
    }
   ],
   "source": [
    "df.describe()"
   ]
  },
  {
   "cell_type": "markdown",
   "metadata": {
    "id": "7usD_yJhAFcM"
   },
   "source": [
    "3. Посчитайте статистики по категориальным переменным. Сколько уникальных значений у переменной metro? (**1**)"
   ]
  },
  {
   "cell_type": "code",
   "execution_count": 207,
   "metadata": {
    "id": "4Wq_OPP-2oXY"
   },
   "outputs": [
    {
     "data": {
      "text/html": [
       "<div>\n",
       "<style scoped>\n",
       "    .dataframe tbody tr th:only-of-type {\n",
       "        vertical-align: middle;\n",
       "    }\n",
       "\n",
       "    .dataframe tbody tr th {\n",
       "        vertical-align: top;\n",
       "    }\n",
       "\n",
       "    .dataframe thead th {\n",
       "        text-align: right;\n",
       "    }\n",
       "</style>\n",
       "<table border=\"1\" class=\"dataframe\">\n",
       "  <thead>\n",
       "    <tr style=\"text-align: right;\">\n",
       "      <th></th>\n",
       "      <th>metro</th>\n",
       "      <th>way</th>\n",
       "      <th>provider</th>\n",
       "    </tr>\n",
       "  </thead>\n",
       "  <tbody>\n",
       "    <tr>\n",
       "      <th>count</th>\n",
       "      <td>1446</td>\n",
       "      <td>1446</td>\n",
       "      <td>1446</td>\n",
       "    </tr>\n",
       "    <tr>\n",
       "      <th>unique</th>\n",
       "      <td>119</td>\n",
       "      <td>2</td>\n",
       "      <td>7</td>\n",
       "    </tr>\n",
       "    <tr>\n",
       "      <th>top</th>\n",
       "      <td>Planernaia</td>\n",
       "      <td>walk</td>\n",
       "      <td>realtor</td>\n",
       "    </tr>\n",
       "    <tr>\n",
       "      <th>freq</th>\n",
       "      <td>126</td>\n",
       "      <td>1331</td>\n",
       "      <td>615</td>\n",
       "    </tr>\n",
       "  </tbody>\n",
       "</table>\n",
       "</div>"
      ],
      "text/plain": [
       "               metro   way                     provider\n",
       "count           1446  1446                         1446\n",
       "unique           119     2                            7\n",
       "top      Planernaia   walk  realtor                    \n",
       "freq             126  1331                          615"
      ]
     },
     "execution_count": 207,
     "metadata": {},
     "output_type": "execute_result"
    }
   ],
   "source": [
    "df.describe(include='object')\n",
    "\n",
    "# Ответ: у переменной metro 116 уникальных значений"
   ]
  },
  {
   "cell_type": "markdown",
   "metadata": {
    "id": "oUEqnjqyAQMe"
   },
   "source": [
    "4. Есть ли в датасете пропуски? (**1**)"
   ]
  },
  {
   "cell_type": "code",
   "execution_count": null,
   "metadata": {
    "id": "-u4gQKhh2pyY"
   },
   "outputs": [],
   "source": []
  },
  {
   "cell_type": "markdown",
   "metadata": {
    "id": "7KtlsjmpBmEB"
   },
   "source": [
    "5. Есть ли в датасете полные дубликаты? (**2**)"
   ]
  },
  {
   "cell_type": "code",
   "execution_count": null,
   "metadata": {
    "id": "FeZp_mTZB2xo"
   },
   "outputs": [],
   "source": []
  },
  {
   "cell_type": "markdown",
   "metadata": {
    "id": "ASWC36XyB29n"
   },
   "source": [
    "6. Сколько уникальных значений у переменной provider? Есть ли со значениями этой переменной какие-нибудь проблемы? Если да, то как их исправить? (**3**)"
   ]
  },
  {
   "cell_type": "markdown",
   "metadata": {
    "id": "ozH4vmqKD9Ly"
   },
   "source": [
    "> Ответ текстом"
   ]
  },
  {
   "cell_type": "code",
   "execution_count": null,
   "metadata": {
    "id": "3YfiRckICUKO"
   },
   "outputs": [],
   "source": []
  },
  {
   "cell_type": "markdown",
   "metadata": {
    "id": "7b5srBa7CUcv"
   },
   "source": [
    "7. Постройте гистограммы распределения всех числовых переменных. Не забудьте подписать график и оси. (**2**)"
   ]
  },
  {
   "cell_type": "code",
   "execution_count": null,
   "metadata": {
    "id": "i1cFzXj8DSGk"
   },
   "outputs": [],
   "source": []
  },
  {
   "cell_type": "markdown",
   "metadata": {
    "id": "4RZyVuc4DSRR"
   },
   "source": [
    " 8. Напишите функцию, которая принимает на вход датасет, названия столбцов, название графика и осей и рисует scatter plot. Нариcуйте с её помощью не менее трёх scatterplot. (**4**)"
   ]
  },
  {
   "cell_type": "code",
   "execution_count": null,
   "metadata": {
    "id": "aVUY5RlKDaQu"
   },
   "outputs": [],
   "source": []
  },
  {
   "cell_type": "markdown",
   "metadata": {
    "id": "c53GvOYGDadO"
   },
   "source": [
    "9. Нарисуйте scatterplot всех пар переменных с помощью sns.pairplot. (**1**)"
   ]
  },
  {
   "cell_type": "code",
   "execution_count": null,
   "metadata": {
    "id": "cmKka3fsDoxu"
   },
   "outputs": [],
   "source": []
  },
  {
   "cell_type": "markdown",
   "metadata": {
    "id": "1Dw5N8iPDpJ9"
   },
   "source": [
    "10. Нарисуйте boxplot переменной price. (**2**)"
   ]
  },
  {
   "cell_type": "code",
   "execution_count": null,
   "metadata": {
    "id": "KzeIsRXsDuRC"
   },
   "outputs": [],
   "source": []
  },
  {
   "cell_type": "markdown",
   "metadata": {
    "id": "dRijYzMEDui_"
   },
   "source": [
    "11. Нарисуйте еще какой-нибудь график, который считайте нужным. (**2**)"
   ]
  },
  {
   "cell_type": "code",
   "execution_count": null,
   "metadata": {
    "id": "3JpoeYkEDzr8"
   },
   "outputs": [],
   "source": []
  },
  {
   "cell_type": "markdown",
   "metadata": {
    "id": "RpGcRmzhD0Ff"
   },
   "source": [
    "12. Какие выводы можно сделать из визуализаций 7-12? (**2**)"
   ]
  },
  {
   "cell_type": "markdown",
   "metadata": {
    "id": "2K5Q00t7D6Ob"
   },
   "source": [
    "> Ответ текстом"
   ]
  },
  {
   "cell_type": "markdown",
   "metadata": {
    "id": "I58zzA9zD5PI"
   },
   "source": [
    "13. Постройте таблицу корреляций и тепловую карту числовых переменных. Между какими переменными наблюдается линейная связь? (**3**)"
   ]
  },
  {
   "cell_type": "code",
   "execution_count": null,
   "metadata": {
    "id": "APvRd8D3EPZu"
   },
   "outputs": [],
   "source": []
  },
  {
   "cell_type": "markdown",
   "metadata": {
    "id": "rhsWGlS5EPlM"
   },
   "source": [
    "> Ответ текстом"
   ]
  },
  {
   "cell_type": "markdown",
   "metadata": {
    "id": "7nxokPQ6EXNd"
   },
   "source": [
    "#### Часть 2. Построение модели. 30 баллов"
   ]
  },
  {
   "cell_type": "markdown",
   "metadata": {
    "id": "qTJTY_moEaEX"
   },
   "source": [
    "1. Раздйлите датасет на обучающую и тестовую выборку. Постройте линейную регрессию для переменной price, используя только числовые переменные. Перед этим стандартизируйте все независимые переменные с помощью StandardScaler. (**5**)"
   ]
  },
  {
   "cell_type": "code",
   "execution_count": null,
   "metadata": {
    "id": "IOHjx5NjEj6f"
   },
   "outputs": [],
   "source": [
    "from sklearn.linear_model import LinearRegression\n",
    "from sklearn.metrics import mean_squared_error as MSE,  root_mean_squared_error as RMSE\n",
    "from sklearn.model_selection import train_test_split\n",
    "from sklearn.preprocessing import StandardScaler"
   ]
  },
  {
   "cell_type": "code",
   "execution_count": null,
   "metadata": {
    "id": "RInTExR0E2fz"
   },
   "outputs": [],
   "source": []
  },
  {
   "cell_type": "markdown",
   "metadata": {
    "id": "fTJhwdnxE231"
   },
   "source": [
    "2. Сделайте прогноз, посчитайте MSE и RMSE модели на тестовой выборке (**5**)"
   ]
  },
  {
   "cell_type": "code",
   "execution_count": null,
   "metadata": {
    "id": "Xt-lHykxFQlf"
   },
   "outputs": [],
   "source": []
  },
  {
   "cell_type": "markdown",
   "metadata": {
    "id": "Jh3_pHTMFQxC"
   },
   "source": [
    "3. Закодируйте переменные way\tи\tprovider с помощью OneHotEncoding и добавьте их в модель. Обучите модель еще раз, посчитайте MSE и RMSE (**5**)"
   ]
  },
  {
   "cell_type": "code",
   "execution_count": null,
   "metadata": {
    "id": "YRHGsQerFlXw"
   },
   "outputs": [],
   "source": []
  },
  {
   "cell_type": "markdown",
   "metadata": {
    "id": "_ku9t-6EFmm6"
   },
   "source": [
    "4. Удалите из обучающей выборке выбросы по цене (тестовую выборку не трогайте!) Выбросами считайте цены, которые дороже, чем $Q3+1.5 * IQR$, где $IQR$ - межквартильный размах, $Q3$ - 75 перцентиль. Обучите модель еще раз, посчитайте MSE и RMSE (**5**)"
   ]
  },
  {
   "cell_type": "code",
   "execution_count": null,
   "metadata": {
    "id": "XLZDY8YaGFYc"
   },
   "outputs": [],
   "source": []
  },
  {
   "cell_type": "markdown",
   "metadata": {
    "id": "bsX2ZF3kGFjR"
   },
   "source": [
    "5. Попробуйте написать свою реализацию функций MSE и RMSE. Функции должна принимать на вход numpy-массив истинных значений и предсказаний и возвращать результат. Примените функции к предсказаниям последней модели. Сравните результат с библиотечной реализацией. (**6**)\n",
    "\n",
    "Напоминаем, что\n",
    "\n",
    "${MSE}=\\frac{1}{n} \\sum_{i=1}^n \\left(y_i-\\hat{y_i}\\right)^2$, где $y_i$ - истинное значение на i-ом наблюдении, $\\hat{y_i}$  - предсказание модели на i-ом наблюдении.\n",
    "\n",
    "Также рекомендуем ознакомиться с документацией: https://scikit-learn.org/stable/modules/generated/sklearn.metrics.mean_squared_error.html"
   ]
  },
  {
   "cell_type": "code",
   "execution_count": null,
   "metadata": {
    "id": "0f9_b9F1GoRL"
   },
   "outputs": [],
   "source": [
    "def MSE(y_true, y_pred):\n",
    "    # ваш код\n",
    "\n",
    "    return mse"
   ]
  },
  {
   "cell_type": "code",
   "execution_count": null,
   "metadata": {
    "id": "qvWb-mbeG4R-"
   },
   "outputs": [],
   "source": [
    "def RMSE(y_true, y_pred):\n",
    "    # ваш код\n",
    "\n",
    "    return rmse"
   ]
  },
  {
   "cell_type": "markdown",
   "metadata": {
    "id": "LGWfxGkkG7nf"
   },
   "source": [
    "6. Попробуйте улучшить модель, добавив еще какое-нибудь преобразование (например, можете оставить только часть столбцов, добавить новые признаки, закодировать переменную metro и т.п.). Посчитайте метрики. Удалось ли улучшить модель? (**4**)\n",
    "\n",
    "*Примечание. Любой разумный технически верно проведенный эксперимент\n",
    " засчитывается, даже если метрику улучшить не удалось.*"
   ]
  }
 ],
 "metadata": {
  "colab": {
   "provenance": []
  },
  "kernelspec": {
   "display_name": "base",
   "language": "python",
   "name": "python3"
  },
  "language_info": {
   "codemirror_mode": {
    "name": "ipython",
    "version": 3
   },
   "file_extension": ".py",
   "mimetype": "text/x-python",
   "name": "python",
   "nbconvert_exporter": "python",
   "pygments_lexer": "ipython3",
   "version": "3.11.5"
  }
 },
 "nbformat": 4,
 "nbformat_minor": 4
}
